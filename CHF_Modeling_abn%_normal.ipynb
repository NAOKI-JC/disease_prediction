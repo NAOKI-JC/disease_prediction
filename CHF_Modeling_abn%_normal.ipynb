{
 "cells": [
  {
   "cell_type": "code",
   "execution_count": 1,
   "metadata": {},
   "outputs": [],
   "source": [
    "import pandas as pd\n",
    "import pickle\n",
    "import numpy as np\n",
    "import matplotlib.pyplot as plt\n",
    "\n",
    "from sklearn.linear_model import LogisticRegression\n",
    "from sklearn.ensemble import GradientBoostingClassifier\n",
    "from sklearn.ensemble import RandomForestClassifier\n",
    "from sklearn.model_selection import GridSearchCV\n",
    "\n",
    "from sklearn.metrics import accuracy_score, confusion_matrix, precision_score, recall_score, f1_score\n",
    "from sklearn.metrics import plot_roc_curve\n",
    "from sklearn.metrics import roc_auc_score\n",
    "from sklearn.model_selection import validation_curve\n",
    "\n",
    "from sklearn import model_selection\n",
    "from imblearn.over_sampling import SMOTE\n",
    "from imblearn.under_sampling import NearMiss"
   ]
  },
  {
   "cell_type": "code",
   "execution_count": 2,
   "metadata": {},
   "outputs": [],
   "source": [
    "import sklearn"
   ]
  },
  {
   "cell_type": "code",
   "execution_count": 3,
   "metadata": {},
   "outputs": [],
   "source": [
    "pd.set_option('display.max_columns',None)"
   ]
  },
  {
   "cell_type": "markdown",
   "metadata": {},
   "source": [
    "## Import cleaned dataset\n",
    "### Simple model using just Abn% + demographics"
   ]
  },
  {
   "cell_type": "code",
   "execution_count": 4,
   "metadata": {},
   "outputs": [],
   "source": [
    "pos_final_test = pd.read_csv('./data/pos_final_test.csv.gz', compression='gzip')\n",
    "\n",
    "model_cols = pos_final_test.columns.str.contains('abn') | pos_final_test.columns.isin(['gender', 'age','ethnicity_AMERICAN INDIAN/ALASKA NATIVE', 'ethnicity_ASIAN','ethnicity_BLACK/AFRICAN AMERICAN', 'ethnicity_HISPANIC/LATINO','ethnicity_OTHER', 'ethnicity_UNKNOWN'])\n",
    "hadm_features = pos_final_test.loc[:, model_cols]\n",
    "hadm_target = pos_final_test.loc[:, 'pos']\n",
    "\n",
    "# pos_final_test.columns.str.contains('mean') | pos_final_test.columns.str.contains('below') |pos_final_test.columns.str.contains('above') |"
   ]
  },
  {
   "cell_type": "code",
   "execution_count": 5,
   "metadata": {},
   "outputs": [],
   "source": [
    "# from sklearn import preprocessing\n",
    "# le = preprocessing.LabelEncoder()\n",
    "# hadm_features['ethnicity'] = le.fit_transform(hadm_features['ethnicity'])\n",
    "# hadm_features['gender'] = le.fit_transform(hadm_features['gender'])\n",
    "\n",
    "# from sklearn.preprocessing import StandardScaler\n",
    "# scaler = StandardScaler()\n",
    "# hadm_features['age'] = scaler.fit_transform(hadm_features['age'].values.reshape(-1, 1))"
   ]
  },
  {
   "cell_type": "code",
   "execution_count": 6,
   "metadata": {},
   "outputs": [
    {
     "data": {
      "text/html": [
       "<div>\n",
       "<style scoped>\n",
       "    .dataframe tbody tr th:only-of-type {\n",
       "        vertical-align: middle;\n",
       "    }\n",
       "\n",
       "    .dataframe tbody tr th {\n",
       "        vertical-align: top;\n",
       "    }\n",
       "\n",
       "    .dataframe thead th {\n",
       "        text-align: right;\n",
       "    }\n",
       "</style>\n",
       "<table border=\"1\" class=\"dataframe\">\n",
       "  <thead>\n",
       "    <tr style=\"text-align: right;\">\n",
       "      <th></th>\n",
       "      <th>('abn_percent', 50868)</th>\n",
       "      <th>('abn_percent', 50882)</th>\n",
       "      <th>('abn_percent', 50902)</th>\n",
       "      <th>('abn_percent', 50912)</th>\n",
       "      <th>('abn_percent', 50931)</th>\n",
       "      <th>('abn_percent', 50971)</th>\n",
       "      <th>('abn_percent', 50983)</th>\n",
       "      <th>('abn_percent', 51006)</th>\n",
       "      <th>('abn_percent', 51221)</th>\n",
       "      <th>('abn_percent', 51222)</th>\n",
       "      <th>('abn_percent', 51248)</th>\n",
       "      <th>('abn_percent', 51249)</th>\n",
       "      <th>('abn_percent', 51250)</th>\n",
       "      <th>('abn_percent', 51265)</th>\n",
       "      <th>('abn_percent', 51277)</th>\n",
       "      <th>('abn_percent', 51279)</th>\n",
       "      <th>('abn_percent', 51301)</th>\n",
       "      <th>gender</th>\n",
       "      <th>age</th>\n",
       "      <th>ethnicity_AMERICAN INDIAN/ALASKA NATIVE</th>\n",
       "      <th>ethnicity_ASIAN</th>\n",
       "      <th>ethnicity_BLACK/AFRICAN AMERICAN</th>\n",
       "      <th>ethnicity_HISPANIC/LATINO</th>\n",
       "      <th>ethnicity_OTHER</th>\n",
       "      <th>ethnicity_UNKNOWN</th>\n",
       "    </tr>\n",
       "  </thead>\n",
       "  <tbody>\n",
       "    <tr>\n",
       "      <th>0</th>\n",
       "      <td>0.992148</td>\n",
       "      <td>2.971940</td>\n",
       "      <td>-0.185223</td>\n",
       "      <td>1.796065</td>\n",
       "      <td>1.092715</td>\n",
       "      <td>-0.358973</td>\n",
       "      <td>1.518875</td>\n",
       "      <td>1.820375</td>\n",
       "      <td>0.366535</td>\n",
       "      <td>0.319584</td>\n",
       "      <td>-0.603395</td>\n",
       "      <td>-0.620344</td>\n",
       "      <td>-0.442628</td>\n",
       "      <td>0.205057</td>\n",
       "      <td>-0.477265</td>\n",
       "      <td>0.695477</td>\n",
       "      <td>1.779490</td>\n",
       "      <td>0.0</td>\n",
       "      <td>1.153246</td>\n",
       "      <td>0</td>\n",
       "      <td>0</td>\n",
       "      <td>0</td>\n",
       "      <td>0</td>\n",
       "      <td>0</td>\n",
       "      <td>1</td>\n",
       "    </tr>\n",
       "    <tr>\n",
       "      <th>1</th>\n",
       "      <td>-0.313839</td>\n",
       "      <td>-0.497671</td>\n",
       "      <td>1.352803</td>\n",
       "      <td>0.450715</td>\n",
       "      <td>0.276736</td>\n",
       "      <td>-0.358973</td>\n",
       "      <td>-0.375382</td>\n",
       "      <td>-0.721625</td>\n",
       "      <td>0.792468</td>\n",
       "      <td>0.781058</td>\n",
       "      <td>-0.603395</td>\n",
       "      <td>2.166124</td>\n",
       "      <td>1.371060</td>\n",
       "      <td>-0.578435</td>\n",
       "      <td>-0.477265</td>\n",
       "      <td>0.695477</td>\n",
       "      <td>-0.289134</td>\n",
       "      <td>0.0</td>\n",
       "      <td>-0.441483</td>\n",
       "      <td>0</td>\n",
       "      <td>0</td>\n",
       "      <td>0</td>\n",
       "      <td>0</td>\n",
       "      <td>0</td>\n",
       "      <td>0</td>\n",
       "    </tr>\n",
       "    <tr>\n",
       "      <th>2</th>\n",
       "      <td>-0.313839</td>\n",
       "      <td>0.359023</td>\n",
       "      <td>3.232613</td>\n",
       "      <td>1.651921</td>\n",
       "      <td>1.092715</td>\n",
       "      <td>0.322577</td>\n",
       "      <td>1.708301</td>\n",
       "      <td>1.502625</td>\n",
       "      <td>-1.550162</td>\n",
       "      <td>-1.526309</td>\n",
       "      <td>1.588998</td>\n",
       "      <td>-0.620344</td>\n",
       "      <td>2.580186</td>\n",
       "      <td>-0.219335</td>\n",
       "      <td>-0.477265</td>\n",
       "      <td>0.695477</td>\n",
       "      <td>0.163378</td>\n",
       "      <td>1.0</td>\n",
       "      <td>1.359017</td>\n",
       "      <td>0</td>\n",
       "      <td>0</td>\n",
       "      <td>0</td>\n",
       "      <td>0</td>\n",
       "      <td>0</td>\n",
       "      <td>0</td>\n",
       "    </tr>\n",
       "    <tr>\n",
       "      <th>3</th>\n",
       "      <td>-0.313839</td>\n",
       "      <td>-0.497671</td>\n",
       "      <td>-0.527006</td>\n",
       "      <td>-0.510250</td>\n",
       "      <td>-1.355224</td>\n",
       "      <td>-0.358973</td>\n",
       "      <td>-0.375382</td>\n",
       "      <td>-0.721625</td>\n",
       "      <td>0.792468</td>\n",
       "      <td>0.781058</td>\n",
       "      <td>1.902197</td>\n",
       "      <td>-0.620344</td>\n",
       "      <td>2.580186</td>\n",
       "      <td>-0.578435</td>\n",
       "      <td>-0.477265</td>\n",
       "      <td>0.695477</td>\n",
       "      <td>-0.806290</td>\n",
       "      <td>0.0</td>\n",
       "      <td>-1.316012</td>\n",
       "      <td>0</td>\n",
       "      <td>0</td>\n",
       "      <td>0</td>\n",
       "      <td>0</td>\n",
       "      <td>0</td>\n",
       "      <td>0</td>\n",
       "    </tr>\n",
       "    <tr>\n",
       "      <th>4</th>\n",
       "      <td>-0.313839</td>\n",
       "      <td>-0.497671</td>\n",
       "      <td>-0.527006</td>\n",
       "      <td>-0.510250</td>\n",
       "      <td>1.092715</td>\n",
       "      <td>-0.358973</td>\n",
       "      <td>-0.375382</td>\n",
       "      <td>-0.721625</td>\n",
       "      <td>-1.550162</td>\n",
       "      <td>0.781058</td>\n",
       "      <td>-0.603395</td>\n",
       "      <td>-0.620344</td>\n",
       "      <td>-0.442628</td>\n",
       "      <td>-0.578435</td>\n",
       "      <td>-0.477265</td>\n",
       "      <td>0.695477</td>\n",
       "      <td>1.779490</td>\n",
       "      <td>0.0</td>\n",
       "      <td>-1.110241</td>\n",
       "      <td>0</td>\n",
       "      <td>0</td>\n",
       "      <td>0</td>\n",
       "      <td>0</td>\n",
       "      <td>0</td>\n",
       "      <td>0</td>\n",
       "    </tr>\n",
       "    <tr>\n",
       "      <th>...</th>\n",
       "      <td>...</td>\n",
       "      <td>...</td>\n",
       "      <td>...</td>\n",
       "      <td>...</td>\n",
       "      <td>...</td>\n",
       "      <td>...</td>\n",
       "      <td>...</td>\n",
       "      <td>...</td>\n",
       "      <td>...</td>\n",
       "      <td>...</td>\n",
       "      <td>...</td>\n",
       "      <td>...</td>\n",
       "      <td>...</td>\n",
       "      <td>...</td>\n",
       "      <td>...</td>\n",
       "      <td>...</td>\n",
       "      <td>...</td>\n",
       "      <td>...</td>\n",
       "      <td>...</td>\n",
       "      <td>...</td>\n",
       "      <td>...</td>\n",
       "      <td>...</td>\n",
       "      <td>...</td>\n",
       "      <td>...</td>\n",
       "      <td>...</td>\n",
       "    </tr>\n",
       "    <tr>\n",
       "      <th>8555</th>\n",
       "      <td>-0.313839</td>\n",
       "      <td>-0.497671</td>\n",
       "      <td>-0.527006</td>\n",
       "      <td>-0.510250</td>\n",
       "      <td>-1.355224</td>\n",
       "      <td>-0.358973</td>\n",
       "      <td>-0.375382</td>\n",
       "      <td>-0.721625</td>\n",
       "      <td>-1.550162</td>\n",
       "      <td>0.781058</td>\n",
       "      <td>-0.603395</td>\n",
       "      <td>-0.620344</td>\n",
       "      <td>-0.442628</td>\n",
       "      <td>-0.578435</td>\n",
       "      <td>-0.477265</td>\n",
       "      <td>0.695477</td>\n",
       "      <td>-0.806290</td>\n",
       "      <td>1.0</td>\n",
       "      <td>-0.132826</td>\n",
       "      <td>0</td>\n",
       "      <td>0</td>\n",
       "      <td>0</td>\n",
       "      <td>0</td>\n",
       "      <td>1</td>\n",
       "      <td>0</td>\n",
       "    </tr>\n",
       "    <tr>\n",
       "      <th>8556</th>\n",
       "      <td>-0.313839</td>\n",
       "      <td>-0.497671</td>\n",
       "      <td>-0.527006</td>\n",
       "      <td>2.372644</td>\n",
       "      <td>-1.355224</td>\n",
       "      <td>-0.358973</td>\n",
       "      <td>-0.375382</td>\n",
       "      <td>1.820375</td>\n",
       "      <td>0.792468</td>\n",
       "      <td>0.781058</td>\n",
       "      <td>1.902197</td>\n",
       "      <td>-0.620344</td>\n",
       "      <td>2.580186</td>\n",
       "      <td>-0.578435</td>\n",
       "      <td>-0.477265</td>\n",
       "      <td>0.695477</td>\n",
       "      <td>-0.806290</td>\n",
       "      <td>0.0</td>\n",
       "      <td>1.050360</td>\n",
       "      <td>0</td>\n",
       "      <td>0</td>\n",
       "      <td>0</td>\n",
       "      <td>0</td>\n",
       "      <td>0</td>\n",
       "      <td>0</td>\n",
       "    </tr>\n",
       "    <tr>\n",
       "      <th>8557</th>\n",
       "      <td>-0.313839</td>\n",
       "      <td>1.858238</td>\n",
       "      <td>2.814877</td>\n",
       "      <td>-0.510250</td>\n",
       "      <td>1.092715</td>\n",
       "      <td>-0.358973</td>\n",
       "      <td>4.833825</td>\n",
       "      <td>-0.721625</td>\n",
       "      <td>0.792468</td>\n",
       "      <td>0.781058</td>\n",
       "      <td>-0.603395</td>\n",
       "      <td>-0.620344</td>\n",
       "      <td>2.580186</td>\n",
       "      <td>-0.578435</td>\n",
       "      <td>-0.477265</td>\n",
       "      <td>0.695477</td>\n",
       "      <td>0.055637</td>\n",
       "      <td>0.0</td>\n",
       "      <td>1.564789</td>\n",
       "      <td>0</td>\n",
       "      <td>1</td>\n",
       "      <td>0</td>\n",
       "      <td>0</td>\n",
       "      <td>0</td>\n",
       "      <td>0</td>\n",
       "    </tr>\n",
       "    <tr>\n",
       "      <th>8558</th>\n",
       "      <td>2.329231</td>\n",
       "      <td>-0.405883</td>\n",
       "      <td>1.263288</td>\n",
       "      <td>-0.510250</td>\n",
       "      <td>0.859578</td>\n",
       "      <td>-0.034425</td>\n",
       "      <td>2.229222</td>\n",
       "      <td>1.336184</td>\n",
       "      <td>0.723567</td>\n",
       "      <td>0.781058</td>\n",
       "      <td>-0.603395</td>\n",
       "      <td>0.035296</td>\n",
       "      <td>-0.442628</td>\n",
       "      <td>1.618415</td>\n",
       "      <td>2.341310</td>\n",
       "      <td>0.695477</td>\n",
       "      <td>0.030286</td>\n",
       "      <td>0.0</td>\n",
       "      <td>0.433046</td>\n",
       "      <td>0</td>\n",
       "      <td>0</td>\n",
       "      <td>0</td>\n",
       "      <td>0</td>\n",
       "      <td>0</td>\n",
       "      <td>0</td>\n",
       "    </tr>\n",
       "    <tr>\n",
       "      <th>8559</th>\n",
       "      <td>2.951130</td>\n",
       "      <td>-0.497671</td>\n",
       "      <td>1.352803</td>\n",
       "      <td>-0.510250</td>\n",
       "      <td>-1.355224</td>\n",
       "      <td>-0.358973</td>\n",
       "      <td>4.833825</td>\n",
       "      <td>-0.721625</td>\n",
       "      <td>0.792468</td>\n",
       "      <td>0.781058</td>\n",
       "      <td>-0.603395</td>\n",
       "      <td>-0.620344</td>\n",
       "      <td>-0.442628</td>\n",
       "      <td>1.217067</td>\n",
       "      <td>2.341310</td>\n",
       "      <td>0.695477</td>\n",
       "      <td>-0.159845</td>\n",
       "      <td>0.0</td>\n",
       "      <td>0.124388</td>\n",
       "      <td>0</td>\n",
       "      <td>0</td>\n",
       "      <td>0</td>\n",
       "      <td>0</td>\n",
       "      <td>0</td>\n",
       "      <td>0</td>\n",
       "    </tr>\n",
       "  </tbody>\n",
       "</table>\n",
       "<p>8560 rows × 25 columns</p>\n",
       "</div>"
      ],
      "text/plain": [
       "      ('abn_percent', 50868)  ('abn_percent', 50882)  ('abn_percent', 50902)  \\\n",
       "0                   0.992148                2.971940               -0.185223   \n",
       "1                  -0.313839               -0.497671                1.352803   \n",
       "2                  -0.313839                0.359023                3.232613   \n",
       "3                  -0.313839               -0.497671               -0.527006   \n",
       "4                  -0.313839               -0.497671               -0.527006   \n",
       "...                      ...                     ...                     ...   \n",
       "8555               -0.313839               -0.497671               -0.527006   \n",
       "8556               -0.313839               -0.497671               -0.527006   \n",
       "8557               -0.313839                1.858238                2.814877   \n",
       "8558                2.329231               -0.405883                1.263288   \n",
       "8559                2.951130               -0.497671                1.352803   \n",
       "\n",
       "      ('abn_percent', 50912)  ('abn_percent', 50931)  ('abn_percent', 50971)  \\\n",
       "0                   1.796065                1.092715               -0.358973   \n",
       "1                   0.450715                0.276736               -0.358973   \n",
       "2                   1.651921                1.092715                0.322577   \n",
       "3                  -0.510250               -1.355224               -0.358973   \n",
       "4                  -0.510250                1.092715               -0.358973   \n",
       "...                      ...                     ...                     ...   \n",
       "8555               -0.510250               -1.355224               -0.358973   \n",
       "8556                2.372644               -1.355224               -0.358973   \n",
       "8557               -0.510250                1.092715               -0.358973   \n",
       "8558               -0.510250                0.859578               -0.034425   \n",
       "8559               -0.510250               -1.355224               -0.358973   \n",
       "\n",
       "      ('abn_percent', 50983)  ('abn_percent', 51006)  ('abn_percent', 51221)  \\\n",
       "0                   1.518875                1.820375                0.366535   \n",
       "1                  -0.375382               -0.721625                0.792468   \n",
       "2                   1.708301                1.502625               -1.550162   \n",
       "3                  -0.375382               -0.721625                0.792468   \n",
       "4                  -0.375382               -0.721625               -1.550162   \n",
       "...                      ...                     ...                     ...   \n",
       "8555               -0.375382               -0.721625               -1.550162   \n",
       "8556               -0.375382                1.820375                0.792468   \n",
       "8557                4.833825               -0.721625                0.792468   \n",
       "8558                2.229222                1.336184                0.723567   \n",
       "8559                4.833825               -0.721625                0.792468   \n",
       "\n",
       "      ('abn_percent', 51222)  ('abn_percent', 51248)  ('abn_percent', 51249)  \\\n",
       "0                   0.319584               -0.603395               -0.620344   \n",
       "1                   0.781058               -0.603395                2.166124   \n",
       "2                  -1.526309                1.588998               -0.620344   \n",
       "3                   0.781058                1.902197               -0.620344   \n",
       "4                   0.781058               -0.603395               -0.620344   \n",
       "...                      ...                     ...                     ...   \n",
       "8555                0.781058               -0.603395               -0.620344   \n",
       "8556                0.781058                1.902197               -0.620344   \n",
       "8557                0.781058               -0.603395               -0.620344   \n",
       "8558                0.781058               -0.603395                0.035296   \n",
       "8559                0.781058               -0.603395               -0.620344   \n",
       "\n",
       "      ('abn_percent', 51250)  ('abn_percent', 51265)  ('abn_percent', 51277)  \\\n",
       "0                  -0.442628                0.205057               -0.477265   \n",
       "1                   1.371060               -0.578435               -0.477265   \n",
       "2                   2.580186               -0.219335               -0.477265   \n",
       "3                   2.580186               -0.578435               -0.477265   \n",
       "4                  -0.442628               -0.578435               -0.477265   \n",
       "...                      ...                     ...                     ...   \n",
       "8555               -0.442628               -0.578435               -0.477265   \n",
       "8556                2.580186               -0.578435               -0.477265   \n",
       "8557                2.580186               -0.578435               -0.477265   \n",
       "8558               -0.442628                1.618415                2.341310   \n",
       "8559               -0.442628                1.217067                2.341310   \n",
       "\n",
       "      ('abn_percent', 51279)  ('abn_percent', 51301)  gender       age  \\\n",
       "0                   0.695477                1.779490     0.0  1.153246   \n",
       "1                   0.695477               -0.289134     0.0 -0.441483   \n",
       "2                   0.695477                0.163378     1.0  1.359017   \n",
       "3                   0.695477               -0.806290     0.0 -1.316012   \n",
       "4                   0.695477                1.779490     0.0 -1.110241   \n",
       "...                      ...                     ...     ...       ...   \n",
       "8555                0.695477               -0.806290     1.0 -0.132826   \n",
       "8556                0.695477               -0.806290     0.0  1.050360   \n",
       "8557                0.695477                0.055637     0.0  1.564789   \n",
       "8558                0.695477                0.030286     0.0  0.433046   \n",
       "8559                0.695477               -0.159845     0.0  0.124388   \n",
       "\n",
       "      ethnicity_AMERICAN INDIAN/ALASKA NATIVE  ethnicity_ASIAN  \\\n",
       "0                                           0                0   \n",
       "1                                           0                0   \n",
       "2                                           0                0   \n",
       "3                                           0                0   \n",
       "4                                           0                0   \n",
       "...                                       ...              ...   \n",
       "8555                                        0                0   \n",
       "8556                                        0                0   \n",
       "8557                                        0                1   \n",
       "8558                                        0                0   \n",
       "8559                                        0                0   \n",
       "\n",
       "      ethnicity_BLACK/AFRICAN AMERICAN  ethnicity_HISPANIC/LATINO  \\\n",
       "0                                    0                          0   \n",
       "1                                    0                          0   \n",
       "2                                    0                          0   \n",
       "3                                    0                          0   \n",
       "4                                    0                          0   \n",
       "...                                ...                        ...   \n",
       "8555                                 0                          0   \n",
       "8556                                 0                          0   \n",
       "8557                                 0                          0   \n",
       "8558                                 0                          0   \n",
       "8559                                 0                          0   \n",
       "\n",
       "      ethnicity_OTHER  ethnicity_UNKNOWN  \n",
       "0                   0                  1  \n",
       "1                   0                  0  \n",
       "2                   0                  0  \n",
       "3                   0                  0  \n",
       "4                   0                  0  \n",
       "...               ...                ...  \n",
       "8555                1                  0  \n",
       "8556                0                  0  \n",
       "8557                0                  0  \n",
       "8558                0                  0  \n",
       "8559                0                  0  \n",
       "\n",
       "[8560 rows x 25 columns]"
      ]
     },
     "execution_count": 6,
     "metadata": {},
     "output_type": "execute_result"
    }
   ],
   "source": [
    "hadm_features"
   ]
  },
  {
   "cell_type": "markdown",
   "metadata": {},
   "source": [
    "## Train test split"
   ]
  },
  {
   "cell_type": "code",
   "execution_count": 7,
   "metadata": {},
   "outputs": [],
   "source": [
    "X_train, X_test, y_train, y_test = model_selection.train_test_split(hadm_features, hadm_target, test_size=.2, stratify=hadm_target, random_state=25)"
   ]
  },
  {
   "cell_type": "code",
   "execution_count": 8,
   "metadata": {},
   "outputs": [],
   "source": [
    "# Over and under sample the train set\n",
    "sm = SMOTE()\n",
    "X_res_over, y_res_over = sm.fit_resample(X_train, y_train)\n",
    "\n",
    "nm = NearMiss()\n",
    "X_res_under, y_res_under = nm.fit_resample(X_train, y_train)"
   ]
  },
  {
   "cell_type": "code",
   "execution_count": 9,
   "metadata": {},
   "outputs": [
    {
     "name": "stdout",
     "output_type": "stream",
     "text": [
      "Target=0:  7362\n",
      "Target=1:  1198\n"
     ]
    }
   ],
   "source": [
    "# check target counts\n",
    "print('Target=0: ',hadm_target[hadm_target==0].count())\n",
    "print('Target=1: ',hadm_target[hadm_target==1].count())"
   ]
  },
  {
   "cell_type": "code",
   "execution_count": 10,
   "metadata": {},
   "outputs": [],
   "source": [
    "def results(model):\n",
    "    '''\n",
    "    Function to report on the metrics of a GridSearch model.\n",
    "    Input: GridSearchCV model\n",
    "    Prints: CV score, best parameters, accuracy, precision, recall, F1, confusion matrix and ROCAUC\n",
    "    '''\n",
    "    \n",
    "#     cross validation scores\n",
    "    print(\"Cross Validation\")\n",
    "    print(\"-\" * 20)\n",
    "    print(\"Best parameter: \", model.best_params_)\n",
    "    print(\"Best CV score:  %.4f\" % model.best_score_)\n",
    "\n",
    "#     confusion matrix & related scores\n",
    "    pred = model.best_estimator_.predict(X_test)\n",
    "    print(f\"Accuracy Score: {accuracy_score(y_test, pred) * 100:.2f}%\")\n",
    "    print(\"_______________________________________________\")\n",
    "    print(\"Classification Report:\", end='')\n",
    "    print(f\"\\tPrecision Score: {precision_score(y_test, pred) * 100:.2f}%\")\n",
    "    print(f\"\\t\\t\\tRecall Score: {recall_score(y_test, pred) * 100:.2f}%\")\n",
    "    print(f\"\\t\\t\\tF1 score: {f1_score(y_test, pred) * 100:.2f}%\")\n",
    "    print(f\"\\t\\t\\tROC_AUC score: {roc_auc_score(y_test, pred) * 100:.2f}%\")\n",
    "    print(\"_______________________________________________\")\n",
    "    print(f\"Confusion Matrix: \\n {confusion_matrix(y_test, pred)}\\n\")\n",
    "    \n",
    "    svc_disp = plot_roc_curve(model, X_test, y_test)\n",
    "    plt.show()\n",
    "    \n",
    "    if model.estimator.__class__== sklearn.linear_model._logistic.LogisticRegression:\n",
    "        est_coefs = pd.Series(model.best_estimator_.coef_[0], index=X_train.columns)\n",
    "        sortedCoefs = np.abs(est_coefs).sort_values(ascending=False)\n",
    "        print(sortedCoefs[sortedCoefs > 0].head(25))\n",
    "      \n",
    "    else:\n",
    "        est_coefs = pd.Series(model.best_estimator_.feature_importances_, index=X_train.columns)\n",
    "        sortedCoefs = est_coefs.sort_values(ascending=False)\n",
    "        print(sortedCoefs.head(25))"
   ]
  },
  {
   "cell_type": "code",
   "execution_count": 11,
   "metadata": {},
   "outputs": [],
   "source": [
    "def plot_val_curve(estimator, feature, feature_range, X, y):\n",
    "    '''\n",
    "    Plots validation curve for an estimator and a feature for a specified feature range.\n",
    "    Used to determine range of feature to use for hyperparameter tuning for GridSearchCV.\n",
    "    '''\n",
    "    train_scores, valid_scores = validation_curve(estimator, \n",
    "                                                  X,y,\n",
    "                                                  feature,\n",
    "                                                  feature_range, \n",
    "                                                  scoring='roc_auc',cv=3)\n",
    "    plt.plot(feature_range,train_scores)\n",
    "    plt.plot(feature_range,valid_scores,linestyle='--')\n",
    "    plt.xlabel(feature)\n",
    "    plt.ylabel('roc_auc')"
   ]
  },
  {
   "cell_type": "markdown",
   "metadata": {},
   "source": [
    "## Logistic Regression"
   ]
  },
  {
   "cell_type": "markdown",
   "metadata": {},
   "source": [
    "### Basic"
   ]
  },
  {
   "cell_type": "code",
   "execution_count": 12,
   "metadata": {},
   "outputs": [
    {
     "name": "stdout",
     "output_type": "stream",
     "text": [
      "CPU times: user 4 s, sys: 488 ms, total: 4.49 s\n",
      "Wall time: 4.6 s\n"
     ]
    },
    {
     "data": {
      "text/plain": [
       "GridSearchCV(cv=3,\n",
       "             estimator=LogisticRegression(class_weight='balanced',\n",
       "                                          max_iter=2000, penalty='l1',\n",
       "                                          solver='liblinear'),\n",
       "             param_grid={'C': array([0.01      , 0.06210526, 0.11421053, 0.16631579, 0.21842105,\n",
       "       0.27052632, 0.32263158, 0.37473684, 0.42684211, 0.47894737,\n",
       "       0.53105263, 0.58315789, 0.63526316, 0.68736842, 0.73947368,\n",
       "       0.79157895, 0.84368421, 0.89578947, 0.94789474, 1.        ])},\n",
       "             scoring='roc_auc')"
      ]
     },
     "execution_count": 12,
     "metadata": {},
     "output_type": "execute_result"
    }
   ],
   "source": [
    "%%time\n",
    "\n",
    "params ={'C':np.linspace(1e-2,1,20)}\n",
    "logReg = LogisticRegression(penalty = 'l1', max_iter = 2000, class_weight = \"balanced\", solver = 'liblinear')\n",
    "\n",
    "grid_log = GridSearchCV(estimator = logReg, param_grid = params, cv = 3, scoring='roc_auc')\n",
    "grid_log.fit(X_train, y_train)"
   ]
  },
  {
   "cell_type": "code",
   "execution_count": 13,
   "metadata": {},
   "outputs": [
    {
     "name": "stdout",
     "output_type": "stream",
     "text": [
      "Cross Validation\n",
      "--------------------\n",
      "Best parameter:  {'C': 0.06210526315789474}\n",
      "Best CV score:  0.8317\n",
      "Accuracy Score: 74.94%\n",
      "_______________________________________________\n",
      "Classification Report:\tPrecision Score: 32.34%\n",
      "\t\t\tRecall Score: 72.08%\n",
      "\t\t\tF1 score: 44.65%\n",
      "\t\t\tROC_AUC score: 73.75%\n",
      "_______________________________________________\n",
      "Confusion Matrix: \n",
      " [[1110  362]\n",
      " [  67  173]]\n",
      "\n"
     ]
    },
    {
     "data": {
      "image/png": "[encoded data removed]",
      "text/plain": [
       "<Figure size 432x288 with 1 Axes>"
      ]
     },
     "metadata": {
      "needs_background": "light"
     },
     "output_type": "display_data"
    },
    {
     "name": "stdout",
     "output_type": "stream",
     "text": [
      "age                                 0.892037\n",
      "('abn_percent', 51006)              0.386606\n",
      "('abn_percent', 51277)              0.360276\n",
      "('abn_percent', 51221)              0.318521\n",
      "('abn_percent', 50912)              0.293937\n",
      "('abn_percent', 51222)              0.287607\n",
      "('abn_percent', 50931)              0.204107\n",
      "('abn_percent', 51249)              0.138824\n",
      "ethnicity_BLACK/AFRICAN AMERICAN    0.136301\n",
      "gender                              0.123855\n",
      "('abn_percent', 51301)              0.058391\n",
      "('abn_percent', 50971)              0.058189\n",
      "('abn_percent', 51250)              0.041333\n",
      "('abn_percent', 50882)              0.038265\n",
      "('abn_percent', 51248)              0.036729\n",
      "('abn_percent', 51279)              0.023386\n",
      "('abn_percent', 50902)              0.019160\n",
      "('abn_percent', 50868)              0.016249\n",
      "dtype: float64\n"
     ]
    }
   ],
   "source": [
    "results(grid_log)"
   ]
  },
  {
   "cell_type": "code",
   "execution_count": 15,
   "metadata": {},
   "outputs": [],
   "source": [
    "# from sklearn.feature_selection import RFECV\n",
    "# selector = RFECV(grid_log, step=1, cv=5)\n",
    "# selector = selector.fit(X_train, y_train)\n",
    "# selector.support_"
   ]
  },
  {
   "cell_type": "markdown",
   "metadata": {},
   "source": [
    "### Over Sampling using SMOTE"
   ]
  },
  {
   "cell_type": "code",
   "execution_count": 16,
   "metadata": {},
   "outputs": [
    {
     "name": "stdout",
     "output_type": "stream",
     "text": [
      "CPU times: user 5.4 s, sys: 679 ms, total: 6.08 s\n",
      "Wall time: 7.22 s\n"
     ]
    },
    {
     "data": {
      "text/plain": [
       "GridSearchCV(cv=3,\n",
       "             estimator=LogisticRegression(class_weight='balanced',\n",
       "                                          max_iter=2000, penalty='l1',\n",
       "                                          solver='liblinear'),\n",
       "             param_grid={'C': array([0.01      , 0.06210526, 0.11421053, 0.16631579, 0.21842105,\n",
       "       0.27052632, 0.32263158, 0.37473684, 0.42684211, 0.47894737,\n",
       "       0.53105263, 0.58315789, 0.63526316, 0.68736842, 0.73947368,\n",
       "       0.79157895, 0.84368421, 0.89578947, 0.94789474, 1.        ])},\n",
       "             scoring='roc_auc')"
      ]
     },
     "execution_count": 16,
     "metadata": {},
     "output_type": "execute_result"
    }
   ],
   "source": [
    "%%time\n",
    "params ={'C':np.linspace(1e-2,1,20)}\n",
    "logReg = LogisticRegression(penalty = 'l1', max_iter = 2000, class_weight = \"balanced\", solver = 'liblinear')\n",
    "\n",
    "grid_log_over = GridSearchCV(estimator = logReg, param_grid = params, cv = 3, scoring='roc_auc')\n",
    "grid_log_over.fit(X_res_over, y_res_over)"
   ]
  },
  {
   "cell_type": "code",
   "execution_count": 17,
   "metadata": {},
   "outputs": [
    {
     "name": "stdout",
     "output_type": "stream",
     "text": [
      "Cross Validation\n",
      "--------------------\n",
      "Best parameter:  {'C': 0.16631578947368422}\n",
      "Best CV score:  0.8528\n",
      "Accuracy Score: 75.00%\n",
      "_______________________________________________\n",
      "Classification Report:\tPrecision Score: 31.85%\n",
      "\t\t\tRecall Score: 68.75%\n",
      "\t\t\tF1 score: 43.54%\n",
      "\t\t\tROC_AUC score: 72.38%\n",
      "_______________________________________________\n",
      "Confusion Matrix: \n",
      " [[1119  353]\n",
      " [  75  165]]\n",
      "\n"
     ]
    },
    {
     "data": {
      "image/png": "[encoded data removed]",
      "text/plain": [
       "<Figure size 432x288 with 1 Axes>"
      ]
     },
     "metadata": {
      "needs_background": "light"
     },
     "output_type": "display_data"
    },
    {
     "name": "stdout",
     "output_type": "stream",
     "text": [
      "ethnicity_ASIAN                     2.069456\n",
      "ethnicity_OTHER                     1.717986\n",
      "ethnicity_UNKNOWN                   1.565860\n",
      "ethnicity_HISPANIC/LATINO           1.361374\n",
      "ethnicity_BLACK/AFRICAN AMERICAN    1.111983\n",
      "age                                 0.955484\n",
      "('abn_percent', 51222)              0.493492\n",
      "('abn_percent', 51221)              0.423971\n",
      "('abn_percent', 51277)              0.395438\n",
      "('abn_percent', 51006)              0.385960\n",
      "('abn_percent', 50912)              0.292461\n",
      "('abn_percent', 50931)              0.273107\n",
      "('abn_percent', 51248)              0.124859\n",
      "gender                              0.124628\n",
      "('abn_percent', 51249)              0.123631\n",
      "('abn_percent', 51301)              0.110964\n",
      "('abn_percent', 50971)              0.108175\n",
      "('abn_percent', 51250)              0.075846\n",
      "('abn_percent', 51279)              0.074967\n",
      "('abn_percent', 50868)              0.033288\n",
      "('abn_percent', 51265)              0.030131\n",
      "('abn_percent', 50902)              0.013179\n",
      "('abn_percent', 50882)              0.012638\n",
      "('abn_percent', 50983)              0.004441\n",
      "dtype: float64\n"
     ]
    }
   ],
   "source": [
    "results(grid_log_over)"
   ]
  },
  {
   "cell_type": "markdown",
   "metadata": {},
   "source": [
    "### Under Sampling using Near Miss"
   ]
  },
  {
   "cell_type": "code",
   "execution_count": 18,
   "metadata": {},
   "outputs": [
    {
     "name": "stdout",
     "output_type": "stream",
     "text": [
      "CPU times: user 12.3 s, sys: 1.16 s, total: 13.5 s\n",
      "Wall time: 12.6 s\n"
     ]
    },
    {
     "data": {
      "text/plain": [
       "GridSearchCV(cv=3,\n",
       "             estimator=LogisticRegression(class_weight='balanced',\n",
       "                                          max_iter=2000, penalty='l1',\n",
       "                                          solver='liblinear'),\n",
       "             param_grid={'C': array([1.000e-02, 1.020e+00, 2.030e+00, 3.040e+00, 4.050e+00, 5.060e+00,\n",
       "       6.070e+00, 7.080e+00, 8.090e+00, 9.100e+00, 1.011e+01, 1.112e+01,\n",
       "       1.213e+01, 1.314e+01, 1.415e+01, 1.516e+01, 1.617e+01, 1.718e+01,\n",
       "       1.819e+01, 1.920e+01, 2.021e+01...\n",
       "       6.667e+01, 6.768e+01, 6.869e+01, 6.970e+01, 7.071e+01, 7.172e+01,\n",
       "       7.273e+01, 7.374e+01, 7.475e+01, 7.576e+01, 7.677e+01, 7.778e+01,\n",
       "       7.879e+01, 7.980e+01, 8.081e+01, 8.182e+01, 8.283e+01, 8.384e+01,\n",
       "       8.485e+01, 8.586e+01, 8.687e+01, 8.788e+01, 8.889e+01, 8.990e+01,\n",
       "       9.091e+01, 9.192e+01, 9.293e+01, 9.394e+01, 9.495e+01, 9.596e+01,\n",
       "       9.697e+01, 9.798e+01, 9.899e+01, 1.000e+02])},\n",
       "             scoring='roc_auc')"
      ]
     },
     "execution_count": 18,
     "metadata": {},
     "output_type": "execute_result"
    }
   ],
   "source": [
    "%%time\n",
    "params ={'C':np.linspace(1e-2,100,100)}\n",
    "logReg = LogisticRegression(penalty = 'l1', max_iter = 2000, class_weight = \"balanced\", solver = 'liblinear')\n",
    "\n",
    "grid_log_under = GridSearchCV(estimator = logReg, param_grid = params, cv = 3, scoring='roc_auc')\n",
    "grid_log_under.fit(X_res_under, y_res_under)"
   ]
  },
  {
   "cell_type": "code",
   "execution_count": 19,
   "metadata": {},
   "outputs": [
    {
     "name": "stdout",
     "output_type": "stream",
     "text": [
      "Cross Validation\n",
      "--------------------\n",
      "Best parameter:  {'C': 1.02}\n",
      "Best CV score:  0.9412\n",
      "Accuracy Score: 55.67%\n",
      "_______________________________________________\n",
      "Classification Report:\tPrecision Score: 21.76%\n",
      "\t\t\tRecall Score: 83.33%\n",
      "\t\t\tF1 score: 34.51%\n",
      "\t\t\tROC_AUC score: 67.24%\n",
      "_______________________________________________\n",
      "Confusion Matrix: \n",
      " [[753 719]\n",
      " [ 40 200]]\n",
      "\n"
     ]
    },
    {
     "data": {
      "image/png": "[encoded data removed]",
      "text/plain": [
       "<Figure size 432x288 with 1 Axes>"
      ]
     },
     "metadata": {
      "needs_background": "light"
     },
     "output_type": "display_data"
    },
    {
     "name": "stdout",
     "output_type": "stream",
     "text": [
      "('abn_percent', 50868)              1.821568\n",
      "('abn_percent', 50983)              1.136129\n",
      "('abn_percent', 50882)              1.106942\n",
      "('abn_percent', 51221)              1.102847\n",
      "('abn_percent', 50971)              1.080486\n",
      "('abn_percent', 51250)              0.947870\n",
      "ethnicity_ASIAN                     0.870789\n",
      "('abn_percent', 50902)              0.776743\n",
      "ethnicity_BLACK/AFRICAN AMERICAN    0.760961\n",
      "age                                 0.756521\n",
      "('abn_percent', 51249)              0.750003\n",
      "ethnicity_UNKNOWN                   0.719537\n",
      "('abn_percent', 51277)              0.706791\n",
      "('abn_percent', 51222)              0.666316\n",
      "('abn_percent', 51248)              0.537390\n",
      "('abn_percent', 51265)              0.495462\n",
      "('abn_percent', 51006)              0.494300\n",
      "ethnicity_OTHER                     0.425410\n",
      "('abn_percent', 51301)              0.373401\n",
      "('abn_percent', 50912)              0.213358\n",
      "ethnicity_HISPANIC/LATINO           0.166281\n",
      "gender                              0.102161\n",
      "('abn_percent', 50931)              0.101743\n",
      "('abn_percent', 51279)              0.060446\n",
      "dtype: float64\n"
     ]
    }
   ],
   "source": [
    "results(grid_log_under)"
   ]
  },
  {
   "cell_type": "markdown",
   "metadata": {},
   "source": [
    "## Random Forest"
   ]
  },
  {
   "cell_type": "markdown",
   "metadata": {},
   "source": [
    "### RF_Over Sampling using SMOTE"
   ]
  },
  {
   "cell_type": "code",
   "execution_count": 30,
   "metadata": {},
   "outputs": [
    {
     "name": "stderr",
     "output_type": "stream",
     "text": [
      "/Users/brandonryu/opt/anaconda3/lib/python3.7/site-packages/sklearn/utils/validation.py:70: FutureWarning: Pass param_name=max_depth, param_range=range(2, 35, 3) as keyword args. From version 0.25 passing these as positional arguments will result in an error\n",
      "  FutureWarning)\n"
     ]
    },
    {
     "data": {
      "image/png": "[encoded data removed]",
      "text/plain": [
       "<Figure size 432x288 with 1 Axes>"
      ]
     },
     "metadata": {
      "needs_background": "light"
     },
     "output_type": "display_data"
    }
   ],
   "source": [
    "plot_val_curve(RandomForestClassifier(), 'max_depth', range(2,35,3), X_res_over, y_res_over)"
   ]
  },
  {
   "cell_type": "code",
   "execution_count": 27,
   "metadata": {},
   "outputs": [
    {
     "name": "stdout",
     "output_type": "stream",
     "text": [
      "CPU times: user 26.2 s, sys: 766 ms, total: 26.9 s\n",
      "Wall time: 37.3 s\n"
     ]
    },
    {
     "data": {
      "text/plain": [
       "GridSearchCV(cv=3, estimator=RandomForestClassifier(),\n",
       "             param_grid={'criterion': ['gini'], 'max_depth': range(12, 22, 3),\n",
       "                         'n_estimators': range(120, 121)},\n",
       "             scoring='roc_auc')"
      ]
     },
     "execution_count": 27,
     "metadata": {},
     "output_type": "execute_result"
    }
   ],
   "source": [
    "%%time\n",
    "param_grid={'criterion': ['gini'],\n",
    "            'n_estimators': range(120,121,1),\n",
    "            'max_depth': range(12,22,3)\n",
    "            }\n",
    "\n",
    "grid_rf_over = model_selection.GridSearchCV(estimator = RandomForestClassifier(), param_grid = param_grid, cv=3, scoring='roc_auc')\n",
    "grid_rf_over.fit(X_res_over, y_res_over)"
   ]
  },
  {
   "cell_type": "code",
   "execution_count": 28,
   "metadata": {},
   "outputs": [
    {
     "name": "stdout",
     "output_type": "stream",
     "text": [
      "Cross Validation\n",
      "--------------------\n",
      "Best parameter:  {'criterion': 'gini', 'max_depth': 21, 'n_estimators': 120}\n",
      "Best CV score:  0.9707\n",
      "Accuracy Score: 83.94%\n",
      "_______________________________________________\n",
      "Classification Report:\tPrecision Score: 42.68%\n",
      "\t\t\tRecall Score: 42.50%\n",
      "\t\t\tF1 score: 42.59%\n",
      "\t\t\tROC_AUC score: 66.60%\n",
      "_______________________________________________\n",
      "Confusion Matrix: \n",
      " [[1335  137]\n",
      " [ 138  102]]\n",
      "\n"
     ]
    },
    {
     "data": {
      "image/png": "[encoded data removed]",
      "text/plain": [
       "<Figure size 432x288 with 1 Axes>"
      ]
     },
     "metadata": {
      "needs_background": "light"
     },
     "output_type": "display_data"
    },
    {
     "name": "stdout",
     "output_type": "stream",
     "text": [
      "age                                        0.164344\n",
      "('abn_percent', 51006)                     0.137250\n",
      "('abn_percent', 50912)                     0.106182\n",
      "('abn_percent', 50931)                     0.072303\n",
      "('abn_percent', 50882)                     0.054669\n",
      "('abn_percent', 51277)                     0.047767\n",
      "('abn_percent', 50902)                     0.045974\n",
      "gender                                     0.040721\n",
      "('abn_percent', 51249)                     0.039990\n",
      "('abn_percent', 51301)                     0.039506\n",
      "('abn_percent', 51265)                     0.029360\n",
      "('abn_percent', 51221)                     0.027776\n",
      "('abn_percent', 50983)                     0.026435\n",
      "('abn_percent', 50971)                     0.024910\n",
      "('abn_percent', 50868)                     0.023811\n",
      "('abn_percent', 51279)                     0.023223\n",
      "('abn_percent', 51222)                     0.022195\n",
      "('abn_percent', 51248)                     0.021598\n",
      "('abn_percent', 51250)                     0.018902\n",
      "ethnicity_UNKNOWN                          0.009187\n",
      "ethnicity_BLACK/AFRICAN AMERICAN           0.008346\n",
      "ethnicity_OTHER                            0.007326\n",
      "ethnicity_ASIAN                            0.005160\n",
      "ethnicity_HISPANIC/LATINO                  0.002969\n",
      "ethnicity_AMERICAN INDIAN/ALASKA NATIVE    0.000098\n",
      "dtype: float64\n"
     ]
    }
   ],
   "source": [
    "results(grid_rf_over)"
   ]
  },
  {
   "cell_type": "markdown",
   "metadata": {},
   "source": [
    "### RF_Under Sampling using Near Miss"
   ]
  },
  {
   "cell_type": "code",
   "execution_count": 29,
   "metadata": {},
   "outputs": [
    {
     "name": "stderr",
     "output_type": "stream",
     "text": [
      "/Users/brandonryu/opt/anaconda3/lib/python3.7/site-packages/sklearn/utils/validation.py:70: FutureWarning: Pass param_name=max_depth, param_range=range(2, 35, 3) as keyword args. From version 0.25 passing these as positional arguments will result in an error\n",
      "  FutureWarning)\n"
     ]
    },
    {
     "data": {
      "image/png": "[encoded data removed]",
      "text/plain": [
       "<Figure size 432x288 with 1 Axes>"
      ]
     },
     "metadata": {
      "needs_background": "light"
     },
     "output_type": "display_data"
    }
   ],
   "source": [
    "plot_val_curve(RandomForestClassifier(), 'max_depth', range(2,35,3), X_res_under, y_res_under)"
   ]
  },
  {
   "cell_type": "code",
   "execution_count": 31,
   "metadata": {},
   "outputs": [
    {
     "name": "stdout",
     "output_type": "stream",
     "text": [
      "CPU times: user 13.4 s, sys: 351 ms, total: 13.8 s\n",
      "Wall time: 19.9 s\n"
     ]
    },
    {
     "data": {
      "text/plain": [
       "GridSearchCV(cv=3, estimator=RandomForestClassifier(),\n",
       "             param_grid={'criterion': ['gini'], 'max_depth': range(2, 9, 2),\n",
       "                         'n_estimators': range(420, 421)},\n",
       "             scoring='roc_auc')"
      ]
     },
     "execution_count": 31,
     "metadata": {},
     "output_type": "execute_result"
    }
   ],
   "source": [
    "%%time\n",
    "param_grid={'criterion': ['gini'],\n",
    "            'n_estimators': range(420,421,1),\n",
    "            'max_depth': range(2,9,2)\n",
    "            }\n",
    "\n",
    "grid_rf_under = model_selection.GridSearchCV(estimator = RandomForestClassifier(), param_grid = param_grid, cv=3, scoring='roc_auc')\n",
    "grid_rf_under.fit(X_res_under, y_res_under)"
   ]
  },
  {
   "cell_type": "code",
   "execution_count": 32,
   "metadata": {},
   "outputs": [
    {
     "name": "stdout",
     "output_type": "stream",
     "text": [
      "Cross Validation\n",
      "--------------------\n",
      "Best parameter:  {'criterion': 'gini', 'max_depth': 6, 'n_estimators': 420}\n",
      "Best CV score:  0.9355\n",
      "Accuracy Score: 57.42%\n",
      "_______________________________________________\n",
      "Classification Report:\tPrecision Score: 22.44%\n",
      "\t\t\tRecall Score: 82.92%\n",
      "\t\t\tF1 score: 35.31%\n",
      "\t\t\tROC_AUC score: 68.09%\n",
      "_______________________________________________\n",
      "Confusion Matrix: \n",
      " [[784 688]\n",
      " [ 41 199]]\n",
      "\n"
     ]
    },
    {
     "data": {
      "image/png": "[encoded data removed]",
      "text/plain": [
       "<Figure size 432x288 with 1 Axes>"
      ]
     },
     "metadata": {
      "needs_background": "light"
     },
     "output_type": "display_data"
    },
    {
     "name": "stdout",
     "output_type": "stream",
     "text": [
      "('abn_percent', 51006)                     0.169464\n",
      "('abn_percent', 50912)                     0.137819\n",
      "('abn_percent', 50882)                     0.135634\n",
      "('abn_percent', 51277)                     0.079851\n",
      "('abn_percent', 50902)                     0.073060\n",
      "('abn_percent', 51250)                     0.072042\n",
      "('abn_percent', 51249)                     0.063890\n",
      "('abn_percent', 51248)                     0.058972\n",
      "('abn_percent', 50971)                     0.046582\n",
      "('abn_percent', 50868)                     0.033874\n",
      "('abn_percent', 50983)                     0.032635\n",
      "age                                        0.024264\n",
      "('abn_percent', 51265)                     0.023545\n",
      "('abn_percent', 51301)                     0.018090\n",
      "('abn_percent', 51222)                     0.008125\n",
      "('abn_percent', 51221)                     0.006833\n",
      "('abn_percent', 50931)                     0.005932\n",
      "('abn_percent', 51279)                     0.004925\n",
      "gender                                     0.001897\n",
      "ethnicity_BLACK/AFRICAN AMERICAN           0.000819\n",
      "ethnicity_UNKNOWN                          0.000574\n",
      "ethnicity_ASIAN                            0.000567\n",
      "ethnicity_OTHER                            0.000387\n",
      "ethnicity_HISPANIC/LATINO                  0.000214\n",
      "ethnicity_AMERICAN INDIAN/ALASKA NATIVE    0.000004\n",
      "dtype: float64\n"
     ]
    }
   ],
   "source": [
    "results(grid_rf_under)"
   ]
  },
  {
   "cell_type": "markdown",
   "metadata": {},
   "source": [
    "## Gradient Boost"
   ]
  },
  {
   "cell_type": "markdown",
   "metadata": {},
   "source": [
    "### GB_Over Sampling using SMOTE¶"
   ]
  },
  {
   "cell_type": "code",
   "execution_count": 34,
   "metadata": {},
   "outputs": [
    {
     "name": "stderr",
     "output_type": "stream",
     "text": [
      "/Users/brandonryu/opt/anaconda3/lib/python3.7/site-packages/sklearn/utils/validation.py:70: FutureWarning: Pass param_name=max_depth, param_range=range(3, 20, 5) as keyword args. From version 0.25 passing these as positional arguments will result in an error\n",
      "  FutureWarning)\n"
     ]
    },
    {
     "data": {
      "image/png": "[encoded data removed]",
      "text/plain": [
       "<Figure size 432x288 with 1 Axes>"
      ]
     },
     "metadata": {
      "needs_background": "light"
     },
     "output_type": "display_data"
    }
   ],
   "source": [
    "plot_val_curve(GradientBoostingClassifier(), 'max_depth', range(3,20,5), X_res_over, y_res_over)"
   ]
  },
  {
   "cell_type": "code",
   "execution_count": 33,
   "metadata": {},
   "outputs": [
    {
     "name": "stderr",
     "output_type": "stream",
     "text": [
      "/Users/brandonryu/opt/anaconda3/lib/python3.7/site-packages/sklearn/utils/validation.py:70: FutureWarning: Pass param_name=max_features, param_range=range(5, 30, 5) as keyword args. From version 0.25 passing these as positional arguments will result in an error\n",
      "  FutureWarning)\n"
     ]
    },
    {
     "data": {
      "image/png": "[encoded data removed]",
      "text/plain": [
       "<Figure size 432x288 with 1 Axes>"
      ]
     },
     "metadata": {
      "needs_background": "light"
     },
     "output_type": "display_data"
    }
   ],
   "source": [
    "plot_val_curve(GradientBoostingClassifier(), 'max_features', range(5,30,5), X_res_over, y_res_over)"
   ]
  },
  {
   "cell_type": "code",
   "execution_count": 36,
   "metadata": {},
   "outputs": [
    {
     "name": "stdout",
     "output_type": "stream",
     "text": [
      "CPU times: user 6min 56s, sys: 6.45 s, total: 7min 3s\n",
      "Wall time: 8min 25s\n"
     ]
    },
    {
     "data": {
      "text/plain": [
       "GridSearchCV(cv=3, estimator=GradientBoostingClassifier(),\n",
       "             param_grid={'max_depth': range(8, 13),\n",
       "                         'n_estimators': range(250, 251, 10)},\n",
       "             scoring='roc_auc')"
      ]
     },
     "execution_count": 36,
     "metadata": {},
     "output_type": "execute_result"
    }
   ],
   "source": [
    "%%time\n",
    "param_grid={'n_estimators':range(250,251,10),\n",
    "            'max_depth':range(8,13,1),\n",
    "            }\n",
    "\n",
    "grid_gb_over = model_selection.GridSearchCV(estimator = GradientBoostingClassifier(), param_grid = param_grid, cv=3, scoring='roc_auc')\n",
    "grid_gb_over.fit(X_res_over, y_res_over)"
   ]
  },
  {
   "cell_type": "code",
   "execution_count": 37,
   "metadata": {},
   "outputs": [
    {
     "name": "stdout",
     "output_type": "stream",
     "text": [
      "Cross Validation\n",
      "--------------------\n",
      "Best parameter:  {'max_depth': 11, 'n_estimators': 250}\n",
      "Best CV score:  0.9766\n",
      "Accuracy Score: 83.06%\n",
      "_______________________________________________\n",
      "Classification Report:\tPrecision Score: 37.98%\n",
      "\t\t\tRecall Score: 32.92%\n",
      "\t\t\tF1 score: 35.27%\n",
      "\t\t\tROC_AUC score: 62.08%\n",
      "_______________________________________________\n",
      "Confusion Matrix: \n",
      " [[1343  129]\n",
      " [ 161   79]]\n",
      "\n"
     ]
    },
    {
     "data": {
      "image/png": "[encoded data removed]",
      "text/plain": [
       "<Figure size 432x288 with 1 Axes>"
      ]
     },
     "metadata": {
      "needs_background": "light"
     },
     "output_type": "display_data"
    },
    {
     "name": "stdout",
     "output_type": "stream",
     "text": [
      "('abn_percent', 51006)                     0.289243\n",
      "age                                        0.170176\n",
      "('abn_percent', 50931)                     0.060923\n",
      "('abn_percent', 50912)                     0.059672\n",
      "('abn_percent', 50882)                     0.040586\n",
      "gender                                     0.039333\n",
      "('abn_percent', 51249)                     0.033227\n",
      "('abn_percent', 51277)                     0.033139\n",
      "('abn_percent', 51301)                     0.032348\n",
      "('abn_percent', 50902)                     0.029663\n",
      "('abn_percent', 51221)                     0.025233\n",
      "('abn_percent', 51265)                     0.024967\n",
      "('abn_percent', 50971)                     0.023041\n",
      "('abn_percent', 50983)                     0.022645\n",
      "('abn_percent', 51279)                     0.020133\n",
      "('abn_percent', 50868)                     0.019018\n",
      "('abn_percent', 51248)                     0.016717\n",
      "('abn_percent', 51250)                     0.016403\n",
      "('abn_percent', 51222)                     0.014375\n",
      "ethnicity_UNKNOWN                          0.009058\n",
      "ethnicity_BLACK/AFRICAN AMERICAN           0.006802\n",
      "ethnicity_OTHER                            0.006184\n",
      "ethnicity_ASIAN                            0.005508\n",
      "ethnicity_HISPANIC/LATINO                  0.001548\n",
      "ethnicity_AMERICAN INDIAN/ALASKA NATIVE    0.000055\n",
      "dtype: float64\n"
     ]
    }
   ],
   "source": [
    "results(grid_gb_over)"
   ]
  },
  {
   "cell_type": "code",
   "execution_count": 38,
   "metadata": {},
   "outputs": [],
   "source": [
    "# %%time\n",
    "# param_grid={'n_estimators':range(150,151,1),\n",
    "#             'max_depth':range(13,14,1),\n",
    "# #             'min_samples_split':range(20,100,30),\n",
    "#             'max_features':range(8,17,2),\n",
    "#             }\n",
    "# # 'max_depth': 9, 'n_estimators': 80\n",
    "# grid_gb_over = model_selection.GridSearchCV(estimator = GradientBoostingClassifier(), param_grid = param_grid, cv=3, scoring='roc_auc')\n",
    "# grid_gb_over.fit(X_res_over, y_res_over)"
   ]
  },
  {
   "cell_type": "code",
   "execution_count": 39,
   "metadata": {},
   "outputs": [],
   "source": [
    "# results(grid_gb_over)"
   ]
  },
  {
   "cell_type": "markdown",
   "metadata": {},
   "source": [
    "### GB_Under Sampling using Near Miss"
   ]
  },
  {
   "cell_type": "code",
   "execution_count": 42,
   "metadata": {},
   "outputs": [
    {
     "name": "stderr",
     "output_type": "stream",
     "text": [
      "/Users/brandonryu/opt/anaconda3/lib/python3.7/site-packages/sklearn/utils/validation.py:70: FutureWarning: Pass param_name=max_depth, param_range=range(2, 30, 5) as keyword args. From version 0.25 passing these as positional arguments will result in an error\n",
      "  FutureWarning)\n"
     ]
    },
    {
     "data": {
      "image/png": "[encoded data removed]",
      "text/plain": [
       "<Figure size 432x288 with 1 Axes>"
      ]
     },
     "metadata": {
      "needs_background": "light"
     },
     "output_type": "display_data"
    }
   ],
   "source": [
    "plot_val_curve(GradientBoostingClassifier(), 'max_depth', range(2,30,5), X_res_under, y_res_under)"
   ]
  },
  {
   "cell_type": "code",
   "execution_count": 43,
   "metadata": {},
   "outputs": [
    {
     "name": "stdout",
     "output_type": "stream",
     "text": [
      "CPU times: user 12.4 s, sys: 329 ms, total: 12.7 s\n",
      "Wall time: 17.8 s\n"
     ]
    },
    {
     "data": {
      "text/plain": [
       "GridSearchCV(cv=3, estimator=GradientBoostingClassifier(),\n",
       "             param_grid={'max_depth': range(2, 5),\n",
       "                         'n_estimators': range(400, 401)},\n",
       "             scoring='roc_auc')"
      ]
     },
     "execution_count": 43,
     "metadata": {},
     "output_type": "execute_result"
    }
   ],
   "source": [
    "%%time\n",
    "param_grid={'n_estimators':range(400,401,1),\n",
    "            'max_depth':range(2,5,1),\n",
    "            }\n",
    "\n",
    "grid_gb_under = model_selection.GridSearchCV(estimator = GradientBoostingClassifier(), param_grid = param_grid, cv=3, scoring='roc_auc')\n",
    "grid_gb_under.fit(X_res_under, y_res_under)"
   ]
  },
  {
   "cell_type": "code",
   "execution_count": 44,
   "metadata": {},
   "outputs": [
    {
     "name": "stdout",
     "output_type": "stream",
     "text": [
      "Cross Validation\n",
      "--------------------\n",
      "Best parameter:  {'max_depth': 2, 'n_estimators': 400}\n",
      "Best CV score:  0.9333\n",
      "Accuracy Score: 50.88%\n",
      "_______________________________________________\n",
      "Classification Report:\tPrecision Score: 20.34%\n",
      "\t\t\tRecall Score: 85.83%\n",
      "\t\t\tF1 score: 32.88%\n",
      "\t\t\tROC_AUC score: 65.50%\n",
      "_______________________________________________\n",
      "Confusion Matrix: \n",
      " [[665 807]\n",
      " [ 34 206]]\n",
      "\n"
     ]
    },
    {
     "data": {
      "image/png": "[encoded data removed]",
      "text/plain": [
       "<Figure size 432x288 with 1 Axes>"
      ]
     },
     "metadata": {
      "needs_background": "light"
     },
     "output_type": "display_data"
    },
    {
     "name": "stdout",
     "output_type": "stream",
     "text": [
      "('abn_percent', 51006)                     0.251784\n",
      "('abn_percent', 50912)                     0.129576\n",
      "('abn_percent', 50882)                     0.103898\n",
      "('abn_percent', 51277)                     0.088814\n",
      "('abn_percent', 51250)                     0.066096\n",
      "('abn_percent', 51249)                     0.061737\n",
      "('abn_percent', 51248)                     0.058802\n",
      "('abn_percent', 50902)                     0.045636\n",
      "age                                        0.034359\n",
      "('abn_percent', 50971)                     0.029338\n",
      "('abn_percent', 51265)                     0.024086\n",
      "('abn_percent', 50868)                     0.022666\n",
      "('abn_percent', 51301)                     0.022313\n",
      "('abn_percent', 50983)                     0.020235\n",
      "('abn_percent', 51221)                     0.012055\n",
      "('abn_percent', 51279)                     0.007285\n",
      "('abn_percent', 51222)                     0.006674\n",
      "('abn_percent', 50931)                     0.006583\n",
      "gender                                     0.002633\n",
      "ethnicity_BLACK/AFRICAN AMERICAN           0.001644\n",
      "ethnicity_ASIAN                            0.001417\n",
      "ethnicity_OTHER                            0.001299\n",
      "ethnicity_UNKNOWN                          0.000772\n",
      "ethnicity_HISPANIC/LATINO                  0.000298\n",
      "ethnicity_AMERICAN INDIAN/ALASKA NATIVE    0.000000\n",
      "dtype: float64\n"
     ]
    }
   ],
   "source": [
    "results(grid_gb_under)"
   ]
  },
  {
   "cell_type": "code",
   "execution_count": 45,
   "metadata": {},
   "outputs": [],
   "source": [
    "# %%time\n",
    "# param_grid={'n_estimators':range(80,81,1),\n",
    "#             'max_depth':range(2,9,2),\n",
    "# #             'min_samples_split':range(20,100,30),\n",
    "#             'max_features':range(7,12,2),\n",
    "#             }\n",
    "\n",
    "# grid_gb_under = model_selection.GridSearchCV(estimator = GradientBoostingClassifier(), param_grid = param_grid, cv=3, scoring='roc_auc')\n",
    "# grid_gb_under.fit(X_res_under, y_res_under)"
   ]
  },
  {
   "cell_type": "code",
   "execution_count": 46,
   "metadata": {},
   "outputs": [],
   "source": [
    "# results(grid_gb_under)"
   ]
  },
  {
   "cell_type": "code",
   "execution_count": 41,
   "metadata": {},
   "outputs": [],
   "source": [
    "# from xgboost.sklearn import XGBClassifier"
   ]
  },
  {
   "cell_type": "code",
   "execution_count": 40,
   "metadata": {},
   "outputs": [],
   "source": [
    "# param_grid = {\n",
    "#     \"colsample_bytree\": uniform(0.7, 0.3),\n",
    "#     \"gamma\": uniform(0, 0.5),\n",
    "#     \"learning_rate\": uniform(0.03, 0.3), # default 0.1 \n",
    "#     \"max_depth\": randint(2, 6), # default 3\n",
    "#     \"n_estimators\": randint(100, 150), # default 100\n",
    "#     \"subsample\": uniform(0.6, 0.4)\n",
    "# }\n",
    "\n",
    "\n",
    "# grid_xgb_under = RandomizedSearchCV(XGBClassifier(), param_distributions=params,  n_iter=200, cv=3, verbose=1, n_jobs=1, return_train_score=True, scoring='roc_auc')\n",
    "# search.fit(X_res_under, y_res_under)"
   ]
  },
  {
   "cell_type": "markdown",
   "metadata": {},
   "source": [
    "## Gather Metrics"
   ]
  },
  {
   "cell_type": "code",
   "execution_count": 47,
   "metadata": {},
   "outputs": [],
   "source": [
    "def gather_metrics(model_list):\n",
    "    '''\n",
    "    Gathers metrics from models in model_list and returns a dataframe of gathered metrics.\n",
    "    '''\n",
    "    metrics = pd.DataFrame(columns = ['Model','F1','ROC_AUC','Recall','Accuracy','Precision'])\n",
    "    \n",
    "    for model, model_name in model_list:\n",
    "        pred = model.best_estimator_.predict(X_test)\n",
    "        \n",
    "        f1 = f1_score(y_test, pred)\n",
    "        roc_auc = roc_auc_score(y_test, pred)\n",
    "        recall = recall_score(y_test, pred)\n",
    "        accuracy = accuracy_score(y_test, pred)\n",
    "        precision = precision_score(y_test, pred)\n",
    "        \n",
    "        metrics = metrics.append({'Model':model_name,\n",
    "                                  'F1':f1,\n",
    "                                  'ROC_AUC':roc_auc,\n",
    "                                  'Recall':recall,\n",
    "                                  'Accuracy':accuracy,\n",
    "                                  'Precision':precision}\n",
    "                                 ,ignore_index=True)        \n",
    "    return metrics"
   ]
  },
  {
   "cell_type": "code",
   "execution_count": 49,
   "metadata": {},
   "outputs": [
    {
     "data": {
      "text/html": [
       "<div>\n",
       "<style scoped>\n",
       "    .dataframe tbody tr th:only-of-type {\n",
       "        vertical-align: middle;\n",
       "    }\n",
       "\n",
       "    .dataframe tbody tr th {\n",
       "        vertical-align: top;\n",
       "    }\n",
       "\n",
       "    .dataframe thead th {\n",
       "        text-align: right;\n",
       "    }\n",
       "</style>\n",
       "<table border=\"1\" class=\"dataframe\">\n",
       "  <thead>\n",
       "    <tr style=\"text-align: right;\">\n",
       "      <th></th>\n",
       "      <th>Model</th>\n",
       "      <th>F1</th>\n",
       "      <th>ROC_AUC</th>\n",
       "      <th>Recall</th>\n",
       "      <th>Accuracy</th>\n",
       "      <th>Precision</th>\n",
       "    </tr>\n",
       "  </thead>\n",
       "  <tbody>\n",
       "    <tr>\n",
       "      <th>0</th>\n",
       "      <td>logistic_basic</td>\n",
       "      <td>0.446452</td>\n",
       "      <td>0.737455</td>\n",
       "      <td>0.720833</td>\n",
       "      <td>0.749416</td>\n",
       "      <td>0.323364</td>\n",
       "    </tr>\n",
       "    <tr>\n",
       "      <th>1</th>\n",
       "      <td>logistic_under</td>\n",
       "      <td>0.345125</td>\n",
       "      <td>0.672441</td>\n",
       "      <td>0.833333</td>\n",
       "      <td>0.556659</td>\n",
       "      <td>0.217628</td>\n",
       "    </tr>\n",
       "    <tr>\n",
       "      <th>2</th>\n",
       "      <td>logistic_over</td>\n",
       "      <td>0.435356</td>\n",
       "      <td>0.723845</td>\n",
       "      <td>0.687500</td>\n",
       "      <td>0.750000</td>\n",
       "      <td>0.318533</td>\n",
       "    </tr>\n",
       "    <tr>\n",
       "      <th>3</th>\n",
       "      <td>gradient_boost_under</td>\n",
       "      <td>0.328811</td>\n",
       "      <td>0.655050</td>\n",
       "      <td>0.858333</td>\n",
       "      <td>0.508762</td>\n",
       "      <td>0.203356</td>\n",
       "    </tr>\n",
       "    <tr>\n",
       "      <th>4</th>\n",
       "      <td>gradient_boost_over</td>\n",
       "      <td>0.352679</td>\n",
       "      <td>0.620765</td>\n",
       "      <td>0.329167</td>\n",
       "      <td>0.830607</td>\n",
       "      <td>0.379808</td>\n",
       "    </tr>\n",
       "    <tr>\n",
       "      <th>5</th>\n",
       "      <td>random_forest_under</td>\n",
       "      <td>0.353150</td>\n",
       "      <td>0.680888</td>\n",
       "      <td>0.829167</td>\n",
       "      <td>0.574182</td>\n",
       "      <td>0.224352</td>\n",
       "    </tr>\n",
       "    <tr>\n",
       "      <th>6</th>\n",
       "      <td>random_forest_over</td>\n",
       "      <td>0.425887</td>\n",
       "      <td>0.665965</td>\n",
       "      <td>0.425000</td>\n",
       "      <td>0.839369</td>\n",
       "      <td>0.426778</td>\n",
       "    </tr>\n",
       "  </tbody>\n",
       "</table>\n",
       "</div>"
      ],
      "text/plain": [
       "                  Model        F1   ROC_AUC    Recall  Accuracy  Precision\n",
       "0        logistic_basic  0.446452  0.737455  0.720833  0.749416   0.323364\n",
       "1        logistic_under  0.345125  0.672441  0.833333  0.556659   0.217628\n",
       "2         logistic_over  0.435356  0.723845  0.687500  0.750000   0.318533\n",
       "3  gradient_boost_under  0.328811  0.655050  0.858333  0.508762   0.203356\n",
       "4   gradient_boost_over  0.352679  0.620765  0.329167  0.830607   0.379808\n",
       "5   random_forest_under  0.353150  0.680888  0.829167  0.574182   0.224352\n",
       "6    random_forest_over  0.425887  0.665965  0.425000  0.839369   0.426778"
      ]
     },
     "execution_count": 49,
     "metadata": {},
     "output_type": "execute_result"
    }
   ],
   "source": [
    "model_list=[(grid_log,'logistic_basic'),(grid_log_under,'logistic_under'),(grid_log_over,'logistic_over'), \n",
    "            (grid_gb_under,'gradient_boost_under'),(grid_gb_over,'gradient_boost_over'),\n",
    "            (grid_rf_under,'random_forest_under'),(grid_rf_over,'random_forest_over')\n",
    "           ]\n",
    "gather_metrics(model_list)"
   ]
  },
  {
   "cell_type": "markdown",
   "metadata": {},
   "source": [
    "## Gather Best Features"
   ]
  },
  {
   "cell_type": "code",
   "execution_count": null,
   "metadata": {},
   "outputs": [],
   "source": [
    "def gather_best_features(model_list):\n",
    "    best_features = pd.DataFrame()\n",
    "\n",
    "    for model, model_name in model_list:\n",
    "        if model.estimator.__class__== sklearn.linear_model._logistic.LogisticRegression:\n",
    "            est_coefs = pd.Series(grid_log.best_estimator_.coef_[0], index=X_train.columns)\n",
    "        else:\n",
    "            est_coefs = pd.Series(model.best_estimator_.feature_importances_, index=X_train.columns)\n",
    "            \n",
    "        sortedCoefs = np.abs(est_coefs).sort_values(ascending=False)\n",
    "        sorted_df = pd.DataFrame(sortedCoefs).reset_index().rename(columns={\"index\":'features', 0: model_name})\n",
    "        best_features = pd.concat([best_features, sorted_df], axis=1)\n",
    "    return best_features"
   ]
  },
  {
   "cell_type": "code",
   "execution_count": null,
   "metadata": {},
   "outputs": [],
   "source": [
    "gather_best_features(model_list)"
   ]
  },
  {
   "cell_type": "code",
   "execution_count": null,
   "metadata": {},
   "outputs": [],
   "source": []
  }
 ],
 "metadata": {
  "kernelspec": {
   "display_name": "Python 3",
   "language": "python",
   "name": "python3"
  },
  "language_info": {
   "codemirror_mode": {
    "name": "ipython",
    "version": 3
   },
   "file_extension": ".py",
   "mimetype": "text/x-python",
   "name": "python",
   "nbconvert_exporter": "python",
   "pygments_lexer": "ipython3",
   "version": "3.7.6"
  }
 },
 "nbformat": 4,
 "nbformat_minor": 4
}
