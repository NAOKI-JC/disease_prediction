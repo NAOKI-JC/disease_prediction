{
 "cells": [
  {
   "cell_type": "markdown",
   "metadata": {},
   "source": [
    "## Import Libraries"
   ]
  },
  {
   "cell_type": "code",
   "execution_count": 1,
   "metadata": {},
   "outputs": [],
   "source": [
    "import pandas as pd\n",
    "import numpy as np\n",
    "import matplotlib.pyplot as plt\n",
    "from sklearn.utils import resample"
   ]
  },
  {
   "cell_type": "markdown",
   "metadata": {},
   "source": [
    "## Import Tables"
   ]
  },
  {
   "cell_type": "code",
   "execution_count": 2,
   "metadata": {},
   "outputs": [],
   "source": [
    "# Doug's Path\n",
    "diagnoses_icd = pd.read_csv('../data/mimic-iv-0.4/hosp/diagnoses_icd.csv.gz', compression='gzip')\n",
    "d_icd_diagnoses = pd.read_csv('../data/mimic-iv-0.4/hosp/d_icd_diagnoses.csv.gz', compression='gzip')\n",
    "admissions = pd.read_csv('../data/mimic-iv-0.4/core/admissions.csv.gz', compression='gzip')\n",
    "patients =  pd.read_csv('../data/mimic-iv-0.4/core/patients.csv.gz', compression='gzip')\n",
    "d_labitems = pd.read_csv('../data/mimic-iv-0.4/hosp/d_labitems.csv.gz', compression='gzip')\n",
    "drg_codes = pd.read_csv(\"../data/mimic-iv-0.4/hosp/drgcodes.csv.gz\", compression='gzip')\n",
    "\n",
    "# # Stephen's Path\n",
    "# path = \"D:\\\\Bootcamp\\\\MIMIC IV\\\\\"\n",
    "# admissions = pd.read_csv(path + \"core\\\\admissions.csv.gz\", compression='gzip')\n",
    "# patients = pd.read_csv(path + \"core\\\\patients.csv.gz\", compression='gzip')\n",
    "# diagnoses_icd = pd.read_csv(path + \"hosp\\\\diagnoses_icd.csv.gz\", compression='gzip')\n",
    "# d_icd_diagnoses = pd.read_csv(path + \"hosp\\\\d_icd_diagnoses.csv.gz\", compression='gzip')\n",
    "# d_labitems = pd.read_csv(path + \"hosp\\\\d_labitems.csv.gz\", compression='gzip')"
   ]
  },
  {
   "cell_type": "markdown",
   "metadata": {},
   "source": [
    "## Table Cleanup"
   ]
  },
  {
   "cell_type": "code",
   "execution_count": 3,
   "metadata": {},
   "outputs": [],
   "source": [
    "drg_codes = drg_codes.drop_duplicates().groupby('hadm_id').first().reset_index()\n",
    "drg_codes.description = drg_codes.description.str.lower()\n",
    "diagnoses_icd.icd_code = diagnoses_icd.icd_code.str.strip()\n",
    "\n",
    "d_icd_diagnoses.icd_code = d_icd_diagnoses.icd_code.str.strip()\n",
    "d_icd_diagnoses.long_title = d_icd_diagnoses.long_title.str.lower()"
   ]
  },
  {
   "cell_type": "markdown",
   "metadata": {},
   "source": [
    "## Pull codes related to target Diagnosis"
   ]
  },
  {
   "cell_type": "code",
   "execution_count": 4,
   "metadata": {
    "scrolled": true
   },
   "outputs": [],
   "source": [
    "d_icd_diagnoses.long_title = d_icd_diagnoses.long_title.str.lower()\n",
    "\n",
    "# Congestive Heart Failure\n",
    "pos_codes = d_icd_diagnoses[(d_icd_diagnoses['long_title'].str.contains('heart failure'))]\n",
    "pos_codes = pos_codes[~pos_codes.long_title.str.contains('without')]\n",
    "pos_codes = list(map(str, pos_codes['icd_code']))\n",
    "\n",
    "# kidney_list = list(d_icd_diagnoses[(d_icd_diagnoses['long_title'].str.lower().str.contains('kidney')) & (d_icd_diagnoses['long_title'].str.lower().str.contains('failure'))]['icd_code'])\n",
    "# pd.DataFrame(diagnoses_icd[diagnoses_icd['icd_code'].isin(kidney_list)].icd_code.value_counts()).reset_index().head(20).merge(d_icd_diagnoses, left_index = True, left_on = \"index\", right_on = 'icd_code', how = 'left')\n",
    "\n",
    "# ICD Codes we care about for AKI\n",
    "# 5849, N179, 5845, N170\n",
    "# pos_codes = ['5849   ', 'N179   ', '5845   ', 'N170   ']\n"
   ]
  },
  {
   "cell_type": "markdown",
   "metadata": {},
   "source": [
    "## Start filtering down to only records where Diagnosis is Positive"
   ]
  },
  {
   "cell_type": "code",
   "execution_count": 5,
   "metadata": {},
   "outputs": [],
   "source": [
    "diagnoses_icd_pos = diagnoses_icd[diagnoses_icd['icd_code'].isin(pos_codes)]\n"
   ]
  },
  {
   "cell_type": "code",
   "execution_count": 6,
   "metadata": {},
   "outputs": [
    {
     "data": {
      "text/html": [
       "<div>\n",
       "<style scoped>\n",
       "    .dataframe tbody tr th:only-of-type {\n",
       "        vertical-align: middle;\n",
       "    }\n",
       "\n",
       "    .dataframe tbody tr th {\n",
       "        vertical-align: top;\n",
       "    }\n",
       "\n",
       "    .dataframe thead th {\n",
       "        text-align: right;\n",
       "    }\n",
       "</style>\n",
       "<table border=\"1\" class=\"dataframe\">\n",
       "  <thead>\n",
       "    <tr style=\"text-align: right;\">\n",
       "      <th></th>\n",
       "      <th>subject_id</th>\n",
       "      <th>hadm_id</th>\n",
       "      <th>seq_num</th>\n",
       "      <th>icd_code</th>\n",
       "      <th>icd_version</th>\n",
       "    </tr>\n",
       "  </thead>\n",
       "  <tbody>\n",
       "    <tr>\n",
       "      <th>886</th>\n",
       "      <td>16569548</td>\n",
       "      <td>24870770</td>\n",
       "      <td>12</td>\n",
       "      <td>4280</td>\n",
       "      <td>9</td>\n",
       "    </tr>\n",
       "    <tr>\n",
       "      <th>896</th>\n",
       "      <td>16569548</td>\n",
       "      <td>24870770</td>\n",
       "      <td>7</td>\n",
       "      <td>42830</td>\n",
       "      <td>9</td>\n",
       "    </tr>\n",
       "    <tr>\n",
       "      <th>1040</th>\n",
       "      <td>18460230</td>\n",
       "      <td>25771608</td>\n",
       "      <td>1</td>\n",
       "      <td>42821</td>\n",
       "      <td>9</td>\n",
       "    </tr>\n",
       "    <tr>\n",
       "      <th>1050</th>\n",
       "      <td>18460230</td>\n",
       "      <td>25771608</td>\n",
       "      <td>2</td>\n",
       "      <td>4280</td>\n",
       "      <td>9</td>\n",
       "    </tr>\n",
       "    <tr>\n",
       "      <th>2342</th>\n",
       "      <td>19661870</td>\n",
       "      <td>22135027</td>\n",
       "      <td>3</td>\n",
       "      <td>4280</td>\n",
       "      <td>9</td>\n",
       "    </tr>\n",
       "  </tbody>\n",
       "</table>\n",
       "</div>"
      ],
      "text/plain": [
       "      subject_id   hadm_id  seq_num icd_code  icd_version\n",
       "886     16569548  24870770       12     4280            9\n",
       "896     16569548  24870770        7    42830            9\n",
       "1040    18460230  25771608        1    42821            9\n",
       "1050    18460230  25771608        2     4280            9\n",
       "2342    19661870  22135027        3     4280            9"
      ]
     },
     "execution_count": 6,
     "metadata": {},
     "output_type": "execute_result"
    }
   ],
   "source": [
    "diagnoses_icd_pos.head()"
   ]
  },
  {
   "cell_type": "markdown",
   "metadata": {},
   "source": [
    "## Generate new Admissions table with hospital stay duration and Positive Diagnosis Flag"
   ]
  },
  {
   "cell_type": "code",
   "execution_count": 7,
   "metadata": {},
   "outputs": [
    {
     "name": "stderr",
     "output_type": "stream",
     "text": [
      "/Users/brandonryu/opt/anaconda3/lib/python3.7/site-packages/ipykernel_launcher.py:3: SettingWithCopyWarning: \n",
      "A value is trying to be set on a copy of a slice from a DataFrame.\n",
      "Try using .loc[row_indexer,col_indexer] = value instead\n",
      "\n",
      "See the caveats in the documentation: https://pandas.pydata.org/pandas-docs/stable/user_guide/indexing.html#returning-a-view-versus-a-copy\n",
      "  This is separate from the ipykernel package so we can avoid doing imports until\n",
      "/Users/brandonryu/opt/anaconda3/lib/python3.7/site-packages/ipykernel_launcher.py:4: SettingWithCopyWarning: \n",
      "A value is trying to be set on a copy of a slice from a DataFrame.\n",
      "Try using .loc[row_indexer,col_indexer] = value instead\n",
      "\n",
      "See the caveats in the documentation: https://pandas.pydata.org/pandas-docs/stable/user_guide/indexing.html#returning-a-view-versus-a-copy\n",
      "  after removing the cwd from sys.path.\n",
      "/Users/brandonryu/opt/anaconda3/lib/python3.7/site-packages/ipykernel_launcher.py:5: SettingWithCopyWarning: \n",
      "A value is trying to be set on a copy of a slice from a DataFrame.\n",
      "Try using .loc[row_indexer,col_indexer] = value instead\n",
      "\n",
      "See the caveats in the documentation: https://pandas.pydata.org/pandas-docs/stable/user_guide/indexing.html#returning-a-view-versus-a-copy\n",
      "  \"\"\"\n"
     ]
    }
   ],
   "source": [
    "admissions_pos = admissions[['subject_id', 'hadm_id', 'admittime', 'dischtime', 'ethnicity']]\n",
    "\n",
    "admissions_pos['pos_subj'] = np.where(admissions_pos.subject_id.isin(diagnoses_icd_pos.subject_id), 1, 0)\n",
    "admissions_pos['pos_adm'] = np.where(admissions_pos.hadm_id.isin(diagnoses_icd_pos.hadm_id), 1, 0)\n",
    "admissions_pos['time_spent'] = pd.to_datetime(admissions_pos['dischtime']) - pd.to_datetime(admissions_pos['admittime'])\n",
    "\n",
    "admissions.edregtime = pd.to_datetime(admissions.edregtime)\n",
    "admissions.edouttime = pd.to_datetime(admissions.edouttime)\n",
    "admissions['ed_length']=np.where(admissions.edregtime.isna(),0,(admissions.edouttime-admissions.edregtime)/pd.offsets.Hour(1))"
   ]
  },
  {
   "cell_type": "code",
   "execution_count": 8,
   "metadata": {},
   "outputs": [
    {
     "data": {
      "text/html": [
       "<div>\n",
       "<style scoped>\n",
       "    .dataframe tbody tr th:only-of-type {\n",
       "        vertical-align: middle;\n",
       "    }\n",
       "\n",
       "    .dataframe tbody tr th {\n",
       "        vertical-align: top;\n",
       "    }\n",
       "\n",
       "    .dataframe thead th {\n",
       "        text-align: right;\n",
       "    }\n",
       "</style>\n",
       "<table border=\"1\" class=\"dataframe\">\n",
       "  <thead>\n",
       "    <tr style=\"text-align: right;\">\n",
       "      <th></th>\n",
       "      <th>subject_id</th>\n",
       "      <th>hadm_id</th>\n",
       "      <th>admittime</th>\n",
       "      <th>dischtime</th>\n",
       "      <th>ethnicity</th>\n",
       "      <th>pos_subj</th>\n",
       "      <th>pos_adm</th>\n",
       "      <th>time_spent</th>\n",
       "    </tr>\n",
       "  </thead>\n",
       "  <tbody>\n",
       "    <tr>\n",
       "      <th>0</th>\n",
       "      <td>12427812</td>\n",
       "      <td>21593330</td>\n",
       "      <td>2184-01-06 11:51:00</td>\n",
       "      <td>2184-01-10 11:45:00</td>\n",
       "      <td>UNKNOWN</td>\n",
       "      <td>0</td>\n",
       "      <td>0</td>\n",
       "      <td>3 days 23:54:00</td>\n",
       "    </tr>\n",
       "    <tr>\n",
       "      <th>1</th>\n",
       "      <td>14029832</td>\n",
       "      <td>22059088</td>\n",
       "      <td>2120-01-18 01:28:00</td>\n",
       "      <td>2120-01-20 16:13:00</td>\n",
       "      <td>OTHER</td>\n",
       "      <td>0</td>\n",
       "      <td>0</td>\n",
       "      <td>2 days 14:45:00</td>\n",
       "    </tr>\n",
       "    <tr>\n",
       "      <th>2</th>\n",
       "      <td>14495017</td>\n",
       "      <td>22484010</td>\n",
       "      <td>2175-01-28 15:41:00</td>\n",
       "      <td>2175-01-29 16:00:00</td>\n",
       "      <td>WHITE</td>\n",
       "      <td>0</td>\n",
       "      <td>0</td>\n",
       "      <td>1 days 00:19:00</td>\n",
       "    </tr>\n",
       "    <tr>\n",
       "      <th>3</th>\n",
       "      <td>13676048</td>\n",
       "      <td>23865469</td>\n",
       "      <td>2193-01-19 05:27:00</td>\n",
       "      <td>2193-01-24 18:59:00</td>\n",
       "      <td>WHITE</td>\n",
       "      <td>0</td>\n",
       "      <td>0</td>\n",
       "      <td>5 days 13:32:00</td>\n",
       "    </tr>\n",
       "    <tr>\n",
       "      <th>4</th>\n",
       "      <td>13831972</td>\n",
       "      <td>27763544</td>\n",
       "      <td>2131-01-27 04:03:00</td>\n",
       "      <td>2131-01-27 05:39:00</td>\n",
       "      <td>WHITE</td>\n",
       "      <td>0</td>\n",
       "      <td>0</td>\n",
       "      <td>0 days 01:36:00</td>\n",
       "    </tr>\n",
       "    <tr>\n",
       "      <th>5</th>\n",
       "      <td>18523038</td>\n",
       "      <td>25414328</td>\n",
       "      <td>2142-08-26 17:14:00</td>\n",
       "      <td>2142-08-27 10:00:00</td>\n",
       "      <td>WHITE</td>\n",
       "      <td>0</td>\n",
       "      <td>0</td>\n",
       "      <td>0 days 16:46:00</td>\n",
       "    </tr>\n",
       "    <tr>\n",
       "      <th>6</th>\n",
       "      <td>16705931</td>\n",
       "      <td>20580522</td>\n",
       "      <td>2174-10-24 11:30:00</td>\n",
       "      <td>2174-10-24 18:45:00</td>\n",
       "      <td>WHITE</td>\n",
       "      <td>0</td>\n",
       "      <td>0</td>\n",
       "      <td>0 days 07:15:00</td>\n",
       "    </tr>\n",
       "    <tr>\n",
       "      <th>7</th>\n",
       "      <td>19963742</td>\n",
       "      <td>24951506</td>\n",
       "      <td>2171-07-04 15:58:00</td>\n",
       "      <td>2171-07-05 13:37:00</td>\n",
       "      <td>UNKNOWN</td>\n",
       "      <td>0</td>\n",
       "      <td>0</td>\n",
       "      <td>0 days 21:39:00</td>\n",
       "    </tr>\n",
       "    <tr>\n",
       "      <th>8</th>\n",
       "      <td>10903424</td>\n",
       "      <td>22568585</td>\n",
       "      <td>2181-01-31 13:09:00</td>\n",
       "      <td>2181-01-31 13:42:00</td>\n",
       "      <td>WHITE</td>\n",
       "      <td>0</td>\n",
       "      <td>0</td>\n",
       "      <td>0 days 00:33:00</td>\n",
       "    </tr>\n",
       "    <tr>\n",
       "      <th>9</th>\n",
       "      <td>15030422</td>\n",
       "      <td>21975876</td>\n",
       "      <td>2149-09-21 23:54:00</td>\n",
       "      <td>2149-09-22 03:59:00</td>\n",
       "      <td>WHITE</td>\n",
       "      <td>0</td>\n",
       "      <td>0</td>\n",
       "      <td>0 days 04:05:00</td>\n",
       "    </tr>\n",
       "  </tbody>\n",
       "</table>\n",
       "</div>"
      ],
      "text/plain": [
       "   subject_id   hadm_id            admittime            dischtime ethnicity  \\\n",
       "0    12427812  21593330  2184-01-06 11:51:00  2184-01-10 11:45:00   UNKNOWN   \n",
       "1    14029832  22059088  2120-01-18 01:28:00  2120-01-20 16:13:00     OTHER   \n",
       "2    14495017  22484010  2175-01-28 15:41:00  2175-01-29 16:00:00     WHITE   \n",
       "3    13676048  23865469  2193-01-19 05:27:00  2193-01-24 18:59:00     WHITE   \n",
       "4    13831972  27763544  2131-01-27 04:03:00  2131-01-27 05:39:00     WHITE   \n",
       "5    18523038  25414328  2142-08-26 17:14:00  2142-08-27 10:00:00     WHITE   \n",
       "6    16705931  20580522  2174-10-24 11:30:00  2174-10-24 18:45:00     WHITE   \n",
       "7    19963742  24951506  2171-07-04 15:58:00  2171-07-05 13:37:00   UNKNOWN   \n",
       "8    10903424  22568585  2181-01-31 13:09:00  2181-01-31 13:42:00     WHITE   \n",
       "9    15030422  21975876  2149-09-21 23:54:00  2149-09-22 03:59:00     WHITE   \n",
       "\n",
       "   pos_subj  pos_adm      time_spent  \n",
       "0         0        0 3 days 23:54:00  \n",
       "1         0        0 2 days 14:45:00  \n",
       "2         0        0 1 days 00:19:00  \n",
       "3         0        0 5 days 13:32:00  \n",
       "4         0        0 0 days 01:36:00  \n",
       "5         0        0 0 days 16:46:00  \n",
       "6         0        0 0 days 07:15:00  \n",
       "7         0        0 0 days 21:39:00  \n",
       "8         0        0 0 days 00:33:00  \n",
       "9         0        0 0 days 04:05:00  "
      ]
     },
     "execution_count": 8,
     "metadata": {},
     "output_type": "execute_result"
    }
   ],
   "source": [
    "admissions_pos.head(10)"
   ]
  },
  {
   "cell_type": "code",
   "execution_count": 9,
   "metadata": {},
   "outputs": [
    {
     "data": {
      "text/html": [
       "<div>\n",
       "<style scoped>\n",
       "    .dataframe tbody tr th:only-of-type {\n",
       "        vertical-align: middle;\n",
       "    }\n",
       "\n",
       "    .dataframe tbody tr th {\n",
       "        vertical-align: top;\n",
       "    }\n",
       "\n",
       "    .dataframe thead th {\n",
       "        text-align: right;\n",
       "    }\n",
       "</style>\n",
       "<table border=\"1\" class=\"dataframe\">\n",
       "  <thead>\n",
       "    <tr style=\"text-align: right;\">\n",
       "      <th></th>\n",
       "      <th>subject_id</th>\n",
       "      <th>hadm_id</th>\n",
       "      <th>admittime</th>\n",
       "      <th>dischtime</th>\n",
       "      <th>ethnicity</th>\n",
       "      <th>pos_subj</th>\n",
       "      <th>pos_adm</th>\n",
       "      <th>time_spent</th>\n",
       "      <th>gender</th>\n",
       "      <th>anchor_age</th>\n",
       "      <th>anchor_year</th>\n",
       "      <th>anchor_year_group</th>\n",
       "      <th>dod</th>\n",
       "    </tr>\n",
       "  </thead>\n",
       "  <tbody>\n",
       "    <tr>\n",
       "      <th>3</th>\n",
       "      <td>14495017</td>\n",
       "      <td>22484010</td>\n",
       "      <td>2175-01-28 15:41:00</td>\n",
       "      <td>2175-01-29 16:00:00</td>\n",
       "      <td>WHITE</td>\n",
       "      <td>0</td>\n",
       "      <td>0</td>\n",
       "      <td>1 days 00:19:00</td>\n",
       "      <td>M</td>\n",
       "      <td>0</td>\n",
       "      <td>2175</td>\n",
       "      <td>2011 - 2013</td>\n",
       "      <td>NaN</td>\n",
       "    </tr>\n",
       "    <tr>\n",
       "      <th>4</th>\n",
       "      <td>14495017</td>\n",
       "      <td>23358160</td>\n",
       "      <td>2175-01-23 05:58:00</td>\n",
       "      <td>2175-01-25 13:41:00</td>\n",
       "      <td>WHITE</td>\n",
       "      <td>0</td>\n",
       "      <td>0</td>\n",
       "      <td>2 days 07:43:00</td>\n",
       "      <td>M</td>\n",
       "      <td>0</td>\n",
       "      <td>2175</td>\n",
       "      <td>2011 - 2013</td>\n",
       "      <td>NaN</td>\n",
       "    </tr>\n",
       "    <tr>\n",
       "      <th>49</th>\n",
       "      <td>12003385</td>\n",
       "      <td>23167764</td>\n",
       "      <td>2197-12-11 23:35:00</td>\n",
       "      <td>2197-12-12 11:26:00</td>\n",
       "      <td>WHITE</td>\n",
       "      <td>0</td>\n",
       "      <td>0</td>\n",
       "      <td>0 days 11:51:00</td>\n",
       "      <td>M</td>\n",
       "      <td>51</td>\n",
       "      <td>2194</td>\n",
       "      <td>2014 - 2016</td>\n",
       "      <td>NaN</td>\n",
       "    </tr>\n",
       "    <tr>\n",
       "      <th>50</th>\n",
       "      <td>12003385</td>\n",
       "      <td>26203188</td>\n",
       "      <td>2195-03-23 16:40:00</td>\n",
       "      <td>2195-03-24 11:40:00</td>\n",
       "      <td>WHITE</td>\n",
       "      <td>0</td>\n",
       "      <td>0</td>\n",
       "      <td>0 days 19:00:00</td>\n",
       "      <td>M</td>\n",
       "      <td>51</td>\n",
       "      <td>2194</td>\n",
       "      <td>2014 - 2016</td>\n",
       "      <td>NaN</td>\n",
       "    </tr>\n",
       "    <tr>\n",
       "      <th>51</th>\n",
       "      <td>14402927</td>\n",
       "      <td>23499598</td>\n",
       "      <td>2131-06-14 18:10:00</td>\n",
       "      <td>2131-06-15 18:55:00</td>\n",
       "      <td>WHITE</td>\n",
       "      <td>0</td>\n",
       "      <td>0</td>\n",
       "      <td>1 days 00:45:00</td>\n",
       "      <td>M</td>\n",
       "      <td>69</td>\n",
       "      <td>2131</td>\n",
       "      <td>2011 - 2013</td>\n",
       "      <td>NaN</td>\n",
       "    </tr>\n",
       "    <tr>\n",
       "      <th>...</th>\n",
       "      <td>...</td>\n",
       "      <td>...</td>\n",
       "      <td>...</td>\n",
       "      <td>...</td>\n",
       "      <td>...</td>\n",
       "      <td>...</td>\n",
       "      <td>...</td>\n",
       "      <td>...</td>\n",
       "      <td>...</td>\n",
       "      <td>...</td>\n",
       "      <td>...</td>\n",
       "      <td>...</td>\n",
       "      <td>...</td>\n",
       "    </tr>\n",
       "    <tr>\n",
       "      <th>524508</th>\n",
       "      <td>18710513</td>\n",
       "      <td>22475638</td>\n",
       "      <td>2176-06-15 21:51:00</td>\n",
       "      <td>2176-06-24 16:30:00</td>\n",
       "      <td>WHITE</td>\n",
       "      <td>0</td>\n",
       "      <td>0</td>\n",
       "      <td>8 days 18:39:00</td>\n",
       "      <td>M</td>\n",
       "      <td>60</td>\n",
       "      <td>2176</td>\n",
       "      <td>2014 - 2016</td>\n",
       "      <td>NaN</td>\n",
       "    </tr>\n",
       "    <tr>\n",
       "      <th>524509</th>\n",
       "      <td>18967046</td>\n",
       "      <td>26232008</td>\n",
       "      <td>2114-07-15 03:45:00</td>\n",
       "      <td>2114-07-16 09:05:00</td>\n",
       "      <td>WHITE</td>\n",
       "      <td>0</td>\n",
       "      <td>0</td>\n",
       "      <td>1 days 05:20:00</td>\n",
       "      <td>M</td>\n",
       "      <td>29</td>\n",
       "      <td>2114</td>\n",
       "      <td>2014 - 2016</td>\n",
       "      <td>NaN</td>\n",
       "    </tr>\n",
       "    <tr>\n",
       "      <th>524512</th>\n",
       "      <td>14494665</td>\n",
       "      <td>26478180</td>\n",
       "      <td>2138-07-11 22:01:00</td>\n",
       "      <td>2138-07-14 10:30:00</td>\n",
       "      <td>WHITE</td>\n",
       "      <td>0</td>\n",
       "      <td>0</td>\n",
       "      <td>2 days 12:29:00</td>\n",
       "      <td>M</td>\n",
       "      <td>81</td>\n",
       "      <td>2138</td>\n",
       "      <td>2011 - 2013</td>\n",
       "      <td>NaN</td>\n",
       "    </tr>\n",
       "    <tr>\n",
       "      <th>524513</th>\n",
       "      <td>16424818</td>\n",
       "      <td>26853438</td>\n",
       "      <td>2145-01-16 17:33:00</td>\n",
       "      <td>2145-01-17 12:30:00</td>\n",
       "      <td>WHITE</td>\n",
       "      <td>0</td>\n",
       "      <td>0</td>\n",
       "      <td>0 days 18:57:00</td>\n",
       "      <td>M</td>\n",
       "      <td>34</td>\n",
       "      <td>2145</td>\n",
       "      <td>2014 - 2016</td>\n",
       "      <td>NaN</td>\n",
       "    </tr>\n",
       "    <tr>\n",
       "      <th>524519</th>\n",
       "      <td>19389857</td>\n",
       "      <td>23176714</td>\n",
       "      <td>2189-03-01 00:58:00</td>\n",
       "      <td>2189-03-02 15:22:00</td>\n",
       "      <td>WHITE</td>\n",
       "      <td>0</td>\n",
       "      <td>0</td>\n",
       "      <td>1 days 14:24:00</td>\n",
       "      <td>M</td>\n",
       "      <td>76</td>\n",
       "      <td>2189</td>\n",
       "      <td>2017 - 2019</td>\n",
       "      <td>NaN</td>\n",
       "    </tr>\n",
       "  </tbody>\n",
       "</table>\n",
       "<p>252966 rows × 13 columns</p>\n",
       "</div>"
      ],
      "text/plain": [
       "        subject_id   hadm_id            admittime            dischtime  \\\n",
       "3         14495017  22484010  2175-01-28 15:41:00  2175-01-29 16:00:00   \n",
       "4         14495017  23358160  2175-01-23 05:58:00  2175-01-25 13:41:00   \n",
       "49        12003385  23167764  2197-12-11 23:35:00  2197-12-12 11:26:00   \n",
       "50        12003385  26203188  2195-03-23 16:40:00  2195-03-24 11:40:00   \n",
       "51        14402927  23499598  2131-06-14 18:10:00  2131-06-15 18:55:00   \n",
       "...            ...       ...                  ...                  ...   \n",
       "524508    18710513  22475638  2176-06-15 21:51:00  2176-06-24 16:30:00   \n",
       "524509    18967046  26232008  2114-07-15 03:45:00  2114-07-16 09:05:00   \n",
       "524512    14494665  26478180  2138-07-11 22:01:00  2138-07-14 10:30:00   \n",
       "524513    16424818  26853438  2145-01-16 17:33:00  2145-01-17 12:30:00   \n",
       "524519    19389857  23176714  2189-03-01 00:58:00  2189-03-02 15:22:00   \n",
       "\n",
       "       ethnicity  pos_subj  pos_adm      time_spent gender  anchor_age  \\\n",
       "3          WHITE         0        0 1 days 00:19:00      M           0   \n",
       "4          WHITE         0        0 2 days 07:43:00      M           0   \n",
       "49         WHITE         0        0 0 days 11:51:00      M          51   \n",
       "50         WHITE         0        0 0 days 19:00:00      M          51   \n",
       "51         WHITE         0        0 1 days 00:45:00      M          69   \n",
       "...          ...       ...      ...             ...    ...         ...   \n",
       "524508     WHITE         0        0 8 days 18:39:00      M          60   \n",
       "524509     WHITE         0        0 1 days 05:20:00      M          29   \n",
       "524512     WHITE         0        0 2 days 12:29:00      M          81   \n",
       "524513     WHITE         0        0 0 days 18:57:00      M          34   \n",
       "524519     WHITE         0        0 1 days 14:24:00      M          76   \n",
       "\n",
       "        anchor_year anchor_year_group  dod  \n",
       "3              2175       2011 - 2013  NaN  \n",
       "4              2175       2011 - 2013  NaN  \n",
       "49             2194       2014 - 2016  NaN  \n",
       "50             2194       2014 - 2016  NaN  \n",
       "51             2131       2011 - 2013  NaN  \n",
       "...             ...               ...  ...  \n",
       "524508         2176       2014 - 2016  NaN  \n",
       "524509         2114       2014 - 2016  NaN  \n",
       "524512         2138       2011 - 2013  NaN  \n",
       "524513         2145       2014 - 2016  NaN  \n",
       "524519         2189       2017 - 2019  NaN  \n",
       "\n",
       "[252966 rows x 13 columns]"
      ]
     },
     "execution_count": 9,
     "metadata": {},
     "output_type": "execute_result"
    }
   ],
   "source": [
    "admissions_pos=admissions_pos.merge(patients, on='subject_id')\n",
    "admissions_pos = admissions_pos[admissions_pos.gender=='M']\n",
    "admissions_pos"
   ]
  },
  {
   "cell_type": "markdown",
   "metadata": {},
   "source": [
    "## Sample Target Patients for Modeling"
   ]
  },
  {
   "cell_type": "code",
   "execution_count": 10,
   "metadata": {},
   "outputs": [],
   "source": [
    "n_samples = 15000\n",
    "\n",
    "target_sample = admissions_pos[['subject_id', 'pos_subj']].drop_duplicates()\n",
    "\n",
    "target_sample = resample(target_sample, n_samples = n_samples, replace = False, stratify = target_sample.pos_subj, random_state = 0)\n"
   ]
  },
  {
   "cell_type": "code",
   "execution_count": 11,
   "metadata": {},
   "outputs": [
    {
     "name": "stderr",
     "output_type": "stream",
     "text": [
      "/Users/brandonryu/opt/anaconda3/lib/python3.7/site-packages/ipykernel_launcher.py:4: SettingWithCopyWarning: \n",
      "A value is trying to be set on a copy of a slice from a DataFrame.\n",
      "Try using .loc[row_indexer,col_indexer] = value instead\n",
      "\n",
      "See the caveats in the documentation: https://pandas.pydata.org/pandas-docs/stable/user_guide/indexing.html#returning-a-view-versus-a-copy\n",
      "  after removing the cwd from sys.path.\n"
     ]
    },
    {
     "name": "stdout",
     "output_type": "stream",
     "text": [
      "(13543, 16)\n",
      "13543\n",
      "13543\n"
     ]
    }
   ],
   "source": [
    "# identify first pos visit for NON-pos patients\n",
    "sample_non = target_sample[target_sample.pos_subj==0]\n",
    "admissions_non = admissions[admissions.subject_id.isin(sample_non.subject_id)]\n",
    "admissions_non['admittime'] = pd.to_datetime(admissions_non.admittime)\n",
    "\n",
    "select_random = lambda obj: obj.loc[np.random.choice(obj.index, 1, False),:]\n",
    "\n",
    "first_non = admissions_non.groupby('subject_id').apply(select_random).reset_index(drop=True)\n",
    "# sanity checks\n",
    "print(first_non.shape)                 # number of rows\n",
    "print(first_non.subject_id.nunique())  # matches number of patients\n",
    "print(first_non.hadm_id.nunique())     # matches number of visits\n",
    "\n",
    "# pull out hospital visits for target non-pos samples\n",
    "sample_non = sample_non.merge(first_non, how='inner', on='subject_id')\n",
    "sample_non = sample_non[['subject_id', 'hadm_id', 'pos_subj']]\n",
    "sample_non = sample_non.rename({'pos_subj':'pos'}, axis=1)"
   ]
  },
  {
   "cell_type": "code",
   "execution_count": 12,
   "metadata": {},
   "outputs": [
    {
     "name": "stderr",
     "output_type": "stream",
     "text": [
      "/Users/brandonryu/opt/anaconda3/lib/python3.7/site-packages/ipykernel_launcher.py:4: SettingWithCopyWarning: \n",
      "A value is trying to be set on a copy of a slice from a DataFrame.\n",
      "Try using .loc[row_indexer,col_indexer] = value instead\n",
      "\n",
      "See the caveats in the documentation: https://pandas.pydata.org/pandas-docs/stable/user_guide/indexing.html#returning-a-view-versus-a-copy\n",
      "  after removing the cwd from sys.path.\n"
     ]
    },
    {
     "name": "stdout",
     "output_type": "stream",
     "text": [
      "1.0\n",
      "(1457, 3)\n",
      "1457\n",
      "1457\n"
     ]
    }
   ],
   "source": [
    "# identify first pos visit for all pos patients\n",
    "sample_pos = target_sample[target_sample.pos_subj==1]\n",
    "first_pos = admissions_pos[admissions_pos.subject_id.isin(sample_pos.subject_id)]\n",
    "first_pos['admittime'] = pd.to_datetime(first_pos.admittime)\n",
    "first_pos = first_pos.loc[first_pos[first_pos.pos_adm==1].groupby('subject_id').admittime.idxmin()]\n",
    "first_pos = first_pos[['subject_id', 'hadm_id', 'pos_adm']]\n",
    "# sanity checks\n",
    "print(np.mean(first_pos.pos_adm))   # make sure everyone has pos\n",
    "print(first_pos.shape)                 # make sure number of rows...\n",
    "print(first_pos.subject_id.nunique())  # ...matches number of patients\n",
    "print(first_pos.hadm_id.nunique())     # ...matches number of visits\n",
    "\n",
    "# pull out hospital visits for target pos samples\n",
    "sample_pos = sample_pos.merge(first_pos, how='inner', on='subject_id')\n",
    "sample_pos = sample_pos[['subject_id', 'hadm_id', 'pos_adm']]\n",
    "sample_pos = sample_pos.rename({'pos_adm':'pos'}, axis=1)"
   ]
  },
  {
   "cell_type": "code",
   "execution_count": 13,
   "metadata": {},
   "outputs": [
    {
     "name": "stdout",
     "output_type": "stream",
     "text": [
      "(15000, 3)\n",
      "15000\n"
     ]
    }
   ],
   "source": [
    "# merge back together\n",
    "admissions_sample = pd.concat([sample_pos, sample_non])\n",
    "admissions_sample = admissions_sample.reset_index(drop=True)\n",
    "print(admissions_sample.shape)                  # sanity check\n",
    "print(admissions_sample.subject_id.nunique())   # sanity check"
   ]
  },
  {
   "cell_type": "code",
   "execution_count": 14,
   "metadata": {},
   "outputs": [],
   "source": [
    "# merge features from other tables\n",
    "admissions_sample = admissions_sample.merge(admissions[['hadm_id', 'ethnicity','ed_length','insurance']], how='left', on='hadm_id')\n",
    "admissions_sample = admissions_sample.merge(patients[['subject_id', 'gender', 'anchor_age']], how='left', on='subject_id')\n",
    "\n",
    "# basic data cleaning\n",
    "admissions_sample.loc[admissions_sample.ethnicity=='UNABLE TO OBTAIN', 'ethnicity'] = 'UNKNOWN'  # combine unkown\n",
    "admissions_sample = admissions_sample.rename(columns={'anchor_age':'age'})\n",
    "admissions_sample = admissions_sample[admissions_sample.age > 0]   # remove children"
   ]
  },
  {
   "cell_type": "code",
   "execution_count": 15,
   "metadata": {},
   "outputs": [
    {
     "data": {
      "text/plain": [
       "Text(0.5, 1.0, 'Age Distribution')"
      ]
     },
     "execution_count": 15,
     "metadata": {},
     "output_type": "execute_result"
    },
    {
     "data": {
      "image/png": "[encoded data removed]",
      "text/plain": [
       "<Figure size 432x288 with 1 Axes>"
      ]
     },
     "metadata": {
      "needs_background": "light"
     },
     "output_type": "display_data"
    }
   ],
   "source": [
    "admissions_sample.age.hist()\n",
    "plt.title('Age Distribution')"
   ]
  },
  {
   "cell_type": "code",
   "execution_count": 16,
   "metadata": {},
   "outputs": [
    {
     "data": {
      "text/plain": [
       "Text(0.5, 1.0, 'Gender Distribution')"
      ]
     },
     "execution_count": 16,
     "metadata": {},
     "output_type": "execute_result"
    },
    {
     "data": {
      "image/png": "[encoded data removed]",
      "text/plain": [
       "<Figure size 432x288 with 1 Axes>"
      ]
     },
     "metadata": {
      "needs_background": "light"
     },
     "output_type": "display_data"
    }
   ],
   "source": [
    "admissions_sample.gender.value_counts().plot(kind='bar')\n",
    "plt.title('Gender Distribution')"
   ]
  },
  {
   "cell_type": "code",
   "execution_count": 17,
   "metadata": {},
   "outputs": [
    {
     "data": {
      "text/plain": [
       "Text(0.5, 1.0, 'Ethnicity Distribution')"
      ]
     },
     "execution_count": 17,
     "metadata": {},
     "output_type": "execute_result"
    },
    {
     "data": {
      "image/png": "[encoded data removed]",
      "text/plain": [
       "<Figure size 432x288 with 1 Axes>"
      ]
     },
     "metadata": {
      "needs_background": "light"
     },
     "output_type": "display_data"
    }
   ],
   "source": [
    "admissions_sample.ethnicity.value_counts().plot(kind='barh')\n",
    "plt.title('Ethnicity Distribution')"
   ]
  },
  {
   "cell_type": "code",
   "execution_count": 18,
   "metadata": {},
   "outputs": [
    {
     "name": "stdout",
     "output_type": "stream",
     "text": [
      "Number of unique Patients:  15000\n",
      "\n",
      "Sample Breakdown:\n",
      "0    13543\n",
      "1     1457\n",
      "Name: pos_subj, dtype: int64\n"
     ]
    }
   ],
   "source": [
    "print('Number of unique Patients: ', target_sample.subject_id.nunique())\n",
    "print('\\nSample Breakdown:')\n",
    "print(target_sample.pos_subj.value_counts())"
   ]
  },
  {
   "cell_type": "markdown",
   "metadata": {},
   "source": [
    "## Add Comorbidities to Sample Table"
   ]
  },
  {
   "cell_type": "code",
   "execution_count": 19,
   "metadata": {},
   "outputs": [],
   "source": [
    "adm_date = admissions_sample.merge(admissions[['hadm_id', 'admittime']], on = 'hadm_id')\n",
    "\n",
    "admissions.admittime = pd.to_datetime(admissions.admittime)\n",
    "admissions.dischtime = pd.to_datetime(admissions.dischtime)\n",
    "\n",
    "subj_admissions = admissions.loc[(admissions.subject_id.isin(adm_date.subject_id.unique()))]\n",
    "subj_admissions = subj_admissions.sort_values(['subject_id', 'admittime']).reset_index(drop=True)\n",
    "subj_admissions['sample_adm'] = np.where(subj_admissions.hadm_id.isin(admissions_sample.hadm_id), 1, 0)\n",
    "\n",
    "sample_idx = subj_admissions[subj_admissions.sample_adm==1].index\n",
    "\n",
    "sample_admission = subj_admissions.iloc[sample_idx].reset_index(drop=True)\n",
    "prior_admission = subj_admissions.iloc[sample_idx-1].reset_index(drop=True)\n",
    "\n",
    "prior_index = (sample_admission['subject_id'] == prior_admission['subject_id']) & ((sample_admission['admittime'] - prior_admission['dischtime']) < pd.to_timedelta('1095 days'))\n",
    "\n",
    "sample_hadm = prior_admission['hadm_id']\n",
    "\n",
    "s_drg = drg_codes[drg_codes.hadm_id.isin(sample_hadm)][['hadm_id', 'description']]\n",
    "comorbidities =  ['sepsis', 'pneumoia', 'diabetes', 'hypertension',\\\n",
    "              'renal failure', 'kidney failure',\\\n",
    "              'atrial fibrillation', 'atherosclero', 'cardiac arrhythmia']\n",
    "# come back for \"vascular procedures\", \"coronary bypass\", \"cardiac congenital\"\n",
    "for comorb in comorbidities:\n",
    "    s_drg[comorb] =  np.where(s_drg.description.str.contains(comorb), 1, 0)\n",
    "\n",
    "s_icd = diagnoses_icd[diagnoses_icd.hadm_id.isin(sample_hadm)][['hadm_id', 'icd_version', 'icd_code']]\n",
    "s_icd = s_icd.merge(d_icd_diagnoses, how='left', on=['icd_version', 'icd_code'])\n",
    "s_icd = s_icd.drop(['icd_code', 'icd_version'], axis=1)\n",
    "s_icd = s_icd.groupby('hadm_id').agg(description=('long_title', lambda x: ''.join(str(x).rstrip()))).reset_index()\n",
    "for comorb in comorbidities:\n",
    "    s_icd[comorb] =  np.where(s_icd.description.str.contains(comorb), 1, 0)\n",
    "\n",
    "s_comorb = pd.merge(s_drg, s_icd, how='outer', on='hadm_id').fillna(0)\n",
    "for co_ in comorbidities:\n",
    "    s_comorb[co_] = s_comorb[co_+'_x'] + s_comorb[co_+'_y']\n",
    "    s_comorb[co_] = np.where(s_comorb[co_] > 0, 1, 0)\n",
    "    s_comorb = s_comorb.drop([co_+'_x', co_+'_y'], axis=1)\n",
    "s_comorb['renal_failure'] = np.where((s_comorb['renal failure'] + s_comorb['kidney failure']) > 1, 1, 0)\n",
    "s_comorb['arrhythmia'] = np.where((s_comorb['atrial fibrillation'] + s_comorb['cardiac arrhythmia']) > 1, 1, 0)\n",
    "s_comorb = s_comorb.drop(['kidney failure', 'renal failure', 'atrial fibrillation', 'cardiac arrhythmia',\\\n",
    "                   'description_x', 'description_y'], axis=1)\n",
    "\n",
    "prior_admission = prior_admission.merge(s_comorb, how='left', on='hadm_id').fillna(0)\n",
    "\n",
    "prior_admission_trimmed = prior_admission.loc[prior_index][['sepsis', 'pneumoia', 'diabetes', 'hypertension', 'atherosclero', 'renal_failure', 'arrhythmia']]\n",
    "\n",
    "sample_admission = sample_admission.merge(prior_admission_trimmed, how = 'left', left_index = True, right_index = True).fillna(0)\n",
    "\n",
    "admissions_sample = admissions_sample.merge(sample_admission[['hadm_id', 'pneumoia', 'diabetes', 'hypertension', 'atherosclero', 'renal_failure', 'arrhythmia']], on = 'hadm_id')\n"
   ]
  },
  {
   "cell_type": "markdown",
   "metadata": {},
   "source": [
    "Generate pickle file so we all work on the exact same data"
   ]
  },
  {
   "cell_type": "code",
   "execution_count": 20,
   "metadata": {},
   "outputs": [],
   "source": [
    "admissions_sample.to_pickle('../data/admissions_sample_male.pkl')"
   ]
  },
  {
   "cell_type": "code",
   "execution_count": null,
   "metadata": {},
   "outputs": [],
   "source": [
    "# admissions_sample = pd.read_pickle(\"admissions_sample.pkl\")"
   ]
  },
  {
   "cell_type": "code",
   "execution_count": null,
   "metadata": {},
   "outputs": [],
   "source": []
  }
 ],
 "metadata": {
  "kernelspec": {
   "display_name": "Python 3",
   "language": "python",
   "name": "python3"
  },
  "language_info": {
   "codemirror_mode": {
    "name": "ipython",
    "version": 3
   },
   "file_extension": ".py",
   "mimetype": "text/x-python",
   "name": "python",
   "nbconvert_exporter": "python",
   "pygments_lexer": "ipython3",
   "version": "3.7.6"
  }
 },
 "nbformat": 4,
 "nbformat_minor": 4
}
