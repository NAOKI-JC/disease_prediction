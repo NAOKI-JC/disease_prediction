{
 "cells": [
  {
   "cell_type": "markdown",
   "metadata": {},
   "source": [
    "## Base Models"
   ]
  },
  {
   "cell_type": "code",
   "execution_count": 1,
   "metadata": {},
   "outputs": [],
   "source": [
    "import pandas as pd\n",
    "import numpy as np\n",
    "from sklearn.model_selection import train_test_split"
   ]
  },
  {
   "cell_type": "code",
   "execution_count": 35,
   "metadata": {},
   "outputs": [],
   "source": [
    "pos_final_test = pd.read_csv('./pos_final_test.csv.gz', compression='gzip')\n",
    "pos_final_test_KNN = pd.read_csv('./pos_KNN_final_test.csv.gz', compression='gzip')\n",
    "pos_final_missing_data_test = pd.read_csv('./pos_final_missing_data_test.csv.gz', compression='gzip')\n"
   ]
  },
  {
   "cell_type": "code",
   "execution_count": 36,
   "metadata": {},
   "outputs": [],
   "source": [
    "pos_final_missing_data_test = pos_final_missing_data_test.fillna(-9999)"
   ]
  },
  {
   "cell_type": "code",
   "execution_count": 27,
   "metadata": {},
   "outputs": [],
   "source": [
    "model_cols = ~pos_final_test.columns.isin(['(\\'subject_id\\', \\'\\')', '(\\'hadm_id\\', \\'\\')', 'subject_id', 'hadm_id', 'Unnamed: 0', 'pos'])\n",
    "\n",
    "hadm_features = pos_final_test.loc[:, model_cols]\n",
    "hadm_target = pos_final_test.loc[:, 'pos']\n",
    "\n",
    "# hadm_features = pos_final_missing_data_test.loc[:, model_cols]\n",
    "# hadm_target = pos_final_missing_data_test.loc[:, 'pos']\n"
   ]
  },
  {
   "cell_type": "code",
   "execution_count": 4,
   "metadata": {},
   "outputs": [],
   "source": [
    "# # Creatinine - 50912\n",
    "# hadm_features = hadm_features.loc[:, ['(\\'max\\', 50912)',  '(\\'above_max\\', 50912)', '(\\'mean\\', 50912)',  '(\\'abn_percent\\', 50912)']]\n",
    "\n",
    "# # Least Missingness\n",
    "# # [51221, 51265, 51222, 51301, 51279, 51277, 51248, 51249, 51250]\n",
    "# hadm_features = hadm_features.loc[:, ['(\\'max\\', 51221)',  '(\\'above_max\\', 51221)', '(\\'mean\\', 51221)',  '(\\'abn_percent\\', 51221)',\n",
    "#                                         '(\\'max\\', 51265)',  '(\\'above_max\\', 51265)', '(\\'mean\\', 51265)',  '(\\'abn_percent\\', 51265)',\n",
    "#                                         '(\\'max\\', 51222)',  '(\\'above_max\\', 51222)', '(\\'mean\\', 51222)',  '(\\'abn_percent\\', 51222)',\n",
    "#                                         '(\\'max\\', 51301)',  '(\\'above_max\\', 51301)', '(\\'mean\\', 51301)',  '(\\'abn_percent\\', 51301)',\n",
    "#                                         '(\\'max\\', 51279)',  '(\\'above_max\\', 51279)', '(\\'mean\\', 51279)',  '(\\'abn_percent\\', 51279)',\n",
    "#                                         '(\\'max\\', 51277)',  '(\\'above_max\\', 51277)', '(\\'mean\\', 51277)',  '(\\'abn_percent\\', 51277)',\n",
    "#                                         '(\\'max\\', 51248)',  '(\\'above_max\\', 51248)', '(\\'mean\\', 51248)',  '(\\'abn_percent\\', 51248)',\n",
    "#                                         '(\\'max\\', 51249)',  '(\\'above_max\\', 51249)', '(\\'mean\\', 51249)',  '(\\'abn_percent\\', 51249)',\n",
    "#                                         '(\\'max\\', 51250)',  '(\\'above_max\\', 51250)', '(\\'mean\\', 51250)',  '(\\'abn_percent\\', 51250)']]\n",
    "\n",
    "# # Least Missingness + Creatinine\n",
    "# hadm_features = hadm_features.loc[:, ['(\\'max\\', 51221)',  '(\\'above_max\\', 51221)', '(\\'mean\\', 51221)',  '(\\'abn_percent\\', 51221)',\n",
    "#                                         '(\\'max\\', 51265)',  '(\\'above_max\\', 51265)', '(\\'mean\\', 51265)',  '(\\'abn_percent\\', 51265)',\n",
    "#                                         '(\\'max\\', 51222)',  '(\\'above_max\\', 51222)', '(\\'mean\\', 51222)',  '(\\'abn_percent\\', 51222)',\n",
    "#                                         '(\\'max\\', 51301)',  '(\\'above_max\\', 51301)', '(\\'mean\\', 51301)',  '(\\'abn_percent\\', 51301)',\n",
    "#                                         '(\\'max\\', 51279)',  '(\\'above_max\\', 51279)', '(\\'mean\\', 51279)',  '(\\'abn_percent\\', 51279)',\n",
    "#                                         '(\\'max\\', 51277)',  '(\\'above_max\\', 51277)', '(\\'mean\\', 51277)',  '(\\'abn_percent\\', 51277)',\n",
    "#                                         '(\\'max\\', 51248)',  '(\\'above_max\\', 51248)', '(\\'mean\\', 51248)',  '(\\'abn_percent\\', 51248)',\n",
    "#                                         '(\\'max\\', 51249)',  '(\\'above_max\\', 51249)', '(\\'mean\\', 51249)',  '(\\'abn_percent\\', 51249)',\n",
    "#                                         '(\\'max\\', 51250)',  '(\\'above_max\\', 51250)', '(\\'mean\\', 51250)',  '(\\'abn_percent\\', 51250)',\n",
    "#                                      '(\\'max\\', 50912)',  '(\\'above_max\\', 50912)', '(\\'mean\\', 50912)',  '(\\'abn_percent\\', 50912)']]\n"
   ]
  },
  {
   "cell_type": "code",
   "execution_count": 28,
   "metadata": {},
   "outputs": [],
   "source": [
    "X_train, X_test, y_train, y_test = train_test_split(hadm_features, hadm_target, stratify=hadm_target, random_state=0)\n"
   ]
  },
  {
   "cell_type": "markdown",
   "metadata": {},
   "source": [
    "## Logistic Regression"
   ]
  },
  {
   "cell_type": "code",
   "execution_count": 6,
   "metadata": {},
   "outputs": [],
   "source": [
    "from sklearn.linear_model import LogisticRegression\n",
    "from sklearn.model_selection import GridSearchCV"
   ]
  },
  {
   "cell_type": "code",
   "execution_count": 7,
   "metadata": {},
   "outputs": [
    {
     "name": "stderr",
     "output_type": "stream",
     "text": [
      "/opt/anaconda3/lib/python3.7/site-packages/sklearn/linear_model/_logistic.py:764: ConvergenceWarning: lbfgs failed to converge (status=1):\n",
      "STOP: TOTAL NO. of ITERATIONS REACHED LIMIT.\n",
      "\n",
      "Increase the number of iterations (max_iter) or scale the data as shown in:\n",
      "    https://scikit-learn.org/stable/modules/preprocessing.html\n",
      "Please also refer to the documentation for alternative solver options:\n",
      "    https://scikit-learn.org/stable/modules/linear_model.html#logistic-regression\n",
      "  extra_warning_msg=_LOGISTIC_SOLVER_CONVERGENCE_MSG)\n",
      "/opt/anaconda3/lib/python3.7/site-packages/sklearn/linear_model/_logistic.py:764: ConvergenceWarning: lbfgs failed to converge (status=1):\n",
      "STOP: TOTAL NO. of ITERATIONS REACHED LIMIT.\n",
      "\n",
      "Increase the number of iterations (max_iter) or scale the data as shown in:\n",
      "    https://scikit-learn.org/stable/modules/preprocessing.html\n",
      "Please also refer to the documentation for alternative solver options:\n",
      "    https://scikit-learn.org/stable/modules/linear_model.html#logistic-regression\n",
      "  extra_warning_msg=_LOGISTIC_SOLVER_CONVERGENCE_MSG)\n",
      "/opt/anaconda3/lib/python3.7/site-packages/sklearn/linear_model/_logistic.py:764: ConvergenceWarning: lbfgs failed to converge (status=1):\n",
      "STOP: TOTAL NO. of ITERATIONS REACHED LIMIT.\n",
      "\n",
      "Increase the number of iterations (max_iter) or scale the data as shown in:\n",
      "    https://scikit-learn.org/stable/modules/preprocessing.html\n",
      "Please also refer to the documentation for alternative solver options:\n",
      "    https://scikit-learn.org/stable/modules/linear_model.html#logistic-regression\n",
      "  extra_warning_msg=_LOGISTIC_SOLVER_CONVERGENCE_MSG)\n"
     ]
    },
    {
     "name": "stdout",
     "output_type": "stream",
     "text": [
      "CPU times: user 4min 15s, sys: 34.5 s, total: 4min 49s\n",
      "Wall time: 49.8 s\n"
     ]
    },
    {
     "data": {
      "text/plain": [
       "0.8249678294641349"
      ]
     },
     "execution_count": 7,
     "metadata": {},
     "output_type": "execute_result"
    }
   ],
   "source": [
    "%%time\n",
    "\n",
    "# L2\n",
    "params_log = [ {'C':np.logspace(-4, 3, 20)} ]\n",
    "logReg = LogisticRegression(max_iter = 2000, class_weight = \"balanced\")\n",
    "\n",
    "# # L1\n",
    "# params_log = [ {'C':np.logspace(-6, -1, 20)} ]\n",
    "# logReg = LogisticRegression(penalty = 'l1', max_iter = 2000, class_weight = \"balanced\", solver = 'liblinear')\n",
    "\n",
    "grid_log = GridSearchCV(estimator = logReg, param_grid = params_log, cv = 5)\n",
    "grid_log.fit(X_train, y_train)\n",
    "grid_log.best_score_"
   ]
  },
  {
   "cell_type": "code",
   "execution_count": 8,
   "metadata": {},
   "outputs": [
    {
     "data": {
      "text/plain": [
       "{'C': 0.00023357214690901214}"
      ]
     },
     "execution_count": 8,
     "metadata": {},
     "output_type": "execute_result"
    }
   ],
   "source": [
    "grid_log.best_params_"
   ]
  },
  {
   "cell_type": "code",
   "execution_count": null,
   "metadata": {},
   "outputs": [],
   "source": []
  },
  {
   "cell_type": "code",
   "execution_count": 9,
   "metadata": {},
   "outputs": [
    {
     "data": {
      "text/plain": [
       "age                                        0.137544\n",
       "('abn_percent', 51006)                     0.103972\n",
       "('abn_percent', 51003)                     0.093135\n",
       "('min', 51006)                             0.079919\n",
       "('mean', 51006)                            0.076955\n",
       "                                             ...   \n",
       "('min', 50882)                             0.000205\n",
       "('max', 50960)                             0.000187\n",
       "('max', 51514)                             0.000136\n",
       "('mean', 51478)                            0.000133\n",
       "ethnicity_AMERICAN INDIAN/ALASKA NATIVE    0.000010\n",
       "Length: 233, dtype: float64"
      ]
     },
     "execution_count": 9,
     "metadata": {},
     "output_type": "execute_result"
    }
   ],
   "source": [
    "est_coefs = pd.Series(grid_log.best_estimator_.coef_[0], index=X_train.columns)\n",
    "\n",
    "sortedCoefs = np.abs(est_coefs).sort_values(ascending=False)\n",
    "sortedCoefs[sortedCoefs > 0]"
   ]
  },
  {
   "cell_type": "code",
   "execution_count": 10,
   "metadata": {},
   "outputs": [],
   "source": [
    "from sklearn.metrics import accuracy_score, confusion_matrix, precision_score, recall_score, f1_score"
   ]
  },
  {
   "cell_type": "code",
   "execution_count": 11,
   "metadata": {},
   "outputs": [
    {
     "name": "stdout",
     "output_type": "stream",
     "text": [
      "Accuracy Score: 80.78%\n",
      "_______________________________________________\n",
      "Classification Report:\tPrecision Score: 38.97%\n",
      "\t\t\tRecall Score: 70.67%\n",
      "\t\t\tF1 score: 50.24%\n",
      "_______________________________________________\n",
      "Confusion Matrix: \n",
      " [[1553  332]\n",
      " [  88  212]]\n",
      "\n"
     ]
    }
   ],
   "source": [
    "pred = grid_log.predict(X_test)\n",
    "\n",
    "print(f\"Accuracy Score: {accuracy_score(y_test, pred) * 100:.2f}%\")\n",
    "print(\"_______________________________________________\")\n",
    "print(\"Classification Report:\", end='')\n",
    "print(f\"\\tPrecision Score: {precision_score(y_test, pred) * 100:.2f}%\")\n",
    "print(f\"\\t\\t\\tRecall Score: {recall_score(y_test, pred) * 100:.2f}%\")\n",
    "print(f\"\\t\\t\\tF1 score: {f1_score(y_test, pred) * 100:.2f}%\")\n",
    "print(\"_______________________________________________\")\n",
    "print(f\"Confusion Matrix: \\n {confusion_matrix(y_test, pred)}\\n\")"
   ]
  },
  {
   "cell_type": "markdown",
   "metadata": {},
   "source": [
    "## Random Forest"
   ]
  },
  {
   "cell_type": "code",
   "execution_count": 12,
   "metadata": {},
   "outputs": [],
   "source": [
    "from sklearn import ensemble\n",
    "import sklearn.model_selection as ms\n",
    "\n",
    "randomForest = ensemble.RandomForestClassifier(class_weight = \"balanced\")"
   ]
  },
  {
   "cell_type": "code",
   "execution_count": 29,
   "metadata": {},
   "outputs": [
    {
     "name": "stdout",
     "output_type": "stream",
     "text": [
      "CPU times: user 12.5 s, sys: 918 ms, total: 13.4 s\n",
      "Wall time: 3min 48s\n"
     ]
    },
    {
     "data": {
      "text/plain": [
       "GridSearchCV(cv=5, estimator=RandomForestClassifier(class_weight='balanced'),\n",
       "             n_jobs=-1,\n",
       "             param_grid={'criterion': ['gini', 'entropy'],\n",
       "                         'max_depth': range(1, 20),\n",
       "                         'n_estimators': range(10, 110, 10)},\n",
       "             scoring='accuracy')"
      ]
     },
     "execution_count": 29,
     "metadata": {},
     "output_type": "execute_result"
    }
   ],
   "source": [
    "%%time\n",
    "\n",
    "grid_para_forest = {\n",
    "    'criterion': ['gini', 'entropy'],\n",
    "    'max_depth': range(1, 20),\n",
    "    'n_estimators': range(10, 110, 10)\n",
    "}\n",
    "\n",
    "grid_search_forest = ms.GridSearchCV(randomForest, grid_para_forest, scoring='accuracy', cv=5, n_jobs=-1)\n",
    "grid_search_forest.fit(X_train, y_train)"
   ]
  },
  {
   "cell_type": "code",
   "execution_count": 30,
   "metadata": {},
   "outputs": [
    {
     "data": {
      "text/plain": [
       "[(\"('mean', 51006)\", 0.04041295519778409),\n",
       " ('age', 0.03575698966141188),\n",
       " (\"('above_max', 51006)\", 0.03554658660140722),\n",
       " (\"('max', 51006)\", 0.03446871494484349),\n",
       " (\"('abn_percent', 51006)\", 0.01820372397230878),\n",
       " (\"('above_max', 50912)\", 0.01792514762285037),\n",
       " (\"('max', 51277)\", 0.017696935805441436),\n",
       " (\"('mean', 50912)\", 0.01709015992300478),\n",
       " (\"('max', 51274)\", 0.01590825802658881),\n",
       " (\"('max', 50912)\", 0.014985362124171368),\n",
       " (\"('min', 51006)\", 0.014644040721538954),\n",
       " (\"('abn_percent', 50912)\", 0.01386933852007927),\n",
       " (\"('mean', 51277)\", 0.012523622191059444),\n",
       " (\"('mean', 51003)\", 0.012242601114197596),\n",
       " (\"('mean', 51249)\", 0.011993516795346467),\n",
       " (\"('min', 51277)\", 0.011912154526915214),\n",
       " (\"('max', 51275)\", 0.011709523592959853),\n",
       " (\"('min', 51249)\", 0.011468018705662221),\n",
       " (\"('max', 50931)\", 0.010637528990657424),\n",
       " (\"('max', 51249)\", 0.01063730127490966),\n",
       " (\"('mean', 50971)\", 0.010159004603389196),\n",
       " (\"('mean', 51237)\", 0.00997942436364579),\n",
       " (\"('mean', 50902)\", 0.009129142657071819),\n",
       " (\"('mean', 51274)\", 0.008920177012455836),\n",
       " (\"('mean', 50970)\", 0.008661671954883581),\n",
       " (\"('mean', 51265)\", 0.008289543509562023),\n",
       " (\"('above_max', 50931)\", 0.008104098024846067),\n",
       " (\"('above_max', 51237)\", 0.008014879672362038),\n",
       " (\"('above_max', 51274)\", 0.007991630910694469),\n",
       " (\"('max', 51265)\", 0.007932492856383064),\n",
       " (\"('max', 50882)\", 0.007758757359795092),\n",
       " (\"('min', 51265)\", 0.0075620271116804425),\n",
       " (\"('above_max', 51003)\", 0.007341354621064192),\n",
       " (\"('mean', 50882)\", 0.007277525245853522),\n",
       " (\"('mean', 51301)\", 0.007263525338255377),\n",
       " (\"('min', 51301)\", 0.007230975150339495),\n",
       " (\"('mean', 50893)\", 0.007218871804485813),\n",
       " (\"('max', 51003)\", 0.007147208495672708),\n",
       " (\"('mean', 50960)\", 0.007142008064240224),\n",
       " (\"('mean', 51275)\", 0.007058086897363084),\n",
       " (\"('min', 50912)\", 0.00691729660396144),\n",
       " (\"('max', 51301)\", 0.006882974865993364),\n",
       " (\"('mean', 50931)\", 0.006839983927431208),\n",
       " (\"('min', 50902)\", 0.006833527522080993),\n",
       " (\"('mean', 50983)\", 0.006756042039015413),\n",
       " (\"('max', 50971)\", 0.006537320287557798),\n",
       " (\"('max', 51237)\", 0.006503609242927678),\n",
       " (\"('abn_percent', 51274)\", 0.006421947309118149),\n",
       " (\"('max', 50893)\", 0.0063924794000467374),\n",
       " (\"('min', 50931)\", 0.0062761506169045625),\n",
       " (\"('mean', 51221)\", 0.006155898650970742),\n",
       " (\"('max', 50970)\", 0.006120825068747814),\n",
       " (\"('max', 50868)\", 0.00611552543993598),\n",
       " (\"('mean', 50868)\", 0.006054310209844037),\n",
       " (\"('max', 51221)\", 0.006010319632166459),\n",
       " (\"('min', 51279)\", 0.0059428738031143125),\n",
       " (\"('min', 50970)\", 0.00593988709266692),\n",
       " (\"('min', 50893)\", 0.0058130385051488095),\n",
       " (\"('mean', 51250)\", 0.005773833665561089),\n",
       " (\"('min', 50882)\", 0.005503767959486342),\n",
       " (\"('min', 51248)\", 0.005361880023846014),\n",
       " (\"('min', 51250)\", 0.005348207391379718),\n",
       " (\"('max', 50902)\", 0.005340788735023458),\n",
       " (\"('min', 50971)\", 0.005306850805687461),\n",
       " (\"('max', 50960)\", 0.00526919432112952),\n",
       " (\"('max', 51250)\", 0.00522381973626781),\n",
       " (\"('min', 51275)\", 0.005191997222287792),\n",
       " (\"('abn_percent', 50931)\", 0.005160681948157299),\n",
       " (\"('mean', 51248)\", 0.0051200752749942504),\n",
       " (\"('below_min', 50911)\", 0.005092953372093466),\n",
       " (\"('abn_percent', 51003)\", 0.005072112151695276),\n",
       " (\"('min', 50983)\", 0.005036333895762283),\n",
       " (\"('mean', 51222)\", 0.004971428124162956),\n",
       " (\"('max', 51222)\", 0.004949377091915098),\n",
       " (\"('min', 51237)\", 0.004882897429660052),\n",
       " (\"('mean', 51279)\", 0.004880477292415001),\n",
       " (\"('min', 50911)\", 0.004854025540357311),\n",
       " (\"('min', 50960)\", 0.0048158675067719375),\n",
       " (\"('max', 51248)\", 0.004783630751233081),\n",
       " (\"('min', 51274)\", 0.0047429125961011365),\n",
       " (\"('min', 51221)\", 0.004729404632231823),\n",
       " (\"('below_min', 51222)\", 0.004656530364233296),\n",
       " (\"('min', 51222)\", 0.00451098849637414),\n",
       " (\"('max', 50983)\", 0.004487268749953581),\n",
       " (\"('below_min', 51221)\", 0.004469758521910938),\n",
       " (\"('max', 51279)\", 0.004458541340423935),\n",
       " (\"('mean', 50911)\", 0.004405742042712088),\n",
       " (\"('above_max', 51277)\", 0.004205703068556773),\n",
       " (\"('below_min', 51249)\", 0.004199862903201877),\n",
       " (\"('below_min', 51279)\", 0.00409909232373971),\n",
       " (\"('abn_percent', 50882)\", 0.0037391569296650225),\n",
       " (\"('above_max', 51301)\", 0.0036416795809796365),\n",
       " (\"('abn_percent', 51237)\", 0.0036229277903634576),\n",
       " (\"('below_min', 50893)\", 0.0035968820502783826),\n",
       " (\"('above_max', 50902)\", 0.0035524339761614458),\n",
       " (\"('min', 50868)\", 0.003515217247915199),\n",
       " (\"('abn_percent', 50970)\", 0.0033981915324293663),\n",
       " (\"('max', 50861)\", 0.0033206575643005974),\n",
       " (\"('abn_percent', 51275)\", 0.0033073244696694547),\n",
       " (\"('max', 50911)\", 0.0032607570212412895),\n",
       " (\"('mean', 50885)\", 0.0031899943138717275),\n",
       " (\"('above_max', 51249)\", 0.0031588119797051656),\n",
       " (\"('min', 50878)\", 0.0031215079811272575),\n",
       " (\"('abn_percent', 50971)\", 0.0030961464666027293),\n",
       " (\"('abn_percent', 50983)\", 0.0030859786088941626),\n",
       " (\"('mean', 50878)\", 0.0030747572053562828),\n",
       " (\"('above_max', 51275)\", 0.003033215336767658),\n",
       " (\"('max', 50878)\", 0.0030236313631226814),\n",
       " (\"('abn_percent', 50893)\", 0.003001423702613414),\n",
       " (\"('below_min', 51265)\", 0.002987017115687742),\n",
       " (\"('mean', 50863)\", 0.002967726431583483),\n",
       " (\"('abn_percent', 51301)\", 0.0029429505420081226),\n",
       " (\"('abn_percent', 51249)\", 0.002798675714744855),\n",
       " (\"('abn_percent', 51277)\", 0.0027482006172872444),\n",
       " (\"('min', 51003)\", 0.0027271952216358386),\n",
       " (\"('below_min', 50970)\", 0.0027101623239090106),\n",
       " (\"('max', 50863)\", 0.0026845050649274265),\n",
       " (\"('min', 50863)\", 0.0026330617251334246),\n",
       " (\"('abn_percent', 50960)\", 0.0025790369714244234),\n",
       " (\"('mean', 50861)\", 0.002575467573504339),\n",
       " (\"('min', 50861)\", 0.002491318974830239),\n",
       " (\"('abn_percent', 51265)\", 0.0022461161899843475),\n",
       " (\"('max', 50885)\", 0.0022379817333789227),\n",
       " (\"('below_min', 51003)\", 0.0022341178956995626),\n",
       " (\"('abn_percent', 51221)\", 0.0020502978910545313),\n",
       " (\"('above_max', 50911)\", 0.002045242332172534),\n",
       " (\"('below_min', 50882)\", 0.0020106113930581293),\n",
       " (\"('min', 50885)\", 0.001866128051325941),\n",
       " (\"('abn_percent', 50902)\", 0.0018205761255941026),\n",
       " (\"('mean', 51491)\", 0.0018185310614159682),\n",
       " (\"('mean', 51498)\", 0.0018095964589598524),\n",
       " (\"('below_min', 51237)\", 0.0017958639383630903),\n",
       " (\"('max', 51498)\", 0.00178928183160969),\n",
       " (\"('abn_percent', 50911)\", 0.0017747391245192677),\n",
       " (\"('above_max', 50970)\", 0.001773844944372531),\n",
       " (\"('above_max', 51248)\", 0.001768252721395775),\n",
       " (\"('abn_percent', 51279)\", 0.0017045052899126913),\n",
       " (\"('below_min', 51274)\", 0.0016629726800037768),\n",
       " (\"('min', 51498)\", 0.0016260579592100072),\n",
       " (\"('below_min', 51006)\", 0.0015994878405163828),\n",
       " (\"('below_min', 50960)\", 0.0015791612800736567),\n",
       " (\"('below_min', 50971)\", 0.0015505056245347349),\n",
       " (\"('above_max', 50878)\", 0.0015438843771526576),\n",
       " (\"('below_min', 50983)\", 0.0015267696775911384),\n",
       " (\"('abn_percent', 51222)\", 0.0014802802286599283),\n",
       " (\"('above_max', 50960)\", 0.0014376284522048199),\n",
       " (\"('max', 51492)\", 0.0014344873971657518),\n",
       " (\"('above_max', 50863)\", 0.0014256860500026572),\n",
       " (\"('mean', 51492)\", 0.0014140549608178338),\n",
       " (\"('abn_percent', 50878)\", 0.0013763988625851715),\n",
       " (\"('abn_percent', 50868)\", 0.0013539801707902963),\n",
       " (\"('mean', 51486)\", 0.001337837845410983),\n",
       " (\"('below_min', 50902)\", 0.0012777597310508193),\n",
       " (\"('abn_percent', 51248)\", 0.0012646195878587584),\n",
       " (\"('abn_percent', 51250)\", 0.001218978521864852),\n",
       " (\"('above_max', 51492)\", 0.001201447481546828),\n",
       " (\"('max', 51491)\", 0.0011926417581004138),\n",
       " (\"('min', 51491)\", 0.001165681253197787),\n",
       " (\"('above_max', 50971)\", 0.0011485604567862396),\n",
       " (\"('min', 51492)\", 0.0011373673956038251),\n",
       " (\"('abn_percent', 50885)\", 0.001033408711790075),\n",
       " (\"('below_min', 50931)\", 0.001008930653445223),\n",
       " (\"('above_max', 51265)\", 0.0009732813591697078),\n",
       " (\"('above_max', 50882)\", 0.0009677630944726847),\n",
       " (\"('above_max', 50861)\", 0.0009495999567984002),\n",
       " (\"('mean', 51466)\", 0.000932351878850832),\n",
       " (\"('abn_percent', 50863)\", 0.000905070746571556),\n",
       " (\"('above_max', 51486)\", 0.0009011431276600491),\n",
       " (\"('mean', 51514)\", 0.0008987832641784066),\n",
       " (\"('above_max', 51250)\", 0.0008949537085969919),\n",
       " (\"('above_max', 51466)\", 0.0008933237266387149),\n",
       " (\"('above_max', 50983)\", 0.0008860852993479636),\n",
       " (\"('max', 51466)\", 0.0008800897731052086),\n",
       " ('gender', 0.0008632009967595544),\n",
       " (\"('abn_percent', 50861)\", 0.0008393355712577327),\n",
       " (\"('below_min', 51275)\", 0.0008308682299195582),\n",
       " (\"('abn_percent', 51466)\", 0.0008307862030961441),\n",
       " (\"('mean', 51506)\", 0.0008128623396675612),\n",
       " (\"('min', 51466)\", 0.0007623006110185179),\n",
       " (\"('abn_percent', 51484)\", 0.0007270620455757665),\n",
       " (\"('min', 51486)\", 0.0007229611700774814),\n",
       " ('ethnicity_UNKNOWN', 0.0007127447893267356),\n",
       " (\"('above_max', 50868)\", 0.0006818553304726839),\n",
       " (\"('below_min', 51301)\", 0.0006780708940397849),\n",
       " (\"('below_min', 50868)\", 0.0006724798004314957),\n",
       " (\"('mean', 51487)\", 0.0006582484540691651),\n",
       " (\"('above_max', 51478)\", 0.0006367522056937316),\n",
       " (\"('above_max', 50885)\", 0.0006059789454004445),\n",
       " (\"('max', 51478)\", 0.0005946606627795168),\n",
       " (\"('above_max', 51506)\", 0.0005833403311844639),\n",
       " (\"('max', 51506)\", 0.0005592418772448765),\n",
       " (\"('max', 51486)\", 0.0005518324912818524),\n",
       " (\"('max', 51514)\", 0.0005408964861217077),\n",
       " (\"('mean', 51484)\", 0.0005169977458457313),\n",
       " (\"('above_max', 51498)\", 0.0005153563334693275),\n",
       " (\"('below_min', 51248)\", 0.0005134067685599898),\n",
       " (\"('above_max', 51484)\", 0.00046759701604964153),\n",
       " (\"('below_min', 50863)\", 0.0004649123735523201),\n",
       " (\"('below_min', 51514)\", 0.0004491632655528283),\n",
       " (\"('min', 51506)\", 0.00044333027932386224),\n",
       " (\"('max', 51484)\", 0.0004401410976660984),\n",
       " (\"('above_max', 51514)\", 0.00043903158695713295),\n",
       " (\"('min', 51514)\", 0.0004340877856112103),\n",
       " (\"('mean', 51478)\", 0.0004265630449685223),\n",
       " ('ethnicity_BLACK/AFRICAN AMERICAN', 0.00040975453453359184),\n",
       " (\"('above_max', 50893)\", 0.00038371362768394214),\n",
       " (\"('abn_percent', 51478)\", 0.0003785672918167841),\n",
       " (\"('mean', 51464)\", 0.00037825416755847937),\n",
       " (\"('max', 51487)\", 0.0003718170252030614),\n",
       " (\"('below_min', 51250)\", 0.00037143041296326256),\n",
       " (\"('below_min', 50861)\", 0.0003588335958967296),\n",
       " (\"('below_min', 50885)\", 0.0003399368749672749),\n",
       " (\"('abn_percent', 51506)\", 0.00033423553718542765),\n",
       " (\"('abn_percent', 51514)\", 0.00032864326851827954),\n",
       " (\"('above_max', 51221)\", 0.00031302358759673326),\n",
       " (\"('abn_percent', 51486)\", 0.0003115305265778258),\n",
       " (\"('min', 51478)\", 0.00030945473942562264),\n",
       " (\"('above_max', 51487)\", 0.00030652372885145847),\n",
       " (\"('abn_percent', 51498)\", 0.0002998116884124498),\n",
       " (\"('max', 51464)\", 0.0002926094006151923),\n",
       " (\"('abn_percent', 51492)\", 0.0002604096358555278),\n",
       " (\"('below_min', 50878)\", 0.0002596707881186661),\n",
       " (\"('min', 51484)\", 0.0002536780864342687),\n",
       " ('ethnicity_OTHER', 0.00022925250751770998),\n",
       " (\"('above_max', 51464)\", 0.0002252177478765857),\n",
       " (\"('below_min', 50912)\", 0.0002140028123035335),\n",
       " (\"('abn_percent', 51464)\", 0.00021239388699273676),\n",
       " (\"('below_min', 51492)\", 0.00021207570752490609),\n",
       " (\"('min', 51464)\", 0.00020168491341485104),\n",
       " (\"('above_max', 51222)\", 0.00019874968626921189),\n",
       " (\"('below_min', 51484)\", 0.00019235123292018789),\n",
       " (\"('below_min', 51466)\", 0.00017272207738356314),\n",
       " (\"('below_min', 51486)\", 0.00014380120583512373),\n",
       " (\"('above_max', 51491)\", 0.00014253675174339428),\n",
       " (\"('above_max', 51279)\", 0.0001408120776398144),\n",
       " (\"('abn_percent', 51491)\", 0.00012107211620290748),\n",
       " (\"('below_min', 51487)\", 0.00011643068141954433),\n",
       " (\"('min', 51487)\", 0.00011489017554629185),\n",
       " (\"('below_min', 51478)\", 9.159332353600447e-05),\n",
       " ('ethnicity_ASIAN', 8.369217590073653e-05),\n",
       " (\"('abn_percent', 51487)\", 8.284252688671787e-05),\n",
       " (\"('below_min', 51491)\", 6.938442925116123e-05),\n",
       " ('ethnicity_HISPANIC/LATINO', 5.2842168572791156e-05),\n",
       " (\"('below_min', 51498)\", 3.907963276731411e-05),\n",
       " (\"('below_min', 51464)\", 2.0709276398311232e-05),\n",
       " (\"('below_min', 51506)\", 1.9267870830616466e-05),\n",
       " (\"('below_min', 51277)\", 1.699302602171061e-05),\n",
       " ('ethnicity_AMERICAN INDIAN/ALASKA NATIVE', 0.0)]"
      ]
     },
     "execution_count": 30,
     "metadata": {},
     "output_type": "execute_result"
    }
   ],
   "source": [
    "# Get most important features\n",
    "tree_final = grid_search_forest.best_estimator_\n",
    "feature_importance = tree_final.feature_importances_\n",
    "feature_importance = list(zip(X_train.columns, feature_importance))\n",
    "\n",
    "feature_importance.sort(key = lambda x: x[1], reverse = True)\n",
    "feature_importance"
   ]
  },
  {
   "cell_type": "code",
   "execution_count": 31,
   "metadata": {},
   "outputs": [
    {
     "data": {
      "text/plain": [
       "{'criterion': 'entropy', 'max_depth': 16, 'n_estimators': 70}"
      ]
     },
     "execution_count": 31,
     "metadata": {},
     "output_type": "execute_result"
    }
   ],
   "source": [
    "grid_search_forest.best_params_"
   ]
  },
  {
   "cell_type": "code",
   "execution_count": 32,
   "metadata": {},
   "outputs": [
    {
     "data": {
      "text/plain": [
       "0.8902790830378302"
      ]
     },
     "execution_count": 32,
     "metadata": {},
     "output_type": "execute_result"
    }
   ],
   "source": [
    "grid_search_forest.best_score_"
   ]
  },
  {
   "cell_type": "code",
   "execution_count": 33,
   "metadata": {},
   "outputs": [
    {
     "name": "stdout",
     "output_type": "stream",
     "text": [
      "The training error is: 0.99969\n",
      "The test     error is: 0.87643\n"
     ]
    }
   ],
   "source": [
    "print(\"The training error is: %.5f\" % (grid_search_forest.score(X_train, y_train)))\n",
    "print(\"The test     error is: %.5f\" % (grid_search_forest.score(X_test, y_test)))"
   ]
  },
  {
   "cell_type": "code",
   "execution_count": 34,
   "metadata": {},
   "outputs": [
    {
     "name": "stdout",
     "output_type": "stream",
     "text": [
      "Accuracy Score: 87.64%\n",
      "_______________________________________________\n",
      "Classification Report:\tPrecision Score: 61.03%\n",
      "\t\t\tRecall Score: 27.67%\n",
      "\t\t\tF1 score: 38.07%\n",
      "_______________________________________________\n",
      "Confusion Matrix: \n",
      " [[1832   53]\n",
      " [ 217   83]]\n",
      "\n"
     ]
    }
   ],
   "source": [
    "rf_predictions = tree_final.predict(X_test)\n",
    "\n",
    "print(f\"Accuracy Score: {accuracy_score(y_test, rf_predictions) * 100:.2f}%\")\n",
    "print(\"_______________________________________________\")\n",
    "print(\"Classification Report:\", end='')\n",
    "print(f\"\\tPrecision Score: {precision_score(y_test, rf_predictions) * 100:.2f}%\")\n",
    "print(f\"\\t\\t\\tRecall Score: {recall_score(y_test, rf_predictions) * 100:.2f}%\")\n",
    "print(f\"\\t\\t\\tF1 score: {f1_score(y_test, rf_predictions) * 100:.2f}%\")\n",
    "print(\"_______________________________________________\")\n",
    "print(f\"Confusion Matrix: \\n {confusion_matrix(y_test, rf_predictions)}\\n\")"
   ]
  },
  {
   "cell_type": "code",
   "execution_count": null,
   "metadata": {},
   "outputs": [],
   "source": []
  }
 ],
 "metadata": {
  "kernelspec": {
   "display_name": "Python 3",
   "language": "python",
   "name": "python3"
  },
  "language_info": {
   "codemirror_mode": {
    "name": "ipython",
    "version": 3
   },
   "file_extension": ".py",
   "mimetype": "text/x-python",
   "name": "python",
   "nbconvert_exporter": "python",
   "pygments_lexer": "ipython3",
   "version": "3.7.6"
  }
 },
 "nbformat": 4,
 "nbformat_minor": 4
}
