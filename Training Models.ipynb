{
 "cells": [
  {
   "cell_type": "markdown",
   "metadata": {},
   "source": [
    "## Base Models"
   ]
  },
  {
   "cell_type": "code",
   "execution_count": 1,
   "metadata": {},
   "outputs": [],
   "source": [
    "import pandas as pd\n",
    "import numpy as np\n",
    "from sklearn.model_selection import train_test_split"
   ]
  },
  {
   "cell_type": "code",
   "execution_count": 2,
   "metadata": {},
   "outputs": [],
   "source": [
    "pos_final_test = pd.read_csv('./pos_final_test.csv.gz', compression='gzip')\n",
    "pos_final_test_KNN = pd.read_csv('./pos_KNN_final_test.csv.gz', compression='gzip')\n",
    "pos_final_missing_data_test = pd.read_csv('./pos_final_missing_data_test.csv.gz', compression='gzip')\n"
   ]
  },
  {
   "cell_type": "code",
   "execution_count": 3,
   "metadata": {},
   "outputs": [],
   "source": [
    "model_cols = ~pos_final_test.columns.isin(['(\\'subject_id\\', \\'\\')', '(\\'hadm_id\\', \\'\\')', 'subject_id', 'hadm_id', 'Unnamed: 0', 'pos', 'ethnicity', 'gender', 'age'])\n",
    "\n",
    "hadm_features = pos_final_test.loc[:, model_cols]\n",
    "hadm_target = pos_final_test.loc[:, 'pos']\n",
    "\n",
    "# hadm_features = pos_final_missing_data_test.loc[:, model_cols]\n",
    "# hadm_target = pos_final_missing_data_test.loc[:, 'pos']\n"
   ]
  },
  {
   "cell_type": "code",
   "execution_count": 4,
   "metadata": {},
   "outputs": [],
   "source": [
    "# # Creatinine - 50912\n",
    "# hadm_features = hadm_features.loc[:, ['(\\'max\\', 50912)',  '(\\'above_max\\', 50912)', '(\\'mean\\', 50912)',  '(\\'abn_percent\\', 50912)']]\n",
    "\n",
    "# # Least Missingness\n",
    "# # [51221, 51265, 51222, 51301, 51279, 51277, 51248, 51249, 51250]\n",
    "# hadm_features = hadm_features.loc[:, ['(\\'max\\', 51221)',  '(\\'above_max\\', 51221)', '(\\'mean\\', 51221)',  '(\\'abn_percent\\', 51221)',\n",
    "#                                         '(\\'max\\', 51265)',  '(\\'above_max\\', 51265)', '(\\'mean\\', 51265)',  '(\\'abn_percent\\', 51265)',\n",
    "#                                         '(\\'max\\', 51222)',  '(\\'above_max\\', 51222)', '(\\'mean\\', 51222)',  '(\\'abn_percent\\', 51222)',\n",
    "#                                         '(\\'max\\', 51301)',  '(\\'above_max\\', 51301)', '(\\'mean\\', 51301)',  '(\\'abn_percent\\', 51301)',\n",
    "#                                         '(\\'max\\', 51279)',  '(\\'above_max\\', 51279)', '(\\'mean\\', 51279)',  '(\\'abn_percent\\', 51279)',\n",
    "#                                         '(\\'max\\', 51277)',  '(\\'above_max\\', 51277)', '(\\'mean\\', 51277)',  '(\\'abn_percent\\', 51277)',\n",
    "#                                         '(\\'max\\', 51248)',  '(\\'above_max\\', 51248)', '(\\'mean\\', 51248)',  '(\\'abn_percent\\', 51248)',\n",
    "#                                         '(\\'max\\', 51249)',  '(\\'above_max\\', 51249)', '(\\'mean\\', 51249)',  '(\\'abn_percent\\', 51249)',\n",
    "#                                         '(\\'max\\', 51250)',  '(\\'above_max\\', 51250)', '(\\'mean\\', 51250)',  '(\\'abn_percent\\', 51250)']]\n",
    "\n",
    "# # Least Missingness + Creatinine\n",
    "# hadm_features = hadm_features.loc[:, ['(\\'max\\', 51221)',  '(\\'above_max\\', 51221)', '(\\'mean\\', 51221)',  '(\\'abn_percent\\', 51221)',\n",
    "#                                         '(\\'max\\', 51265)',  '(\\'above_max\\', 51265)', '(\\'mean\\', 51265)',  '(\\'abn_percent\\', 51265)',\n",
    "#                                         '(\\'max\\', 51222)',  '(\\'above_max\\', 51222)', '(\\'mean\\', 51222)',  '(\\'abn_percent\\', 51222)',\n",
    "#                                         '(\\'max\\', 51301)',  '(\\'above_max\\', 51301)', '(\\'mean\\', 51301)',  '(\\'abn_percent\\', 51301)',\n",
    "#                                         '(\\'max\\', 51279)',  '(\\'above_max\\', 51279)', '(\\'mean\\', 51279)',  '(\\'abn_percent\\', 51279)',\n",
    "#                                         '(\\'max\\', 51277)',  '(\\'above_max\\', 51277)', '(\\'mean\\', 51277)',  '(\\'abn_percent\\', 51277)',\n",
    "#                                         '(\\'max\\', 51248)',  '(\\'above_max\\', 51248)', '(\\'mean\\', 51248)',  '(\\'abn_percent\\', 51248)',\n",
    "#                                         '(\\'max\\', 51249)',  '(\\'above_max\\', 51249)', '(\\'mean\\', 51249)',  '(\\'abn_percent\\', 51249)',\n",
    "#                                         '(\\'max\\', 51250)',  '(\\'above_max\\', 51250)', '(\\'mean\\', 51250)',  '(\\'abn_percent\\', 51250)',\n",
    "#                                      '(\\'max\\', 50912)',  '(\\'above_max\\', 50912)', '(\\'mean\\', 50912)',  '(\\'abn_percent\\', 50912)']]\n"
   ]
  },
  {
   "cell_type": "code",
   "execution_count": 5,
   "metadata": {},
   "outputs": [],
   "source": [
    "X_train, X_test, y_train, y_test = train_test_split(hadm_features, hadm_target, stratify=hadm_target, random_state=0)\n"
   ]
  },
  {
   "cell_type": "markdown",
   "metadata": {},
   "source": [
    "## Logistic Regression"
   ]
  },
  {
   "cell_type": "code",
   "execution_count": 6,
   "metadata": {},
   "outputs": [],
   "source": [
    "from sklearn.linear_model import LogisticRegression\n",
    "from sklearn.model_selection import GridSearchCV"
   ]
  },
  {
   "cell_type": "code",
   "execution_count": 7,
   "metadata": {},
   "outputs": [
    {
     "name": "stderr",
     "output_type": "stream",
     "text": [
      "/opt/anaconda3/lib/python3.7/site-packages/sklearn/linear_model/_logistic.py:764: ConvergenceWarning: lbfgs failed to converge (status=1):\n",
      "STOP: TOTAL NO. of ITERATIONS REACHED LIMIT.\n",
      "\n",
      "Increase the number of iterations (max_iter) or scale the data as shown in:\n",
      "    https://scikit-learn.org/stable/modules/preprocessing.html\n",
      "Please also refer to the documentation for alternative solver options:\n",
      "    https://scikit-learn.org/stable/modules/linear_model.html#logistic-regression\n",
      "  extra_warning_msg=_LOGISTIC_SOLVER_CONVERGENCE_MSG)\n",
      "/opt/anaconda3/lib/python3.7/site-packages/sklearn/linear_model/_logistic.py:764: ConvergenceWarning: lbfgs failed to converge (status=1):\n",
      "STOP: TOTAL NO. of ITERATIONS REACHED LIMIT.\n",
      "\n",
      "Increase the number of iterations (max_iter) or scale the data as shown in:\n",
      "    https://scikit-learn.org/stable/modules/preprocessing.html\n",
      "Please also refer to the documentation for alternative solver options:\n",
      "    https://scikit-learn.org/stable/modules/linear_model.html#logistic-regression\n",
      "  extra_warning_msg=_LOGISTIC_SOLVER_CONVERGENCE_MSG)\n",
      "/opt/anaconda3/lib/python3.7/site-packages/sklearn/linear_model/_logistic.py:764: ConvergenceWarning: lbfgs failed to converge (status=1):\n",
      "STOP: TOTAL NO. of ITERATIONS REACHED LIMIT.\n",
      "\n",
      "Increase the number of iterations (max_iter) or scale the data as shown in:\n",
      "    https://scikit-learn.org/stable/modules/preprocessing.html\n",
      "Please also refer to the documentation for alternative solver options:\n",
      "    https://scikit-learn.org/stable/modules/linear_model.html#logistic-regression\n",
      "  extra_warning_msg=_LOGISTIC_SOLVER_CONVERGENCE_MSG)\n"
     ]
    },
    {
     "name": "stdout",
     "output_type": "stream",
     "text": [
      "CPU times: user 3min 50s, sys: 31.2 s, total: 4min 21s\n",
      "Wall time: 44.8 s\n"
     ]
    },
    {
     "name": "stderr",
     "output_type": "stream",
     "text": [
      "/opt/anaconda3/lib/python3.7/site-packages/sklearn/linear_model/_logistic.py:764: ConvergenceWarning: lbfgs failed to converge (status=1):\n",
      "STOP: TOTAL NO. of ITERATIONS REACHED LIMIT.\n",
      "\n",
      "Increase the number of iterations (max_iter) or scale the data as shown in:\n",
      "    https://scikit-learn.org/stable/modules/preprocessing.html\n",
      "Please also refer to the documentation for alternative solver options:\n",
      "    https://scikit-learn.org/stable/modules/linear_model.html#logistic-regression\n",
      "  extra_warning_msg=_LOGISTIC_SOLVER_CONVERGENCE_MSG)\n"
     ]
    },
    {
     "data": {
      "text/plain": [
       "0.8257313046971893"
      ]
     },
     "execution_count": 7,
     "metadata": {},
     "output_type": "execute_result"
    }
   ],
   "source": [
    "%%time\n",
    "\n",
    "# L2\n",
    "params_log = [ {'C':np.logspace(-4, 3, 20)} ]\n",
    "logReg = LogisticRegression(max_iter = 2000, class_weight = \"balanced\")\n",
    "\n",
    "# # L1\n",
    "# params_log = [ {'C':np.logspace(-6, -1, 20)} ]\n",
    "# logReg = LogisticRegression(penalty = 'l1', max_iter = 2000, class_weight = \"balanced\", solver = 'liblinear')\n",
    "\n",
    "grid_log = GridSearchCV(estimator = logReg, param_grid = params_log, cv = 5)\n",
    "grid_log.fit(X_train, y_train)\n",
    "grid_log.best_score_"
   ]
  },
  {
   "cell_type": "code",
   "execution_count": 8,
   "metadata": {},
   "outputs": [
    {
     "data": {
      "text/plain": [
       "{'C': 0.0012742749857031334}"
      ]
     },
     "execution_count": 8,
     "metadata": {},
     "output_type": "execute_result"
    }
   ],
   "source": [
    "grid_log.best_params_"
   ]
  },
  {
   "cell_type": "code",
   "execution_count": null,
   "metadata": {},
   "outputs": [],
   "source": []
  },
  {
   "cell_type": "code",
   "execution_count": 19,
   "metadata": {},
   "outputs": [
    {
     "data": {
      "text/plain": [
       "('abn_percent', 51006)    0.214087\n",
       "('abn_percent', 51003)    0.199360\n",
       "('min', 51006)            0.142296\n",
       "('abn_percent', 50931)    0.140455\n",
       "('mean', 51006)           0.134116\n",
       "                            ...   \n",
       "('above_max', 51265)      0.001165\n",
       "('mean', 51506)           0.000692\n",
       "('below_min', 50971)      0.000637\n",
       "('mean', 51222)           0.000575\n",
       "('min', 51221)            0.000411\n",
       "Length: 225, dtype: float64"
      ]
     },
     "execution_count": 19,
     "metadata": {},
     "output_type": "execute_result"
    }
   ],
   "source": [
    "est_coefs = pd.Series(grid_log.best_estimator_.coef_[0], index=X_train.columns)\n",
    "\n",
    "sortedCoefs = np.abs(est_coefs).sort_values(ascending=False)\n",
    "sortedCoefs[sortedCoefs > 0]"
   ]
  },
  {
   "cell_type": "code",
   "execution_count": 10,
   "metadata": {},
   "outputs": [],
   "source": [
    "from sklearn.metrics import accuracy_score, confusion_matrix, precision_score, recall_score, f1_score"
   ]
  },
  {
   "cell_type": "code",
   "execution_count": 11,
   "metadata": {},
   "outputs": [
    {
     "name": "stdout",
     "output_type": "stream",
     "text": [
      "Accuracy Score: 81.37%\n",
      "_______________________________________________\n",
      "Classification Report:\tPrecision Score: 40.18%\n",
      "\t\t\tRecall Score: 73.00%\n",
      "\t\t\tF1 score: 51.83%\n",
      "_______________________________________________\n",
      "Confusion Matrix: \n",
      " [[1559  326]\n",
      " [  81  219]]\n",
      "\n"
     ]
    }
   ],
   "source": [
    "pred = grid_log.predict(X_test)\n",
    "\n",
    "print(f\"Accuracy Score: {accuracy_score(y_test, pred) * 100:.2f}%\")\n",
    "print(\"_______________________________________________\")\n",
    "print(\"Classification Report:\", end='')\n",
    "print(f\"\\tPrecision Score: {precision_score(y_test, pred) * 100:.2f}%\")\n",
    "print(f\"\\t\\t\\tRecall Score: {recall_score(y_test, pred) * 100:.2f}%\")\n",
    "print(f\"\\t\\t\\tF1 score: {f1_score(y_test, pred) * 100:.2f}%\")\n",
    "print(\"_______________________________________________\")\n",
    "print(f\"Confusion Matrix: \\n {confusion_matrix(y_test, pred)}\\n\")"
   ]
  },
  {
   "cell_type": "markdown",
   "metadata": {},
   "source": [
    "## Random Forest"
   ]
  },
  {
   "cell_type": "code",
   "execution_count": 12,
   "metadata": {},
   "outputs": [],
   "source": [
    "from sklearn import ensemble\n",
    "import sklearn.model_selection as ms\n",
    "\n",
    "randomForest = ensemble.RandomForestClassifier(class_weight = \"balanced\")"
   ]
  },
  {
   "cell_type": "code",
   "execution_count": 13,
   "metadata": {},
   "outputs": [
    {
     "name": "stdout",
     "output_type": "stream",
     "text": [
      "CPU times: user 17.1 s, sys: 955 ms, total: 18 s\n",
      "Wall time: 6min 46s\n"
     ]
    },
    {
     "data": {
      "text/plain": [
       "GridSearchCV(cv=5, estimator=RandomForestClassifier(class_weight='balanced'),\n",
       "             n_jobs=-1,\n",
       "             param_grid={'criterion': ['gini', 'entropy'],\n",
       "                         'max_depth': range(1, 20),\n",
       "                         'n_estimators': range(10, 110, 10)},\n",
       "             scoring='accuracy')"
      ]
     },
     "execution_count": 13,
     "metadata": {},
     "output_type": "execute_result"
    }
   ],
   "source": [
    "%%time\n",
    "\n",
    "grid_para_forest = {\n",
    "    'criterion': ['gini', 'entropy'],\n",
    "    'max_depth': range(1, 20),\n",
    "    'n_estimators': range(10, 110, 10)\n",
    "}\n",
    "\n",
    "grid_search_forest = ms.GridSearchCV(randomForest, grid_para_forest, scoring='accuracy', cv=5, n_jobs=-1)\n",
    "grid_search_forest.fit(X_train, y_train)"
   ]
  },
  {
   "cell_type": "code",
   "execution_count": 14,
   "metadata": {},
   "outputs": [
    {
     "data": {
      "text/plain": [
       "[(\"('max', 51006)\", 0.04460647347298873),\n",
       " (\"('above_max', 51006)\", 0.0404782455086317),\n",
       " (\"('mean', 51006)\", 0.037441647839740286),\n",
       " (\"('mean', 50912)\", 0.02378874908711296),\n",
       " (\"('abn_percent', 51006)\", 0.023707749110205335),\n",
       " (\"('max', 50912)\", 0.01913332213644817),\n",
       " (\"('mean', 51277)\", 0.018135520932436002),\n",
       " (\"('min', 51006)\", 0.015424283957138862),\n",
       " (\"('mean', 51237)\", 0.014165955729248766),\n",
       " (\"('max', 51237)\", 0.014110421702973615),\n",
       " (\"('min', 51003)\", 0.01397082153242851),\n",
       " (\"('max', 51277)\", 0.01352661873423671),\n",
       " (\"('max', 51003)\", 0.01295377873426016),\n",
       " (\"('mean', 51249)\", 0.012443442388680033),\n",
       " (\"('mean', 51003)\", 0.012377652818029198),\n",
       " (\"('min', 51249)\", 0.012180996115830732),\n",
       " (\"('min', 51277)\", 0.011820488729795273),\n",
       " (\"('above_max', 51274)\", 0.01163573130291575),\n",
       " (\"('mean', 51275)\", 0.010658848917106148),\n",
       " (\"('min', 51274)\", 0.009970550020056246),\n",
       " (\"('mean', 51274)\", 0.00961495244398068),\n",
       " (\"('min', 50912)\", 0.009563256368114923),\n",
       " (\"('max', 51274)\", 0.009076692401822696),\n",
       " (\"('max', 51249)\", 0.008948305663574307),\n",
       " (\"('mean', 50902)\", 0.008934912578717234),\n",
       " (\"('max', 51275)\", 0.008726855162412546),\n",
       " (\"('above_max', 50931)\", 0.008614753313670336),\n",
       " (\"('max', 50911)\", 0.008551732926629332),\n",
       " (\"('mean', 50882)\", 0.008158002372602603),\n",
       " (\"('abn_percent', 50912)\", 0.00814851434462214),\n",
       " (\"('max', 50931)\", 0.007962419132944244),\n",
       " (\"('mean', 51301)\", 0.007802122683362416),\n",
       " (\"('abn_percent', 51003)\", 0.007716411758651644),\n",
       " (\"('above_max', 51237)\", 0.007682032799194315),\n",
       " (\"('above_max', 51003)\", 0.0073890255263925515),\n",
       " (\"('mean', 50970)\", 0.00706359108040425),\n",
       " (\"('max', 51250)\", 0.006985894653395085),\n",
       " (\"('min', 51237)\", 0.006885925875511459),\n",
       " (\"('min', 51301)\", 0.006813200742866238),\n",
       " (\"('mean', 50893)\", 0.006609780836399926),\n",
       " (\"('min', 51265)\", 0.006449290138423018),\n",
       " (\"('max', 50971)\", 0.006447913609482714),\n",
       " (\"('above_max', 50912)\", 0.006445767344041141),\n",
       " (\"('mean', 50971)\", 0.00633328328161593),\n",
       " (\"('mean', 50960)\", 0.006304921353302661),\n",
       " (\"('min', 51275)\", 0.0062674714379173605),\n",
       " (\"('mean', 50931)\", 0.006229481759433068),\n",
       " (\"('min', 50931)\", 0.0062199487319829294),\n",
       " (\"('mean', 51265)\", 0.006219004970888421),\n",
       " (\"('mean', 51250)\", 0.006198629717604385),\n",
       " (\"('below_min', 51249)\", 0.0061250461210707085),\n",
       " (\"('max', 50970)\", 0.006052067468496516),\n",
       " (\"('mean', 50911)\", 0.005993040628424907),\n",
       " (\"('max', 50893)\", 0.005969575436739416),\n",
       " (\"('min', 50861)\", 0.005963440668335699),\n",
       " (\"('min', 50911)\", 0.0058712209021306895),\n",
       " (\"('mean', 50885)\", 0.005825565558802794),\n",
       " (\"('max', 51498)\", 0.005764681161450781),\n",
       " (\"('max', 51265)\", 0.005738671937897285),\n",
       " (\"('min', 51498)\", 0.005676604054446448),\n",
       " (\"('mean', 50878)\", 0.005666219049923293),\n",
       " (\"('min', 51222)\", 0.005614034090746859),\n",
       " (\"('min', 50878)\", 0.00559913871069368),\n",
       " (\"('max', 50902)\", 0.005498546577141018),\n",
       " (\"('mean', 50868)\", 0.005486678374321059),\n",
       " (\"('mean', 51491)\", 0.005395388758649596),\n",
       " (\"('below_min', 51222)\", 0.005389798746366776),\n",
       " (\"('max', 50885)\", 0.005380703492336045),\n",
       " (\"('mean', 50983)\", 0.005342756160236699),\n",
       " (\"('mean', 50863)\", 0.00532123820398763),\n",
       " (\"('max', 50882)\", 0.005309717053862666),\n",
       " (\"('max', 51301)\", 0.005301892725462675),\n",
       " (\"('min', 50885)\", 0.005288478759068378),\n",
       " (\"('min', 51248)\", 0.005175569359695391),\n",
       " (\"('mean', 51498)\", 0.005162886796661839),\n",
       " (\"('max', 50863)\", 0.005104456345191483),\n",
       " (\"('min', 50902)\", 0.005047153686469246),\n",
       " (\"('abn_percent', 51274)\", 0.005040042713396805),\n",
       " (\"('min', 50893)\", 0.0050260154089363145),\n",
       " (\"('mean', 51279)\", 0.0049931623004876744),\n",
       " (\"('min', 50863)\", 0.004973642046562325),\n",
       " (\"('max', 50861)\", 0.00496408876687437),\n",
       " (\"('min', 50970)\", 0.004876405491702966),\n",
       " (\"('max', 51491)\", 0.0048605027698267475),\n",
       " (\"('min', 51279)\", 0.004857448197037682),\n",
       " (\"('max', 50878)\", 0.004789775025142268),\n",
       " (\"('max', 51279)\", 0.0047245066453720265),\n",
       " (\"('mean', 51248)\", 0.004709041099484714),\n",
       " (\"('mean', 51221)\", 0.004693439456540197),\n",
       " (\"('min', 51250)\", 0.004648817810668004),\n",
       " (\"('max', 51248)\", 0.004623138300826749),\n",
       " (\"('min', 51491)\", 0.004462813082412259),\n",
       " (\"('max', 51221)\", 0.004334383117239015),\n",
       " (\"('mean', 50861)\", 0.004302356819061793),\n",
       " (\"('min', 50983)\", 0.0042919225256165434),\n",
       " (\"('max', 50983)\", 0.004291152693406094),\n",
       " (\"('min', 50971)\", 0.004190130722355178),\n",
       " (\"('min', 50882)\", 0.004146841920136013),\n",
       " (\"('abn_percent', 50931)\", 0.004066094961691442),\n",
       " (\"('max', 50868)\", 0.0040279143240457786),\n",
       " (\"('mean', 51514)\", 0.0040040282564167045),\n",
       " (\"('max', 51222)\", 0.003907384410642648),\n",
       " (\"('mean', 51222)\", 0.0038762884004113203),\n",
       " (\"('max', 51514)\", 0.0038035899273209483),\n",
       " (\"('above_max', 51275)\", 0.0037961170470361912),\n",
       " (\"('min', 51221)\", 0.003762435385281353),\n",
       " (\"('min', 50960)\", 0.003730822460412707),\n",
       " (\"('max', 50960)\", 0.0037228858804483956),\n",
       " (\"('abn_percent', 51237)\", 0.0036115530844200165),\n",
       " (\"('min', 51514)\", 0.0036068427279936084),\n",
       " (\"('below_min', 51221)\", 0.0035660528394119667),\n",
       " (\"('min', 50868)\", 0.003312482975440049),\n",
       " (\"('above_max', 51249)\", 0.00329763060667308),\n",
       " (\"('below_min', 51279)\", 0.0032133519848648534),\n",
       " (\"('above_max', 51301)\", 0.0030866437794286297),\n",
       " (\"('abn_percent', 51277)\", 0.003057803220657067),\n",
       " (\"('abn_percent', 50882)\", 0.002954868884247032),\n",
       " (\"('abn_percent', 50970)\", 0.002909692896109929),\n",
       " (\"('abn_percent', 51249)\", 0.0025308698771593784),\n",
       " (\"('below_min', 51265)\", 0.0024934889533343584),\n",
       " (\"('abn_percent', 51301)\", 0.002396152920737243),\n",
       " (\"('below_min', 50893)\", 0.0023552996570084576),\n",
       " (\"('abn_percent', 50893)\", 0.002313415993368999),\n",
       " (\"('abn_percent', 51275)\", 0.002100585123490302),\n",
       " (\"('abn_percent', 50960)\", 0.00195334161527962),\n",
       " (\"('below_min', 50970)\", 0.0019481764548393622),\n",
       " (\"('above_max', 51277)\", 0.001924252592575614),\n",
       " (\"('mean', 51492)\", 0.0018984170469301279),\n",
       " (\"('above_max', 50902)\", 0.0018655438688269682),\n",
       " (\"('below_min', 50902)\", 0.0018463538314634682),\n",
       " (\"('above_max', 50882)\", 0.0018125361463509058),\n",
       " (\"('abn_percent', 51265)\", 0.0016928837385479366),\n",
       " (\"('abn_percent', 50983)\", 0.0016103891186700432),\n",
       " (\"('abn_percent', 50902)\", 0.001574904387650169),\n",
       " (\"('max', 51492)\", 0.0014889787006906528),\n",
       " (\"('below_min', 50882)\", 0.0014632970462103274),\n",
       " (\"('above_max', 50861)\", 0.0014406998863872814),\n",
       " (\"('abn_percent', 51221)\", 0.0014146521334554786),\n",
       " (\"('above_max', 50970)\", 0.0013642424362058532),\n",
       " (\"('min', 51492)\", 0.0012923762456126863),\n",
       " (\"('abn_percent', 51279)\", 0.0012883983077834496),\n",
       " (\"('abn_percent', 50868)\", 0.0012804271724834843),\n",
       " (\"('abn_percent', 50971)\", 0.0012678173383463688),\n",
       " (\"('abn_percent', 51222)\", 0.0012413274927058522),\n",
       " (\"('abn_percent', 51248)\", 0.00118464814607825),\n",
       " (\"('above_max', 51492)\", 0.0011548086484334623),\n",
       " (\"('above_max', 50878)\", 0.0010707431296814883),\n",
       " (\"('above_max', 50863)\", 0.0010561379295069276),\n",
       " (\"('above_max', 51265)\", 0.001035321000884635),\n",
       " (\"('abn_percent', 51250)\", 0.00100581908426863),\n",
       " (\"('above_max', 51248)\", 0.0009628039283078682),\n",
       " (\"('above_max', 50971)\", 0.0009536807067118227),\n",
       " (\"('abn_percent', 50878)\", 0.000930059246076167),\n",
       " (\"('below_min', 51006)\", 0.0009262362271160135),\n",
       " (\"('below_min', 50983)\", 0.0009175204693117798),\n",
       " (\"('above_max', 51250)\", 0.0009131154697292893),\n",
       " (\"('above_max', 50885)\", 0.0008693165110395484),\n",
       " (\"('above_max', 51466)\", 0.0008679451740891149),\n",
       " (\"('mean', 51486)\", 0.0008082928524728693),\n",
       " (\"('abn_percent', 50885)\", 0.0007886890957307873),\n",
       " (\"('max', 51466)\", 0.00075628033395954),\n",
       " (\"('max', 51486)\", 0.0007506627629094702),\n",
       " (\"('mean', 51466)\", 0.0007306640797744788),\n",
       " (\"('mean', 51484)\", 0.0006996910421323101),\n",
       " (\"('abn_percent', 50861)\", 0.0006987972512620241),\n",
       " (\"('min', 51466)\", 0.0006922756400074494),\n",
       " (\"('below_min', 51248)\", 0.0006850481395133813),\n",
       " (\"('mean', 51506)\", 0.0006720873109167798),\n",
       " (\"('mean', 51478)\", 0.0006571652504628166),\n",
       " (\"('below_min', 51275)\", 0.0006164482899918815),\n",
       " (\"('above_max', 51486)\", 0.00058729832063467),\n",
       " (\"('below_min', 50931)\", 0.0005751504991838237),\n",
       " (\"('below_min', 50960)\", 0.000573290594184913),\n",
       " (\"('abn_percent', 50863)\", 0.0005488055725531217),\n",
       " (\"('above_max', 50911)\", 0.0005484313745457859),\n",
       " (\"('above_max', 50983)\", 0.0005453998744312395),\n",
       " (\"('abn_percent', 51478)\", 0.0005208303829854063),\n",
       " (\"('max', 51506)\", 0.0005171455667196162),\n",
       " (\"('above_max', 50960)\", 0.0004871032832441051),\n",
       " (\"('above_max', 50868)\", 0.00047657413786183166),\n",
       " (\"('below_min', 50971)\", 0.00046367066096972314),\n",
       " (\"('below_min', 51301)\", 0.000454333166616506),\n",
       " (\"('below_min', 51250)\", 0.0004521172784589526),\n",
       " (\"('min', 51486)\", 0.0004486178121322721),\n",
       " (\"('abn_percent', 51466)\", 0.0004431378478258128),\n",
       " (\"('abn_percent', 50911)\", 0.00041701017425487533),\n",
       " (\"('max', 51484)\", 0.0004108427647351136),\n",
       " (\"('below_min', 51514)\", 0.0003873099728885342),\n",
       " (\"('max', 51478)\", 0.00038371094428078117),\n",
       " (\"('above_max', 51478)\", 0.00038334962295417924),\n",
       " (\"('above_max', 51484)\", 0.00037540529046737865),\n",
       " (\"('above_max', 51514)\", 0.000358150506919725),\n",
       " (\"('abn_percent', 51484)\", 0.0003572953498806014),\n",
       " (\"('below_min', 50868)\", 0.00034701868755662447),\n",
       " (\"('above_max', 51506)\", 0.0003451367397723087),\n",
       " (\"('abn_percent', 51514)\", 0.000339977956371713),\n",
       " (\"('min', 51484)\", 0.00030763329256079067),\n",
       " (\"('max', 51464)\", 0.0002957063373739142),\n",
       " (\"('above_max', 51464)\", 0.0002729760330450906),\n",
       " (\"('abn_percent', 51492)\", 0.00025807221196010494),\n",
       " (\"('mean', 51464)\", 0.00025397059951826404),\n",
       " (\"('mean', 51487)\", 0.00024845676960758624),\n",
       " (\"('min', 51478)\", 0.0002310589864092485),\n",
       " (\"('abn_percent', 51506)\", 0.00020932995583001902),\n",
       " (\"('min', 51506)\", 0.00020608961067644798),\n",
       " (\"('abn_percent', 51486)\", 0.00020214613242631067),\n",
       " (\"('abn_percent', 51498)\", 0.00017938783468068948),\n",
       " (\"('min', 51464)\", 0.00017247684413380265),\n",
       " (\"('above_max', 51498)\", 0.00015197062703453337),\n",
       " (\"('below_min', 50863)\", 0.0001476956375165976),\n",
       " (\"('min', 51487)\", 0.0001416403112709767),\n",
       " (\"('max', 51487)\", 0.00012453318997945298),\n",
       " (\"('above_max', 51487)\", 0.00011293813860795216),\n",
       " (\"('above_max', 50893)\", 0.0001086159518421046),\n",
       " (\"('above_max', 51221)\", 0.00010091730754507461),\n",
       " (\"('abn_percent', 51487)\", 5.419534089142534e-05),\n",
       " (\"('below_min', 50912)\", 4.711136146016633e-05),\n",
       " (\"('abn_percent', 51491)\", 2.3000101847130603e-05),\n",
       " (\"('above_max', 51222)\", 1.9467067835799466e-05),\n",
       " (\"('above_max', 51491)\", 1.8664357176840577e-05),\n",
       " (\"('above_max', 51279)\", 1.739223507769882e-05),\n",
       " (\"('below_min', 51498)\", 1.0277999906368706e-05),\n",
       " (\"('abn_percent', 51464)\", 4.382337401422743e-20),\n",
       " (\"('below_min', 51274)\", 1.1978993347250799e-20),\n",
       " (\"('below_min', 51237)\", 5.2013493242290156e-21),\n",
       " (\"('below_min', 50861)\", 0.0),\n",
       " (\"('below_min', 50878)\", 0.0),\n",
       " (\"('below_min', 50885)\", 0.0),\n",
       " (\"('below_min', 50911)\", 0.0),\n",
       " (\"('below_min', 51003)\", 0.0),\n",
       " (\"('below_min', 51277)\", 0.0),\n",
       " (\"('below_min', 51464)\", 0.0),\n",
       " (\"('below_min', 51466)\", 0.0),\n",
       " (\"('below_min', 51478)\", 0.0),\n",
       " (\"('below_min', 51484)\", 0.0),\n",
       " (\"('below_min', 51486)\", 0.0),\n",
       " (\"('below_min', 51487)\", 0.0),\n",
       " (\"('below_min', 51491)\", 0.0),\n",
       " (\"('below_min', 51492)\", 0.0),\n",
       " (\"('below_min', 51506)\", 0.0)]"
      ]
     },
     "execution_count": 14,
     "metadata": {},
     "output_type": "execute_result"
    }
   ],
   "source": [
    "# Get most important features\n",
    "tree_final = grid_search_forest.best_estimator_\n",
    "feature_importance = tree_final.feature_importances_\n",
    "feature_importance = list(zip(X_train.columns, feature_importance))\n",
    "\n",
    "feature_importance.sort(key = lambda x: x[1], reverse = True)\n",
    "feature_importance"
   ]
  },
  {
   "cell_type": "code",
   "execution_count": 15,
   "metadata": {},
   "outputs": [
    {
     "data": {
      "text/plain": [
       "{'criterion': 'entropy', 'max_depth': 13, 'n_estimators': 90}"
      ]
     },
     "execution_count": 15,
     "metadata": {},
     "output_type": "execute_result"
    }
   ],
   "source": [
    "grid_search_forest.best_params_"
   ]
  },
  {
   "cell_type": "code",
   "execution_count": 16,
   "metadata": {},
   "outputs": [
    {
     "data": {
      "text/plain": [
       "0.8901278087352467"
      ]
     },
     "execution_count": 16,
     "metadata": {},
     "output_type": "execute_result"
    }
   ],
   "source": [
    "grid_search_forest.best_score_"
   ]
  },
  {
   "cell_type": "code",
   "execution_count": 17,
   "metadata": {},
   "outputs": [
    {
     "name": "stdout",
     "output_type": "stream",
     "text": [
      "The training error is: 0.99741\n",
      "The test     error is: 0.88101\n"
     ]
    }
   ],
   "source": [
    "print(\"The training error is: %.5f\" % (grid_search_forest.score(X_train, y_train)))\n",
    "print(\"The test     error is: %.5f\" % (grid_search_forest.score(X_test, y_test)))"
   ]
  },
  {
   "cell_type": "code",
   "execution_count": 18,
   "metadata": {},
   "outputs": [
    {
     "name": "stdout",
     "output_type": "stream",
     "text": [
      "Accuracy Score: 88.10%\n",
      "_______________________________________________\n",
      "Classification Report:\tPrecision Score: 61.76%\n",
      "\t\t\tRecall Score: 35.00%\n",
      "\t\t\tF1 score: 44.68%\n",
      "_______________________________________________\n",
      "Confusion Matrix: \n",
      " [[1820   65]\n",
      " [ 195  105]]\n",
      "\n"
     ]
    }
   ],
   "source": [
    "rf_predictions = tree_final.predict(X_test)\n",
    "\n",
    "print(f\"Accuracy Score: {accuracy_score(y_test, rf_predictions) * 100:.2f}%\")\n",
    "print(\"_______________________________________________\")\n",
    "print(\"Classification Report:\", end='')\n",
    "print(f\"\\tPrecision Score: {precision_score(y_test, rf_predictions) * 100:.2f}%\")\n",
    "print(f\"\\t\\t\\tRecall Score: {recall_score(y_test, rf_predictions) * 100:.2f}%\")\n",
    "print(f\"\\t\\t\\tF1 score: {f1_score(y_test, rf_predictions) * 100:.2f}%\")\n",
    "print(\"_______________________________________________\")\n",
    "print(f\"Confusion Matrix: \\n {confusion_matrix(y_test, rf_predictions)}\\n\")"
   ]
  },
  {
   "cell_type": "code",
   "execution_count": null,
   "metadata": {},
   "outputs": [],
   "source": []
  }
 ],
 "metadata": {
  "kernelspec": {
   "display_name": "Python 3",
   "language": "python",
   "name": "python3"
  },
  "language_info": {
   "codemirror_mode": {
    "name": "ipython",
    "version": 3
   },
   "file_extension": ".py",
   "mimetype": "text/x-python",
   "name": "python",
   "nbconvert_exporter": "python",
   "pygments_lexer": "ipython3",
   "version": "3.7.6"
  }
 },
 "nbformat": 4,
 "nbformat_minor": 4
}
