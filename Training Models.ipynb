{
 "cells": [
  {
   "cell_type": "markdown",
   "metadata": {},
   "source": [
    "## Base Models"
   ]
  },
  {
   "cell_type": "code",
   "execution_count": 1,
   "metadata": {},
   "outputs": [],
   "source": [
    "import pandas as pd\n",
    "import numpy as np\n",
    "from sklearn.model_selection import train_test_split"
   ]
  },
  {
   "cell_type": "code",
   "execution_count": 2,
   "metadata": {},
   "outputs": [],
   "source": [
    "pos_final_test = pd.read_csv('./pos_final_test.csv.gz', compression='gzip')\n",
    "pos_final_test_KNN = pd.read_csv('./pos_KNN_final_test.csv.gz', compression='gzip')\n",
    "pos_final_missing_data_test = pd.read_csv('./pos_final_missing_data_test.csv.gz', compression='gzip')\n"
   ]
  },
  {
   "cell_type": "code",
   "execution_count": 3,
   "metadata": {},
   "outputs": [],
   "source": [
    "model_cols = ~pos_final_test.columns.isin(['(\\'subject_id\\', \\'\\')', '(\\'hadm_id\\', \\'\\')', 'subject_id', 'hadm_id', 'Unnamed: 0', 'pos'])\n",
    "\n",
    "hadm_features = pos_final_test.loc[:, model_cols]\n",
    "hadm_target = pos_final_test.loc[:, 'pos']\n",
    "\n",
    "# hadm_features = pos_final_missing_data_test.loc[:, model_cols]\n",
    "# hadm_target = pos_final_missing_data_test.loc[:, 'pos']\n"
   ]
  },
  {
   "cell_type": "code",
   "execution_count": 4,
   "metadata": {},
   "outputs": [],
   "source": [
    "# # Creatinine - 50912\n",
    "# hadm_features = hadm_features.loc[:, ['(\\'max\\', 50912)',  '(\\'above_max\\', 50912)', '(\\'mean\\', 50912)',  '(\\'abn_percent\\', 50912)']]\n",
    "\n",
    "# # Least Missingness\n",
    "# # [51221, 51265, 51222, 51301, 51279, 51277, 51248, 51249, 51250]\n",
    "# hadm_features = hadm_features.loc[:, ['(\\'max\\', 51221)',  '(\\'above_max\\', 51221)', '(\\'mean\\', 51221)',  '(\\'abn_percent\\', 51221)',\n",
    "#                                         '(\\'max\\', 51265)',  '(\\'above_max\\', 51265)', '(\\'mean\\', 51265)',  '(\\'abn_percent\\', 51265)',\n",
    "#                                         '(\\'max\\', 51222)',  '(\\'above_max\\', 51222)', '(\\'mean\\', 51222)',  '(\\'abn_percent\\', 51222)',\n",
    "#                                         '(\\'max\\', 51301)',  '(\\'above_max\\', 51301)', '(\\'mean\\', 51301)',  '(\\'abn_percent\\', 51301)',\n",
    "#                                         '(\\'max\\', 51279)',  '(\\'above_max\\', 51279)', '(\\'mean\\', 51279)',  '(\\'abn_percent\\', 51279)',\n",
    "#                                         '(\\'max\\', 51277)',  '(\\'above_max\\', 51277)', '(\\'mean\\', 51277)',  '(\\'abn_percent\\', 51277)',\n",
    "#                                         '(\\'max\\', 51248)',  '(\\'above_max\\', 51248)', '(\\'mean\\', 51248)',  '(\\'abn_percent\\', 51248)',\n",
    "#                                         '(\\'max\\', 51249)',  '(\\'above_max\\', 51249)', '(\\'mean\\', 51249)',  '(\\'abn_percent\\', 51249)',\n",
    "#                                         '(\\'max\\', 51250)',  '(\\'above_max\\', 51250)', '(\\'mean\\', 51250)',  '(\\'abn_percent\\', 51250)']]\n",
    "\n",
    "# # Least Missingness + Creatinine\n",
    "# hadm_features = hadm_features.loc[:, ['(\\'max\\', 51221)',  '(\\'above_max\\', 51221)', '(\\'mean\\', 51221)',  '(\\'abn_percent\\', 51221)',\n",
    "#                                         '(\\'max\\', 51265)',  '(\\'above_max\\', 51265)', '(\\'mean\\', 51265)',  '(\\'abn_percent\\', 51265)',\n",
    "#                                         '(\\'max\\', 51222)',  '(\\'above_max\\', 51222)', '(\\'mean\\', 51222)',  '(\\'abn_percent\\', 51222)',\n",
    "#                                         '(\\'max\\', 51301)',  '(\\'above_max\\', 51301)', '(\\'mean\\', 51301)',  '(\\'abn_percent\\', 51301)',\n",
    "#                                         '(\\'max\\', 51279)',  '(\\'above_max\\', 51279)', '(\\'mean\\', 51279)',  '(\\'abn_percent\\', 51279)',\n",
    "#                                         '(\\'max\\', 51277)',  '(\\'above_max\\', 51277)', '(\\'mean\\', 51277)',  '(\\'abn_percent\\', 51277)',\n",
    "#                                         '(\\'max\\', 51248)',  '(\\'above_max\\', 51248)', '(\\'mean\\', 51248)',  '(\\'abn_percent\\', 51248)',\n",
    "#                                         '(\\'max\\', 51249)',  '(\\'above_max\\', 51249)', '(\\'mean\\', 51249)',  '(\\'abn_percent\\', 51249)',\n",
    "#                                         '(\\'max\\', 51250)',  '(\\'above_max\\', 51250)', '(\\'mean\\', 51250)',  '(\\'abn_percent\\', 51250)',\n",
    "#                                      '(\\'max\\', 50912)',  '(\\'above_max\\', 50912)', '(\\'mean\\', 50912)',  '(\\'abn_percent\\', 50912)']]\n"
   ]
  },
  {
   "cell_type": "code",
   "execution_count": 5,
   "metadata": {},
   "outputs": [],
   "source": [
    "X_train, X_test, y_train, y_test = train_test_split(hadm_features, hadm_target, stratify=hadm_target, random_state=0)\n"
   ]
  },
  {
   "cell_type": "markdown",
   "metadata": {},
   "source": [
    "## Logistic Regression"
   ]
  },
  {
   "cell_type": "code",
   "execution_count": 6,
   "metadata": {},
   "outputs": [],
   "source": [
    "from sklearn.linear_model import LogisticRegression\n",
    "from sklearn.model_selection import GridSearchCV"
   ]
  },
  {
   "cell_type": "code",
   "execution_count": 7,
   "metadata": {},
   "outputs": [
    {
     "name": "stderr",
     "output_type": "stream",
     "text": [
      "/opt/anaconda3/lib/python3.7/site-packages/sklearn/linear_model/_logistic.py:764: ConvergenceWarning: lbfgs failed to converge (status=1):\n",
      "STOP: TOTAL NO. of ITERATIONS REACHED LIMIT.\n",
      "\n",
      "Increase the number of iterations (max_iter) or scale the data as shown in:\n",
      "    https://scikit-learn.org/stable/modules/preprocessing.html\n",
      "Please also refer to the documentation for alternative solver options:\n",
      "    https://scikit-learn.org/stable/modules/linear_model.html#logistic-regression\n",
      "  extra_warning_msg=_LOGISTIC_SOLVER_CONVERGENCE_MSG)\n",
      "/opt/anaconda3/lib/python3.7/site-packages/sklearn/linear_model/_logistic.py:764: ConvergenceWarning: lbfgs failed to converge (status=1):\n",
      "STOP: TOTAL NO. of ITERATIONS REACHED LIMIT.\n",
      "\n",
      "Increase the number of iterations (max_iter) or scale the data as shown in:\n",
      "    https://scikit-learn.org/stable/modules/preprocessing.html\n",
      "Please also refer to the documentation for alternative solver options:\n",
      "    https://scikit-learn.org/stable/modules/linear_model.html#logistic-regression\n",
      "  extra_warning_msg=_LOGISTIC_SOLVER_CONVERGENCE_MSG)\n",
      "/opt/anaconda3/lib/python3.7/site-packages/sklearn/linear_model/_logistic.py:764: ConvergenceWarning: lbfgs failed to converge (status=1):\n",
      "STOP: TOTAL NO. of ITERATIONS REACHED LIMIT.\n",
      "\n",
      "Increase the number of iterations (max_iter) or scale the data as shown in:\n",
      "    https://scikit-learn.org/stable/modules/preprocessing.html\n",
      "Please also refer to the documentation for alternative solver options:\n",
      "    https://scikit-learn.org/stable/modules/linear_model.html#logistic-regression\n",
      "  extra_warning_msg=_LOGISTIC_SOLVER_CONVERGENCE_MSG)\n"
     ]
    },
    {
     "name": "stdout",
     "output_type": "stream",
     "text": [
      "CPU times: user 4min 15s, sys: 34.5 s, total: 4min 49s\n",
      "Wall time: 49.8 s\n"
     ]
    },
    {
     "data": {
      "text/plain": [
       "0.8249678294641349"
      ]
     },
     "execution_count": 7,
     "metadata": {},
     "output_type": "execute_result"
    }
   ],
   "source": [
    "%%time\n",
    "\n",
    "# L2\n",
    "params_log = [ {'C':np.logspace(-4, 3, 20)} ]\n",
    "logReg = LogisticRegression(max_iter = 2000, class_weight = \"balanced\")\n",
    "\n",
    "# # L1\n",
    "# params_log = [ {'C':np.logspace(-6, -1, 20)} ]\n",
    "# logReg = LogisticRegression(penalty = 'l1', max_iter = 2000, class_weight = \"balanced\", solver = 'liblinear')\n",
    "\n",
    "grid_log = GridSearchCV(estimator = logReg, param_grid = params_log, cv = 5)\n",
    "grid_log.fit(X_train, y_train)\n",
    "grid_log.best_score_"
   ]
  },
  {
   "cell_type": "code",
   "execution_count": 8,
   "metadata": {},
   "outputs": [
    {
     "data": {
      "text/plain": [
       "{'C': 0.00023357214690901214}"
      ]
     },
     "execution_count": 8,
     "metadata": {},
     "output_type": "execute_result"
    }
   ],
   "source": [
    "grid_log.best_params_"
   ]
  },
  {
   "cell_type": "code",
   "execution_count": null,
   "metadata": {},
   "outputs": [],
   "source": []
  },
  {
   "cell_type": "code",
   "execution_count": 9,
   "metadata": {},
   "outputs": [
    {
     "data": {
      "text/plain": [
       "age                                        0.137544\n",
       "('abn_percent', 51006)                     0.103972\n",
       "('abn_percent', 51003)                     0.093135\n",
       "('min', 51006)                             0.079919\n",
       "('mean', 51006)                            0.076955\n",
       "                                             ...   \n",
       "('min', 50882)                             0.000205\n",
       "('max', 50960)                             0.000187\n",
       "('max', 51514)                             0.000136\n",
       "('mean', 51478)                            0.000133\n",
       "ethnicity_AMERICAN INDIAN/ALASKA NATIVE    0.000010\n",
       "Length: 233, dtype: float64"
      ]
     },
     "execution_count": 9,
     "metadata": {},
     "output_type": "execute_result"
    }
   ],
   "source": [
    "est_coefs = pd.Series(grid_log.best_estimator_.coef_[0], index=X_train.columns)\n",
    "\n",
    "sortedCoefs = np.abs(est_coefs).sort_values(ascending=False)\n",
    "sortedCoefs[sortedCoefs > 0]"
   ]
  },
  {
   "cell_type": "code",
   "execution_count": 10,
   "metadata": {},
   "outputs": [],
   "source": [
    "from sklearn.metrics import accuracy_score, confusion_matrix, precision_score, recall_score, f1_score"
   ]
  },
  {
   "cell_type": "code",
   "execution_count": 11,
   "metadata": {},
   "outputs": [
    {
     "name": "stdout",
     "output_type": "stream",
     "text": [
      "Accuracy Score: 80.78%\n",
      "_______________________________________________\n",
      "Classification Report:\tPrecision Score: 38.97%\n",
      "\t\t\tRecall Score: 70.67%\n",
      "\t\t\tF1 score: 50.24%\n",
      "_______________________________________________\n",
      "Confusion Matrix: \n",
      " [[1553  332]\n",
      " [  88  212]]\n",
      "\n"
     ]
    }
   ],
   "source": [
    "pred = grid_log.predict(X_test)\n",
    "\n",
    "print(f\"Accuracy Score: {accuracy_score(y_test, pred) * 100:.2f}%\")\n",
    "print(\"_______________________________________________\")\n",
    "print(\"Classification Report:\", end='')\n",
    "print(f\"\\tPrecision Score: {precision_score(y_test, pred) * 100:.2f}%\")\n",
    "print(f\"\\t\\t\\tRecall Score: {recall_score(y_test, pred) * 100:.2f}%\")\n",
    "print(f\"\\t\\t\\tF1 score: {f1_score(y_test, pred) * 100:.2f}%\")\n",
    "print(\"_______________________________________________\")\n",
    "print(f\"Confusion Matrix: \\n {confusion_matrix(y_test, pred)}\\n\")"
   ]
  },
  {
   "cell_type": "markdown",
   "metadata": {},
   "source": [
    "## Random Forest"
   ]
  },
  {
   "cell_type": "code",
   "execution_count": 12,
   "metadata": {},
   "outputs": [],
   "source": [
    "from sklearn import ensemble\n",
    "import sklearn.model_selection as ms\n",
    "\n",
    "randomForest = ensemble.RandomForestClassifier(class_weight = \"balanced\")"
   ]
  },
  {
   "cell_type": "code",
   "execution_count": null,
   "metadata": {},
   "outputs": [],
   "source": [
    "%%time\n",
    "\n",
    "grid_para_forest = {\n",
    "    'criterion': ['gini', 'entropy'],\n",
    "    'max_depth': range(1, 20),\n",
    "    'n_estimators': range(10, 110, 10)\n",
    "}\n",
    "\n",
    "grid_search_forest = ms.GridSearchCV(randomForest, grid_para_forest, scoring='accuracy', cv=5, n_jobs=-1)\n",
    "grid_search_forest.fit(X_train, y_train)"
   ]
  },
  {
   "cell_type": "code",
   "execution_count": null,
   "metadata": {},
   "outputs": [],
   "source": [
    "# Get most important features\n",
    "tree_final = grid_search_forest.best_estimator_\n",
    "feature_importance = tree_final.feature_importances_\n",
    "feature_importance = list(zip(X_train.columns, feature_importance))\n",
    "\n",
    "feature_importance.sort(key = lambda x: x[1], reverse = True)\n",
    "feature_importance"
   ]
  },
  {
   "cell_type": "code",
   "execution_count": null,
   "metadata": {},
   "outputs": [],
   "source": [
    "grid_search_forest.best_params_"
   ]
  },
  {
   "cell_type": "code",
   "execution_count": null,
   "metadata": {},
   "outputs": [],
   "source": [
    "grid_search_forest.best_score_"
   ]
  },
  {
   "cell_type": "code",
   "execution_count": null,
   "metadata": {},
   "outputs": [],
   "source": [
    "print(\"The training error is: %.5f\" % (grid_search_forest.score(X_train, y_train)))\n",
    "print(\"The test     error is: %.5f\" % (grid_search_forest.score(X_test, y_test)))"
   ]
  },
  {
   "cell_type": "code",
   "execution_count": null,
   "metadata": {},
   "outputs": [],
   "source": [
    "rf_predictions = tree_final.predict(X_test)\n",
    "\n",
    "print(f\"Accuracy Score: {accuracy_score(y_test, rf_predictions) * 100:.2f}%\")\n",
    "print(\"_______________________________________________\")\n",
    "print(\"Classification Report:\", end='')\n",
    "print(f\"\\tPrecision Score: {precision_score(y_test, rf_predictions) * 100:.2f}%\")\n",
    "print(f\"\\t\\t\\tRecall Score: {recall_score(y_test, rf_predictions) * 100:.2f}%\")\n",
    "print(f\"\\t\\t\\tF1 score: {f1_score(y_test, rf_predictions) * 100:.2f}%\")\n",
    "print(\"_______________________________________________\")\n",
    "print(f\"Confusion Matrix: \\n {confusion_matrix(y_test, rf_predictions)}\\n\")"
   ]
  },
  {
   "cell_type": "code",
   "execution_count": null,
   "metadata": {},
   "outputs": [],
   "source": []
  }
 ],
 "metadata": {
  "kernelspec": {
   "display_name": "Python 3",
   "language": "python",
   "name": "python3"
  },
  "language_info": {
   "codemirror_mode": {
    "name": "ipython",
    "version": 3
   },
   "file_extension": ".py",
   "mimetype": "text/x-python",
   "name": "python",
   "nbconvert_exporter": "python",
   "pygments_lexer": "ipython3",
   "version": "3.7.6"
  }
 },
 "nbformat": 4,
 "nbformat_minor": 4
}
