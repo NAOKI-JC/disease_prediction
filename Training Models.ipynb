{
 "cells": [
  {
   "cell_type": "markdown",
   "metadata": {},
   "source": [
    "## Base Models"
   ]
  },
  {
   "cell_type": "code",
   "execution_count": 1,
   "metadata": {},
   "outputs": [],
   "source": [
    "import pandas as pd\n",
    "import numpy as np\n",
    "from sklearn.model_selection import train_test_split"
   ]
  },
  {
   "cell_type": "code",
   "execution_count": 2,
   "metadata": {},
   "outputs": [],
   "source": [
    "pos_final_test = pd.read_csv('./pos_final_test.csv.gz', compression='gzip')\n",
    "pos_final_test_KNN = pd.read_csv('./pos_KNN_final_test.csv.gz', compression='gzip')\n",
    "pos_final_missing_data_test = pd.read_csv('./pos_final_missing_data_test.csv.gz', compression='gzip')\n"
   ]
  },
  {
   "cell_type": "code",
   "execution_count": 3,
   "metadata": {},
   "outputs": [],
   "source": [
    "model_cols = ~pos_final_test.columns.isin(['(\\'subject_id\\', \\'\\')', '(\\'hadm_id\\', \\'\\')', 'subject_id', 'hadm_id', 'Unnamed: 0', 'pos'])\n",
    "\n",
    "hadm_features = pos_final_test.loc[:, model_cols]\n",
    "hadm_target = pos_final_test.loc[:, 'pos']\n",
    "\n",
    "# hadm_features = pos_final_missing_data_test.loc[:, model_cols]\n",
    "# hadm_target = pos_final_missing_data_test.loc[:, 'pos']\n"
   ]
  },
  {
   "cell_type": "code",
   "execution_count": 4,
   "metadata": {},
   "outputs": [],
   "source": [
    "# # Creatinine - 50912\n",
    "# hadm_features = hadm_features.loc[:, ['(\\'max\\', 50912)',  '(\\'above_max\\', 50912)', '(\\'mean\\', 50912)',  '(\\'abn_percent\\', 50912)']]\n",
    "\n",
    "# # Least Missingness\n",
    "# # [51221, 51265, 51222, 51301, 51279, 51277, 51248, 51249, 51250]\n",
    "# hadm_features = hadm_features.loc[:, ['(\\'max\\', 51221)',  '(\\'above_max\\', 51221)', '(\\'mean\\', 51221)',  '(\\'abn_percent\\', 51221)',\n",
    "#                                         '(\\'max\\', 51265)',  '(\\'above_max\\', 51265)', '(\\'mean\\', 51265)',  '(\\'abn_percent\\', 51265)',\n",
    "#                                         '(\\'max\\', 51222)',  '(\\'above_max\\', 51222)', '(\\'mean\\', 51222)',  '(\\'abn_percent\\', 51222)',\n",
    "#                                         '(\\'max\\', 51301)',  '(\\'above_max\\', 51301)', '(\\'mean\\', 51301)',  '(\\'abn_percent\\', 51301)',\n",
    "#                                         '(\\'max\\', 51279)',  '(\\'above_max\\', 51279)', '(\\'mean\\', 51279)',  '(\\'abn_percent\\', 51279)',\n",
    "#                                         '(\\'max\\', 51277)',  '(\\'above_max\\', 51277)', '(\\'mean\\', 51277)',  '(\\'abn_percent\\', 51277)',\n",
    "#                                         '(\\'max\\', 51248)',  '(\\'above_max\\', 51248)', '(\\'mean\\', 51248)',  '(\\'abn_percent\\', 51248)',\n",
    "#                                         '(\\'max\\', 51249)',  '(\\'above_max\\', 51249)', '(\\'mean\\', 51249)',  '(\\'abn_percent\\', 51249)',\n",
    "#                                         '(\\'max\\', 51250)',  '(\\'above_max\\', 51250)', '(\\'mean\\', 51250)',  '(\\'abn_percent\\', 51250)']]\n",
    "\n",
    "# # Least Missingness + Creatinine\n",
    "# hadm_features = hadm_features.loc[:, ['(\\'max\\', 51221)',  '(\\'above_max\\', 51221)', '(\\'mean\\', 51221)',  '(\\'abn_percent\\', 51221)',\n",
    "#                                         '(\\'max\\', 51265)',  '(\\'above_max\\', 51265)', '(\\'mean\\', 51265)',  '(\\'abn_percent\\', 51265)',\n",
    "#                                         '(\\'max\\', 51222)',  '(\\'above_max\\', 51222)', '(\\'mean\\', 51222)',  '(\\'abn_percent\\', 51222)',\n",
    "#                                         '(\\'max\\', 51301)',  '(\\'above_max\\', 51301)', '(\\'mean\\', 51301)',  '(\\'abn_percent\\', 51301)',\n",
    "#                                         '(\\'max\\', 51279)',  '(\\'above_max\\', 51279)', '(\\'mean\\', 51279)',  '(\\'abn_percent\\', 51279)',\n",
    "#                                         '(\\'max\\', 51277)',  '(\\'above_max\\', 51277)', '(\\'mean\\', 51277)',  '(\\'abn_percent\\', 51277)',\n",
    "#                                         '(\\'max\\', 51248)',  '(\\'above_max\\', 51248)', '(\\'mean\\', 51248)',  '(\\'abn_percent\\', 51248)',\n",
    "#                                         '(\\'max\\', 51249)',  '(\\'above_max\\', 51249)', '(\\'mean\\', 51249)',  '(\\'abn_percent\\', 51249)',\n",
    "#                                         '(\\'max\\', 51250)',  '(\\'above_max\\', 51250)', '(\\'mean\\', 51250)',  '(\\'abn_percent\\', 51250)',\n",
    "#                                      '(\\'max\\', 50912)',  '(\\'above_max\\', 50912)', '(\\'mean\\', 50912)',  '(\\'abn_percent\\', 50912)']]\n"
   ]
  },
  {
   "cell_type": "code",
   "execution_count": 5,
   "metadata": {},
   "outputs": [],
   "source": [
    "X_train, X_test, y_train, y_test = train_test_split(hadm_features, hadm_target, stratify=hadm_target, random_state=0)\n"
   ]
  },
  {
   "cell_type": "markdown",
   "metadata": {},
   "source": [
    "## Logistic Regression"
   ]
  },
  {
   "cell_type": "code",
   "execution_count": 6,
   "metadata": {},
   "outputs": [],
   "source": [
    "from sklearn.linear_model import LogisticRegression\n",
    "from sklearn.model_selection import GridSearchCV"
   ]
  },
  {
   "cell_type": "code",
   "execution_count": 7,
   "metadata": {},
   "outputs": [
    {
     "name": "stderr",
     "output_type": "stream",
     "text": [
      "/opt/anaconda3/lib/python3.7/site-packages/sklearn/linear_model/_logistic.py:764: ConvergenceWarning: lbfgs failed to converge (status=1):\n",
      "STOP: TOTAL NO. of ITERATIONS REACHED LIMIT.\n",
      "\n",
      "Increase the number of iterations (max_iter) or scale the data as shown in:\n",
      "    https://scikit-learn.org/stable/modules/preprocessing.html\n",
      "Please also refer to the documentation for alternative solver options:\n",
      "    https://scikit-learn.org/stable/modules/linear_model.html#logistic-regression\n",
      "  extra_warning_msg=_LOGISTIC_SOLVER_CONVERGENCE_MSG)\n",
      "/opt/anaconda3/lib/python3.7/site-packages/sklearn/linear_model/_logistic.py:764: ConvergenceWarning: lbfgs failed to converge (status=1):\n",
      "STOP: TOTAL NO. of ITERATIONS REACHED LIMIT.\n",
      "\n",
      "Increase the number of iterations (max_iter) or scale the data as shown in:\n",
      "    https://scikit-learn.org/stable/modules/preprocessing.html\n",
      "Please also refer to the documentation for alternative solver options:\n",
      "    https://scikit-learn.org/stable/modules/linear_model.html#logistic-regression\n",
      "  extra_warning_msg=_LOGISTIC_SOLVER_CONVERGENCE_MSG)\n",
      "/opt/anaconda3/lib/python3.7/site-packages/sklearn/linear_model/_logistic.py:764: ConvergenceWarning: lbfgs failed to converge (status=1):\n",
      "STOP: TOTAL NO. of ITERATIONS REACHED LIMIT.\n",
      "\n",
      "Increase the number of iterations (max_iter) or scale the data as shown in:\n",
      "    https://scikit-learn.org/stable/modules/preprocessing.html\n",
      "Please also refer to the documentation for alternative solver options:\n",
      "    https://scikit-learn.org/stable/modules/linear_model.html#logistic-regression\n",
      "  extra_warning_msg=_LOGISTIC_SOLVER_CONVERGENCE_MSG)\n"
     ]
    },
    {
     "name": "stdout",
     "output_type": "stream",
     "text": [
      "CPU times: user 4min 15s, sys: 34.5 s, total: 4min 49s\n",
      "Wall time: 49.8 s\n"
     ]
    },
    {
     "data": {
      "text/plain": [
       "0.8249678294641349"
      ]
     },
     "execution_count": 7,
     "metadata": {},
     "output_type": "execute_result"
    }
   ],
   "source": [
    "%%time\n",
    "\n",
    "# L2\n",
    "params_log = [ {'C':np.logspace(-4, 3, 20)} ]\n",
    "logReg = LogisticRegression(max_iter = 2000, class_weight = \"balanced\")\n",
    "\n",
    "# # L1\n",
    "# params_log = [ {'C':np.logspace(-6, -1, 20)} ]\n",
    "# logReg = LogisticRegression(penalty = 'l1', max_iter = 2000, class_weight = \"balanced\", solver = 'liblinear')\n",
    "\n",
    "grid_log = GridSearchCV(estimator = logReg, param_grid = params_log, cv = 5)\n",
    "grid_log.fit(X_train, y_train)\n",
    "grid_log.best_score_"
   ]
  },
  {
   "cell_type": "code",
   "execution_count": 8,
   "metadata": {},
   "outputs": [
    {
     "data": {
      "text/plain": [
       "{'C': 0.00023357214690901214}"
      ]
     },
     "execution_count": 8,
     "metadata": {},
     "output_type": "execute_result"
    }
   ],
   "source": [
    "grid_log.best_params_"
   ]
  },
  {
   "cell_type": "code",
   "execution_count": null,
   "metadata": {},
   "outputs": [],
   "source": []
  },
  {
   "cell_type": "code",
   "execution_count": 9,
   "metadata": {},
   "outputs": [
    {
     "data": {
      "text/plain": [
       "age                                        0.137544\n",
       "('abn_percent', 51006)                     0.103972\n",
       "('abn_percent', 51003)                     0.093135\n",
       "('min', 51006)                             0.079919\n",
       "('mean', 51006)                            0.076955\n",
       "                                             ...   \n",
       "('min', 50882)                             0.000205\n",
       "('max', 50960)                             0.000187\n",
       "('max', 51514)                             0.000136\n",
       "('mean', 51478)                            0.000133\n",
       "ethnicity_AMERICAN INDIAN/ALASKA NATIVE    0.000010\n",
       "Length: 233, dtype: float64"
      ]
     },
     "execution_count": 9,
     "metadata": {},
     "output_type": "execute_result"
    }
   ],
   "source": [
    "est_coefs = pd.Series(grid_log.best_estimator_.coef_[0], index=X_train.columns)\n",
    "\n",
    "sortedCoefs = np.abs(est_coefs).sort_values(ascending=False)\n",
    "sortedCoefs[sortedCoefs > 0]"
   ]
  },
  {
   "cell_type": "code",
   "execution_count": 10,
   "metadata": {},
   "outputs": [],
   "source": [
    "from sklearn.metrics import accuracy_score, confusion_matrix, precision_score, recall_score, f1_score"
   ]
  },
  {
   "cell_type": "code",
   "execution_count": 11,
   "metadata": {},
   "outputs": [
    {
     "name": "stdout",
     "output_type": "stream",
     "text": [
      "Accuracy Score: 80.78%\n",
      "_______________________________________________\n",
      "Classification Report:\tPrecision Score: 38.97%\n",
      "\t\t\tRecall Score: 70.67%\n",
      "\t\t\tF1 score: 50.24%\n",
      "_______________________________________________\n",
      "Confusion Matrix: \n",
      " [[1553  332]\n",
      " [  88  212]]\n",
      "\n"
     ]
    }
   ],
   "source": [
    "pred = grid_log.predict(X_test)\n",
    "\n",
    "print(f\"Accuracy Score: {accuracy_score(y_test, pred) * 100:.2f}%\")\n",
    "print(\"_______________________________________________\")\n",
    "print(\"Classification Report:\", end='')\n",
    "print(f\"\\tPrecision Score: {precision_score(y_test, pred) * 100:.2f}%\")\n",
    "print(f\"\\t\\t\\tRecall Score: {recall_score(y_test, pred) * 100:.2f}%\")\n",
    "print(f\"\\t\\t\\tF1 score: {f1_score(y_test, pred) * 100:.2f}%\")\n",
    "print(\"_______________________________________________\")\n",
    "print(f\"Confusion Matrix: \\n {confusion_matrix(y_test, pred)}\\n\")"
   ]
  },
  {
   "cell_type": "markdown",
   "metadata": {},
   "source": [
    "## Random Forest"
   ]
  },
  {
   "cell_type": "code",
   "execution_count": 12,
   "metadata": {},
   "outputs": [],
   "source": [
    "from sklearn import ensemble\n",
    "import sklearn.model_selection as ms\n",
    "\n",
    "randomForest = ensemble.RandomForestClassifier(class_weight = \"balanced\")"
   ]
  },
  {
   "cell_type": "code",
   "execution_count": 13,
   "metadata": {},
   "outputs": [
    {
     "name": "stdout",
     "output_type": "stream",
     "text": [
      "CPU times: user 13.4 s, sys: 878 ms, total: 14.3 s\n",
      "Wall time: 4min 46s\n"
     ]
    },
    {
     "data": {
      "text/plain": [
       "GridSearchCV(cv=5, estimator=RandomForestClassifier(class_weight='balanced'),\n",
       "             n_jobs=-1,\n",
       "             param_grid={'criterion': ['gini', 'entropy'],\n",
       "                         'max_depth': range(1, 20),\n",
       "                         'n_estimators': range(10, 110, 10)},\n",
       "             scoring='accuracy')"
      ]
     },
     "execution_count": 13,
     "metadata": {},
     "output_type": "execute_result"
    }
   ],
   "source": [
    "%%time\n",
    "\n",
    "grid_para_forest = {\n",
    "    'criterion': ['gini', 'entropy'],\n",
    "    'max_depth': range(1, 20),\n",
    "    'n_estimators': range(10, 110, 10)\n",
    "}\n",
    "\n",
    "grid_search_forest = ms.GridSearchCV(randomForest, grid_para_forest, scoring='accuracy', cv=5, n_jobs=-1)\n",
    "grid_search_forest.fit(X_train, y_train)"
   ]
  },
  {
   "cell_type": "code",
   "execution_count": 14,
   "metadata": {},
   "outputs": [
    {
     "data": {
      "text/plain": [
       "[(\"('max', 51006)\", 0.0406135450754391),\n",
       " (\"('mean', 51006)\", 0.033672623910801225),\n",
       " ('age', 0.031932670028243036),\n",
       " (\"('abn_percent', 51006)\", 0.02804365999472692),\n",
       " (\"('above_max', 51006)\", 0.02530021176836792),\n",
       " (\"('mean', 50912)\", 0.021775067479577644),\n",
       " (\"('max', 50912)\", 0.0214793307418732),\n",
       " (\"('min', 51003)\", 0.02057036924765477),\n",
       " (\"('mean', 51277)\", 0.01536572269687816),\n",
       " (\"('abn_percent', 50912)\", 0.0151375189000434),\n",
       " (\"('above_max', 50912)\", 0.01379264022579788),\n",
       " (\"('min', 51249)\", 0.013233695153579365),\n",
       " (\"('max', 51277)\", 0.012548032189664379),\n",
       " (\"('mean', 51003)\", 0.01148201706269082),\n",
       " (\"('mean', 51249)\", 0.011423342976348148),\n",
       " (\"('min', 51006)\", 0.011100377540062161),\n",
       " (\"('abn_percent', 51003)\", 0.010927649857030602),\n",
       " (\"('max', 51237)\", 0.010896009334052777),\n",
       " (\"('mean', 51237)\", 0.01080149231747837),\n",
       " (\"('mean', 51275)\", 0.010729597941442523),\n",
       " (\"('min', 51277)\", 0.010523181493030102),\n",
       " (\"('min', 51274)\", 0.010075129875343128),\n",
       " (\"('max', 51003)\", 0.01005534825691295),\n",
       " (\"('mean', 51274)\", 0.009580189892555055),\n",
       " (\"('max', 51274)\", 0.009375678537535872),\n",
       " (\"('max', 51275)\", 0.00921452168252261),\n",
       " (\"('max', 51249)\", 0.008460124460638933),\n",
       " (\"('min', 50912)\", 0.00832857692596103),\n",
       " (\"('mean', 50882)\", 0.00815909114691565),\n",
       " (\"('max', 50931)\", 0.00810168730279021),\n",
       " (\"('above_max', 51237)\", 0.007942565715247124),\n",
       " (\"('below_min', 51249)\", 0.007670978947353284),\n",
       " (\"('mean', 50911)\", 0.007547664584312606),\n",
       " (\"('max', 50911)\", 0.007530103013924526),\n",
       " (\"('min', 51301)\", 0.007514647244111159),\n",
       " (\"('abn_percent', 51274)\", 0.007511680915496928),\n",
       " (\"('mean', 50931)\", 0.007026060021182387),\n",
       " (\"('above_max', 51274)\", 0.007008055331139487),\n",
       " (\"('max', 50882)\", 0.006875894814949722),\n",
       " (\"('min', 51265)\", 0.006869889084913356),\n",
       " (\"('mean', 50902)\", 0.006816876538577259),\n",
       " (\"('max', 50893)\", 0.006575347060595138),\n",
       " (\"('mean', 50893)\", 0.006520507327867323),\n",
       " (\"('mean', 50971)\", 0.006434723510004496),\n",
       " (\"('mean', 50970)\", 0.006407810129220208),\n",
       " (\"('mean', 51301)\", 0.006376463135289433),\n",
       " (\"('max', 51250)\", 0.006288272203087968),\n",
       " (\"('above_max', 50931)\", 0.006118738932840656),\n",
       " (\"('min', 51275)\", 0.00608447343304774),\n",
       " (\"('min', 50911)\", 0.005758719437955344),\n",
       " (\"('min', 51498)\", 0.005718052758060527),\n",
       " (\"('max', 51265)\", 0.005620511058418953),\n",
       " (\"('mean', 51265)\", 0.005605018358540673),\n",
       " (\"('min', 51237)\", 0.0055790019649333625),\n",
       " (\"('min', 50878)\", 0.005572333716383555),\n",
       " (\"('mean', 51250)\", 0.005528538014323003),\n",
       " (\"('mean', 50885)\", 0.005502680736169224),\n",
       " (\"('mean', 50983)\", 0.005479426762879528),\n",
       " (\"('mean', 50878)\", 0.0054742961465439385),\n",
       " (\"('max', 51301)\", 0.005434295730672619),\n",
       " (\"('max', 50902)\", 0.0054250265800615165),\n",
       " (\"('min', 50931)\", 0.0053816930090875865),\n",
       " (\"('max', 50970)\", 0.0053794082633255805),\n",
       " (\"('max', 50863)\", 0.005353736258950139),\n",
       " (\"('mean', 50868)\", 0.005268948700867057),\n",
       " (\"('min', 50902)\", 0.005246890045956263),\n",
       " (\"('mean', 50960)\", 0.005223164037347955),\n",
       " (\"('min', 50861)\", 0.00520614031024552),\n",
       " (\"('mean', 51248)\", 0.005202207873142856),\n",
       " (\"('max', 50861)\", 0.005164408902906612),\n",
       " (\"('abn_percent', 50931)\", 0.005147497980015616),\n",
       " (\"('max', 50868)\", 0.005130998327371557),\n",
       " (\"('above_max', 51003)\", 0.005107726138810913),\n",
       " (\"('mean', 51279)\", 0.005061444108704153),\n",
       " (\"('min', 51248)\", 0.005010416320550758),\n",
       " (\"('min', 50863)\", 0.004990794649038055),\n",
       " (\"('max', 51222)\", 0.004935356445843653),\n",
       " (\"('max', 51498)\", 0.0048183074616714),\n",
       " (\"('max', 51279)\", 0.004737893862630818),\n",
       " (\"('min', 50970)\", 0.004719150626020359),\n",
       " (\"('mean', 51498)\", 0.004703820701486687),\n",
       " (\"('min', 50885)\", 0.004701253492491448),\n",
       " (\"('max', 50971)\", 0.004673001069766711),\n",
       " (\"('below_min', 51279)\", 0.004655823137629452),\n",
       " (\"('max', 50885)\", 0.00461116498620571),\n",
       " (\"('mean', 50863)\", 0.004590273558156633),\n",
       " (\"('min', 51491)\", 0.004565259484426569),\n",
       " (\"('mean', 51222)\", 0.00454336416799163),\n",
       " (\"('min', 51279)\", 0.004511944212620022),\n",
       " (\"('min', 50893)\", 0.004478988977911779),\n",
       " (\"('min', 50971)\", 0.004454019200006848),\n",
       " (\"('min', 51222)\", 0.004425751210866997),\n",
       " (\"('max', 50878)\", 0.004420132272321505),\n",
       " (\"('max', 51491)\", 0.00436214922612195),\n",
       " (\"('min', 50882)\", 0.0043210119065430755),\n",
       " (\"('mean', 51221)\", 0.004290678386067905),\n",
       " (\"('max', 51248)\", 0.004274181134008275),\n",
       " (\"('mean', 51491)\", 0.004267715400192984),\n",
       " (\"('max', 51221)\", 0.004244343150979669),\n",
       " (\"('min', 51221)\", 0.004226229484405237),\n",
       " (\"('mean', 50861)\", 0.004154479756449653),\n",
       " (\"('mean', 51514)\", 0.004104836861576728),\n",
       " (\"('min', 51250)\", 0.0040585478825764364),\n",
       " (\"('max', 50960)\", 0.004039674493009421),\n",
       " (\"('abn_percent', 51237)\", 0.0039679210699392915),\n",
       " (\"('min', 50868)\", 0.003716726792390526),\n",
       " (\"('min', 50983)\", 0.003632980318763602),\n",
       " (\"('min', 51514)\", 0.003626335486579423),\n",
       " (\"('below_min', 51222)\", 0.003623503704005998),\n",
       " (\"('max', 50983)\", 0.003388856957463271),\n",
       " (\"('abn_percent', 50882)\", 0.003324101595920028),\n",
       " (\"('min', 50960)\", 0.003322166699474767),\n",
       " (\"('max', 51514)\", 0.0032883791595564793),\n",
       " (\"('below_min', 51221)\", 0.003196363045483955),\n",
       " (\"('abn_percent', 51275)\", 0.0029843043881111323),\n",
       " (\"('abn_percent', 50970)\", 0.0028854850436739053),\n",
       " (\"('above_max', 51275)\", 0.0027892960505213225),\n",
       " (\"('above_max', 51301)\", 0.0027886359657613075),\n",
       " (\"('abn_percent', 51277)\", 0.002718771272781782),\n",
       " (\"('below_min', 50893)\", 0.00271283336136625),\n",
       " (\"('abn_percent', 50893)\", 0.002674482994361024),\n",
       " (\"('above_max', 51277)\", 0.0024898142320809963),\n",
       " (\"('above_max', 51249)\", 0.002438750853997484),\n",
       " (\"('abn_percent', 51249)\", 0.0023092966055868066),\n",
       " (\"('above_max', 50970)\", 0.0023038066623145806),\n",
       " (\"('above_max', 50882)\", 0.0022872300355325824),\n",
       " (\"('below_min', 50970)\", 0.002217859265303235),\n",
       " (\"('above_max', 50902)\", 0.0021924697613421576),\n",
       " (\"('abn_percent', 51301)\", 0.0020109121039268004),\n",
       " (\"('below_min', 51265)\", 0.0019846702947239935),\n",
       " (\"('abn_percent', 50902)\", 0.001844027645347317),\n",
       " (\"('abn_percent', 50971)\", 0.001822503932287805),\n",
       " (\"('abn_percent', 51265)\", 0.0018218931952719813),\n",
       " (\"('mean', 51492)\", 0.0017512518091053482),\n",
       " (\"('abn_percent', 50960)\", 0.0017466858990808156),\n",
       " (\"('abn_percent', 50983)\", 0.0017205398210689876),\n",
       " (\"('above_max', 51248)\", 0.0015517275442615774),\n",
       " (\"('below_min', 50882)\", 0.0013993972869855013),\n",
       " (\"('abn_percent', 51222)\", 0.0013527633317487416),\n",
       " (\"('abn_percent', 50868)\", 0.0012985352305230158),\n",
       " (\"('below_min', 50983)\", 0.0012766845044967178),\n",
       " (\"('min', 51492)\", 0.0012648289671731117),\n",
       " (\"('abn_percent', 51279)\", 0.0012399650133229007),\n",
       " (\"('above_max', 51250)\", 0.0012348902276807408),\n",
       " (\"('below_min', 50902)\", 0.0012174932064047688),\n",
       " (\"('max', 51492)\", 0.0011663526312776556),\n",
       " (\"('above_max', 50878)\", 0.0011619051576330292),\n",
       " (\"('abn_percent', 51221)\", 0.0011296363559331732),\n",
       " (\"('abn_percent', 51248)\", 0.0011023533706930474),\n",
       " (\"('above_max', 50971)\", 0.0010579269272943917),\n",
       " (\"('abn_percent', 50878)\", 0.0009967387413243513),\n",
       " (\"('above_max', 51492)\", 0.0009918075732454452),\n",
       " (\"('above_max', 50863)\", 0.0009795817395747072),\n",
       " (\"('above_max', 50885)\", 0.0009636733513652968),\n",
       " (\"('above_max', 51265)\", 0.0008785623037496293),\n",
       " (\"('below_min', 50931)\", 0.0008719788938680916),\n",
       " (\"('mean', 51466)\", 0.0008608687618601697),\n",
       " (\"('mean', 51486)\", 0.0008314659726008187),\n",
       " (\"('below_min', 51006)\", 0.0007881117361804321),\n",
       " (\"('abn_percent', 50885)\", 0.0007721420785527393),\n",
       " (\"('below_min', 51301)\", 0.0007687065722135738),\n",
       " (\"('below_min', 50971)\", 0.0007647607105109131),\n",
       " (\"('below_min', 50960)\", 0.0007590344790664961),\n",
       " (\"('abn_percent', 51466)\", 0.0007500682283032806),\n",
       " (\"('min', 51466)\", 0.0007054483118192331),\n",
       " (\"('above_max', 50861)\", 0.0007006509052308897),\n",
       " (\"('mean', 51484)\", 0.0006969976982952408),\n",
       " ('ethnicity_UNKNOWN', 0.0006831861306963135),\n",
       " (\"('max', 51486)\", 0.0006274258573666059),\n",
       " (\"('max', 51466)\", 0.0006265891646179465),\n",
       " (\"('below_min', 51514)\", 0.0006246616889303987),\n",
       " (\"('above_max', 50868)\", 0.0006098936773057064),\n",
       " (\"('min', 51486)\", 0.0005918733565657329),\n",
       " (\"('above_max', 51486)\", 0.0005889751885527659),\n",
       " (\"('abn_percent', 50861)\", 0.0005819758392960567),\n",
       " (\"('below_min', 51248)\", 0.0005790834375831349),\n",
       " (\"('max', 51478)\", 0.0005759949303488093),\n",
       " (\"('above_max', 51506)\", 0.0005623371079442625),\n",
       " (\"('abn_percent', 51250)\", 0.0005472288077683142),\n",
       " (\"('mean', 51506)\", 0.0005329735757677449),\n",
       " (\"('below_min', 51275)\", 0.0004999729870980162),\n",
       " (\"('below_min', 50868)\", 0.0004957957780286021),\n",
       " (\"('above_max', 51466)\", 0.0004934637075575052),\n",
       " (\"('above_max', 50983)\", 0.0004617220759174952),\n",
       " (\"('max', 51506)\", 0.0004547984971508817),\n",
       " ('gender', 0.0004373152369496804),\n",
       " (\"('above_max', 50911)\", 0.00042730966984186206),\n",
       " (\"('above_max', 50960)\", 0.00041871289496473346),\n",
       " (\"('above_max', 51484)\", 0.0004111779722641241),\n",
       " (\"('mean', 51478)\", 0.00040623922269399906),\n",
       " (\"('abn_percent', 51514)\", 0.000401284300233014),\n",
       " (\"('above_max', 51478)\", 0.0003879155635673234),\n",
       " ('ethnicity_OTHER', 0.00035426073054921434),\n",
       " (\"('abn_percent', 51492)\", 0.0003491809127225777),\n",
       " (\"('abn_percent', 51478)\", 0.0003404220702879572),\n",
       " (\"('max', 51464)\", 0.0003382312331565454),\n",
       " (\"('abn_percent', 50911)\", 0.0003124852801660326),\n",
       " (\"('above_max', 51514)\", 0.0003100664691161946),\n",
       " (\"('abn_percent', 51484)\", 0.0003033759240565536),\n",
       " (\"('abn_percent', 50863)\", 0.00028756939793745637),\n",
       " (\"('mean', 51464)\", 0.00027166233421855197),\n",
       " (\"('below_min', 51250)\", 0.00026266066561547025),\n",
       " (\"('max', 51487)\", 0.0002542309202959611),\n",
       " ('ethnicity_BLACK/AFRICAN AMERICAN', 0.00023941373749628196),\n",
       " (\"('min', 51478)\", 0.00022867925614618697),\n",
       " (\"('min', 51506)\", 0.00021198553600651346),\n",
       " (\"('above_max', 50893)\", 0.00020767799340227927),\n",
       " (\"('mean', 51487)\", 0.00019918181333745006),\n",
       " (\"('above_max', 51498)\", 0.00019432561380032732),\n",
       " (\"('max', 51484)\", 0.00017204714932425764),\n",
       " (\"('min', 51464)\", 0.00015458209176408052),\n",
       " (\"('above_max', 51221)\", 0.00015451391037459348),\n",
       " (\"('abn_percent', 51498)\", 0.00015434338109142197),\n",
       " (\"('below_min', 50912)\", 0.00015076778450569242),\n",
       " ('ethnicity_HISPANIC/LATINO', 0.00012398052699539488),\n",
       " (\"('min', 51487)\", 0.00011669232345182698),\n",
       " (\"('above_max', 51279)\", 0.00011665830330814407),\n",
       " (\"('above_max', 51487)\", 0.00011446675761601253),\n",
       " ('ethnicity_ASIAN', 0.00010964516716586046),\n",
       " (\"('abn_percent', 51486)\", 9.324903495946966e-05),\n",
       " (\"('min', 51484)\", 8.6977903640855e-05),\n",
       " (\"('below_min', 50863)\", 7.746488776878035e-05),\n",
       " (\"('abn_percent', 51464)\", 7.581386324781447e-05),\n",
       " (\"('above_max', 51464)\", 6.924331887794196e-05),\n",
       " (\"('abn_percent', 51506)\", 4.85244274586614e-05),\n",
       " ('ethnicity_AMERICAN INDIAN/ALASKA NATIVE', 4.239928051543862e-05),\n",
       " (\"('above_max', 51491)\", 2.2569786697858994e-05),\n",
       " (\"('abn_percent', 51487)\", 1.3219485955138151e-05),\n",
       " (\"('abn_percent', 51491)\", 9.025521282402668e-06),\n",
       " (\"('below_min', 51274)\", 1.950918355128981e-21),\n",
       " (\"('below_min', 50861)\", 0.0),\n",
       " (\"('below_min', 50878)\", 0.0),\n",
       " (\"('below_min', 50885)\", 0.0),\n",
       " (\"('below_min', 50911)\", 0.0),\n",
       " (\"('below_min', 51003)\", 0.0),\n",
       " (\"('below_min', 51237)\", 0.0),\n",
       " (\"('below_min', 51277)\", 0.0),\n",
       " (\"('below_min', 51464)\", 0.0),\n",
       " (\"('below_min', 51466)\", 0.0),\n",
       " (\"('below_min', 51478)\", 0.0),\n",
       " (\"('below_min', 51484)\", 0.0),\n",
       " (\"('below_min', 51486)\", 0.0),\n",
       " (\"('below_min', 51487)\", 0.0),\n",
       " (\"('below_min', 51491)\", 0.0),\n",
       " (\"('below_min', 51492)\", 0.0),\n",
       " (\"('below_min', 51498)\", 0.0),\n",
       " (\"('below_min', 51506)\", 0.0),\n",
       " (\"('above_max', 51222)\", 0.0)]"
      ]
     },
     "execution_count": 14,
     "metadata": {},
     "output_type": "execute_result"
    }
   ],
   "source": [
    "# Get most important features\n",
    "tree_final = grid_search_forest.best_estimator_\n",
    "feature_importance = tree_final.feature_importances_\n",
    "feature_importance = list(zip(X_train.columns, feature_importance))\n",
    "\n",
    "feature_importance.sort(key = lambda x: x[1], reverse = True)\n",
    "feature_importance"
   ]
  },
  {
   "cell_type": "code",
   "execution_count": 15,
   "metadata": {},
   "outputs": [
    {
     "data": {
      "text/plain": [
       "{'criterion': 'entropy', 'max_depth': 14, 'n_estimators': 80}"
      ]
     },
     "execution_count": 15,
     "metadata": {},
     "output_type": "execute_result"
    }
   ],
   "source": [
    "grid_search_forest.best_params_"
   ]
  },
  {
   "cell_type": "code",
   "execution_count": 16,
   "metadata": {},
   "outputs": [
    {
     "data": {
      "text/plain": [
       "0.8927206665851486"
      ]
     },
     "execution_count": 16,
     "metadata": {},
     "output_type": "execute_result"
    }
   ],
   "source": [
    "grid_search_forest.best_score_"
   ]
  },
  {
   "cell_type": "code",
   "execution_count": 17,
   "metadata": {},
   "outputs": [
    {
     "name": "stdout",
     "output_type": "stream",
     "text": [
      "The training error is: 0.99924\n",
      "The test     error is: 0.87872\n"
     ]
    }
   ],
   "source": [
    "print(\"The training error is: %.5f\" % (grid_search_forest.score(X_train, y_train)))\n",
    "print(\"The test     error is: %.5f\" % (grid_search_forest.score(X_test, y_test)))"
   ]
  },
  {
   "cell_type": "code",
   "execution_count": 18,
   "metadata": {},
   "outputs": [
    {
     "name": "stdout",
     "output_type": "stream",
     "text": [
      "Accuracy Score: 87.87%\n",
      "_______________________________________________\n",
      "Classification Report:\tPrecision Score: 61.59%\n",
      "\t\t\tRecall Score: 31.00%\n",
      "\t\t\tF1 score: 41.24%\n",
      "_______________________________________________\n",
      "Confusion Matrix: \n",
      " [[1827   58]\n",
      " [ 207   93]]\n",
      "\n"
     ]
    }
   ],
   "source": [
    "rf_predictions = tree_final.predict(X_test)\n",
    "\n",
    "print(f\"Accuracy Score: {accuracy_score(y_test, rf_predictions) * 100:.2f}%\")\n",
    "print(\"_______________________________________________\")\n",
    "print(\"Classification Report:\", end='')\n",
    "print(f\"\\tPrecision Score: {precision_score(y_test, rf_predictions) * 100:.2f}%\")\n",
    "print(f\"\\t\\t\\tRecall Score: {recall_score(y_test, rf_predictions) * 100:.2f}%\")\n",
    "print(f\"\\t\\t\\tF1 score: {f1_score(y_test, rf_predictions) * 100:.2f}%\")\n",
    "print(\"_______________________________________________\")\n",
    "print(f\"Confusion Matrix: \\n {confusion_matrix(y_test, rf_predictions)}\\n\")"
   ]
  },
  {
   "cell_type": "code",
   "execution_count": null,
   "metadata": {},
   "outputs": [],
   "source": []
  }
 ],
 "metadata": {
  "kernelspec": {
   "display_name": "Python 3",
   "language": "python",
   "name": "python3"
  },
  "language_info": {
   "codemirror_mode": {
    "name": "ipython",
    "version": 3
   },
   "file_extension": ".py",
   "mimetype": "text/x-python",
   "name": "python",
   "nbconvert_exporter": "python",
   "pygments_lexer": "ipython3",
   "version": "3.7.6"
  }
 },
 "nbformat": 4,
 "nbformat_minor": 4
}
