{
 "cells": [
  {
   "cell_type": "markdown",
   "metadata": {},
   "source": [
    "## Base Models"
   ]
  },
  {
   "cell_type": "code",
   "execution_count": 97,
   "metadata": {},
   "outputs": [],
   "source": [
    "import pandas as pd\n",
    "import numpy as np\n",
    "from sklearn.model_selection import train_test_split\n",
    "from sklearn.metrics import plot_roc_curve\n",
    "from imblearn.over_sampling import SMOTE\n",
    "from imblearn.under_sampling import NearMiss\n",
    "from sklearn.metrics import accuracy_score, confusion_matrix, precision_score, recall_score, f1_score\n",
    "from sklearn.metrics import roc_auc_score"
   ]
  },
  {
   "cell_type": "code",
   "execution_count": null,
   "metadata": {},
   "outputs": [],
   "source": [
    "def change_threshold(model, threshold_list, X=X_test):\n",
    "    '''\n",
    "    Input a model and threshold_list.\n",
    "    Output scores based on prediction made with threshold list.\n",
    "    '''\n",
    "    metrics = pd.DataFrame(columns = ['Threshold','F1','ROC_AUC','Recall','Accuracy','Precision'])\n",
    "    \n",
    "    for threshold in threshold_list:\n",
    "        prob = model.best_estimator_.predict_proba(X)[:,1]\n",
    "        pred = np.where(prob>threshold,1,0)\n",
    "\n",
    "\n",
    "        f1 = f1_score(y_test, pred)\n",
    "        roc_auc = roc_auc_score(y_test, pred)\n",
    "        recall = recall_score(y_test, pred)\n",
    "        accuracy = accuracy_score(y_test, pred)\n",
    "        precision = precision_score(y_test, pred)\n",
    "\n",
    "        metrics = metrics.append({'Threshold':threshold,\n",
    "                                  'F1':f1,\n",
    "                                  'ROC_AUC':roc_auc,\n",
    "                                  'Recall':recall,\n",
    "                                  'Accuracy':accuracy,\n",
    "                                  'Precision':precision}\n",
    "                                 ,ignore_index=True)\n",
    "        \n",
    "    plt.plot(metrics.Threshold, metrics.Recall, label='Recall', color='green')\n",
    "    plt.plot(metrics.Threshold, metrics.Precision, label='Precision', color='blue')\n",
    "    plt.plot(metrics.Threshold, metrics.ROC_AUC, label='ROC_AUC', color='red')\n",
    "    plt.legend()\n",
    "    plt.xlabel('Threshold')\n",
    "    plt.ylabel('Scores')\n",
    "    return metrics"
   ]
  },
  {
   "cell_type": "code",
   "execution_count": 3,
   "metadata": {},
   "outputs": [],
   "source": [
    "pos_final_test = pd.read_csv('./data/pos_final_test.csv.gz', compression='gzip')\n",
    "pos_final_test_KNN = pd.read_csv('./data/pos_KNN_final_test.csv.gz', compression='gzip')\n",
    "pos_final_missing_data_test = pd.read_csv('./data/./pos_final_missing_data_test.csv.gz', compression='gzip')\n",
    "\n",
    "pos_final_test_trimmed = pd.read_csv('./data/pos_final_test_trimmed.csv.gz', compression='gzip')\n",
    "pos_final_test_KNN_trimmed = pd.read_csv('./data/pos_KNN_final_test_trimmed.csv.gz', compression='gzip')\n"
   ]
  },
  {
   "cell_type": "code",
   "execution_count": 4,
   "metadata": {},
   "outputs": [],
   "source": [
    "pos_final_missing_data_test = pos_final_missing_data_test.fillna(-9999)"
   ]
  },
  {
   "cell_type": "code",
   "execution_count": 172,
   "metadata": {},
   "outputs": [],
   "source": [
    "model_cols = ~pos_final_test_KNN_trimmed.columns.isin(['(\\'subject_id\\', \\'\\')', '(\\'hadm_id\\', \\'\\')', 'subject_id', 'hadm_id', 'Unnamed: 0', 'pos'])\n",
    "\n",
    "hadm_features = pos_final_test_KNN_trimmed.loc[:, model_cols]\n",
    "hadm_target = pos_final_test_KNN_trimmed.loc[:, 'pos']\n"
   ]
  },
  {
   "cell_type": "code",
   "execution_count": 173,
   "metadata": {},
   "outputs": [],
   "source": [
    "X_train, X_test, y_train, y_test = train_test_split(hadm_features, hadm_target, stratify=hadm_target, random_state=0)\n"
   ]
  },
  {
   "cell_type": "code",
   "execution_count": 98,
   "metadata": {},
   "outputs": [],
   "source": [
    "sm = SMOTE()\n",
    "X_res_over, y_res_over = sm.fit_resample(X_train, y_train)\n",
    "\n",
    "nm = NearMiss()\n",
    "X_res_under, y_res_under = nm.fit_resample(X_train, y_train)"
   ]
  },
  {
   "cell_type": "markdown",
   "metadata": {},
   "source": [
    "## Principal Component Analysis"
   ]
  },
  {
   "cell_type": "code",
   "execution_count": 175,
   "metadata": {},
   "outputs": [
    {
     "name": "stdout",
     "output_type": "stream",
     "text": [
      "Best parameter (CV score=0.799):\n",
      "{'logistic__C': 0.00021544346900318845, 'pca__n_components': 65}\n"
     ]
    },
    {
     "data": {
      "image/png": "[encoded data removed]",
      "text/plain": [
       "<Figure size 432x432 with 2 Axes>"
      ]
     },
     "metadata": {
      "needs_background": "light"
     },
     "output_type": "display_data"
    },
    {
     "name": "stdout",
     "output_type": "stream",
     "text": [
      "CPU times: user 3.79 s, sys: 1 s, total: 4.8 s\n",
      "Wall time: 9.3 s\n"
     ]
    }
   ],
   "source": [
    "%%time\n",
    "\n",
    "import numpy as np\n",
    "import matplotlib.pyplot as plt\n",
    "import pandas as pd\n",
    "\n",
    "from sklearn import datasets\n",
    "from sklearn.decomposition import PCA\n",
    "from sklearn.linear_model import LogisticRegression\n",
    "from sklearn.pipeline import Pipeline\n",
    "from sklearn.model_selection import GridSearchCV\n",
    "\n",
    "\n",
    "# Define a pipeline to search for the best combination of PCA truncation\n",
    "# and classifier regularization.\n",
    "pca = PCA()\n",
    "# set the tolerance to a large value to make the example faster\n",
    "logistic = LogisticRegression(max_iter=10000, tol=0.1, class_weight = \"balanced\")\n",
    "pipe = Pipeline(steps=[('pca', pca), ('logistic', logistic)])\n",
    "\n",
    "X_digits, y_digits = X_train, y_train\n",
    "# X_digits, y_digits = X_res_over, y_res_over\n",
    "\n",
    "# Parameters of pipelines can be set using ‘__’ separated parameter names:\n",
    "param_grid = {\n",
    "    'pca__n_components': range(5, 125, 15),\n",
    "    'logistic__C': np.logspace(-6, 1, 4),\n",
    "}\n",
    "search = GridSearchCV(pipe, param_grid, n_jobs=-1)\n",
    "search.fit(X_digits, y_digits)\n",
    "print(\"Best parameter (CV score=%0.3f):\" % search.best_score_)\n",
    "print(search.best_params_)\n",
    "\n",
    "# Plot the PCA spectrum\n",
    "pca.fit(X_digits)\n",
    "\n",
    "fig, (ax0, ax1) = plt.subplots(nrows=2, sharex=True, figsize=(6, 6))\n",
    "ax0.plot(np.arange(1, pca.n_components_ + 1),\n",
    "         pca.explained_variance_ratio_, '+', linewidth=2)\n",
    "ax0.set_ylabel('PCA explained variance ratio')\n",
    "\n",
    "ax0.axvline(search.best_estimator_.named_steps['pca'].n_components,\n",
    "            linestyle=':', label='n_components recommended')\n",
    "ax0.axvline(35,\n",
    "            linestyle=':', label='n_components chosen',\n",
    "           c='r')\n",
    "ax0.legend(prop=dict(size=12))\n",
    "\n",
    "# For each number of components, find the best classifier results\n",
    "results = pd.DataFrame(search.cv_results_)\n",
    "components_col = 'param_pca__n_components'\n",
    "best_clfs = results.groupby(components_col).apply(\n",
    "    lambda g: g.nlargest(1, 'mean_test_score'))\n",
    "\n",
    "best_clfs.plot(x=components_col, y='mean_test_score', yerr='std_test_score',\n",
    "               legend=False, ax=ax1)\n",
    "ax1.set_ylabel('Classification accuracy (val)')\n",
    "ax1.set_xlabel('n_components')\n",
    "\n",
    "plt.xlim(-1, 70)\n",
    "\n",
    "plt.tight_layout()\n",
    "plt.show()"
   ]
  },
  {
   "cell_type": "code",
   "execution_count": 10,
   "metadata": {},
   "outputs": [
    {
     "name": "stdout",
     "output_type": "stream",
     "text": [
      "Accuracy Score: 77.89%\n",
      "_______________________________________________\n",
      "Classification Report:\tPrecision Score: 36.68%\n",
      "\t\t\tRecall Score: 66.04%\n",
      "\t\t\tF1 score: 47.16%\n",
      "_______________________________________________\n",
      "Confusion Matrix: \n",
      " [[1461  366]\n",
      " [ 109  212]]\n",
      "\n"
     ]
    },
    {
     "data": {
      "image/png": "[encoded data removed]",
      "text/plain": [
       "<Figure size 432x288 with 1 Axes>"
      ]
     },
     "metadata": {
      "needs_background": "light"
     },
     "output_type": "display_data"
    }
   ],
   "source": [
    "pred = search.predict(X_test)\n",
    "\n",
    "print(f\"Accuracy Score: {accuracy_score(y_test, pred) * 100:.2f}%\")\n",
    "print(\"_______________________________________________\")\n",
    "print(\"Classification Report:\", end='')\n",
    "print(f\"\\tPrecision Score: {precision_score(y_test, pred) * 100:.2f}%\")\n",
    "print(f\"\\t\\t\\tRecall Score: {recall_score(y_test, pred) * 100:.2f}%\")\n",
    "print(f\"\\t\\t\\tF1 score: {f1_score(y_test, pred) * 100:.2f}%\")\n",
    "print(\"_______________________________________________\")\n",
    "print(f\"Confusion Matrix: \\n {confusion_matrix(y_test, pred)}\\n\")\n",
    "\n",
    "svc_disp = plot_roc_curve(search, X_test, y_test)\n",
    "plt.show()"
   ]
  },
  {
   "cell_type": "code",
   "execution_count": 11,
   "metadata": {},
   "outputs": [
    {
     "data": {
      "text/html": [
       "<div>\n",
       "<style scoped>\n",
       "    .dataframe tbody tr th:only-of-type {\n",
       "        vertical-align: middle;\n",
       "    }\n",
       "\n",
       "    .dataframe tbody tr th {\n",
       "        vertical-align: top;\n",
       "    }\n",
       "\n",
       "    .dataframe thead th {\n",
       "        text-align: right;\n",
       "    }\n",
       "</style>\n",
       "<table border=\"1\" class=\"dataframe\">\n",
       "  <thead>\n",
       "    <tr style=\"text-align: right;\">\n",
       "      <th></th>\n",
       "      <th>coef</th>\n",
       "      <th>test</th>\n",
       "    </tr>\n",
       "  </thead>\n",
       "  <tbody>\n",
       "    <tr>\n",
       "      <th>60</th>\n",
       "      <td>0.222551</td>\n",
       "      <td>('below_min', 'Hematocrit - Blood - Hematology')</td>\n",
       "    </tr>\n",
       "    <tr>\n",
       "      <th>79</th>\n",
       "      <td>0.202430</td>\n",
       "      <td>('above_max', 'Urea Nitrogen - Blood - Chemist...</td>\n",
       "    </tr>\n",
       "    <tr>\n",
       "      <th>48</th>\n",
       "      <td>0.199273</td>\n",
       "      <td>('below_min', 'Bicarbonate - Blood - Chemistry')</td>\n",
       "    </tr>\n",
       "    <tr>\n",
       "      <th>49</th>\n",
       "      <td>0.199108</td>\n",
       "      <td>('below_min', 'Calcium, Total - Blood - Chemis...</td>\n",
       "    </tr>\n",
       "    <tr>\n",
       "      <th>63</th>\n",
       "      <td>0.170322</td>\n",
       "      <td>('below_min', 'Platelet Count - Blood - Hemato...</td>\n",
       "    </tr>\n",
       "    <tr>\n",
       "      <th>76</th>\n",
       "      <td>0.166567</td>\n",
       "      <td>('above_max', 'Phosphate - Blood - Chemistry')</td>\n",
       "    </tr>\n",
       "    <tr>\n",
       "      <th>86</th>\n",
       "      <td>0.162822</td>\n",
       "      <td>('above_max', 'RDW - Blood - Hematology')</td>\n",
       "    </tr>\n",
       "    <tr>\n",
       "      <th>71</th>\n",
       "      <td>0.162499</td>\n",
       "      <td>('above_max', 'Chloride - Blood - Chemistry')</td>\n",
       "    </tr>\n",
       "    <tr>\n",
       "      <th>14</th>\n",
       "      <td>0.161804</td>\n",
       "      <td>('max', 'Anion Gap - Blood - Chemistry')</td>\n",
       "    </tr>\n",
       "    <tr>\n",
       "      <th>74</th>\n",
       "      <td>0.159345</td>\n",
       "      <td>('above_max', 'Glucose - Blood - Chemistry')</td>\n",
       "    </tr>\n",
       "    <tr>\n",
       "      <th>36</th>\n",
       "      <td>0.155530</td>\n",
       "      <td>('abn_percent', 'Hematocrit - Blood - Hematolo...</td>\n",
       "    </tr>\n",
       "    <tr>\n",
       "      <th>27</th>\n",
       "      <td>0.155322</td>\n",
       "      <td>('abn_percent', 'Creatinine - Blood - Chemistry')</td>\n",
       "    </tr>\n",
       "    <tr>\n",
       "      <th>37</th>\n",
       "      <td>0.153820</td>\n",
       "      <td>('abn_percent', 'Hemoglobin - Blood - Hematolo...</td>\n",
       "    </tr>\n",
       "    <tr>\n",
       "      <th>43</th>\n",
       "      <td>0.153454</td>\n",
       "      <td>('abn_percent', 'RDW - Blood - Hematology')</td>\n",
       "    </tr>\n",
       "    <tr>\n",
       "      <th>35</th>\n",
       "      <td>0.152426</td>\n",
       "      <td>('abn_percent', 'Urea Nitrogen - Blood - Chemi...</td>\n",
       "    </tr>\n",
       "    <tr>\n",
       "      <th>68</th>\n",
       "      <td>0.146126</td>\n",
       "      <td>('above_max', 'Anion Gap - Blood - Chemistry')</td>\n",
       "    </tr>\n",
       "    <tr>\n",
       "      <th>55</th>\n",
       "      <td>0.141496</td>\n",
       "      <td>('below_min', 'Phosphate - Blood - Chemistry')</td>\n",
       "    </tr>\n",
       "    <tr>\n",
       "      <th>56</th>\n",
       "      <td>0.139807</td>\n",
       "      <td>('below_min', 'Potassium - Blood - Chemistry')</td>\n",
       "    </tr>\n",
       "    <tr>\n",
       "      <th>78</th>\n",
       "      <td>0.137844</td>\n",
       "      <td>('above_max', 'Sodium - Blood - Chemistry')</td>\n",
       "    </tr>\n",
       "    <tr>\n",
       "      <th>24</th>\n",
       "      <td>0.137372</td>\n",
       "      <td>('abn_percent', 'Calcium, Total - Blood - Chem...</td>\n",
       "    </tr>\n",
       "    <tr>\n",
       "      <th>25</th>\n",
       "      <td>0.137081</td>\n",
       "      <td>('abn_percent', 'Chloride - Blood - Chemistry')</td>\n",
       "    </tr>\n",
       "    <tr>\n",
       "      <th>44</th>\n",
       "      <td>0.135895</td>\n",
       "      <td>('abn_percent', 'Red Blood Cells - Blood - Hem...</td>\n",
       "    </tr>\n",
       "    <tr>\n",
       "      <th>23</th>\n",
       "      <td>0.135021</td>\n",
       "      <td>('abn_percent', 'Bicarbonate - Blood - Chemist...</td>\n",
       "    </tr>\n",
       "    <tr>\n",
       "      <th>11</th>\n",
       "      <td>0.133639</td>\n",
       "      <td>('min', 'RDW - Blood - Hematology')</td>\n",
       "    </tr>\n",
       "    <tr>\n",
       "      <th>5</th>\n",
       "      <td>0.128002</td>\n",
       "      <td>('min', 'Potassium - Blood - Chemistry')</td>\n",
       "    </tr>\n",
       "    <tr>\n",
       "      <th>57</th>\n",
       "      <td>0.127883</td>\n",
       "      <td>('below_min', 'Sodium - Blood - Chemistry')</td>\n",
       "    </tr>\n",
       "    <tr>\n",
       "      <th>50</th>\n",
       "      <td>0.127074</td>\n",
       "      <td>('below_min', 'Chloride - Blood - Chemistry')</td>\n",
       "    </tr>\n",
       "    <tr>\n",
       "      <th>33</th>\n",
       "      <td>0.125127</td>\n",
       "      <td>('abn_percent', 'Sodium - Blood - Chemistry')</td>\n",
       "    </tr>\n",
       "    <tr>\n",
       "      <th>9</th>\n",
       "      <td>0.122762</td>\n",
       "      <td>('min', 'Platelet Count - Blood - Hematology')</td>\n",
       "    </tr>\n",
       "    <tr>\n",
       "      <th>77</th>\n",
       "      <td>0.122333</td>\n",
       "      <td>('above_max', 'Potassium - Blood - Chemistry')</td>\n",
       "    </tr>\n",
       "  </tbody>\n",
       "</table>\n",
       "</div>"
      ],
      "text/plain": [
       "        coef                                               test\n",
       "60  0.222551   ('below_min', 'Hematocrit - Blood - Hematology')\n",
       "79  0.202430  ('above_max', 'Urea Nitrogen - Blood - Chemist...\n",
       "48  0.199273   ('below_min', 'Bicarbonate - Blood - Chemistry')\n",
       "49  0.199108  ('below_min', 'Calcium, Total - Blood - Chemis...\n",
       "63  0.170322  ('below_min', 'Platelet Count - Blood - Hemato...\n",
       "76  0.166567     ('above_max', 'Phosphate - Blood - Chemistry')\n",
       "86  0.162822          ('above_max', 'RDW - Blood - Hematology')\n",
       "71  0.162499      ('above_max', 'Chloride - Blood - Chemistry')\n",
       "14  0.161804           ('max', 'Anion Gap - Blood - Chemistry')\n",
       "74  0.159345       ('above_max', 'Glucose - Blood - Chemistry')\n",
       "36  0.155530  ('abn_percent', 'Hematocrit - Blood - Hematolo...\n",
       "27  0.155322  ('abn_percent', 'Creatinine - Blood - Chemistry')\n",
       "37  0.153820  ('abn_percent', 'Hemoglobin - Blood - Hematolo...\n",
       "43  0.153454        ('abn_percent', 'RDW - Blood - Hematology')\n",
       "35  0.152426  ('abn_percent', 'Urea Nitrogen - Blood - Chemi...\n",
       "68  0.146126     ('above_max', 'Anion Gap - Blood - Chemistry')\n",
       "55  0.141496     ('below_min', 'Phosphate - Blood - Chemistry')\n",
       "56  0.139807     ('below_min', 'Potassium - Blood - Chemistry')\n",
       "78  0.137844        ('above_max', 'Sodium - Blood - Chemistry')\n",
       "24  0.137372  ('abn_percent', 'Calcium, Total - Blood - Chem...\n",
       "25  0.137081    ('abn_percent', 'Chloride - Blood - Chemistry')\n",
       "44  0.135895  ('abn_percent', 'Red Blood Cells - Blood - Hem...\n",
       "23  0.135021  ('abn_percent', 'Bicarbonate - Blood - Chemist...\n",
       "11  0.133639                ('min', 'RDW - Blood - Hematology')\n",
       "5   0.128002           ('min', 'Potassium - Blood - Chemistry')\n",
       "57  0.127883        ('below_min', 'Sodium - Blood - Chemistry')\n",
       "50  0.127074      ('below_min', 'Chloride - Blood - Chemistry')\n",
       "33  0.125127      ('abn_percent', 'Sodium - Blood - Chemistry')\n",
       "9   0.122762     ('min', 'Platelet Count - Blood - Hematology')\n",
       "77  0.122333     ('above_max', 'Potassium - Blood - Chemistry')"
      ]
     },
     "execution_count": 11,
     "metadata": {},
     "output_type": "execute_result"
    }
   ],
   "source": [
    "# pd.DataFrame(pca.components_[:5],columns=X_train.columns)\n",
    "pca_coef = pd.DataFrame(list(zip(pca.components_[0], X_train.columns)))\n",
    "pca_coef.columns = ['coef', 'test']\n",
    "pca_coef['coef'] = abs(pca_coef['coef'])\n",
    "pca_coef.sort_values(by = 'coef', ascending = False).head(30)\n"
   ]
  },
  {
   "cell_type": "markdown",
   "metadata": {},
   "source": [
    "## Recusive Feture Elimination - Recall"
   ]
  },
  {
   "cell_type": "markdown",
   "metadata": {},
   "source": [
    "## Recusive Feature Elimination"
   ]
  },
  {
   "cell_type": "code",
   "execution_count": 20,
   "metadata": {
    "scrolled": true
   },
   "outputs": [
    {
     "name": "stdout",
     "output_type": "stream",
     "text": [
      "Fitting estimator with 107 features.\n",
      "Fitting estimator with 106 features.\n",
      "Fitting estimator with 105 features.\n",
      "Fitting estimator with 104 features.\n",
      "Fitting estimator with 103 features.\n",
      "Fitting estimator with 102 features.\n",
      "Fitting estimator with 101 features.\n",
      "Fitting estimator with 100 features.\n",
      "Fitting estimator with 99 features.\n",
      "Fitting estimator with 98 features.\n",
      "Fitting estimator with 97 features.\n",
      "Fitting estimator with 96 features.\n",
      "Fitting estimator with 95 features.\n",
      "Fitting estimator with 94 features.\n",
      "Fitting estimator with 93 features.\n",
      "Fitting estimator with 92 features.\n",
      "Fitting estimator with 91 features.\n",
      "Fitting estimator with 90 features.\n",
      "Fitting estimator with 89 features.\n",
      "Fitting estimator with 88 features.\n",
      "Fitting estimator with 87 features.\n",
      "Fitting estimator with 86 features.\n",
      "Fitting estimator with 85 features.\n",
      "Fitting estimator with 84 features.\n",
      "Fitting estimator with 83 features.\n",
      "Fitting estimator with 82 features.\n",
      "Fitting estimator with 81 features.\n",
      "Fitting estimator with 80 features.\n",
      "Fitting estimator with 79 features.\n",
      "Fitting estimator with 78 features.\n",
      "Fitting estimator with 77 features.\n",
      "Fitting estimator with 76 features.\n",
      "Fitting estimator with 75 features.\n",
      "Fitting estimator with 74 features.\n",
      "Fitting estimator with 73 features.\n",
      "Fitting estimator with 72 features.\n",
      "Fitting estimator with 71 features.\n",
      "Fitting estimator with 70 features.\n",
      "Fitting estimator with 69 features.\n",
      "Fitting estimator with 68 features.\n",
      "Fitting estimator with 67 features.\n",
      "Fitting estimator with 66 features.\n",
      "Fitting estimator with 65 features.\n",
      "Fitting estimator with 64 features.\n",
      "Fitting estimator with 63 features.\n",
      "Fitting estimator with 62 features.\n",
      "Fitting estimator with 61 features.\n",
      "Fitting estimator with 60 features.\n",
      "Fitting estimator with 59 features.\n",
      "Fitting estimator with 58 features.\n",
      "Fitting estimator with 57 features.\n",
      "Fitting estimator with 56 features.\n",
      "Fitting estimator with 55 features.\n",
      "Fitting estimator with 54 features.\n",
      "Fitting estimator with 53 features.\n",
      "Fitting estimator with 52 features.\n",
      "Fitting estimator with 51 features.\n",
      "Fitting estimator with 50 features.\n",
      "Fitting estimator with 49 features.\n",
      "Fitting estimator with 48 features.\n",
      "Fitting estimator with 47 features.\n",
      "Fitting estimator with 46 features.\n",
      "Fitting estimator with 45 features.\n",
      "Fitting estimator with 44 features.\n",
      "Fitting estimator with 43 features.\n",
      "Fitting estimator with 42 features.\n",
      "Fitting estimator with 41 features.\n",
      "Fitting estimator with 40 features.\n",
      "Fitting estimator with 39 features.\n",
      "Fitting estimator with 38 features.\n",
      "Fitting estimator with 37 features.\n",
      "CPU times: user 6.17 s, sys: 197 ms, total: 6.37 s\n",
      "Wall time: 11.9 s\n"
     ]
    },
    {
     "data": {
      "text/plain": [
       "RFECV(cv=StratifiedKFold(n_splits=3, random_state=None, shuffle=False),\n",
       "      estimator=LogisticRegression(class_weight='balanced', max_iter=2000,\n",
       "                                   penalty='l1', solver='liblinear'),\n",
       "      n_jobs=-1, scoring='roc_auc', verbose=1)"
      ]
     },
     "execution_count": 20,
     "metadata": {},
     "output_type": "execute_result"
    }
   ],
   "source": [
    "%%time\n",
    "\n",
    "\n",
    "import matplotlib.pyplot as plt\n",
    "from sklearn.model_selection import StratifiedKFold\n",
    "from sklearn.feature_selection import RFECV\n",
    "\n",
    "logReg = LogisticRegression(penalty = 'l1', max_iter = 2000, class_weight = \"balanced\", solver = 'liblinear')\n",
    "\n",
    "rfecv = RFECV(estimator=logReg, step=1, cv=StratifiedKFold(3),\n",
    "              scoring='roc_auc', verbose = 1, n_jobs = -1)\n",
    "rfecv.fit(X_train, y_train)\n"
   ]
  },
  {
   "cell_type": "code",
   "execution_count": 21,
   "metadata": {},
   "outputs": [
    {
     "name": "stdout",
     "output_type": "stream",
     "text": [
      "Optimal number of features : 36\n"
     ]
    },
    {
     "data": {
      "image/png": "[encoded data removed]",
      "text/plain": [
       "<Figure size 432x288 with 1 Axes>"
      ]
     },
     "metadata": {
      "needs_background": "light"
     },
     "output_type": "display_data"
    }
   ],
   "source": [
    "print(\"Optimal number of features : %d\" % rfecv.n_features_)\n",
    "\n",
    "plt.figure()\n",
    "plt.xlabel(\"Number of features selected\")\n",
    "plt.ylabel(\"Cross validation score (nb of correct classifications)\")\n",
    "plt.plot(range(1, len(rfecv.grid_scores_) + 1), rfecv.grid_scores_)\n",
    "plt.show()"
   ]
  },
  {
   "cell_type": "code",
   "execution_count": 22,
   "metadata": {},
   "outputs": [
    {
     "data": {
      "text/plain": [
       "array([-0.13440154, -0.12479411,  0.3895965 , -0.27491888,  0.37447051,\n",
       "       -0.14740765,  0.35937008,  0.47971994,  0.17652524, -0.17119521,\n",
       "       -0.16996199, -0.16917631,  0.17768621,  0.25842769, -0.14494371,\n",
       "        0.20334452,  0.16731577, -0.31050069,  0.12830683, -0.22643316,\n",
       "       -0.13236974,  0.17441841, -0.15194546, -0.12539896,  0.20306043,\n",
       "       -0.26745402, -0.22814798, -0.21687562,  0.78723237,  0.3828946 ,\n",
       "        0.16720343,  0.92632634,  0.28463023, -0.33855742,  0.38870766,\n",
       "       -0.38084496])"
      ]
     },
     "execution_count": 22,
     "metadata": {},
     "output_type": "execute_result"
    }
   ],
   "source": [
    "rfecv.estimator_.coef_[0]\n",
    "\n",
    "# X_train.iloc[:, rfecv.support_].columns\n",
    "\n",
    "# X_train.columns#.iloc[rfecv.support_]\n",
    "# rfecv.support_\n"
   ]
  },
  {
   "cell_type": "code",
   "execution_count": 23,
   "metadata": {},
   "outputs": [
    {
     "data": {
      "text/plain": [
       "atherosclero                                              0.926326\n",
       "age                                                       0.787232\n",
       "('max', 'Bicarbonate - Blood - Chemistry')                0.479720\n",
       "('min', 'Urea Nitrogen - Blood - Chemistry')              0.389596\n",
       "ethnicity_BLACK/AFRICAN AMERICAN                          0.388708\n",
       "diabetes                                                  0.382895\n",
       "insurance_Medicaid                                        0.380845\n",
       "('min', 'RDW - Blood - Hematology')                       0.374471\n",
       "('max', 'Anion Gap - Blood - Chemistry')                  0.359370\n",
       "ethnicity_ASIAN                                           0.338557\n",
       "('below_min', 'Urea Nitrogen - Blood - Chemistry')        0.310501\n",
       "renal_failure                                             0.284630\n",
       "('min', 'Platelet Count - Blood - Hematology')            0.274919\n",
       "('above_max', 'RDW - Blood - Hematology')                 0.267454\n",
       "('abn_percent', 'Urea Nitrogen - Blood - Chemistry')      0.258428\n",
       "ed_length                                                 0.228148\n",
       "('above_max', 'Anion Gap - Blood - Chemistry')            0.226433\n",
       "gender                                                    0.216876\n",
       "('abn_percent', 'PT - Blood - Hematology')                0.203345\n",
       "('above_max', 'PT - Blood - Hematology')                  0.203060\n",
       "('abn_percent', 'Troponin T - Blood - Chemistry')         0.177686\n",
       "('max', 'Calcium, Total - Blood - Chemistry')             0.176525\n",
       "('above_max', 'Glucose - Blood - Chemistry')              0.174418\n",
       "('max', 'Sodium - Blood - Chemistry')                     0.171195\n",
       "('max', 'MCHC - Blood - Hematology')                      0.169962\n",
       "('abn_percent', 'Bicarbonate - Blood - Chemistry')        0.169176\n",
       "('below_min', 'Bicarbonate - Blood - Chemistry')          0.167316\n",
       "hypertension                                              0.167203\n",
       "('above_max', 'Urea Nitrogen - Blood - Chemistry')        0.151945\n",
       "('min', 'White Blood Cells - Blood - Hematology')         0.147408\n",
       "('abn_percent', 'Platelet Count - Blood - Hematology')    0.144944\n",
       "('min', 'Glucose - Blood - Chemistry')                    0.134402\n",
       "('above_max', 'Calcium, Total - Blood - Chemistry')       0.132370\n",
       "('below_min', 'MCHC - Blood - Hematology')                0.128307\n",
       "('above_max', 'MCHC - Blood - Hematology')                0.125399\n",
       "('min', 'Potassium - Blood - Chemistry')                  0.124794\n",
       "dtype: float64"
      ]
     },
     "execution_count": 23,
     "metadata": {},
     "output_type": "execute_result"
    }
   ],
   "source": [
    "est_coefs = pd.Series(rfecv.estimator_.coef_[0], index=X_train.iloc[:, rfecv.support_].columns)\n",
    "\n",
    "sortedCoefs = np.abs(est_coefs).sort_values(ascending=False)\n",
    "sortedCoefs[sortedCoefs > 0]#.head(50)\n"
   ]
  },
  {
   "cell_type": "code",
   "execution_count": 24,
   "metadata": {},
   "outputs": [],
   "source": [
    "X_train_trimmed = X_train.iloc[:, rfecv.support_]\n",
    "# y_train_trimmed = y_train.iloc[:, rfecv.support_]\n",
    "\n",
    "X_test_trimmed = X_test.iloc[:, rfecv.support_]\n",
    "# y_test_trimmed = y_test.iloc[:, rfecv.support_]"
   ]
  },
  {
   "cell_type": "code",
   "execution_count": 25,
   "metadata": {},
   "outputs": [
    {
     "data": {
      "text/plain": [
       "LogisticRegression(class_weight='balanced', max_iter=2000, penalty='l1',\n",
       "                   solver='liblinear')"
      ]
     },
     "execution_count": 25,
     "metadata": {},
     "output_type": "execute_result"
    }
   ],
   "source": [
    "from sklearn.base import clone\n",
    "\n",
    "best_est = clone(rfecv.estimator_)\n",
    "best_est.fit(X_train_trimmed, y_train)"
   ]
  },
  {
   "cell_type": "code",
   "execution_count": 26,
   "metadata": {},
   "outputs": [
    {
     "data": {
      "text/plain": [
       "atherosclero                                              0.926299\n",
       "age                                                       0.787216\n",
       "('max', 'Bicarbonate - Blood - Chemistry')                0.479699\n",
       "('min', 'Urea Nitrogen - Blood - Chemistry')              0.389546\n",
       "ethnicity_BLACK/AFRICAN AMERICAN                          0.388695\n",
       "diabetes                                                  0.382909\n",
       "insurance_Medicaid                                        0.380877\n",
       "('min', 'RDW - Blood - Hematology')                       0.374550\n",
       "('max', 'Anion Gap - Blood - Chemistry')                  0.359344\n",
       "ethnicity_ASIAN                                           0.338564\n",
       "('below_min', 'Urea Nitrogen - Blood - Chemistry')        0.310509\n",
       "renal_failure                                             0.284557\n",
       "('min', 'Platelet Count - Blood - Hematology')            0.274911\n",
       "('above_max', 'RDW - Blood - Hematology')                 0.267549\n",
       "('abn_percent', 'Urea Nitrogen - Blood - Chemistry')      0.258451\n",
       "ed_length                                                 0.228140\n",
       "('above_max', 'Anion Gap - Blood - Chemistry')            0.226411\n",
       "gender                                                    0.216868\n",
       "('abn_percent', 'PT - Blood - Hematology')                0.203333\n",
       "('above_max', 'PT - Blood - Hematology')                  0.203067\n",
       "('abn_percent', 'Troponin T - Blood - Chemistry')         0.177688\n",
       "('max', 'Calcium, Total - Blood - Chemistry')             0.176531\n",
       "('above_max', 'Glucose - Blood - Chemistry')              0.174417\n",
       "('max', 'Sodium - Blood - Chemistry')                     0.171193\n",
       "('max', 'MCHC - Blood - Hematology')                      0.169873\n",
       "('abn_percent', 'Bicarbonate - Blood - Chemistry')        0.169150\n",
       "('below_min', 'Bicarbonate - Blood - Chemistry')          0.167282\n",
       "hypertension                                              0.167198\n",
       "('above_max', 'Urea Nitrogen - Blood - Chemistry')        0.151914\n",
       "('min', 'White Blood Cells - Blood - Hematology')         0.147406\n",
       "('abn_percent', 'Platelet Count - Blood - Hematology')    0.144947\n",
       "('min', 'Glucose - Blood - Chemistry')                    0.134404\n",
       "('above_max', 'Calcium, Total - Blood - Chemistry')       0.132369\n",
       "('below_min', 'MCHC - Blood - Hematology')                0.128361\n",
       "('above_max', 'MCHC - Blood - Hematology')                0.125452\n",
       "('min', 'Potassium - Blood - Chemistry')                  0.124792\n",
       "dtype: float64"
      ]
     },
     "execution_count": 26,
     "metadata": {},
     "output_type": "execute_result"
    }
   ],
   "source": [
    "est_coefs = pd.Series(best_est.coef_[0], index=X_train.iloc[:, rfecv.support_].columns)\n",
    "\n",
    "sortedCoefs = np.abs(est_coefs).sort_values(ascending=False)\n",
    "sortedCoefs[sortedCoefs > 0]#.head(50)"
   ]
  },
  {
   "cell_type": "code",
   "execution_count": 27,
   "metadata": {
    "scrolled": true
   },
   "outputs": [
    {
     "name": "stdout",
     "output_type": "stream",
     "text": [
      "Accuracy Score: 75.79%\n",
      "_______________________________________________\n",
      "Classification Report:\tPrecision Score: 35.47%\n",
      "\t\t\tRecall Score: 75.70%\n",
      "\t\t\tF1 score: 48.31%\n",
      "_______________________________________________\n",
      "Confusion Matrix: \n",
      " [[1385  442]\n",
      " [  78  243]]\n",
      "\n"
     ]
    },
    {
     "data": {
      "image/png": "[encoded data removed]",
      "text/plain": [
       "<Figure size 432x288 with 1 Axes>"
      ]
     },
     "metadata": {
      "needs_background": "light"
     },
     "output_type": "display_data"
    }
   ],
   "source": [
    "pred = rfecv.estimator_.predict(X_test_trimmed)\n",
    "\n",
    "print(f\"Accuracy Score: {accuracy_score(y_test, pred) * 100:.2f}%\")\n",
    "print(\"_______________________________________________\")\n",
    "print(\"Classification Report:\", end='')\n",
    "print(f\"\\tPrecision Score: {precision_score(y_test, pred) * 100:.2f}%\")\n",
    "print(f\"\\t\\t\\tRecall Score: {recall_score(y_test, pred) * 100:.2f}%\")\n",
    "print(f\"\\t\\t\\tF1 score: {f1_score(y_test, pred) * 100:.2f}%\")\n",
    "print(\"_______________________________________________\")\n",
    "print(f\"Confusion Matrix: \\n {confusion_matrix(y_test, pred)}\\n\")\n",
    "\n",
    "svc_disp = plot_roc_curve(search, X_test, y_test)\n",
    "plt.show()"
   ]
  },
  {
   "cell_type": "code",
   "execution_count": 28,
   "metadata": {},
   "outputs": [
    {
     "name": "stdout",
     "output_type": "stream",
     "text": [
      "CPU times: user 365 ms, sys: 43.8 ms, total: 409 ms\n",
      "Wall time: 780 ms\n"
     ]
    },
    {
     "data": {
      "text/plain": [
       "0.8547926153973927"
      ]
     },
     "execution_count": 28,
     "metadata": {},
     "output_type": "execute_result"
    }
   ],
   "source": [
    "%%time\n",
    "\n",
    "X_reduced = rfecv.transform(X_train)\n",
    "\n",
    "# L1\n",
    "params_log = [ {'C':np.logspace(-4, 3, 20)} ]\n",
    "logReg = LogisticRegression(penalty = 'l1', max_iter = 2000, class_weight = \"balanced\", solver = 'liblinear')\n",
    "\n",
    "grid_log = GridSearchCV(estimator = logReg, param_grid = params_log, cv = 5, scoring='roc_auc', n_jobs = -1)\n",
    "grid_log.fit(X_reduced, y_train)\n",
    "grid_log.best_score_"
   ]
  },
  {
   "cell_type": "code",
   "execution_count": 29,
   "metadata": {},
   "outputs": [
    {
     "data": {
      "text/plain": [
       "{'C': 0.2069138081114788}"
      ]
     },
     "execution_count": 29,
     "metadata": {},
     "output_type": "execute_result"
    }
   ],
   "source": [
    "grid_log.best_params_"
   ]
  },
  {
   "cell_type": "code",
   "execution_count": 30,
   "metadata": {},
   "outputs": [],
   "source": [
    "# X_train.iloc[:, rfecv.support_].columns"
   ]
  },
  {
   "cell_type": "code",
   "execution_count": 31,
   "metadata": {
    "scrolled": true
   },
   "outputs": [
    {
     "data": {
      "text/plain": [
       "atherosclero                                              0.862404\n",
       "age                                                       0.778556\n",
       "('max', 'Bicarbonate - Blood - Chemistry')                0.468853\n",
       "('min', 'Urea Nitrogen - Blood - Chemistry')              0.375286\n",
       "('min', 'RDW - Blood - Hematology')                       0.355932\n",
       "('max', 'Anion Gap - Blood - Chemistry')                  0.347772\n",
       "diabetes                                                  0.346278\n",
       "ethnicity_BLACK/AFRICAN AMERICAN                          0.345565\n",
       "insurance_Medicaid                                        0.315018\n",
       "('below_min', 'Urea Nitrogen - Blood - Chemistry')        0.294113\n",
       "('min', 'Platelet Count - Blood - Hematology')            0.266541\n",
       "('abn_percent', 'Urea Nitrogen - Blood - Chemistry')      0.256424\n",
       "('above_max', 'RDW - Blood - Hematology')                 0.248824\n",
       "ed_length                                                 0.218134\n",
       "('above_max', 'Anion Gap - Blood - Chemistry')            0.210738\n",
       "gender                                                    0.207243\n",
       "('abn_percent', 'PT - Blood - Hematology')                0.198870\n",
       "('above_max', 'PT - Blood - Hematology')                  0.197925\n",
       "ethnicity_ASIAN                                           0.194792\n",
       "('abn_percent', 'Troponin T - Blood - Chemistry')         0.173826\n",
       "('max', 'MCHC - Blood - Hematology')                      0.171612\n",
       "('above_max', 'Glucose - Blood - Chemistry')              0.169409\n",
       "('max', 'Sodium - Blood - Chemistry')                     0.164242\n",
       "('max', 'Calcium, Total - Blood - Chemistry')             0.160661\n",
       "('abn_percent', 'Bicarbonate - Blood - Chemistry')        0.152112\n",
       "hypertension                                              0.151071\n",
       "('below_min', 'Bicarbonate - Blood - Chemistry')          0.144149\n",
       "('min', 'White Blood Cells - Blood - Hematology')         0.141336\n",
       "('abn_percent', 'Platelet Count - Blood - Hematology')    0.137616\n",
       "('above_max', 'Urea Nitrogen - Blood - Chemistry')        0.131539\n",
       "('min', 'Glucose - Blood - Chemistry')                    0.127528\n",
       "('below_min', 'MCHC - Blood - Hematology')                0.122744\n",
       "('min', 'Potassium - Blood - Chemistry')                  0.117664\n",
       "('above_max', 'MCHC - Blood - Hematology')                0.116393\n",
       "('above_max', 'Calcium, Total - Blood - Chemistry')       0.115423\n",
       "dtype: float64"
      ]
     },
     "execution_count": 31,
     "metadata": {},
     "output_type": "execute_result"
    }
   ],
   "source": [
    "est_coefs = pd.Series(grid_log.best_estimator_.coef_[0], index=X_train.iloc[:, rfecv.support_].columns)\n",
    "\n",
    "sortedCoefs = np.abs(est_coefs).sort_values(ascending=False)\n",
    "sortedCoefs[sortedCoefs > 0].head(50)"
   ]
  },
  {
   "cell_type": "code",
   "execution_count": 167,
   "metadata": {},
   "outputs": [
    {
     "data": {
      "text/plain": [
       "(36,)"
      ]
     },
     "execution_count": 167,
     "metadata": {},
     "output_type": "execute_result"
    }
   ],
   "source": [
    "sortedCoefs.shape"
   ]
  },
  {
   "cell_type": "code",
   "execution_count": 32,
   "metadata": {
    "scrolled": true
   },
   "outputs": [
    {
     "name": "stdout",
     "output_type": "stream",
     "text": [
      "Accuracy Score: 75.70%\n",
      "_______________________________________________\n",
      "Classification Report:\tPrecision Score: 35.37%\n",
      "\t\t\tRecall Score: 75.70%\n",
      "\t\t\tF1 score: 48.21%\n",
      "_______________________________________________\n",
      "Confusion Matrix: \n",
      " [[1383  444]\n",
      " [  78  243]]\n",
      "\n"
     ]
    }
   ],
   "source": [
    "X_test_reduced = rfecv.transform(X_test)\n",
    "\n",
    "pred = grid_log.predict(X_test_reduced)\n",
    "\n",
    "print(f\"Accuracy Score: {accuracy_score(y_test, pred) * 100:.2f}%\")\n",
    "print(\"_______________________________________________\")\n",
    "print(\"Classification Report:\", end='')\n",
    "print(f\"\\tPrecision Score: {precision_score(y_test, pred) * 100:.2f}%\")\n",
    "print(f\"\\t\\t\\tRecall Score: {recall_score(y_test, pred) * 100:.2f}%\")\n",
    "print(f\"\\t\\t\\tF1 score: {f1_score(y_test, pred) * 100:.2f}%\")\n",
    "print(\"_______________________________________________\")\n",
    "print(f\"Confusion Matrix: \\n {confusion_matrix(y_test, pred)}\\n\")"
   ]
  },
  {
   "cell_type": "code",
   "execution_count": 127,
   "metadata": {},
   "outputs": [
    {
     "data": {
      "text/html": [
       "<div>\n",
       "<style scoped>\n",
       "    .dataframe tbody tr th:only-of-type {\n",
       "        vertical-align: middle;\n",
       "    }\n",
       "\n",
       "    .dataframe tbody tr th {\n",
       "        vertical-align: top;\n",
       "    }\n",
       "\n",
       "    .dataframe thead th {\n",
       "        text-align: right;\n",
       "    }\n",
       "</style>\n",
       "<table border=\"1\" class=\"dataframe\">\n",
       "  <thead>\n",
       "    <tr style=\"text-align: right;\">\n",
       "      <th></th>\n",
       "      <th>Threshold</th>\n",
       "      <th>F1</th>\n",
       "      <th>ROC_AUC</th>\n",
       "      <th>Recall</th>\n",
       "      <th>Accuracy</th>\n",
       "      <th>Precision</th>\n",
       "    </tr>\n",
       "  </thead>\n",
       "  <tbody>\n",
       "    <tr>\n",
       "      <th>0</th>\n",
       "      <td>0.164737</td>\n",
       "      <td>0.352468</td>\n",
       "      <td>0.673322</td>\n",
       "      <td>0.956386</td>\n",
       "      <td>0.474860</td>\n",
       "      <td>0.216045</td>\n",
       "    </tr>\n",
       "    <tr>\n",
       "      <th>1</th>\n",
       "      <td>0.165305</td>\n",
       "      <td>0.352874</td>\n",
       "      <td>0.673869</td>\n",
       "      <td>0.956386</td>\n",
       "      <td>0.475791</td>\n",
       "      <td>0.216350</td>\n",
       "    </tr>\n",
       "    <tr>\n",
       "      <th>2</th>\n",
       "      <td>0.165873</td>\n",
       "      <td>0.352332</td>\n",
       "      <td>0.672859</td>\n",
       "      <td>0.953271</td>\n",
       "      <td>0.476257</td>\n",
       "      <td>0.216102</td>\n",
       "    </tr>\n",
       "    <tr>\n",
       "      <th>3</th>\n",
       "      <td>0.166441</td>\n",
       "      <td>0.352332</td>\n",
       "      <td>0.672859</td>\n",
       "      <td>0.953271</td>\n",
       "      <td>0.476257</td>\n",
       "      <td>0.216102</td>\n",
       "    </tr>\n",
       "    <tr>\n",
       "      <th>4</th>\n",
       "      <td>0.167008</td>\n",
       "      <td>0.351585</td>\n",
       "      <td>0.671575</td>\n",
       "      <td>0.950156</td>\n",
       "      <td>0.476257</td>\n",
       "      <td>0.215700</td>\n",
       "    </tr>\n",
       "    <tr>\n",
       "      <th>5</th>\n",
       "      <td>0.167576</td>\n",
       "      <td>0.351585</td>\n",
       "      <td>0.671575</td>\n",
       "      <td>0.950156</td>\n",
       "      <td>0.476257</td>\n",
       "      <td>0.215700</td>\n",
       "    </tr>\n",
       "    <tr>\n",
       "      <th>6</th>\n",
       "      <td>0.168144</td>\n",
       "      <td>0.352194</td>\n",
       "      <td>0.672396</td>\n",
       "      <td>0.950156</td>\n",
       "      <td>0.477654</td>\n",
       "      <td>0.216159</td>\n",
       "    </tr>\n",
       "    <tr>\n",
       "      <th>7</th>\n",
       "      <td>0.168712</td>\n",
       "      <td>0.352397</td>\n",
       "      <td>0.672670</td>\n",
       "      <td>0.950156</td>\n",
       "      <td>0.478119</td>\n",
       "      <td>0.216312</td>\n",
       "    </tr>\n",
       "    <tr>\n",
       "      <th>8</th>\n",
       "      <td>0.169280</td>\n",
       "      <td>0.352397</td>\n",
       "      <td>0.672670</td>\n",
       "      <td>0.950156</td>\n",
       "      <td>0.478119</td>\n",
       "      <td>0.216312</td>\n",
       "    </tr>\n",
       "    <tr>\n",
       "      <th>9</th>\n",
       "      <td>0.169848</td>\n",
       "      <td>0.352601</td>\n",
       "      <td>0.672943</td>\n",
       "      <td>0.950156</td>\n",
       "      <td>0.478585</td>\n",
       "      <td>0.216466</td>\n",
       "    </tr>\n",
       "    <tr>\n",
       "      <th>10</th>\n",
       "      <td>0.170415</td>\n",
       "      <td>0.352601</td>\n",
       "      <td>0.672943</td>\n",
       "      <td>0.950156</td>\n",
       "      <td>0.478585</td>\n",
       "      <td>0.216466</td>\n",
       "    </tr>\n",
       "    <tr>\n",
       "      <th>11</th>\n",
       "      <td>0.170983</td>\n",
       "      <td>0.353418</td>\n",
       "      <td>0.674038</td>\n",
       "      <td>0.950156</td>\n",
       "      <td>0.480447</td>\n",
       "      <td>0.217082</td>\n",
       "    </tr>\n",
       "    <tr>\n",
       "      <th>12</th>\n",
       "      <td>0.171551</td>\n",
       "      <td>0.353828</td>\n",
       "      <td>0.674585</td>\n",
       "      <td>0.950156</td>\n",
       "      <td>0.481378</td>\n",
       "      <td>0.217391</td>\n",
       "    </tr>\n",
       "    <tr>\n",
       "      <th>13</th>\n",
       "      <td>0.172119</td>\n",
       "      <td>0.354239</td>\n",
       "      <td>0.675133</td>\n",
       "      <td>0.950156</td>\n",
       "      <td>0.482309</td>\n",
       "      <td>0.217702</td>\n",
       "    </tr>\n",
       "    <tr>\n",
       "      <th>14</th>\n",
       "      <td>0.172687</td>\n",
       "      <td>0.354445</td>\n",
       "      <td>0.675406</td>\n",
       "      <td>0.950156</td>\n",
       "      <td>0.482775</td>\n",
       "      <td>0.217857</td>\n",
       "    </tr>\n",
       "    <tr>\n",
       "      <th>15</th>\n",
       "      <td>0.173255</td>\n",
       "      <td>0.354651</td>\n",
       "      <td>0.675680</td>\n",
       "      <td>0.950156</td>\n",
       "      <td>0.483240</td>\n",
       "      <td>0.218013</td>\n",
       "    </tr>\n",
       "    <tr>\n",
       "      <th>16</th>\n",
       "      <td>0.173822</td>\n",
       "      <td>0.355478</td>\n",
       "      <td>0.676775</td>\n",
       "      <td>0.950156</td>\n",
       "      <td>0.485102</td>\n",
       "      <td>0.218638</td>\n",
       "    </tr>\n",
       "    <tr>\n",
       "      <th>17</th>\n",
       "      <td>0.174390</td>\n",
       "      <td>0.355140</td>\n",
       "      <td>0.676038</td>\n",
       "      <td>0.947040</td>\n",
       "      <td>0.486034</td>\n",
       "      <td>0.218548</td>\n",
       "    </tr>\n",
       "    <tr>\n",
       "      <th>18</th>\n",
       "      <td>0.174958</td>\n",
       "      <td>0.355764</td>\n",
       "      <td>0.676859</td>\n",
       "      <td>0.947040</td>\n",
       "      <td>0.487430</td>\n",
       "      <td>0.219020</td>\n",
       "    </tr>\n",
       "    <tr>\n",
       "      <th>19</th>\n",
       "      <td>0.175526</td>\n",
       "      <td>0.355764</td>\n",
       "      <td>0.676859</td>\n",
       "      <td>0.947040</td>\n",
       "      <td>0.487430</td>\n",
       "      <td>0.219020</td>\n",
       "    </tr>\n",
       "  </tbody>\n",
       "</table>\n",
       "</div>"
      ],
      "text/plain": [
       "    Threshold        F1   ROC_AUC    Recall  Accuracy  Precision\n",
       "0    0.164737  0.352468  0.673322  0.956386  0.474860   0.216045\n",
       "1    0.165305  0.352874  0.673869  0.956386  0.475791   0.216350\n",
       "2    0.165873  0.352332  0.672859  0.953271  0.476257   0.216102\n",
       "3    0.166441  0.352332  0.672859  0.953271  0.476257   0.216102\n",
       "4    0.167008  0.351585  0.671575  0.950156  0.476257   0.215700\n",
       "5    0.167576  0.351585  0.671575  0.950156  0.476257   0.215700\n",
       "6    0.168144  0.352194  0.672396  0.950156  0.477654   0.216159\n",
       "7    0.168712  0.352397  0.672670  0.950156  0.478119   0.216312\n",
       "8    0.169280  0.352397  0.672670  0.950156  0.478119   0.216312\n",
       "9    0.169848  0.352601  0.672943  0.950156  0.478585   0.216466\n",
       "10   0.170415  0.352601  0.672943  0.950156  0.478585   0.216466\n",
       "11   0.170983  0.353418  0.674038  0.950156  0.480447   0.217082\n",
       "12   0.171551  0.353828  0.674585  0.950156  0.481378   0.217391\n",
       "13   0.172119  0.354239  0.675133  0.950156  0.482309   0.217702\n",
       "14   0.172687  0.354445  0.675406  0.950156  0.482775   0.217857\n",
       "15   0.173255  0.354651  0.675680  0.950156  0.483240   0.218013\n",
       "16   0.173822  0.355478  0.676775  0.950156  0.485102   0.218638\n",
       "17   0.174390  0.355140  0.676038  0.947040  0.486034   0.218548\n",
       "18   0.174958  0.355764  0.676859  0.947040  0.487430   0.219020\n",
       "19   0.175526  0.355764  0.676859  0.947040  0.487430   0.219020"
      ]
     },
     "execution_count": 127,
     "metadata": {},
     "output_type": "execute_result"
    },
    {
     "data": {
      "image/png": "[encoded data removed]",
      "text/plain": [
       "<Figure size 432x288 with 1 Axes>"
      ]
     },
     "metadata": {
      "needs_background": "light"
     },
     "output_type": "display_data"
    }
   ],
   "source": [
    "threshold_list = np.linspace(0.164737,0.175526,20)\n",
    "change_threshold(grid_log, threshold_list, X_test_reduced)"
   ]
  },
  {
   "cell_type": "markdown",
   "metadata": {},
   "source": [
    "## XGBoost"
   ]
  },
  {
   "cell_type": "code",
   "execution_count": 40,
   "metadata": {},
   "outputs": [],
   "source": [
    "import xgboost as xgb\n",
    "from xgboost import XGBClassifier"
   ]
  },
  {
   "cell_type": "code",
   "execution_count": 51,
   "metadata": {},
   "outputs": [],
   "source": [
    "from sklearn.model_selection import StratifiedKFold\n",
    "k_folds = StratifiedKFold(5)"
   ]
  },
  {
   "cell_type": "code",
   "execution_count": 70,
   "metadata": {},
   "outputs": [
    {
     "name": "stdout",
     "output_type": "stream",
     "text": [
      "CPU times: user 6min 50s, sys: 3.17 s, total: 6min 53s\n",
      "Wall time: 1min 44s\n"
     ]
    }
   ],
   "source": [
    "%%time\n",
    "\n",
    "xgtrain = xgb.DMatrix(X_reduced, label=y_train)\n",
    "\n",
    "clf = xgb.XGBClassifier(max_depth = 105,\n",
    "                n_estimators=850,\n",
    "                subsample=1.0,\n",
    "                colsample_bytree=0.5,\n",
    "                min_child_weight = 3,\n",
    "                seed=0,\n",
    "                n_jobs = -1)\n",
    "xgb_param = clf.get_xgb_params()\n",
    "\n",
    "cvresult = xgb.cv(xgb_param, xgtrain, num_boost_round=500000, nfold=5, metrics=['auc'],\n",
    "     early_stopping_rounds=5000, stratified=True, seed=0)\n",
    "\n"
   ]
  },
  {
   "cell_type": "code",
   "execution_count": 71,
   "metadata": {},
   "outputs": [
    {
     "data": {
      "text/plain": [
       "XGBClassifier(colsample_bytree=0.5, max_depth=105, min_child_weight=3,\n",
       "              n_estimators=89, n_jobs=-1, seed=0, subsample=1.0)"
      ]
     },
     "execution_count": 71,
     "metadata": {},
     "output_type": "execute_result"
    }
   ],
   "source": [
    "clf.set_params(n_estimators=cvresult.shape[0])\n",
    "\n",
    "clf.fit(X_reduced, y_train, eval_metric='auc', verbose = True)"
   ]
  },
  {
   "cell_type": "code",
   "execution_count": 72,
   "metadata": {},
   "outputs": [
    {
     "name": "stdout",
     "output_type": "stream",
     "text": [
      "Accuracy Score: 86.03%\n",
      "_______________________________________________\n",
      "Classification Report:\tPrecision Score: 56.44%\n",
      "\t\t\tRecall Score: 28.66%\n",
      "\t\t\tF1 score: 38.02%\n",
      "_______________________________________________\n",
      "Confusion Matrix: \n",
      " [[1756   71]\n",
      " [ 229   92]]\n",
      "\n"
     ]
    }
   ],
   "source": [
    "pred = clf.predict(X_test_reduced, ntree_limit=cvresult.shape[0])\n",
    "# pred\n",
    "print(f\"Accuracy Score: {accuracy_score(y_test, pred) * 100:.2f}%\")\n",
    "print(\"_______________________________________________\")\n",
    "print(\"Classification Report:\", end='')\n",
    "print(f\"\\tPrecision Score: {precision_score(y_test, pred) * 100:.2f}%\")\n",
    "print(f\"\\t\\t\\tRecall Score: {recall_score(y_test, pred) * 100:.2f}%\")\n",
    "print(f\"\\t\\t\\tF1 score: {f1_score(y_test, pred) * 100:.2f}%\")\n",
    "print(\"_______________________________________________\")\n",
    "print(f\"Confusion Matrix: \\n {confusion_matrix(y_test, pred)}\\n\")"
   ]
  },
  {
   "cell_type": "markdown",
   "metadata": {},
   "source": [
    "## XGBoost with RFE"
   ]
  },
  {
   "cell_type": "code",
   "execution_count": 73,
   "metadata": {},
   "outputs": [],
   "source": [
    "from sklearn.model_selection import RandomizedSearchCV, GridSearchCV"
   ]
  },
  {
   "cell_type": "code",
   "execution_count": 108,
   "metadata": {
    "scrolled": true
   },
   "outputs": [
    {
     "name": "stdout",
     "output_type": "stream",
     "text": [
      "Fitting estimator with 107 features.\n",
      "Fitting estimator with 106 features.\n",
      "Fitting estimator with 105 features.\n",
      "Fitting estimator with 104 features.\n",
      "Fitting estimator with 103 features.\n",
      "Fitting estimator with 102 features.\n",
      "Fitting estimator with 101 features.\n",
      "Fitting estimator with 100 features.\n",
      "Fitting estimator with 99 features.\n",
      "Fitting estimator with 98 features.\n",
      "Fitting estimator with 97 features.\n",
      "Fitting estimator with 96 features.\n",
      "Fitting estimator with 95 features.\n",
      "Fitting estimator with 94 features.\n",
      "Fitting estimator with 93 features.\n",
      "Fitting estimator with 92 features.\n",
      "Fitting estimator with 91 features.\n",
      "Fitting estimator with 90 features.\n",
      "Fitting estimator with 89 features.\n",
      "Fitting estimator with 88 features.\n",
      "Fitting estimator with 87 features.\n",
      "Fitting estimator with 86 features.\n",
      "Fitting estimator with 85 features.\n",
      "Fitting estimator with 84 features.\n",
      "Fitting estimator with 83 features.\n",
      "Fitting estimator with 82 features.\n",
      "Fitting estimator with 81 features.\n",
      "Fitting estimator with 80 features.\n",
      "Fitting estimator with 79 features.\n",
      "Fitting estimator with 78 features.\n",
      "Fitting estimator with 77 features.\n",
      "Fitting estimator with 76 features.\n",
      "Fitting estimator with 75 features.\n",
      "Fitting estimator with 74 features.\n",
      "Fitting estimator with 73 features.\n",
      "Fitting estimator with 72 features.\n",
      "Fitting estimator with 71 features.\n",
      "Fitting estimator with 70 features.\n",
      "Fitting estimator with 69 features.\n",
      "Fitting estimator with 68 features.\n",
      "Fitting estimator with 67 features.\n",
      "Fitting estimator with 66 features.\n",
      "Fitting estimator with 65 features.\n",
      "Fitting estimator with 64 features.\n",
      "Fitting estimator with 63 features.\n",
      "Fitting estimator with 62 features.\n",
      "Fitting estimator with 61 features.\n",
      "CPU times: user 11min 44s, sys: 1.58 s, total: 11min 45s\n",
      "Wall time: 24min 54s\n"
     ]
    }
   ],
   "source": [
    "%%time\n",
    "\n",
    "xgb = XGBClassifier(learning_rate=0.02, \n",
    "                    n_estimators=600, \n",
    "                    objective='binary:logistic',\n",
    "                    silent=True, \n",
    "                    nthread=1)\n",
    "\n",
    "rfecv = RFECV(estimator=xgb, step=1, cv=StratifiedKFold(3),\n",
    "              scoring='roc_auc', verbose = 1, n_jobs = -1)\n",
    "rfecv.fit(X_train, y_train)\n",
    "\n",
    "X_XGB_reduced = rfecv.transform(X_train)"
   ]
  },
  {
   "cell_type": "code",
   "execution_count": 168,
   "metadata": {},
   "outputs": [
    {
     "data": {
      "text/plain": [
       "(6443, 60)"
      ]
     },
     "execution_count": 168,
     "metadata": {},
     "output_type": "execute_result"
    }
   ],
   "source": [
    "X_XGB_reduced.shape"
   ]
  },
  {
   "cell_type": "code",
   "execution_count": 109,
   "metadata": {},
   "outputs": [
    {
     "name": "stdout",
     "output_type": "stream",
     "text": [
      "Fitting 5 folds for each of 10 candidates, totalling 50 fits\n"
     ]
    },
    {
     "name": "stderr",
     "output_type": "stream",
     "text": [
      "[Parallel(n_jobs=-1)]: Using backend LokyBackend with 12 concurrent workers.\n",
      "[Parallel(n_jobs=-1)]: Done   8 tasks      | elapsed:  1.1min\n",
      "[Parallel(n_jobs=-1)]: Done  44 out of  50 | elapsed:  3.8min remaining:   31.3s\n",
      "[Parallel(n_jobs=-1)]: Done  50 out of  50 | elapsed:  4.0min finished\n"
     ]
    },
    {
     "name": "stdout",
     "output_type": "stream",
     "text": [
      "CPU times: user 25.6 s, sys: 419 ms, total: 26 s\n",
      "Wall time: 4min 26s\n"
     ]
    },
    {
     "data": {
      "text/plain": [
       "RandomizedSearchCV(cv=5,\n",
       "                   estimator=XGBClassifier(learning_rate=0.02, nthread=1,\n",
       "                                           silent=True),\n",
       "                   n_jobs=-1,\n",
       "                   param_distributions={'colsample_bytree': [0.6, 0.8, 1.0],\n",
       "                                        'gamma': [0.5, 1, 1.5, 2, 5],\n",
       "                                        'max_depth': range(90, 150, 15),\n",
       "                                        'min_child_weight': [1, 5, 10],\n",
       "                                        'n_estimators': range(550, 900, 50),\n",
       "                                        'subsample': [0.6, 0.8, 1.0]},\n",
       "                   random_state=0, scoring='roc_auc', verbose=3)"
      ]
     },
     "execution_count": 109,
     "metadata": {},
     "output_type": "execute_result"
    }
   ],
   "source": [
    "%%time\n",
    "\n",
    "xgb = XGBClassifier(learning_rate=0.02, \n",
    "#                     n_estimators=600, \n",
    "                    objective='binary:logistic',\n",
    "                    silent=True, \n",
    "                    nthread=1)\n",
    "\n",
    "params = {\n",
    "        'min_child_weight': [1, 5, 10],\n",
    "        'gamma': [0.5, 1, 1.5, 2, 5],\n",
    "        'subsample': [0.6, 0.8, 1.0],\n",
    "        'colsample_bytree': [0.6, 0.8, 1.0],\n",
    "        'n_estimators': range(550,900,50),\n",
    "        'max_depth': range(90,150,15)\n",
    "        }\n",
    "\n",
    "random_search = RandomizedSearchCV(xgb, \n",
    "                                   param_distributions=params, \n",
    "                                   scoring='roc_auc', \n",
    "                                   n_jobs=-1, \n",
    "                                   cv=5, \n",
    "                                   verbose=3, \n",
    "                                   random_state=0 )\n",
    "\n",
    "random_search.fit(X_XGB_reduced, y_train)\n",
    "\n"
   ]
  },
  {
   "cell_type": "code",
   "execution_count": 110,
   "metadata": {},
   "outputs": [
    {
     "data": {
      "text/plain": [
       "XGBClassifier(colsample_bytree=0.6, gamma=5, learning_rate=0.02, max_depth=90,\n",
       "              min_child_weight=5, n_estimators=600, nthread=1, silent=True,\n",
       "              subsample=0.8)"
      ]
     },
     "execution_count": 110,
     "metadata": {},
     "output_type": "execute_result"
    }
   ],
   "source": [
    "random_search.best_estimator_"
   ]
  },
  {
   "cell_type": "code",
   "execution_count": 111,
   "metadata": {},
   "outputs": [
    {
     "data": {
      "text/plain": [
       "[(\"('below_min', 'Bicarbonate - Blood - Chemistry')\", 0.05281621),\n",
       " (\"('abn_percent', 'Chloride - Blood - Chemistry')\", 0.047526844),\n",
       " (\"('abn_percent', 'Calcium, Total - Blood - Chemistry')\", 0.04134939),\n",
       " (\"('below_min', 'Phosphate - Blood - Chemistry')\", 0.033429645),\n",
       " (\"('below_min', 'Creatine Kinase, MB Isoenzyme - Blood - Chemistry')\",\n",
       "  0.02567526),\n",
       " (\"('max', 'Hematocrit - Blood - Hematology')\", 0.024168396),\n",
       " (\"('abn_percent', 'MCH - Blood - Hematology')\", 0.023447003),\n",
       " (\"('below_min', 'Troponin T - Blood - Chemistry')\", 0.021248553),\n",
       " (\"('below_min', 'Urea Nitrogen - Blood - Chemistry')\", 0.02029735),\n",
       " (\"('abn_percent', 'Estimated GFR (MDRD equation) - Blood - Chemistry')\",\n",
       "  0.018996218),\n",
       " (\"('min', 'Troponin T - Blood - Chemistry')\", 0.01799234),\n",
       " (\"('min', 'White Blood Cells - Blood - Hematology')\", 0.017296018),\n",
       " (\"('abn_percent', 'Potassium - Blood - Chemistry')\", 0.017278396),\n",
       " (\"('abn_percent', 'MCV - Blood - Hematology')\", 0.01679339),\n",
       " (\"('max', 'Anion Gap - Blood - Chemistry')\", 0.016744401),\n",
       " (\"('abn_percent', 'RDW - Blood - Hematology')\", 0.01641593),\n",
       " (\"('min', 'MCV - Blood - Hematology')\", 0.016049102),\n",
       " (\"('below_min', 'Potassium - Blood - Chemistry')\", 0.01589506),\n",
       " (\"('below_min', 'Anion Gap - Blood - Chemistry')\", 0.015559392),\n",
       " (\"('min', 'Platelet Count - Blood - Hematology')\", 0.015534831),\n",
       " (\"('abn_percent', 'Creatinine - Blood - Chemistry')\", 0.015414021),\n",
       " (\"('abn_percent', 'Hemoglobin - Blood - Hematology')\", 0.015174248),\n",
       " (\"('min', 'Creatine Kinase, MB Isoenzyme - Blood - Chemistry')\", 0.015136432),\n",
       " (\"('abn_percent', 'Glucose - Blood - Chemistry')\", 0.014891423),\n",
       " (\"('abn_percent', 'Red Blood Cells - Blood - Hematology')\", 0.014567569),\n",
       " (\"('below_min', 'Sodium - Blood - Chemistry')\", 0.014541682),\n",
       " (\"('abn_percent', 'Sodium - Blood - Chemistry')\", 0.0141756935),\n",
       " (\"('mean', 'Magnesium - Blood - Chemistry')\", 0.01406907),\n",
       " (\"('min', 'RDW - Blood - Hematology')\", 0.013983597),\n",
       " (\"('max', 'Estimated GFR (MDRD equation) - Blood - Chemistry')\", 0.013918263),\n",
       " (\"('below_min', 'Creatinine - Blood - Chemistry')\", 0.0137967),\n",
       " (\"('abn_percent', 'Anion Gap - Blood - Chemistry')\", 0.013728053),\n",
       " (\"('min', 'Urea Nitrogen - Blood - Chemistry')\", 0.013633659),\n",
       " (\"('max', 'MCHC - Blood - Hematology')\", 0.013604515),\n",
       " (\"('min', 'Creatinine - Blood - Chemistry')\", 0.013441769),\n",
       " (\"('max', 'Calcium, Total - Blood - Chemistry')\", 0.01344129),\n",
       " (\"('max', 'Sodium - Blood - Chemistry')\", 0.01343853),\n",
       " (\"('abn_percent', 'PT - Blood - Hematology')\", 0.013431988),\n",
       " (\"('below_min', 'Chloride - Blood - Chemistry')\", 0.013415937),\n",
       " (\"('abn_percent', 'MCHC - Blood - Hematology')\", 0.013409035),\n",
       " (\"('min', 'Potassium - Blood - Chemistry')\", 0.013264701),\n",
       " (\"('below_min', 'Magnesium - Blood - Chemistry')\", 0.0131385485),\n",
       " (\"('abn_percent', 'Urea Nitrogen - Blood - Chemistry')\", 0.013026928),\n",
       " (\"('abn_percent', 'White Blood Cells - Blood - Hematology')\", 0.01295272),\n",
       " (\"('abn_percent', 'Phosphate - Blood - Chemistry')\", 0.012844331),\n",
       " (\"('abn_percent', 'Creatine Kinase, MB Isoenzyme - Blood - Chemistry')\",\n",
       "  0.0128424205),\n",
       " (\"('max', 'Bicarbonate - Blood - Chemistry')\", 0.012713049),\n",
       " (\"('abn_percent', 'Magnesium - Blood - Chemistry')\", 0.012622996),\n",
       " (\"('min', 'PT - Blood - Hematology')\", 0.012417766),\n",
       " (\"('below_min', 'Calcium, Total - Blood - Chemistry')\", 0.01224981),\n",
       " (\"('abn_percent', 'Bicarbonate - Blood - Chemistry')\", 0.012084645),\n",
       " (\"('below_min', 'Glucose - Blood - Chemistry')\", 0.012056255),\n",
       " (\"('min', 'Phosphate - Blood - Chemistry')\", 0.012032979),\n",
       " (\"('abn_percent', 'Hematocrit - Blood - Hematology')\", 0.012021862),\n",
       " (\"('min', 'Bilirubin - Urine - Hematology')\", 0.011849903),\n",
       " (\"('abn_percent', 'Platelet Count - Blood - Hematology')\", 0.011802555),\n",
       " (\"('min', 'Glucose - Blood - Chemistry')\", 0.0114342645),\n",
       " (\"('min', 'Anion Gap - Blood - Chemistry')\", 0.011184229),\n",
       " (\"('abn_percent', 'Troponin T - Blood - Chemistry')\", 0.010939956),\n",
       " (\"('abn_percent', 'Bilirubin - Urine - Hematology')\", 0.010792909)]"
      ]
     },
     "execution_count": 111,
     "metadata": {},
     "output_type": "execute_result"
    }
   ],
   "source": [
    "# Get most important features\n",
    "tree_final = random_search.best_estimator_\n",
    "feature_importance = tree_final.feature_importances_\n",
    "feature_importance = list(zip(X_train.columns, feature_importance))\n",
    "\n",
    "feature_importance.sort(key = lambda x: x[1], reverse = True)\n",
    "feature_importance"
   ]
  },
  {
   "cell_type": "code",
   "execution_count": 113,
   "metadata": {},
   "outputs": [
    {
     "name": "stdout",
     "output_type": "stream",
     "text": [
      "Accuracy Score: 86.50%\n",
      "_______________________________________________\n",
      "Classification Report:\tPrecision Score: 63.03%\n",
      "\t\t\tRecall Score: 23.36%\n",
      "\t\t\tF1 score: 34.09%\n",
      "_______________________________________________\n",
      "Confusion Matrix: \n",
      " [[1783   44]\n",
      " [ 246   75]]\n",
      "\n"
     ]
    }
   ],
   "source": [
    "X_XGB_test_reduced = rfecv.transform(X_test)\n",
    "\n",
    "pred = tree_final.predict(X_XGB_test_reduced, ntree_limit=cvresult.shape[0])\n",
    "\n",
    "print(f\"Accuracy Score: {accuracy_score(y_test, pred) * 100:.2f}%\")\n",
    "print(\"_______________________________________________\")\n",
    "print(\"Classification Report:\", end='')\n",
    "print(f\"\\tPrecision Score: {precision_score(y_test, pred) * 100:.2f}%\")\n",
    "print(f\"\\t\\t\\tRecall Score: {recall_score(y_test, pred) * 100:.2f}%\")\n",
    "print(f\"\\t\\t\\tF1 score: {f1_score(y_test, pred) * 100:.2f}%\")\n",
    "print(\"_______________________________________________\")\n",
    "print(f\"Confusion Matrix: \\n {confusion_matrix(y_test, pred)}\\n\")"
   ]
  },
  {
   "cell_type": "code",
   "execution_count": 115,
   "metadata": {},
   "outputs": [
    {
     "data": {
      "image/png": "[encoded data removed]",
      "text/plain": [
       "<Figure size 432x288 with 1 Axes>"
      ]
     },
     "metadata": {
      "needs_background": "light"
     },
     "output_type": "display_data"
    }
   ],
   "source": [
    "svc_disp = plot_roc_curve(tree_final, X_XGB_test_reduced, y_test)\n",
    "plt.show()"
   ]
  },
  {
   "cell_type": "code",
   "execution_count": 123,
   "metadata": {},
   "outputs": [
    {
     "name": "stdout",
     "output_type": "stream",
     "text": [
      "Confusion Matrix: \n",
      " [[1071  756]\n",
      " [  30  291]]\n",
      "\n"
     ]
    }
   ],
   "source": [
    "pred_thres = np.where(random_search.best_estimator_.predict_proba(X_XGB_test_reduced)[:,1]>0.05275,1,0)\n",
    "\n",
    "print(f\"Confusion Matrix: \\n {confusion_matrix(y_test, pred_thres)}\\n\")\n"
   ]
  },
  {
   "cell_type": "code",
   "execution_count": 129,
   "metadata": {},
   "outputs": [
    {
     "data": {
      "text/html": [
       "<div>\n",
       "<style scoped>\n",
       "    .dataframe tbody tr th:only-of-type {\n",
       "        vertical-align: middle;\n",
       "    }\n",
       "\n",
       "    .dataframe tbody tr th {\n",
       "        vertical-align: top;\n",
       "    }\n",
       "\n",
       "    .dataframe thead th {\n",
       "        text-align: right;\n",
       "    }\n",
       "</style>\n",
       "<table border=\"1\" class=\"dataframe\">\n",
       "  <thead>\n",
       "    <tr style=\"text-align: right;\">\n",
       "      <th></th>\n",
       "      <th>Threshold</th>\n",
       "      <th>F1</th>\n",
       "      <th>ROC_AUC</th>\n",
       "      <th>Recall</th>\n",
       "      <th>Accuracy</th>\n",
       "      <th>Precision</th>\n",
       "    </tr>\n",
       "  </thead>\n",
       "  <tbody>\n",
       "    <tr>\n",
       "      <th>0</th>\n",
       "      <td>0.030526</td>\n",
       "      <td>0.384089</td>\n",
       "      <td>0.713383</td>\n",
       "      <td>0.962617</td>\n",
       "      <td>0.538641</td>\n",
       "      <td>0.239907</td>\n",
       "    </tr>\n",
       "    <tr>\n",
       "      <th>1</th>\n",
       "      <td>0.030706</td>\n",
       "      <td>0.384089</td>\n",
       "      <td>0.713383</td>\n",
       "      <td>0.962617</td>\n",
       "      <td>0.538641</td>\n",
       "      <td>0.239907</td>\n",
       "    </tr>\n",
       "    <tr>\n",
       "      <th>2</th>\n",
       "      <td>0.030886</td>\n",
       "      <td>0.384328</td>\n",
       "      <td>0.713657</td>\n",
       "      <td>0.962617</td>\n",
       "      <td>0.539106</td>\n",
       "      <td>0.240093</td>\n",
       "    </tr>\n",
       "    <tr>\n",
       "      <th>3</th>\n",
       "      <td>0.031066</td>\n",
       "      <td>0.384040</td>\n",
       "      <td>0.712920</td>\n",
       "      <td>0.959502</td>\n",
       "      <td>0.540037</td>\n",
       "      <td>0.240062</td>\n",
       "    </tr>\n",
       "    <tr>\n",
       "      <th>4</th>\n",
       "      <td>0.031246</td>\n",
       "      <td>0.384519</td>\n",
       "      <td>0.713467</td>\n",
       "      <td>0.959502</td>\n",
       "      <td>0.540968</td>\n",
       "      <td>0.240437</td>\n",
       "    </tr>\n",
       "    <tr>\n",
       "      <th>5</th>\n",
       "      <td>0.031426</td>\n",
       "      <td>0.384760</td>\n",
       "      <td>0.713741</td>\n",
       "      <td>0.959502</td>\n",
       "      <td>0.541434</td>\n",
       "      <td>0.240625</td>\n",
       "    </tr>\n",
       "    <tr>\n",
       "      <th>6</th>\n",
       "      <td>0.031606</td>\n",
       "      <td>0.385000</td>\n",
       "      <td>0.714015</td>\n",
       "      <td>0.959502</td>\n",
       "      <td>0.541899</td>\n",
       "      <td>0.240813</td>\n",
       "    </tr>\n",
       "    <tr>\n",
       "      <th>7</th>\n",
       "      <td>0.031786</td>\n",
       "      <td>0.384471</td>\n",
       "      <td>0.713004</td>\n",
       "      <td>0.956386</td>\n",
       "      <td>0.542365</td>\n",
       "      <td>0.240596</td>\n",
       "    </tr>\n",
       "    <tr>\n",
       "      <th>8</th>\n",
       "      <td>0.031966</td>\n",
       "      <td>0.385194</td>\n",
       "      <td>0.713825</td>\n",
       "      <td>0.956386</td>\n",
       "      <td>0.543762</td>\n",
       "      <td>0.241163</td>\n",
       "    </tr>\n",
       "    <tr>\n",
       "      <th>9</th>\n",
       "      <td>0.032146</td>\n",
       "      <td>0.384422</td>\n",
       "      <td>0.712541</td>\n",
       "      <td>0.953271</td>\n",
       "      <td>0.543762</td>\n",
       "      <td>0.240755</td>\n",
       "    </tr>\n",
       "    <tr>\n",
       "      <th>10</th>\n",
       "      <td>0.032327</td>\n",
       "      <td>0.384131</td>\n",
       "      <td>0.711805</td>\n",
       "      <td>0.950156</td>\n",
       "      <td>0.544693</td>\n",
       "      <td>0.240726</td>\n",
       "    </tr>\n",
       "    <tr>\n",
       "      <th>11</th>\n",
       "      <td>0.032507</td>\n",
       "      <td>0.384615</td>\n",
       "      <td>0.712352</td>\n",
       "      <td>0.950156</td>\n",
       "      <td>0.545624</td>\n",
       "      <td>0.241107</td>\n",
       "    </tr>\n",
       "    <tr>\n",
       "      <th>12</th>\n",
       "      <td>0.032687</td>\n",
       "      <td>0.384858</td>\n",
       "      <td>0.712626</td>\n",
       "      <td>0.950156</td>\n",
       "      <td>0.546089</td>\n",
       "      <td>0.241297</td>\n",
       "    </tr>\n",
       "    <tr>\n",
       "      <th>13</th>\n",
       "      <td>0.032867</td>\n",
       "      <td>0.384858</td>\n",
       "      <td>0.712626</td>\n",
       "      <td>0.950156</td>\n",
       "      <td>0.546089</td>\n",
       "      <td>0.241297</td>\n",
       "    </tr>\n",
       "    <tr>\n",
       "      <th>14</th>\n",
       "      <td>0.033047</td>\n",
       "      <td>0.384324</td>\n",
       "      <td>0.711615</td>\n",
       "      <td>0.947040</td>\n",
       "      <td>0.546555</td>\n",
       "      <td>0.241079</td>\n",
       "    </tr>\n",
       "    <tr>\n",
       "      <th>15</th>\n",
       "      <td>0.033227</td>\n",
       "      <td>0.383787</td>\n",
       "      <td>0.710605</td>\n",
       "      <td>0.943925</td>\n",
       "      <td>0.547020</td>\n",
       "      <td>0.240859</td>\n",
       "    </tr>\n",
       "    <tr>\n",
       "      <th>16</th>\n",
       "      <td>0.033407</td>\n",
       "      <td>0.384030</td>\n",
       "      <td>0.710879</td>\n",
       "      <td>0.943925</td>\n",
       "      <td>0.547486</td>\n",
       "      <td>0.241050</td>\n",
       "    </tr>\n",
       "    <tr>\n",
       "      <th>17</th>\n",
       "      <td>0.033587</td>\n",
       "      <td>0.384762</td>\n",
       "      <td>0.711700</td>\n",
       "      <td>0.943925</td>\n",
       "      <td>0.548883</td>\n",
       "      <td>0.241627</td>\n",
       "    </tr>\n",
       "    <tr>\n",
       "      <th>18</th>\n",
       "      <td>0.033767</td>\n",
       "      <td>0.385251</td>\n",
       "      <td>0.712247</td>\n",
       "      <td>0.943925</td>\n",
       "      <td>0.549814</td>\n",
       "      <td>0.242013</td>\n",
       "    </tr>\n",
       "    <tr>\n",
       "      <th>19</th>\n",
       "      <td>0.033947</td>\n",
       "      <td>0.386233</td>\n",
       "      <td>0.713342</td>\n",
       "      <td>0.943925</td>\n",
       "      <td>0.551676</td>\n",
       "      <td>0.242788</td>\n",
       "    </tr>\n",
       "  </tbody>\n",
       "</table>\n",
       "</div>"
      ],
      "text/plain": [
       "    Threshold        F1   ROC_AUC    Recall  Accuracy  Precision\n",
       "0    0.030526  0.384089  0.713383  0.962617  0.538641   0.239907\n",
       "1    0.030706  0.384089  0.713383  0.962617  0.538641   0.239907\n",
       "2    0.030886  0.384328  0.713657  0.962617  0.539106   0.240093\n",
       "3    0.031066  0.384040  0.712920  0.959502  0.540037   0.240062\n",
       "4    0.031246  0.384519  0.713467  0.959502  0.540968   0.240437\n",
       "5    0.031426  0.384760  0.713741  0.959502  0.541434   0.240625\n",
       "6    0.031606  0.385000  0.714015  0.959502  0.541899   0.240813\n",
       "7    0.031786  0.384471  0.713004  0.956386  0.542365   0.240596\n",
       "8    0.031966  0.385194  0.713825  0.956386  0.543762   0.241163\n",
       "9    0.032146  0.384422  0.712541  0.953271  0.543762   0.240755\n",
       "10   0.032327  0.384131  0.711805  0.950156  0.544693   0.240726\n",
       "11   0.032507  0.384615  0.712352  0.950156  0.545624   0.241107\n",
       "12   0.032687  0.384858  0.712626  0.950156  0.546089   0.241297\n",
       "13   0.032867  0.384858  0.712626  0.950156  0.546089   0.241297\n",
       "14   0.033047  0.384324  0.711615  0.947040  0.546555   0.241079\n",
       "15   0.033227  0.383787  0.710605  0.943925  0.547020   0.240859\n",
       "16   0.033407  0.384030  0.710879  0.943925  0.547486   0.241050\n",
       "17   0.033587  0.384762  0.711700  0.943925  0.548883   0.241627\n",
       "18   0.033767  0.385251  0.712247  0.943925  0.549814   0.242013\n",
       "19   0.033947  0.386233  0.713342  0.943925  0.551676   0.242788"
      ]
     },
     "execution_count": 129,
     "metadata": {},
     "output_type": "execute_result"
    },
    {
     "data": {
      "image/png": "[encoded data removed]",
      "text/plain": [
       "<Figure size 432x288 with 1 Axes>"
      ]
     },
     "metadata": {
      "needs_background": "light"
     },
     "output_type": "display_data"
    }
   ],
   "source": [
    "threshold_list = np.linspace(0.030526,0.033947,20)\n",
    "change_threshold(random_search, threshold_list, X_XGB_test_reduced)"
   ]
  },
  {
   "cell_type": "markdown",
   "metadata": {},
   "source": [
    "## RFE and NearMiss with XGBoost"
   ]
  },
  {
   "cell_type": "code",
   "execution_count": 99,
   "metadata": {
    "scrolled": true
   },
   "outputs": [
    {
     "name": "stdout",
     "output_type": "stream",
     "text": [
      "Fitting estimator with 107 features.\n",
      "Fitting estimator with 106 features.\n",
      "Fitting estimator with 105 features.\n",
      "Fitting estimator with 104 features.\n",
      "Fitting estimator with 103 features.\n",
      "Fitting estimator with 102 features.\n",
      "Fitting estimator with 101 features.\n",
      "Fitting estimator with 100 features.\n",
      "Fitting estimator with 99 features.\n",
      "Fitting estimator with 98 features.\n",
      "Fitting estimator with 97 features.\n",
      "Fitting estimator with 96 features.\n",
      "Fitting estimator with 95 features.\n",
      "Fitting estimator with 94 features.\n",
      "Fitting estimator with 93 features.\n",
      "Fitting estimator with 92 features.\n",
      "Fitting estimator with 91 features.\n",
      "Fitting estimator with 90 features.\n",
      "Fitting estimator with 89 features.\n",
      "Fitting estimator with 88 features.\n",
      "Fitting estimator with 87 features.\n",
      "Fitting estimator with 86 features.\n",
      "Fitting estimator with 85 features.\n",
      "Fitting estimator with 84 features.\n",
      "Fitting estimator with 83 features.\n",
      "Fitting estimator with 82 features.\n",
      "Fitting estimator with 81 features.\n",
      "Fitting estimator with 80 features.\n",
      "Fitting estimator with 79 features.\n",
      "Fitting estimator with 78 features.\n",
      "Fitting estimator with 77 features.\n",
      "Fitting estimator with 76 features.\n",
      "Fitting estimator with 75 features.\n",
      "Fitting estimator with 74 features.\n",
      "Fitting estimator with 73 features.\n",
      "Fitting estimator with 72 features.\n",
      "Fitting estimator with 71 features.\n",
      "Fitting estimator with 70 features.\n",
      "Fitting estimator with 69 features.\n",
      "Fitting estimator with 68 features.\n",
      "Fitting estimator with 67 features.\n",
      "Fitting estimator with 66 features.\n",
      "Fitting estimator with 65 features.\n",
      "Fitting estimator with 64 features.\n",
      "Fitting estimator with 63 features.\n",
      "Fitting estimator with 62 features.\n",
      "Fitting estimator with 61 features.\n",
      "Fitting estimator with 60 features.\n",
      "Fitting estimator with 59 features.\n",
      "Fitting estimator with 58 features.\n",
      "Fitting estimator with 57 features.\n",
      "Fitting estimator with 56 features.\n",
      "Fitting estimator with 55 features.\n",
      "Fitting estimator with 54 features.\n",
      "Fitting estimator with 53 features.\n",
      "Fitting estimator with 52 features.\n",
      "Fitting estimator with 51 features.\n",
      "Fitting estimator with 50 features.\n",
      "Fitting estimator with 49 features.\n",
      "Fitting estimator with 48 features.\n",
      "Fitting estimator with 47 features.\n",
      "Fitting estimator with 46 features.\n",
      "Fitting estimator with 45 features.\n",
      "Fitting estimator with 44 features.\n",
      "Fitting estimator with 43 features.\n",
      "Fitting estimator with 42 features.\n",
      "Fitting estimator with 41 features.\n",
      "Fitting estimator with 40 features.\n",
      "Fitting estimator with 39 features.\n",
      "Fitting estimator with 38 features.\n",
      "Fitting estimator with 37 features.\n",
      "Fitting estimator with 36 features.\n",
      "Fitting estimator with 35 features.\n",
      "Fitting estimator with 34 features.\n",
      "CPU times: user 1min 11s, sys: 842 ms, total: 1min 12s\n",
      "Wall time: 2min 13s\n"
     ]
    }
   ],
   "source": [
    "%%time\n",
    "\n",
    "xgb = XGBClassifier(learning_rate=0.02, \n",
    "#                     n_estimators=600, \n",
    "                    objective='binary:logistic',\n",
    "                    silent=True, \n",
    "                    nthread=1)\n",
    "\n",
    "rfecv = RFECV(estimator=xgb, step=1, cv=StratifiedKFold(3),\n",
    "              scoring='roc_auc', verbose = 1, n_jobs = -1)\n",
    "rfecv.fit(X_res_under, y_res_under)\n",
    "\n",
    "X_XGB_reduced = rfecv.transform(X_res_under)"
   ]
  },
  {
   "cell_type": "code",
   "execution_count": 101,
   "metadata": {},
   "outputs": [
    {
     "name": "stdout",
     "output_type": "stream",
     "text": [
      "Fitting 5 folds for each of 10 candidates, totalling 50 fits\n"
     ]
    },
    {
     "name": "stderr",
     "output_type": "stream",
     "text": [
      "[Parallel(n_jobs=-1)]: Using backend LokyBackend with 12 concurrent workers.\n",
      "[Parallel(n_jobs=-1)]: Done   8 tasks      | elapsed:    8.0s\n",
      "[Parallel(n_jobs=-1)]: Done  44 out of  50 | elapsed:   26.2s remaining:    3.6s\n",
      "[Parallel(n_jobs=-1)]: Done  50 out of  50 | elapsed:   27.4s finished\n"
     ]
    },
    {
     "name": "stdout",
     "output_type": "stream",
     "text": [
      "CPU times: user 5.59 s, sys: 47.3 ms, total: 5.64 s\n",
      "Wall time: 32.9 s\n"
     ]
    },
    {
     "data": {
      "text/plain": [
       "RandomizedSearchCV(cv=5,\n",
       "                   estimator=XGBClassifier(learning_rate=0.02, nthread=1,\n",
       "                                           silent=True),\n",
       "                   n_jobs=-1,\n",
       "                   param_distributions={'colsample_bytree': [0.6, 0.8, 1.0],\n",
       "                                        'gamma': [0.5, 1, 1.5, 2, 5],\n",
       "                                        'max_depth': range(90, 150, 15),\n",
       "                                        'min_child_weight': [1, 5, 10],\n",
       "                                        'n_estimators': range(550, 900, 50),\n",
       "                                        'subsample': [0.6, 0.8, 1.0]},\n",
       "                   random_state=0, scoring='roc_auc', verbose=3)"
      ]
     },
     "execution_count": 101,
     "metadata": {},
     "output_type": "execute_result"
    }
   ],
   "source": [
    "%%time\n",
    "\n",
    "params = {\n",
    "        'min_child_weight': [1, 5, 10],\n",
    "        'gamma': [0.5, 1, 1.5, 2, 5],\n",
    "        'subsample': [0.6, 0.8, 1.0],\n",
    "        'colsample_bytree': [0.6, 0.8, 1.0],\n",
    "        'n_estimators': range(550,900,50),\n",
    "        'max_depth': range(90,150,15)\n",
    "        }\n",
    "\n",
    "random_search = RandomizedSearchCV(xgb, \n",
    "                                   param_distributions=params, \n",
    "                                   scoring='roc_auc', \n",
    "                                   n_jobs=-1, \n",
    "                                   cv=5, \n",
    "                                   verbose=3, \n",
    "                                   random_state=0 )\n",
    "\n",
    "random_search.fit(X_XGB_reduced, y_res_under)\n"
   ]
  },
  {
   "cell_type": "code",
   "execution_count": 103,
   "metadata": {},
   "outputs": [
    {
     "name": "stdout",
     "output_type": "stream",
     "text": [
      "Accuracy Score: 49.02%\n",
      "_______________________________________________\n",
      "Classification Report:\tPrecision Score: 21.75%\n",
      "\t\t\tRecall Score: 92.83%\n",
      "\t\t\tF1 score: 35.25%\n",
      "_______________________________________________\n",
      "Confusion Matrix: \n",
      " [[ 755 1072]\n",
      " [  23  298]]\n",
      "\n"
     ]
    },
    {
     "data": {
      "image/png": "[encoded data removed]",
      "text/plain": [
       "<Figure size 432x288 with 1 Axes>"
      ]
     },
     "metadata": {
      "needs_background": "light"
     },
     "output_type": "display_data"
    }
   ],
   "source": [
    "X_XGB_test_reduced = rfecv.transform(X_test)\n",
    "\n",
    "pred = random_search.best_estimator_.predict(X_XGB_test_reduced, ntree_limit=cvresult.shape[0])\n",
    "\n",
    "print(f\"Accuracy Score: {accuracy_score(y_test, pred) * 100:.2f}%\")\n",
    "print(\"_______________________________________________\")\n",
    "print(\"Classification Report:\", end='')\n",
    "print(f\"\\tPrecision Score: {precision_score(y_test, pred) * 100:.2f}%\")\n",
    "print(f\"\\t\\t\\tRecall Score: {recall_score(y_test, pred) * 100:.2f}%\")\n",
    "print(f\"\\t\\t\\tF1 score: {f1_score(y_test, pred) * 100:.2f}%\")\n",
    "print(\"_______________________________________________\")\n",
    "print(f\"Confusion Matrix: \\n {confusion_matrix(y_test, pred)}\\n\")\n",
    "\n",
    "svc_disp = plot_roc_curve(tree_final, X_test_reduced, y_test)\n",
    "plt.show()"
   ]
  },
  {
   "cell_type": "code",
   "execution_count": 119,
   "metadata": {
    "scrolled": true
   },
   "outputs": [
    {
     "data": {
      "text/html": [
       "<div>\n",
       "<style scoped>\n",
       "    .dataframe tbody tr th:only-of-type {\n",
       "        vertical-align: middle;\n",
       "    }\n",
       "\n",
       "    .dataframe tbody tr th {\n",
       "        vertical-align: top;\n",
       "    }\n",
       "\n",
       "    .dataframe thead th {\n",
       "        text-align: right;\n",
       "    }\n",
       "</style>\n",
       "<table border=\"1\" class=\"dataframe\">\n",
       "  <thead>\n",
       "    <tr style=\"text-align: right;\">\n",
       "      <th></th>\n",
       "      <th>Threshold</th>\n",
       "      <th>F1</th>\n",
       "      <th>ROC_AUC</th>\n",
       "      <th>Recall</th>\n",
       "      <th>Accuracy</th>\n",
       "      <th>Precision</th>\n",
       "    </tr>\n",
       "  </thead>\n",
       "  <tbody>\n",
       "    <tr>\n",
       "      <th>0</th>\n",
       "      <td>0.010000</td>\n",
       "      <td>0.308506</td>\n",
       "      <td>0.606185</td>\n",
       "      <td>1.000000</td>\n",
       "      <td>0.330074</td>\n",
       "      <td>0.182386</td>\n",
       "    </tr>\n",
       "    <tr>\n",
       "      <th>1</th>\n",
       "      <td>0.064444</td>\n",
       "      <td>0.446556</td>\n",
       "      <td>0.758628</td>\n",
       "      <td>0.878505</td>\n",
       "      <td>0.674581</td>\n",
       "      <td>0.299363</td>\n",
       "    </tr>\n",
       "    <tr>\n",
       "      <th>2</th>\n",
       "      <td>0.118889</td>\n",
       "      <td>0.500501</td>\n",
       "      <td>0.772276</td>\n",
       "      <td>0.778816</td>\n",
       "      <td>0.767691</td>\n",
       "      <td>0.368732</td>\n",
       "    </tr>\n",
       "    <tr>\n",
       "      <th>3</th>\n",
       "      <td>0.173333</td>\n",
       "      <td>0.529833</td>\n",
       "      <td>0.765061</td>\n",
       "      <td>0.691589</td>\n",
       "      <td>0.816574</td>\n",
       "      <td>0.429400</td>\n",
       "    </tr>\n",
       "    <tr>\n",
       "      <th>4</th>\n",
       "      <td>0.227778</td>\n",
       "      <td>0.515354</td>\n",
       "      <td>0.736310</td>\n",
       "      <td>0.601246</td>\n",
       "      <td>0.831006</td>\n",
       "      <td>0.450935</td>\n",
       "    </tr>\n",
       "    <tr>\n",
       "      <th>5</th>\n",
       "      <td>0.282222</td>\n",
       "      <td>0.499266</td>\n",
       "      <td>0.712800</td>\n",
       "      <td>0.529595</td>\n",
       "      <td>0.841248</td>\n",
       "      <td>0.472222</td>\n",
       "    </tr>\n",
       "    <tr>\n",
       "      <th>6</th>\n",
       "      <td>0.336667</td>\n",
       "      <td>0.478191</td>\n",
       "      <td>0.689479</td>\n",
       "      <td>0.461059</td>\n",
       "      <td>0.849628</td>\n",
       "      <td>0.496644</td>\n",
       "    </tr>\n",
       "    <tr>\n",
       "      <th>7</th>\n",
       "      <td>0.391111</td>\n",
       "      <td>0.469965</td>\n",
       "      <td>0.676514</td>\n",
       "      <td>0.414330</td>\n",
       "      <td>0.860335</td>\n",
       "      <td>0.542857</td>\n",
       "    </tr>\n",
       "    <tr>\n",
       "      <th>8</th>\n",
       "      <td>0.445556</td>\n",
       "      <td>0.458647</td>\n",
       "      <td>0.665674</td>\n",
       "      <td>0.380062</td>\n",
       "      <td>0.865922</td>\n",
       "      <td>0.578199</td>\n",
       "    </tr>\n",
       "    <tr>\n",
       "      <th>9</th>\n",
       "      <td>0.500000</td>\n",
       "      <td>0.427419</td>\n",
       "      <td>0.646226</td>\n",
       "      <td>0.330218</td>\n",
       "      <td>0.867784</td>\n",
       "      <td>0.605714</td>\n",
       "    </tr>\n",
       "  </tbody>\n",
       "</table>\n",
       "</div>"
      ],
      "text/plain": [
       "   Threshold        F1   ROC_AUC    Recall  Accuracy  Precision\n",
       "0   0.010000  0.308506  0.606185  1.000000  0.330074   0.182386\n",
       "1   0.064444  0.446556  0.758628  0.878505  0.674581   0.299363\n",
       "2   0.118889  0.500501  0.772276  0.778816  0.767691   0.368732\n",
       "3   0.173333  0.529833  0.765061  0.691589  0.816574   0.429400\n",
       "4   0.227778  0.515354  0.736310  0.601246  0.831006   0.450935\n",
       "5   0.282222  0.499266  0.712800  0.529595  0.841248   0.472222\n",
       "6   0.336667  0.478191  0.689479  0.461059  0.849628   0.496644\n",
       "7   0.391111  0.469965  0.676514  0.414330  0.860335   0.542857\n",
       "8   0.445556  0.458647  0.665674  0.380062  0.865922   0.578199\n",
       "9   0.500000  0.427419  0.646226  0.330218  0.867784   0.605714"
      ]
     },
     "execution_count": 119,
     "metadata": {},
     "output_type": "execute_result"
    },
    {
     "data": {
      "image/png": "[encoded data removed]",
      "text/plain": [
       "<Figure size 432x288 with 1 Axes>"
      ]
     },
     "metadata": {
      "needs_background": "light"
     },
     "output_type": "display_data"
    }
   ],
   "source": [
    "threshold_list = np.linspace(0.01,0.5,10)\n",
    "change_threshold(random_search, threshold_list, X_XGB_test_reduced)"
   ]
  },
  {
   "cell_type": "markdown",
   "metadata": {},
   "source": [
    "## Future Predictions with XGBoost"
   ]
  },
  {
   "cell_type": "code",
   "execution_count": 147,
   "metadata": {},
   "outputs": [],
   "source": [
    "# sample_labs_imputed = pd.read_pickle(\"data/sample_labs_imputed.pkl\")\n",
    "sample_labs_imputed = pd.read_csv('./data/sample_labs_imputed.csv.gz', compression='gzip')"
   ]
  },
  {
   "cell_type": "code",
   "execution_count": 151,
   "metadata": {},
   "outputs": [
    {
     "data": {
      "text/plain": [
       "0.0    6448\n",
       "1.0    1167\n",
       "Name: pos_subj, dtype: int64"
      ]
     },
     "execution_count": 151,
     "metadata": {},
     "output_type": "execute_result"
    }
   ],
   "source": [
    "sample_labs_imputed.pos_subj.value_counts()"
   ]
  },
  {
   "cell_type": "code",
   "execution_count": 152,
   "metadata": {},
   "outputs": [],
   "source": [
    "model_cols = ~sample_labs_imputed.columns.isin(['subject_id', 'hadm_id', 'Unnamed: 0', 'pos_subj'])\n",
    "\n",
    "hadm_features = sample_labs_imputed.loc[:, model_cols]\n",
    "hadm_target = sample_labs_imputed.loc[:, 'pos_subj']"
   ]
  },
  {
   "cell_type": "code",
   "execution_count": 153,
   "metadata": {},
   "outputs": [],
   "source": [
    "X_train, X_test, y_train, y_test = train_test_split(hadm_features, hadm_target, stratify=hadm_target, random_state=0)\n",
    "\n"
   ]
  },
  {
   "cell_type": "code",
   "execution_count": 155,
   "metadata": {},
   "outputs": [
    {
     "name": "stdout",
     "output_type": "stream",
     "text": [
      "Fitting 5 folds for each of 10 candidates, totalling 50 fits\n"
     ]
    },
    {
     "name": "stderr",
     "output_type": "stream",
     "text": [
      "[Parallel(n_jobs=-1)]: Using backend LokyBackend with 12 concurrent workers.\n",
      "[Parallel(n_jobs=-1)]: Done   8 tasks      | elapsed:  1.0min\n",
      "[Parallel(n_jobs=-1)]: Done  44 out of  50 | elapsed:  3.8min remaining:   31.3s\n",
      "[Parallel(n_jobs=-1)]: Done  50 out of  50 | elapsed:  4.0min finished\n"
     ]
    },
    {
     "name": "stdout",
     "output_type": "stream",
     "text": [
      "CPU times: user 27.5 s, sys: 191 ms, total: 27.7 s\n",
      "Wall time: 4min 26s\n"
     ]
    },
    {
     "data": {
      "text/plain": [
       "RandomizedSearchCV(cv=5,\n",
       "                   estimator=XGBClassifier(learning_rate=0.02, nthread=1,\n",
       "                                           silent=True),\n",
       "                   n_jobs=-1,\n",
       "                   param_distributions={'colsample_bytree': [0.6, 0.8, 1.0],\n",
       "                                        'gamma': [0.5, 1, 1.5, 2, 5],\n",
       "                                        'max_depth': range(90, 150, 15),\n",
       "                                        'min_child_weight': [1, 5, 10],\n",
       "                                        'n_estimators': range(550, 900, 50),\n",
       "                                        'subsample': [0.6, 0.8, 1.0]},\n",
       "                   random_state=0, scoring='roc_auc', verbose=3)"
      ]
     },
     "execution_count": 155,
     "metadata": {},
     "output_type": "execute_result"
    }
   ],
   "source": [
    "%%time\n",
    "\n",
    "params = {\n",
    "        'min_child_weight': [1, 5, 10],\n",
    "        'gamma': [0.5, 1, 1.5, 2, 5],\n",
    "        'subsample': [0.6, 0.8, 1.0],\n",
    "        'colsample_bytree': [0.6, 0.8, 1.0],\n",
    "        'n_estimators': range(550,900,50),\n",
    "        'max_depth': range(90,150,15)\n",
    "        }\n",
    "\n",
    "random_search = RandomizedSearchCV(xgb, \n",
    "                                   param_distributions=params, \n",
    "                                   scoring='roc_auc', \n",
    "                                   n_jobs=-1, \n",
    "                                   cv=5, \n",
    "                                   verbose=3, \n",
    "                                   random_state=0 )\n",
    "\n",
    "random_search.fit(X_train, y_train)\n"
   ]
  },
  {
   "cell_type": "code",
   "execution_count": 157,
   "metadata": {},
   "outputs": [
    {
     "name": "stdout",
     "output_type": "stream",
     "text": [
      "Accuracy Score: 84.82%\n",
      "_______________________________________________\n",
      "Classification Report:\tPrecision Score: 52.94%\n",
      "\t\t\tRecall Score: 9.25%\n",
      "\t\t\tF1 score: 15.74%\n",
      "_______________________________________________\n",
      "Confusion Matrix: \n",
      " [[1588   24]\n",
      " [ 265   27]]\n",
      "\n"
     ]
    },
    {
     "data": {
      "image/png": "[encoded data removed]",
      "text/plain": [
       "<Figure size 432x288 with 1 Axes>"
      ]
     },
     "metadata": {
      "needs_background": "light"
     },
     "output_type": "display_data"
    }
   ],
   "source": [
    "# X_XGB_test_reduced = rfecv.transform(X_test)\n",
    "\n",
    "pred = random_search.best_estimator_.predict(X_test, ntree_limit=cvresult.shape[0])\n",
    "\n",
    "print(f\"Accuracy Score: {accuracy_score(y_test, pred) * 100:.2f}%\")\n",
    "print(\"_______________________________________________\")\n",
    "print(\"Classification Report:\", end='')\n",
    "print(f\"\\tPrecision Score: {precision_score(y_test, pred) * 100:.2f}%\")\n",
    "print(f\"\\t\\t\\tRecall Score: {recall_score(y_test, pred) * 100:.2f}%\")\n",
    "print(f\"\\t\\t\\tF1 score: {f1_score(y_test, pred) * 100:.2f}%\")\n",
    "print(\"_______________________________________________\")\n",
    "print(f\"Confusion Matrix: \\n {confusion_matrix(y_test, pred)}\\n\")\n",
    "\n",
    "svc_disp = plot_roc_curve(random_search.best_estimator_, X_test, y_test)\n",
    "plt.show()"
   ]
  },
  {
   "cell_type": "code",
   "execution_count": 165,
   "metadata": {
    "scrolled": true
   },
   "outputs": [
    {
     "data": {
      "text/html": [
       "<div>\n",
       "<style scoped>\n",
       "    .dataframe tbody tr th:only-of-type {\n",
       "        vertical-align: middle;\n",
       "    }\n",
       "\n",
       "    .dataframe tbody tr th {\n",
       "        vertical-align: top;\n",
       "    }\n",
       "\n",
       "    .dataframe thead th {\n",
       "        text-align: right;\n",
       "    }\n",
       "</style>\n",
       "<table border=\"1\" class=\"dataframe\">\n",
       "  <thead>\n",
       "    <tr style=\"text-align: right;\">\n",
       "      <th></th>\n",
       "      <th>Threshold</th>\n",
       "      <th>F1</th>\n",
       "      <th>ROC_AUC</th>\n",
       "      <th>Recall</th>\n",
       "      <th>Accuracy</th>\n",
       "      <th>Precision</th>\n",
       "    </tr>\n",
       "  </thead>\n",
       "  <tbody>\n",
       "    <tr>\n",
       "      <th>0</th>\n",
       "      <td>0.033500</td>\n",
       "      <td>0.351828</td>\n",
       "      <td>0.662913</td>\n",
       "      <td>0.955479</td>\n",
       "      <td>0.460084</td>\n",
       "      <td>0.215611</td>\n",
       "    </tr>\n",
       "    <tr>\n",
       "      <th>1</th>\n",
       "      <td>0.033611</td>\n",
       "      <td>0.352273</td>\n",
       "      <td>0.663534</td>\n",
       "      <td>0.955479</td>\n",
       "      <td>0.461134</td>\n",
       "      <td>0.215944</td>\n",
       "    </tr>\n",
       "    <tr>\n",
       "      <th>2</th>\n",
       "      <td>0.033722</td>\n",
       "      <td>0.351232</td>\n",
       "      <td>0.661821</td>\n",
       "      <td>0.952055</td>\n",
       "      <td>0.460609</td>\n",
       "      <td>0.215337</td>\n",
       "    </tr>\n",
       "    <tr>\n",
       "      <th>3</th>\n",
       "      <td>0.033833</td>\n",
       "      <td>0.351232</td>\n",
       "      <td>0.661821</td>\n",
       "      <td>0.952055</td>\n",
       "      <td>0.460609</td>\n",
       "      <td>0.215337</td>\n",
       "    </tr>\n",
       "    <tr>\n",
       "      <th>4</th>\n",
       "      <td>0.033944</td>\n",
       "      <td>0.351899</td>\n",
       "      <td>0.662752</td>\n",
       "      <td>0.952055</td>\n",
       "      <td>0.462185</td>\n",
       "      <td>0.215839</td>\n",
       "    </tr>\n",
       "    <tr>\n",
       "      <th>5</th>\n",
       "      <td>0.034056</td>\n",
       "      <td>0.351077</td>\n",
       "      <td>0.661350</td>\n",
       "      <td>0.948630</td>\n",
       "      <td>0.462185</td>\n",
       "      <td>0.215397</td>\n",
       "    </tr>\n",
       "    <tr>\n",
       "      <th>6</th>\n",
       "      <td>0.034167</td>\n",
       "      <td>0.351077</td>\n",
       "      <td>0.661350</td>\n",
       "      <td>0.948630</td>\n",
       "      <td>0.462185</td>\n",
       "      <td>0.215397</td>\n",
       "    </tr>\n",
       "    <tr>\n",
       "      <th>7</th>\n",
       "      <td>0.034278</td>\n",
       "      <td>0.352417</td>\n",
       "      <td>0.663211</td>\n",
       "      <td>0.948630</td>\n",
       "      <td>0.465336</td>\n",
       "      <td>0.216406</td>\n",
       "    </tr>\n",
       "    <tr>\n",
       "      <th>8</th>\n",
       "      <td>0.034389</td>\n",
       "      <td>0.351592</td>\n",
       "      <td>0.661809</td>\n",
       "      <td>0.945205</td>\n",
       "      <td>0.465336</td>\n",
       "      <td>0.215962</td>\n",
       "    </tr>\n",
       "    <tr>\n",
       "      <th>9</th>\n",
       "      <td>0.034500</td>\n",
       "      <td>0.351592</td>\n",
       "      <td>0.661809</td>\n",
       "      <td>0.945205</td>\n",
       "      <td>0.465336</td>\n",
       "      <td>0.215962</td>\n",
       "    </tr>\n",
       "  </tbody>\n",
       "</table>\n",
       "</div>"
      ],
      "text/plain": [
       "   Threshold        F1   ROC_AUC    Recall  Accuracy  Precision\n",
       "0   0.033500  0.351828  0.662913  0.955479  0.460084   0.215611\n",
       "1   0.033611  0.352273  0.663534  0.955479  0.461134   0.215944\n",
       "2   0.033722  0.351232  0.661821  0.952055  0.460609   0.215337\n",
       "3   0.033833  0.351232  0.661821  0.952055  0.460609   0.215337\n",
       "4   0.033944  0.351899  0.662752  0.952055  0.462185   0.215839\n",
       "5   0.034056  0.351077  0.661350  0.948630  0.462185   0.215397\n",
       "6   0.034167  0.351077  0.661350  0.948630  0.462185   0.215397\n",
       "7   0.034278  0.352417  0.663211  0.948630  0.465336   0.216406\n",
       "8   0.034389  0.351592  0.661809  0.945205  0.465336   0.215962\n",
       "9   0.034500  0.351592  0.661809  0.945205  0.465336   0.215962"
      ]
     },
     "execution_count": 165,
     "metadata": {},
     "output_type": "execute_result"
    },
    {
     "data": {
      "image/png": "[encoded data removed]",
      "text/plain": [
       "<Figure size 432x288 with 1 Axes>"
      ]
     },
     "metadata": {
      "needs_background": "light"
     },
     "output_type": "display_data"
    }
   ],
   "source": [
    "threshold_list = np.linspace(0.0335,0.0345,10)\n",
    "change_threshold(random_search, threshold_list, X_test)"
   ]
  },
  {
   "cell_type": "code",
   "execution_count": 166,
   "metadata": {},
   "outputs": [
    {
     "data": {
      "text/plain": [
       "[('atherosclero', 0.043728404),\n",
       " ('age', 0.037398387),\n",
       " ('mean UreaNitrogen', 0.027692975),\n",
       " ('above_max UreaNitrogen', 0.025261048),\n",
       " ('hypertension', 0.020793442),\n",
       " ('below_min Creatinine', 0.018034616),\n",
       " ('diabetes', 0.017438713),\n",
       " ('mean Creatinine', 0.0171105),\n",
       " ('mean RDW', 0.016981374),\n",
       " ('above_max Creatinine', 0.01603859),\n",
       " ('below_min UreaNitrogen', 0.01547192),\n",
       " ('arrhythmia', 0.015305938),\n",
       " ('below_min Bicarbonate', 0.015050877),\n",
       " ('below_min MCH', 0.014985735),\n",
       " ('mean Bicarbonate', 0.014708021),\n",
       " ('mean MCHC', 0.014433593),\n",
       " ('above_max INR(PT)', 0.0141669875),\n",
       " ('above_max RDW', 0.014036348),\n",
       " ('above_max PT', 0.014029851),\n",
       " ('below_min Phosphate', 0.013717574),\n",
       " ('ethnicity_black/african american', 0.013650082),\n",
       " ('above_max BilirubinTotal', 0.013649977),\n",
       " ('mean MCH', 0.013637771),\n",
       " ('above_max PTT', 0.013630871),\n",
       " ('mean INR(PT)', 0.013504067),\n",
       " ('mean Phosphate', 0.013494982),\n",
       " ('above_max Chloride', 0.013493264),\n",
       " ('mean Chloride', 0.013462126),\n",
       " ('mean Hematocrit', 0.013336926),\n",
       " ('above_max RedBloodCells', 0.013313312),\n",
       " ('below_min RedBloodCells', 0.013297754),\n",
       " ('mean AnionGap', 0.013162904),\n",
       " ('mean PTT', 0.0131579),\n",
       " ('below_min Hemoglobin', 0.013132142),\n",
       " ('mean Hemoglobin', 0.013113008),\n",
       " ('mean Potassium', 0.013101096),\n",
       " ('mean PT', 0.013010204),\n",
       " ('mean PlateletCount', 0.012925384),\n",
       " ('mean BilirubinTotal', 0.012859126),\n",
       " ('mean Magnesium', 0.012778586),\n",
       " ('below_min MCHC', 0.012646014),\n",
       " ('sepsis', 0.01261333),\n",
       " ('above_max Phosphate', 0.012543002),\n",
       " ('above_max AlanineAminotransferase(ALT)', 0.012539581),\n",
       " ('below_min PTT', 0.012413792),\n",
       " ('mean MCV', 0.012375411),\n",
       " ('below_min Hematocrit', 0.012373993),\n",
       " ('mean RedBloodCells', 0.012314756),\n",
       " ('mean AlanineAminotransferase(ALT)', 0.012279055),\n",
       " ('above_max Potassium', 0.012084907),\n",
       " ('gender', 0.012082293),\n",
       " ('below_min PlateletCount', 0.012075312),\n",
       " ('above_max MCV', 0.011823191),\n",
       " ('above_max MCHC', 0.011741548),\n",
       " ('above_max Bicarbonate', 0.01173127),\n",
       " ('below_min Potassium', 0.011693787),\n",
       " ('above_max Magnesium', 0.011680143),\n",
       " ('below_min Chloride', 0.011648139),\n",
       " ('below_min Magnesium', 0.011273917),\n",
       " ('below_min PT', 0.01121979),\n",
       " ('below_min AnionGap', 0.011127148),\n",
       " ('above_max MCH', 0.010698437),\n",
       " ('ethnicity_hispanic/latino', 0.010566364),\n",
       " ('above_max AnionGap', 0.010491949),\n",
       " ('below_min MCV', 0.010112099),\n",
       " ('above_max Hematocrit', 0.009279358),\n",
       " ('above_max PlateletCount', 0.00895969),\n",
       " ('ethnicity_other', 0.008878171),\n",
       " ('ethnicity_unknown', 0.008506066),\n",
       " ('ethnicity_asian', 0.0076131374),\n",
       " ('renal_failure', 0.005497157),\n",
       " ('below_min INR(PT)', 0.0050210273),\n",
       " ('below_min AlanineAminotransferase(ALT)', 0.0),\n",
       " ('below_min BilirubinTotal', 0.0),\n",
       " ('below_min RDW', 0.0),\n",
       " ('above_max Hemoglobin', 0.0),\n",
       " ('pneumoia', 0.0),\n",
       " ('ethnicity_american indian/alaska native', 0.0)]"
      ]
     },
     "execution_count": 166,
     "metadata": {},
     "output_type": "execute_result"
    }
   ],
   "source": [
    "# Get most important features\n",
    "tree_final = random_search.best_estimator_\n",
    "feature_importance = tree_final.feature_importances_\n",
    "feature_importance = list(zip(X_train.columns, feature_importance))\n",
    "\n",
    "feature_importance.sort(key = lambda x: x[1], reverse = True)\n",
    "feature_importance"
   ]
  },
  {
   "cell_type": "code",
   "execution_count": 170,
   "metadata": {},
   "outputs": [
    {
     "data": {
      "text/plain": [
       "78"
      ]
     },
     "execution_count": 170,
     "metadata": {},
     "output_type": "execute_result"
    }
   ],
   "source": [
    "len(feature_importance)"
   ]
  },
  {
   "cell_type": "code",
   "execution_count": null,
   "metadata": {},
   "outputs": [],
   "source": []
  }
 ],
 "metadata": {
  "kernelspec": {
   "display_name": "Python 3",
   "language": "python",
   "name": "python3"
  },
  "language_info": {
   "codemirror_mode": {
    "name": "ipython",
    "version": 3
   },
   "file_extension": ".py",
   "mimetype": "text/x-python",
   "name": "python",
   "nbconvert_exporter": "python",
   "pygments_lexer": "ipython3",
   "version": "3.7.6"
  }
 },
 "nbformat": 4,
 "nbformat_minor": 4
}
