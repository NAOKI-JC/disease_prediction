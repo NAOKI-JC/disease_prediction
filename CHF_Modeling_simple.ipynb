{
 "cells": [
  {
   "cell_type": "code",
   "execution_count": 1,
   "metadata": {},
   "outputs": [],
   "source": [
    "import pandas as pd\n",
    "import pickle\n",
    "import numpy as np\n",
    "import matplotlib.pyplot as plt\n",
    "\n",
    "from sklearn.linear_model import LogisticRegression\n",
    "from sklearn.ensemble import GradientBoostingClassifier\n",
    "from sklearn.ensemble import RandomForestClassifier\n",
    "from sklearn.model_selection import GridSearchCV\n",
    "\n",
    "from sklearn.metrics import accuracy_score, confusion_matrix, precision_score, recall_score, f1_score\n",
    "from sklearn.metrics import plot_roc_curve\n",
    "\n",
    "from sklearn import model_selection\n",
    "from imblearn.over_sampling import SMOTE\n",
    "from imblearn.under_sampling import NearMiss"
   ]
  },
  {
   "cell_type": "code",
   "execution_count": 2,
   "metadata": {},
   "outputs": [],
   "source": [
    "pd.set_option('display.max_columns',None)"
   ]
  },
  {
   "cell_type": "markdown",
   "metadata": {},
   "source": [
    "## Import cleaned dataset"
   ]
  },
  {
   "cell_type": "code",
   "execution_count": 17,
   "metadata": {},
   "outputs": [],
   "source": [
    "pos_final_test = pd.read_csv('./pos_final_test.csv.gz', compression='gzip')\n",
    "\n",
    "model_cols = pos_final_test.columns.str.contains('abn') | pos_final_test.columns.isin(['gender', 'age','ethnicity_AMERICAN INDIAN/ALASKA NATIVE', 'ethnicity_ASIAN','ethnicity_BLACK/AFRICAN AMERICAN', 'ethnicity_HISPANIC/LATINO','ethnicity_OTHER', 'ethnicity_UNKNOWN'])\n",
    "hadm_features = pos_final_test.loc[:, model_cols]\n",
    "hadm_target = pos_final_test.loc[:, 'pos']"
   ]
  },
  {
   "cell_type": "code",
   "execution_count": 41,
   "metadata": {},
   "outputs": [
    {
     "name": "stderr",
     "output_type": "stream",
     "text": [
      "/Users/brandonryu/opt/anaconda3/lib/python3.7/site-packages/ipykernel_launcher.py:8: SettingWithCopyWarning: \n",
      "A value is trying to be set on a copy of a slice from a DataFrame.\n",
      "Try using .loc[row_indexer,col_indexer] = value instead\n",
      "\n",
      "See the caveats in the documentation: https://pandas.pydata.org/pandas-docs/stable/user_guide/indexing.html#returning-a-view-versus-a-copy\n",
      "  \n"
     ]
    }
   ],
   "source": [
    "# from sklearn import preprocessing\n",
    "# le = preprocessing.LabelEncoder()\n",
    "# hadm_features['ethnicity'] = le.fit_transform(hadm_features['ethnicity'])\n",
    "# hadm_features['gender'] = le.fit_transform(hadm_features['gender'])\n",
    "\n",
    "# from sklearn.preprocessing import StandardScaler\n",
    "# scaler = StandardScaler()\n",
    "# hadm_features['age'] = scaler.fit_transform(hadm_features['age'].values.reshape(-1, 1))"
   ]
  },
  {
   "cell_type": "markdown",
   "metadata": {},
   "source": [
    "## Train test split"
   ]
  },
  {
   "cell_type": "code",
   "execution_count": 43,
   "metadata": {},
   "outputs": [],
   "source": [
    "X_train, X_test, y_train, y_test = model_selection.train_test_split(hadm_features, hadm_target, test_size=.2, stratify=hadm_target, random_state=25)"
   ]
  },
  {
   "cell_type": "code",
   "execution_count": 44,
   "metadata": {},
   "outputs": [],
   "source": [
    "# Over and under sample the train set\n",
    "sm = SMOTE()\n",
    "X_res_over, y_res_over = sm.fit_resample(X_train, y_train)\n",
    "\n",
    "nm = NearMiss()\n",
    "X_res_under, y_res_under = nm.fit_resample(X_train, y_train)"
   ]
  },
  {
   "cell_type": "code",
   "execution_count": 46,
   "metadata": {},
   "outputs": [
    {
     "name": "stdout",
     "output_type": "stream",
     "text": [
      "Target=0:  7539\n",
      "Target=1:  1199\n"
     ]
    }
   ],
   "source": [
    "# check target counts\n",
    "print('Target=0: ',hadm_target[hadm_target==0].count())\n",
    "print('Target=1: ',hadm_target[hadm_target==1].count())"
   ]
  },
  {
   "cell_type": "code",
   "execution_count": 47,
   "metadata": {},
   "outputs": [],
   "source": [
    "def results(model):\n",
    "    '''\n",
    "    Function to report on the metrics of a GridSearch model.\n",
    "    Input: GridSearchCV model\n",
    "    Prints: CV score, best parameters, accuracy, precision, recall, F1, confusion matrix and ROCAUC\n",
    "    '''\n",
    "    \n",
    "#     cross validation scores\n",
    "    print(\"Cross Validation\")\n",
    "    print(\"-\" * 20)\n",
    "    print(\"Best parameter: \", model.best_params_)\n",
    "    print(\"Best CV score:  %.4f\" % model.best_score_)\n",
    "\n",
    "#     confusion matrix & related scores\n",
    "    pred = model.best_estimator_.predict(X_test)\n",
    "    print(f\"Accuracy Score: {accuracy_score(y_test, pred) * 100:.2f}%\")\n",
    "    print(\"_______________________________________________\")\n",
    "    print(\"Classification Report:\", end='')\n",
    "    print(f\"\\tPrecision Score: {precision_score(y_test, pred) * 100:.2f}%\")\n",
    "    print(f\"\\t\\t\\tRecall Score: {recall_score(y_test, pred) * 100:.2f}%\")\n",
    "    print(f\"\\t\\t\\tF1 score: {f1_score(y_test, pred) * 100:.2f}%\")\n",
    "    print(\"_______________________________________________\")\n",
    "    print(f\"Confusion Matrix: \\n {confusion_matrix(y_test, pred)}\\n\")\n",
    "    \n",
    "# #     ROCAUC\n",
    "#     if model.estimator.__class__== sklearn.linear_model._logistic.LogisticRegression:\n",
    "#         from sklearn.metrics import roc_curve, auc\n",
    "\n",
    "#         y_pred = model.best_estimator_.decision_function(X_test)\n",
    "#         fpr, tpr, threshold = roc_curve(y_test, y_pred)\n",
    "#         auc = auc(fpr, tpr)\n",
    "\n",
    "#         print(\"_______________________________________________\")\n",
    "#         print(f\"Area Under Curve: {auc:.2f}%\")\n",
    "\n",
    "#         svc_disp = plot_roc_curve(model, X_test, y_test)\n",
    "#         plt.show()\n",
    "#     else:\n",
    "#         print('not logistic')\n",
    "    svc_disp = plot_roc_curve(model, X_test, y_test)\n",
    "    plt.show()"
   ]
  },
  {
   "cell_type": "markdown",
   "metadata": {},
   "source": [
    "## Logistic Regression"
   ]
  },
  {
   "cell_type": "markdown",
   "metadata": {},
   "source": [
    "### Basic\n",
    "Try using just Abn%"
   ]
  },
  {
   "cell_type": "code",
   "execution_count": 48,
   "metadata": {},
   "outputs": [
    {
     "name": "stdout",
     "output_type": "stream",
     "text": [
      "Cross Validation\n",
      "--------------------\n",
      "Best parameter:  {'C': 1}\n",
      "Best CV score:  0.8139\n",
      "Accuracy Score: 80.09%\n",
      "_______________________________________________\n",
      "Classification Report:\tPrecision Score: 38.70%\n",
      "\t\t\tRecall Score: 77.08%\n",
      "\t\t\tF1 score: 51.53%\n",
      "_______________________________________________\n",
      "Confusion Matrix: \n",
      " [[1215  293]\n",
      " [  55  185]]\n",
      "\n"
     ]
    },
    {
     "data": {
      "image/png": "[encoded data removed]",
      "text/plain": [
       "<Figure size 432x288 with 1 Axes>"
      ]
     },
     "metadata": {
      "needs_background": "light"
     },
     "output_type": "display_data"
    },
    {
     "name": "stdout",
     "output_type": "stream",
     "text": [
      "CPU times: user 9min 6s, sys: 10.6 s, total: 9min 17s\n",
      "Wall time: 10min 5s\n"
     ]
    }
   ],
   "source": [
    "%%time\n",
    "\n",
    "params ={'C':range(1, 1000, 300)}\n",
    "logReg = LogisticRegression(penalty = 'l1', max_iter = 2000, class_weight = \"balanced\", solver = 'liblinear')\n",
    "\n",
    "grid_log = GridSearchCV(estimator = logReg, param_grid = params, cv = 3)\n",
    "grid_log.fit(X_train, y_train)\n",
    "grid_log.best_score_\n",
    "\n",
    "results(grid_log)"
   ]
  },
  {
   "cell_type": "code",
   "execution_count": 49,
   "metadata": {},
   "outputs": [
    {
     "data": {
      "text/plain": [
       "('max', 50931)            4.628910\n",
       "('above_max', 50931)      4.370680\n",
       "('above_max', 51274)      2.325014\n",
       "('max', 51274)            2.290221\n",
       "('above_max', 50911)      1.875918\n",
       "('max', 51237)            1.494607\n",
       "('above_max', 51237)      1.208170\n",
       "('max', 51006)            1.113521\n",
       "('mean', 50911)           1.099120\n",
       "('above_max', 51006)      1.034089\n",
       "('max', 50911)            0.925828\n",
       "('above_max', 50912)      0.919191\n",
       "('max', 50912)            0.764165\n",
       "('above_max', 51514)      0.697356\n",
       "('mean', 50902)           0.686636\n",
       "('above_max', 51277)      0.642939\n",
       "('mean', 51222)           0.641829\n",
       "age                       0.638106\n",
       "('min', 51221)            0.629613\n",
       "('min', 51279)            0.620897\n",
       "('max', 51514)            0.601722\n",
       "('mean', 51250)           0.600632\n",
       "('max', 50882)            0.597973\n",
       "('mean', 50970)           0.544205\n",
       "('max', 51222)            0.529938\n",
       "('max', 50970)            0.513694\n",
       "('mean', 51265)           0.500837\n",
       "('max', 51277)            0.496362\n",
       "('min', 51248)            0.489952\n",
       "('mean', 51237)           0.481268\n",
       "gender                    0.462336\n",
       "('min', 50931)            0.457222\n",
       "('min', 50893)            0.438897\n",
       "('mean', 51277)           0.432727\n",
       "('above_max', 50960)      0.421927\n",
       "('mean', 51221)           0.412286\n",
       "('abn_percent', 50931)    0.410608\n",
       "('mean', 50931)           0.397012\n",
       "('min', 51265)            0.361313\n",
       "('max', 50960)            0.359086\n",
       "('mean', 50878)           0.355973\n",
       "('mean', 51492)           0.354844\n",
       "('min', 50902)            0.349532\n",
       "('mean', 51478)           0.348180\n",
       "('mean', 50893)           0.347916\n",
       "('mean', 51274)           0.339304\n",
       "('mean', 51006)           0.319420\n",
       "('max', 51301)            0.318349\n",
       "('below_min', 51006)      0.313483\n",
       "('min', 50911)            0.312786\n",
       "dtype: float64"
      ]
     },
     "execution_count": 49,
     "metadata": {},
     "output_type": "execute_result"
    }
   ],
   "source": [
    "est_coefs = pd.Series(grid_log.best_estimator_.coef_[0], index=X_train.columns)\n",
    "\n",
    "sortedCoefs = np.abs(est_coefs).sort_values(ascending=False)\n",
    "sortedCoefs[sortedCoefs > 0].head(50)"
   ]
  },
  {
   "cell_type": "markdown",
   "metadata": {},
   "source": [
    "### Over Sampling using SMOTE"
   ]
  },
  {
   "cell_type": "code",
   "execution_count": 50,
   "metadata": {},
   "outputs": [
    {
     "name": "stdout",
     "output_type": "stream",
     "text": [
      "CPU times: user 6min 1s, sys: 6.4 s, total: 6min 7s\n",
      "Wall time: 6min 35s\n"
     ]
    },
    {
     "data": {
      "text/plain": [
       "0.841817584546801"
      ]
     },
     "execution_count": 50,
     "metadata": {},
     "output_type": "execute_result"
    }
   ],
   "source": [
    "%%time\n",
    "params ={'C':range(1, 1000, 300)}\n",
    "logReg = LogisticRegression(penalty = 'l1', max_iter = 2000, class_weight = \"balanced\", solver = 'liblinear')\n",
    "\n",
    "grid_log_over = GridSearchCV(estimator = logReg, param_grid = params, cv = 3)\n",
    "grid_log_over.fit(X_res_over, y_res_over)\n",
    "grid_log_over.best_score_"
   ]
  },
  {
   "cell_type": "code",
   "execution_count": 51,
   "metadata": {},
   "outputs": [
    {
     "name": "stdout",
     "output_type": "stream",
     "text": [
      "Cross Validation\n",
      "--------------------\n",
      "Best parameter:  {'C': 301}\n",
      "Best CV score:  0.8418\n",
      "Accuracy Score: 81.41%\n",
      "_______________________________________________\n",
      "Classification Report:\tPrecision Score: 40.23%\n",
      "\t\t\tRecall Score: 72.92%\n",
      "\t\t\tF1 score: 51.85%\n",
      "_______________________________________________\n",
      "Confusion Matrix: \n",
      " [[1248  260]\n",
      " [  65  175]]\n",
      "\n"
     ]
    },
    {
     "data": {
      "image/png": "[encoded data removed]",
      "text/plain": [
       "<Figure size 432x288 with 1 Axes>"
      ]
     },
     "metadata": {
      "needs_background": "light"
     },
     "output_type": "display_data"
    },
    {
     "data": {
      "text/plain": [
       "('max', 50931)            7.261986\n",
       "('above_max', 50931)      6.879963\n",
       "('max', 51274)            6.134778\n",
       "('above_max', 51274)      5.401901\n",
       "('max', 51237)            5.301566\n",
       "('above_max', 51237)      4.354405\n",
       "('max', 50861)            3.636481\n",
       "('above_max', 50861)      3.366922\n",
       "('mean', 51274)           2.479280\n",
       "('below_min', 51222)      2.357819\n",
       "('mean', 51237)           2.282629\n",
       "('above_max', 50911)      2.104058\n",
       "gender                    2.078676\n",
       "('mean', 51221)           1.948805\n",
       "('min', 51222)            1.837817\n",
       "('min', 51221)            1.799232\n",
       "('above_max', 50912)      1.727231\n",
       "('max', 50912)            1.706995\n",
       "('max', 50878)            1.447134\n",
       "('max', 51006)            1.438191\n",
       "('min', 51274)            1.437068\n",
       "('above_max', 51006)      1.424652\n",
       "('mean', 50911)           1.242730\n",
       "('min', 51237)            1.204851\n",
       "('above_max', 51514)      1.196649\n",
       "('max', 51514)            1.140737\n",
       "('mean', 50902)           1.090284\n",
       "('mean', 51478)           1.070918\n",
       "('mean', 50878)           1.051299\n",
       "('mean', 51222)           1.047105\n",
       "('mean', 51279)           1.030285\n",
       "('mean', 51277)           0.972679\n",
       "('max', 50911)            0.965074\n",
       "('below_min', 51221)      0.842705\n",
       "('max', 50882)            0.816161\n",
       "('above_max', 51277)      0.783584\n",
       "('mean', 50885)           0.755988\n",
       "('above_max', 50878)      0.753633\n",
       "age                       0.744560\n",
       "('min', 50931)            0.703843\n",
       "('max', 51222)            0.682217\n",
       "('mean', 50970)           0.682065\n",
       "('mean', 51265)           0.677700\n",
       "('max', 51279)            0.653467\n",
       "('mean', 50931)           0.627010\n",
       "('max', 50970)            0.611114\n",
       "('abn_percent', 51222)    0.583606\n",
       "('mean', 51006)           0.578885\n",
       "('max', 51221)            0.578130\n",
       "('max', 51275)            0.563930\n",
       "dtype: float64"
      ]
     },
     "execution_count": 51,
     "metadata": {},
     "output_type": "execute_result"
    }
   ],
   "source": [
    "results(grid_log_over)\n",
    "\n",
    "est_coefs = pd.Series(grid_log_over.best_estimator_.coef_[0], index=X_train.columns)\n",
    "sortedCoefs = np.abs(est_coefs).sort_values(ascending=False)\n",
    "sortedCoefs[sortedCoefs > 0].head(50)"
   ]
  },
  {
   "cell_type": "markdown",
   "metadata": {},
   "source": [
    "### Under Sampling using Near Miss"
   ]
  },
  {
   "cell_type": "code",
   "execution_count": null,
   "metadata": {},
   "outputs": [],
   "source": [
    "%%time\n",
    "params ={'C':range(1, 1000, 300)}\n",
    "logReg = LogisticRegression(penalty = 'l1', max_iter = 2000, class_weight = \"balanced\", solver = 'liblinear')\n",
    "\n",
    "grid_log_under = GridSearchCV(estimator = logReg, param_grid = params, cv = 3)\n",
    "grid_log_under.fit(X_res_under, y_res_under)\n",
    "grid_log_under.best_score_"
   ]
  },
  {
   "cell_type": "code",
   "execution_count": null,
   "metadata": {},
   "outputs": [],
   "source": [
    "results(grid_log_under)\n",
    "\n",
    "est_coefs = pd.Series(grid_log_under.best_estimator_.coef_[0], index=X_train.columns)\n",
    "sortedCoefs = np.abs(est_coefs).sort_values(ascending=False)\n",
    "sortedCoefs[sortedCoefs > 0].head(50)"
   ]
  },
  {
   "cell_type": "markdown",
   "metadata": {},
   "source": [
    "## Random Forest"
   ]
  },
  {
   "cell_type": "markdown",
   "metadata": {},
   "source": [
    "### Basic"
   ]
  },
  {
   "cell_type": "code",
   "execution_count": null,
   "metadata": {},
   "outputs": [],
   "source": [
    "%%time\n",
    "param_grid={'criterion': ['entropy','gini'],\n",
    "            'n_estimators': range(1,500,50),\n",
    "            'max_depth': range(10,110,20)\n",
    "            }\n",
    "\n",
    "grid_rf = model_selection.GridSearchCV(estimator = RandomForestClassifier(), param_grid = param_grid, cv=3)\n",
    "grid_rf.fit(X_train, y_train)"
   ]
  },
  {
   "cell_type": "code",
   "execution_count": null,
   "metadata": {},
   "outputs": [],
   "source": [
    "results(grid_rf)\n",
    "grid_rf.best_estimator_.feature_importances_"
   ]
  },
  {
   "cell_type": "markdown",
   "metadata": {},
   "source": [
    "### Over Sampling using SMOTE"
   ]
  },
  {
   "cell_type": "code",
   "execution_count": null,
   "metadata": {},
   "outputs": [],
   "source": [
    "%%time\n",
    "param_grid={'criterion': ['entropy','gini'],\n",
    "            'n_estimators': range(1,31,10),\n",
    "            'max_depth': range(10,110,20)\n",
    "            }\n",
    "\n",
    "grid_rf_over = model_selection.GridSearchCV(estimator = RandomForestClassifier(), param_grid = param_grid, cv=3)\n",
    "grid_rf_over.fit(X_res_over, y_res_over)\n",
    "\n",
    "results(grid_rf_over)"
   ]
  },
  {
   "cell_type": "markdown",
   "metadata": {},
   "source": [
    "### Under Sampling using Near Miss"
   ]
  },
  {
   "cell_type": "code",
   "execution_count": null,
   "metadata": {},
   "outputs": [],
   "source": [
    "%%time\n",
    "param_grid={'criterion': ['entropy','gini'],\n",
    "            'n_estimators': range(1,31,10),\n",
    "            'max_depth': range(10,110,20)\n",
    "            }\n",
    "\n",
    "grid_rf_under = model_selection.GridSearchCV(estimator = RandomForestClassifier(), param_grid = param_grid, cv=3)\n",
    "grid_rf_under.fit(X_res_under, y_res_under)\n",
    "\n",
    "results(grid_rf_under)"
   ]
  },
  {
   "cell_type": "markdown",
   "metadata": {},
   "source": [
    "## Gradient Boost"
   ]
  },
  {
   "cell_type": "code",
   "execution_count": null,
   "metadata": {},
   "outputs": [],
   "source": [
    "# additive approach using 1. n_estimators 2. max_depth, min_samples\n",
    "# perhaps use randomsearch instead of gridsearch\n",
    "# look at area under curve (AUC)"
   ]
  },
  {
   "cell_type": "markdown",
   "metadata": {},
   "source": [
    "### basic"
   ]
  },
  {
   "cell_type": "code",
   "execution_count": null,
   "metadata": {},
   "outputs": [],
   "source": [
    "%%time\n",
    "from sklearn.ensemble import GradientBoostingClassifier\n",
    "from sklearn.metrics import accuracy_score, confusion_matrix, precision_score, recall_score, f1_score\n",
    "\n",
    "param_grid={'n_estimators':range(20,81,20),\n",
    "            'max_depth':range(5,16,4),\n",
    "            'min_samples_split':range(20,100,30),\n",
    "            'max_features':range(7,20,5),\n",
    "            }\n",
    "\n",
    "grid_gb = model_selection.GridSearchCV(estimator = GradientBoostingClassifier(), param_grid = param_grid, cv=3)\n",
    "grid_gb.fit(X_train, y_train)\n",
    "\n",
    "results(grid_gb)"
   ]
  },
  {
   "cell_type": "markdown",
   "metadata": {},
   "source": [
    "### Over Sampling using SMOTE¶"
   ]
  },
  {
   "cell_type": "code",
   "execution_count": null,
   "metadata": {},
   "outputs": [],
   "source": [
    "%%time\n",
    "param_grid={'n_estimators':range(20,81,20),\n",
    "            'max_depth':range(5,16,4),\n",
    "            'min_samples_split':range(20,100,30),\n",
    "            'max_features':range(7,20,5),\n",
    "            }\n",
    "\n",
    "grid_gb_over = model_selection.GridSearchCV(estimator = GradientBoostingClassifier(), param_grid = param_grid, cv=3)\n",
    "grid_gb_over.fit(X_res_over, y_res_over)\n",
    "\n",
    "results(grid_gb_over)"
   ]
  },
  {
   "cell_type": "markdown",
   "metadata": {},
   "source": [
    "### Under Sampling using Near Miss"
   ]
  },
  {
   "cell_type": "code",
   "execution_count": null,
   "metadata": {},
   "outputs": [],
   "source": [
    "%%time\n",
    "param_grid={'n_estimators':range(20,81,20),\n",
    "            'max_depth':range(5,16,4),\n",
    "            'min_samples_split':range(20,100,30),\n",
    "            'max_features':range(7,20,5),\n",
    "            }\n",
    "\n",
    "grid_gb_under = model_selection.GridSearchCV(estimator = GradientBoostingClassifier(), param_grid = param_grid, cv=3)\n",
    "grid_gb_under.fit(X_res, y_res)\n",
    "\n",
    "results(grid_gb_under)"
   ]
  }
 ],
 "metadata": {
  "kernelspec": {
   "display_name": "Python 3",
   "language": "python",
   "name": "python3"
  },
  "language_info": {
   "codemirror_mode": {
    "name": "ipython",
    "version": 3
   },
   "file_extension": ".py",
   "mimetype": "text/x-python",
   "name": "python",
   "nbconvert_exporter": "python",
   "pygments_lexer": "ipython3",
   "version": "3.7.6"
  }
 },
 "nbformat": 4,
 "nbformat_minor": 4
}
