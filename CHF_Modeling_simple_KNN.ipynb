{
 "cells": [
  {
   "cell_type": "code",
   "execution_count": 37,
   "metadata": {},
   "outputs": [],
   "source": [
    "import pandas as pd\n",
    "import pickle\n",
    "import numpy as np\n",
    "import matplotlib.pyplot as plt\n",
    "\n",
    "from sklearn.linear_model import LogisticRegression\n",
    "from sklearn.ensemble import GradientBoostingClassifier\n",
    "from sklearn.ensemble import RandomForestClassifier\n",
    "from sklearn.model_selection import GridSearchCV\n",
    "\n",
    "from sklearn.metrics import accuracy_score, confusion_matrix, precision_score, recall_score, f1_score\n",
    "from sklearn.metrics import plot_roc_curve\n",
    "from sklearn.metrics import roc_auc_score\n",
    "\n",
    "from sklearn import model_selection\n",
    "from imblearn.over_sampling import SMOTE\n",
    "from imblearn.under_sampling import NearMiss"
   ]
  },
  {
   "cell_type": "code",
   "execution_count": 38,
   "metadata": {},
   "outputs": [],
   "source": [
    "import sklearn"
   ]
  },
  {
   "cell_type": "code",
   "execution_count": 39,
   "metadata": {},
   "outputs": [],
   "source": [
    "pd.set_option('display.max_columns',None)"
   ]
  },
  {
   "cell_type": "markdown",
   "metadata": {},
   "source": [
    "## Import cleaned dataset\n",
    "### Simple model using just Abn% + demographics"
   ]
  },
  {
   "cell_type": "code",
   "execution_count": 43,
   "metadata": {},
   "outputs": [],
   "source": [
    "pos_final_test = pd.read_csv('./data/pos_KNN_final_test.csv.gz', compression='gzip')\n",
    "\n",
    "model_cols = pos_final_test.columns.str.contains('abn') | pos_final_test.columns.isin(['gender', 'age','ethnicity_AMERICAN INDIAN/ALASKA NATIVE', 'ethnicity_ASIAN','ethnicity_BLACK/AFRICAN AMERICAN', 'ethnicity_HISPANIC/LATINO','ethnicity_OTHER', 'ethnicity_UNKNOWN'])\n",
    "hadm_features = pos_final_test.loc[:, model_cols]\n",
    "hadm_target = pos_final_test.loc[:, 'pos']\n",
    "\n",
    "# pos_final_test.columns.str.contains('mean') | pos_final_test.columns.str.contains('below') |pos_final_test.columns.str.contains('above') |"
   ]
  },
  {
   "cell_type": "code",
   "execution_count": 5,
   "metadata": {},
   "outputs": [],
   "source": [
    "# from sklearn import preprocessing\n",
    "# le = preprocessing.LabelEncoder()\n",
    "# hadm_features['ethnicity'] = le.fit_transform(hadm_features['ethnicity'])\n",
    "# hadm_features['gender'] = le.fit_transform(hadm_features['gender'])\n",
    "\n",
    "# from sklearn.preprocessing import StandardScaler\n",
    "# scaler = StandardScaler()\n",
    "# hadm_features['age'] = scaler.fit_transform(hadm_features['age'].values.reshape(-1, 1))"
   ]
  },
  {
   "cell_type": "code",
   "execution_count": 104,
   "metadata": {},
   "outputs": [
    {
     "data": {
      "text/html": [
       "<div>\n",
       "<style scoped>\n",
       "    .dataframe tbody tr th:only-of-type {\n",
       "        vertical-align: middle;\n",
       "    }\n",
       "\n",
       "    .dataframe tbody tr th {\n",
       "        vertical-align: top;\n",
       "    }\n",
       "\n",
       "    .dataframe thead th {\n",
       "        text-align: right;\n",
       "    }\n",
       "</style>\n",
       "<table border=\"1\" class=\"dataframe\">\n",
       "  <thead>\n",
       "    <tr style=\"text-align: right;\">\n",
       "      <th></th>\n",
       "      <th>('abn_percent', 50868)</th>\n",
       "      <th>('abn_percent', 50882)</th>\n",
       "      <th>('abn_percent', 50902)</th>\n",
       "      <th>('abn_percent', 50912)</th>\n",
       "      <th>('abn_percent', 50931)</th>\n",
       "      <th>('abn_percent', 50971)</th>\n",
       "      <th>('abn_percent', 50983)</th>\n",
       "      <th>('abn_percent', 51006)</th>\n",
       "      <th>('abn_percent', 51221)</th>\n",
       "      <th>('abn_percent', 51222)</th>\n",
       "      <th>('abn_percent', 51248)</th>\n",
       "      <th>('abn_percent', 51249)</th>\n",
       "      <th>('abn_percent', 51250)</th>\n",
       "      <th>('abn_percent', 51265)</th>\n",
       "      <th>('abn_percent', 51277)</th>\n",
       "      <th>('abn_percent', 51279)</th>\n",
       "      <th>('abn_percent', 51301)</th>\n",
       "      <th>gender</th>\n",
       "      <th>age</th>\n",
       "      <th>ethnicity_AMERICAN INDIAN/ALASKA NATIVE</th>\n",
       "      <th>ethnicity_ASIAN</th>\n",
       "      <th>ethnicity_BLACK/AFRICAN AMERICAN</th>\n",
       "      <th>ethnicity_HISPANIC/LATINO</th>\n",
       "      <th>ethnicity_OTHER</th>\n",
       "      <th>ethnicity_UNKNOWN</th>\n",
       "    </tr>\n",
       "  </thead>\n",
       "  <tbody>\n",
       "    <tr>\n",
       "      <th>0</th>\n",
       "      <td>0.965474</td>\n",
       "      <td>2.958378</td>\n",
       "      <td>-0.236040</td>\n",
       "      <td>1.775190</td>\n",
       "      <td>1.059667</td>\n",
       "      <td>-0.391195</td>\n",
       "      <td>1.493924</td>\n",
       "      <td>1.799380</td>\n",
       "      <td>0.349508</td>\n",
       "      <td>0.271983</td>\n",
       "      <td>-0.631844</td>\n",
       "      <td>-0.650272</td>\n",
       "      <td>-0.461956</td>\n",
       "      <td>0.187436</td>\n",
       "      <td>-0.498606</td>\n",
       "      <td>0.667032</td>\n",
       "      <td>1.770726</td>\n",
       "      <td>0.0</td>\n",
       "      <td>1.153246</td>\n",
       "      <td>0.0</td>\n",
       "      <td>0.0</td>\n",
       "      <td>0.0</td>\n",
       "      <td>0.0</td>\n",
       "      <td>0.0</td>\n",
       "      <td>1.0</td>\n",
       "    </tr>\n",
       "    <tr>\n",
       "      <th>1</th>\n",
       "      <td>-0.346028</td>\n",
       "      <td>-0.552401</td>\n",
       "      <td>1.321157</td>\n",
       "      <td>0.417674</td>\n",
       "      <td>0.157940</td>\n",
       "      <td>-0.391195</td>\n",
       "      <td>-0.411612</td>\n",
       "      <td>-0.797160</td>\n",
       "      <td>0.783332</td>\n",
       "      <td>0.756098</td>\n",
       "      <td>-0.631844</td>\n",
       "      <td>2.157373</td>\n",
       "      <td>1.358548</td>\n",
       "      <td>-0.600116</td>\n",
       "      <td>-0.498606</td>\n",
       "      <td>0.667032</td>\n",
       "      <td>-0.324457</td>\n",
       "      <td>0.0</td>\n",
       "      <td>-0.441483</td>\n",
       "      <td>0.0</td>\n",
       "      <td>0.0</td>\n",
       "      <td>0.0</td>\n",
       "      <td>0.0</td>\n",
       "      <td>0.0</td>\n",
       "      <td>0.0</td>\n",
       "    </tr>\n",
       "    <tr>\n",
       "      <th>2</th>\n",
       "      <td>-0.346028</td>\n",
       "      <td>0.314458</td>\n",
       "      <td>3.224398</td>\n",
       "      <td>1.629742</td>\n",
       "      <td>1.059667</td>\n",
       "      <td>0.293753</td>\n",
       "      <td>1.684477</td>\n",
       "      <td>1.474812</td>\n",
       "      <td>-1.602697</td>\n",
       "      <td>-1.664476</td>\n",
       "      <td>1.576326</td>\n",
       "      <td>-0.650272</td>\n",
       "      <td>2.572217</td>\n",
       "      <td>-0.239155</td>\n",
       "      <td>-0.498606</td>\n",
       "      <td>0.667032</td>\n",
       "      <td>0.133864</td>\n",
       "      <td>1.0</td>\n",
       "      <td>1.359017</td>\n",
       "      <td>0.0</td>\n",
       "      <td>0.0</td>\n",
       "      <td>0.0</td>\n",
       "      <td>0.0</td>\n",
       "      <td>0.0</td>\n",
       "      <td>0.0</td>\n",
       "    </tr>\n",
       "    <tr>\n",
       "      <th>3</th>\n",
       "      <td>-0.346028</td>\n",
       "      <td>-0.552401</td>\n",
       "      <td>-0.582084</td>\n",
       "      <td>-0.551980</td>\n",
       "      <td>-1.645515</td>\n",
       "      <td>-0.391195</td>\n",
       "      <td>-0.411612</td>\n",
       "      <td>-0.797160</td>\n",
       "      <td>0.783332</td>\n",
       "      <td>0.756098</td>\n",
       "      <td>1.891779</td>\n",
       "      <td>-0.650272</td>\n",
       "      <td>2.572217</td>\n",
       "      <td>-0.600116</td>\n",
       "      <td>-0.498606</td>\n",
       "      <td>0.667032</td>\n",
       "      <td>-0.848253</td>\n",
       "      <td>0.0</td>\n",
       "      <td>-1.316012</td>\n",
       "      <td>0.0</td>\n",
       "      <td>0.0</td>\n",
       "      <td>0.0</td>\n",
       "      <td>0.0</td>\n",
       "      <td>0.0</td>\n",
       "      <td>0.0</td>\n",
       "    </tr>\n",
       "    <tr>\n",
       "      <th>4</th>\n",
       "      <td>-0.346028</td>\n",
       "      <td>-0.552401</td>\n",
       "      <td>-0.582084</td>\n",
       "      <td>-0.551980</td>\n",
       "      <td>1.059667</td>\n",
       "      <td>-0.391195</td>\n",
       "      <td>-0.411612</td>\n",
       "      <td>-0.797160</td>\n",
       "      <td>-1.602697</td>\n",
       "      <td>0.756098</td>\n",
       "      <td>-0.631844</td>\n",
       "      <td>-0.650272</td>\n",
       "      <td>-0.461956</td>\n",
       "      <td>-0.600116</td>\n",
       "      <td>-0.498606</td>\n",
       "      <td>0.667032</td>\n",
       "      <td>1.770726</td>\n",
       "      <td>0.0</td>\n",
       "      <td>-1.110241</td>\n",
       "      <td>0.0</td>\n",
       "      <td>0.0</td>\n",
       "      <td>0.0</td>\n",
       "      <td>0.0</td>\n",
       "      <td>0.0</td>\n",
       "      <td>0.0</td>\n",
       "    </tr>\n",
       "    <tr>\n",
       "      <th>...</th>\n",
       "      <td>...</td>\n",
       "      <td>...</td>\n",
       "      <td>...</td>\n",
       "      <td>...</td>\n",
       "      <td>...</td>\n",
       "      <td>...</td>\n",
       "      <td>...</td>\n",
       "      <td>...</td>\n",
       "      <td>...</td>\n",
       "      <td>...</td>\n",
       "      <td>...</td>\n",
       "      <td>...</td>\n",
       "      <td>...</td>\n",
       "      <td>...</td>\n",
       "      <td>...</td>\n",
       "      <td>...</td>\n",
       "      <td>...</td>\n",
       "      <td>...</td>\n",
       "      <td>...</td>\n",
       "      <td>...</td>\n",
       "      <td>...</td>\n",
       "      <td>...</td>\n",
       "      <td>...</td>\n",
       "      <td>...</td>\n",
       "      <td>...</td>\n",
       "    </tr>\n",
       "    <tr>\n",
       "      <th>8555</th>\n",
       "      <td>-0.346028</td>\n",
       "      <td>-0.552401</td>\n",
       "      <td>-0.582084</td>\n",
       "      <td>-0.551980</td>\n",
       "      <td>-1.645515</td>\n",
       "      <td>-0.391195</td>\n",
       "      <td>-0.411612</td>\n",
       "      <td>-0.797160</td>\n",
       "      <td>-1.602697</td>\n",
       "      <td>0.756098</td>\n",
       "      <td>-0.631844</td>\n",
       "      <td>-0.650272</td>\n",
       "      <td>-0.461956</td>\n",
       "      <td>-0.600116</td>\n",
       "      <td>-0.498606</td>\n",
       "      <td>0.667032</td>\n",
       "      <td>-0.848253</td>\n",
       "      <td>1.0</td>\n",
       "      <td>-0.132826</td>\n",
       "      <td>0.0</td>\n",
       "      <td>0.0</td>\n",
       "      <td>0.0</td>\n",
       "      <td>0.0</td>\n",
       "      <td>1.0</td>\n",
       "      <td>0.0</td>\n",
       "    </tr>\n",
       "    <tr>\n",
       "      <th>8556</th>\n",
       "      <td>-0.346028</td>\n",
       "      <td>-0.552401</td>\n",
       "      <td>-0.582084</td>\n",
       "      <td>2.356982</td>\n",
       "      <td>-1.645515</td>\n",
       "      <td>-0.391195</td>\n",
       "      <td>-0.411612</td>\n",
       "      <td>1.799380</td>\n",
       "      <td>0.783332</td>\n",
       "      <td>0.756098</td>\n",
       "      <td>1.891779</td>\n",
       "      <td>-0.650272</td>\n",
       "      <td>2.572217</td>\n",
       "      <td>-0.600116</td>\n",
       "      <td>-0.498606</td>\n",
       "      <td>0.667032</td>\n",
       "      <td>-0.848253</td>\n",
       "      <td>0.0</td>\n",
       "      <td>1.050360</td>\n",
       "      <td>0.0</td>\n",
       "      <td>0.0</td>\n",
       "      <td>0.0</td>\n",
       "      <td>0.0</td>\n",
       "      <td>0.0</td>\n",
       "      <td>0.0</td>\n",
       "    </tr>\n",
       "    <tr>\n",
       "      <th>8557</th>\n",
       "      <td>-0.346028</td>\n",
       "      <td>1.831461</td>\n",
       "      <td>2.801456</td>\n",
       "      <td>-0.551980</td>\n",
       "      <td>1.059667</td>\n",
       "      <td>-0.391195</td>\n",
       "      <td>4.828610</td>\n",
       "      <td>-0.797160</td>\n",
       "      <td>0.783332</td>\n",
       "      <td>0.756098</td>\n",
       "      <td>-0.631844</td>\n",
       "      <td>-0.650272</td>\n",
       "      <td>2.572217</td>\n",
       "      <td>-0.600116</td>\n",
       "      <td>-0.498606</td>\n",
       "      <td>0.667032</td>\n",
       "      <td>0.024740</td>\n",
       "      <td>0.0</td>\n",
       "      <td>1.564789</td>\n",
       "      <td>0.0</td>\n",
       "      <td>1.0</td>\n",
       "      <td>0.0</td>\n",
       "      <td>0.0</td>\n",
       "      <td>0.0</td>\n",
       "      <td>0.0</td>\n",
       "    </tr>\n",
       "    <tr>\n",
       "      <th>8558</th>\n",
       "      <td>2.308203</td>\n",
       "      <td>-0.459524</td>\n",
       "      <td>1.230526</td>\n",
       "      <td>-0.551980</td>\n",
       "      <td>0.802030</td>\n",
       "      <td>-0.065030</td>\n",
       "      <td>2.208499</td>\n",
       "      <td>1.304801</td>\n",
       "      <td>0.713155</td>\n",
       "      <td>0.756098</td>\n",
       "      <td>-0.631844</td>\n",
       "      <td>0.010350</td>\n",
       "      <td>-0.461956</td>\n",
       "      <td>1.608120</td>\n",
       "      <td>2.332418</td>\n",
       "      <td>0.667032</td>\n",
       "      <td>-0.000936</td>\n",
       "      <td>0.0</td>\n",
       "      <td>0.433046</td>\n",
       "      <td>0.0</td>\n",
       "      <td>0.0</td>\n",
       "      <td>0.0</td>\n",
       "      <td>0.0</td>\n",
       "      <td>0.0</td>\n",
       "      <td>0.0</td>\n",
       "    </tr>\n",
       "    <tr>\n",
       "      <th>8559</th>\n",
       "      <td>2.932728</td>\n",
       "      <td>-0.552401</td>\n",
       "      <td>1.321157</td>\n",
       "      <td>-0.551980</td>\n",
       "      <td>-1.645515</td>\n",
       "      <td>-0.391195</td>\n",
       "      <td>4.828610</td>\n",
       "      <td>-0.797160</td>\n",
       "      <td>0.783332</td>\n",
       "      <td>0.756098</td>\n",
       "      <td>-0.631844</td>\n",
       "      <td>-0.650272</td>\n",
       "      <td>-0.461956</td>\n",
       "      <td>1.204692</td>\n",
       "      <td>2.332418</td>\n",
       "      <td>0.667032</td>\n",
       "      <td>-0.193508</td>\n",
       "      <td>0.0</td>\n",
       "      <td>0.124388</td>\n",
       "      <td>0.0</td>\n",
       "      <td>0.0</td>\n",
       "      <td>0.0</td>\n",
       "      <td>0.0</td>\n",
       "      <td>0.0</td>\n",
       "      <td>0.0</td>\n",
       "    </tr>\n",
       "  </tbody>\n",
       "</table>\n",
       "<p>8560 rows × 25 columns</p>\n",
       "</div>"
      ],
      "text/plain": [
       "      ('abn_percent', 50868)  ('abn_percent', 50882)  ('abn_percent', 50902)  \\\n",
       "0                   0.965474                2.958378               -0.236040   \n",
       "1                  -0.346028               -0.552401                1.321157   \n",
       "2                  -0.346028                0.314458                3.224398   \n",
       "3                  -0.346028               -0.552401               -0.582084   \n",
       "4                  -0.346028               -0.552401               -0.582084   \n",
       "...                      ...                     ...                     ...   \n",
       "8555               -0.346028               -0.552401               -0.582084   \n",
       "8556               -0.346028               -0.552401               -0.582084   \n",
       "8557               -0.346028                1.831461                2.801456   \n",
       "8558                2.308203               -0.459524                1.230526   \n",
       "8559                2.932728               -0.552401                1.321157   \n",
       "\n",
       "      ('abn_percent', 50912)  ('abn_percent', 50931)  ('abn_percent', 50971)  \\\n",
       "0                   1.775190                1.059667               -0.391195   \n",
       "1                   0.417674                0.157940               -0.391195   \n",
       "2                   1.629742                1.059667                0.293753   \n",
       "3                  -0.551980               -1.645515               -0.391195   \n",
       "4                  -0.551980                1.059667               -0.391195   \n",
       "...                      ...                     ...                     ...   \n",
       "8555               -0.551980               -1.645515               -0.391195   \n",
       "8556                2.356982               -1.645515               -0.391195   \n",
       "8557               -0.551980                1.059667               -0.391195   \n",
       "8558               -0.551980                0.802030               -0.065030   \n",
       "8559               -0.551980               -1.645515               -0.391195   \n",
       "\n",
       "      ('abn_percent', 50983)  ('abn_percent', 51006)  ('abn_percent', 51221)  \\\n",
       "0                   1.493924                1.799380                0.349508   \n",
       "1                  -0.411612               -0.797160                0.783332   \n",
       "2                   1.684477                1.474812               -1.602697   \n",
       "3                  -0.411612               -0.797160                0.783332   \n",
       "4                  -0.411612               -0.797160               -1.602697   \n",
       "...                      ...                     ...                     ...   \n",
       "8555               -0.411612               -0.797160               -1.602697   \n",
       "8556               -0.411612                1.799380                0.783332   \n",
       "8557                4.828610               -0.797160                0.783332   \n",
       "8558                2.208499                1.304801                0.713155   \n",
       "8559                4.828610               -0.797160                0.783332   \n",
       "\n",
       "      ('abn_percent', 51222)  ('abn_percent', 51248)  ('abn_percent', 51249)  \\\n",
       "0                   0.271983               -0.631844               -0.650272   \n",
       "1                   0.756098               -0.631844                2.157373   \n",
       "2                  -1.664476                1.576326               -0.650272   \n",
       "3                   0.756098                1.891779               -0.650272   \n",
       "4                   0.756098               -0.631844               -0.650272   \n",
       "...                      ...                     ...                     ...   \n",
       "8555                0.756098               -0.631844               -0.650272   \n",
       "8556                0.756098                1.891779               -0.650272   \n",
       "8557                0.756098               -0.631844               -0.650272   \n",
       "8558                0.756098               -0.631844                0.010350   \n",
       "8559                0.756098               -0.631844               -0.650272   \n",
       "\n",
       "      ('abn_percent', 51250)  ('abn_percent', 51265)  ('abn_percent', 51277)  \\\n",
       "0                  -0.461956                0.187436               -0.498606   \n",
       "1                   1.358548               -0.600116               -0.498606   \n",
       "2                   2.572217               -0.239155               -0.498606   \n",
       "3                   2.572217               -0.600116               -0.498606   \n",
       "4                  -0.461956               -0.600116               -0.498606   \n",
       "...                      ...                     ...                     ...   \n",
       "8555               -0.461956               -0.600116               -0.498606   \n",
       "8556                2.572217               -0.600116               -0.498606   \n",
       "8557                2.572217               -0.600116               -0.498606   \n",
       "8558               -0.461956                1.608120                2.332418   \n",
       "8559               -0.461956                1.204692                2.332418   \n",
       "\n",
       "      ('abn_percent', 51279)  ('abn_percent', 51301)  gender       age  \\\n",
       "0                   0.667032                1.770726     0.0  1.153246   \n",
       "1                   0.667032               -0.324457     0.0 -0.441483   \n",
       "2                   0.667032                0.133864     1.0  1.359017   \n",
       "3                   0.667032               -0.848253     0.0 -1.316012   \n",
       "4                   0.667032                1.770726     0.0 -1.110241   \n",
       "...                      ...                     ...     ...       ...   \n",
       "8555                0.667032               -0.848253     1.0 -0.132826   \n",
       "8556                0.667032               -0.848253     0.0  1.050360   \n",
       "8557                0.667032                0.024740     0.0  1.564789   \n",
       "8558                0.667032               -0.000936     0.0  0.433046   \n",
       "8559                0.667032               -0.193508     0.0  0.124388   \n",
       "\n",
       "      ethnicity_AMERICAN INDIAN/ALASKA NATIVE  ethnicity_ASIAN  \\\n",
       "0                                         0.0              0.0   \n",
       "1                                         0.0              0.0   \n",
       "2                                         0.0              0.0   \n",
       "3                                         0.0              0.0   \n",
       "4                                         0.0              0.0   \n",
       "...                                       ...              ...   \n",
       "8555                                      0.0              0.0   \n",
       "8556                                      0.0              0.0   \n",
       "8557                                      0.0              1.0   \n",
       "8558                                      0.0              0.0   \n",
       "8559                                      0.0              0.0   \n",
       "\n",
       "      ethnicity_BLACK/AFRICAN AMERICAN  ethnicity_HISPANIC/LATINO  \\\n",
       "0                                  0.0                        0.0   \n",
       "1                                  0.0                        0.0   \n",
       "2                                  0.0                        0.0   \n",
       "3                                  0.0                        0.0   \n",
       "4                                  0.0                        0.0   \n",
       "...                                ...                        ...   \n",
       "8555                               0.0                        0.0   \n",
       "8556                               0.0                        0.0   \n",
       "8557                               0.0                        0.0   \n",
       "8558                               0.0                        0.0   \n",
       "8559                               0.0                        0.0   \n",
       "\n",
       "      ethnicity_OTHER  ethnicity_UNKNOWN  \n",
       "0                 0.0                1.0  \n",
       "1                 0.0                0.0  \n",
       "2                 0.0                0.0  \n",
       "3                 0.0                0.0  \n",
       "4                 0.0                0.0  \n",
       "...               ...                ...  \n",
       "8555              1.0                0.0  \n",
       "8556              0.0                0.0  \n",
       "8557              0.0                0.0  \n",
       "8558              0.0                0.0  \n",
       "8559              0.0                0.0  \n",
       "\n",
       "[8560 rows x 25 columns]"
      ]
     },
     "execution_count": 104,
     "metadata": {},
     "output_type": "execute_result"
    }
   ],
   "source": [
    "hadm_features"
   ]
  },
  {
   "cell_type": "markdown",
   "metadata": {},
   "source": [
    "## Train test split"
   ]
  },
  {
   "cell_type": "code",
   "execution_count": 46,
   "metadata": {},
   "outputs": [],
   "source": [
    "X_train, X_test, y_train, y_test = model_selection.train_test_split(hadm_features, hadm_target, test_size=.2, stratify=hadm_target, random_state=25)"
   ]
  },
  {
   "cell_type": "code",
   "execution_count": 47,
   "metadata": {},
   "outputs": [],
   "source": [
    "# Over and under sample the train set\n",
    "sm = SMOTE()\n",
    "X_res_over, y_res_over = sm.fit_resample(X_train, y_train)\n",
    "\n",
    "nm = NearMiss()\n",
    "X_res_under, y_res_under = nm.fit_resample(X_train, y_train)"
   ]
  },
  {
   "cell_type": "code",
   "execution_count": 48,
   "metadata": {},
   "outputs": [
    {
     "name": "stdout",
     "output_type": "stream",
     "text": [
      "Target=0:  7362\n",
      "Target=1:  1198\n"
     ]
    }
   ],
   "source": [
    "# check target counts\n",
    "print('Target=0: ',hadm_target[hadm_target==0].count())\n",
    "print('Target=1: ',hadm_target[hadm_target==1].count())"
   ]
  },
  {
   "cell_type": "code",
   "execution_count": 73,
   "metadata": {},
   "outputs": [],
   "source": [
    "def results(model):\n",
    "    '''\n",
    "    Function to report on the metrics of a GridSearch model.\n",
    "    Input: GridSearchCV model\n",
    "    Prints: CV score, best parameters, accuracy, precision, recall, F1, confusion matrix and ROCAUC\n",
    "    '''\n",
    "    \n",
    "#     cross validation scores\n",
    "    print(\"Cross Validation\")\n",
    "    print(\"-\" * 20)\n",
    "    print(\"Best parameter: \", model.best_params_)\n",
    "    print(\"Best CV score:  %.4f\" % model.best_score_)\n",
    "\n",
    "#     confusion matrix & related scores\n",
    "    pred = model.best_estimator_.predict(X_test)\n",
    "    print(f\"Accuracy Score: {accuracy_score(y_test, pred) * 100:.2f}%\")\n",
    "    print(\"_______________________________________________\")\n",
    "    print(\"Classification Report:\", end='')\n",
    "    print(f\"\\tPrecision Score: {precision_score(y_test, pred) * 100:.2f}%\")\n",
    "    print(f\"\\t\\t\\tRecall Score: {recall_score(y_test, pred) * 100:.2f}%\")\n",
    "    print(f\"\\t\\t\\tF1 score: {f1_score(y_test, pred) * 100:.2f}%\")\n",
    "    print(f\"\\t\\t\\tROC_AUC score: {roc_auc_score(y_test, pred) * 100:.2f}%\")\n",
    "    print(\"_______________________________________________\")\n",
    "    print(f\"Confusion Matrix: \\n {confusion_matrix(y_test, pred)}\\n\")\n",
    "    \n",
    "    svc_disp = plot_roc_curve(model, X_test, y_test)\n",
    "    plt.show()\n",
    "    \n",
    "    if model.estimator.__class__== sklearn.linear_model._logistic.LogisticRegression:\n",
    "        est_coefs = pd.Series(model.best_estimator_.coef_[0], index=X_train.columns)\n",
    "        sortedCoefs = np.abs(est_coefs).sort_values(ascending=False)\n",
    "        print(sortedCoefs[sortedCoefs > 0].head(25))\n",
    "      \n",
    "    else:\n",
    "        est_coefs = pd.Series(model.best_estimator_.feature_importances_, index=X_train.columns)\n",
    "        sortedCoefs = est_coefs.sort_values(ascending=False)\n",
    "        print(sortedCoefs.head(25))"
   ]
  },
  {
   "cell_type": "markdown",
   "metadata": {},
   "source": [
    "## Logistic Regression"
   ]
  },
  {
   "cell_type": "markdown",
   "metadata": {},
   "source": [
    "### Basic"
   ]
  },
  {
   "cell_type": "code",
   "execution_count": 74,
   "metadata": {},
   "outputs": [
    {
     "name": "stdout",
     "output_type": "stream",
     "text": [
      "CPU times: user 3.23 s, sys: 385 ms, total: 3.61 s\n",
      "Wall time: 2.36 s\n"
     ]
    },
    {
     "data": {
      "text/plain": [
       "GridSearchCV(cv=3,\n",
       "             estimator=LogisticRegression(class_weight='balanced',\n",
       "                                          max_iter=2000, penalty='l1',\n",
       "                                          solver='liblinear'),\n",
       "             param_grid={'C': array([0.01      , 0.06210526, 0.11421053, 0.16631579, 0.21842105,\n",
       "       0.27052632, 0.32263158, 0.37473684, 0.42684211, 0.47894737,\n",
       "       0.53105263, 0.58315789, 0.63526316, 0.68736842, 0.73947368,\n",
       "       0.79157895, 0.84368421, 0.89578947, 0.94789474, 1.        ])},\n",
       "             scoring='roc_auc')"
      ]
     },
     "execution_count": 74,
     "metadata": {},
     "output_type": "execute_result"
    }
   ],
   "source": [
    "%%time\n",
    "\n",
    "params ={'C':np.linspace(1e-2,1,20)}\n",
    "logReg = LogisticRegression(penalty = 'l1', max_iter = 2000, class_weight = \"balanced\", solver = 'liblinear')\n",
    "\n",
    "grid_log = GridSearchCV(estimator = logReg, param_grid = params, cv = 3, scoring='roc_auc')\n",
    "grid_log.fit(X_train, y_train)"
   ]
  },
  {
   "cell_type": "code",
   "execution_count": 75,
   "metadata": {},
   "outputs": [
    {
     "name": "stdout",
     "output_type": "stream",
     "text": [
      "Cross Validation\n",
      "--------------------\n",
      "Best parameter:  {'C': 0.06210526315789474}\n",
      "Best CV score:  0.8315\n",
      "Accuracy Score: 74.53%\n",
      "_______________________________________________\n",
      "Classification Report:\tPrecision Score: 31.85%\n",
      "\t\t\tRecall Score: 71.67%\n",
      "\t\t\tF1 score: 44.10%\n",
      "\t\t\tROC_AUC score: 73.33%\n",
      "_______________________________________________\n",
      "Confusion Matrix: \n",
      " [[1104  368]\n",
      " [  68  172]]\n",
      "\n"
     ]
    },
    {
     "data": {
      "image/png": "[encoded data removed]",
      "text/plain": [
       "<Figure size 432x288 with 1 Axes>"
      ]
     },
     "metadata": {
      "needs_background": "light"
     },
     "output_type": "display_data"
    },
    {
     "name": "stdout",
     "output_type": "stream",
     "text": [
      "age                                 0.924954\n",
      "('abn_percent', 51006)              0.367268\n",
      "('abn_percent', 51277)              0.365247\n",
      "('abn_percent', 51221)              0.356932\n",
      "('abn_percent', 51222)              0.336503\n",
      "('abn_percent', 50912)              0.293142\n",
      "('abn_percent', 50931)              0.199714\n",
      "('abn_percent', 51249)              0.149206\n",
      "ethnicity_BLACK/AFRICAN AMERICAN    0.148948\n",
      "gender                              0.140296\n",
      "('abn_percent', 50971)              0.061245\n",
      "('abn_percent', 51301)              0.049881\n",
      "('abn_percent', 51250)              0.045587\n",
      "('abn_percent', 50882)              0.037655\n",
      "('abn_percent', 51248)              0.029490\n",
      "('abn_percent', 50868)              0.017237\n",
      "('abn_percent', 50902)              0.014745\n",
      "('abn_percent', 51265)              0.000404\n",
      "dtype: float64\n"
     ]
    }
   ],
   "source": [
    "results(grid_log)"
   ]
  },
  {
   "cell_type": "markdown",
   "metadata": {},
   "source": [
    "### Over Sampling using SMOTE"
   ]
  },
  {
   "cell_type": "code",
   "execution_count": 76,
   "metadata": {},
   "outputs": [
    {
     "name": "stdout",
     "output_type": "stream",
     "text": [
      "CPU times: user 4.67 s, sys: 546 ms, total: 5.22 s\n",
      "Wall time: 3.21 s\n"
     ]
    },
    {
     "data": {
      "text/plain": [
       "GridSearchCV(cv=3,\n",
       "             estimator=LogisticRegression(class_weight='balanced',\n",
       "                                          max_iter=2000, penalty='l1',\n",
       "                                          solver='liblinear'),\n",
       "             param_grid={'C': array([0.01      , 0.06210526, 0.11421053, 0.16631579, 0.21842105,\n",
       "       0.27052632, 0.32263158, 0.37473684, 0.42684211, 0.47894737,\n",
       "       0.53105263, 0.58315789, 0.63526316, 0.68736842, 0.73947368,\n",
       "       0.79157895, 0.84368421, 0.89578947, 0.94789474, 1.        ])},\n",
       "             scoring='roc_auc')"
      ]
     },
     "execution_count": 76,
     "metadata": {},
     "output_type": "execute_result"
    }
   ],
   "source": [
    "%%time\n",
    "params ={'C':np.linspace(1e-2,1,20)}\n",
    "logReg = LogisticRegression(penalty = 'l1', max_iter = 2000, class_weight = \"balanced\", solver = 'liblinear')\n",
    "\n",
    "grid_log_over = GridSearchCV(estimator = logReg, param_grid = params, cv = 3, scoring='roc_auc')\n",
    "grid_log_over.fit(X_res_over, y_res_over)"
   ]
  },
  {
   "cell_type": "code",
   "execution_count": 77,
   "metadata": {},
   "outputs": [
    {
     "name": "stdout",
     "output_type": "stream",
     "text": [
      "Cross Validation\n",
      "--------------------\n",
      "Best parameter:  {'C': 0.16631578947368422}\n",
      "Best CV score:  0.8409\n",
      "Accuracy Score: 74.65%\n",
      "_______________________________________________\n",
      "Classification Report:\tPrecision Score: 31.56%\n",
      "\t\t\tRecall Score: 69.17%\n",
      "\t\t\tF1 score: 43.34%\n",
      "\t\t\tROC_AUC score: 72.36%\n",
      "_______________________________________________\n",
      "Confusion Matrix: \n",
      " [[1112  360]\n",
      " [  74  166]]\n",
      "\n"
     ]
    },
    {
     "data": {
      "image/png": "[encoded data removed]",
      "text/plain": [
       "<Figure size 432x288 with 1 Axes>"
      ]
     },
     "metadata": {
      "needs_background": "light"
     },
     "output_type": "display_data"
    },
    {
     "name": "stdout",
     "output_type": "stream",
     "text": [
      "age                                 1.074909\n",
      "ethnicity_OTHER                     0.445124\n",
      "('abn_percent', 51222)              0.429066\n",
      "('abn_percent', 51221)              0.415828\n",
      "ethnicity_ASIAN                     0.391320\n",
      "('abn_percent', 51006)              0.387847\n",
      "('abn_percent', 51277)              0.381210\n",
      "('abn_percent', 50912)              0.283064\n",
      "('abn_percent', 50931)              0.269844\n",
      "gender                              0.253226\n",
      "('abn_percent', 51249)              0.158655\n",
      "('abn_percent', 51248)              0.137546\n",
      "('abn_percent', 51250)              0.126906\n",
      "ethnicity_UNKNOWN                   0.113744\n",
      "('abn_percent', 50971)              0.112895\n",
      "('abn_percent', 51301)              0.067700\n",
      "('abn_percent', 51279)              0.038827\n",
      "ethnicity_BLACK/AFRICAN AMERICAN    0.029040\n",
      "('abn_percent', 50983)              0.010644\n",
      "('abn_percent', 50882)              0.008062\n",
      "('abn_percent', 51265)              0.007245\n",
      "dtype: float64\n"
     ]
    }
   ],
   "source": [
    "results(grid_log_over)"
   ]
  },
  {
   "cell_type": "markdown",
   "metadata": {},
   "source": [
    "### Under Sampling using Near Miss"
   ]
  },
  {
   "cell_type": "code",
   "execution_count": 78,
   "metadata": {},
   "outputs": [
    {
     "name": "stdout",
     "output_type": "stream",
     "text": [
      "CPU times: user 8.44 s, sys: 727 ms, total: 9.17 s\n",
      "Wall time: 5.55 s\n"
     ]
    },
    {
     "data": {
      "text/plain": [
       "GridSearchCV(cv=3,\n",
       "             estimator=LogisticRegression(class_weight='balanced',\n",
       "                                          max_iter=2000, penalty='l1',\n",
       "                                          solver='liblinear'),\n",
       "             param_grid={'C': array([1.000e-02, 1.020e+00, 2.030e+00, 3.040e+00, 4.050e+00, 5.060e+00,\n",
       "       6.070e+00, 7.080e+00, 8.090e+00, 9.100e+00, 1.011e+01, 1.112e+01,\n",
       "       1.213e+01, 1.314e+01, 1.415e+01, 1.516e+01, 1.617e+01, 1.718e+01,\n",
       "       1.819e+01, 1.920e+01, 2.021e+01...\n",
       "       6.667e+01, 6.768e+01, 6.869e+01, 6.970e+01, 7.071e+01, 7.172e+01,\n",
       "       7.273e+01, 7.374e+01, 7.475e+01, 7.576e+01, 7.677e+01, 7.778e+01,\n",
       "       7.879e+01, 7.980e+01, 8.081e+01, 8.182e+01, 8.283e+01, 8.384e+01,\n",
       "       8.485e+01, 8.586e+01, 8.687e+01, 8.788e+01, 8.889e+01, 8.990e+01,\n",
       "       9.091e+01, 9.192e+01, 9.293e+01, 9.394e+01, 9.495e+01, 9.596e+01,\n",
       "       9.697e+01, 9.798e+01, 9.899e+01, 1.000e+02])},\n",
       "             scoring='roc_auc')"
      ]
     },
     "execution_count": 78,
     "metadata": {},
     "output_type": "execute_result"
    }
   ],
   "source": [
    "%%time\n",
    "params ={'C':np.linspace(1e-2,100,100)}\n",
    "logReg = LogisticRegression(penalty = 'l1', max_iter = 2000, class_weight = \"balanced\", solver = 'liblinear')\n",
    "\n",
    "grid_log_under = GridSearchCV(estimator = logReg, param_grid = params, cv = 3, scoring='roc_auc')\n",
    "grid_log_under.fit(X_res_under, y_res_under)"
   ]
  },
  {
   "cell_type": "code",
   "execution_count": 79,
   "metadata": {},
   "outputs": [
    {
     "name": "stdout",
     "output_type": "stream",
     "text": [
      "Cross Validation\n",
      "--------------------\n",
      "Best parameter:  {'C': 33.339999999999996}\n",
      "Best CV score:  0.9296\n",
      "Accuracy Score: 55.43%\n",
      "_______________________________________________\n",
      "Classification Report:\tPrecision Score: 21.36%\n",
      "\t\t\tRecall Score: 81.25%\n",
      "\t\t\tF1 score: 33.82%\n",
      "\t\t\tROC_AUC score: 66.24%\n",
      "_______________________________________________\n",
      "Confusion Matrix: \n",
      " [[754 718]\n",
      " [ 45 195]]\n",
      "\n"
     ]
    },
    {
     "data": {
      "image/png": "[encoded data removed]",
      "text/plain": [
       "<Figure size 432x288 with 1 Axes>"
      ]
     },
     "metadata": {
      "needs_background": "light"
     },
     "output_type": "display_data"
    },
    {
     "name": "stdout",
     "output_type": "stream",
     "text": [
      "('abn_percent', 51221)              1.622480\n",
      "('abn_percent', 50971)              1.099105\n",
      "('abn_percent', 51222)              1.082218\n",
      "ethnicity_BLACK/AFRICAN AMERICAN    1.076821\n",
      "ethnicity_ASIAN                     1.068087\n",
      "ethnicity_UNKNOWN                   1.008492\n",
      "('abn_percent', 50882)              0.832668\n",
      "ethnicity_OTHER                     0.791652\n",
      "ethnicity_HISPANIC/LATINO           0.786223\n",
      "('abn_percent', 51250)              0.755790\n",
      "('abn_percent', 50868)              0.733121\n",
      "('abn_percent', 51277)              0.721822\n",
      "('abn_percent', 51249)              0.699285\n",
      "('abn_percent', 50983)              0.697415\n",
      "age                                 0.658560\n",
      "('abn_percent', 50902)              0.612731\n",
      "('abn_percent', 51006)              0.504567\n",
      "('abn_percent', 51248)              0.495831\n",
      "('abn_percent', 51265)              0.452326\n",
      "('abn_percent', 51301)              0.337373\n",
      "('abn_percent', 50912)              0.221859\n",
      "('abn_percent', 51279)              0.191078\n",
      "gender                              0.102246\n",
      "('abn_percent', 50931)              0.079921\n",
      "dtype: float64\n"
     ]
    }
   ],
   "source": [
    "results(grid_log_under)"
   ]
  },
  {
   "cell_type": "markdown",
   "metadata": {},
   "source": [
    "## Random Forest"
   ]
  },
  {
   "cell_type": "markdown",
   "metadata": {},
   "source": [
    "### Basic"
   ]
  },
  {
   "cell_type": "code",
   "execution_count": 88,
   "metadata": {
    "scrolled": true
   },
   "outputs": [
    {
     "name": "stdout",
     "output_type": "stream",
     "text": [
      "CPU times: user 6min 41s, sys: 11 s, total: 6min 52s\n",
      "Wall time: 7min 23s\n"
     ]
    },
    {
     "data": {
      "text/plain": [
       "GridSearchCV(cv=3, estimator=RandomForestClassifier(),\n",
       "             param_grid={'criterion': ['gini'], 'max_depth': range(100, 130, 5),\n",
       "                         'n_estimators': range(680, 721, 10)},\n",
       "             scoring='roc_auc')"
      ]
     },
     "execution_count": 88,
     "metadata": {},
     "output_type": "execute_result"
    }
   ],
   "source": [
    "%%time\n",
    "param_grid={'criterion': ['gini'],\n",
    "            'n_estimators': range(680,721,10),\n",
    "            'max_depth': range(100,130,5)\n",
    "            }\n",
    "\n",
    "grid_rf = model_selection.GridSearchCV(estimator = RandomForestClassifier(), param_grid = param_grid, cv=3, scoring='roc_auc')\n",
    "grid_rf.fit(X_train, y_train)"
   ]
  },
  {
   "cell_type": "code",
   "execution_count": 89,
   "metadata": {},
   "outputs": [
    {
     "name": "stdout",
     "output_type": "stream",
     "text": [
      "Cross Validation\n",
      "--------------------\n",
      "Best parameter:  {'criterion': 'gini', 'max_depth': 105, 'n_estimators': 710}\n",
      "Best CV score:  0.8208\n",
      "Accuracy Score: 86.45%\n",
      "_______________________________________________\n",
      "Classification Report:\tPrecision Score: 55.56%\n",
      "\t\t\tRecall Score: 16.67%\n",
      "\t\t\tF1 score: 25.64%\n",
      "\t\t\tROC_AUC score: 57.25%\n",
      "_______________________________________________\n",
      "Confusion Matrix: \n",
      " [[1440   32]\n",
      " [ 200   40]]\n",
      "\n"
     ]
    },
    {
     "data": {
      "image/png": "[encoded data removed]",
      "text/plain": [
       "<Figure size 432x288 with 1 Axes>"
      ]
     },
     "metadata": {
      "needs_background": "light"
     },
     "output_type": "display_data"
    },
    {
     "name": "stdout",
     "output_type": "stream",
     "text": [
      "age                                        0.143728\n",
      "('abn_percent', 51006)                     0.096350\n",
      "('abn_percent', 50912)                     0.079882\n",
      "('abn_percent', 50931)                     0.067870\n",
      "('abn_percent', 51249)                     0.054745\n",
      "('abn_percent', 50882)                     0.051560\n",
      "('abn_percent', 51277)                     0.051405\n",
      "('abn_percent', 51301)                     0.051224\n",
      "('abn_percent', 50902)                     0.045172\n",
      "('abn_percent', 51265)                     0.042066\n",
      "('abn_percent', 51221)                     0.036433\n",
      "('abn_percent', 50971)                     0.034898\n",
      "('abn_percent', 50983)                     0.033095\n",
      "('abn_percent', 50868)                     0.032241\n",
      "('abn_percent', 51248)                     0.031970\n",
      "('abn_percent', 51279)                     0.030219\n",
      "('abn_percent', 51222)                     0.029567\n",
      "('abn_percent', 51250)                     0.027884\n",
      "gender                                     0.020515\n",
      "ethnicity_BLACK/AFRICAN AMERICAN           0.012424\n",
      "ethnicity_UNKNOWN                          0.007629\n",
      "ethnicity_OTHER                            0.007414\n",
      "ethnicity_HISPANIC/LATINO                  0.005696\n",
      "ethnicity_ASIAN                            0.005403\n",
      "ethnicity_AMERICAN INDIAN/ALASKA NATIVE    0.000610\n",
      "dtype: float64\n"
     ]
    }
   ],
   "source": [
    "results(grid_rf)"
   ]
  },
  {
   "cell_type": "markdown",
   "metadata": {},
   "source": [
    "### Over Sampling using SMOTE"
   ]
  },
  {
   "cell_type": "code",
   "execution_count": 105,
   "metadata": {},
   "outputs": [
    {
     "name": "stdout",
     "output_type": "stream",
     "text": [
      "CPU times: user 6min 4s, sys: 10.2 s, total: 6min 14s\n",
      "Wall time: 7min 9s\n"
     ]
    },
    {
     "data": {
      "text/plain": [
       "GridSearchCV(cv=3, estimator=RandomForestClassifier(),\n",
       "             param_grid={'criterion': ['gini'],\n",
       "                         'max_depth': array([  5.        ,  18.44444444,  31.88888889,  45.33333333,\n",
       "        58.77777778,  72.22222222,  85.66666667,  99.11111111,\n",
       "       112.55555556, 126.        ]),\n",
       "                         'n_estimators': range(800, 801)},\n",
       "             scoring='roc_auc')"
      ]
     },
     "execution_count": 105,
     "metadata": {},
     "output_type": "execute_result"
    }
   ],
   "source": [
    "%%time\n",
    "param_grid={'criterion': ['gini'],\n",
    "            'n_estimators': range(800,801,1),\n",
    "            'max_depth': np.linspace(5,126,10)\n",
    "            }\n",
    "\n",
    "grid_rf_over = model_selection.GridSearchCV(estimator = RandomForestClassifier(), param_grid = param_grid, cv=3, scoring='roc_auc')\n",
    "grid_rf_over.fit(X_res_over, y_res_over)"
   ]
  },
  {
   "cell_type": "code",
   "execution_count": 103,
   "metadata": {},
   "outputs": [
    {
     "name": "stdout",
     "output_type": "stream",
     "text": [
      "Cross Validation\n",
      "--------------------\n",
      "Best parameter:  {'criterion': 'gini', 'n_estimators': 800}\n",
      "Best CV score:  0.9760\n",
      "Accuracy Score: 84.23%\n",
      "_______________________________________________\n",
      "Classification Report:\tPrecision Score: 43.30%\n",
      "\t\t\tRecall Score: 40.42%\n",
      "\t\t\tF1 score: 41.81%\n",
      "\t\t\tROC_AUC score: 65.89%\n",
      "_______________________________________________\n",
      "Confusion Matrix: \n",
      " [[1345  127]\n",
      " [ 143   97]]\n",
      "\n"
     ]
    },
    {
     "data": {
      "image/png": "[encoded data removed]",
      "text/plain": [
       "<Figure size 432x288 with 1 Axes>"
      ]
     },
     "metadata": {
      "needs_background": "light"
     },
     "output_type": "display_data"
    },
    {
     "name": "stdout",
     "output_type": "stream",
     "text": [
      "age                                        0.180585\n",
      "('abn_percent', 51006)                     0.124530\n",
      "('abn_percent', 50912)                     0.085566\n",
      "('abn_percent', 50931)                     0.064411\n",
      "('abn_percent', 51277)                     0.052614\n",
      "('abn_percent', 50882)                     0.049729\n",
      "('abn_percent', 51249)                     0.048462\n",
      "gender                                     0.045452\n",
      "('abn_percent', 51301)                     0.038462\n",
      "('abn_percent', 50902)                     0.033731\n",
      "('abn_percent', 51265)                     0.032868\n",
      "('abn_percent', 50971)                     0.030638\n",
      "('abn_percent', 51221)                     0.027855\n",
      "('abn_percent', 51222)                     0.025897\n",
      "('abn_percent', 50983)                     0.022960\n",
      "('abn_percent', 51279)                     0.022712\n",
      "('abn_percent', 51248)                     0.021205\n",
      "('abn_percent', 51250)                     0.021148\n",
      "('abn_percent', 50868)                     0.020430\n",
      "ethnicity_BLACK/AFRICAN AMERICAN           0.017239\n",
      "ethnicity_UNKNOWN                          0.011297\n",
      "ethnicity_OTHER                            0.011038\n",
      "ethnicity_ASIAN                            0.006024\n",
      "ethnicity_HISPANIC/LATINO                  0.004792\n",
      "ethnicity_AMERICAN INDIAN/ALASKA NATIVE    0.000356\n",
      "dtype: float64\n"
     ]
    }
   ],
   "source": [
    "results(grid_rf_over)"
   ]
  },
  {
   "cell_type": "markdown",
   "metadata": {},
   "source": [
    "### Under Sampling using Near Miss"
   ]
  },
  {
   "cell_type": "code",
   "execution_count": 35,
   "metadata": {},
   "outputs": [
    {
     "name": "stdout",
     "output_type": "stream",
     "text": [
      "CPU times: user 2min 11s, sys: 3.16 s, total: 2min 15s\n",
      "Wall time: 2min 56s\n"
     ]
    },
    {
     "data": {
      "text/plain": [
       "GridSearchCV(cv=3, estimator=RandomForestClassifier(),\n",
       "             param_grid={'criterion': ['gini'], 'max_depth': range(1, 12, 2),\n",
       "                         'n_estimators': range(350, 401, 10)})"
      ]
     },
     "execution_count": 35,
     "metadata": {},
     "output_type": "execute_result"
    }
   ],
   "source": [
    "%%time\n",
    "param_grid={'criterion': ['gini'],\n",
    "            'n_estimators': range(350,401,10),\n",
    "            'max_depth': range(1,12,2)\n",
    "            }\n",
    "\n",
    "grid_rf_under = model_selection.GridSearchCV(estimator = RandomForestClassifier(), param_grid = param_grid, cv=3, scoring='roc_auc')\n",
    "grid_rf_under.fit(X_res_under, y_res_under)"
   ]
  },
  {
   "cell_type": "code",
   "execution_count": 36,
   "metadata": {},
   "outputs": [
    {
     "name": "stdout",
     "output_type": "stream",
     "text": [
      "Cross Validation\n",
      "--------------------\n",
      "Best parameter:  {'criterion': 'gini', 'max_depth': 9, 'n_estimators': 400}\n",
      "Best CV score:  0.9035\n",
      "Accuracy Score: 51.09%\n",
      "_______________________________________________\n",
      "Classification Report:\tPrecision Score: 20.40%\n",
      "\t\t\tRecall Score: 88.33%\n",
      "\t\t\tF1 score: 33.15%\n",
      "_______________________________________________\n",
      "Confusion Matrix: \n",
      " [[681 827]\n",
      " [ 28 212]]\n",
      "\n"
     ]
    },
    {
     "data": {
      "image/png": "[encoded data removed]",
      "text/plain": [
       "<Figure size 432x288 with 1 Axes>"
      ]
     },
     "metadata": {
      "needs_background": "light"
     },
     "output_type": "display_data"
    },
    {
     "name": "stdout",
     "output_type": "stream",
     "text": [
      "('abn_percent', 51006)                     0.109174\n",
      "('abn_percent', 51277)                     0.098453\n",
      "('abn_percent', 50912)                     0.070002\n",
      "('abn_percent', 51003)                     0.061530\n",
      "('abn_percent', 50885)                     0.061335\n",
      "('abn_percent', 51237)                     0.050115\n",
      "('abn_percent', 51274)                     0.047371\n",
      "('abn_percent', 50902)                     0.042314\n",
      "('abn_percent', 51275)                     0.040955\n",
      "('abn_percent', 51498)                     0.031729\n",
      "('abn_percent', 50882)                     0.026918\n",
      "age                                        0.026777\n",
      "('abn_percent', 51506)                     0.022398\n",
      "('abn_percent', 51478)                     0.022375\n",
      "('abn_percent', 50863)                     0.021440\n",
      "('abn_percent', 51486)                     0.020369\n",
      "('abn_percent', 50861)                     0.020054\n",
      "('abn_percent', 51250)                     0.019094\n",
      "('abn_percent', 51265)                     0.017499\n",
      "('abn_percent', 51248)                     0.016350\n",
      "('abn_percent', 51484)                     0.015844\n",
      "('abn_percent', 50878)                     0.015372\n",
      "('abn_percent', 50970)                     0.014637\n",
      "('abn_percent', 51249)                     0.011817\n",
      "('abn_percent', 50971)                     0.010466\n",
      "('abn_percent', 51492)                     0.010260\n",
      "('abn_percent', 50983)                     0.009297\n",
      "('abn_percent', 50911)                     0.009100\n",
      "('abn_percent', 51466)                     0.007995\n",
      "('abn_percent', 51514)                     0.007500\n",
      "('abn_percent', 50931)                     0.006614\n",
      "('abn_percent', 51222)                     0.006142\n",
      "('abn_percent', 51301)                     0.006136\n",
      "('abn_percent', 51491)                     0.005681\n",
      "('abn_percent', 50893)                     0.005676\n",
      "('abn_percent', 50868)                     0.005575\n",
      "('abn_percent', 51221)                     0.005229\n",
      "('abn_percent', 51279)                     0.005161\n",
      "('abn_percent', 50960)                     0.004436\n",
      "('abn_percent', 51487)                     0.003882\n",
      "('abn_percent', 51464)                     0.003636\n",
      "gender                                     0.001341\n",
      "ethnicity_BLACK/AFRICAN AMERICAN           0.000643\n",
      "ethnicity_HISPANIC/LATINO                  0.000369\n",
      "ethnicity_ASIAN                            0.000347\n",
      "ethnicity_OTHER                            0.000295\n",
      "ethnicity_UNKNOWN                          0.000281\n",
      "ethnicity_AMERICAN INDIAN/ALASKA NATIVE    0.000016\n",
      "dtype: float64\n"
     ]
    }
   ],
   "source": [
    "results(grid_rf_under)"
   ]
  },
  {
   "cell_type": "markdown",
   "metadata": {},
   "source": [
    "## Gradient Boost"
   ]
  },
  {
   "cell_type": "markdown",
   "metadata": {},
   "source": [
    "### basic"
   ]
  },
  {
   "cell_type": "code",
   "execution_count": 55,
   "metadata": {},
   "outputs": [
    {
     "name": "stdout",
     "output_type": "stream",
     "text": [
      "Cross Validation\n",
      "--------------------\n",
      "Best parameter:  {'n_estimators': 95}\n",
      "Best CV score:  0.8751\n",
      "Accuracy Score: 87.13%\n",
      "_______________________________________________\n",
      "Classification Report:\tPrecision Score: 56.88%\n",
      "\t\t\tRecall Score: 25.83%\n",
      "\t\t\tF1 score: 35.53%\n",
      "_______________________________________________\n",
      "Confusion Matrix: \n",
      " [[1461   47]\n",
      " [ 178   62]]\n",
      "\n"
     ]
    },
    {
     "data": {
      "image/png": "[encoded data removed]",
      "text/plain": [
       "<Figure size 432x288 with 1 Axes>"
      ]
     },
     "metadata": {
      "needs_background": "light"
     },
     "output_type": "display_data"
    },
    {
     "name": "stdout",
     "output_type": "stream",
     "text": [
      "CPU times: user 18.7 s, sys: 232 ms, total: 18.9 s\n",
      "Wall time: 19.1 s\n"
     ]
    }
   ],
   "source": [
    "%%time\n",
    "param_grid={'n_estimators':range(85,110,5),\n",
    "            }\n",
    "\n",
    "grid_gb = model_selection.GridSearchCV(estimator = GradientBoostingClassifier(), param_grid = param_grid, cv=3, scoring='roc_auc')\n",
    "grid_gb.fit(X_train, y_train)"
   ]
  },
  {
   "cell_type": "code",
   "execution_count": null,
   "metadata": {},
   "outputs": [],
   "source": [
    "results(grid_gb)"
   ]
  },
  {
   "cell_type": "code",
   "execution_count": 61,
   "metadata": {},
   "outputs": [
    {
     "name": "stdout",
     "output_type": "stream",
     "text": [
      "Cross Validation\n",
      "--------------------\n",
      "Best parameter:  {'max_depth': 3, 'max_features': 12, 'min_samples_split': 6, 'n_estimators': 95}\n",
      "Best CV score:  0.8781\n",
      "Accuracy Score: 87.53%\n",
      "_______________________________________________\n",
      "Classification Report:\tPrecision Score: 61.00%\n",
      "\t\t\tRecall Score: 25.42%\n",
      "\t\t\tF1 score: 35.88%\n",
      "_______________________________________________\n",
      "Confusion Matrix: \n",
      " [[1469   39]\n",
      " [ 179   61]]\n",
      "\n"
     ]
    },
    {
     "data": {
      "image/png": "[encoded data removed]",
      "text/plain": [
       "<Figure size 432x288 with 1 Axes>"
      ]
     },
     "metadata": {
      "needs_background": "light"
     },
     "output_type": "display_data"
    },
    {
     "name": "stdout",
     "output_type": "stream",
     "text": [
      "CPU times: user 53.3 s, sys: 670 ms, total: 54 s\n",
      "Wall time: 54.5 s\n"
     ]
    }
   ],
   "source": [
    "%%time\n",
    "param_grid={'n_estimators':[95],\n",
    "            'max_depth':range(1,8,2),\n",
    "            'min_samples_split':range(2,8,2),\n",
    "            'max_features':range(10,15,2),\n",
    "            }\n",
    "\n",
    "grid_gb = model_selection.GridSearchCV(estimator = GradientBoostingClassifier(), param_grid = param_grid, cv=3, scoring='roc_auc')\n",
    "grid_gb.fit(X_train, y_train)\n"
   ]
  },
  {
   "cell_type": "code",
   "execution_count": null,
   "metadata": {},
   "outputs": [],
   "source": [
    "results(grid_gb)"
   ]
  },
  {
   "cell_type": "markdown",
   "metadata": {},
   "source": [
    "### Over Sampling using SMOTE¶"
   ]
  },
  {
   "cell_type": "code",
   "execution_count": 73,
   "metadata": {},
   "outputs": [
    {
     "name": "stdout",
     "output_type": "stream",
     "text": [
      "CPU times: user 13min 44s, sys: 8.7 s, total: 13min 52s\n",
      "Wall time: 15min 4s\n"
     ]
    },
    {
     "data": {
      "text/plain": [
       "GridSearchCV(cv=3, estimator=GradientBoostingClassifier(),\n",
       "             param_grid={'max_depth': range(10, 13),\n",
       "                         'n_estimators': range(120, 161, 10)})"
      ]
     },
     "execution_count": 73,
     "metadata": {},
     "output_type": "execute_result"
    }
   ],
   "source": [
    "%%time\n",
    "param_grid={'n_estimators':range(120,161,10),\n",
    "            'max_depth':range(10,13,1),\n",
    "            }\n",
    "\n",
    "grid_gb_over = model_selection.GridSearchCV(estimator = GradientBoostingClassifier(), param_grid = param_grid, cv=3, scoring='roc_auc')\n",
    "grid_gb_over.fit(X_res_over, y_res_over)"
   ]
  },
  {
   "cell_type": "code",
   "execution_count": 74,
   "metadata": {},
   "outputs": [
    {
     "name": "stdout",
     "output_type": "stream",
     "text": [
      "Cross Validation\n",
      "--------------------\n",
      "Best parameter:  {'max_depth': 12, 'n_estimators': 150}\n",
      "Best CV score:  0.9086\n",
      "Accuracy Score: 86.16%\n",
      "_______________________________________________\n",
      "Classification Report:\tPrecision Score: 49.52%\n",
      "\t\t\tRecall Score: 43.33%\n",
      "\t\t\tF1 score: 46.22%\n",
      "_______________________________________________\n",
      "Confusion Matrix: \n",
      " [[1402  106]\n",
      " [ 136  104]]\n",
      "\n"
     ]
    },
    {
     "data": {
      "image/png": "[encoded data removed]",
      "text/plain": [
       "<Figure size 432x288 with 1 Axes>"
      ]
     },
     "metadata": {
      "needs_background": "light"
     },
     "output_type": "display_data"
    },
    {
     "name": "stdout",
     "output_type": "stream",
     "text": [
      "('abn_percent', 51006)                     0.308569\n",
      "age                                        0.120194\n",
      "gender                                     0.065190\n",
      "('abn_percent', 50912)                     0.046589\n",
      "('abn_percent', 50931)                     0.033402\n",
      "('abn_percent', 50893)                     0.032212\n",
      "('abn_percent', 51274)                     0.028017\n",
      "('abn_percent', 51003)                     0.026271\n",
      "('abn_percent', 50970)                     0.025380\n",
      "('abn_percent', 51277)                     0.023298\n",
      "('abn_percent', 51301)                     0.022504\n",
      "('abn_percent', 51249)                     0.022244\n",
      "('abn_percent', 51221)                     0.019728\n",
      "('abn_percent', 50882)                     0.017675\n",
      "('abn_percent', 51275)                     0.015628\n",
      "('abn_percent', 51265)                     0.014290\n",
      "('abn_percent', 50960)                     0.012975\n",
      "('abn_percent', 50902)                     0.012375\n",
      "('abn_percent', 50983)                     0.012180\n",
      "('abn_percent', 51250)                     0.011741\n",
      "('abn_percent', 51279)                     0.011598\n",
      "('abn_percent', 51248)                     0.011171\n",
      "('abn_percent', 51222)                     0.010761\n",
      "('abn_percent', 50971)                     0.009250\n",
      "('abn_percent', 51466)                     0.008104\n",
      "('abn_percent', 51237)                     0.007534\n",
      "('abn_percent', 50878)                     0.007492\n",
      "('abn_percent', 50868)                     0.006464\n",
      "ethnicity_BLACK/AFRICAN AMERICAN           0.006060\n",
      "('abn_percent', 50861)                     0.005759\n",
      "('abn_percent', 51484)                     0.005499\n",
      "ethnicity_OTHER                            0.004885\n",
      "ethnicity_UNKNOWN                          0.004881\n",
      "('abn_percent', 50863)                     0.004467\n",
      "('abn_percent', 51478)                     0.003719\n",
      "('abn_percent', 50885)                     0.003489\n",
      "('abn_percent', 50911)                     0.003459\n",
      "('abn_percent', 51498)                     0.002856\n",
      "('abn_percent', 51514)                     0.002819\n",
      "ethnicity_ASIAN                            0.002404\n",
      "ethnicity_HISPANIC/LATINO                  0.002286\n",
      "('abn_percent', 51492)                     0.001785\n",
      "('abn_percent', 51486)                     0.000981\n",
      "('abn_percent', 51491)                     0.000909\n",
      "('abn_percent', 51506)                     0.000428\n",
      "('abn_percent', 51487)                     0.000372\n",
      "('abn_percent', 51464)                     0.000057\n",
      "ethnicity_AMERICAN INDIAN/ALASKA NATIVE    0.000045\n",
      "dtype: float64\n"
     ]
    }
   ],
   "source": [
    "results(grid_gb_over)"
   ]
  },
  {
   "cell_type": "code",
   "execution_count": null,
   "metadata": {},
   "outputs": [],
   "source": [
    "%%time\n",
    "param_grid={'n_estimators':range(20,81,20),\n",
    "            'max_depth':range(5,16,4),\n",
    "            'min_samples_split':range(20,100,30),\n",
    "            'max_features':range(7,20,5),\n",
    "            }\n",
    "# 'max_depth': 9, 'n_estimators': 80\n",
    "grid_gb_over = model_selection.GridSearchCV(estimator = GradientBoostingClassifier(), param_grid = param_grid, cv=3, scoring='roc_auc')\n",
    "grid_gb_over.fit(X_res_over, y_res_over)"
   ]
  },
  {
   "cell_type": "code",
   "execution_count": null,
   "metadata": {},
   "outputs": [],
   "source": [
    "results(grid_gb_over)"
   ]
  },
  {
   "cell_type": "markdown",
   "metadata": {},
   "source": [
    "### Under Sampling using Near Miss"
   ]
  },
  {
   "cell_type": "code",
   "execution_count": 78,
   "metadata": {},
   "outputs": [
    {
     "name": "stdout",
     "output_type": "stream",
     "text": [
      "Cross Validation\n",
      "--------------------\n",
      "Best parameter:  {'n_estimators': 50}\n",
      "Best CV score:  0.9150\n",
      "Accuracy Score: 52.29%\n",
      "_______________________________________________\n",
      "Classification Report:\tPrecision Score: 21.22%\n",
      "\t\t\tRecall Score: 91.25%\n",
      "\t\t\tF1 score: 34.43%\n",
      "_______________________________________________\n",
      "Confusion Matrix: \n",
      " [[695 813]\n",
      " [ 21 219]]\n",
      "\n"
     ]
    },
    {
     "data": {
      "image/png": "[encoded data removed]",
      "text/plain": [
       "<Figure size 432x288 with 1 Axes>"
      ]
     },
     "metadata": {
      "needs_background": "light"
     },
     "output_type": "display_data"
    },
    {
     "name": "stdout",
     "output_type": "stream",
     "text": [
      "('abn_percent', 51006)                     0.413104\n",
      "('abn_percent', 51274)                     0.112079\n",
      "('abn_percent', 50970)                     0.075198\n",
      "('abn_percent', 51277)                     0.072739\n",
      "('abn_percent', 50912)                     0.037899\n",
      "('abn_percent', 51003)                     0.034561\n",
      "('abn_percent', 51265)                     0.034106\n",
      "('abn_percent', 51275)                     0.032824\n",
      "('abn_percent', 50882)                     0.030679\n",
      "('abn_percent', 50902)                     0.025734\n",
      "('abn_percent', 51248)                     0.022983\n",
      "('abn_percent', 51222)                     0.016565\n",
      "age                                        0.014636\n",
      "('abn_percent', 51250)                     0.011278\n",
      "('abn_percent', 51249)                     0.011056\n",
      "('abn_percent', 51237)                     0.009624\n",
      "('abn_percent', 51279)                     0.007495\n",
      "('abn_percent', 50893)                     0.005673\n",
      "('abn_percent', 50971)                     0.005553\n",
      "('abn_percent', 51301)                     0.005492\n",
      "('abn_percent', 51466)                     0.005152\n",
      "('abn_percent', 50861)                     0.004303\n",
      "('abn_percent', 51221)                     0.002020\n",
      "('abn_percent', 51478)                     0.001790\n",
      "('abn_percent', 50931)                     0.001635\n",
      "('abn_percent', 50863)                     0.001588\n",
      "('abn_percent', 50983)                     0.001246\n",
      "('abn_percent', 50960)                     0.000954\n",
      "('abn_percent', 51506)                     0.000486\n",
      "gender                                     0.000467\n",
      "ethnicity_ASIAN                            0.000349\n",
      "('abn_percent', 51464)                     0.000305\n",
      "ethnicity_BLACK/AFRICAN AMERICAN           0.000144\n",
      "ethnicity_HISPANIC/LATINO                  0.000102\n",
      "('abn_percent', 51484)                     0.000101\n",
      "('abn_percent', 50911)                     0.000079\n",
      "('abn_percent', 51498)                     0.000000\n",
      "('abn_percent', 51492)                     0.000000\n",
      "('abn_percent', 51514)                     0.000000\n",
      "('abn_percent', 51491)                     0.000000\n",
      "('abn_percent', 51487)                     0.000000\n",
      "('abn_percent', 51486)                     0.000000\n",
      "ethnicity_AMERICAN INDIAN/ALASKA NATIVE    0.000000\n",
      "('abn_percent', 50885)                     0.000000\n",
      "('abn_percent', 50878)                     0.000000\n",
      "('abn_percent', 50868)                     0.000000\n",
      "ethnicity_OTHER                            0.000000\n",
      "ethnicity_UNKNOWN                          0.000000\n",
      "dtype: float64\n",
      "CPU times: user 5.17 s, sys: 67.5 ms, total: 5.23 s\n",
      "Wall time: 5.64 s\n"
     ]
    }
   ],
   "source": [
    "%%time\n",
    "param_grid={'n_estimators':range(20,100,10),\n",
    "            }\n",
    "\n",
    "grid_gb_under = model_selection.GridSearchCV(estimator = GradientBoostingClassifier(), param_grid = param_grid, cv=3, scoring='roc_auc')\n",
    "grid_gb_under.fit(X_res_under, y_res_under)"
   ]
  },
  {
   "cell_type": "code",
   "execution_count": null,
   "metadata": {},
   "outputs": [],
   "source": [
    "results(grid_gb_under)"
   ]
  },
  {
   "cell_type": "code",
   "execution_count": 79,
   "metadata": {},
   "outputs": [
    {
     "name": "stdout",
     "output_type": "stream",
     "text": [
      "Cross Validation\n",
      "--------------------\n",
      "Best parameter:  {'max_depth': 5, 'max_features': 7, 'min_samples_split': 80, 'n_estimators': 50}\n",
      "Best CV score:  0.9093\n",
      "Accuracy Score: 47.48%\n",
      "_______________________________________________\n",
      "Classification Report:\tPrecision Score: 19.89%\n",
      "\t\t\tRecall Score: 93.33%\n",
      "\t\t\tF1 score: 32.80%\n",
      "_______________________________________________\n",
      "Confusion Matrix: \n",
      " [[606 902]\n",
      " [ 16 224]]\n",
      "\n"
     ]
    },
    {
     "data": {
      "image/png": "[encoded data removed]",
      "text/plain": [
       "<Figure size 432x288 with 1 Axes>"
      ]
     },
     "metadata": {
      "needs_background": "light"
     },
     "output_type": "display_data"
    },
    {
     "name": "stdout",
     "output_type": "stream",
     "text": [
      "('abn_percent', 50970)                     0.097845\n",
      "('abn_percent', 51006)                     0.097659\n",
      "('abn_percent', 50912)                     0.085239\n",
      "('abn_percent', 51277)                     0.085213\n",
      "('abn_percent', 51237)                     0.075249\n",
      "('abn_percent', 51222)                     0.071849\n",
      "('abn_percent', 50902)                     0.069697\n",
      "('abn_percent', 51274)                     0.054896\n",
      "('abn_percent', 51249)                     0.054346\n",
      "('abn_percent', 51003)                     0.051364\n",
      "('abn_percent', 51275)                     0.050870\n",
      "('abn_percent', 50882)                     0.034744\n",
      "('abn_percent', 51250)                     0.031043\n",
      "('abn_percent', 51265)                     0.028339\n",
      "('abn_percent', 51248)                     0.016332\n",
      "('abn_percent', 50971)                     0.015407\n",
      "age                                        0.014550\n",
      "('abn_percent', 50983)                     0.009082\n",
      "('abn_percent', 50868)                     0.008894\n",
      "('abn_percent', 51301)                     0.008496\n",
      "('abn_percent', 50878)                     0.006841\n",
      "('abn_percent', 51466)                     0.006682\n",
      "('abn_percent', 50861)                     0.004458\n",
      "('abn_percent', 50960)                     0.003071\n",
      "('abn_percent', 50863)                     0.002933\n",
      "('abn_percent', 51478)                     0.002528\n",
      "('abn_percent', 51492)                     0.002158\n",
      "('abn_percent', 50893)                     0.002012\n",
      "('abn_percent', 50931)                     0.001918\n",
      "('abn_percent', 51221)                     0.001883\n",
      "('abn_percent', 51279)                     0.001869\n",
      "gender                                     0.000828\n",
      "ethnicity_ASIAN                            0.000808\n",
      "ethnicity_BLACK/AFRICAN AMERICAN           0.000240\n",
      "('abn_percent', 50911)                     0.000215\n",
      "ethnicity_UNKNOWN                          0.000105\n",
      "ethnicity_HISPANIC/LATINO                  0.000081\n",
      "ethnicity_OTHER                            0.000081\n",
      "('abn_percent', 51464)                     0.000080\n",
      "('abn_percent', 51498)                     0.000046\n",
      "('abn_percent', 51514)                     0.000041\n",
      "('abn_percent', 51484)                     0.000007\n",
      "('abn_percent', 51506)                     0.000000\n",
      "('abn_percent', 51491)                     0.000000\n",
      "ethnicity_AMERICAN INDIAN/ALASKA NATIVE    0.000000\n",
      "('abn_percent', 51487)                     0.000000\n",
      "('abn_percent', 50885)                     0.000000\n",
      "('abn_percent', 51486)                     0.000000\n",
      "dtype: float64\n"
     ]
    }
   ],
   "source": [
    "param_grid={'n_estimators':range(50,51,1),\n",
    "            'max_depth':range(5,16,4),\n",
    "            'min_samples_split':range(20,100,30),\n",
    "            'max_features':range(7,20,5),\n",
    "            }\n",
    "\n",
    "grid_gb_under = model_selection.GridSearchCV(estimator = GradientBoostingClassifier(), param_grid = param_grid, cv=3, scoring='roc_auc')\n",
    "grid_gb_under.fit(X_res_under, y_res_under)"
   ]
  },
  {
   "cell_type": "code",
   "execution_count": null,
   "metadata": {},
   "outputs": [],
   "source": [
    "results(grid_gb_under)"
   ]
  },
  {
   "cell_type": "markdown",
   "metadata": {},
   "source": [
    "## Gather Metrics"
   ]
  },
  {
   "cell_type": "code",
   "execution_count": 96,
   "metadata": {},
   "outputs": [],
   "source": [
    "def gather_metrics(model_list):\n",
    "    '''\n",
    "    Gathers metrics from models in model_list and returns a dataframe of gathered metrics.\n",
    "    '''\n",
    "    metrics = pd.DataFrame(columns = ['Model','F1','ROC_AUC','Recall','Accuracy','Precision'])\n",
    "    \n",
    "    for model, model_name in model_list:\n",
    "        pred = model.best_estimator_.predict(X_test)\n",
    "        \n",
    "        f1 = f1_score(y_test, pred)\n",
    "        roc_auc = roc_auc_score(y_test, pred)\n",
    "        recall = recall_score(y_test, pred)\n",
    "        accuracy = accuracy_score(y_test, pred)\n",
    "        precision = precision_score(y_test, pred)\n",
    "        \n",
    "        metrics = metrics.append({'Model':model_name,\n",
    "                                  'F1':f1,\n",
    "                                  'ROC_AUC':roc_auc,\n",
    "                                  'Recall':recall,\n",
    "                                  'Accuracy':accuracy,\n",
    "                                  'Precision':precision}\n",
    "                                 ,ignore_index=True)        \n",
    "    return metrics"
   ]
  },
  {
   "cell_type": "code",
   "execution_count": 97,
   "metadata": {},
   "outputs": [
    {
     "data": {
      "text/html": [
       "<div>\n",
       "<style scoped>\n",
       "    .dataframe tbody tr th:only-of-type {\n",
       "        vertical-align: middle;\n",
       "    }\n",
       "\n",
       "    .dataframe tbody tr th {\n",
       "        vertical-align: top;\n",
       "    }\n",
       "\n",
       "    .dataframe thead th {\n",
       "        text-align: right;\n",
       "    }\n",
       "</style>\n",
       "<table border=\"1\" class=\"dataframe\">\n",
       "  <thead>\n",
       "    <tr style=\"text-align: right;\">\n",
       "      <th></th>\n",
       "      <th>Model</th>\n",
       "      <th>F1</th>\n",
       "      <th>ROC_AUC</th>\n",
       "      <th>Recall</th>\n",
       "      <th>Accuracy</th>\n",
       "      <th>Precision</th>\n",
       "    </tr>\n",
       "  </thead>\n",
       "  <tbody>\n",
       "    <tr>\n",
       "      <th>0</th>\n",
       "      <td>logistic_basic</td>\n",
       "      <td>0.441026</td>\n",
       "      <td>0.733333</td>\n",
       "      <td>0.716667</td>\n",
       "      <td>0.745327</td>\n",
       "      <td>0.318519</td>\n",
       "    </tr>\n",
       "    <tr>\n",
       "      <th>1</th>\n",
       "      <td>logistic_under</td>\n",
       "      <td>0.338248</td>\n",
       "      <td>0.662364</td>\n",
       "      <td>0.812500</td>\n",
       "      <td>0.554322</td>\n",
       "      <td>0.213582</td>\n",
       "    </tr>\n",
       "    <tr>\n",
       "      <th>2</th>\n",
       "      <td>logistic_over</td>\n",
       "      <td>0.433420</td>\n",
       "      <td>0.723551</td>\n",
       "      <td>0.691667</td>\n",
       "      <td>0.746495</td>\n",
       "      <td>0.315589</td>\n",
       "    </tr>\n",
       "  </tbody>\n",
       "</table>\n",
       "</div>"
      ],
      "text/plain": [
       "            Model        F1   ROC_AUC    Recall  Accuracy  Precision\n",
       "0  logistic_basic  0.441026  0.733333  0.716667  0.745327   0.318519\n",
       "1  logistic_under  0.338248  0.662364  0.812500  0.554322   0.213582\n",
       "2   logistic_over  0.433420  0.723551  0.691667  0.746495   0.315589"
      ]
     },
     "execution_count": 97,
     "metadata": {},
     "output_type": "execute_result"
    }
   ],
   "source": [
    "model_list=[(grid_log,'logistic_basic'),(grid_log_under,'logistic_under'),(grid_log_over,'logistic_over')]\n",
    "#             , \n",
    "#             (grid_gb,'gradient_boost_basic'),(grid_gb_under,'gradient_boost_under'),(grid_gb_over,'gradient_boost_over'),\n",
    "#             (grid_rf,'random_forest_basic'),(grid_rf_under,'random_forest_under'),(grid_rf_over,'random_forest_over')\n",
    "#            ]\n",
    "gather_metrics(model_list)"
   ]
  },
  {
   "cell_type": "markdown",
   "metadata": {},
   "source": [
    "## Gather Best Features"
   ]
  },
  {
   "cell_type": "code",
   "execution_count": 100,
   "metadata": {},
   "outputs": [],
   "source": [
    "def gather_best_features(model_list):\n",
    "    best_features = pd.DataFrame()\n",
    "#     sampling_types = ['None','Under Sample','Over Sample']\n",
    "    \n",
    "#     counter=0\n",
    "    for model, model_name in model_list:\n",
    "        if model.estimator.__class__== sklearn.linear_model._logistic.LogisticRegression:\n",
    "            est_coefs = pd.Series(grid_log.best_estimator_.coef_[0], index=X_train.columns)\n",
    "        else:\n",
    "            est_coefs = pd.Series(model.best_estimator_.feature_importances_, index=X_train.columns)\n",
    "            \n",
    "        sortedCoefs = np.abs(est_coefs).sort_values(ascending=False)\n",
    "        sorted_df = pd.DataFrame(sortedCoefs).reset_index().rename(columns={\"index\":'features', 0: model_name})\n",
    "        best_features = pd.concat([best_features, sorted_df], axis=1)\n",
    "    return best_features"
   ]
  },
  {
   "cell_type": "code",
   "execution_count": 101,
   "metadata": {},
   "outputs": [
    {
     "data": {
      "text/html": [
       "<div>\n",
       "<style scoped>\n",
       "    .dataframe tbody tr th:only-of-type {\n",
       "        vertical-align: middle;\n",
       "    }\n",
       "\n",
       "    .dataframe tbody tr th {\n",
       "        vertical-align: top;\n",
       "    }\n",
       "\n",
       "    .dataframe thead th {\n",
       "        text-align: right;\n",
       "    }\n",
       "</style>\n",
       "<table border=\"1\" class=\"dataframe\">\n",
       "  <thead>\n",
       "    <tr style=\"text-align: right;\">\n",
       "      <th></th>\n",
       "      <th>features</th>\n",
       "      <th>logistic_basic</th>\n",
       "      <th>features</th>\n",
       "      <th>logistic_under</th>\n",
       "      <th>features</th>\n",
       "      <th>logistic_over</th>\n",
       "    </tr>\n",
       "  </thead>\n",
       "  <tbody>\n",
       "    <tr>\n",
       "      <th>0</th>\n",
       "      <td>age</td>\n",
       "      <td>0.924954</td>\n",
       "      <td>age</td>\n",
       "      <td>0.924954</td>\n",
       "      <td>age</td>\n",
       "      <td>0.924954</td>\n",
       "    </tr>\n",
       "    <tr>\n",
       "      <th>1</th>\n",
       "      <td>('abn_percent', 51006)</td>\n",
       "      <td>0.367268</td>\n",
       "      <td>('abn_percent', 51006)</td>\n",
       "      <td>0.367268</td>\n",
       "      <td>('abn_percent', 51006)</td>\n",
       "      <td>0.367268</td>\n",
       "    </tr>\n",
       "    <tr>\n",
       "      <th>2</th>\n",
       "      <td>('abn_percent', 51277)</td>\n",
       "      <td>0.365247</td>\n",
       "      <td>('abn_percent', 51277)</td>\n",
       "      <td>0.365247</td>\n",
       "      <td>('abn_percent', 51277)</td>\n",
       "      <td>0.365247</td>\n",
       "    </tr>\n",
       "    <tr>\n",
       "      <th>3</th>\n",
       "      <td>('abn_percent', 51221)</td>\n",
       "      <td>0.356932</td>\n",
       "      <td>('abn_percent', 51221)</td>\n",
       "      <td>0.356932</td>\n",
       "      <td>('abn_percent', 51221)</td>\n",
       "      <td>0.356932</td>\n",
       "    </tr>\n",
       "    <tr>\n",
       "      <th>4</th>\n",
       "      <td>('abn_percent', 51222)</td>\n",
       "      <td>0.336503</td>\n",
       "      <td>('abn_percent', 51222)</td>\n",
       "      <td>0.336503</td>\n",
       "      <td>('abn_percent', 51222)</td>\n",
       "      <td>0.336503</td>\n",
       "    </tr>\n",
       "    <tr>\n",
       "      <th>5</th>\n",
       "      <td>('abn_percent', 50912)</td>\n",
       "      <td>0.293142</td>\n",
       "      <td>('abn_percent', 50912)</td>\n",
       "      <td>0.293142</td>\n",
       "      <td>('abn_percent', 50912)</td>\n",
       "      <td>0.293142</td>\n",
       "    </tr>\n",
       "    <tr>\n",
       "      <th>6</th>\n",
       "      <td>('abn_percent', 50931)</td>\n",
       "      <td>0.199714</td>\n",
       "      <td>('abn_percent', 50931)</td>\n",
       "      <td>0.199714</td>\n",
       "      <td>('abn_percent', 50931)</td>\n",
       "      <td>0.199714</td>\n",
       "    </tr>\n",
       "    <tr>\n",
       "      <th>7</th>\n",
       "      <td>('abn_percent', 51249)</td>\n",
       "      <td>0.149206</td>\n",
       "      <td>('abn_percent', 51249)</td>\n",
       "      <td>0.149206</td>\n",
       "      <td>('abn_percent', 51249)</td>\n",
       "      <td>0.149206</td>\n",
       "    </tr>\n",
       "    <tr>\n",
       "      <th>8</th>\n",
       "      <td>ethnicity_BLACK/AFRICAN AMERICAN</td>\n",
       "      <td>0.148948</td>\n",
       "      <td>ethnicity_BLACK/AFRICAN AMERICAN</td>\n",
       "      <td>0.148948</td>\n",
       "      <td>ethnicity_BLACK/AFRICAN AMERICAN</td>\n",
       "      <td>0.148948</td>\n",
       "    </tr>\n",
       "    <tr>\n",
       "      <th>9</th>\n",
       "      <td>gender</td>\n",
       "      <td>0.140296</td>\n",
       "      <td>gender</td>\n",
       "      <td>0.140296</td>\n",
       "      <td>gender</td>\n",
       "      <td>0.140296</td>\n",
       "    </tr>\n",
       "    <tr>\n",
       "      <th>10</th>\n",
       "      <td>('abn_percent', 50971)</td>\n",
       "      <td>0.061245</td>\n",
       "      <td>('abn_percent', 50971)</td>\n",
       "      <td>0.061245</td>\n",
       "      <td>('abn_percent', 50971)</td>\n",
       "      <td>0.061245</td>\n",
       "    </tr>\n",
       "    <tr>\n",
       "      <th>11</th>\n",
       "      <td>('abn_percent', 51301)</td>\n",
       "      <td>0.049881</td>\n",
       "      <td>('abn_percent', 51301)</td>\n",
       "      <td>0.049881</td>\n",
       "      <td>('abn_percent', 51301)</td>\n",
       "      <td>0.049881</td>\n",
       "    </tr>\n",
       "    <tr>\n",
       "      <th>12</th>\n",
       "      <td>('abn_percent', 51250)</td>\n",
       "      <td>0.045587</td>\n",
       "      <td>('abn_percent', 51250)</td>\n",
       "      <td>0.045587</td>\n",
       "      <td>('abn_percent', 51250)</td>\n",
       "      <td>0.045587</td>\n",
       "    </tr>\n",
       "    <tr>\n",
       "      <th>13</th>\n",
       "      <td>('abn_percent', 50882)</td>\n",
       "      <td>0.037655</td>\n",
       "      <td>('abn_percent', 50882)</td>\n",
       "      <td>0.037655</td>\n",
       "      <td>('abn_percent', 50882)</td>\n",
       "      <td>0.037655</td>\n",
       "    </tr>\n",
       "    <tr>\n",
       "      <th>14</th>\n",
       "      <td>('abn_percent', 51248)</td>\n",
       "      <td>0.029490</td>\n",
       "      <td>('abn_percent', 51248)</td>\n",
       "      <td>0.029490</td>\n",
       "      <td>('abn_percent', 51248)</td>\n",
       "      <td>0.029490</td>\n",
       "    </tr>\n",
       "    <tr>\n",
       "      <th>15</th>\n",
       "      <td>('abn_percent', 50868)</td>\n",
       "      <td>0.017237</td>\n",
       "      <td>('abn_percent', 50868)</td>\n",
       "      <td>0.017237</td>\n",
       "      <td>('abn_percent', 50868)</td>\n",
       "      <td>0.017237</td>\n",
       "    </tr>\n",
       "    <tr>\n",
       "      <th>16</th>\n",
       "      <td>('abn_percent', 50902)</td>\n",
       "      <td>0.014745</td>\n",
       "      <td>('abn_percent', 50902)</td>\n",
       "      <td>0.014745</td>\n",
       "      <td>('abn_percent', 50902)</td>\n",
       "      <td>0.014745</td>\n",
       "    </tr>\n",
       "    <tr>\n",
       "      <th>17</th>\n",
       "      <td>('abn_percent', 51265)</td>\n",
       "      <td>0.000404</td>\n",
       "      <td>('abn_percent', 51265)</td>\n",
       "      <td>0.000404</td>\n",
       "      <td>('abn_percent', 51265)</td>\n",
       "      <td>0.000404</td>\n",
       "    </tr>\n",
       "    <tr>\n",
       "      <th>18</th>\n",
       "      <td>ethnicity_OTHER</td>\n",
       "      <td>0.000000</td>\n",
       "      <td>ethnicity_OTHER</td>\n",
       "      <td>0.000000</td>\n",
       "      <td>ethnicity_OTHER</td>\n",
       "      <td>0.000000</td>\n",
       "    </tr>\n",
       "    <tr>\n",
       "      <th>19</th>\n",
       "      <td>('abn_percent', 50983)</td>\n",
       "      <td>0.000000</td>\n",
       "      <td>('abn_percent', 50983)</td>\n",
       "      <td>0.000000</td>\n",
       "      <td>('abn_percent', 50983)</td>\n",
       "      <td>0.000000</td>\n",
       "    </tr>\n",
       "    <tr>\n",
       "      <th>20</th>\n",
       "      <td>('abn_percent', 51279)</td>\n",
       "      <td>0.000000</td>\n",
       "      <td>('abn_percent', 51279)</td>\n",
       "      <td>0.000000</td>\n",
       "      <td>('abn_percent', 51279)</td>\n",
       "      <td>0.000000</td>\n",
       "    </tr>\n",
       "    <tr>\n",
       "      <th>21</th>\n",
       "      <td>ethnicity_AMERICAN INDIAN/ALASKA NATIVE</td>\n",
       "      <td>0.000000</td>\n",
       "      <td>ethnicity_AMERICAN INDIAN/ALASKA NATIVE</td>\n",
       "      <td>0.000000</td>\n",
       "      <td>ethnicity_AMERICAN INDIAN/ALASKA NATIVE</td>\n",
       "      <td>0.000000</td>\n",
       "    </tr>\n",
       "    <tr>\n",
       "      <th>22</th>\n",
       "      <td>ethnicity_ASIAN</td>\n",
       "      <td>0.000000</td>\n",
       "      <td>ethnicity_ASIAN</td>\n",
       "      <td>0.000000</td>\n",
       "      <td>ethnicity_ASIAN</td>\n",
       "      <td>0.000000</td>\n",
       "    </tr>\n",
       "    <tr>\n",
       "      <th>23</th>\n",
       "      <td>ethnicity_HISPANIC/LATINO</td>\n",
       "      <td>0.000000</td>\n",
       "      <td>ethnicity_HISPANIC/LATINO</td>\n",
       "      <td>0.000000</td>\n",
       "      <td>ethnicity_HISPANIC/LATINO</td>\n",
       "      <td>0.000000</td>\n",
       "    </tr>\n",
       "    <tr>\n",
       "      <th>24</th>\n",
       "      <td>ethnicity_UNKNOWN</td>\n",
       "      <td>0.000000</td>\n",
       "      <td>ethnicity_UNKNOWN</td>\n",
       "      <td>0.000000</td>\n",
       "      <td>ethnicity_UNKNOWN</td>\n",
       "      <td>0.000000</td>\n",
       "    </tr>\n",
       "  </tbody>\n",
       "</table>\n",
       "</div>"
      ],
      "text/plain": [
       "                                   features  logistic_basic  \\\n",
       "0                                       age        0.924954   \n",
       "1                    ('abn_percent', 51006)        0.367268   \n",
       "2                    ('abn_percent', 51277)        0.365247   \n",
       "3                    ('abn_percent', 51221)        0.356932   \n",
       "4                    ('abn_percent', 51222)        0.336503   \n",
       "5                    ('abn_percent', 50912)        0.293142   \n",
       "6                    ('abn_percent', 50931)        0.199714   \n",
       "7                    ('abn_percent', 51249)        0.149206   \n",
       "8          ethnicity_BLACK/AFRICAN AMERICAN        0.148948   \n",
       "9                                    gender        0.140296   \n",
       "10                   ('abn_percent', 50971)        0.061245   \n",
       "11                   ('abn_percent', 51301)        0.049881   \n",
       "12                   ('abn_percent', 51250)        0.045587   \n",
       "13                   ('abn_percent', 50882)        0.037655   \n",
       "14                   ('abn_percent', 51248)        0.029490   \n",
       "15                   ('abn_percent', 50868)        0.017237   \n",
       "16                   ('abn_percent', 50902)        0.014745   \n",
       "17                   ('abn_percent', 51265)        0.000404   \n",
       "18                          ethnicity_OTHER        0.000000   \n",
       "19                   ('abn_percent', 50983)        0.000000   \n",
       "20                   ('abn_percent', 51279)        0.000000   \n",
       "21  ethnicity_AMERICAN INDIAN/ALASKA NATIVE        0.000000   \n",
       "22                          ethnicity_ASIAN        0.000000   \n",
       "23                ethnicity_HISPANIC/LATINO        0.000000   \n",
       "24                        ethnicity_UNKNOWN        0.000000   \n",
       "\n",
       "                                   features  logistic_under  \\\n",
       "0                                       age        0.924954   \n",
       "1                    ('abn_percent', 51006)        0.367268   \n",
       "2                    ('abn_percent', 51277)        0.365247   \n",
       "3                    ('abn_percent', 51221)        0.356932   \n",
       "4                    ('abn_percent', 51222)        0.336503   \n",
       "5                    ('abn_percent', 50912)        0.293142   \n",
       "6                    ('abn_percent', 50931)        0.199714   \n",
       "7                    ('abn_percent', 51249)        0.149206   \n",
       "8          ethnicity_BLACK/AFRICAN AMERICAN        0.148948   \n",
       "9                                    gender        0.140296   \n",
       "10                   ('abn_percent', 50971)        0.061245   \n",
       "11                   ('abn_percent', 51301)        0.049881   \n",
       "12                   ('abn_percent', 51250)        0.045587   \n",
       "13                   ('abn_percent', 50882)        0.037655   \n",
       "14                   ('abn_percent', 51248)        0.029490   \n",
       "15                   ('abn_percent', 50868)        0.017237   \n",
       "16                   ('abn_percent', 50902)        0.014745   \n",
       "17                   ('abn_percent', 51265)        0.000404   \n",
       "18                          ethnicity_OTHER        0.000000   \n",
       "19                   ('abn_percent', 50983)        0.000000   \n",
       "20                   ('abn_percent', 51279)        0.000000   \n",
       "21  ethnicity_AMERICAN INDIAN/ALASKA NATIVE        0.000000   \n",
       "22                          ethnicity_ASIAN        0.000000   \n",
       "23                ethnicity_HISPANIC/LATINO        0.000000   \n",
       "24                        ethnicity_UNKNOWN        0.000000   \n",
       "\n",
       "                                   features  logistic_over  \n",
       "0                                       age       0.924954  \n",
       "1                    ('abn_percent', 51006)       0.367268  \n",
       "2                    ('abn_percent', 51277)       0.365247  \n",
       "3                    ('abn_percent', 51221)       0.356932  \n",
       "4                    ('abn_percent', 51222)       0.336503  \n",
       "5                    ('abn_percent', 50912)       0.293142  \n",
       "6                    ('abn_percent', 50931)       0.199714  \n",
       "7                    ('abn_percent', 51249)       0.149206  \n",
       "8          ethnicity_BLACK/AFRICAN AMERICAN       0.148948  \n",
       "9                                    gender       0.140296  \n",
       "10                   ('abn_percent', 50971)       0.061245  \n",
       "11                   ('abn_percent', 51301)       0.049881  \n",
       "12                   ('abn_percent', 51250)       0.045587  \n",
       "13                   ('abn_percent', 50882)       0.037655  \n",
       "14                   ('abn_percent', 51248)       0.029490  \n",
       "15                   ('abn_percent', 50868)       0.017237  \n",
       "16                   ('abn_percent', 50902)       0.014745  \n",
       "17                   ('abn_percent', 51265)       0.000404  \n",
       "18                          ethnicity_OTHER       0.000000  \n",
       "19                   ('abn_percent', 50983)       0.000000  \n",
       "20                   ('abn_percent', 51279)       0.000000  \n",
       "21  ethnicity_AMERICAN INDIAN/ALASKA NATIVE       0.000000  \n",
       "22                          ethnicity_ASIAN       0.000000  \n",
       "23                ethnicity_HISPANIC/LATINO       0.000000  \n",
       "24                        ethnicity_UNKNOWN       0.000000  "
      ]
     },
     "execution_count": 101,
     "metadata": {},
     "output_type": "execute_result"
    }
   ],
   "source": [
    "gather_best_features(model_list)"
   ]
  },
  {
   "cell_type": "code",
   "execution_count": null,
   "metadata": {},
   "outputs": [],
   "source": []
  }
 ],
 "metadata": {
  "kernelspec": {
   "display_name": "Python 3",
   "language": "python",
   "name": "python3"
  },
  "language_info": {
   "codemirror_mode": {
    "name": "ipython",
    "version": 3
   },
   "file_extension": ".py",
   "mimetype": "text/x-python",
   "name": "python",
   "nbconvert_exporter": "python",
   "pygments_lexer": "ipython3",
   "version": "3.7.6"
  }
 },
 "nbformat": 4,
 "nbformat_minor": 4
}
