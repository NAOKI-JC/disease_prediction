{
 "cells": [
  {
   "cell_type": "code",
   "execution_count": 1,
   "metadata": {},
   "outputs": [],
   "source": [
    "import pandas as pd\n",
    "import numpy as np\n",
    "import matplotlib.pyplot as plt"
   ]
  },
  {
   "cell_type": "code",
   "execution_count": 2,
   "metadata": {},
   "outputs": [],
   "source": [
    "path = \"D:\\\\Bootcamp\\\\MIMIC IV\\\\\"\n",
    "admissions = pd.read_csv(path + \"core\\\\admissions.csv.gz\", compression='gzip')\n",
    "patients = pd.read_csv(path + \"core\\\\patients.csv.gz\", compression='gzip')\n",
    "# transfers = pd.read_csv(path + \"core\\\\transfers.csv.gz\", compression='gzip')\n",
    "\n",
    "diagnoses = pd.read_csv(path + \"hosp\\\\diagnoses_icd.csv.gz\", compression='gzip')\n",
    "d_diagnoses = pd.read_csv(path + \"hosp\\\\d_icd_diagnoses.csv.gz\", compression='gzip')\n",
    "drg_codes = pd.read_csv(path + \"hosp\\\\drgcodes.csv.gz\", compression='gzip')\n",
    "\n",
    "d_lab_events = pd.read_csv(path + \"hosp\\\\d_labitems.csv.gz\", compression='gzip')"
   ]
  },
  {
   "cell_type": "code",
   "execution_count": 4,
   "metadata": {},
   "outputs": [],
   "source": [
    "# basic cleanup\n",
    "admissions.admittime = pd.to_datetime(admissions.admittime)\n",
    "admissions.dischtime = pd.to_datetime(admissions.dischtime)\n",
    "admissions.ethnicity = admissions.ethnicity.str.lower()\n",
    "\n",
    "diagnoses.icd_code = diagnoses.icd_code.str.strip()\n",
    "\n",
    "d_diagnoses.icd_code = d_diagnoses.icd_code.str.strip()\n",
    "d_diagnoses.long_title = d_diagnoses.long_title.str.lower()\n",
    "\n",
    "drg_codes = drg_codes.drop_duplicates().groupby('hadm_id').first().reset_index()\n",
    "drg_codes.description = drg_codes.description.str.lower()"
   ]
  },
  {
   "cell_type": "markdown",
   "metadata": {},
   "source": [
    "# Generate Sample List"
   ]
  },
  {
   "cell_type": "code",
   "execution_count": 5,
   "metadata": {},
   "outputs": [],
   "source": [
    "# basic feature engineering for identifying positive cases\n",
    "pos_codes = d_diagnoses[(d_diagnoses['long_title'].str.contains('heart failure'))]\n",
    "pos_codes = pos_codes[~pos_codes.long_title.str.contains('without')]\n",
    "pos_diagnoses = diagnoses[diagnoses['icd_code'].isin(pos_codes.icd_code)]\n",
    "admissions['pos_subj'] = np.where(admissions.subject_id.isin(pos_diagnoses.subject_id), 1, 0)\n",
    "admissions['pos_adm'] = np.where(admissions.hadm_id.isin(pos_diagnoses.hadm_id), 1, 0)\n",
    "\n",
    "# filter out children (ages masked as \"0\")\n",
    "admissions = admissions.merge(patients[['subject_id', 'gender', 'anchor_age']], how='left', on=['subject_id'])\n",
    "admissions = admissions.rename(columns={'anchor_age':'age'})\n",
    "admissions = admissions[admissions.age > 0]\n",
    "admissions = admissions.reset_index(drop=True)"
   ]
  },
  {
   "cell_type": "code",
   "execution_count": 6,
   "metadata": {},
   "outputs": [
    {
     "name": "stdout",
     "output_type": "stream",
     "text": [
      "Positive cases in previous visit:  0\n",
      "Length of all samples is the same:\n",
      "5304 5304\n",
      "Are there any overlapping patients?\n",
      "False\n"
     ]
    },
    {
     "name": "stderr",
     "output_type": "stream",
     "text": [
      "D:\\Software\\anaconda3\\lib\\site-packages\\ipykernel_launcher.py:35: DeprecationWarning: elementwise == comparison failed; this will raise an error in the future.\n"
     ]
    }
   ],
   "source": [
    "# create dataframes for first positive visits and most recent previous visits\n",
    "first_adm = admissions.iloc[admissions[admissions.pos_subj==1].groupby('subject_id').admittime.idxmin()]\n",
    "subj_list = first_adm[first_adm.pos_adm==0].subject_id.unique()\n",
    "\n",
    "# create refernce dataframe\n",
    "subj_admissions = admissions[admissions.subject_id.isin(subj_list)]\n",
    "subj_admissions = subj_admissions.sort_values(['subject_id', 'admittime']).reset_index(drop=True)\n",
    "pos_admissions = subj_admissions[['subject_id', 'hadm_id', 'admittime', 'pos_adm']]\n",
    "pos_admissions = pos_admissions.loc[pos_admissions[pos_admissions.pos_adm==1].groupby('subject_id').admittime.idxmin()]\n",
    "pos_admissions = pos_admissions.rename(columns={'pos_adm':'first_pos'}).drop('admittime', axis=1)\n",
    "subj_admissions = subj_admissions.merge(pos_admissions, how='left')\n",
    "\n",
    "# slice based on first visit/prior visit\n",
    "first_idx = subj_admissions[subj_admissions.first_pos==1].index\n",
    "pos_admissions = subj_admissions.iloc[first_idx].reset_index(drop=True)\n",
    "pre_admissions = subj_admissions.iloc[first_idx-1].reset_index(drop=True)\n",
    "pre_admissions['time_delta'] = pos_admissions.admittime - pre_admissions.dischtime\n",
    "pre_admissions = pre_admissions[pre_admissions.time_delta < pd.to_timedelta('365 days')].reset_index(drop=True)\n",
    "pos_admissions = pos_admissions[pos_admissions.subject_id.isin(pre_admissions.subject_id)].reset_index(drop=True)\n",
    "\n",
    "pre_hadm = pre_admissions.hadm_id.values\n",
    "# pos_hadm = pos_admissions.hadm_id.values\n",
    "\n",
    "# sample negative patients\n",
    "neg_admissions = admissions[(admissions.pos_subj==0) & (admissions.admittime < pd.to_datetime('2210'))]\n",
    "neg_hadm = neg_admissions.hadm_id.unique()\n",
    "neg_hadm = np.random.choice(neg_hadm, pre_admissions.subject_id.nunique(), replace=False)\n",
    "\n",
    "#sanity checks\n",
    "print('Positive cases in previous visit: ', pre_admissions.pos_adm.sum())\n",
    "# print('Mismatched patient count: ', np.sum(pos_admissions['subject_id'] - pre_admissions['subject_id']))\n",
    "print('Length of all samples is the same:')\n",
    "print(len(pre_hadm), len(neg_hadm))\n",
    "print('Are there any overlapping patients?')\n",
    "print(pre_admissions.subject_id.unique() in neg_admissions.subject_id.unique())\n",
    "\n",
    "sample_hadm = np.concatenate((pre_hadm, neg_hadm))"
   ]
  },
  {
   "cell_type": "markdown",
   "metadata": {},
   "source": [
    "# Create Sample Admissions Table"
   ]
  },
  {
   "cell_type": "code",
   "execution_count": 7,
   "metadata": {
    "scrolled": true
   },
   "outputs": [
    {
     "data": {
      "text/html": [
       "<div>\n",
       "<style scoped>\n",
       "    .dataframe tbody tr th:only-of-type {\n",
       "        vertical-align: middle;\n",
       "    }\n",
       "\n",
       "    .dataframe tbody tr th {\n",
       "        vertical-align: top;\n",
       "    }\n",
       "\n",
       "    .dataframe thead th {\n",
       "        text-align: right;\n",
       "    }\n",
       "</style>\n",
       "<table border=\"1\" class=\"dataframe\">\n",
       "  <thead>\n",
       "    <tr style=\"text-align: right;\">\n",
       "      <th></th>\n",
       "      <th>pos_subj</th>\n",
       "      <th>hadm_id</th>\n",
       "      <th>subject_id</th>\n",
       "      <th>age</th>\n",
       "      <th>gender</th>\n",
       "      <th>ethnicity</th>\n",
       "    </tr>\n",
       "  </thead>\n",
       "  <tbody>\n",
       "    <tr>\n",
       "      <th>26</th>\n",
       "      <td>0</td>\n",
       "      <td>29402101</td>\n",
       "      <td>12764302</td>\n",
       "      <td>21</td>\n",
       "      <td>F</td>\n",
       "      <td>white</td>\n",
       "    </tr>\n",
       "    <tr>\n",
       "      <th>112</th>\n",
       "      <td>1</td>\n",
       "      <td>20793449</td>\n",
       "      <td>14342647</td>\n",
       "      <td>82</td>\n",
       "      <td>M</td>\n",
       "      <td>white</td>\n",
       "    </tr>\n",
       "    <tr>\n",
       "      <th>154</th>\n",
       "      <td>0</td>\n",
       "      <td>21630273</td>\n",
       "      <td>14126394</td>\n",
       "      <td>48</td>\n",
       "      <td>F</td>\n",
       "      <td>unknown</td>\n",
       "    </tr>\n",
       "    <tr>\n",
       "      <th>169</th>\n",
       "      <td>0</td>\n",
       "      <td>20141347</td>\n",
       "      <td>16622598</td>\n",
       "      <td>28</td>\n",
       "      <td>M</td>\n",
       "      <td>white</td>\n",
       "    </tr>\n",
       "    <tr>\n",
       "      <th>222</th>\n",
       "      <td>0</td>\n",
       "      <td>29736293</td>\n",
       "      <td>16698069</td>\n",
       "      <td>21</td>\n",
       "      <td>M</td>\n",
       "      <td>unknown</td>\n",
       "    </tr>\n",
       "    <tr>\n",
       "      <th>...</th>\n",
       "      <td>...</td>\n",
       "      <td>...</td>\n",
       "      <td>...</td>\n",
       "      <td>...</td>\n",
       "      <td>...</td>\n",
       "      <td>...</td>\n",
       "    </tr>\n",
       "    <tr>\n",
       "      <th>462717</th>\n",
       "      <td>1</td>\n",
       "      <td>25013602</td>\n",
       "      <td>11533366</td>\n",
       "      <td>60</td>\n",
       "      <td>F</td>\n",
       "      <td>black/african american</td>\n",
       "    </tr>\n",
       "    <tr>\n",
       "      <th>462729</th>\n",
       "      <td>0</td>\n",
       "      <td>26480289</td>\n",
       "      <td>15403351</td>\n",
       "      <td>70</td>\n",
       "      <td>M</td>\n",
       "      <td>white</td>\n",
       "    </tr>\n",
       "    <tr>\n",
       "      <th>462759</th>\n",
       "      <td>1</td>\n",
       "      <td>25094628</td>\n",
       "      <td>11968004</td>\n",
       "      <td>61</td>\n",
       "      <td>M</td>\n",
       "      <td>white</td>\n",
       "    </tr>\n",
       "    <tr>\n",
       "      <th>462802</th>\n",
       "      <td>1</td>\n",
       "      <td>29030833</td>\n",
       "      <td>16502265</td>\n",
       "      <td>87</td>\n",
       "      <td>M</td>\n",
       "      <td>black/african american</td>\n",
       "    </tr>\n",
       "    <tr>\n",
       "      <th>462803</th>\n",
       "      <td>0</td>\n",
       "      <td>23551615</td>\n",
       "      <td>15582551</td>\n",
       "      <td>88</td>\n",
       "      <td>F</td>\n",
       "      <td>white</td>\n",
       "    </tr>\n",
       "  </tbody>\n",
       "</table>\n",
       "<p>10608 rows × 6 columns</p>\n",
       "</div>"
      ],
      "text/plain": [
       "        pos_subj   hadm_id  subject_id  age gender               ethnicity\n",
       "26             0  29402101    12764302   21      F                   white\n",
       "112            1  20793449    14342647   82      M                   white\n",
       "154            0  21630273    14126394   48      F                 unknown\n",
       "169            0  20141347    16622598   28      M                   white\n",
       "222            0  29736293    16698069   21      M                 unknown\n",
       "...          ...       ...         ...  ...    ...                     ...\n",
       "462717         1  25013602    11533366   60      F  black/african american\n",
       "462729         0  26480289    15403351   70      M                   white\n",
       "462759         1  25094628    11968004   61      M                   white\n",
       "462802         1  29030833    16502265   87      M  black/african american\n",
       "462803         0  23551615    15582551   88      F                   white\n",
       "\n",
       "[10608 rows x 6 columns]"
      ]
     },
     "execution_count": 7,
     "metadata": {},
     "output_type": "execute_result"
    }
   ],
   "source": [
    "s_cols = ['pos_subj', 'hadm_id', 'subject_id', 'age', 'gender', 'ethnicity',\\\n",
    "          ]\n",
    "s_admissions = admissions[admissions.hadm_id.isin(sample_hadm)][s_cols]\n",
    "s_admissions"
   ]
  },
  {
   "cell_type": "code",
   "execution_count": 8,
   "metadata": {},
   "outputs": [],
   "source": [
    "# feature cleaning\n",
    "s_admissions.loc[s_admissions.ethnicity=='unable to obtain', 'ethnicity'] = 'unknown'\n"
   ]
  },
  {
   "cell_type": "code",
   "execution_count": 9,
   "metadata": {},
   "outputs": [
    {
     "data": {
      "text/html": [
       "<div>\n",
       "<style scoped>\n",
       "    .dataframe tbody tr th:only-of-type {\n",
       "        vertical-align: middle;\n",
       "    }\n",
       "\n",
       "    .dataframe tbody tr th {\n",
       "        vertical-align: top;\n",
       "    }\n",
       "\n",
       "    .dataframe thead th {\n",
       "        text-align: right;\n",
       "    }\n",
       "</style>\n",
       "<table border=\"1\" class=\"dataframe\">\n",
       "  <thead>\n",
       "    <tr style=\"text-align: right;\">\n",
       "      <th></th>\n",
       "      <th>hadm_id</th>\n",
       "      <th>description</th>\n",
       "      <th>sepsis</th>\n",
       "      <th>pneumoia</th>\n",
       "      <th>diabetes</th>\n",
       "      <th>hypertension</th>\n",
       "      <th>renal failure</th>\n",
       "      <th>kidney failure</th>\n",
       "      <th>atrial fibrillation</th>\n",
       "      <th>atherosclero</th>\n",
       "      <th>cardiac arrhythmia</th>\n",
       "    </tr>\n",
       "  </thead>\n",
       "  <tbody>\n",
       "    <tr>\n",
       "      <th>0</th>\n",
       "      <td>20000019</td>\n",
       "      <td>septicemia or severe sepsis w/o mv 96+ hours w...</td>\n",
       "      <td>1</td>\n",
       "      <td>0</td>\n",
       "      <td>0</td>\n",
       "      <td>0</td>\n",
       "      <td>0</td>\n",
       "      <td>0</td>\n",
       "      <td>0</td>\n",
       "      <td>0</td>\n",
       "      <td>0</td>\n",
       "    </tr>\n",
       "    <tr>\n",
       "      <th>46</th>\n",
       "      <td>20001729</td>\n",
       "      <td>perm cardiac pacemaker implant w/o ami, heart ...</td>\n",
       "      <td>0</td>\n",
       "      <td>0</td>\n",
       "      <td>0</td>\n",
       "      <td>0</td>\n",
       "      <td>0</td>\n",
       "      <td>0</td>\n",
       "      <td>0</td>\n",
       "      <td>0</td>\n",
       "      <td>0</td>\n",
       "    </tr>\n",
       "    <tr>\n",
       "      <th>116</th>\n",
       "      <td>20004387</td>\n",
       "      <td>nervous system neoplasms w mcc</td>\n",
       "      <td>0</td>\n",
       "      <td>0</td>\n",
       "      <td>0</td>\n",
       "      <td>0</td>\n",
       "      <td>0</td>\n",
       "      <td>0</td>\n",
       "      <td>0</td>\n",
       "      <td>0</td>\n",
       "      <td>0</td>\n",
       "    </tr>\n",
       "    <tr>\n",
       "      <th>198</th>\n",
       "      <td>20006820</td>\n",
       "      <td>major gastrointestinal &amp; peritoneal infections</td>\n",
       "      <td>0</td>\n",
       "      <td>0</td>\n",
       "      <td>0</td>\n",
       "      <td>0</td>\n",
       "      <td>0</td>\n",
       "      <td>0</td>\n",
       "      <td>0</td>\n",
       "      <td>0</td>\n",
       "      <td>0</td>\n",
       "    </tr>\n",
       "    <tr>\n",
       "      <th>259</th>\n",
       "      <td>20008546</td>\n",
       "      <td>hypovolemia &amp; related electrolyte disorders</td>\n",
       "      <td>0</td>\n",
       "      <td>0</td>\n",
       "      <td>0</td>\n",
       "      <td>0</td>\n",
       "      <td>0</td>\n",
       "      <td>0</td>\n",
       "      <td>0</td>\n",
       "      <td>0</td>\n",
       "      <td>0</td>\n",
       "    </tr>\n",
       "  </tbody>\n",
       "</table>\n",
       "</div>"
      ],
      "text/plain": [
       "      hadm_id                                        description  sepsis  \\\n",
       "0    20000019  septicemia or severe sepsis w/o mv 96+ hours w...       1   \n",
       "46   20001729  perm cardiac pacemaker implant w/o ami, heart ...       0   \n",
       "116  20004387                     nervous system neoplasms w mcc       0   \n",
       "198  20006820     major gastrointestinal & peritoneal infections       0   \n",
       "259  20008546        hypovolemia & related electrolyte disorders       0   \n",
       "\n",
       "     pneumoia  diabetes  hypertension  renal failure  kidney failure  \\\n",
       "0           0         0             0              0               0   \n",
       "46          0         0             0              0               0   \n",
       "116         0         0             0              0               0   \n",
       "198         0         0             0              0               0   \n",
       "259         0         0             0              0               0   \n",
       "\n",
       "     atrial fibrillation  atherosclero  cardiac arrhythmia  \n",
       "0                      0             0                   0  \n",
       "46                     0             0                   0  \n",
       "116                    0             0                   0  \n",
       "198                    0             0                   0  \n",
       "259                    0             0                   0  "
      ]
     },
     "execution_count": 9,
     "metadata": {},
     "output_type": "execute_result"
    }
   ],
   "source": [
    "s_drg = drg_codes[drg_codes.hadm_id.isin(sample_hadm)][['hadm_id', 'description']]\n",
    "comorbidities =  ['sepsis', 'pneumoia', 'diabetes', 'hypertension',\\\n",
    "              'renal failure', 'kidney failure',\\\n",
    "              'atrial fibrillation', 'atherosclero', 'cardiac arrhythmia']\n",
    "# come back for \"vascular procedures\", \"coronary bypass\", \"cardiac congenital\"\n",
    "for comorb in comorbidities:\n",
    "    s_drg[comorb] =  np.where(s_drg.description.str.contains(comorb), 1, 0)\n",
    "s_drg.head()"
   ]
  },
  {
   "cell_type": "code",
   "execution_count": 10,
   "metadata": {},
   "outputs": [
    {
     "data": {
      "text/html": [
       "<div>\n",
       "<style scoped>\n",
       "    .dataframe tbody tr th:only-of-type {\n",
       "        vertical-align: middle;\n",
       "    }\n",
       "\n",
       "    .dataframe tbody tr th {\n",
       "        vertical-align: top;\n",
       "    }\n",
       "\n",
       "    .dataframe thead th {\n",
       "        text-align: right;\n",
       "    }\n",
       "</style>\n",
       "<table border=\"1\" class=\"dataframe\">\n",
       "  <thead>\n",
       "    <tr style=\"text-align: right;\">\n",
       "      <th></th>\n",
       "      <th>hadm_id</th>\n",
       "      <th>description</th>\n",
       "      <th>sepsis</th>\n",
       "      <th>pneumoia</th>\n",
       "      <th>diabetes</th>\n",
       "      <th>hypertension</th>\n",
       "      <th>renal failure</th>\n",
       "      <th>kidney failure</th>\n",
       "      <th>atrial fibrillation</th>\n",
       "      <th>atherosclero</th>\n",
       "      <th>cardiac arrhythmia</th>\n",
       "    </tr>\n",
       "  </thead>\n",
       "  <tbody>\n",
       "    <tr>\n",
       "      <th>0</th>\n",
       "      <td>20000019</td>\n",
       "      <td>33888    family history of malignant neoplasm ...</td>\n",
       "      <td>1</td>\n",
       "      <td>0</td>\n",
       "      <td>1</td>\n",
       "      <td>1</td>\n",
       "      <td>0</td>\n",
       "      <td>1</td>\n",
       "      <td>0</td>\n",
       "      <td>0</td>\n",
       "      <td>0</td>\n",
       "    </tr>\n",
       "    <tr>\n",
       "      <th>1</th>\n",
       "      <td>20001729</td>\n",
       "      <td>103521                               scoliosis...</td>\n",
       "      <td>0</td>\n",
       "      <td>0</td>\n",
       "      <td>0</td>\n",
       "      <td>1</td>\n",
       "      <td>0</td>\n",
       "      <td>1</td>\n",
       "      <td>1</td>\n",
       "      <td>1</td>\n",
       "      <td>0</td>\n",
       "    </tr>\n",
       "    <tr>\n",
       "      <th>2</th>\n",
       "      <td>20002827</td>\n",
       "      <td>21439    surgical or other procedure not carri...</td>\n",
       "      <td>0</td>\n",
       "      <td>0</td>\n",
       "      <td>0</td>\n",
       "      <td>0</td>\n",
       "      <td>0</td>\n",
       "      <td>0</td>\n",
       "      <td>0</td>\n",
       "      <td>0</td>\n",
       "      <td>0</td>\n",
       "    </tr>\n",
       "    <tr>\n",
       "      <th>3</th>\n",
       "      <td>20004387</td>\n",
       "      <td>10375                 benign neoplasm of cereb...</td>\n",
       "      <td>0</td>\n",
       "      <td>0</td>\n",
       "      <td>1</td>\n",
       "      <td>0</td>\n",
       "      <td>0</td>\n",
       "      <td>0</td>\n",
       "      <td>0</td>\n",
       "      <td>1</td>\n",
       "      <td>0</td>\n",
       "    </tr>\n",
       "    <tr>\n",
       "      <th>4</th>\n",
       "      <td>20006820</td>\n",
       "      <td>42834    intestinal infection due to clostridi...</td>\n",
       "      <td>0</td>\n",
       "      <td>0</td>\n",
       "      <td>0</td>\n",
       "      <td>0</td>\n",
       "      <td>0</td>\n",
       "      <td>0</td>\n",
       "      <td>1</td>\n",
       "      <td>0</td>\n",
       "      <td>0</td>\n",
       "    </tr>\n",
       "  </tbody>\n",
       "</table>\n",
       "</div>"
      ],
      "text/plain": [
       "    hadm_id                                        description  sepsis  \\\n",
       "0  20000019  33888    family history of malignant neoplasm ...       1   \n",
       "1  20001729  103521                               scoliosis...       0   \n",
       "2  20002827  21439    surgical or other procedure not carri...       0   \n",
       "3  20004387  10375                 benign neoplasm of cereb...       0   \n",
       "4  20006820  42834    intestinal infection due to clostridi...       0   \n",
       "\n",
       "   pneumoia  diabetes  hypertension  renal failure  kidney failure  \\\n",
       "0         0         1             1              0               1   \n",
       "1         0         0             1              0               1   \n",
       "2         0         0             0              0               0   \n",
       "3         0         1             0              0               0   \n",
       "4         0         0             0              0               0   \n",
       "\n",
       "   atrial fibrillation  atherosclero  cardiac arrhythmia  \n",
       "0                    0             0                   0  \n",
       "1                    1             1                   0  \n",
       "2                    0             0                   0  \n",
       "3                    0             1                   0  \n",
       "4                    1             0                   0  "
      ]
     },
     "execution_count": 10,
     "metadata": {},
     "output_type": "execute_result"
    }
   ],
   "source": [
    "s_icd = diagnoses[diagnoses.hadm_id.isin(sample_hadm)][['hadm_id', 'icd_version', 'icd_code']]\n",
    "s_icd = s_icd.merge(d_diagnoses, how='left', on=['icd_version', 'icd_code'])\n",
    "s_icd = s_icd.drop(['icd_code', 'icd_version'], axis=1)\n",
    "s_icd = s_icd.groupby('hadm_id').agg(description=('long_title', lambda x: ''.join(str(x).rstrip()))).reset_index()\n",
    "for comorb in comorbidities:\n",
    "    s_icd[comorb] =  np.where(s_icd.description.str.contains(comorb), 1, 0)\n",
    "s_icd.head()"
   ]
  },
  {
   "cell_type": "code",
   "execution_count": 11,
   "metadata": {},
   "outputs": [],
   "source": [
    "s_comorb = pd.merge(s_drg, s_icd, how='outer', on='hadm_id').fillna(0)\n",
    "for co_ in comorbidities:\n",
    "    s_comorb[co_] = s_comorb[co_+'_x'] + s_comorb[co_+'_y']\n",
    "    s_comorb[co_] = np.where(s_comorb[co_] > 0, 1, 0)\n",
    "    s_comorb = s_comorb.drop([co_+'_x', co_+'_y'], axis=1)\n",
    "s_comorb['renal_failure'] = np.where((s_comorb['renal failure'] + s_comorb['kidney failure']) > 1, 1, 0)\n",
    "s_comorb['arrhythmia'] = np.where((s_comorb['atrial fibrillation'] + s_comorb['cardiac arrhythmia']) > 1, 1, 0)\n",
    "s_comorb = s_comorb.drop(['kidney failure', 'renal failure', 'atrial fibrillation', 'cardiac arrhythmia',\\\n",
    "                   'description_x', 'description_y'], axis=1)"
   ]
  },
  {
   "cell_type": "code",
   "execution_count": 12,
   "metadata": {},
   "outputs": [],
   "source": [
    "s_admissions = s_admissions.merge(s_comorb, how='left', on='hadm_id').fillna(0)\n",
    "s_admissions.to_pickle('s_admissions.pkl')"
   ]
  },
  {
   "cell_type": "code",
   "execution_count": 13,
   "metadata": {},
   "outputs": [
    {
     "name": "stdout",
     "output_type": "stream",
     "text": [
      "(10608, 13)\n"
     ]
    },
    {
     "data": {
      "text/html": [
       "<div>\n",
       "<style scoped>\n",
       "    .dataframe tbody tr th:only-of-type {\n",
       "        vertical-align: middle;\n",
       "    }\n",
       "\n",
       "    .dataframe tbody tr th {\n",
       "        vertical-align: top;\n",
       "    }\n",
       "\n",
       "    .dataframe thead th {\n",
       "        text-align: right;\n",
       "    }\n",
       "</style>\n",
       "<table border=\"1\" class=\"dataframe\">\n",
       "  <thead>\n",
       "    <tr style=\"text-align: right;\">\n",
       "      <th></th>\n",
       "      <th>pos_subj</th>\n",
       "      <th>hadm_id</th>\n",
       "      <th>subject_id</th>\n",
       "      <th>age</th>\n",
       "      <th>gender</th>\n",
       "      <th>ethnicity</th>\n",
       "      <th>sepsis</th>\n",
       "      <th>pneumoia</th>\n",
       "      <th>diabetes</th>\n",
       "      <th>hypertension</th>\n",
       "      <th>atherosclero</th>\n",
       "      <th>renal_failure</th>\n",
       "      <th>arrhythmia</th>\n",
       "    </tr>\n",
       "  </thead>\n",
       "  <tbody>\n",
       "    <tr>\n",
       "      <th>0</th>\n",
       "      <td>0</td>\n",
       "      <td>29402101</td>\n",
       "      <td>12764302</td>\n",
       "      <td>21</td>\n",
       "      <td>F</td>\n",
       "      <td>white</td>\n",
       "      <td>0.0</td>\n",
       "      <td>0.0</td>\n",
       "      <td>0.0</td>\n",
       "      <td>1.0</td>\n",
       "      <td>0.0</td>\n",
       "      <td>0.0</td>\n",
       "      <td>0.0</td>\n",
       "    </tr>\n",
       "    <tr>\n",
       "      <th>1</th>\n",
       "      <td>1</td>\n",
       "      <td>20793449</td>\n",
       "      <td>14342647</td>\n",
       "      <td>82</td>\n",
       "      <td>M</td>\n",
       "      <td>white</td>\n",
       "      <td>0.0</td>\n",
       "      <td>0.0</td>\n",
       "      <td>0.0</td>\n",
       "      <td>0.0</td>\n",
       "      <td>0.0</td>\n",
       "      <td>0.0</td>\n",
       "      <td>0.0</td>\n",
       "    </tr>\n",
       "    <tr>\n",
       "      <th>2</th>\n",
       "      <td>0</td>\n",
       "      <td>21630273</td>\n",
       "      <td>14126394</td>\n",
       "      <td>48</td>\n",
       "      <td>F</td>\n",
       "      <td>unknown</td>\n",
       "      <td>0.0</td>\n",
       "      <td>0.0</td>\n",
       "      <td>0.0</td>\n",
       "      <td>0.0</td>\n",
       "      <td>0.0</td>\n",
       "      <td>0.0</td>\n",
       "      <td>0.0</td>\n",
       "    </tr>\n",
       "    <tr>\n",
       "      <th>3</th>\n",
       "      <td>0</td>\n",
       "      <td>20141347</td>\n",
       "      <td>16622598</td>\n",
       "      <td>28</td>\n",
       "      <td>M</td>\n",
       "      <td>white</td>\n",
       "      <td>0.0</td>\n",
       "      <td>0.0</td>\n",
       "      <td>0.0</td>\n",
       "      <td>0.0</td>\n",
       "      <td>0.0</td>\n",
       "      <td>0.0</td>\n",
       "      <td>0.0</td>\n",
       "    </tr>\n",
       "    <tr>\n",
       "      <th>4</th>\n",
       "      <td>0</td>\n",
       "      <td>29736293</td>\n",
       "      <td>16698069</td>\n",
       "      <td>21</td>\n",
       "      <td>M</td>\n",
       "      <td>unknown</td>\n",
       "      <td>0.0</td>\n",
       "      <td>0.0</td>\n",
       "      <td>0.0</td>\n",
       "      <td>0.0</td>\n",
       "      <td>0.0</td>\n",
       "      <td>0.0</td>\n",
       "      <td>0.0</td>\n",
       "    </tr>\n",
       "  </tbody>\n",
       "</table>\n",
       "</div>"
      ],
      "text/plain": [
       "   pos_subj   hadm_id  subject_id  age gender ethnicity  sepsis  pneumoia  \\\n",
       "0         0  29402101    12764302   21      F     white     0.0       0.0   \n",
       "1         1  20793449    14342647   82      M     white     0.0       0.0   \n",
       "2         0  21630273    14126394   48      F   unknown     0.0       0.0   \n",
       "3         0  20141347    16622598   28      M     white     0.0       0.0   \n",
       "4         0  29736293    16698069   21      M   unknown     0.0       0.0   \n",
       "\n",
       "   diabetes  hypertension  atherosclero  renal_failure  arrhythmia  \n",
       "0       0.0           1.0           0.0            0.0         0.0  \n",
       "1       0.0           0.0           0.0            0.0         0.0  \n",
       "2       0.0           0.0           0.0            0.0         0.0  \n",
       "3       0.0           0.0           0.0            0.0         0.0  \n",
       "4       0.0           0.0           0.0            0.0         0.0  "
      ]
     },
     "execution_count": 13,
     "metadata": {},
     "output_type": "execute_result"
    }
   ],
   "source": [
    "# s_admissions = pd.read_pickle(\"s_admissions.pkl\")\n",
    "# sample_hadm = s_admissions.hadm_id.values\n",
    "print(s_admissions.shape)\n",
    "s_admissions.head()"
   ]
  },
  {
   "cell_type": "code",
   "execution_count": 14,
   "metadata": {},
   "outputs": [],
   "source": [
    "pd.set_option('max_rows', 40) \n",
    "pd.set_option('min_rows', 40)        # display at least 100 rows when max is exceeded"
   ]
  },
  {
   "cell_type": "markdown",
   "metadata": {},
   "source": [
    "# Create Lab Events Table"
   ]
  },
  {
   "cell_type": "code",
   "execution_count": 15,
   "metadata": {},
   "outputs": [],
   "source": [
    "# select tests from EDA\n",
    "sample_items = [50861, 50868, 50882, 50885, 50902, 50912, 50960, \\\n",
    "             50970, 50971, 51006, 51221, 51222, 51237, 51248, \\\n",
    "             51249, 51250, 51265, 51274, 51275, 51277, 51279]"
   ]
  },
  {
   "cell_type": "code",
   "execution_count": 16,
   "metadata": {},
   "outputs": [
    {
     "name": "stdout",
     "output_type": "stream",
     "text": [
      "Processed chunk: 1\n",
      "Processed chunk: 2\n",
      "Processed chunk: 3\n"
     ]
    },
    {
     "name": "stderr",
     "output_type": "stream",
     "text": [
      "<string>:2: DtypeWarning: Columns (7,9,12) have mixed types.Specify dtype option on import or set low_memory=False.\n"
     ]
    },
    {
     "name": "stdout",
     "output_type": "stream",
     "text": [
      "Processed chunk: 4\n",
      "Processed chunk: 5\n",
      "Processed chunk: 6\n",
      "Processed chunk: 7\n",
      "Processed chunk: 8\n",
      "Processed chunk: 9\n"
     ]
    },
    {
     "name": "stderr",
     "output_type": "stream",
     "text": [
      "<string>:2: DtypeWarning: Columns (9,12) have mixed types.Specify dtype option on import or set low_memory=False.\n"
     ]
    },
    {
     "name": "stdout",
     "output_type": "stream",
     "text": [
      "Processed chunk: 10\n"
     ]
    },
    {
     "name": "stderr",
     "output_type": "stream",
     "text": [
      "<string>:2: DtypeWarning: Columns (12) have mixed types.Specify dtype option on import or set low_memory=False.\n"
     ]
    },
    {
     "name": "stdout",
     "output_type": "stream",
     "text": [
      "Processed chunk: 11\n",
      "Processed chunk: 12\n",
      "Processed chunk: 13\n",
      "Processed chunk: 14\n",
      "Processed chunk: 15\n"
     ]
    },
    {
     "name": "stderr",
     "output_type": "stream",
     "text": [
      "<string>:2: DtypeWarning: Columns (7) have mixed types.Specify dtype option on import or set low_memory=False.\n"
     ]
    },
    {
     "name": "stdout",
     "output_type": "stream",
     "text": [
      "Processed chunk: 16\n",
      "Processed chunk: 17\n",
      "Processed chunk: 18\n",
      "Processed chunk: 19\n",
      "Processed chunk: 20\n",
      "Processed chunk: 21\n",
      "Processed chunk: 22\n",
      "Processed chunk: 23\n"
     ]
    },
    {
     "name": "stderr",
     "output_type": "stream",
     "text": [
      "<string>:2: DtypeWarning: Columns (7,9) have mixed types.Specify dtype option on import or set low_memory=False.\n"
     ]
    },
    {
     "name": "stdout",
     "output_type": "stream",
     "text": [
      "Processed chunk: 24\n",
      "Processed chunk: 25\n",
      "Processed chunk: 26\n",
      "Processed chunk: 27\n",
      "Processed chunk: 28\n",
      "Processed chunk: 29\n",
      "Processed chunk: 30\n",
      "Processed chunk: 31\n",
      "Processed chunk: 32\n",
      "Processed chunk: 33\n",
      "Processed chunk: 34\n",
      "Processed chunk: 35\n",
      "Processed chunk: 36\n",
      "Processed chunk: 37\n",
      "Processed chunk: 38\n",
      "Processed chunk: 39\n",
      "Processed chunk: 40\n",
      "Processed chunk: 41\n",
      "Wall time: 5min 52s\n"
     ]
    }
   ],
   "source": [
    "%%time\n",
    "# load all tests in sample and save to file for reference\n",
    "\n",
    "chunksize = 3*(10 ** 6)\n",
    "chunk = 1\n",
    "cols_ = ['subject_id', 'hadm_id', 'specimen_id', 'itemid', 'value', 'valuenum', 'valueuom', \\\n",
    "         'ref_range_lower', 'ref_range_upper', 'comments', 'flag']\n",
    "lab_events = []\n",
    "for lab_chunk in pd.read_csv(path + \"hosp\\\\labevents.csv.gz\", compression='gzip', chunksize=chunksize):\n",
    "    lab_chunk = lab_chunk[lab_chunk.hadm_id.isin(sample_hadm)]\n",
    "    lab_chunk = lab_chunk[lab_chunk.itemid.isin(sample_items)]\n",
    "    lab_chunk = lab_chunk[cols_]\n",
    "    lab_events.append(lab_chunk)\n",
    "    print(f'Processed chunk: {chunk}')\n",
    "    chunk += 1\n",
    "\n",
    "lab_events = pd.concat(lab_events)\n",
    "lab_events.to_pickle(\"lab_events.pkl\")"
   ]
  },
  {
   "cell_type": "code",
   "execution_count": 17,
   "metadata": {
    "scrolled": true
   },
   "outputs": [
    {
     "name": "stdout",
     "output_type": "stream",
     "text": [
      "(870924, 11)\n"
     ]
    },
    {
     "data": {
      "text/html": [
       "<div>\n",
       "<style scoped>\n",
       "    .dataframe tbody tr th:only-of-type {\n",
       "        vertical-align: middle;\n",
       "    }\n",
       "\n",
       "    .dataframe tbody tr th {\n",
       "        vertical-align: top;\n",
       "    }\n",
       "\n",
       "    .dataframe thead th {\n",
       "        text-align: right;\n",
       "    }\n",
       "</style>\n",
       "<table border=\"1\" class=\"dataframe\">\n",
       "  <thead>\n",
       "    <tr style=\"text-align: right;\">\n",
       "      <th></th>\n",
       "      <th>subject_id</th>\n",
       "      <th>hadm_id</th>\n",
       "      <th>specimen_id</th>\n",
       "      <th>itemid</th>\n",
       "      <th>value</th>\n",
       "      <th>valuenum</th>\n",
       "      <th>valueuom</th>\n",
       "      <th>ref_range_lower</th>\n",
       "      <th>ref_range_upper</th>\n",
       "      <th>comments</th>\n",
       "      <th>flag</th>\n",
       "    </tr>\n",
       "  </thead>\n",
       "  <tbody>\n",
       "    <tr>\n",
       "      <th>13234</th>\n",
       "      <td>12461950</td>\n",
       "      <td>27309147.0</td>\n",
       "      <td>65342799</td>\n",
       "      <td>51221</td>\n",
       "      <td>39.3</td>\n",
       "      <td>39.3</td>\n",
       "      <td>%</td>\n",
       "      <td>36.0</td>\n",
       "      <td>48.0</td>\n",
       "      <td>NaN</td>\n",
       "      <td>NaN</td>\n",
       "    </tr>\n",
       "    <tr>\n",
       "      <th>13235</th>\n",
       "      <td>12461950</td>\n",
       "      <td>27309147.0</td>\n",
       "      <td>65342799</td>\n",
       "      <td>51222</td>\n",
       "      <td>13.0</td>\n",
       "      <td>13.0</td>\n",
       "      <td>g/dL</td>\n",
       "      <td>12.0</td>\n",
       "      <td>16.0</td>\n",
       "      <td>NaN</td>\n",
       "      <td>NaN</td>\n",
       "    </tr>\n",
       "    <tr>\n",
       "      <th>13236</th>\n",
       "      <td>12461950</td>\n",
       "      <td>27309147.0</td>\n",
       "      <td>65342799</td>\n",
       "      <td>51248</td>\n",
       "      <td>25.7</td>\n",
       "      <td>25.7</td>\n",
       "      <td>pg</td>\n",
       "      <td>27.0</td>\n",
       "      <td>32.0</td>\n",
       "      <td>NaN</td>\n",
       "      <td>abnormal</td>\n",
       "    </tr>\n",
       "    <tr>\n",
       "      <th>13237</th>\n",
       "      <td>12461950</td>\n",
       "      <td>27309147.0</td>\n",
       "      <td>65342799</td>\n",
       "      <td>51249</td>\n",
       "      <td>33.1</td>\n",
       "      <td>33.1</td>\n",
       "      <td>%</td>\n",
       "      <td>31.0</td>\n",
       "      <td>35.0</td>\n",
       "      <td>NaN</td>\n",
       "      <td>NaN</td>\n",
       "    </tr>\n",
       "    <tr>\n",
       "      <th>13238</th>\n",
       "      <td>12461950</td>\n",
       "      <td>27309147.0</td>\n",
       "      <td>65342799</td>\n",
       "      <td>51250</td>\n",
       "      <td>78</td>\n",
       "      <td>78.0</td>\n",
       "      <td>fL</td>\n",
       "      <td>82.0</td>\n",
       "      <td>98.0</td>\n",
       "      <td>NaN</td>\n",
       "      <td>abnormal</td>\n",
       "    </tr>\n",
       "  </tbody>\n",
       "</table>\n",
       "</div>"
      ],
      "text/plain": [
       "       subject_id     hadm_id  specimen_id  itemid value  valuenum valueuom  \\\n",
       "13234    12461950  27309147.0     65342799   51221  39.3      39.3        %   \n",
       "13235    12461950  27309147.0     65342799   51222  13.0      13.0     g/dL   \n",
       "13236    12461950  27309147.0     65342799   51248  25.7      25.7       pg   \n",
       "13237    12461950  27309147.0     65342799   51249  33.1      33.1        %   \n",
       "13238    12461950  27309147.0     65342799   51250    78      78.0       fL   \n",
       "\n",
       "       ref_range_lower  ref_range_upper comments      flag  \n",
       "13234             36.0             48.0      NaN       NaN  \n",
       "13235             12.0             16.0      NaN       NaN  \n",
       "13236             27.0             32.0      NaN  abnormal  \n",
       "13237             31.0             35.0      NaN       NaN  \n",
       "13238             82.0             98.0      NaN  abnormal  "
      ]
     },
     "execution_count": 17,
     "metadata": {},
     "output_type": "execute_result"
    }
   ],
   "source": [
    "# lab_events = pd.read_pickle(\"lab_events.pkl\")\n",
    "print(lab_events.shape)\n",
    "lab_events.head()"
   ]
  },
  {
   "cell_type": "markdown",
   "metadata": {},
   "source": [
    "# Lab Events Data Wrangling"
   ]
  },
  {
   "cell_type": "markdown",
   "metadata": {},
   "source": [
    "### Data Cleaning"
   ]
  },
  {
   "cell_type": "code",
   "execution_count": 20,
   "metadata": {},
   "outputs": [
    {
     "name": "stdout",
     "output_type": "stream",
     "text": [
      "Wall time: 7.23 s\n"
     ]
    }
   ],
   "source": [
    "%%time\n",
    "\n",
    "# Can probably make a helper function combining some of the below mapping\n",
    "\n",
    "# Other invalid value imputation\n",
    "# For now set them all to normal/most common value\n",
    "lab_events.loc[(lab_events['value'].isin([np.nan, 'ERROR', 'UNABLE TO REPORT'])), ['value', 'valuenum']] = 1.1\n",
    "lab_events.loc[(lab_events['itemid'] == 51237) & (lab_events['value'].isin(['>21.8'])), ['value', 'valuenum']] = 22\n",
    "lab_events.loc[(lab_events['itemid'] == 51237) & (lab_events['value'].isin(['>19.2'])), ['value', 'valuenum']] = 20\n",
    "\n",
    "lab_events.loc[(lab_events['itemid'] == 51275) &  (lab_events['value'].isin(['>150', '>150.0'])), ['value', 'valuenum']] = 175\n",
    "\n",
    "# Should we just delete these?\n",
    "# For 5k patients there are 6 records here\n",
    "lab_events.loc[(lab_events['itemid'] == 51274) &  (lab_events['value'].isin(['ERROR'])), ['value', 'valuenum']] = 11\n",
    "\n",
    "# Should we just delete these?\n",
    "# For 5k patients there are 1 records here\n",
    "lab_events.loc[(lab_events['itemid'] == 51275) &  (lab_events['value'].isin(['UNABLE TO REPORT'])), ['value', 'valuenum']] = 31\n",
    "\n",
    "# Clumsy..\n",
    "lab_events.loc[(lab_events['itemid'] == 51275) &  (lab_events['value'].isin(['34..3'])), ['value', 'valuenum']] = 34.3\n",
    "lab_events.loc[lab_events.value==':UNABLE TO REPORT', ['value', 'valuenum']] = 'NaN'\n",
    "lab_events.loc[lab_events.value=='UNABLE', ['value', 'valuenum']] = 'NaN'\n",
    "lab_events.loc[lab_events.value=='>13.1', ['value', 'valuenum']] = 13\n",
    "\n",
    "# 51466\n",
    "lab_events.loc[(lab_events['itemid'] == 51466) & (lab_events['value'].isin([np.nan])), ['value']] = lab_events['comments']\n",
    "lab_events.loc[(lab_events['itemid'] == 51466) & (lab_events['value'].isin(['NEG.  ', 'NEG', ' '])), ['value', 'valuenum']] = 0\n",
    "lab_events.loc[(lab_events['itemid'] == 51466) & (lab_events['value'].isin(['TR', 'TR.  ', 'TR*.  '])), ['value', 'valuenum']] = 1\n",
    "lab_events.loc[(lab_events['itemid'] == 51466) & (lab_events['value'].isin(['SM', 'SM .  ', 'SM*.  '])), ['value', 'valuenum']] = 2\n",
    "lab_events.loc[(lab_events['itemid'] == 51466) & (lab_events['value'].isin(['MOD', 'MOD.  ', 'MOD*.  '])), ['value', 'valuenum']] = 3\n",
    "lab_events.loc[(lab_events['itemid'] == 51466) & (lab_events['value'].isin(['LG', 'LG.  ', 'LG*.  ', 'LGE', 'LRG'])), ['value', 'valuenum']] = 4\n",
    "\n",
    "lab_events.loc[(lab_events['itemid'] == 51466) & (lab_events['ref_range_lower'].isnull()), 'ref_range_lower'] = 0\n",
    "lab_events.loc[(lab_events['itemid'] == 51466) & (lab_events['ref_range_upper'].isnull()), 'ref_range_upper'] = 0\n",
    "\n",
    "# 51514\n",
    "lab_events.loc[(lab_events['itemid'] == 51514) & (lab_events['value'].isin([np.nan])), ['value']] = lab_events['comments']\n",
    "lab_events.loc[(lab_events['itemid'] == 51514) & (lab_events['value'].isin(['NEG.  ', 'NEG', 'NORMAL.  ', ' '])), ['value', 'valuenum']] = 0\n",
    "lab_events.loc[(lab_events['itemid'] == 51514) & (lab_events['value'].isin(['>8'])), ['value', 'valuenum']] = 10\n",
    "lab_events.loc[(lab_events['itemid'] == 51514) & (lab_events['value'].isin(['>12.  ', '>12*.  '])), ['value', 'valuenum']] = 15\n",
    "\n",
    "# 51464\n",
    "lab_events.loc[(lab_events['itemid'] == 51464) & (lab_events['value'].isin([np.nan])), ['value']] = lab_events['comments']\n",
    "lab_events.loc[(lab_events['itemid'] == 51464) & (lab_events['value'].isin(['NEG.  ', 'NEG', ' '])), ['value', 'valuenum']] = 0\n",
    "lab_events.loc[(lab_events['itemid'] == 51464) & (lab_events['value'].isin(['SM', 'SM .  ', 'SM*.  '])), ['value', 'valuenum']] = 1\n",
    "lab_events.loc[(lab_events['itemid'] == 51464) & (lab_events['value'].isin(['MOD', 'MOD.  ', 'MOD*.  '])), ['value', 'valuenum']] = 2\n",
    "lab_events.loc[(lab_events['itemid'] == 51464) & (lab_events['value'].isin(['LG', 'LG.  ', 'LG*.  ', 'LGE'])), ['value', 'valuenum']] = 3\n",
    "\n",
    "lab_events.loc[(lab_events['itemid'] == 51464) & (lab_events['ref_range_lower'].isnull()), 'ref_range_lower'] = 0\n",
    "lab_events.loc[(lab_events['itemid'] == 51464) & (lab_events['ref_range_upper'].isnull()), 'ref_range_upper'] = 0\n",
    "\n",
    "# 51487\n",
    "# Should Pos be marked abnormal?\n",
    "lab_events.loc[(lab_events['itemid'] == 51487) & (lab_events['value'].isin([np.nan])), ['value']] = lab_events['comments']\n",
    "lab_events.loc[(lab_events['itemid'] == 51487) & (lab_events['value'].isin(['NEG.  ', 'NEG', ' '])), ['value', 'valuenum']] = 0\n",
    "lab_events.loc[(lab_events['itemid'] == 51487) & (lab_events['value'].isin(['POS.  ', 'POS', 'POS*.  '])), ['value', 'valuenum']] = 1\n",
    "\n",
    "lab_events.loc[(lab_events['itemid'] == 51487) & (lab_events['ref_range_lower'].isnull()), 'ref_range_lower'] = 0\n",
    "lab_events.loc[(lab_events['itemid'] == 51487) & (lab_events['ref_range_upper'].isnull()), 'ref_range_upper'] = 0\n",
    "\n",
    "# 51492\n",
    "# Should Pos be marked abnormal?\n",
    "lab_events.loc[(lab_events['itemid'] == 51492) & (lab_events['value'].isin([np.nan])), ['value']] = lab_events['comments']\n",
    "lab_events.loc[(lab_events['itemid'] == 51492) & (lab_events['value'].isin(['___'])), ['value', 'valuenum']] = np.nan\n",
    "lab_events.loc[(lab_events['itemid'] == 51492) & (lab_events['value'].isin(['NEG.  ', 'NEG', ' '])), ['value', 'valuenum']] = 0\n",
    "lab_events.loc[(lab_events['itemid'] == 51492) & (lab_events['value'].isin(['TR', 'TR.  ', 'TR*.  '])), ['value', 'valuenum']] = 10\n",
    "lab_events.loc[(lab_events['itemid'] == 51492) & (lab_events['value'].str.contains('TR.')), ['value', 'valuenum']] = 10\n",
    "lab_events.loc[(lab_events['itemid'] == 51492) & (lab_events['value'].isin(['>300'])), ['value', 'valuenum']] = 350\n",
    "lab_events.loc[(lab_events['itemid'] == 51492) & (lab_events['value'].isin(['>600.  ', '>600*.  '])), ['value', 'valuenum']] = 700\n",
    "\n",
    "lab_events.loc[(lab_events['itemid'] == 51492) & (lab_events['ref_range_lower'].isnull()), 'ref_range_lower'] = 0\n",
    "lab_events.loc[(lab_events['itemid'] == 51492) & (lab_events['ref_range_upper'].isnull()), 'ref_range_upper'] = 0\n",
    "\n",
    "# 51486\n",
    "lab_events.loc[(lab_events['itemid'] == 51486) & (lab_events['value'].isin([np.nan])), ['value']] = lab_events['comments']\n",
    "lab_events.loc[(lab_events['itemid'] == 51486) & (lab_events['value'].isin(['NEG.  ', 'NEG', ' ', 'N'])), ['value', 'valuenum']] = 0\n",
    "lab_events.loc[(lab_events['itemid'] == 51486) & (lab_events['value'].isin(['TR', 'TR.  ', 'TR*.  '])), ['value', 'valuenum']] = 1\n",
    "lab_events.loc[(lab_events['itemid'] == 51486) & (lab_events['value'].isin(['SM', 'SM .  ', 'SM*.  '])), ['value', 'valuenum']] = 2\n",
    "lab_events.loc[(lab_events['itemid'] == 51486) & (lab_events['value'].isin(['MOD', 'MOD.  ', 'MOD*.  '])), ['value', 'valuenum']] = 3\n",
    "lab_events.loc[(lab_events['itemid'] == 51486) & (lab_events['value'].isin(['LG', 'LG.  ', 'LG*.  ', 'LGE'])), ['value', 'valuenum']] = 4\n",
    "\n",
    "lab_events.loc[(lab_events['itemid'] == 51486) & (lab_events['ref_range_lower'].isnull()), 'ref_range_lower'] = 0\n",
    "lab_events.loc[(lab_events['itemid'] == 51486) & (lab_events['ref_range_upper'].isnull()), 'ref_range_upper'] = 0\n",
    "\n",
    "# 51506\n",
    "lab_events.loc[(lab_events['itemid'] == 51506) & (lab_events['value'].isin([np.nan])), ['value']] = lab_events['comments']\n",
    "lab_events.loc[(lab_events['itemid'] == 51506) & (lab_events['value'].isin(['Clear.  ', 'CLEAR.  ', 'Clear', ' ', 'CLEAR'])), ['value', 'valuenum']] = 0\n",
    "lab_events.loc[(lab_events['itemid'] == 51506) & (lab_events['value'].isin(['SlHazy'])), ['value', 'valuenum']] = 0.5\n",
    "lab_events.loc[(lab_events['itemid'] == 51506) & (lab_events['value'].isin(['Hazy.  ', 'Hazy*.  ', 'Hazy', 'HAZY', 'HAZY*.  ', 'Slcldy', 'SLCLOUDY'])), ['value', 'valuenum']] = 1\n",
    "lab_events.loc[(lab_events['itemid'] == 51506) & (lab_events['value'].isin(['Cloudy*.  ', 'Cloudy.  ', 'Cloudy', 'CLO', 'CLOUDY', 'CLOU', 'CLOUDY*.  '])), ['value', 'valuenum']] = 2\n",
    "\n",
    "lab_events.loc[(lab_events['itemid'] == 51506) & (lab_events['ref_range_lower'].isnull()), 'ref_range_lower'] = 0\n",
    "lab_events.loc[(lab_events['itemid'] == 51506) & (lab_events['ref_range_upper'].isnull()), 'ref_range_upper'] = 0\n",
    "\n",
    "lab_events.valuenum = lab_events.valuenum.astype(float)"
   ]
  },
  {
   "cell_type": "code",
   "execution_count": 21,
   "metadata": {},
   "outputs": [
    {
     "data": {
      "text/html": [
       "<div>\n",
       "<style scoped>\n",
       "    .dataframe tbody tr th:only-of-type {\n",
       "        vertical-align: middle;\n",
       "    }\n",
       "\n",
       "    .dataframe tbody tr th {\n",
       "        vertical-align: top;\n",
       "    }\n",
       "\n",
       "    .dataframe thead th {\n",
       "        text-align: right;\n",
       "    }\n",
       "</style>\n",
       "<table border=\"1\" class=\"dataframe\">\n",
       "  <thead>\n",
       "    <tr style=\"text-align: right;\">\n",
       "      <th></th>\n",
       "      <th>subject_id</th>\n",
       "      <th>hadm_id</th>\n",
       "      <th>specimen_id</th>\n",
       "      <th>itemid</th>\n",
       "      <th>value</th>\n",
       "      <th>valuenum</th>\n",
       "      <th>valueuom</th>\n",
       "      <th>ref_range_lower</th>\n",
       "      <th>ref_range_upper</th>\n",
       "      <th>comments</th>\n",
       "      <th>flag</th>\n",
       "    </tr>\n",
       "  </thead>\n",
       "  <tbody>\n",
       "    <tr>\n",
       "      <th>29802095</th>\n",
       "      <td>12579086</td>\n",
       "      <td>28532480.0</td>\n",
       "      <td>17907229</td>\n",
       "      <td>51275</td>\n",
       "      <td>NaN</td>\n",
       "      <td>NaN</td>\n",
       "      <td>sec</td>\n",
       "      <td>25.0</td>\n",
       "      <td>36.5</td>\n",
       "      <td>NaN</td>\n",
       "      <td>abnormal</td>\n",
       "    </tr>\n",
       "    <tr>\n",
       "      <th>64628951</th>\n",
       "      <td>14222873</td>\n",
       "      <td>24550068.0</td>\n",
       "      <td>55636858</td>\n",
       "      <td>51274</td>\n",
       "      <td>15.6</td>\n",
       "      <td>15.6</td>\n",
       "      <td>sec</td>\n",
       "      <td>9.4</td>\n",
       "      <td>12.5</td>\n",
       "      <td>NaN</td>\n",
       "      <td>abnormal</td>\n",
       "    </tr>\n",
       "  </tbody>\n",
       "</table>\n",
       "</div>"
      ],
      "text/plain": [
       "          subject_id     hadm_id  specimen_id  itemid   value  valuenum  \\\n",
       "29802095    12579086  28532480.0     17907229   51275     NaN       NaN   \n",
       "64628951    14222873  24550068.0     55636858   51274    15.6      15.6   \n",
       "\n",
       "         valueuom  ref_range_lower  ref_range_upper comments      flag  \n",
       "29802095      sec             25.0             36.5      NaN  abnormal  \n",
       "64628951      sec              9.4             12.5      NaN  abnormal  "
      ]
     },
     "execution_count": 21,
     "metadata": {},
     "output_type": "execute_result"
    }
   ],
   "source": [
    "# sanity check\n",
    "\n",
    "lab_events.loc[((lab_events['value'].astype(str) + str('.0')) != lab_events['valuenum'].astype(str)) \n",
    "                           & ((lab_events['value'].astype(str) + str('0')) != lab_events['valuenum'].astype(str)) \n",
    "                           & ((lab_events['value'].astype(str)) != lab_events['valuenum'].astype(str)) \n",
    "                           & ((lab_events['value'].astype(str)) != lab_events['valuenum'].astype(str) + str('0')) \n",
    "                           & ((str('0') + lab_events['value'].astype(str)) != lab_events['valuenum'].astype(str))\n",
    "                           & ((lab_events['value'].astype(str)) != round(lab_events['valuenum'].astype(float), 10).astype(str))\n",
    "                           ]\n"
   ]
  },
  {
   "cell_type": "markdown",
   "metadata": {},
   "source": [
    "### Transform Into Aggregates (min, max, mean, etc.)"
   ]
  },
  {
   "cell_type": "code",
   "execution_count": 22,
   "metadata": {},
   "outputs": [
    {
     "name": "stdout",
     "output_type": "stream",
     "text": [
      "Wall time: 1.48 s\n"
     ]
    },
    {
     "data": {
      "text/plain": [
       "Series([], dtype: int64)"
      ]
     },
     "execution_count": 22,
     "metadata": {},
     "output_type": "execute_result"
    }
   ],
   "source": [
    "%%time\n",
    "\n",
    "sample_labs = lab_events.groupby(['subject_id', 'hadm_id', 'itemid'])\n",
    "sample_labs = sample_labs.agg({'itemid' : ['count'],\n",
    "                               'valuenum' : ['min', 'max', 'mean'],\n",
    "                               'flag' : ['count'],\n",
    "                               'ref_range_lower' : ['min'],\n",
    "                               'ref_range_upper' : ['min']\n",
    "                              })\n",
    "sample_labs.reset_index(inplace = True)\n",
    "sample_labs.columns = ['subject_id', 'hadm_id', 'itemid', 'count', 'min', 'max', 'mean', 'abn_percent', 'range_min', 'range_max']\n",
    "sample_labs['below_min'] = np.where(sample_labs['min'] < sample_labs['range_min'], sample_labs['range_min'] - sample_labs['min'], 0)\n",
    "sample_labs['above_max'] = np.where(sample_labs['max'] > sample_labs['range_max'], sample_labs['max'] - sample_labs['range_max'], 0)\n",
    "sample_labs['abn_percent'] = sample_labs['abn_percent'] / sample_labs['count']\n",
    "missing_vals = sample_labs.isnull().sum(axis = 0) \n",
    "missing_vals[missing_vals > 0].sort_values()\n"
   ]
  },
  {
   "cell_type": "code",
   "execution_count": 23,
   "metadata": {},
   "outputs": [],
   "source": [
    "sample_labs_pivot = sample_labs.pivot(index = 'hadm_id', columns = 'itemid', values = ['min', 'max', 'mean', 'abn_percent', 'below_min', 'above_max'])\n",
    "sample_labs_pivot = sample_labs_pivot.reset_index()\n",
    "\n",
    "# sample_labs_pivot['subject_id'], sample_labs_pivot['hadm_id'] = zip(*sample_labs_pivot['hadm_id'])\n",
    "# sample_labs_pivot.drop(['new_index'], axis = 1, inplace = True)\n",
    "missing_vals = sample_labs_pivot.isnull().sum(axis = 0) \n",
    "missing_vals[missing_vals > 0].groupby('itemid').mean().sort_values(ascending=False)\n",
    "sample_labs_pivot.columns = [str(col_[0]) + ' ' + str(col_[1]) for col_ in sample_labs_pivot.columns]\n",
    "sample_labs_pivot.columns = [str.strip(col_) for col_ in sample_labs_pivot.columns]"
   ]
  },
  {
   "cell_type": "markdown",
   "metadata": {},
   "source": [
    "### KNN Imputation"
   ]
  },
  {
   "cell_type": "code",
   "execution_count": null,
   "metadata": {},
   "outputs": [],
   "source": [
    "# sample_labs_pivot.columns"
   ]
  },
  {
   "cell_type": "code",
   "execution_count": null,
   "metadata": {},
   "outputs": [],
   "source": [
    "# s_admissions.ethnicity = s_admissions.ethnicity.str.lower()"
   ]
  },
  {
   "cell_type": "code",
   "execution_count": null,
   "metadata": {},
   "outputs": [],
   "source": [
    "# sample_labs[sample_labs.hadm_id==20002920]"
   ]
  },
  {
   "cell_type": "code",
   "execution_count": null,
   "metadata": {},
   "outputs": [],
   "source": [
    "# s_admissions[s_admissions.hadm_id==20002920]"
   ]
  },
  {
   "cell_type": "code",
   "execution_count": null,
   "metadata": {},
   "outputs": [],
   "source": [
    "# s_impute_prep.loc[0:5,['hadm_id', 'pos_subj']]"
   ]
  },
  {
   "cell_type": "code",
   "execution_count": 24,
   "metadata": {},
   "outputs": [
    {
     "data": {
      "text/html": [
       "<div>\n",
       "<style scoped>\n",
       "    .dataframe tbody tr th:only-of-type {\n",
       "        vertical-align: middle;\n",
       "    }\n",
       "\n",
       "    .dataframe tbody tr th {\n",
       "        vertical-align: top;\n",
       "    }\n",
       "\n",
       "    .dataframe thead th {\n",
       "        text-align: right;\n",
       "    }\n",
       "</style>\n",
       "<table border=\"1\" class=\"dataframe\">\n",
       "  <thead>\n",
       "    <tr style=\"text-align: right;\">\n",
       "      <th></th>\n",
       "      <th>hadm_id</th>\n",
       "      <th>min 50861</th>\n",
       "      <th>min 50868</th>\n",
       "      <th>min 50882</th>\n",
       "      <th>min 50885</th>\n",
       "      <th>min 50902</th>\n",
       "      <th>min 50912</th>\n",
       "      <th>min 50960</th>\n",
       "      <th>min 50970</th>\n",
       "      <th>min 50971</th>\n",
       "      <th>...</th>\n",
       "      <th>hypertension</th>\n",
       "      <th>atherosclero</th>\n",
       "      <th>renal_failure</th>\n",
       "      <th>arrhythmia</th>\n",
       "      <th>ethnicity_american indian/alaska native</th>\n",
       "      <th>ethnicity_asian</th>\n",
       "      <th>ethnicity_black/african american</th>\n",
       "      <th>ethnicity_hispanic/latino</th>\n",
       "      <th>ethnicity_other</th>\n",
       "      <th>ethnicity_unknown</th>\n",
       "    </tr>\n",
       "  </thead>\n",
       "  <tbody>\n",
       "    <tr>\n",
       "      <th>0</th>\n",
       "      <td>20000019.0</td>\n",
       "      <td>NaN</td>\n",
       "      <td>12.0</td>\n",
       "      <td>24.0</td>\n",
       "      <td>0.4</td>\n",
       "      <td>100.0</td>\n",
       "      <td>0.9</td>\n",
       "      <td>1.5</td>\n",
       "      <td>2.7</td>\n",
       "      <td>3.5</td>\n",
       "      <td>...</td>\n",
       "      <td>1.0</td>\n",
       "      <td>0.0</td>\n",
       "      <td>0.0</td>\n",
       "      <td>0.0</td>\n",
       "      <td>0</td>\n",
       "      <td>0</td>\n",
       "      <td>0</td>\n",
       "      <td>1</td>\n",
       "      <td>0</td>\n",
       "      <td>0</td>\n",
       "    </tr>\n",
       "    <tr>\n",
       "      <th>1</th>\n",
       "      <td>20001729.0</td>\n",
       "      <td>11.0</td>\n",
       "      <td>11.0</td>\n",
       "      <td>17.0</td>\n",
       "      <td>0.3</td>\n",
       "      <td>89.0</td>\n",
       "      <td>1.1</td>\n",
       "      <td>1.6</td>\n",
       "      <td>1.7</td>\n",
       "      <td>3.7</td>\n",
       "      <td>...</td>\n",
       "      <td>1.0</td>\n",
       "      <td>1.0</td>\n",
       "      <td>0.0</td>\n",
       "      <td>0.0</td>\n",
       "      <td>0</td>\n",
       "      <td>0</td>\n",
       "      <td>0</td>\n",
       "      <td>0</td>\n",
       "      <td>0</td>\n",
       "      <td>0</td>\n",
       "    </tr>\n",
       "    <tr>\n",
       "      <th>2</th>\n",
       "      <td>20004387.0</td>\n",
       "      <td>50.0</td>\n",
       "      <td>11.0</td>\n",
       "      <td>25.0</td>\n",
       "      <td>0.2</td>\n",
       "      <td>102.0</td>\n",
       "      <td>0.8</td>\n",
       "      <td>1.9</td>\n",
       "      <td>3.1</td>\n",
       "      <td>4.5</td>\n",
       "      <td>...</td>\n",
       "      <td>0.0</td>\n",
       "      <td>1.0</td>\n",
       "      <td>0.0</td>\n",
       "      <td>0.0</td>\n",
       "      <td>0</td>\n",
       "      <td>0</td>\n",
       "      <td>0</td>\n",
       "      <td>0</td>\n",
       "      <td>0</td>\n",
       "      <td>0</td>\n",
       "    </tr>\n",
       "    <tr>\n",
       "      <th>3</th>\n",
       "      <td>20006820.0</td>\n",
       "      <td>NaN</td>\n",
       "      <td>9.0</td>\n",
       "      <td>22.0</td>\n",
       "      <td>NaN</td>\n",
       "      <td>98.0</td>\n",
       "      <td>0.8</td>\n",
       "      <td>1.3</td>\n",
       "      <td>2.6</td>\n",
       "      <td>3.1</td>\n",
       "      <td>...</td>\n",
       "      <td>0.0</td>\n",
       "      <td>0.0</td>\n",
       "      <td>0.0</td>\n",
       "      <td>0.0</td>\n",
       "      <td>0</td>\n",
       "      <td>0</td>\n",
       "      <td>0</td>\n",
       "      <td>0</td>\n",
       "      <td>0</td>\n",
       "      <td>0</td>\n",
       "    </tr>\n",
       "    <tr>\n",
       "      <th>4</th>\n",
       "      <td>20008546.0</td>\n",
       "      <td>NaN</td>\n",
       "      <td>12.0</td>\n",
       "      <td>24.0</td>\n",
       "      <td>NaN</td>\n",
       "      <td>100.0</td>\n",
       "      <td>1.3</td>\n",
       "      <td>1.5</td>\n",
       "      <td>2.8</td>\n",
       "      <td>3.7</td>\n",
       "      <td>...</td>\n",
       "      <td>1.0</td>\n",
       "      <td>0.0</td>\n",
       "      <td>0.0</td>\n",
       "      <td>0.0</td>\n",
       "      <td>0</td>\n",
       "      <td>0</td>\n",
       "      <td>0</td>\n",
       "      <td>0</td>\n",
       "      <td>0</td>\n",
       "      <td>0</td>\n",
       "    </tr>\n",
       "  </tbody>\n",
       "</table>\n",
       "<p>5 rows × 144 columns</p>\n",
       "</div>"
      ],
      "text/plain": [
       "      hadm_id  min 50861  min 50868  min 50882  min 50885  min 50902  \\\n",
       "0  20000019.0        NaN       12.0       24.0        0.4      100.0   \n",
       "1  20001729.0       11.0       11.0       17.0        0.3       89.0   \n",
       "2  20004387.0       50.0       11.0       25.0        0.2      102.0   \n",
       "3  20006820.0        NaN        9.0       22.0        NaN       98.0   \n",
       "4  20008546.0        NaN       12.0       24.0        NaN      100.0   \n",
       "\n",
       "   min 50912  min 50960  min 50970  min 50971  ...  hypertension  \\\n",
       "0        0.9        1.5        2.7        3.5  ...           1.0   \n",
       "1        1.1        1.6        1.7        3.7  ...           1.0   \n",
       "2        0.8        1.9        3.1        4.5  ...           0.0   \n",
       "3        0.8        1.3        2.6        3.1  ...           0.0   \n",
       "4        1.3        1.5        2.8        3.7  ...           1.0   \n",
       "\n",
       "   atherosclero  renal_failure  arrhythmia  \\\n",
       "0           0.0            0.0         0.0   \n",
       "1           1.0            0.0         0.0   \n",
       "2           1.0            0.0         0.0   \n",
       "3           0.0            0.0         0.0   \n",
       "4           0.0            0.0         0.0   \n",
       "\n",
       "   ethnicity_american indian/alaska native  ethnicity_asian  \\\n",
       "0                                        0                0   \n",
       "1                                        0                0   \n",
       "2                                        0                0   \n",
       "3                                        0                0   \n",
       "4                                        0                0   \n",
       "\n",
       "   ethnicity_black/african american  ethnicity_hispanic/latino  \\\n",
       "0                                 0                          1   \n",
       "1                                 0                          0   \n",
       "2                                 0                          0   \n",
       "3                                 0                          0   \n",
       "4                                 0                          0   \n",
       "\n",
       "   ethnicity_other  ethnicity_unknown  \n",
       "0                0                  0  \n",
       "1                0                  0  \n",
       "2                0                  0  \n",
       "3                0                  0  \n",
       "4                0                  0  \n",
       "\n",
       "[5 rows x 144 columns]"
      ]
     },
     "execution_count": 24,
     "metadata": {},
     "output_type": "execute_result"
    }
   ],
   "source": [
    "s_impute_prep = sample_labs_pivot.copy()\n",
    "s_impute_prep = s_impute_prep.merge(s_admissions, how='left', on='hadm_id')\n",
    "\n",
    "dummy = pd.get_dummies(s_impute_prep['ethnicity'], prefix='ethnicity')\n",
    "dummy.drop('ethnicity_white', axis=1, inplace=True)\n",
    "s_impute_prep = s_impute_prep.drop('ethnicity', axis=1)\n",
    "s_impute_prep = pd.concat([s_impute_prep, dummy], axis=1)\n",
    "\n",
    "s_impute_prep['gender'] = s_impute_prep['gender'].map({'M' : 0.0, 'F' : 1.0})\n",
    "s_impute_prep['gender'] = pd.to_numeric(s_impute_prep['gender'])\n",
    "\n",
    "s_impute_prep.head()"
   ]
  },
  {
   "cell_type": "code",
   "execution_count": 25,
   "metadata": {
    "scrolled": true
   },
   "outputs": [
    {
     "name": "stdout",
     "output_type": "stream",
     "text": [
      "Wall time: 1min 8s\n"
     ]
    }
   ],
   "source": [
    "%%time\n",
    "\n",
    "from sklearn.impute import KNNImputer\n",
    "import math\n",
    "imputer = KNNImputer(n_neighbors=math.trunc((s_impute_prep.shape[0] ** 0.5)))\n",
    "sample_labs_imputed = imputer.fit_transform(s_impute_prep)\n",
    "\n",
    "# 3min 8s"
   ]
  },
  {
   "cell_type": "code",
   "execution_count": 26,
   "metadata": {},
   "outputs": [],
   "source": [
    "sample_labs_imputed = pd.DataFrame(sample_labs_imputed)\n",
    "sample_labs_imputed.columns = s_impute_prep.columns"
   ]
  },
  {
   "cell_type": "code",
   "execution_count": 27,
   "metadata": {},
   "outputs": [
    {
     "data": {
      "text/plain": [
       "0"
      ]
     },
     "execution_count": 27,
     "metadata": {},
     "output_type": "execute_result"
    }
   ],
   "source": [
    "sample_labs_imputed.hadm_id.isna().sum()"
   ]
  },
  {
   "cell_type": "code",
   "execution_count": 28,
   "metadata": {},
   "outputs": [
    {
     "data": {
      "text/plain": [
       "(8734, 144)"
      ]
     },
     "execution_count": 28,
     "metadata": {},
     "output_type": "execute_result"
    }
   ],
   "source": [
    "sample_labs_imputed.shape"
   ]
  },
  {
   "cell_type": "markdown",
   "metadata": {},
   "source": [
    "# Initial Model"
   ]
  },
  {
   "cell_type": "code",
   "execution_count": null,
   "metadata": {},
   "outputs": [],
   "source": [
    "logistic"
   ]
  },
  {
   "cell_type": "markdown",
   "metadata": {},
   "source": [
    "# Model Refinement"
   ]
  },
  {
   "cell_type": "code",
   "execution_count": null,
   "metadata": {},
   "outputs": [],
   "source": [
    "lasso\n",
    "oversample\n",
    "threshold"
   ]
  },
  {
   "cell_type": "markdown",
   "metadata": {},
   "source": [
    "# Predict Future Diagnoses\n",
    "\n",
    "Feasbility study to see if we can predict whether a patient will develop a disease (initially CHF) from their patient history leading up to (but not including) their first diagnosis. "
   ]
  },
  {
   "cell_type": "markdown",
   "metadata": {},
   "source": [
    "### Outline\n",
    "\n",
    "1. Identify CHF patients\n",
    "1. Look at patient histories\n",
    "1. Look at co-morbidities\n",
    "1. Identify first CHF diagnosis\n",
    "1. Identify visit right before CHF diagnosis (< 1 mo)\n",
    "1. Look for features to predict pre-CHF state (lab tests in history)"
   ]
  },
  {
   "cell_type": "code",
   "execution_count": null,
   "metadata": {},
   "outputs": [],
   "source": [
    "################################\n",
    "pos_codes = d_diagnoses[(d_diagnoses['long_title'].str.lower().str.contains('congestive',)) & (d_diagnoses['long_title'].str.lower().str.contains('heart'))]\n",
    "pos_codes"
   ]
  },
  {
   "cell_type": "code",
   "execution_count": null,
   "metadata": {},
   "outputs": [],
   "source": [
    "###############################\n",
    "pos_diagnoses = diagnoses[diagnoses['icd_code'].isin(pos_codes.icd_code)]\n",
    "admissions['pos_subj'] = np.where(admissions.subject_id.isin(pos_diagnoses.subject_id), 1, 0)\n",
    "admissions['pos_adm'] = np.where(admissions.hadm_id.isin(pos_diagnoses.hadm_id), 1, 0)\n",
    "\n",
    "admissions['admittime'] = pd.to_datetime(admissions.admittime)\n",
    "admissions = admissions.sort_values('admittime')\n",
    "admissions['dischtime'] = pd.to_datetime(admissions.dischtime)\n",
    "admissions['hadm_time'] = admissions.dischtime - admissions.admittime\n",
    "\n",
    "admissions = admissions.rename(columns={'hospital_expire_flag':'expire_flag'})"
   ]
  },
  {
   "cell_type": "code",
   "execution_count": null,
   "metadata": {},
   "outputs": [],
   "source": [
    "primary_drg = drg_codes.drop('drg_code', axis=1).rename(columns={'description':'drg_code'})\n",
    "primary_drg = primary_drg[['subject_id', 'hadm_id', 'drg_code']].drop_duplicates()\n",
    "primary_drg = primary_drg.groupby('hadm_id').first().reset_index()\n",
    "primary_drg.head()"
   ]
  },
  {
   "cell_type": "code",
   "execution_count": null,
   "metadata": {},
   "outputs": [],
   "source": [
    "primary_icd = diagnoses[diagnoses['seq_num']==1].merge(d_diagnoses, how='left', on=['icd_version', 'icd_code'])\n",
    "primary_icd = primary_icd.drop('icd_code', axis=1).rename(columns={'long_title':'icd_code'})\n",
    "primary_icd = primary_icd[['subject_id', 'hadm_id', 'icd_code']].drop_duplicates()\n",
    "primary_icd = primary_icd.groupby('hadm_id').first().reset_index()\n",
    "primary_icd.head()"
   ]
  },
  {
   "cell_type": "code",
   "execution_count": null,
   "metadata": {},
   "outputs": [],
   "source": [
    "admissions = admissions.merge(primary_drg, how='left').merge(primary_icd, how='left')\n",
    "admissions.head()"
   ]
  },
  {
   "cell_type": "code",
   "execution_count": null,
   "metadata": {},
   "outputs": [],
   "source": [
    "admissions.shape"
   ]
  },
  {
   "cell_type": "markdown",
   "metadata": {},
   "source": [
    "# Move to EDA Notebook >>>>>>>>>>>>>>"
   ]
  },
  {
   "cell_type": "code",
   "execution_count": null,
   "metadata": {},
   "outputs": [],
   "source": [
    "# General trends in CHF population"
   ]
  },
  {
   "cell_type": "code",
   "execution_count": null,
   "metadata": {},
   "outputs": [],
   "source": [
    "admissions.groupby('ethnicity').agg({'pos_subj':['count', 'mean']})"
   ]
  },
  {
   "cell_type": "code",
   "execution_count": null,
   "metadata": {},
   "outputs": [],
   "source": [
    "pos_index = admissions.groupby('subject_id').agg(pos_subj=('pos_subj', 'max'))\n",
    "print(np.sum(pos_index))\n",
    "print(np.mean(pos_index))"
   ]
  },
  {
   "cell_type": "code",
   "execution_count": null,
   "metadata": {
    "scrolled": true
   },
   "outputs": [],
   "source": [
    "result = admissions.groupby('pos_subj').agg(total_adm=('hadm_id','count'),\n",
    "                                             adm_fraction=('hadm_id', lambda x: len(x)/524520),\n",
    "                                             death_count=('expire_flag', 'sum'),\n",
    "                                             death_fraction=('expire_flag', 'mean'))\n",
    "result['chance_of_death'] = result.death_fraction/result.adm_fraction\n",
    "# ^^^ DOUBLE CHECK THIS LINE FOR BAYSIAN PROBABILITY ^^^\n",
    "result"
   ]
  },
  {
   "cell_type": "code",
   "execution_count": null,
   "metadata": {},
   "outputs": [],
   "source": [
    "admissions.expire_flag.sum()/admissions.subject_id.nunique()"
   ]
  },
  {
   "cell_type": "code",
   "execution_count": null,
   "metadata": {},
   "outputs": [],
   "source": [
    "admissions[admissions.pos_subj == 1].expire_flag.sum()/admissions[admissions.pos_subj == 1].subject_id.nunique()"
   ]
  },
  {
   "cell_type": "code",
   "execution_count": null,
   "metadata": {},
   "outputs": [],
   "source": [
    "# how long on avg does it take for someone to die with CHF"
   ]
  },
  {
   "cell_type": "markdown",
   "metadata": {},
   "source": [
    "# <<<<<<<<<<<<<<<<< MOVE TO EDA"
   ]
  },
  {
   "cell_type": "code",
   "execution_count": null,
   "metadata": {},
   "outputs": [],
   "source": [
    "from IPython.core.display import display, HTML\n",
    "display(HTML(\"<style>.container { width:90% !important; }</style>\"))"
   ]
  },
  {
   "cell_type": "code",
   "execution_count": null,
   "metadata": {},
   "outputs": [],
   "source": [
    "pd.set_option('display.width', 1000)"
   ]
  },
  {
   "cell_type": "code",
   "execution_count": null,
   "metadata": {
    "scrolled": true
   },
   "outputs": [],
   "source": [
    "rows = ['subject_id', 'admittime', 'pos_adm', 'expire_flag', 'drg_code', 'icd_code']\n",
    "sample_adm = admissions[admissions.pos_subj==1][rows]\n",
    "sample_adm['admittime'] = sample_adm.admittime.dt.date\n",
    "for subj in sample_adm.sample(100).subject_id.unique():\n",
    "    print('Subject: ', subj)\n",
    "    print('-'*80)\n",
    "    print(sample_adm[sample_adm.subject_id==subj][rows], '\\n')"
   ]
  },
  {
   "cell_type": "code",
   "execution_count": null,
   "metadata": {
    "scrolled": true
   },
   "outputs": [],
   "source": [
    "#################################\n",
    "# find patients who have a negative visit right before a positive visit\n",
    "\n",
    "first_admissions = admissions.iloc[admissions[admissions.pos_subj==1].groupby('subject_id').admittime.idxmin()]\n",
    "subj_list = first_admissions[first_admissions.pos_adm==0].subject_id.unique()\n",
    "\n",
    "print('There are', admissions[admissions.pos_subj==1].subject_id.nunique(), 'subjects with CHF, and',\n",
    "      len(subj_list), 'subjects with CHF that had at a negative visit before CHF diagnosis.')"
   ]
  },
  {
   "cell_type": "code",
   "execution_count": null,
   "metadata": {
    "scrolled": true
   },
   "outputs": [],
   "source": [
    "# create dataframes for first positive visits and most recent previous visits\n",
    "\n",
    "# create refernce dataframe\n",
    "subj_admissions = admissions[admissions.subject_id.isin(subj_list)]\n",
    "subj_admissions = subj_admissions.sort_values(['subject_id', 'admittime']).reset_index(drop=True)\n",
    "pos_adm = subj_admissions[['subject_id', 'hadm_id', 'admittime', 'pos_adm']]\n",
    "pos_adm = pos_adm.loc[pos_adm[pos_adm.pos_adm==1].groupby('subject_id').admittime.idxmin()]\n",
    "pos_adm = pos_adm.rename(columns={'pos_adm':'first_pos'}).drop('admittime', axis=1)\n",
    "subj_admissions = subj_admissions.merge(pos_adm, how='left')\n",
    "\n",
    "# slice based on first visit/prior visit\n",
    "first_idx = subj_admissions[subj_admissions.first_pos==1].index\n",
    "pos_adm = subj_admissions.iloc[first_idx].reset_index(drop=True)\n",
    "pre_adm = subj_admissions.iloc[first_idx-1].reset_index(drop=True)\n",
    "\n",
    "#sanity checks\n",
    "print('Positive cases in previous visit: ', pre_adm.pos_adm.sum())\n",
    "print('Mismatched patient count: ', np.sum(pos_adm['subject_id'] - pre_adm['subject_id']))"
   ]
  },
  {
   "cell_type": "code",
   "execution_count": null,
   "metadata": {},
   "outputs": [],
   "source": [
    "pre_adm['time_delta'] = pos_adm.admittime - pre_adm.dischtime\n",
    "pre_adm.time_delta.describe()"
   ]
  },
  {
   "cell_type": "code",
   "execution_count": null,
   "metadata": {},
   "outputs": [],
   "source": [
    "pre_adm['time_delta'].apply(lambda x: x.days/365).hist(bins=10, range=(0,10))\n",
    "plt.title('Time Delta for Patients Who Had \\nOne Negative Visit Before Developing Heart Failure')\n",
    "plt.xlabel('Years after Negative Visit')\n",
    "plt.ylabel('Number of Patients')"
   ]
  },
  {
   "cell_type": "code",
   "execution_count": null,
   "metadata": {
    "scrolled": true
   },
   "outputs": [],
   "source": [
    "pre_adm['time_delta'].apply(lambda x: x.days/31).hist(bins=12, range=(0,12))\n",
    "plt.title('Time Delta for Patients Who Had \\nOne Negative Visit Before Developing Heart Failure')\n",
    "plt.xlabel('Months after Negative Visit')\n",
    "plt.ylabel('Number of Patients')"
   ]
  },
  {
   "cell_type": "code",
   "execution_count": null,
   "metadata": {},
   "outputs": [],
   "source": [
    "# select group of interest (< 1 year before diagnosis)\n",
    "\n",
    "pre_adm1 = pre_adm[pre_adm.time_delta < pd.to_timedelta('365 days')]\n",
    "pre_adm1.head()"
   ]
  },
  {
   "cell_type": "code",
   "execution_count": null,
   "metadata": {},
   "outputs": [],
   "source": [
    "#### RESERVED FOR LAB TESTS\n",
    "\n",
    "# look for labs from visit right before CHF\n",
    "\n",
    "# load lab tests\n",
    "lab_events = pd.read_pickle(\"lab_events_final.pkl\")\n",
    "labs_adm1 = lab_events[lab_events.subject_id.isin(pre_adm1.subject_id)]\n",
    "labs_adm1 = labs_adm1.merge(d_lab_events, how='left', on='itemid')\n",
    "labs_adm1.subject_id.nunique()\n",
    "\n",
    "###"
   ]
  },
  {
   "cell_type": "code",
   "execution_count": null,
   "metadata": {},
   "outputs": [],
   "source": [
    "print('There are %i target patients who had one negative hospital visit within one year of heart failure.' % pre_adm1.shape[0])\n",
    "print('On average, they had %i days before the diagnosis of heart failure.' % pre_adm1.time_delta.dt.days.mean())\n",
    "print('For the lab tests, there are %i patients without any lab tests.' % (pre_adm1.shape[0] - labs_adm1.subject_id.nunique()))\n",
    "print('For those with lab tests, there were %.1f tests run per patient.' % (labs_adm1.shape[0]/pre_adm1.shape[0]))"
   ]
  },
  {
   "cell_type": "code",
   "execution_count": null,
   "metadata": {},
   "outputs": [],
   "source": [
    "pd.set_option('max_rows', 100) \n",
    "pd.set_option('min_rows', 100)        # display at least 100 rows when max is exceeded"
   ]
  },
  {
   "cell_type": "markdown",
   "metadata": {},
   "source": [
    "# ARCHIVE >>>>>>>>>>>>>>>>>>"
   ]
  },
  {
   "cell_type": "markdown",
   "metadata": {},
   "source": [
    "# Emergency EDA on Lab Tests\n",
    "\n",
    "Outline:\n",
    "1. Understand overall lab tests\n",
    "1. Load all tests for CHF patients (subj_list)\n",
    "1. Analyze most common tests for CHF"
   ]
  },
  {
   "cell_type": "code",
   "execution_count": null,
   "metadata": {},
   "outputs": [],
   "source": [
    "# repeat setup\n",
    "import pandas as pd\n",
    "import numpy as np\n",
    "import matplotlib.pyplot as plt\n",
    "\n",
    "path = \"D:\\\\Bootcamp\\\\MIMIC IV\\\\\"\n",
    "admissions = pd.read_csv(path + \"core\\\\admissions.csv.gz\", compression='gzip')\n",
    "diagnoses = pd.read_csv(path + \"hosp\\\\diagnoses_icd.csv.gz\", compression='gzip')\n",
    "d_diagnoses = pd.read_csv(path + \"hosp\\\\d_icd_diagnoses.csv.gz\", compression='gzip')\n",
    "d_lab_events = pd.read_csv(path + \"hosp\\\\d_labitems.csv.gz\", compression='gzip')\n",
    "\n",
    "###############################\n",
    "pos_codes = d_diagnoses[(d_diagnoses['long_title'].str.lower().str.contains('congestive',)) & (d_diagnoses['long_title'].str.lower().str.contains('heart'))]\n",
    "pos_diagnoses = diagnoses[diagnoses['icd_code'].isin(pos_codes.icd_code)]\n",
    "admissions['pos_subj'] = np.where(admissions.subject_id.isin(pos_diagnoses.subject_id), 1, 0)\n",
    "admissions['pos_adm'] = np.where(admissions.hadm_id.isin(pos_diagnoses.hadm_id), 1, 0)\n",
    "admissions['admittime'] = pd.to_datetime(admissions.admittime)\n",
    "\n",
    "###############################\n",
    "first_hadm = admissions.iloc[admissions[admissions.pos_adm==1].groupby('subject_id').admittime.idxmin()]\n",
    "hadm_list = first_hadm.hadm_id"
   ]
  },
  {
   "cell_type": "code",
   "execution_count": null,
   "metadata": {
    "scrolled": true
   },
   "outputs": [],
   "source": [
    "# look at overall lab events\n",
    "d_lab_events.groupby(['fluid', 'category']).agg(total_count=('itemid',lambda x: len(np.unique(x)))).sort_values(by='total_count', ascending=False)"
   ]
  },
  {
   "cell_type": "code",
   "execution_count": null,
   "metadata": {
    "scrolled": true
   },
   "outputs": [],
   "source": [
    "%%time\n",
    "# load *ALL* tests\n",
    "\n",
    "chunksize = 3*(10 ** 6)\n",
    "chunk = 1\n",
    "cols_ = ['subject_id', 'hadm_id', 'specimen_id', 'itemid', 'value', 'valuenum', 'valueuom', \\\n",
    "         'ref_range_lower', 'ref_range_upper', 'priority', 'comments']\n",
    "lab_events = []\n",
    "for lab_chunk in pd.read_csv(path + \"hosp\\\\labevents.csv.gz\", compression='gzip', chunksize=chunksize):\n",
    "    lab_chunk = lab_chunk[lab_chunk.hadm_id.isin(hadm_list)]\n",
    "    lab_chunk = lab_chunk[cols_]\n",
    "    lab_events.append(lab_chunk)\n",
    "    print(f'Processed chunk: {chunk}')\n",
    "    chunk += 1\n",
    "\n",
    "# 5k patients\n",
    "# 3min 52s\n",
    "\n",
    "# 10k patients\n",
    "# 4min 6s\n",
    "\n",
    "# 15k patients\n",
    "# 4min 27s\n"
   ]
  },
  {
   "cell_type": "code",
   "execution_count": null,
   "metadata": {},
   "outputs": [],
   "source": [
    "lab_events = pd.concat(lab_events)"
   ]
  },
  {
   "cell_type": "code",
   "execution_count": null,
   "metadata": {},
   "outputs": [],
   "source": [
    "lab_events.to_pickle(\"./lab_events.pkl\")"
   ]
  },
  {
   "cell_type": "code",
   "execution_count": null,
   "metadata": {
    "scrolled": true
   },
   "outputs": [],
   "source": [
    "chf_labs = lab_events.merge(d_lab_events, how='left', on='itemid')\n",
    "chf_labs = chf_labs.groupby(['itemid', 'label', 'fluid', 'category']).agg(freq=('subject_id', lambda x: len(np.unique(x))/chf_labs.subject_id.nunique()))\\\n",
    ".reset_index().sort_values('freq', ascending=False).head(40)"
   ]
  },
  {
   "cell_type": "code",
   "execution_count": null,
   "metadata": {},
   "outputs": [],
   "source": [
    "chf_labs['freq'].reset_index(drop=True).plot(kind='line')\n",
    "plt.xlabel('Top N Tests')\n",
    "plt.ylabel('Percent')\n",
    "plt.title('Percent of Heart Failure Patients Who\\n Had The Top N Tests')"
   ]
  },
  {
   "cell_type": "code",
   "execution_count": null,
   "metadata": {
    "scrolled": true
   },
   "outputs": [],
   "source": [
    "print(chf_labs.reset_index(drop=True))"
   ]
  },
  {
   "cell_type": "markdown",
   "metadata": {},
   "source": [
    "# <<<<<<<<<<<< ARCHIVE"
   ]
  }
 ],
 "metadata": {
  "kernelspec": {
   "display_name": "Python 3",
   "language": "python",
   "name": "python3"
  },
  "language_info": {
   "codemirror_mode": {
    "name": "ipython",
    "version": 3
   },
   "file_extension": ".py",
   "mimetype": "text/x-python",
   "name": "python",
   "nbconvert_exporter": "python",
   "pygments_lexer": "ipython3",
   "version": "3.7.6"
  }
 },
 "nbformat": 4,
 "nbformat_minor": 4
}
