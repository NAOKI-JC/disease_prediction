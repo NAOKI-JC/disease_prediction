{
 "cells": [
  {
   "cell_type": "code",
   "execution_count": 2,
   "metadata": {},
   "outputs": [],
   "source": [
    "import pandas as pd\n",
    "import pickle"
   ]
  },
  {
   "cell_type": "markdown",
   "metadata": {},
   "source": [
    "## Import cleaned dataset"
   ]
  },
  {
   "cell_type": "code",
   "execution_count": 3,
   "metadata": {},
   "outputs": [],
   "source": [
    "final = pd.read_csv('./CHF_final_test.csv.gz', compression='gzip')\n",
    "hadm_features = final.loc[:, '(\\'min\\', 50861)' : '(\\'above_max\\', 51491)']\n",
    "hadm_target = final.loc[:, 'CHF']"
   ]
  },
  {
   "cell_type": "code",
   "execution_count": 4,
   "metadata": {},
   "outputs": [],
   "source": [
    "from sklearn import model_selection\n",
    "\n",
    "X_train, X_test, y_train, y_test = model_selection.train_test_split(hadm_features, hadm_target, test_size=.2, stratify=hadm_target, random_state=25)"
   ]
  },
  {
   "cell_type": "markdown",
   "metadata": {},
   "source": [
    "## Random Forest"
   ]
  },
  {
   "cell_type": "markdown",
   "metadata": {},
   "source": [
    "### Basic"
   ]
  },
  {
   "cell_type": "code",
   "execution_count": 5,
   "metadata": {},
   "outputs": [
    {
     "name": "stdout",
     "output_type": "stream",
     "text": [
      "Cross Validation\n",
      "--------------------\n",
      "Best parameter:  {'criterion': 'entropy', 'max_depth': 30, 'n_estimators': 21}\n",
      "Best CV score:  0.9124\n",
      "Accuracy Score: 91.55%\n",
      "_______________________________________________\n",
      "Classification Report:\tPrecision Score: 67.19%\n",
      "\t\t\tRecall Score: 26.88%\n",
      "\t\t\tF1 score: 38.39%\n",
      "_______________________________________________\n",
      "Confusion Matrix: \n",
      " [[1453   21]\n",
      " [ 117   43]]\n",
      "\n",
      "CPU times: user 25.6 s, sys: 744 ms, total: 26.4 s\n",
      "Wall time: 33.2 s\n"
     ]
    }
   ],
   "source": [
    "%%time\n",
    "from sklearn.ensemble import RandomForestClassifier\n",
    "from sklearn.metrics import accuracy_score, confusion_matrix, precision_score, recall_score, f1_score\n",
    "\n",
    "param_grid={'criterion': ['entropy','gini'],\n",
    "            'n_estimators': range(1,31,10),\n",
    "            'max_depth': range(10,110,20)\n",
    "            }\n",
    "\n",
    "grid_search = model_selection.GridSearchCV(estimator = RandomForestClassifier(), param_grid = param_grid, cv=3)\n",
    "grid_search.fit(X_train, y_train)\n",
    "\n",
    "print(\"Cross Validation\")\n",
    "print(\"-\" * 20)\n",
    "print(\"Best parameter: \", grid_search.best_params_)\n",
    "print(\"Best CV score:  %.4f\" % grid_search.best_score_)\n",
    "\n",
    "pred = grid_search.best_estimator_.predict(X_test)\n",
    "\n",
    "print(f\"Accuracy Score: {accuracy_score(y_test, pred) * 100:.2f}%\")\n",
    "print(\"_______________________________________________\")\n",
    "print(\"Classification Report:\", end='')\n",
    "print(f\"\\tPrecision Score: {precision_score(y_test, pred) * 100:.2f}%\")\n",
    "print(f\"\\t\\t\\tRecall Score: {recall_score(y_test, pred) * 100:.2f}%\")\n",
    "print(f\"\\t\\t\\tF1 score: {f1_score(y_test, pred) * 100:.2f}%\")\n",
    "print(\"_______________________________________________\")\n",
    "print(f\"Confusion Matrix: \\n {confusion_matrix(y_test, pred)}\\n\")"
   ]
  },
  {
   "cell_type": "markdown",
   "metadata": {},
   "source": [
    "### undersampling using SMOTE"
   ]
  },
  {
   "cell_type": "code",
   "execution_count": 6,
   "metadata": {},
   "outputs": [],
   "source": [
    "from imblearn.over_sampling import SMOTE\n",
    "sm = SMOTE()\n",
    "X_res, y_res = sm.fit_resample(X_train, y_train)"
   ]
  },
  {
   "cell_type": "code",
   "execution_count": 7,
   "metadata": {},
   "outputs": [
    {
     "name": "stdout",
     "output_type": "stream",
     "text": [
      "Cross Validation\n",
      "--------------------\n",
      "Best parameter:  {'criterion': 'gini', 'max_depth': 90, 'n_estimators': 21}\n",
      "Best CV score:  0.9441\n",
      "Accuracy Score: 89.60%\n",
      "_______________________________________________\n",
      "Classification Report:\tPrecision Score: 47.28%\n",
      "\t\t\tRecall Score: 54.37%\n",
      "\t\t\tF1 score: 50.58%\n",
      "_______________________________________________\n",
      "Confusion Matrix: \n",
      " [[1377   97]\n",
      " [  73   87]]\n",
      "\n",
      "CPU times: user 1min 4s, sys: 2.11 s, total: 1min 6s\n",
      "Wall time: 1min 15s\n"
     ]
    }
   ],
   "source": [
    "%%time\n",
    "param_grid={'criterion': ['entropy','gini'],\n",
    "            'n_estimators': range(1,31,10),\n",
    "            'max_depth': range(10,110,20)\n",
    "            }\n",
    "\n",
    "grid_search = model_selection.GridSearchCV(estimator = RandomForestClassifier(), param_grid = param_grid, cv=3)\n",
    "grid_search.fit(X_res, y_res)\n",
    "\n",
    "print(\"Cross Validation\")\n",
    "print(\"-\" * 20)\n",
    "print(\"Best parameter: \", grid_search.best_params_)\n",
    "print(\"Best CV score:  %.4f\" % grid_search.best_score_)\n",
    "\n",
    "pred = grid_search.best_estimator_.predict(X_test)\n",
    "\n",
    "print(f\"Accuracy Score: {accuracy_score(y_test, pred) * 100:.2f}%\")\n",
    "print(\"_______________________________________________\")\n",
    "print(\"Classification Report:\", end='')\n",
    "print(f\"\\tPrecision Score: {precision_score(y_test, pred) * 100:.2f}%\")\n",
    "print(f\"\\t\\t\\tRecall Score: {recall_score(y_test, pred) * 100:.2f}%\")\n",
    "print(f\"\\t\\t\\tF1 score: {f1_score(y_test, pred) * 100:.2f}%\")\n",
    "print(\"_______________________________________________\")\n",
    "print(f\"Confusion Matrix: \\n {confusion_matrix(y_test, pred)}\\n\")"
   ]
  },
  {
   "cell_type": "markdown",
   "metadata": {},
   "source": [
    "### Over sampling using Near Miss"
   ]
  },
  {
   "cell_type": "code",
   "execution_count": 8,
   "metadata": {},
   "outputs": [],
   "source": [
    "from imblearn.under_sampling import NearMiss\n",
    "nm = NearMiss()\n",
    "X_res, y_res = nm.fit_resample(X_train, y_train)"
   ]
  },
  {
   "cell_type": "code",
   "execution_count": 9,
   "metadata": {},
   "outputs": [
    {
     "name": "stdout",
     "output_type": "stream",
     "text": [
      "Cross Validation\n",
      "--------------------\n",
      "Best parameter:  {'criterion': 'entropy', 'max_depth': 10, 'n_estimators': 11}\n",
      "Best CV score:  0.9953\n",
      "Accuracy Score: 33.78%\n",
      "_______________________________________________\n",
      "Classification Report:\tPrecision Score: 12.76%\n",
      "\t\t\tRecall Score: 98.75%\n",
      "\t\t\tF1 score: 22.60%\n",
      "_______________________________________________\n",
      "Confusion Matrix: \n",
      " [[ 394 1080]\n",
      " [   2  158]]\n",
      "\n",
      "CPU times: user 4.06 s, sys: 98 ms, total: 4.16 s\n",
      "Wall time: 4.53 s\n"
     ]
    }
   ],
   "source": [
    "%%time\n",
    "param_grid={'criterion': ['entropy','gini'],\n",
    "            'n_estimators': range(1,31,10),\n",
    "            'max_depth': range(10,110,20)\n",
    "            }\n",
    "\n",
    "grid_search = model_selection.GridSearchCV(estimator = RandomForestClassifier(), param_grid = param_grid, cv=3)\n",
    "grid_search.fit(X_res, y_res)\n",
    "\n",
    "print(\"Cross Validation\")\n",
    "print(\"-\" * 20)\n",
    "print(\"Best parameter: \", grid_search.best_params_)\n",
    "print(\"Best CV score:  %.4f\" % grid_search.best_score_)\n",
    "\n",
    "pred = grid_search.best_estimator_.predict(X_test)\n",
    "\n",
    "print(f\"Accuracy Score: {accuracy_score(y_test, pred) * 100:.2f}%\")\n",
    "print(\"_______________________________________________\")\n",
    "print(\"Classification Report:\", end='')\n",
    "print(f\"\\tPrecision Score: {precision_score(y_test, pred) * 100:.2f}%\")\n",
    "print(f\"\\t\\t\\tRecall Score: {recall_score(y_test, pred) * 100:.2f}%\")\n",
    "print(f\"\\t\\t\\tF1 score: {f1_score(y_test, pred) * 100:.2f}%\")\n",
    "print(\"_______________________________________________\")\n",
    "print(f\"Confusion Matrix: \\n {confusion_matrix(y_test, pred)}\\n\")"
   ]
  },
  {
   "cell_type": "markdown",
   "metadata": {},
   "source": [
    "## Gradient Boost"
   ]
  },
  {
   "cell_type": "markdown",
   "metadata": {},
   "source": [
    "### basic"
   ]
  },
  {
   "cell_type": "code",
   "execution_count": 16,
   "metadata": {},
   "outputs": [
    {
     "name": "stdout",
     "output_type": "stream",
     "text": [
      "Cross Validation\n",
      "--------------------\n",
      "Best parameter:  {'max_depth': 5, 'max_features': 12, 'min_samples_split': 20, 'n_estimators': 80}\n",
      "Best CV score:  0.9176\n",
      "Accuracy Score: 92.23%\n",
      "_______________________________________________\n",
      "Classification Report:\tPrecision Score: 68.97%\n",
      "\t\t\tRecall Score: 37.50%\n",
      "\t\t\tF1 score: 48.58%\n",
      "_______________________________________________\n",
      "Confusion Matrix: \n",
      " [[1447   27]\n",
      " [ 100   60]]\n",
      "\n",
      "CPU times: user 6min 44s, sys: 9.9 s, total: 6min 54s\n",
      "Wall time: 7min 39s\n"
     ]
    }
   ],
   "source": [
    "%%time\n",
    "from sklearn.ensemble import GradientBoostingClassifier\n",
    "from sklearn.metrics import accuracy_score, confusion_matrix, precision_score, recall_score, f1_score\n",
    "\n",
    "param_grid={'n_estimators':range(20,81,20),\n",
    "            'max_depth':range(5,16,4),\n",
    "            'min_samples_split':range(20,100,30),\n",
    "            'max_features':range(7,20,5),\n",
    "            }\n",
    "\n",
    "grid_search = model_selection.GridSearchCV(estimator = GradientBoostingClassifier(), param_grid = param_grid, cv=3)\n",
    "grid_search.fit(X_train, y_train)\n",
    "\n",
    "print(\"Cross Validation\")\n",
    "print(\"-\" * 20)\n",
    "print(\"Best parameter: \", grid_search.best_params_)\n",
    "print(\"Best CV score:  %.4f\" % grid_search.best_score_)\n",
    "\n",
    "pred = grid_search.best_estimator_.predict(X_test)\n",
    "\n",
    "print(f\"Accuracy Score: {accuracy_score(y_test, pred) * 100:.2f}%\")\n",
    "print(\"_______________________________________________\")\n",
    "print(\"Classification Report:\", end='')\n",
    "print(f\"\\tPrecision Score: {precision_score(y_test, pred) * 100:.2f}%\")\n",
    "print(f\"\\t\\t\\tRecall Score: {recall_score(y_test, pred) * 100:.2f}%\")\n",
    "print(f\"\\t\\t\\tF1 score: {f1_score(y_test, pred) * 100:.2f}%\")\n",
    "print(\"_______________________________________________\")\n",
    "print(f\"Confusion Matrix: \\n {confusion_matrix(y_test, pred)}\\n\")"
   ]
  },
  {
   "cell_type": "markdown",
   "metadata": {},
   "source": [
    "### Undersampling using SMOTE¶"
   ]
  },
  {
   "cell_type": "code",
   "execution_count": 11,
   "metadata": {},
   "outputs": [],
   "source": [
    "from imblearn.over_sampling import SMOTE\n",
    "sm = SMOTE()\n",
    "X_res, y_res = sm.fit_resample(X_train, y_train)"
   ]
  },
  {
   "cell_type": "code",
   "execution_count": 12,
   "metadata": {},
   "outputs": [
    {
     "name": "stdout",
     "output_type": "stream",
     "text": [
      "Cross Validation\n",
      "--------------------\n",
      "Best parameter:  {'max_depth': 13, 'max_features': 12, 'min_samples_split': 20, 'n_estimators': 80}\n",
      "Best CV score:  0.9584\n",
      "Accuracy Score: 91.25%\n",
      "_______________________________________________\n",
      "Classification Report:\tPrecision Score: 56.39%\n",
      "\t\t\tRecall Score: 46.88%\n",
      "\t\t\tF1 score: 51.19%\n",
      "_______________________________________________\n",
      "Confusion Matrix: \n",
      " [[1416   58]\n",
      " [  85   75]]\n",
      "\n",
      "CPU times: user 15min 20s, sys: 21.7 s, total: 15min 41s\n",
      "Wall time: 17min 39s\n"
     ]
    }
   ],
   "source": [
    "%%time\n",
    "param_grid={'n_estimators':range(20,81,20),\n",
    "            'max_depth':range(5,16,4),\n",
    "            'min_samples_split':range(20,100,30),\n",
    "            'max_features':range(7,20,5),\n",
    "            }\n",
    "\n",
    "grid_search = model_selection.GridSearchCV(estimator = GradientBoostingClassifier(), param_grid = param_grid, cv=3)\n",
    "grid_search.fit(X_res, y_res)\n",
    "\n",
    "print(\"Cross Validation\")\n",
    "print(\"-\" * 20)\n",
    "print(\"Best parameter: \", grid_search.best_params_)\n",
    "print(\"Best CV score:  %.4f\" % grid_search.best_score_)\n",
    "\n",
    "pred = grid_search.best_estimator_.predict(X_test)\n",
    "\n",
    "print(f\"Accuracy Score: {accuracy_score(y_test, pred) * 100:.2f}%\")\n",
    "print(\"_______________________________________________\")\n",
    "print(\"Classification Report:\", end='')\n",
    "print(f\"\\tPrecision Score: {precision_score(y_test, pred) * 100:.2f}%\")\n",
    "print(f\"\\t\\t\\tRecall Score: {recall_score(y_test, pred) * 100:.2f}%\")\n",
    "print(f\"\\t\\t\\tF1 score: {f1_score(y_test, pred) * 100:.2f}%\")\n",
    "print(\"_______________________________________________\")\n",
    "print(f\"Confusion Matrix: \\n {confusion_matrix(y_test, pred)}\\n\")"
   ]
  },
  {
   "cell_type": "markdown",
   "metadata": {},
   "source": [
    "### Over sampling using Near Miss"
   ]
  },
  {
   "cell_type": "code",
   "execution_count": 13,
   "metadata": {},
   "outputs": [],
   "source": [
    "from imblearn.under_sampling import NearMiss\n",
    "nm = NearMiss()\n",
    "X_res, y_res = nm.fit_resample(X_train, y_train)"
   ]
  },
  {
   "cell_type": "code",
   "execution_count": 14,
   "metadata": {},
   "outputs": [
    {
     "name": "stdout",
     "output_type": "stream",
     "text": [
      "Cross Validation\n",
      "--------------------\n",
      "Best parameter:  {'max_depth': 13, 'max_features': 7, 'min_samples_split': 80, 'n_estimators': 20}\n",
      "Best CV score:  0.9945\n",
      "Accuracy Score: 36.11%\n",
      "_______________________________________________\n",
      "Classification Report:\tPrecision Score: 13.23%\n",
      "\t\t\tRecall Score: 99.38%\n",
      "\t\t\tF1 score: 23.35%\n",
      "_______________________________________________\n",
      "Confusion Matrix: \n",
      " [[ 431 1043]\n",
      " [   1  159]]\n",
      "\n",
      "CPU times: user 1min 29s, sys: 2.02 s, total: 1min 31s\n",
      "Wall time: 1min 41s\n"
     ]
    }
   ],
   "source": [
    "%%time\n",
    "param_grid={'n_estimators':range(20,81,20),\n",
    "            'max_depth':range(5,16,4),\n",
    "            'min_samples_split':range(20,100,30),\n",
    "            'max_features':range(7,20,5),\n",
    "            }\n",
    "\n",
    "grid_search = model_selection.GridSearchCV(estimator = GradientBoostingClassifier(), param_grid = param_grid, cv=3)\n",
    "grid_search.fit(X_res, y_res)\n",
    "\n",
    "print(\"Cross Validation\")\n",
    "print(\"-\" * 20)\n",
    "print(\"Best parameter: \", grid_search.best_params_)\n",
    "print(\"Best CV score:  %.4f\" % grid_search.best_score_)\n",
    "\n",
    "pred = grid_search.best_estimator_.predict(X_test)\n",
    "\n",
    "print(f\"Accuracy Score: {accuracy_score(y_test, pred) * 100:.2f}%\")\n",
    "print(\"_______________________________________________\")\n",
    "print(\"Classification Report:\", end='')\n",
    "print(f\"\\tPrecision Score: {precision_score(y_test, pred) * 100:.2f}%\")\n",
    "print(f\"\\t\\t\\tRecall Score: {recall_score(y_test, pred) * 100:.2f}%\")\n",
    "print(f\"\\t\\t\\tF1 score: {f1_score(y_test, pred) * 100:.2f}%\")\n",
    "print(\"_______________________________________________\")\n",
    "print(f\"Confusion Matrix: \\n {confusion_matrix(y_test, pred)}\\n\")"
   ]
  },
  {
   "cell_type": "markdown",
   "metadata": {},
   "source": [
    "# KNN Imputed "
   ]
  },
  {
   "cell_type": "markdown",
   "metadata": {},
   "source": [
    "## Import cleaned dataset"
   ]
  },
  {
   "cell_type": "code",
   "execution_count": 17,
   "metadata": {},
   "outputs": [],
   "source": [
    "KNN_final = pd.read_csv('./CHF_KNN_final_test.csv.gz', compression='gzip')\n",
    "hadm_features = KNN_final.loc[:, '(\\'min\\', 50861)' : '(\\'above_max\\', 51491)']\n",
    "hadm_target = KNN_final.loc[:, 'CHF']"
   ]
  },
  {
   "cell_type": "code",
   "execution_count": 18,
   "metadata": {},
   "outputs": [],
   "source": [
    "X_train, X_test, y_train, y_test = model_selection.train_test_split(hadm_features, hadm_target, test_size=.2, stratify=hadm_target, random_state=25)"
   ]
  },
  {
   "cell_type": "markdown",
   "metadata": {},
   "source": [
    "## Random Forest"
   ]
  },
  {
   "cell_type": "markdown",
   "metadata": {},
   "source": [
    "### Basic"
   ]
  },
  {
   "cell_type": "code",
   "execution_count": 19,
   "metadata": {},
   "outputs": [
    {
     "name": "stdout",
     "output_type": "stream",
     "text": [
      "Cross Validation\n",
      "--------------------\n",
      "Best parameter:  {'criterion': 'gini', 'max_depth': 40, 'n_estimators': 23}\n",
      "Best CV score:  0.9146\n",
      "Accuracy Score: 91.25%\n",
      "_______________________________________________\n",
      "Classification Report:\tPrecision Score: 65.45%\n",
      "\t\t\tRecall Score: 22.50%\n",
      "\t\t\tF1 score: 33.49%\n",
      "_______________________________________________\n",
      "Confusion Matrix: \n",
      " [[1455   19]\n",
      " [ 124   36]]\n",
      "\n",
      "CPU times: user 13min 17s, sys: 20.3 s, total: 13min 37s\n",
      "Wall time: 15min 4s\n"
     ]
    }
   ],
   "source": [
    "%%time\n",
    "from sklearn.ensemble import RandomForestClassifier\n",
    "from sklearn.metrics import accuracy_score, confusion_matrix, precision_score, recall_score, f1_score\n",
    "\n",
    "param_grid={'criterion': ['entropy','gini'],\n",
    "            'n_estimators': range(1,31),\n",
    "            'max_depth': range(10,110,10)\n",
    "            }\n",
    "\n",
    "grid_search = model_selection.GridSearchCV(estimator = RandomForestClassifier(), param_grid = param_grid, cv=3)\n",
    "grid_search.fit(X_train, y_train)\n",
    "\n",
    "print(\"Cross Validation\")\n",
    "print(\"-\" * 20)\n",
    "print(\"Best parameter: \", grid_search.best_params_)\n",
    "print(\"Best CV score:  %.4f\" % grid_search.best_score_)\n",
    "\n",
    "pred = grid_search.best_estimator_.predict(X_test)\n",
    "\n",
    "print(f\"Accuracy Score: {accuracy_score(y_test, pred) * 100:.2f}%\")\n",
    "print(\"_______________________________________________\")\n",
    "print(\"Classification Report:\", end='')\n",
    "print(f\"\\tPrecision Score: {precision_score(y_test, pred) * 100:.2f}%\")\n",
    "print(f\"\\t\\t\\tRecall Score: {recall_score(y_test, pred) * 100:.2f}%\")\n",
    "print(f\"\\t\\t\\tF1 score: {f1_score(y_test, pred) * 100:.2f}%\")\n",
    "print(\"_______________________________________________\")\n",
    "print(f\"Confusion Matrix: \\n {confusion_matrix(y_test, pred)}\\n\")"
   ]
  },
  {
   "cell_type": "markdown",
   "metadata": {},
   "source": [
    "### undersampling using SMOTE"
   ]
  },
  {
   "cell_type": "code",
   "execution_count": 22,
   "metadata": {},
   "outputs": [
    {
     "name": "stdout",
     "output_type": "stream",
     "text": [
      "Cross Validation\n",
      "--------------------\n",
      "Best parameter:  {'criterion': 'gini', 'max_depth': 30, 'n_estimators': 30}\n",
      "Best CV score:  0.9487\n",
      "Accuracy Score: 90.21%\n",
      "_______________________________________________\n",
      "Classification Report:\tPrecision Score: 50.00%\n",
      "\t\t\tRecall Score: 44.38%\n",
      "\t\t\tF1 score: 47.02%\n",
      "_______________________________________________\n",
      "Confusion Matrix: \n",
      " [[1403   71]\n",
      " [  89   71]]\n",
      "\n",
      "CPU times: user 34min 22s, sys: 1min 1s, total: 35min 23s\n",
      "Wall time: 38min 38s\n"
     ]
    }
   ],
   "source": [
    "%%time\n",
    "\n",
    "from imblearn.over_sampling import SMOTE\n",
    "sm = SMOTE()\n",
    "X_res, y_res = sm.fit_resample(X_train, y_train)\n",
    "\n",
    "\n",
    "\n",
    "param_grid={'criterion': ['entropy','gini'],\n",
    "            'n_estimators': range(1,31),\n",
    "            'max_depth': range(10,110,10)\n",
    "            }\n",
    "\n",
    "grid_search = model_selection.GridSearchCV(estimator = RandomForestClassifier(), param_grid = param_grid, cv=3)\n",
    "grid_search.fit(X_res, y_res)\n",
    "\n",
    "print(\"Cross Validation\")\n",
    "print(\"-\" * 20)\n",
    "print(\"Best parameter: \", grid_search.best_params_)\n",
    "print(\"Best CV score:  %.4f\" % grid_search.best_score_)\n",
    "\n",
    "pred = grid_search.best_estimator_.predict(X_test)\n",
    "\n",
    "print(f\"Accuracy Score: {accuracy_score(y_test, pred) * 100:.2f}%\")\n",
    "print(\"_______________________________________________\")\n",
    "print(\"Classification Report:\", end='')\n",
    "print(f\"\\tPrecision Score: {precision_score(y_test, pred) * 100:.2f}%\")\n",
    "print(f\"\\t\\t\\tRecall Score: {recall_score(y_test, pred) * 100:.2f}%\")\n",
    "print(f\"\\t\\t\\tF1 score: {f1_score(y_test, pred) * 100:.2f}%\")\n",
    "print(\"_______________________________________________\")\n",
    "print(f\"Confusion Matrix: \\n {confusion_matrix(y_test, pred)}\\n\")"
   ]
  },
  {
   "cell_type": "markdown",
   "metadata": {},
   "source": [
    "### Over sampling using Near Miss"
   ]
  },
  {
   "cell_type": "code",
   "execution_count": 27,
   "metadata": {},
   "outputs": [
    {
     "name": "stdout",
     "output_type": "stream",
     "text": [
      "Cross Validation\n",
      "--------------------\n",
      "Best parameter:  {'criterion': 'entropy', 'max_depth': 10, 'n_estimators': 26}\n",
      "Best CV score:  0.9657\n",
      "Accuracy Score: 56.24%\n",
      "_______________________________________________\n",
      "Classification Report:\tPrecision Score: 18.07%\n",
      "\t\t\tRecall Score: 98.12%\n",
      "\t\t\tF1 score: 30.52%\n",
      "_______________________________________________\n",
      "Confusion Matrix: \n",
      " [[762 712]\n",
      " [  3 157]]\n",
      "\n",
      "CPU times: user 2min 48s, sys: 4.07 s, total: 2min 52s\n",
      "Wall time: 4min 16s\n"
     ]
    }
   ],
   "source": [
    "%%time\n",
    "\n",
    "from imblearn.under_sampling import NearMiss\n",
    "nm = NearMiss()\n",
    "X_res, y_res = nm.fit_resample(X_train, y_train)\n",
    "\n",
    "\n",
    "param_grid={'criterion': ['entropy','gini'],\n",
    "            'n_estimators': range(1,31),\n",
    "            'max_depth': range(10,110,10)\n",
    "            }\n",
    "\n",
    "grid_search = model_selection.GridSearchCV(estimator = RandomForestClassifier(), param_grid = param_grid, cv=3)\n",
    "grid_search.fit(X_res, y_res)\n",
    "\n",
    "print(\"Cross Validation\")\n",
    "print(\"-\" * 20)\n",
    "print(\"Best parameter: \", grid_search.best_params_)\n",
    "print(\"Best CV score:  %.4f\" % grid_search.best_score_)\n",
    "\n",
    "pred = grid_search.best_estimator_.predict(X_test)\n",
    "\n",
    "print(f\"Accuracy Score: {accuracy_score(y_test, pred) * 100:.2f}%\")\n",
    "print(\"_______________________________________________\")\n",
    "print(\"Classification Report:\", end='')\n",
    "print(f\"\\tPrecision Score: {precision_score(y_test, pred) * 100:.2f}%\")\n",
    "print(f\"\\t\\t\\tRecall Score: {recall_score(y_test, pred) * 100:.2f}%\")\n",
    "print(f\"\\t\\t\\tF1 score: {f1_score(y_test, pred) * 100:.2f}%\")\n",
    "print(\"_______________________________________________\")\n",
    "print(f\"Confusion Matrix: \\n {confusion_matrix(y_test, pred)}\\n\")"
   ]
  },
  {
   "cell_type": "markdown",
   "metadata": {},
   "source": [
    "## Gradient Boost"
   ]
  },
  {
   "cell_type": "markdown",
   "metadata": {},
   "source": [
    "### basic"
   ]
  },
  {
   "cell_type": "code",
   "execution_count": 23,
   "metadata": {},
   "outputs": [
    {
     "name": "stdout",
     "output_type": "stream",
     "text": [
      "Cross Validation\n",
      "--------------------\n",
      "Best parameter:  {'max_depth': 13, 'max_features': 7, 'min_samples_split': 80, 'n_estimators': 60}\n",
      "Best CV score:  0.9164\n",
      "Accuracy Score: 92.35%\n",
      "_______________________________________________\n",
      "Classification Report:\tPrecision Score: 73.33%\n",
      "\t\t\tRecall Score: 34.38%\n",
      "\t\t\tF1 score: 46.81%\n",
      "_______________________________________________\n",
      "Confusion Matrix: \n",
      " [[1454   20]\n",
      " [ 105   55]]\n",
      "\n",
      "CPU times: user 7min 24s, sys: 10.6 s, total: 7min 34s\n",
      "Wall time: 8min 12s\n"
     ]
    }
   ],
   "source": [
    "%%time\n",
    "\n",
    "from sklearn.ensemble import GradientBoostingClassifier\n",
    "from sklearn.metrics import accuracy_score, confusion_matrix, precision_score, recall_score, f1_score\n",
    "\n",
    "param_grid={'n_estimators':range(20,81,20),\n",
    "            'max_depth':range(5,16,4),\n",
    "            'min_samples_split':range(20,100,30),\n",
    "            'max_features':range(7,20,5),\n",
    "\n",
    "grid_search = model_selection.GridSearchCV(estimator = GradientBoostingClassifier(), param_grid = param_grid, cv=3)\n",
    "grid_search.fit(X_train, y_train)\n",
    "\n",
    "print(\"Cross Validation\")\n",
    "print(\"-\" * 20)\n",
    "print(\"Best parameter: \", grid_search.best_params_)\n",
    "print(\"Best CV score:  %.4f\" % grid_search.best_score_)\n",
    "\n",
    "pred = grid_search.best_estimator_.predict(X_test)\n",
    "\n",
    "print(f\"Accuracy Score: {accuracy_score(y_test, pred) * 100:.2f}%\")\n",
    "print(\"_______________________________________________\")\n",
    "print(\"Classification Report:\", end='')\n",
    "print(f\"\\tPrecision Score: {precision_score(y_test, pred) * 100:.2f}%\")\n",
    "print(f\"\\t\\t\\tRecall Score: {recall_score(y_test, pred) * 100:.2f}%\")\n",
    "print(f\"\\t\\t\\tF1 score: {f1_score(y_test, pred) * 100:.2f}%\")\n",
    "print(\"_______________________________________________\")\n",
    "print(f\"Confusion Matrix: \\n {confusion_matrix(y_test, pred)}\\n\")\n"
   ]
  },
  {
   "cell_type": "markdown",
   "metadata": {},
   "source": [
    "### Undersampling using SMOTE"
   ]
  },
  {
   "cell_type": "code",
   "execution_count": 25,
   "metadata": {},
   "outputs": [
    {
     "name": "stdout",
     "output_type": "stream",
     "text": [
      "Cross Validation\n",
      "--------------------\n",
      "Best parameter:  {'max_depth': 13, 'max_features': 7, 'min_samples_split': 20, 'n_estimators': 80}\n",
      "Best CV score:  0.9579\n",
      "Accuracy Score: 91.37%\n",
      "_______________________________________________\n",
      "Classification Report:\tPrecision Score: 57.14%\n",
      "\t\t\tRecall Score: 47.50%\n",
      "\t\t\tF1 score: 51.88%\n",
      "_______________________________________________\n",
      "Confusion Matrix: \n",
      " [[1417   57]\n",
      " [  84   76]]\n",
      "\n",
      "CPU times: user 17min 42s, sys: 29 s, total: 18min 11s\n",
      "Wall time: 23min 39s\n"
     ]
    }
   ],
   "source": [
    "%%time\n",
    "\n",
    "from imblearn.over_sampling import SMOTE\n",
    "sm = SMOTE()\n",
    "X_res, y_res = sm.fit_resample(X_train, y_train)\n",
    "\n",
    "\n",
    "param_grid={'n_estimators':range(20,81,20),\n",
    "            'max_depth':range(5,16,4),\n",
    "            'min_samples_split':range(20,100,30),\n",
    "            'max_features':range(7,20,5),\n",
    "            }\n",
    "\n",
    "grid_search = model_selection.GridSearchCV(estimator = GradientBoostingClassifier(), param_grid = param_grid, cv=3)\n",
    "grid_search.fit(X_res, y_res)\n",
    "\n",
    "print(\"Cross Validation\")\n",
    "print(\"-\" * 20)\n",
    "print(\"Best parameter: \", grid_search.best_params_)\n",
    "print(\"Best CV score:  %.4f\" % grid_search.best_score_)\n",
    "\n",
    "pred = grid_search.best_estimator_.predict(X_test)\n",
    "\n",
    "print(f\"Accuracy Score: {accuracy_score(y_test, pred) * 100:.2f}%\")\n",
    "print(\"_______________________________________________\")\n",
    "print(\"Classification Report:\", end='')\n",
    "print(f\"\\tPrecision Score: {precision_score(y_test, pred) * 100:.2f}%\")\n",
    "print(f\"\\t\\t\\tRecall Score: {recall_score(y_test, pred) * 100:.2f}%\")\n",
    "print(f\"\\t\\t\\tF1 score: {f1_score(y_test, pred) * 100:.2f}%\")\n",
    "print(\"_______________________________________________\")\n",
    "print(f\"Confusion Matrix: \\n {confusion_matrix(y_test, pred)}\\n\")\n"
   ]
  },
  {
   "cell_type": "markdown",
   "metadata": {},
   "source": [
    "### Over sampling using Near Miss"
   ]
  },
  {
   "cell_type": "code",
   "execution_count": 26,
   "metadata": {},
   "outputs": [
    {
     "name": "stdout",
     "output_type": "stream",
     "text": [
      "Cross Validation\n",
      "--------------------\n",
      "Best parameter:  {'max_depth': 5, 'max_features': 12, 'min_samples_split': 20, 'n_estimators': 80}\n",
      "Best CV score:  0.9727\n",
      "Accuracy Score: 57.04%\n",
      "_______________________________________________\n",
      "Classification Report:\tPrecision Score: 18.27%\n",
      "\t\t\tRecall Score: 97.50%\n",
      "\t\t\tF1 score: 30.77%\n",
      "_______________________________________________\n",
      "Confusion Matrix: \n",
      " [[776 698]\n",
      " [  4 156]]\n",
      "\n",
      "CPU times: user 1min 48s, sys: 2.4 s, total: 1min 50s\n",
      "Wall time: 2min 37s\n"
     ]
    }
   ],
   "source": [
    "%%time\n",
    "\n",
    "from imblearn.under_sampling import NearMiss\n",
    "nm = NearMiss()\n",
    "X_res, y_res = nm.fit_resample(X_train, y_train)\n",
    "\n",
    "param_grid={'n_estimators':range(20,81,20),\n",
    "            'max_depth':range(5,16,4),\n",
    "            'min_samples_split':range(20,100,30),\n",
    "            'max_features':range(7,20,5),\n",
    "            }\n",
    "\n",
    "grid_search = model_selection.GridSearchCV(estimator = GradientBoostingClassifier(), param_grid = param_grid, cv=3)\n",
    "grid_search.fit(X_res, y_res)\n",
    "\n",
    "print(\"Cross Validation\")\n",
    "print(\"-\" * 20)\n",
    "print(\"Best parameter: \", grid_search.best_params_)\n",
    "print(\"Best CV score:  %.4f\" % grid_search.best_score_)\n",
    "\n",
    "pred = grid_search.best_estimator_.predict(X_test)\n",
    "\n",
    "print(f\"Accuracy Score: {accuracy_score(y_test, pred) * 100:.2f}%\")\n",
    "print(\"_______________________________________________\")\n",
    "print(\"Classification Report:\", end='')\n",
    "print(f\"\\tPrecision Score: {precision_score(y_test, pred) * 100:.2f}%\")\n",
    "print(f\"\\t\\t\\tRecall Score: {recall_score(y_test, pred) * 100:.2f}%\")\n",
    "print(f\"\\t\\t\\tF1 score: {f1_score(y_test, pred) * 100:.2f}%\")\n",
    "print(\"_______________________________________________\")\n",
    "print(f\"Confusion Matrix: \\n {confusion_matrix(y_test, pred)}\\n\")"
   ]
  },
  {
   "cell_type": "markdown",
   "metadata": {},
   "source": [
    "### Try running with just creatinine items"
   ]
  },
  {
   "cell_type": "code",
   "execution_count": null,
   "metadata": {},
   "outputs": [],
   "source": []
  },
  {
   "cell_type": "code",
   "execution_count": null,
   "metadata": {},
   "outputs": [],
   "source": []
  }
 ],
 "metadata": {
  "kernelspec": {
   "display_name": "Python 3",
   "language": "python",
   "name": "python3"
  }
 },
 "nbformat": 4,
 "nbformat_minor": 4
}
