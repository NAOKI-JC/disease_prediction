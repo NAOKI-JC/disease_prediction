{
 "cells": [
  {
   "cell_type": "code",
   "execution_count": 1,
   "metadata": {},
   "outputs": [],
   "source": [
    "import pandas as pd\n",
    "import numpy as np"
   ]
  },
  {
   "cell_type": "code",
   "execution_count": 2,
   "metadata": {},
   "outputs": [],
   "source": [
    "path = \"D:\\\\Bootcamp\\\\MIMIC IV\\\\\""
   ]
  },
  {
   "cell_type": "markdown",
   "metadata": {},
   "source": [
    "# Basic EDA - Admissions"
   ]
  },
  {
   "cell_type": "markdown",
   "metadata": {},
   "source": [
    "**Exploratory Questions:**\n",
    "- How many patients visited the hospital?\n",
    "- How many patients died?\n",
    "- What are the descriptive statistics of language, ethnicity, etc.?\n",
    "- What were the types of admissions?\n",
    "- What was the average visit time?\n",
    "- How many repeat visits were there?\n",
    "- For revisit patients, what was the average number of visits?\n",
    "- Are revisit patients more likely to die than single visit patients?"
   ]
  },
  {
   "cell_type": "code",
   "execution_count": 3,
   "metadata": {},
   "outputs": [],
   "source": [
    "admissions = pd.read_csv(path + \"core\\\\admissions.csv.gz\", compression='gzip')"
   ]
  },
  {
   "cell_type": "code",
   "execution_count": 4,
   "metadata": {},
   "outputs": [
    {
     "data": {
      "text/plain": [
       "(524520, 15)"
      ]
     },
     "execution_count": 4,
     "metadata": {},
     "output_type": "execute_result"
    }
   ],
   "source": [
    "admissions.shape"
   ]
  },
  {
   "cell_type": "code",
   "execution_count": 5,
   "metadata": {
    "scrolled": true
   },
   "outputs": [
    {
     "data": {
      "text/html": [
       "<div>\n",
       "<style scoped>\n",
       "    .dataframe tbody tr th:only-of-type {\n",
       "        vertical-align: middle;\n",
       "    }\n",
       "\n",
       "    .dataframe tbody tr th {\n",
       "        vertical-align: top;\n",
       "    }\n",
       "\n",
       "    .dataframe thead th {\n",
       "        text-align: right;\n",
       "    }\n",
       "</style>\n",
       "<table border=\"1\" class=\"dataframe\">\n",
       "  <thead>\n",
       "    <tr style=\"text-align: right;\">\n",
       "      <th></th>\n",
       "      <th>subject_id</th>\n",
       "      <th>hadm_id</th>\n",
       "      <th>admittime</th>\n",
       "      <th>dischtime</th>\n",
       "      <th>deathtime</th>\n",
       "      <th>admission_type</th>\n",
       "      <th>admission_location</th>\n",
       "      <th>discharge_location</th>\n",
       "      <th>insurance</th>\n",
       "      <th>language</th>\n",
       "      <th>marital_status</th>\n",
       "      <th>ethnicity</th>\n",
       "      <th>edregtime</th>\n",
       "      <th>edouttime</th>\n",
       "      <th>hospital_expire_flag</th>\n",
       "    </tr>\n",
       "  </thead>\n",
       "  <tbody>\n",
       "    <tr>\n",
       "      <th>0</th>\n",
       "      <td>12427812</td>\n",
       "      <td>21593330</td>\n",
       "      <td>2184-01-06 11:51:00</td>\n",
       "      <td>2184-01-10 11:45:00</td>\n",
       "      <td>NaN</td>\n",
       "      <td>URGENT</td>\n",
       "      <td>PHYSICIAN REFERRAL</td>\n",
       "      <td>HOME</td>\n",
       "      <td>Other</td>\n",
       "      <td>ENGLISH</td>\n",
       "      <td>NaN</td>\n",
       "      <td>UNKNOWN</td>\n",
       "      <td>NaN</td>\n",
       "      <td>NaN</td>\n",
       "      <td>0</td>\n",
       "    </tr>\n",
       "    <tr>\n",
       "      <th>1</th>\n",
       "      <td>14029832</td>\n",
       "      <td>22059088</td>\n",
       "      <td>2120-01-18 01:28:00</td>\n",
       "      <td>2120-01-20 16:13:00</td>\n",
       "      <td>NaN</td>\n",
       "      <td>URGENT</td>\n",
       "      <td>TRANSFER FROM HOSPITAL</td>\n",
       "      <td>HOME</td>\n",
       "      <td>Other</td>\n",
       "      <td>ENGLISH</td>\n",
       "      <td>NaN</td>\n",
       "      <td>OTHER</td>\n",
       "      <td>NaN</td>\n",
       "      <td>NaN</td>\n",
       "      <td>0</td>\n",
       "    </tr>\n",
       "    <tr>\n",
       "      <th>2</th>\n",
       "      <td>14495017</td>\n",
       "      <td>22484010</td>\n",
       "      <td>2175-01-28 15:41:00</td>\n",
       "      <td>2175-01-29 16:00:00</td>\n",
       "      <td>NaN</td>\n",
       "      <td>DIRECT EMER.</td>\n",
       "      <td>PHYSICIAN REFERRAL</td>\n",
       "      <td>HOME</td>\n",
       "      <td>Other</td>\n",
       "      <td>?</td>\n",
       "      <td>NaN</td>\n",
       "      <td>WHITE</td>\n",
       "      <td>NaN</td>\n",
       "      <td>NaN</td>\n",
       "      <td>0</td>\n",
       "    </tr>\n",
       "    <tr>\n",
       "      <th>3</th>\n",
       "      <td>13676048</td>\n",
       "      <td>23865469</td>\n",
       "      <td>2193-01-19 05:27:00</td>\n",
       "      <td>2193-01-24 18:59:00</td>\n",
       "      <td>NaN</td>\n",
       "      <td>URGENT</td>\n",
       "      <td>PHYSICIAN REFERRAL</td>\n",
       "      <td>HOME</td>\n",
       "      <td>Other</td>\n",
       "      <td>?</td>\n",
       "      <td>MARRIED</td>\n",
       "      <td>WHITE</td>\n",
       "      <td>NaN</td>\n",
       "      <td>NaN</td>\n",
       "      <td>0</td>\n",
       "    </tr>\n",
       "    <tr>\n",
       "      <th>4</th>\n",
       "      <td>13831972</td>\n",
       "      <td>27763544</td>\n",
       "      <td>2131-01-27 04:03:00</td>\n",
       "      <td>2131-01-27 05:39:00</td>\n",
       "      <td>NaN</td>\n",
       "      <td>EU OBSERVATION</td>\n",
       "      <td>EMERGENCY ROOM</td>\n",
       "      <td>NaN</td>\n",
       "      <td>Medicaid</td>\n",
       "      <td>ENGLISH</td>\n",
       "      <td>SINGLE</td>\n",
       "      <td>WHITE</td>\n",
       "      <td>2131-01-26 22:19:00</td>\n",
       "      <td>2131-01-27 05:39:00</td>\n",
       "      <td>0</td>\n",
       "    </tr>\n",
       "  </tbody>\n",
       "</table>\n",
       "</div>"
      ],
      "text/plain": [
       "   subject_id   hadm_id            admittime            dischtime deathtime  \\\n",
       "0    12427812  21593330  2184-01-06 11:51:00  2184-01-10 11:45:00       NaN   \n",
       "1    14029832  22059088  2120-01-18 01:28:00  2120-01-20 16:13:00       NaN   \n",
       "2    14495017  22484010  2175-01-28 15:41:00  2175-01-29 16:00:00       NaN   \n",
       "3    13676048  23865469  2193-01-19 05:27:00  2193-01-24 18:59:00       NaN   \n",
       "4    13831972  27763544  2131-01-27 04:03:00  2131-01-27 05:39:00       NaN   \n",
       "\n",
       "   admission_type      admission_location discharge_location insurance  \\\n",
       "0          URGENT      PHYSICIAN REFERRAL               HOME     Other   \n",
       "1          URGENT  TRANSFER FROM HOSPITAL               HOME     Other   \n",
       "2    DIRECT EMER.      PHYSICIAN REFERRAL               HOME     Other   \n",
       "3          URGENT      PHYSICIAN REFERRAL               HOME     Other   \n",
       "4  EU OBSERVATION          EMERGENCY ROOM                NaN  Medicaid   \n",
       "\n",
       "  language marital_status ethnicity            edregtime            edouttime  \\\n",
       "0  ENGLISH            NaN   UNKNOWN                  NaN                  NaN   \n",
       "1  ENGLISH            NaN     OTHER                  NaN                  NaN   \n",
       "2        ?            NaN     WHITE                  NaN                  NaN   \n",
       "3        ?        MARRIED     WHITE                  NaN                  NaN   \n",
       "4  ENGLISH         SINGLE     WHITE  2131-01-26 22:19:00  2131-01-27 05:39:00   \n",
       "\n",
       "   hospital_expire_flag  \n",
       "0                     0  \n",
       "1                     0  \n",
       "2                     0  \n",
       "3                     0  \n",
       "4                     0  "
      ]
     },
     "execution_count": 5,
     "metadata": {},
     "output_type": "execute_result"
    }
   ],
   "source": [
    "admissions.head()"
   ]
  },
  {
   "cell_type": "code",
   "execution_count": 6,
   "metadata": {},
   "outputs": [
    {
     "data": {
      "text/plain": [
       "ENGLISH    478289\n",
       "?           46231\n",
       "Name: language, dtype: int64"
      ]
     },
     "execution_count": 6,
     "metadata": {},
     "output_type": "execute_result"
    }
   ],
   "source": [
    "admissions.language.value_counts()"
   ]
  },
  {
   "cell_type": "code",
   "execution_count": 7,
   "metadata": {},
   "outputs": [
    {
     "data": {
      "text/plain": [
       "WHITE                            338044\n",
       "BLACK/AFRICAN AMERICAN            80526\n",
       "HISPANIC/LATINO                   29887\n",
       "OTHER                             26844\n",
       "ASIAN                             24522\n",
       "UNKNOWN                           19419\n",
       "UNABLE TO OBTAIN                   3742\n",
       "AMERICAN INDIAN/ALASKA NATIVE      1536\n",
       "Name: ethnicity, dtype: int64"
      ]
     },
     "execution_count": 7,
     "metadata": {},
     "output_type": "execute_result"
    }
   ],
   "source": [
    "admissions.ethnicity.value_counts()"
   ]
  },
  {
   "cell_type": "code",
   "execution_count": 8,
   "metadata": {},
   "outputs": [
    {
     "data": {
      "text/plain": [
       "<matplotlib.axes._subplots.AxesSubplot at 0x1cfda828ac8>"
      ]
     },
     "execution_count": 8,
     "metadata": {},
     "output_type": "execute_result"
    },
    {
     "data": {
      "image/png": "[encoded data removed]",
      "text/plain": [
       "<Figure size 432x288 with 1 Axes>"
      ]
     },
     "metadata": {
      "needs_background": "light"
     },
     "output_type": "display_data"
    }
   ],
   "source": [
    "admissions.admission_type.value_counts().plot(kind='barh')"
   ]
  },
  {
   "cell_type": "code",
   "execution_count": 9,
   "metadata": {},
   "outputs": [
    {
     "data": {
      "text/plain": [
       "<matplotlib.axes._subplots.AxesSubplot at 0x1cfde5ed448>"
      ]
     },
     "execution_count": 9,
     "metadata": {},
     "output_type": "execute_result"
    },
    {
     "data": {
      "image/png": "[encoded data removed]",
      "text/plain": [
       "<Figure size 432x288 with 1 Axes>"
      ]
     },
     "metadata": {
      "needs_background": "light"
     },
     "output_type": "display_data"
    }
   ],
   "source": [
    "admissions.admission_location.value_counts().plot(kind='barh')"
   ]
  },
  {
   "cell_type": "code",
   "execution_count": 196,
   "metadata": {},
   "outputs": [
    {
     "data": {
      "text/plain": [
       "<matplotlib.axes._subplots.AxesSubplot at 0x1cfa8413488>"
      ]
     },
     "execution_count": 196,
     "metadata": {},
     "output_type": "execute_result"
    },
    {
     "data": {
      "image/png": "[encoded data removed]",
      "text/plain": [
       "<Figure size 432x288 with 1 Axes>"
      ]
     },
     "metadata": {
      "needs_background": "light"
     },
     "output_type": "display_data"
    }
   ],
   "source": [
    "admissions.discharge_location.value_counts().plot(kind='barh')"
   ]
  },
  {
   "cell_type": "code",
   "execution_count": 10,
   "metadata": {},
   "outputs": [
    {
     "name": "stdout",
     "output_type": "stream",
     "text": [
      "Total number of patients that visited the hospital: 257366\n"
     ]
    }
   ],
   "source": [
    "print('Total number of patients that visited the hospital: %i' % admissions.subject_id.nunique())"
   ]
  },
  {
   "cell_type": "code",
   "execution_count": 11,
   "metadata": {},
   "outputs": [
    {
     "name": "stdout",
     "output_type": "stream",
     "text": [
      "Total number of patients that died at the hospital: 9362\n"
     ]
    }
   ],
   "source": [
    "print('Total number of patients that died at the hospital: %i' % admissions[admissions.hospital_expire_flag == 1].subject_id.nunique())"
   ]
  },
  {
   "cell_type": "code",
   "execution_count": 12,
   "metadata": {},
   "outputs": [
    {
     "name": "stdout",
     "output_type": "stream",
     "text": [
      "Number of patients who were readmitted at least once: 85927\n"
     ]
    }
   ],
   "source": [
    "readmissions = np.sum(admissions.groupby('subject_id').agg({'hadm_id':'count'}).apply(lambda x: x > 1))\n",
    "print('Number of patients who were readmitted at least once: %i' % readmissions)"
   ]
  },
  {
   "cell_type": "code",
   "execution_count": 13,
   "metadata": {},
   "outputs": [
    {
     "name": "stdout",
     "output_type": "stream",
     "text": [
      "Average number of visits for readmitted patients: 4.11\n"
     ]
    }
   ],
   "source": [
    "readmissions2 = admissions.groupby('subject_id').agg({'hadm_id':'count'})\n",
    "readmissions2 = np.mean(readmissions2[readmissions2['hadm_id'] > 1])\n",
    "print('Average number of visits for readmitted patients: %.2f' % readmissions2)"
   ]
  },
  {
   "cell_type": "code",
   "execution_count": 14,
   "metadata": {},
   "outputs": [
    {
     "name": "stdout",
     "output_type": "stream",
     "text": [
      "Readmitted patients are approximately twice as likely to die that single-visit patients:\n",
      "\n",
      "            hospital_expire_flag\n",
      "readmitted                      \n",
      "False                   2.501764\n",
      "True                    5.911995\n"
     ]
    }
   ],
   "source": [
    "readmissions3 = admissions.groupby('subject_id').agg({'hadm_id':'count', 'hospital_expire_flag':'sum'})\n",
    "readmissions3['readmitted'] = readmissions3.hadm_id > 1\n",
    "readmissions3 = readmissions3.groupby('readmitted').agg({'hospital_expire_flag':'mean'})*100\n",
    "print('Readmitted patients are approximately twice as likely to die that single-visit patients:\\n')\n",
    "print(readmissions3)\n",
    "# readmissions2 = np.mean(readmissions2[readmissions['hadm_id'] > 1])\n",
    "# print('Average number of visits for readmitted patients: %.2f' % readmissions2)"
   ]
  },
  {
   "cell_type": "code",
   "execution_count": 15,
   "metadata": {},
   "outputs": [
    {
     "name": "stdout",
     "output_type": "stream",
     "text": [
      "Average time spent at hospital: 4.54 days\n"
     ]
    }
   ],
   "source": [
    "admit = pd.to_datetime(admissions.admittime)\n",
    "discharge = pd.to_datetime(admissions.dischtime)\n",
    "stay_time = (discharge - admit).astype('timedelta64[h]')\n",
    "stay_time = np.mean(stay_time)/24\n",
    "# # alternate method\n",
    "# admit = admissions.admittime.apply(pd.Timestamp)\n",
    "# discharge = admissions.dischtime.apply(pd.Timestamp)\n",
    "# stay_time = np.mean((discharge - admit).astype('timedelta64[h]'))/24\n",
    "print('Average time spent at hospital: %.2f days' % stay_time)"
   ]
  },
  {
   "cell_type": "markdown",
   "metadata": {},
   "source": [
    "# Basic EDA - Patients"
   ]
  },
  {
   "cell_type": "markdown",
   "metadata": {},
   "source": [
    "**Exploratory Questions:**\n",
    "- What is the distribution of genders and ages?\n",
    "- Do men or women visit the hospital more often?\n",
    "- Are men or women more likely to die at the hospital?"
   ]
  },
  {
   "cell_type": "code",
   "execution_count": 16,
   "metadata": {},
   "outputs": [],
   "source": [
    "patients = pd.read_csv(path + \"core\\\\patients.csv.gz\", compression='gzip')"
   ]
  },
  {
   "cell_type": "code",
   "execution_count": 17,
   "metadata": {},
   "outputs": [
    {
     "data": {
      "text/plain": [
       "(383220, 6)"
      ]
     },
     "execution_count": 17,
     "metadata": {},
     "output_type": "execute_result"
    }
   ],
   "source": [
    "patients.shape"
   ]
  },
  {
   "cell_type": "code",
   "execution_count": 18,
   "metadata": {},
   "outputs": [
    {
     "data": {
      "text/html": [
       "<div>\n",
       "<style scoped>\n",
       "    .dataframe tbody tr th:only-of-type {\n",
       "        vertical-align: middle;\n",
       "    }\n",
       "\n",
       "    .dataframe tbody tr th {\n",
       "        vertical-align: top;\n",
       "    }\n",
       "\n",
       "    .dataframe thead th {\n",
       "        text-align: right;\n",
       "    }\n",
       "</style>\n",
       "<table border=\"1\" class=\"dataframe\">\n",
       "  <thead>\n",
       "    <tr style=\"text-align: right;\">\n",
       "      <th></th>\n",
       "      <th>subject_id</th>\n",
       "      <th>gender</th>\n",
       "      <th>anchor_age</th>\n",
       "      <th>anchor_year</th>\n",
       "      <th>anchor_year_group</th>\n",
       "      <th>dod</th>\n",
       "    </tr>\n",
       "  </thead>\n",
       "  <tbody>\n",
       "    <tr>\n",
       "      <th>0</th>\n",
       "      <td>10002723</td>\n",
       "      <td>F</td>\n",
       "      <td>0</td>\n",
       "      <td>2128</td>\n",
       "      <td>2017 - 2019</td>\n",
       "      <td>NaN</td>\n",
       "    </tr>\n",
       "    <tr>\n",
       "      <th>1</th>\n",
       "      <td>10003939</td>\n",
       "      <td>M</td>\n",
       "      <td>0</td>\n",
       "      <td>2184</td>\n",
       "      <td>2008 - 2010</td>\n",
       "      <td>NaN</td>\n",
       "    </tr>\n",
       "    <tr>\n",
       "      <th>2</th>\n",
       "      <td>10004222</td>\n",
       "      <td>M</td>\n",
       "      <td>0</td>\n",
       "      <td>2161</td>\n",
       "      <td>2014 - 2016</td>\n",
       "      <td>NaN</td>\n",
       "    </tr>\n",
       "    <tr>\n",
       "      <th>3</th>\n",
       "      <td>10005325</td>\n",
       "      <td>F</td>\n",
       "      <td>0</td>\n",
       "      <td>2154</td>\n",
       "      <td>2011 - 2013</td>\n",
       "      <td>NaN</td>\n",
       "    </tr>\n",
       "    <tr>\n",
       "      <th>4</th>\n",
       "      <td>10007338</td>\n",
       "      <td>F</td>\n",
       "      <td>0</td>\n",
       "      <td>2153</td>\n",
       "      <td>2017 - 2019</td>\n",
       "      <td>NaN</td>\n",
       "    </tr>\n",
       "  </tbody>\n",
       "</table>\n",
       "</div>"
      ],
      "text/plain": [
       "   subject_id gender  anchor_age  anchor_year anchor_year_group  dod\n",
       "0    10002723      F           0         2128       2017 - 2019  NaN\n",
       "1    10003939      M           0         2184       2008 - 2010  NaN\n",
       "2    10004222      M           0         2161       2014 - 2016  NaN\n",
       "3    10005325      F           0         2154       2011 - 2013  NaN\n",
       "4    10007338      F           0         2153       2017 - 2019  NaN"
      ]
     },
     "execution_count": 18,
     "metadata": {},
     "output_type": "execute_result"
    }
   ],
   "source": [
    "patients.head()"
   ]
  },
  {
   "cell_type": "code",
   "execution_count": 19,
   "metadata": {},
   "outputs": [
    {
     "data": {
      "text/plain": [
       "383220"
      ]
     },
     "execution_count": 19,
     "metadata": {},
     "output_type": "execute_result"
    }
   ],
   "source": [
    "patients.subject_id.nunique()"
   ]
  },
  {
   "cell_type": "code",
   "execution_count": 20,
   "metadata": {},
   "outputs": [
    {
     "data": {
      "text/plain": [
       "<matplotlib.axes._subplots.AxesSubplot at 0x1cfde6acdc8>"
      ]
     },
     "execution_count": 20,
     "metadata": {},
     "output_type": "execute_result"
    },
    {
     "data": {
      "image/png": "[encoded data removed]",
      "text/plain": [
       "<Figure size 432x288 with 1 Axes>"
      ]
     },
     "metadata": {
      "needs_background": "light"
     },
     "output_type": "display_data"
    }
   ],
   "source": [
    "patients.anchor_age.hist()"
   ]
  },
  {
   "cell_type": "markdown",
   "metadata": {},
   "source": [
    "# Basic EDA - Diagnoses"
   ]
  },
  {
   "cell_type": "markdown",
   "metadata": {},
   "source": [
    "**Questions:**\n",
    "- What are the most common diagnoses?\n",
    "- What conditions affect men vs women?\n",
    "- Old vs young?\n",
    "- White vs black, asian, latin, etc.?\n",
    "- What conditions occur together most frequently? What about least frequrently?\n",
    "- What conditions require the more hospital visits? What about longer visits?"
   ]
  },
  {
   "cell_type": "code",
   "execution_count": 21,
   "metadata": {},
   "outputs": [],
   "source": [
    "diagnoses = pd.read_csv(path + \"hosp\\\\diagnoses_icd.csv.gz\", compression='gzip')"
   ]
  },
  {
   "cell_type": "code",
   "execution_count": 22,
   "metadata": {},
   "outputs": [
    {
     "data": {
      "text/plain": [
       "(4677924, 5)"
      ]
     },
     "execution_count": 22,
     "metadata": {},
     "output_type": "execute_result"
    }
   ],
   "source": [
    "diagnoses.shape"
   ]
  },
  {
   "cell_type": "code",
   "execution_count": 23,
   "metadata": {},
   "outputs": [
    {
     "data": {
      "text/html": [
       "<div>\n",
       "<style scoped>\n",
       "    .dataframe tbody tr th:only-of-type {\n",
       "        vertical-align: middle;\n",
       "    }\n",
       "\n",
       "    .dataframe tbody tr th {\n",
       "        vertical-align: top;\n",
       "    }\n",
       "\n",
       "    .dataframe thead th {\n",
       "        text-align: right;\n",
       "    }\n",
       "</style>\n",
       "<table border=\"1\" class=\"dataframe\">\n",
       "  <thead>\n",
       "    <tr style=\"text-align: right;\">\n",
       "      <th></th>\n",
       "      <th>subject_id</th>\n",
       "      <th>hadm_id</th>\n",
       "      <th>seq_num</th>\n",
       "      <th>icd_code</th>\n",
       "      <th>icd_version</th>\n",
       "    </tr>\n",
       "  </thead>\n",
       "  <tbody>\n",
       "    <tr>\n",
       "      <th>0</th>\n",
       "      <td>11603789</td>\n",
       "      <td>25552978</td>\n",
       "      <td>3</td>\n",
       "      <td>65801</td>\n",
       "      <td>9</td>\n",
       "    </tr>\n",
       "    <tr>\n",
       "      <th>1</th>\n",
       "      <td>11603789</td>\n",
       "      <td>25552978</td>\n",
       "      <td>4</td>\n",
       "      <td>64881</td>\n",
       "      <td>9</td>\n",
       "    </tr>\n",
       "    <tr>\n",
       "      <th>2</th>\n",
       "      <td>11603789</td>\n",
       "      <td>25552978</td>\n",
       "      <td>5</td>\n",
       "      <td>V270</td>\n",
       "      <td>9</td>\n",
       "    </tr>\n",
       "    <tr>\n",
       "      <th>3</th>\n",
       "      <td>11603789</td>\n",
       "      <td>25552978</td>\n",
       "      <td>1</td>\n",
       "      <td>65221</td>\n",
       "      <td>9</td>\n",
       "    </tr>\n",
       "    <tr>\n",
       "      <th>4</th>\n",
       "      <td>11603789</td>\n",
       "      <td>25552978</td>\n",
       "      <td>2</td>\n",
       "      <td>64421</td>\n",
       "      <td>9</td>\n",
       "    </tr>\n",
       "  </tbody>\n",
       "</table>\n",
       "</div>"
      ],
      "text/plain": [
       "   subject_id   hadm_id  seq_num icd_code  icd_version\n",
       "0    11603789  25552978        3  65801              9\n",
       "1    11603789  25552978        4  64881              9\n",
       "2    11603789  25552978        5  V270               9\n",
       "3    11603789  25552978        1  65221              9\n",
       "4    11603789  25552978        2  64421              9"
      ]
     },
     "execution_count": 23,
     "metadata": {},
     "output_type": "execute_result"
    }
   ],
   "source": [
    "diagnoses.head()"
   ]
  },
  {
   "cell_type": "code",
   "execution_count": 24,
   "metadata": {},
   "outputs": [
    {
     "data": {
      "text/plain": [
       "221122"
      ]
     },
     "execution_count": 24,
     "metadata": {},
     "output_type": "execute_result"
    }
   ],
   "source": [
    "diagnoses.subject_id.nunique()"
   ]
  },
  {
   "cell_type": "markdown",
   "metadata": {},
   "source": [
    "# Advanced EDA - Sanity Check"
   ]
  },
  {
   "cell_type": "markdown",
   "metadata": {},
   "source": [
    "**Questions:**\n",
    "- Who are the 40,000 patients who were admitted but did not receive a diagnosis?"
   ]
  },
  {
   "cell_type": "code",
   "execution_count": 25,
   "metadata": {},
   "outputs": [],
   "source": [
    "adm_diag = admissions.merge(diagnoses, how='outer', on=['hadm_id', 'subject_id'])"
   ]
  },
  {
   "cell_type": "code",
   "execution_count": 26,
   "metadata": {},
   "outputs": [
    {
     "data": {
      "text/plain": [
       "subject_id                    0\n",
       "hadm_id                       0\n",
       "admittime                     0\n",
       "dischtime                     0\n",
       "deathtime               4581667\n",
       "admission_type                0\n",
       "admission_location       212657\n",
       "discharge_location       826598\n",
       "insurance                     0\n",
       "language                      0\n",
       "marital_status           311147\n",
       "ethnicity                     0\n",
       "edregtime               1582152\n",
       "edouttime               1582152\n",
       "hospital_expire_flag          0\n",
       "seq_num                   81453\n",
       "icd_code                  81453\n",
       "icd_version               81453\n",
       "dtype: int64"
      ]
     },
     "execution_count": 26,
     "metadata": {},
     "output_type": "execute_result"
    }
   ],
   "source": [
    "adm_diag.isna().sum(axis=0)"
   ]
  },
  {
   "cell_type": "code",
   "execution_count": 27,
   "metadata": {},
   "outputs": [
    {
     "data": {
      "text/html": [
       "<div>\n",
       "<style scoped>\n",
       "    .dataframe tbody tr th:only-of-type {\n",
       "        vertical-align: middle;\n",
       "    }\n",
       "\n",
       "    .dataframe tbody tr th {\n",
       "        vertical-align: top;\n",
       "    }\n",
       "\n",
       "    .dataframe thead th {\n",
       "        text-align: right;\n",
       "    }\n",
       "</style>\n",
       "<table border=\"1\" class=\"dataframe\">\n",
       "  <thead>\n",
       "    <tr style=\"text-align: right;\">\n",
       "      <th></th>\n",
       "      <th>subject_id</th>\n",
       "      <th>hadm_id</th>\n",
       "      <th>admittime</th>\n",
       "      <th>dischtime</th>\n",
       "      <th>deathtime</th>\n",
       "      <th>admission_type</th>\n",
       "      <th>admission_location</th>\n",
       "      <th>discharge_location</th>\n",
       "      <th>insurance</th>\n",
       "      <th>language</th>\n",
       "      <th>marital_status</th>\n",
       "      <th>ethnicity</th>\n",
       "      <th>edregtime</th>\n",
       "      <th>edouttime</th>\n",
       "      <th>hospital_expire_flag</th>\n",
       "      <th>seq_num</th>\n",
       "      <th>icd_code</th>\n",
       "      <th>icd_version</th>\n",
       "    </tr>\n",
       "  </thead>\n",
       "  <tbody>\n",
       "    <tr>\n",
       "      <th>38</th>\n",
       "      <td>19963742</td>\n",
       "      <td>24951506</td>\n",
       "      <td>2171-07-04 15:58:00</td>\n",
       "      <td>2171-07-05 13:37:00</td>\n",
       "      <td>NaN</td>\n",
       "      <td>AMBULATORY OBSERVATION</td>\n",
       "      <td>PACU</td>\n",
       "      <td>NaN</td>\n",
       "      <td>Other</td>\n",
       "      <td>ENGLISH</td>\n",
       "      <td>SINGLE</td>\n",
       "      <td>UNKNOWN</td>\n",
       "      <td>NaN</td>\n",
       "      <td>NaN</td>\n",
       "      <td>0</td>\n",
       "      <td>NaN</td>\n",
       "      <td>NaN</td>\n",
       "      <td>NaN</td>\n",
       "    </tr>\n",
       "    <tr>\n",
       "      <th>94</th>\n",
       "      <td>13964560</td>\n",
       "      <td>21402253</td>\n",
       "      <td>2148-08-06 00:47:00</td>\n",
       "      <td>2148-08-06 10:25:00</td>\n",
       "      <td>NaN</td>\n",
       "      <td>DIRECT OBSERVATION</td>\n",
       "      <td>PHYSICIAN REFERRAL</td>\n",
       "      <td>NaN</td>\n",
       "      <td>Medicaid</td>\n",
       "      <td>ENGLISH</td>\n",
       "      <td>SINGLE</td>\n",
       "      <td>WHITE</td>\n",
       "      <td>NaN</td>\n",
       "      <td>NaN</td>\n",
       "      <td>0</td>\n",
       "      <td>NaN</td>\n",
       "      <td>NaN</td>\n",
       "      <td>NaN</td>\n",
       "    </tr>\n",
       "    <tr>\n",
       "      <th>176</th>\n",
       "      <td>17621453</td>\n",
       "      <td>29787700</td>\n",
       "      <td>2131-09-07 10:20:00</td>\n",
       "      <td>2131-09-11 18:05:00</td>\n",
       "      <td>NaN</td>\n",
       "      <td>EW EMER.</td>\n",
       "      <td>EMERGENCY ROOM</td>\n",
       "      <td>HOME</td>\n",
       "      <td>Other</td>\n",
       "      <td>ENGLISH</td>\n",
       "      <td>MARRIED</td>\n",
       "      <td>WHITE</td>\n",
       "      <td>NaN</td>\n",
       "      <td>NaN</td>\n",
       "      <td>0</td>\n",
       "      <td>NaN</td>\n",
       "      <td>NaN</td>\n",
       "      <td>NaN</td>\n",
       "    </tr>\n",
       "    <tr>\n",
       "      <th>177</th>\n",
       "      <td>11013901</td>\n",
       "      <td>26621360</td>\n",
       "      <td>2184-06-25 10:24:00</td>\n",
       "      <td>2184-06-27 12:30:00</td>\n",
       "      <td>NaN</td>\n",
       "      <td>URGENT</td>\n",
       "      <td>PHYSICIAN REFERRAL</td>\n",
       "      <td>HOME</td>\n",
       "      <td>Other</td>\n",
       "      <td>ENGLISH</td>\n",
       "      <td>MARRIED</td>\n",
       "      <td>WHITE</td>\n",
       "      <td>NaN</td>\n",
       "      <td>NaN</td>\n",
       "      <td>0</td>\n",
       "      <td>NaN</td>\n",
       "      <td>NaN</td>\n",
       "      <td>NaN</td>\n",
       "    </tr>\n",
       "    <tr>\n",
       "      <th>261</th>\n",
       "      <td>19938687</td>\n",
       "      <td>20997132</td>\n",
       "      <td>2170-06-01 11:26:00</td>\n",
       "      <td>2170-06-03 14:15:00</td>\n",
       "      <td>NaN</td>\n",
       "      <td>URGENT</td>\n",
       "      <td>PHYSICIAN REFERRAL</td>\n",
       "      <td>HOME</td>\n",
       "      <td>Other</td>\n",
       "      <td>?</td>\n",
       "      <td>MARRIED</td>\n",
       "      <td>OTHER</td>\n",
       "      <td>NaN</td>\n",
       "      <td>NaN</td>\n",
       "      <td>0</td>\n",
       "      <td>NaN</td>\n",
       "      <td>NaN</td>\n",
       "      <td>NaN</td>\n",
       "    </tr>\n",
       "  </tbody>\n",
       "</table>\n",
       "</div>"
      ],
      "text/plain": [
       "     subject_id   hadm_id            admittime            dischtime deathtime  \\\n",
       "38     19963742  24951506  2171-07-04 15:58:00  2171-07-05 13:37:00       NaN   \n",
       "94     13964560  21402253  2148-08-06 00:47:00  2148-08-06 10:25:00       NaN   \n",
       "176    17621453  29787700  2131-09-07 10:20:00  2131-09-11 18:05:00       NaN   \n",
       "177    11013901  26621360  2184-06-25 10:24:00  2184-06-27 12:30:00       NaN   \n",
       "261    19938687  20997132  2170-06-01 11:26:00  2170-06-03 14:15:00       NaN   \n",
       "\n",
       "             admission_type  admission_location discharge_location insurance  \\\n",
       "38   AMBULATORY OBSERVATION                PACU                NaN     Other   \n",
       "94       DIRECT OBSERVATION  PHYSICIAN REFERRAL                NaN  Medicaid   \n",
       "176                EW EMER.      EMERGENCY ROOM               HOME     Other   \n",
       "177                  URGENT  PHYSICIAN REFERRAL               HOME     Other   \n",
       "261                  URGENT  PHYSICIAN REFERRAL               HOME     Other   \n",
       "\n",
       "    language marital_status ethnicity edregtime edouttime  \\\n",
       "38   ENGLISH         SINGLE   UNKNOWN       NaN       NaN   \n",
       "94   ENGLISH         SINGLE     WHITE       NaN       NaN   \n",
       "176  ENGLISH        MARRIED     WHITE       NaN       NaN   \n",
       "177  ENGLISH        MARRIED     WHITE       NaN       NaN   \n",
       "261        ?        MARRIED     OTHER       NaN       NaN   \n",
       "\n",
       "     hospital_expire_flag  seq_num icd_code  icd_version  \n",
       "38                      0      NaN      NaN          NaN  \n",
       "94                      0      NaN      NaN          NaN  \n",
       "176                     0      NaN      NaN          NaN  \n",
       "177                     0      NaN      NaN          NaN  \n",
       "261                     0      NaN      NaN          NaN  "
      ]
     },
     "execution_count": 27,
     "metadata": {},
     "output_type": "execute_result"
    }
   ],
   "source": [
    "adm_diag[adm_diag.seq_num.isna()].head()"
   ]
  },
  {
   "cell_type": "code",
   "execution_count": 28,
   "metadata": {},
   "outputs": [
    {
     "data": {
      "text/plain": [
       "<matplotlib.axes._subplots.AxesSubplot at 0x1cfe916a7c8>"
      ]
     },
     "execution_count": 28,
     "metadata": {},
     "output_type": "execute_result"
    },
    {
     "data": {
      "image/png": "[encoded data removed]",
      "text/plain": [
       "<Figure size 432x288 with 1 Axes>"
      ]
     },
     "metadata": {
      "needs_background": "light"
     },
     "output_type": "display_data"
    }
   ],
   "source": [
    "adm_diag.discharge_location.value_counts().plot(kind='bar')"
   ]
  },
  {
   "cell_type": "markdown",
   "metadata": {},
   "source": [
    "**Conclusion:** There are 50,000 patients who were admitted but were not given an ICD_9/10 diagnosis. Data shows most of these were ER patients who died or were discharged home. There is probably something going on with their insurance where the hospital did not bill the patients directly or they did not have insurance."
   ]
  },
  {
   "cell_type": "markdown",
   "metadata": {},
   "source": [
    "# Advanced EDA - AKF"
   ]
  },
  {
   "cell_type": "markdown",
   "metadata": {},
   "source": [
    "**Questions:**\n",
    "- How common is AKF?\n",
    "- How often do patients die with AKF?\n",
    "- How many times does patient visit before AKF diagnosis?"
   ]
  },
  {
   "cell_type": "code",
   "execution_count": 108,
   "metadata": {},
   "outputs": [],
   "source": [
    "diag_dict = pd.read_csv(path + \"hosp\\\\d_icd_diagnoses.csv.gz\", compression='gzip')\n",
    "diag_dict.icd_code = diag_dict.icd_code.str.strip()"
   ]
  },
  {
   "cell_type": "code",
   "execution_count": 148,
   "metadata": {},
   "outputs": [],
   "source": [
    "# akf_codes = ['4280', 'I5032', 'I5033', 'I5022', 'I5023', 'I5030', 'I5021',\n",
    "#              'I5020', 'I5031', 'I5043', 'I5042', '39891', 'I5041', 'I5040']  # CHF CODES\n",
    "akf_codes = ['5849', 'N179', '5845', 'N170']  # AKF CODES\n",
    "diagnoses.icd_code = diagnoses.icd_code.str.strip()\n",
    "akf_diagnoses = diagnoses[diagnoses.icd_code.isin(akf_codes)]\n",
    "akf_diagnoses.insert(5, 'akf_or_not', 1)\n",
    "# akf_diagnoses.loc[:, 'akf_or_not'] = 1"
   ]
  },
  {
   "cell_type": "code",
   "execution_count": 149,
   "metadata": {},
   "outputs": [
    {
     "data": {
      "text/html": [
       "<div>\n",
       "<style scoped>\n",
       "    .dataframe tbody tr th:only-of-type {\n",
       "        vertical-align: middle;\n",
       "    }\n",
       "\n",
       "    .dataframe tbody tr th {\n",
       "        vertical-align: top;\n",
       "    }\n",
       "\n",
       "    .dataframe thead th {\n",
       "        text-align: right;\n",
       "    }\n",
       "</style>\n",
       "<table border=\"1\" class=\"dataframe\">\n",
       "  <thead>\n",
       "    <tr style=\"text-align: right;\">\n",
       "      <th></th>\n",
       "      <th>subject_id</th>\n",
       "      <th>hadm_id</th>\n",
       "      <th>seq_num</th>\n",
       "      <th>icd_code</th>\n",
       "      <th>icd_version</th>\n",
       "      <th>akf_or_not</th>\n",
       "    </tr>\n",
       "  </thead>\n",
       "  <tbody>\n",
       "    <tr>\n",
       "      <th>76</th>\n",
       "      <td>19586042</td>\n",
       "      <td>23279761</td>\n",
       "      <td>2</td>\n",
       "      <td>5849</td>\n",
       "      <td>9</td>\n",
       "      <td>1</td>\n",
       "    </tr>\n",
       "    <tr>\n",
       "      <th>517</th>\n",
       "      <td>16108683</td>\n",
       "      <td>21607477</td>\n",
       "      <td>4</td>\n",
       "      <td>5845</td>\n",
       "      <td>9</td>\n",
       "      <td>1</td>\n",
       "    </tr>\n",
       "    <tr>\n",
       "      <th>537</th>\n",
       "      <td>14411859</td>\n",
       "      <td>24976204</td>\n",
       "      <td>12</td>\n",
       "      <td>5845</td>\n",
       "      <td>9</td>\n",
       "      <td>1</td>\n",
       "    </tr>\n",
       "    <tr>\n",
       "      <th>826</th>\n",
       "      <td>17752053</td>\n",
       "      <td>24437021</td>\n",
       "      <td>2</td>\n",
       "      <td>5849</td>\n",
       "      <td>9</td>\n",
       "      <td>1</td>\n",
       "    </tr>\n",
       "    <tr>\n",
       "      <th>893</th>\n",
       "      <td>16569548</td>\n",
       "      <td>24870770</td>\n",
       "      <td>5</td>\n",
       "      <td>5849</td>\n",
       "      <td>9</td>\n",
       "      <td>1</td>\n",
       "    </tr>\n",
       "  </tbody>\n",
       "</table>\n",
       "</div>"
      ],
      "text/plain": [
       "     subject_id   hadm_id  seq_num icd_code  icd_version  akf_or_not\n",
       "76     19586042  23279761        2     5849            9           1\n",
       "517    16108683  21607477        4     5845            9           1\n",
       "537    14411859  24976204       12     5845            9           1\n",
       "826    17752053  24437021        2     5849            9           1\n",
       "893    16569548  24870770        5     5849            9           1"
      ]
     },
     "execution_count": 149,
     "metadata": {},
     "output_type": "execute_result"
    }
   ],
   "source": [
    "akf_diagnoses.head()\n",
    "# every patient who has ever been diagnosed with AKF"
   ]
  },
  {
   "cell_type": "code",
   "execution_count": 139,
   "metadata": {},
   "outputs": [
    {
     "data": {
      "text/html": [
       "<div>\n",
       "<style scoped>\n",
       "    .dataframe tbody tr th:only-of-type {\n",
       "        vertical-align: middle;\n",
       "    }\n",
       "\n",
       "    .dataframe tbody tr th {\n",
       "        vertical-align: top;\n",
       "    }\n",
       "\n",
       "    .dataframe thead th {\n",
       "        text-align: right;\n",
       "    }\n",
       "</style>\n",
       "<table border=\"1\" class=\"dataframe\">\n",
       "  <thead>\n",
       "    <tr style=\"text-align: right;\">\n",
       "      <th></th>\n",
       "      <th>hadm_id</th>\n",
       "      <th>akf_or_not</th>\n",
       "    </tr>\n",
       "  </thead>\n",
       "  <tbody>\n",
       "    <tr>\n",
       "      <th>0</th>\n",
       "      <td>20000019</td>\n",
       "      <td>1</td>\n",
       "    </tr>\n",
       "    <tr>\n",
       "      <th>1</th>\n",
       "      <td>20000094</td>\n",
       "      <td>1</td>\n",
       "    </tr>\n",
       "    <tr>\n",
       "      <th>2</th>\n",
       "      <td>20000694</td>\n",
       "      <td>1</td>\n",
       "    </tr>\n",
       "    <tr>\n",
       "      <th>3</th>\n",
       "      <td>20000769</td>\n",
       "      <td>1</td>\n",
       "    </tr>\n",
       "    <tr>\n",
       "      <th>4</th>\n",
       "      <td>20001068</td>\n",
       "      <td>1</td>\n",
       "    </tr>\n",
       "    <tr>\n",
       "      <th>...</th>\n",
       "      <td>...</td>\n",
       "      <td>...</td>\n",
       "    </tr>\n",
       "    <tr>\n",
       "      <th>49423</th>\n",
       "      <td>29998702</td>\n",
       "      <td>1</td>\n",
       "    </tr>\n",
       "    <tr>\n",
       "      <th>49424</th>\n",
       "      <td>29998928</td>\n",
       "      <td>1</td>\n",
       "    </tr>\n",
       "    <tr>\n",
       "      <th>49425</th>\n",
       "      <td>29999444</td>\n",
       "      <td>1</td>\n",
       "    </tr>\n",
       "    <tr>\n",
       "      <th>49426</th>\n",
       "      <td>29999498</td>\n",
       "      <td>1</td>\n",
       "    </tr>\n",
       "    <tr>\n",
       "      <th>49427</th>\n",
       "      <td>29999625</td>\n",
       "      <td>1</td>\n",
       "    </tr>\n",
       "  </tbody>\n",
       "</table>\n",
       "<p>49428 rows × 2 columns</p>\n",
       "</div>"
      ],
      "text/plain": [
       "        hadm_id  akf_or_not\n",
       "0      20000019           1\n",
       "1      20000094           1\n",
       "2      20000694           1\n",
       "3      20000769           1\n",
       "4      20001068           1\n",
       "...         ...         ...\n",
       "49423  29998702           1\n",
       "49424  29998928           1\n",
       "49425  29999444           1\n",
       "49426  29999498           1\n",
       "49427  29999625           1\n",
       "\n",
       "[49428 rows x 2 columns]"
      ]
     },
     "execution_count": 139,
     "metadata": {},
     "output_type": "execute_result"
    }
   ],
   "source": [
    "akf_visits = akf_diagnoses.groupby('hadm_id').agg({'akf_or_not':'max'}).reset_index()\n",
    "akf_visits.sort_values('hadm_id')\n",
    "# hospital visits with or without AKF"
   ]
  },
  {
   "cell_type": "code",
   "execution_count": 151,
   "metadata": {},
   "outputs": [
    {
     "data": {
      "text/html": [
       "<div>\n",
       "<style scoped>\n",
       "    .dataframe tbody tr th:only-of-type {\n",
       "        vertical-align: middle;\n",
       "    }\n",
       "\n",
       "    .dataframe tbody tr th {\n",
       "        vertical-align: top;\n",
       "    }\n",
       "\n",
       "    .dataframe thead th {\n",
       "        text-align: right;\n",
       "    }\n",
       "</style>\n",
       "<table border=\"1\" class=\"dataframe\">\n",
       "  <thead>\n",
       "    <tr style=\"text-align: right;\">\n",
       "      <th></th>\n",
       "      <th>subject_id</th>\n",
       "      <th>hadm_id</th>\n",
       "      <th>admittime</th>\n",
       "      <th>dischtime</th>\n",
       "      <th>deathtime</th>\n",
       "      <th>admission_type</th>\n",
       "      <th>admission_location</th>\n",
       "      <th>discharge_location</th>\n",
       "      <th>insurance</th>\n",
       "      <th>language</th>\n",
       "      <th>marital_status</th>\n",
       "      <th>ethnicity</th>\n",
       "      <th>edregtime</th>\n",
       "      <th>edouttime</th>\n",
       "      <th>hospital_expire_flag</th>\n",
       "      <th>akf_or_not</th>\n",
       "    </tr>\n",
       "  </thead>\n",
       "  <tbody>\n",
       "    <tr>\n",
       "      <th>0</th>\n",
       "      <td>16705931</td>\n",
       "      <td>20580522</td>\n",
       "      <td>2174-10-24 11:30:00</td>\n",
       "      <td>2174-10-24 18:45:00</td>\n",
       "      <td>NaN</td>\n",
       "      <td>DIRECT OBSERVATION</td>\n",
       "      <td>PHYSICIAN REFERRAL</td>\n",
       "      <td>NaN</td>\n",
       "      <td>Other</td>\n",
       "      <td>ENGLISH</td>\n",
       "      <td>MARRIED</td>\n",
       "      <td>WHITE</td>\n",
       "      <td>NaN</td>\n",
       "      <td>NaN</td>\n",
       "      <td>0</td>\n",
       "      <td>0.0</td>\n",
       "    </tr>\n",
       "    <tr>\n",
       "      <th>1</th>\n",
       "      <td>16426569</td>\n",
       "      <td>27275637</td>\n",
       "      <td>2112-08-16 18:33:00</td>\n",
       "      <td>2112-08-17 14:00:00</td>\n",
       "      <td>NaN</td>\n",
       "      <td>DIRECT OBSERVATION</td>\n",
       "      <td>CLINIC REFERRAL</td>\n",
       "      <td>NaN</td>\n",
       "      <td>Medicare</td>\n",
       "      <td>ENGLISH</td>\n",
       "      <td>SINGLE</td>\n",
       "      <td>WHITE</td>\n",
       "      <td>NaN</td>\n",
       "      <td>NaN</td>\n",
       "      <td>0</td>\n",
       "      <td>0.0</td>\n",
       "    </tr>\n",
       "    <tr>\n",
       "      <th>2</th>\n",
       "      <td>13021846</td>\n",
       "      <td>22107482</td>\n",
       "      <td>2123-09-30 07:15:00</td>\n",
       "      <td>2123-10-01 16:48:00</td>\n",
       "      <td>NaN</td>\n",
       "      <td>AMBULATORY OBSERVATION</td>\n",
       "      <td>PACU</td>\n",
       "      <td>NaN</td>\n",
       "      <td>Other</td>\n",
       "      <td>ENGLISH</td>\n",
       "      <td>DIVORCED</td>\n",
       "      <td>WHITE</td>\n",
       "      <td>NaN</td>\n",
       "      <td>NaN</td>\n",
       "      <td>0</td>\n",
       "      <td>0.0</td>\n",
       "    </tr>\n",
       "    <tr>\n",
       "      <th>3</th>\n",
       "      <td>13964560</td>\n",
       "      <td>21402253</td>\n",
       "      <td>2148-08-06 00:47:00</td>\n",
       "      <td>2148-08-06 10:25:00</td>\n",
       "      <td>NaN</td>\n",
       "      <td>DIRECT OBSERVATION</td>\n",
       "      <td>PHYSICIAN REFERRAL</td>\n",
       "      <td>NaN</td>\n",
       "      <td>Medicaid</td>\n",
       "      <td>ENGLISH</td>\n",
       "      <td>SINGLE</td>\n",
       "      <td>WHITE</td>\n",
       "      <td>NaN</td>\n",
       "      <td>NaN</td>\n",
       "      <td>0</td>\n",
       "      <td>0.0</td>\n",
       "    </tr>\n",
       "    <tr>\n",
       "      <th>4</th>\n",
       "      <td>13377780</td>\n",
       "      <td>24930534</td>\n",
       "      <td>2175-05-23 16:01:00</td>\n",
       "      <td>2175-05-24 17:56:00</td>\n",
       "      <td>NaN</td>\n",
       "      <td>EU OBSERVATION</td>\n",
       "      <td>EMERGENCY ROOM</td>\n",
       "      <td>NaN</td>\n",
       "      <td>Medicare</td>\n",
       "      <td>ENGLISH</td>\n",
       "      <td>DIVORCED</td>\n",
       "      <td>WHITE</td>\n",
       "      <td>2175-05-23 08:37:00</td>\n",
       "      <td>2175-05-23 18:38:00</td>\n",
       "      <td>0</td>\n",
       "      <td>1.0</td>\n",
       "    </tr>\n",
       "  </tbody>\n",
       "</table>\n",
       "</div>"
      ],
      "text/plain": [
       "   subject_id   hadm_id            admittime            dischtime deathtime  \\\n",
       "0    16705931  20580522  2174-10-24 11:30:00  2174-10-24 18:45:00       NaN   \n",
       "1    16426569  27275637  2112-08-16 18:33:00  2112-08-17 14:00:00       NaN   \n",
       "2    13021846  22107482  2123-09-30 07:15:00  2123-10-01 16:48:00       NaN   \n",
       "3    13964560  21402253  2148-08-06 00:47:00  2148-08-06 10:25:00       NaN   \n",
       "4    13377780  24930534  2175-05-23 16:01:00  2175-05-24 17:56:00       NaN   \n",
       "\n",
       "           admission_type  admission_location discharge_location insurance  \\\n",
       "0      DIRECT OBSERVATION  PHYSICIAN REFERRAL                NaN     Other   \n",
       "1      DIRECT OBSERVATION     CLINIC REFERRAL                NaN  Medicare   \n",
       "2  AMBULATORY OBSERVATION                PACU                NaN     Other   \n",
       "3      DIRECT OBSERVATION  PHYSICIAN REFERRAL                NaN  Medicaid   \n",
       "4          EU OBSERVATION      EMERGENCY ROOM                NaN  Medicare   \n",
       "\n",
       "  language marital_status ethnicity            edregtime            edouttime  \\\n",
       "0  ENGLISH        MARRIED     WHITE                  NaN                  NaN   \n",
       "1  ENGLISH         SINGLE     WHITE                  NaN                  NaN   \n",
       "2  ENGLISH       DIVORCED     WHITE                  NaN                  NaN   \n",
       "3  ENGLISH         SINGLE     WHITE                  NaN                  NaN   \n",
       "4  ENGLISH       DIVORCED     WHITE  2175-05-23 08:37:00  2175-05-23 18:38:00   \n",
       "\n",
       "   hospital_expire_flag  akf_or_not  \n",
       "0                     0         0.0  \n",
       "1                     0         0.0  \n",
       "2                     0         0.0  \n",
       "3                     0         0.0  \n",
       "4                     0         1.0  "
      ]
     },
     "execution_count": 151,
     "metadata": {},
     "output_type": "execute_result"
    }
   ],
   "source": [
    "akf_admissions = admissions[admissions.subject_id.isin(akf_subjects)]\n",
    "akf_admissions = akf_admissions.merge(akf_visits, how='left', on='hadm_id')\n",
    "akf_admissions.akf_or_not = akf_admissions.akf_or_not.fillna(0)\n",
    "akf_admissions.head()\n",
    "# all visits where patients had AKF at that visit are flagged"
   ]
  },
  {
   "cell_type": "code",
   "execution_count": 58,
   "metadata": {},
   "outputs": [
    {
     "data": {
      "text/html": [
       "<div>\n",
       "<style scoped>\n",
       "    .dataframe tbody tr th:only-of-type {\n",
       "        vertical-align: middle;\n",
       "    }\n",
       "\n",
       "    .dataframe tbody tr th {\n",
       "        vertical-align: top;\n",
       "    }\n",
       "\n",
       "    .dataframe thead th {\n",
       "        text-align: right;\n",
       "    }\n",
       "</style>\n",
       "<table border=\"1\" class=\"dataframe\">\n",
       "  <thead>\n",
       "    <tr style=\"text-align: right;\">\n",
       "      <th></th>\n",
       "      <th>subject_id</th>\n",
       "      <th>hadm_id</th>\n",
       "      <th>admittime</th>\n",
       "      <th>dischtime</th>\n",
       "      <th>deathtime</th>\n",
       "      <th>admission_type</th>\n",
       "      <th>admission_location</th>\n",
       "      <th>discharge_location</th>\n",
       "      <th>insurance</th>\n",
       "      <th>language</th>\n",
       "      <th>marital_status</th>\n",
       "      <th>ethnicity</th>\n",
       "      <th>edregtime</th>\n",
       "      <th>edouttime</th>\n",
       "      <th>hospital_expire_flag</th>\n",
       "      <th>akf_or_not</th>\n",
       "    </tr>\n",
       "  </thead>\n",
       "  <tbody>\n",
       "    <tr>\n",
       "      <th>75383</th>\n",
       "      <td>10001401</td>\n",
       "      <td>27060146</td>\n",
       "      <td>2131-10-01 01:33:00</td>\n",
       "      <td>2131-10-05 15:45:00</td>\n",
       "      <td>NaN</td>\n",
       "      <td>OBSERVATION ADMIT</td>\n",
       "      <td>EMERGENCY ROOM</td>\n",
       "      <td>SKILLED NURSING FACILITY</td>\n",
       "      <td>Medicare</td>\n",
       "      <td>ENGLISH</td>\n",
       "      <td>MARRIED</td>\n",
       "      <td>WHITE</td>\n",
       "      <td>2131-09-30 16:47:00</td>\n",
       "      <td>2131-10-01 02:24:00</td>\n",
       "      <td>0</td>\n",
       "      <td>1</td>\n",
       "    </tr>\n",
       "    <tr>\n",
       "      <th>77362</th>\n",
       "      <td>10001401</td>\n",
       "      <td>28058085</td>\n",
       "      <td>2131-11-13 23:15:00</td>\n",
       "      <td>2131-11-15 15:16:00</td>\n",
       "      <td>NaN</td>\n",
       "      <td>OBSERVATION ADMIT</td>\n",
       "      <td>TRANSFER FROM SKILLED NURSING FACILITY</td>\n",
       "      <td>SKILLED NURSING FACILITY</td>\n",
       "      <td>Medicare</td>\n",
       "      <td>ENGLISH</td>\n",
       "      <td>MARRIED</td>\n",
       "      <td>WHITE</td>\n",
       "      <td>2131-11-13 13:08:00</td>\n",
       "      <td>2131-11-14 00:38:00</td>\n",
       "      <td>0</td>\n",
       "      <td>0</td>\n",
       "    </tr>\n",
       "    <tr>\n",
       "      <th>78890</th>\n",
       "      <td>10001401</td>\n",
       "      <td>26840593</td>\n",
       "      <td>2131-06-19 21:32:00</td>\n",
       "      <td>2131-07-02 18:18:00</td>\n",
       "      <td>NaN</td>\n",
       "      <td>OBSERVATION ADMIT</td>\n",
       "      <td>EMERGENCY ROOM</td>\n",
       "      <td>SKILLED NURSING FACILITY</td>\n",
       "      <td>Medicare</td>\n",
       "      <td>ENGLISH</td>\n",
       "      <td>MARRIED</td>\n",
       "      <td>WHITE</td>\n",
       "      <td>2131-06-19 17:14:00</td>\n",
       "      <td>2131-06-20 00:26:00</td>\n",
       "      <td>0</td>\n",
       "      <td>1</td>\n",
       "    </tr>\n",
       "    <tr>\n",
       "      <th>82569</th>\n",
       "      <td>10001401</td>\n",
       "      <td>24818636</td>\n",
       "      <td>2131-07-30 21:40:00</td>\n",
       "      <td>2131-08-04 14:10:00</td>\n",
       "      <td>NaN</td>\n",
       "      <td>OBSERVATION ADMIT</td>\n",
       "      <td>EMERGENCY ROOM</td>\n",
       "      <td>SKILLED NURSING FACILITY</td>\n",
       "      <td>Medicare</td>\n",
       "      <td>ENGLISH</td>\n",
       "      <td>MARRIED</td>\n",
       "      <td>WHITE</td>\n",
       "      <td>2131-07-30 12:47:00</td>\n",
       "      <td>2131-07-31 01:35:00</td>\n",
       "      <td>0</td>\n",
       "      <td>0</td>\n",
       "    </tr>\n",
       "    <tr>\n",
       "      <th>85120</th>\n",
       "      <td>10001401</td>\n",
       "      <td>21544441</td>\n",
       "      <td>2131-06-04 00:00:00</td>\n",
       "      <td>2131-06-15 16:10:00</td>\n",
       "      <td>NaN</td>\n",
       "      <td>SURGICAL SAME DAY ADMISSION</td>\n",
       "      <td>PHYSICIAN REFERRAL</td>\n",
       "      <td>SKILLED NURSING FACILITY</td>\n",
       "      <td>Medicare</td>\n",
       "      <td>ENGLISH</td>\n",
       "      <td>MARRIED</td>\n",
       "      <td>WHITE</td>\n",
       "      <td>NaN</td>\n",
       "      <td>NaN</td>\n",
       "      <td>0</td>\n",
       "      <td>0</td>\n",
       "    </tr>\n",
       "    <tr>\n",
       "      <th>86348</th>\n",
       "      <td>10001401</td>\n",
       "      <td>27012892</td>\n",
       "      <td>2133-07-09 22:22:00</td>\n",
       "      <td>2133-07-13 18:43:00</td>\n",
       "      <td>NaN</td>\n",
       "      <td>OBSERVATION ADMIT</td>\n",
       "      <td>PHYSICIAN REFERRAL</td>\n",
       "      <td>REHAB</td>\n",
       "      <td>Medicare</td>\n",
       "      <td>ENGLISH</td>\n",
       "      <td>MARRIED</td>\n",
       "      <td>WHITE</td>\n",
       "      <td>NaN</td>\n",
       "      <td>NaN</td>\n",
       "      <td>0</td>\n",
       "      <td>1</td>\n",
       "    </tr>\n",
       "  </tbody>\n",
       "</table>\n",
       "</div>"
      ],
      "text/plain": [
       "       subject_id   hadm_id           admittime            dischtime  \\\n",
       "75383    10001401  27060146 2131-10-01 01:33:00  2131-10-05 15:45:00   \n",
       "77362    10001401  28058085 2131-11-13 23:15:00  2131-11-15 15:16:00   \n",
       "78890    10001401  26840593 2131-06-19 21:32:00  2131-07-02 18:18:00   \n",
       "82569    10001401  24818636 2131-07-30 21:40:00  2131-08-04 14:10:00   \n",
       "85120    10001401  21544441 2131-06-04 00:00:00  2131-06-15 16:10:00   \n",
       "86348    10001401  27012892 2133-07-09 22:22:00  2133-07-13 18:43:00   \n",
       "\n",
       "      deathtime               admission_type  \\\n",
       "75383       NaN            OBSERVATION ADMIT   \n",
       "77362       NaN            OBSERVATION ADMIT   \n",
       "78890       NaN            OBSERVATION ADMIT   \n",
       "82569       NaN            OBSERVATION ADMIT   \n",
       "85120       NaN  SURGICAL SAME DAY ADMISSION   \n",
       "86348       NaN            OBSERVATION ADMIT   \n",
       "\n",
       "                           admission_location        discharge_location  \\\n",
       "75383                          EMERGENCY ROOM  SKILLED NURSING FACILITY   \n",
       "77362  TRANSFER FROM SKILLED NURSING FACILITY  SKILLED NURSING FACILITY   \n",
       "78890                          EMERGENCY ROOM  SKILLED NURSING FACILITY   \n",
       "82569                          EMERGENCY ROOM  SKILLED NURSING FACILITY   \n",
       "85120                      PHYSICIAN REFERRAL  SKILLED NURSING FACILITY   \n",
       "86348                      PHYSICIAN REFERRAL                     REHAB   \n",
       "\n",
       "      insurance language marital_status ethnicity            edregtime  \\\n",
       "75383  Medicare  ENGLISH        MARRIED     WHITE  2131-09-30 16:47:00   \n",
       "77362  Medicare  ENGLISH        MARRIED     WHITE  2131-11-13 13:08:00   \n",
       "78890  Medicare  ENGLISH        MARRIED     WHITE  2131-06-19 17:14:00   \n",
       "82569  Medicare  ENGLISH        MARRIED     WHITE  2131-07-30 12:47:00   \n",
       "85120  Medicare  ENGLISH        MARRIED     WHITE                  NaN   \n",
       "86348  Medicare  ENGLISH        MARRIED     WHITE                  NaN   \n",
       "\n",
       "                 edouttime  hospital_expire_flag  akf_or_not  \n",
       "75383  2131-10-01 02:24:00                     0           1  \n",
       "77362  2131-11-14 00:38:00                     0           0  \n",
       "78890  2131-06-20 00:26:00                     0           1  \n",
       "82569  2131-07-31 01:35:00                     0           0  \n",
       "85120                  NaN                     0           0  \n",
       "86348                  NaN                     0           1  "
      ]
     },
     "execution_count": 58,
     "metadata": {},
     "output_type": "execute_result"
    }
   ],
   "source": [
    "akf_admissions[akf_admissions.subject_id==10001401]\n",
    "# investigate admissions patterns of patients with AKF"
   ]
  },
  {
   "cell_type": "code",
   "execution_count": 39,
   "metadata": {},
   "outputs": [
    {
     "data": {
      "text/plain": [
       "hadm_id    4.72174\n",
       "dtype: float64"
      ]
     },
     "execution_count": 39,
     "metadata": {},
     "output_type": "execute_result"
    }
   ],
   "source": [
    "np.mean(akf_admissions.groupby(['subject_id']).agg({'hadm_id':'nunique'}))\n",
    "# average number of visits for AKF patients"
   ]
  },
  {
   "cell_type": "code",
   "execution_count": 40,
   "metadata": {},
   "outputs": [
    {
     "data": {
      "text/plain": [
       "akf_or_not    0.650133\n",
       "dtype: float64"
      ]
     },
     "execution_count": 40,
     "metadata": {},
     "output_type": "execute_result"
    }
   ],
   "source": [
    "np.mean(akf_admissions.groupby('subject_id').agg({'akf_or_not':'mean',}))\n",
    "# average percentage of visits where AKF was diagnosed"
   ]
  },
  {
   "cell_type": "code",
   "execution_count": 152,
   "metadata": {},
   "outputs": [
    {
     "data": {
      "text/plain": [
       "hospital_expire_flag    0.084524\n",
       "dtype: float64"
      ]
     },
     "execution_count": 152,
     "metadata": {},
     "output_type": "execute_result"
    }
   ],
   "source": [
    "np.mean(akf_admissions.groupby('subject_id').agg({'hospital_expire_flag':'mean',}))\n",
    "# How likely are AKF patients to die in a given visit?"
   ]
  },
  {
   "cell_type": "markdown",
   "metadata": {},
   "source": [
    "# Subset Target Population"
   ]
  },
  {
   "cell_type": "code",
   "execution_count": 71,
   "metadata": {},
   "outputs": [],
   "source": [
    "# subset target population\n",
    "admissions_sample = pd.read_pickle('admissions_akf_sample.pkl')"
   ]
  },
  {
   "cell_type": "code",
   "execution_count": 79,
   "metadata": {},
   "outputs": [],
   "source": [
    "# pull out groups\n",
    "sample_non = admissions_sample[admissions_sample.AKF==0]\n",
    "sample_akf = admissions_sample[admissions_sample.AKF==1]"
   ]
  },
  {
   "cell_type": "code",
   "execution_count": 80,
   "metadata": {},
   "outputs": [
    {
     "name": "stdout",
     "output_type": "stream",
     "text": [
      "(577, 2)\n",
      "(577, 3)\n"
     ]
    }
   ],
   "source": [
    "# identify first akf visit for all akf patients\n",
    "akf_admissions['admittime'] = pd.to_datetime(akf_admissions.admittime)\n",
    "first_akf = akf_admissions.loc[akf_admissions[akf_admissions.akf_or_not==1].groupby('subject_id').admittime.idxmin()]\n",
    "first_akf = first_akf[['subject_id', 'hadm_id', 'akf_or_not']]\n",
    "# sanity checks\n",
    "print(np.mean(first_akf.akf_or_not))   # everyone has AKF\n",
    "print(first_akf.shape)                 # number of rows\n",
    "print(first_akf.subject_id.nunique())  # matches number of patients\n",
    "print(first_akf.hadm_id.nunique())     # matches number of visits\n",
    "\n",
    "# pull out hospital visits for target akf samples\n",
    "sample_akf = sample_akf.merge(first_akf, how='inner', on='subject_id')\n",
    "sample_akf = sample_akf[['subject_id', 'hadm_id', 'AKF']]"
   ]
  },
  {
   "cell_type": "code",
   "execution_count": 91,
   "metadata": {
    "scrolled": true
   },
   "outputs": [
    {
     "name": "stdout",
     "output_type": "stream",
     "text": [
      "(4423, 30)\n"
     ]
    },
    {
     "name": "stderr",
     "output_type": "stream",
     "text": [
      "D:\\Software\\anaconda3\\lib\\site-packages\\ipykernel_launcher.py:3: SettingWithCopyWarning: \n",
      "A value is trying to be set on a copy of a slice from a DataFrame.\n",
      "Try using .loc[row_indexer,col_indexer] = value instead\n",
      "\n",
      "See the caveats in the documentation: https://pandas.pydata.org/pandas-docs/stable/user_guide/indexing.html#returning-a-view-versus-a-copy\n",
      "  This is separate from the ipykernel package so we can avoid doing imports until\n"
     ]
    },
    {
     "name": "stdout",
     "output_type": "stream",
     "text": [
      "(4423, 3)\n"
     ]
    }
   ],
   "source": [
    "# identify first hospital visit for non-akf patients\n",
    "admissions_non = admissions[admissions.subject_id.isin(sample_non.subject_id)]\n",
    "admissions_non['admittime'] = pd.to_datetime(admissions_non.admittime)\n",
    "first_non = admissions_non.loc[admissions_non.groupby('subject_id').admittime.idxmin()]\n",
    "# sanity checks\n",
    "print(first_non.shape)                 # number of rows\n",
    "print(first_non.subject_id.nunique())  # matches number of patients\n",
    "print(first_non.hadm_id.nunique())     # matches number of visits\n",
    "\n",
    "# pull out hospital visits for target non-akf samples\n",
    "sample_non = sample_non.merge(first_non, how='inner', on='subject_id')\n",
    "sample_non = sample_non[['subject_id', 'hadm_id', 'AKF']]"
   ]
  },
  {
   "cell_type": "code",
   "execution_count": 105,
   "metadata": {},
   "outputs": [
    {
     "name": "stdout",
     "output_type": "stream",
     "text": [
      "(5000, 3)\n"
     ]
    }
   ],
   "source": [
    "# merge back together and write to file\n",
    "admissions_sample = pd.concat([sample_akf, sample_non])\n",
    "admissions_sample = admissions_sample.reset_index(drop=True)\n",
    "print(admissions_sample.shape)                  # sanity check\n",
    "print(admissions_sample.subject_id.nunique())   # sanity check\n",
    "admissions_sample.to_pickle('admissions_sample.pkl')"
   ]
  },
  {
   "cell_type": "markdown",
   "metadata": {},
   "source": [
    "# Investigate Missing Hospital Admissions"
   ]
  },
  {
   "cell_type": "code",
   "execution_count": 153,
   "metadata": {},
   "outputs": [],
   "source": [
    "missing_hadm = pd.read_csv(\"missing_hadm_id.csv.gz\", compression='gzip')"
   ]
  },
  {
   "cell_type": "code",
   "execution_count": 154,
   "metadata": {},
   "outputs": [],
   "source": [
    "missing_hadm = admissions[admissions.hadm_id.isin(missing_hadm.hadm_id)]"
   ]
  },
  {
   "cell_type": "code",
   "execution_count": 156,
   "metadata": {},
   "outputs": [],
   "source": [
    "missing_hadm = missing_hadm.merge(diagnoses, on=['hadm_id', 'subject_id'])"
   ]
  },
  {
   "cell_type": "code",
   "execution_count": 161,
   "metadata": {},
   "outputs": [],
   "source": [
    "missing_hadm = missing_hadm.merge(diag_dict, on=['icd_version', 'icd_code'])"
   ]
  },
  {
   "cell_type": "code",
   "execution_count": 199,
   "metadata": {},
   "outputs": [
    {
     "data": {
      "text/html": [
       "<div>\n",
       "<style scoped>\n",
       "    .dataframe tbody tr th:only-of-type {\n",
       "        vertical-align: middle;\n",
       "    }\n",
       "\n",
       "    .dataframe tbody tr th {\n",
       "        vertical-align: top;\n",
       "    }\n",
       "\n",
       "    .dataframe thead th {\n",
       "        text-align: right;\n",
       "    }\n",
       "</style>\n",
       "<table border=\"1\" class=\"dataframe\">\n",
       "  <thead>\n",
       "    <tr style=\"text-align: right;\">\n",
       "      <th></th>\n",
       "      <th>subject_id</th>\n",
       "      <th>hadm_id</th>\n",
       "      <th>admittime</th>\n",
       "      <th>dischtime</th>\n",
       "      <th>deathtime</th>\n",
       "      <th>admission_type</th>\n",
       "      <th>admission_location</th>\n",
       "      <th>discharge_location</th>\n",
       "      <th>insurance</th>\n",
       "      <th>language</th>\n",
       "      <th>marital_status</th>\n",
       "      <th>ethnicity</th>\n",
       "      <th>edregtime</th>\n",
       "      <th>edouttime</th>\n",
       "      <th>hospital_expire_flag</th>\n",
       "      <th>seq_num</th>\n",
       "      <th>icd_code</th>\n",
       "      <th>icd_version</th>\n",
       "      <th>long_title</th>\n",
       "    </tr>\n",
       "  </thead>\n",
       "  <tbody>\n",
       "    <tr>\n",
       "      <th>0</th>\n",
       "      <td>17057468</td>\n",
       "      <td>23266370</td>\n",
       "      <td>2188-05-29 21:29:00</td>\n",
       "      <td>2188-05-30 02:49:00</td>\n",
       "      <td>NaN</td>\n",
       "      <td>EU OBSERVATION</td>\n",
       "      <td>EMERGENCY ROOM</td>\n",
       "      <td>NaN</td>\n",
       "      <td>Other</td>\n",
       "      <td>ENGLISH</td>\n",
       "      <td>MARRIED</td>\n",
       "      <td>WHITE</td>\n",
       "      <td>2188-05-29 18:39:00</td>\n",
       "      <td>2188-05-30 02:49:00</td>\n",
       "      <td>0</td>\n",
       "      <td>2</td>\n",
       "      <td>4019</td>\n",
       "      <td>9</td>\n",
       "      <td>Unspecified essential hypertension</td>\n",
       "    </tr>\n",
       "    <tr>\n",
       "      <th>1</th>\n",
       "      <td>19438381</td>\n",
       "      <td>22619489</td>\n",
       "      <td>2135-01-07 20:21:00</td>\n",
       "      <td>2135-01-08 15:24:00</td>\n",
       "      <td>NaN</td>\n",
       "      <td>EU OBSERVATION</td>\n",
       "      <td>EMERGENCY ROOM</td>\n",
       "      <td>NaN</td>\n",
       "      <td>Medicare</td>\n",
       "      <td>ENGLISH</td>\n",
       "      <td>WIDOWED</td>\n",
       "      <td>BLACK/AFRICAN AMERICAN</td>\n",
       "      <td>2135-01-07 15:59:00</td>\n",
       "      <td>2135-01-08 15:24:00</td>\n",
       "      <td>0</td>\n",
       "      <td>3</td>\n",
       "      <td>4019</td>\n",
       "      <td>9</td>\n",
       "      <td>Unspecified essential hypertension</td>\n",
       "    </tr>\n",
       "    <tr>\n",
       "      <th>2</th>\n",
       "      <td>12456824</td>\n",
       "      <td>29333391</td>\n",
       "      <td>2124-09-24 16:21:00</td>\n",
       "      <td>2124-09-25 14:30:00</td>\n",
       "      <td>NaN</td>\n",
       "      <td>AMBULATORY OBSERVATION</td>\n",
       "      <td>PACU</td>\n",
       "      <td>NaN</td>\n",
       "      <td>Medicare</td>\n",
       "      <td>ENGLISH</td>\n",
       "      <td>SINGLE</td>\n",
       "      <td>UNKNOWN</td>\n",
       "      <td>NaN</td>\n",
       "      <td>NaN</td>\n",
       "      <td>0</td>\n",
       "      <td>3</td>\n",
       "      <td>4019</td>\n",
       "      <td>9</td>\n",
       "      <td>Unspecified essential hypertension</td>\n",
       "    </tr>\n",
       "    <tr>\n",
       "      <th>3</th>\n",
       "      <td>17660071</td>\n",
       "      <td>25463904</td>\n",
       "      <td>2155-08-29 20:53:00</td>\n",
       "      <td>2155-08-29 22:56:00</td>\n",
       "      <td>NaN</td>\n",
       "      <td>EU OBSERVATION</td>\n",
       "      <td>EMERGENCY ROOM</td>\n",
       "      <td>NaN</td>\n",
       "      <td>Other</td>\n",
       "      <td>ENGLISH</td>\n",
       "      <td>MARRIED</td>\n",
       "      <td>WHITE</td>\n",
       "      <td>2155-08-29 15:13:00</td>\n",
       "      <td>2155-08-29 22:56:00</td>\n",
       "      <td>0</td>\n",
       "      <td>6</td>\n",
       "      <td>4019</td>\n",
       "      <td>9</td>\n",
       "      <td>Unspecified essential hypertension</td>\n",
       "    </tr>\n",
       "    <tr>\n",
       "      <th>4</th>\n",
       "      <td>15754508</td>\n",
       "      <td>23105907</td>\n",
       "      <td>2138-10-29 06:04:00</td>\n",
       "      <td>2138-10-30 15:42:00</td>\n",
       "      <td>NaN</td>\n",
       "      <td>EU OBSERVATION</td>\n",
       "      <td>EMERGENCY ROOM</td>\n",
       "      <td>NaN</td>\n",
       "      <td>Medicare</td>\n",
       "      <td>ENGLISH</td>\n",
       "      <td>MARRIED</td>\n",
       "      <td>WHITE</td>\n",
       "      <td>2138-10-29 01:17:00</td>\n",
       "      <td>2138-10-30 15:42:00</td>\n",
       "      <td>0</td>\n",
       "      <td>4</td>\n",
       "      <td>4019</td>\n",
       "      <td>9</td>\n",
       "      <td>Unspecified essential hypertension</td>\n",
       "    </tr>\n",
       "    <tr>\n",
       "      <th>5</th>\n",
       "      <td>18317245</td>\n",
       "      <td>22887700</td>\n",
       "      <td>2139-02-11 20:54:00</td>\n",
       "      <td>2139-02-12 14:27:00</td>\n",
       "      <td>NaN</td>\n",
       "      <td>EU OBSERVATION</td>\n",
       "      <td>EMERGENCY ROOM</td>\n",
       "      <td>NaN</td>\n",
       "      <td>Other</td>\n",
       "      <td>ENGLISH</td>\n",
       "      <td>MARRIED</td>\n",
       "      <td>WHITE</td>\n",
       "      <td>2139-02-11 18:03:00</td>\n",
       "      <td>2139-02-12 14:27:00</td>\n",
       "      <td>0</td>\n",
       "      <td>2</td>\n",
       "      <td>4019</td>\n",
       "      <td>9</td>\n",
       "      <td>Unspecified essential hypertension</td>\n",
       "    </tr>\n",
       "    <tr>\n",
       "      <th>6</th>\n",
       "      <td>12306186</td>\n",
       "      <td>27384598</td>\n",
       "      <td>2119-08-30 17:23:00</td>\n",
       "      <td>2119-08-31 10:02:00</td>\n",
       "      <td>NaN</td>\n",
       "      <td>EU OBSERVATION</td>\n",
       "      <td>EMERGENCY ROOM</td>\n",
       "      <td>NaN</td>\n",
       "      <td>Other</td>\n",
       "      <td>ENGLISH</td>\n",
       "      <td>SINGLE</td>\n",
       "      <td>BLACK/AFRICAN AMERICAN</td>\n",
       "      <td>2119-08-30 13:29:00</td>\n",
       "      <td>2119-08-31 10:02:00</td>\n",
       "      <td>0</td>\n",
       "      <td>5</td>\n",
       "      <td>4019</td>\n",
       "      <td>9</td>\n",
       "      <td>Unspecified essential hypertension</td>\n",
       "    </tr>\n",
       "    <tr>\n",
       "      <th>7</th>\n",
       "      <td>17230507</td>\n",
       "      <td>29851958</td>\n",
       "      <td>2182-03-06 00:23:00</td>\n",
       "      <td>2182-03-06 17:04:00</td>\n",
       "      <td>NaN</td>\n",
       "      <td>EU OBSERVATION</td>\n",
       "      <td>EMERGENCY ROOM</td>\n",
       "      <td>NaN</td>\n",
       "      <td>Medicare</td>\n",
       "      <td>ENGLISH</td>\n",
       "      <td>WIDOWED</td>\n",
       "      <td>WHITE</td>\n",
       "      <td>2182-03-05 20:43:00</td>\n",
       "      <td>2182-03-06 17:04:00</td>\n",
       "      <td>0</td>\n",
       "      <td>7</td>\n",
       "      <td>4019</td>\n",
       "      <td>9</td>\n",
       "      <td>Unspecified essential hypertension</td>\n",
       "    </tr>\n",
       "    <tr>\n",
       "      <th>8</th>\n",
       "      <td>19847223</td>\n",
       "      <td>26207102</td>\n",
       "      <td>2190-12-03 05:27:00</td>\n",
       "      <td>2190-12-03 13:10:00</td>\n",
       "      <td>NaN</td>\n",
       "      <td>EU OBSERVATION</td>\n",
       "      <td>EMERGENCY ROOM</td>\n",
       "      <td>NaN</td>\n",
       "      <td>Other</td>\n",
       "      <td>ENGLISH</td>\n",
       "      <td>DIVORCED</td>\n",
       "      <td>WHITE</td>\n",
       "      <td>2190-12-02 23:57:00</td>\n",
       "      <td>2190-12-03 13:10:00</td>\n",
       "      <td>0</td>\n",
       "      <td>4</td>\n",
       "      <td>4019</td>\n",
       "      <td>9</td>\n",
       "      <td>Unspecified essential hypertension</td>\n",
       "    </tr>\n",
       "    <tr>\n",
       "      <th>9</th>\n",
       "      <td>12223158</td>\n",
       "      <td>23976366</td>\n",
       "      <td>2133-03-04 13:35:00</td>\n",
       "      <td>2133-03-05 22:15:00</td>\n",
       "      <td>NaN</td>\n",
       "      <td>EW EMER.</td>\n",
       "      <td>EMERGENCY ROOM</td>\n",
       "      <td>HOME</td>\n",
       "      <td>Medicare</td>\n",
       "      <td>ENGLISH</td>\n",
       "      <td>DIVORCED</td>\n",
       "      <td>WHITE</td>\n",
       "      <td>2133-03-04 06:27:00</td>\n",
       "      <td>2133-03-04 14:58:00</td>\n",
       "      <td>0</td>\n",
       "      <td>4</td>\n",
       "      <td>4019</td>\n",
       "      <td>9</td>\n",
       "      <td>Unspecified essential hypertension</td>\n",
       "    </tr>\n",
       "  </tbody>\n",
       "</table>\n",
       "</div>"
      ],
      "text/plain": [
       "   subject_id   hadm_id            admittime            dischtime deathtime  \\\n",
       "0    17057468  23266370  2188-05-29 21:29:00  2188-05-30 02:49:00       NaN   \n",
       "1    19438381  22619489  2135-01-07 20:21:00  2135-01-08 15:24:00       NaN   \n",
       "2    12456824  29333391  2124-09-24 16:21:00  2124-09-25 14:30:00       NaN   \n",
       "3    17660071  25463904  2155-08-29 20:53:00  2155-08-29 22:56:00       NaN   \n",
       "4    15754508  23105907  2138-10-29 06:04:00  2138-10-30 15:42:00       NaN   \n",
       "5    18317245  22887700  2139-02-11 20:54:00  2139-02-12 14:27:00       NaN   \n",
       "6    12306186  27384598  2119-08-30 17:23:00  2119-08-31 10:02:00       NaN   \n",
       "7    17230507  29851958  2182-03-06 00:23:00  2182-03-06 17:04:00       NaN   \n",
       "8    19847223  26207102  2190-12-03 05:27:00  2190-12-03 13:10:00       NaN   \n",
       "9    12223158  23976366  2133-03-04 13:35:00  2133-03-05 22:15:00       NaN   \n",
       "\n",
       "           admission_type admission_location discharge_location insurance  \\\n",
       "0          EU OBSERVATION     EMERGENCY ROOM                NaN     Other   \n",
       "1          EU OBSERVATION     EMERGENCY ROOM                NaN  Medicare   \n",
       "2  AMBULATORY OBSERVATION               PACU                NaN  Medicare   \n",
       "3          EU OBSERVATION     EMERGENCY ROOM                NaN     Other   \n",
       "4          EU OBSERVATION     EMERGENCY ROOM                NaN  Medicare   \n",
       "5          EU OBSERVATION     EMERGENCY ROOM                NaN     Other   \n",
       "6          EU OBSERVATION     EMERGENCY ROOM                NaN     Other   \n",
       "7          EU OBSERVATION     EMERGENCY ROOM                NaN  Medicare   \n",
       "8          EU OBSERVATION     EMERGENCY ROOM                NaN     Other   \n",
       "9                EW EMER.     EMERGENCY ROOM               HOME  Medicare   \n",
       "\n",
       "  language marital_status               ethnicity            edregtime  \\\n",
       "0  ENGLISH        MARRIED                   WHITE  2188-05-29 18:39:00   \n",
       "1  ENGLISH        WIDOWED  BLACK/AFRICAN AMERICAN  2135-01-07 15:59:00   \n",
       "2  ENGLISH         SINGLE                 UNKNOWN                  NaN   \n",
       "3  ENGLISH        MARRIED                   WHITE  2155-08-29 15:13:00   \n",
       "4  ENGLISH        MARRIED                   WHITE  2138-10-29 01:17:00   \n",
       "5  ENGLISH        MARRIED                   WHITE  2139-02-11 18:03:00   \n",
       "6  ENGLISH         SINGLE  BLACK/AFRICAN AMERICAN  2119-08-30 13:29:00   \n",
       "7  ENGLISH        WIDOWED                   WHITE  2182-03-05 20:43:00   \n",
       "8  ENGLISH       DIVORCED                   WHITE  2190-12-02 23:57:00   \n",
       "9  ENGLISH       DIVORCED                   WHITE  2133-03-04 06:27:00   \n",
       "\n",
       "             edouttime  hospital_expire_flag  seq_num icd_code  icd_version  \\\n",
       "0  2188-05-30 02:49:00                     0        2     4019            9   \n",
       "1  2135-01-08 15:24:00                     0        3     4019            9   \n",
       "2                  NaN                     0        3     4019            9   \n",
       "3  2155-08-29 22:56:00                     0        6     4019            9   \n",
       "4  2138-10-30 15:42:00                     0        4     4019            9   \n",
       "5  2139-02-12 14:27:00                     0        2     4019            9   \n",
       "6  2119-08-31 10:02:00                     0        5     4019            9   \n",
       "7  2182-03-06 17:04:00                     0        7     4019            9   \n",
       "8  2190-12-03 13:10:00                     0        4     4019            9   \n",
       "9  2133-03-04 14:58:00                     0        4     4019            9   \n",
       "\n",
       "                           long_title  \n",
       "0  Unspecified essential hypertension  \n",
       "1  Unspecified essential hypertension  \n",
       "2  Unspecified essential hypertension  \n",
       "3  Unspecified essential hypertension  \n",
       "4  Unspecified essential hypertension  \n",
       "5  Unspecified essential hypertension  \n",
       "6  Unspecified essential hypertension  \n",
       "7  Unspecified essential hypertension  \n",
       "8  Unspecified essential hypertension  \n",
       "9  Unspecified essential hypertension  "
      ]
     },
     "execution_count": 199,
     "metadata": {},
     "output_type": "execute_result"
    }
   ],
   "source": [
    "missing_hadm.head(10)"
   ]
  },
  {
   "cell_type": "code",
   "execution_count": 191,
   "metadata": {},
   "outputs": [
    {
     "data": {
      "text/plain": [
       "<matplotlib.axes._subplots.AxesSubplot at 0x1cf842fc548>"
      ]
     },
     "execution_count": 191,
     "metadata": {},
     "output_type": "execute_result"
    },
    {
     "data": {
      "image/png": "[encoded data removed]",
      "text/plain": [
       "<Figure size 432x288 with 1 Axes>"
      ]
     },
     "metadata": {
      "needs_background": "light"
     },
     "output_type": "display_data"
    }
   ],
   "source": [
    "missing_hadm.admission_type.value_counts().plot(kind='barh')"
   ]
  },
  {
   "cell_type": "code",
   "execution_count": 194,
   "metadata": {},
   "outputs": [
    {
     "data": {
      "text/plain": [
       "<matplotlib.axes._subplots.AxesSubplot at 0x1cf85c70d88>"
      ]
     },
     "execution_count": 194,
     "metadata": {},
     "output_type": "execute_result"
    },
    {
     "data": {
      "image/png": "[encoded data removed]",
      "text/plain": [
       "<Figure size 432x288 with 1 Axes>"
      ]
     },
     "metadata": {
      "needs_background": "light"
     },
     "output_type": "display_data"
    }
   ],
   "source": [
    "missing_hadm.admission_location.value_counts().plot(kind='barh')"
   ]
  },
  {
   "cell_type": "code",
   "execution_count": 195,
   "metadata": {},
   "outputs": [
    {
     "data": {
      "text/plain": [
       "<matplotlib.axes._subplots.AxesSubplot at 0x1cfa83b0548>"
      ]
     },
     "execution_count": 195,
     "metadata": {},
     "output_type": "execute_result"
    },
    {
     "data": {
      "image/png": "[encoded data removed]",
      "text/plain": [
       "<Figure size 432x288 with 1 Axes>"
      ]
     },
     "metadata": {
      "needs_background": "light"
     },
     "output_type": "display_data"
    }
   ],
   "source": [
    "missing_hadm.discharge_location.value_counts().plot(kind='barh')"
   ]
  },
  {
   "cell_type": "code",
   "execution_count": 186,
   "metadata": {},
   "outputs": [
    {
     "data": {
      "text/html": [
       "<div>\n",
       "<style scoped>\n",
       "    .dataframe tbody tr th:only-of-type {\n",
       "        vertical-align: middle;\n",
       "    }\n",
       "\n",
       "    .dataframe tbody tr th {\n",
       "        vertical-align: top;\n",
       "    }\n",
       "\n",
       "    .dataframe thead th {\n",
       "        text-align: right;\n",
       "    }\n",
       "</style>\n",
       "<table border=\"1\" class=\"dataframe\">\n",
       "  <thead>\n",
       "    <tr style=\"text-align: right;\">\n",
       "      <th></th>\n",
       "      <th>long_title</th>\n",
       "      <th>counts</th>\n",
       "    </tr>\n",
       "  </thead>\n",
       "  <tbody>\n",
       "    <tr>\n",
       "      <th>1003</th>\n",
       "      <td>Unspecified essential hypertension</td>\n",
       "      <td>85</td>\n",
       "    </tr>\n",
       "    <tr>\n",
       "      <th>80</th>\n",
       "      <td>Alcohol abuse, unspecified</td>\n",
       "      <td>61</td>\n",
       "    </tr>\n",
       "    <tr>\n",
       "      <th>192</th>\n",
       "      <td>Chest pain, unspecified</td>\n",
       "      <td>56</td>\n",
       "    </tr>\n",
       "    <tr>\n",
       "      <th>273</th>\n",
       "      <td>Depressive disorder, not elsewhere classified</td>\n",
       "      <td>52</td>\n",
       "    </tr>\n",
       "    <tr>\n",
       "      <th>331</th>\n",
       "      <td>Essential (primary) hypertension</td>\n",
       "      <td>42</td>\n",
       "    </tr>\n",
       "    <tr>\n",
       "      <th>928</th>\n",
       "      <td>Suicidal ideation</td>\n",
       "      <td>40</td>\n",
       "    </tr>\n",
       "    <tr>\n",
       "      <th>635</th>\n",
       "      <td>Other and unspecified hyperlipidemia</td>\n",
       "      <td>30</td>\n",
       "    </tr>\n",
       "    <tr>\n",
       "      <th>276</th>\n",
       "      <td>Diabetes mellitus without mention of complicat...</td>\n",
       "      <td>29</td>\n",
       "    </tr>\n",
       "    <tr>\n",
       "      <th>642</th>\n",
       "      <td>Other chest pain</td>\n",
       "      <td>26</td>\n",
       "    </tr>\n",
       "    <tr>\n",
       "      <th>952</th>\n",
       "      <td>Tobacco use disorder</td>\n",
       "      <td>25</td>\n",
       "    </tr>\n",
       "    <tr>\n",
       "      <th>508</th>\n",
       "      <td>Major depressive disorder, single episode, uns...</td>\n",
       "      <td>24</td>\n",
       "    </tr>\n",
       "    <tr>\n",
       "      <th>1024</th>\n",
       "      <td>Unspecified place or not applicable</td>\n",
       "      <td>22</td>\n",
       "    </tr>\n",
       "    <tr>\n",
       "      <th>557</th>\n",
       "      <td>Nicotine dependence, cigarettes, uncomplicated</td>\n",
       "      <td>22</td>\n",
       "    </tr>\n",
       "    <tr>\n",
       "      <th>988</th>\n",
       "      <td>Unspecified acquired hypothyroidism</td>\n",
       "      <td>21</td>\n",
       "    </tr>\n",
       "    <tr>\n",
       "      <th>98</th>\n",
       "      <td>Anxiety state, unspecified</td>\n",
       "      <td>20</td>\n",
       "    </tr>\n",
       "  </tbody>\n",
       "</table>\n",
       "</div>"
      ],
      "text/plain": [
       "                                             long_title  counts\n",
       "1003                 Unspecified essential hypertension      85\n",
       "80                           Alcohol abuse, unspecified      61\n",
       "192                             Chest pain, unspecified      56\n",
       "273       Depressive disorder, not elsewhere classified      52\n",
       "331                    Essential (primary) hypertension      42\n",
       "928                                   Suicidal ideation      40\n",
       "635                Other and unspecified hyperlipidemia      30\n",
       "276   Diabetes mellitus without mention of complicat...      29\n",
       "642                                    Other chest pain      26\n",
       "952                                Tobacco use disorder      25\n",
       "508   Major depressive disorder, single episode, uns...      24\n",
       "1024                Unspecified place or not applicable      22\n",
       "557      Nicotine dependence, cigarettes, uncomplicated      22\n",
       "988                 Unspecified acquired hypothyroidism      21\n",
       "98                           Anxiety state, unspecified      20"
      ]
     },
     "execution_count": 186,
     "metadata": {},
     "output_type": "execute_result"
    }
   ],
   "source": [
    "missing_diags = missing_hadm.groupby('long_title').agg({'long_title':'count'}).rename({'long_title':'counts'}, axis=1).reset_index()\n",
    "missing_diags.sort_values('counts',ascending=False).head(15)"
   ]
  },
  {
   "cell_type": "markdown",
   "metadata": {},
   "source": [
    "**Conclusion:** It looks like the 1,000 patients without lab tests were mostly people who were admitted to the ER late at night, presumably when the labs were closed."
   ]
  },
  {
   "cell_type": "markdown",
   "metadata": {},
   "source": [
    "# Use Later"
   ]
  },
  {
   "cell_type": "code",
   "execution_count": null,
   "metadata": {},
   "outputs": [],
   "source": [
    "akf_diag = akf_admissions.groupby('icd_code').agg({'icd_code':'count','seq_num':'mean'}).rename({'icd_code':'icd_count','seq_num':'seq_mean'}, axis=1)\n",
    "akf_diag = akf_diag.merge(diag_dict, how='left', on='icd_code')"
   ]
  },
  {
   "cell_type": "code",
   "execution_count": null,
   "metadata": {},
   "outputs": [],
   "source": [
    "akf_diag.sort_values('icd_count', ascending=False).head(20)\n",
    "# most common icd codes for kidney failure patients"
   ]
  },
  {
   "cell_type": "code",
   "execution_count": null,
   "metadata": {},
   "outputs": [],
   "source": [
    "akf_diag[akf_diag.icd_count > 10].sort_values('seq_mean', ascending=False).head(20)\n",
    "# common co-morbidities for AKF patients"
   ]
  },
  {
   "cell_type": "code",
   "execution_count": null,
   "metadata": {},
   "outputs": [],
   "source": [
    "# ### IDENTIFY REPEAT PATIENTS !!! 2 hr runtime !!!\n",
    "# akf_admissions = akf_admissions.sort_values('subject_id').reset_index(drop=True)\n",
    "# akf_admissions['visit_num'] = 1\n",
    "# for idx, row in akf_admissions.iterrows():\n",
    "#     if akf_admissions.iloc[idx]['subject_id'] == akf_admissions.iloc[idx-1]['subject_id']:\n",
    "#         akf_admissions.loc[idx, 'repeat'] = True\n",
    "#         akf_admissions.loc[idx, 'visit_num'] = akf_admissions.loc[idx-1, 'visit_num'] + 1\n",
    "#     else:\n",
    "#         akf_admissions.loc[idx, 'repeat'] = False\n",
    "# akf_admissions[akf_admissions.repeat==True].head()"
   ]
  }
 ],
 "metadata": {
  "kernelspec": {
   "display_name": "Python 3",
   "language": "python",
   "name": "python3"
  },
  "language_info": {
   "codemirror_mode": {
    "name": "ipython",
    "version": 3
   },
   "file_extension": ".py",
   "mimetype": "text/x-python",
   "name": "python",
   "nbconvert_exporter": "python",
   "pygments_lexer": "ipython3",
   "version": "3.7.6"
  }
 },
 "nbformat": 4,
 "nbformat_minor": 4
}
