{
 "cells": [
  {
   "cell_type": "code",
   "execution_count": 2,
   "metadata": {},
   "outputs": [],
   "source": [
    "import pandas as pd\n",
    "import pickle"
   ]
  },
  {
   "cell_type": "markdown",
   "metadata": {},
   "source": [
    "## Import cleaned dataset"
   ]
  },
  {
   "cell_type": "code",
   "execution_count": 16,
   "metadata": {},
   "outputs": [],
   "source": [
    "final = pd.read_csv('./AKF_final_test.csv.gz', compression='gzip')\n",
    "hadm_features = final.loc[:, '(\\'min\\', 50861)' : '(\\'above_max\\', 51498)']\n",
    "hadm_target = final.loc[:, 'AKF']"
   ]
  },
  {
   "cell_type": "code",
   "execution_count": 18,
   "metadata": {},
   "outputs": [],
   "source": [
    "from sklearn import model_selection\n",
    "\n",
    "X_train, X_test, y_train, y_test = model_selection.train_test_split(hadm_features, hadm_target, test_size=.2, stratify=hadm_target, random_state=25)"
   ]
  },
  {
   "cell_type": "markdown",
   "metadata": {},
   "source": [
    "# Random Forest"
   ]
  },
  {
   "cell_type": "markdown",
   "metadata": {},
   "source": [
    "## No Over/under sampling"
   ]
  },
  {
   "cell_type": "code",
   "execution_count": 43,
   "metadata": {},
   "outputs": [
    {
     "name": "stdout",
     "output_type": "stream",
     "text": [
      "Cross Validation\n",
      "--------------------\n",
      "Best parameter:  {'criterion': 'entropy', 'max_depth': 90, 'n_estimators': 19}\n",
      "Best CV score:  0.9204\n",
      "Accuracy Score: 89.68%\n",
      "_______________________________________________\n",
      "Classification Report:\tPrecision Score: 65.00%\n",
      "\t\t\tRecall Score: 57.02%\n",
      "\t\t\tF1 score: 60.75%\n",
      "_______________________________________________\n",
      "Confusion Matrix: \n",
      " [[665  35]\n",
      " [ 49  65]]\n",
      "\n",
      "CPU times: user 4min 47s, sys: 4.35 s, total: 4min 51s\n",
      "Wall time: 5min 2s\n"
     ]
    }
   ],
   "source": [
    "%%time\n",
    "from sklearn.ensemble import RandomForestClassifier\n",
    "from sklearn.metrics import accuracy_score, confusion_matrix, precision_score, recall_score, f1_score\n",
    "\n",
    "param_grid={'criterion': ['entropy','gini'],\n",
    "            'n_estimators': range(1,31),\n",
    "            'max_depth': range(10,110,10)\n",
    "            }\n",
    "\n",
    "grid_search = model_selection.GridSearchCV(estimator = RandomForestClassifier(), param_grid = param_grid, cv=3)\n",
    "grid_search.fit(X_train, y_train)\n",
    "\n",
    "print(\"Cross Validation\")\n",
    "print(\"-\" * 20)\n",
    "print(\"Best parameter: \", grid_search.best_params_)\n",
    "print(\"Best CV score:  %.4f\" % grid_search.best_score_)\n",
    "\n",
    "pred = grid_search.best_estimator_.predict(X_test)\n",
    "\n",
    "print(f\"Accuracy Score: {accuracy_score(y_test, pred) * 100:.2f}%\")\n",
    "print(\"_______________________________________________\")\n",
    "print(\"Classification Report:\", end='')\n",
    "print(f\"\\tPrecision Score: {precision_score(y_test, pred) * 100:.2f}%\")\n",
    "print(f\"\\t\\t\\tRecall Score: {recall_score(y_test, pred) * 100:.2f}%\")\n",
    "print(f\"\\t\\t\\tF1 score: {f1_score(y_test, pred) * 100:.2f}%\")\n",
    "print(\"_______________________________________________\")\n",
    "print(f\"Confusion Matrix: \\n {confusion_matrix(y_test, pred)}\\n\")"
   ]
  },
  {
   "cell_type": "markdown",
   "metadata": {},
   "source": [
    "## undersampling using SMOTE"
   ]
  },
  {
   "cell_type": "code",
   "execution_count": 31,
   "metadata": {},
   "outputs": [],
   "source": [
    "from imblearn.over_sampling import SMOTE\n",
    "sm = SMOTE()\n",
    "X_res, y_res = sm.fit_resample(X_train, y_train)"
   ]
  },
  {
   "cell_type": "code",
   "execution_count": 32,
   "metadata": {},
   "outputs": [
    {
     "name": "stdout",
     "output_type": "stream",
     "text": [
      "Cross Validation\n",
      "--------------------\n",
      "Best parameter:  {'criterion': 'gini', 'max_depth': 70, 'n_estimators': 15}\n",
      "Best CV score:  0.9536\n",
      "Accuracy Score: 90.91%\n",
      "_______________________________________________\n",
      "Classification Report:\tPrecision Score: 63.89%\n",
      "\t\t\tRecall Score: 80.70%\n",
      "\t\t\tF1 score: 71.32%\n",
      "_______________________________________________\n",
      "Confusion Matrix: \n",
      " [[648  52]\n",
      " [ 22  92]]\n",
      "\n",
      "CPU times: user 11min 42s, sys: 12.4 s, total: 11min 54s\n",
      "Wall time: 13min 23s\n"
     ]
    }
   ],
   "source": [
    "%%time\n",
    "param_grid={'criterion': ['entropy','gini'],\n",
    "            'n_estimators': range(1,31),\n",
    "            'max_depth': range(10,110,10)\n",
    "            }\n",
    "\n",
    "grid_search = model_selection.GridSearchCV(estimator = RandomForestClassifier(), param_grid = param_grid, cv=3)\n",
    "grid_search.fit(X_res, y_res)\n",
    "\n",
    "print(\"Cross Validation\")\n",
    "print(\"-\" * 20)\n",
    "print(\"Best parameter: \", grid_search.best_params_)\n",
    "print(\"Best CV score:  %.4f\" % grid_search.best_score_)\n",
    "\n",
    "pred = grid_search.best_estimator_.predict(X_test)\n",
    "\n",
    "print(f\"Accuracy Score: {accuracy_score(y_test, pred) * 100:.2f}%\")\n",
    "print(\"_______________________________________________\")\n",
    "print(\"Classification Report:\", end='')\n",
    "print(f\"\\tPrecision Score: {precision_score(y_test, pred) * 100:.2f}%\")\n",
    "print(f\"\\t\\t\\tRecall Score: {recall_score(y_test, pred) * 100:.2f}%\")\n",
    "print(f\"\\t\\t\\tF1 score: {f1_score(y_test, pred) * 100:.2f}%\")\n",
    "print(\"_______________________________________________\")\n",
    "print(f\"Confusion Matrix: \\n {confusion_matrix(y_test, pred)}\\n\")"
   ]
  },
  {
   "cell_type": "markdown",
   "metadata": {},
   "source": [
    "## Over sampling using Near Miss"
   ]
  },
  {
   "cell_type": "code",
   "execution_count": 34,
   "metadata": {},
   "outputs": [],
   "source": [
    "from imblearn.under_sampling import NearMiss\n",
    "nm = NearMiss()\n",
    "X_res, y_res = nm.fit_resample(X_train, y_train)"
   ]
  },
  {
   "cell_type": "code",
   "execution_count": 35,
   "metadata": {},
   "outputs": [
    {
     "name": "stdout",
     "output_type": "stream",
     "text": [
      "Cross Validation\n",
      "--------------------\n",
      "Best parameter:  {'criterion': 'gini', 'max_depth': 80, 'n_estimators': 22}\n",
      "Best CV score:  0.9714\n",
      "Accuracy Score: 69.04%\n",
      "_______________________________________________\n",
      "Classification Report:\tPrecision Score: 30.62%\n",
      "\t\t\tRecall Score: 95.61%\n",
      "\t\t\tF1 score: 46.38%\n",
      "_______________________________________________\n",
      "Confusion Matrix: \n",
      " [[453 247]\n",
      " [  5 109]]\n",
      "\n",
      "CPU times: user 1min 39s, sys: 1.69 s, total: 1min 40s\n",
      "Wall time: 1min 44s\n"
     ]
    }
   ],
   "source": [
    "%%time\n",
    "param_grid={'criterion': ['entropy','gini'],\n",
    "            'n_estimators': range(1,31),\n",
    "            'max_depth': range(10,110,10)\n",
    "            }\n",
    "\n",
    "grid_search = model_selection.GridSearchCV(estimator = RandomForestClassifier(), param_grid = param_grid, cv=3)\n",
    "grid_search.fit(X_res, y_res)\n",
    "\n",
    "print(\"Cross Validation\")\n",
    "print(\"-\" * 20)\n",
    "print(\"Best parameter: \", grid_search.best_params_)\n",
    "print(\"Best CV score:  %.4f\" % grid_search.best_score_)\n",
    "\n",
    "pred = grid_search.best_estimator_.predict(X_test)\n",
    "\n",
    "print(f\"Accuracy Score: {accuracy_score(y_test, pred) * 100:.2f}%\")\n",
    "print(\"_______________________________________________\")\n",
    "print(\"Classification Report:\", end='')\n",
    "print(f\"\\tPrecision Score: {precision_score(y_test, pred) * 100:.2f}%\")\n",
    "print(f\"\\t\\t\\tRecall Score: {recall_score(y_test, pred) * 100:.2f}%\")\n",
    "print(f\"\\t\\t\\tF1 score: {f1_score(y_test, pred) * 100:.2f}%\")\n",
    "print(\"_______________________________________________\")\n",
    "print(f\"Confusion Matrix: \\n {confusion_matrix(y_test, pred)}\\n\")"
   ]
  },
  {
   "cell_type": "markdown",
   "metadata": {},
   "source": [
    "# Gradient Boost"
   ]
  },
  {
   "cell_type": "markdown",
   "metadata": {},
   "source": [
    "## basic"
   ]
  },
  {
   "cell_type": "code",
   "execution_count": 45,
   "metadata": {},
   "outputs": [
    {
     "name": "stdout",
     "output_type": "stream",
     "text": [
      "Cross Validation\n",
      "--------------------\n",
      "Best parameter:  {'max_depth': 5, 'max_features': 17, 'min_samples_split': 80, 'n_estimators': 60}\n",
      "Best CV score:  0.9219\n",
      "Accuracy Score: 92.01%\n",
      "_______________________________________________\n",
      "Classification Report:\tPrecision Score: 72.07%\n",
      "\t\t\tRecall Score: 70.18%\n",
      "\t\t\tF1 score: 71.11%\n",
      "_______________________________________________\n",
      "Confusion Matrix: \n",
      " [[669  31]\n",
      " [ 34  80]]\n",
      "\n",
      "CPU times: user 3min 19s, sys: 2.7 s, total: 3min 22s\n",
      "Wall time: 3min 28s\n"
     ]
    }
   ],
   "source": [
    "%%time\n",
    "from sklearn.ensemble import GradientBoostingClassifier\n",
    "from sklearn.metrics import accuracy_score, confusion_matrix, precision_score, recall_score, f1_score\n",
    "\n",
    "param_grid={'n_estimators':range(20,81,20),\n",
    "            'max_depth':range(5,16,4),\n",
    "            'min_samples_split':range(20,100,30),\n",
    "            'max_features':range(7,20,5),\n",
    "            }\n",
    "\n",
    "grid_search = model_selection.GridSearchCV(estimator = GradientBoostingClassifier(), param_grid = param_grid, cv=3)\n",
    "grid_search.fit(X_train, y_train)\n",
    "\n",
    "print(\"Cross Validation\")\n",
    "print(\"-\" * 20)\n",
    "print(\"Best parameter: \", grid_search.best_params_)\n",
    "print(\"Best CV score:  %.4f\" % grid_search.best_score_)\n",
    "\n",
    "pred = grid_search.best_estimator_.predict(X_test)\n",
    "\n",
    "print(f\"Accuracy Score: {accuracy_score(y_test, pred) * 100:.2f}%\")\n",
    "print(\"_______________________________________________\")\n",
    "print(\"Classification Report:\", end='')\n",
    "print(f\"\\tPrecision Score: {precision_score(y_test, pred) * 100:.2f}%\")\n",
    "print(f\"\\t\\t\\tRecall Score: {recall_score(y_test, pred) * 100:.2f}%\")\n",
    "print(f\"\\t\\t\\tF1 score: {f1_score(y_test, pred) * 100:.2f}%\")\n",
    "print(\"_______________________________________________\")\n",
    "print(f\"Confusion Matrix: \\n {confusion_matrix(y_test, pred)}\\n\")"
   ]
  },
  {
   "cell_type": "markdown",
   "metadata": {},
   "source": [
    "## Undersampling using SMOTE¶"
   ]
  },
  {
   "cell_type": "code",
   "execution_count": 46,
   "metadata": {},
   "outputs": [],
   "source": [
    "from imblearn.over_sampling import SMOTE\n",
    "sm = SMOTE()\n",
    "X_res, y_res = sm.fit_resample(X_train, y_train)"
   ]
  },
  {
   "cell_type": "code",
   "execution_count": 47,
   "metadata": {},
   "outputs": [
    {
     "name": "stdout",
     "output_type": "stream",
     "text": [
      "Cross Validation\n",
      "--------------------\n",
      "Best parameter:  {'max_depth': 9, 'max_features': 7, 'min_samples_split': 20, 'n_estimators': 80}\n",
      "Best CV score:  0.9571\n",
      "Accuracy Score: 91.28%\n",
      "_______________________________________________\n",
      "Classification Report:\tPrecision Score: 66.17%\n",
      "\t\t\tRecall Score: 77.19%\n",
      "\t\t\tF1 score: 71.26%\n",
      "_______________________________________________\n",
      "Confusion Matrix: \n",
      " [[655  45]\n",
      " [ 26  88]]\n",
      "\n",
      "CPU times: user 7min 28s, sys: 9.4 s, total: 7min 37s\n",
      "Wall time: 9min 26s\n"
     ]
    }
   ],
   "source": [
    "%%time\n",
    "param_grid={'n_estimators':range(20,81,20),\n",
    "            'max_depth':range(5,16,4),\n",
    "            'min_samples_split':range(20,100,30),\n",
    "            'max_features':range(7,20,5),\n",
    "            }\n",
    "\n",
    "grid_search = model_selection.GridSearchCV(estimator = GradientBoostingClassifier(), param_grid = param_grid, cv=3)\n",
    "grid_search.fit(X_res, y_res)\n",
    "\n",
    "print(\"Cross Validation\")\n",
    "print(\"-\" * 20)\n",
    "print(\"Best parameter: \", grid_search.best_params_)\n",
    "print(\"Best CV score:  %.4f\" % grid_search.best_score_)\n",
    "\n",
    "pred = grid_search.best_estimator_.predict(X_test)\n",
    "\n",
    "print(f\"Accuracy Score: {accuracy_score(y_test, pred) * 100:.2f}%\")\n",
    "print(\"_______________________________________________\")\n",
    "print(\"Classification Report:\", end='')\n",
    "print(f\"\\tPrecision Score: {precision_score(y_test, pred) * 100:.2f}%\")\n",
    "print(f\"\\t\\t\\tRecall Score: {recall_score(y_test, pred) * 100:.2f}%\")\n",
    "print(f\"\\t\\t\\tF1 score: {f1_score(y_test, pred) * 100:.2f}%\")\n",
    "print(\"_______________________________________________\")\n",
    "print(f\"Confusion Matrix: \\n {confusion_matrix(y_test, pred)}\\n\")"
   ]
  },
  {
   "cell_type": "markdown",
   "metadata": {},
   "source": [
    "## Over sampling using Near Miss"
   ]
  },
  {
   "cell_type": "code",
   "execution_count": 48,
   "metadata": {},
   "outputs": [],
   "source": [
    "from imblearn.under_sampling import NearMiss\n",
    "nm = NearMiss()\n",
    "X_res, y_res = nm.fit_resample(X_train, y_train)"
   ]
  },
  {
   "cell_type": "code",
   "execution_count": 49,
   "metadata": {},
   "outputs": [
    {
     "name": "stdout",
     "output_type": "stream",
     "text": [
      "Cross Validation\n",
      "--------------------\n",
      "Best parameter:  {'max_depth': 13, 'max_features': 7, 'min_samples_split': 80, 'n_estimators': 60}\n",
      "Best CV score:  0.9747\n",
      "Accuracy Score: 64.86%\n",
      "_______________________________________________\n",
      "Classification Report:\tPrecision Score: 28.06%\n",
      "\t\t\tRecall Score: 96.49%\n",
      "\t\t\tF1 score: 43.48%\n",
      "_______________________________________________\n",
      "Confusion Matrix: \n",
      " [[418 282]\n",
      " [  4 110]]\n",
      "\n",
      "CPU times: user 1min 19s, sys: 844 ms, total: 1min 20s\n",
      "Wall time: 1min 32s\n"
     ]
    }
   ],
   "source": [
    "%%time\n",
    "param_grid={'n_estimators':range(20,81,20),\n",
    "            'max_depth':range(5,16,4),\n",
    "            'min_samples_split':range(20,100,30),\n",
    "            'max_features':range(7,20,5),\n",
    "            }\n",
    "\n",
    "grid_search = model_selection.GridSearchCV(estimator = GradientBoostingClassifier(), param_grid = param_grid, cv=3)\n",
    "grid_search.fit(X_res, y_res)\n",
    "\n",
    "print(\"Cross Validation\")\n",
    "print(\"-\" * 20)\n",
    "print(\"Best parameter: \", grid_search.best_params_)\n",
    "print(\"Best CV score:  %.4f\" % grid_search.best_score_)\n",
    "\n",
    "pred = grid_search.best_estimator_.predict(X_test)\n",
    "\n",
    "print(f\"Accuracy Score: {accuracy_score(y_test, pred) * 100:.2f}%\")\n",
    "print(\"_______________________________________________\")\n",
    "print(\"Classification Report:\", end='')\n",
    "print(f\"\\tPrecision Score: {precision_score(y_test, pred) * 100:.2f}%\")\n",
    "print(f\"\\t\\t\\tRecall Score: {recall_score(y_test, pred) * 100:.2f}%\")\n",
    "print(f\"\\t\\t\\tF1 score: {f1_score(y_test, pred) * 100:.2f}%\")\n",
    "print(\"_______________________________________________\")\n",
    "print(f\"Confusion Matrix: \\n {confusion_matrix(y_test, pred)}\\n\")"
   ]
  },
  {
   "cell_type": "markdown",
   "metadata": {},
   "source": [
    "### Try running with just creatinine items"
   ]
  },
  {
   "cell_type": "code",
   "execution_count": null,
   "metadata": {},
   "outputs": [],
   "source": []
  }
 ],
 "metadata": {
  "kernelspec": {
   "display_name": "Python 3",
   "language": "python",
   "name": "python3"
  },
  "language_info": {
   "codemirror_mode": {
    "name": "ipython",
    "version": 3
   },
   "file_extension": ".py",
   "mimetype": "text/x-python",
   "name": "python",
   "nbconvert_exporter": "python",
   "pygments_lexer": "ipython3",
   "version": "3.7.6"
  }
 },
 "nbformat": 4,
 "nbformat_minor": 4
}
