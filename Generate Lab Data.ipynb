{
 "cells": [
  {
   "cell_type": "code",
   "execution_count": 4,
   "metadata": {},
   "outputs": [],
   "source": [
    "import pandas as pd\n",
    "import numpy as np\n",
    "from sklearn.utils import resample\n",
    "import math"
   ]
  },
  {
   "cell_type": "code",
   "execution_count": 5,
   "metadata": {},
   "outputs": [],
   "source": [
    "d_labitems = pd.read_csv('./data/mimic-iv-0.4/hosp/d_labitems.csv.gz', compression='gzip')"
   ]
  },
  {
   "cell_type": "code",
   "execution_count": 6,
   "metadata": {},
   "outputs": [],
   "source": [
    "admissions_sample = pd.read_pickle(\"./data/admissions_sample.pkl\")"
   ]
  },
  {
   "cell_type": "markdown",
   "metadata": {},
   "source": [
    "## Pull Chart and Lab data only where it matches our sample patient list"
   ]
  },
  {
   "cell_type": "code",
   "execution_count": null,
   "metadata": {},
   "outputs": [],
   "source": [
    "# # We have Decided not to use Chart data after exploring it further\n",
    "# # However, it still comes up in our discussions, so keeping this for now\n",
    "# # Will need to update this code based on other updates we've made\n",
    "\n",
    "# %%time #run this for next time\n",
    "\n",
    "# chunksize = 3*(10 ** 6)\n",
    "# counter=0\n",
    "# chartevents_sample = []\n",
    "# for chunk in pd.read_csv('data/mimic-iv-0.4/icu/chartevents.csv.gz', compression='gzip', chunksize=chunksize):\n",
    "#     chartevents_sample.append(chunk[chunk['subject_id'].isin(list(admissions_sample.subject_id))])\n",
    "#     counter+=1\n",
    "#     print(f'chunk {counter} processed')\n",
    "\n",
    "# chartevents_final = pd.concat(chartevents_sample)\n",
    "\n"
   ]
  },
  {
   "cell_type": "code",
   "execution_count": null,
   "metadata": {},
   "outputs": [],
   "source": [
    "# chartevents_final.to_pickle(\"chartevents_final.pkl\")"
   ]
  },
  {
   "cell_type": "code",
   "execution_count": null,
   "metadata": {},
   "outputs": [],
   "source": [
    "# chartevents_final = pd.read_pickle(\"chartevents_final.pkl\")"
   ]
  },
  {
   "cell_type": "code",
   "execution_count": null,
   "metadata": {},
   "outputs": [],
   "source": [
    "# chartevents_final.shape"
   ]
  },
  {
   "cell_type": "markdown",
   "metadata": {},
   "source": [
    "Load Lab Events table"
   ]
  },
  {
   "cell_type": "code",
   "execution_count": 8,
   "metadata": {
    "collapsed": true
   },
   "outputs": [
    {
     "name": "stdout",
     "output_type": "stream",
     "text": [
      "chunk 1 processed\n",
      "chunk 2 processed\n",
      "chunk 3 processed\n"
     ]
    },
    {
     "name": "stderr",
     "output_type": "stream",
     "text": [
      "/Users/brandonryu/opt/anaconda3/lib/python3.7/site-packages/IPython/core/interactiveshell.py:3063: DtypeWarning: Columns (7,9,12) have mixed types.Specify dtype option on import or set low_memory=False.\n",
      "  interactivity=interactivity, compiler=compiler, result=result)\n"
     ]
    },
    {
     "name": "stdout",
     "output_type": "stream",
     "text": [
      "chunk 4 processed\n",
      "chunk 5 processed\n",
      "chunk 6 processed\n",
      "chunk 7 processed\n",
      "chunk 8 processed\n",
      "chunk 9 processed\n"
     ]
    },
    {
     "name": "stderr",
     "output_type": "stream",
     "text": [
      "/Users/brandonryu/opt/anaconda3/lib/python3.7/site-packages/IPython/core/interactiveshell.py:3063: DtypeWarning: Columns (9,12) have mixed types.Specify dtype option on import or set low_memory=False.\n",
      "  interactivity=interactivity, compiler=compiler, result=result)\n"
     ]
    },
    {
     "name": "stdout",
     "output_type": "stream",
     "text": [
      "chunk 10 processed\n"
     ]
    },
    {
     "name": "stderr",
     "output_type": "stream",
     "text": [
      "/Users/brandonryu/opt/anaconda3/lib/python3.7/site-packages/IPython/core/interactiveshell.py:3063: DtypeWarning: Columns (12) have mixed types.Specify dtype option on import or set low_memory=False.\n",
      "  interactivity=interactivity, compiler=compiler, result=result)\n"
     ]
    },
    {
     "name": "stdout",
     "output_type": "stream",
     "text": [
      "chunk 11 processed\n",
      "chunk 12 processed\n",
      "chunk 13 processed\n",
      "chunk 14 processed\n",
      "chunk 15 processed\n"
     ]
    },
    {
     "name": "stderr",
     "output_type": "stream",
     "text": [
      "/Users/brandonryu/opt/anaconda3/lib/python3.7/site-packages/IPython/core/interactiveshell.py:3063: DtypeWarning: Columns (7) have mixed types.Specify dtype option on import or set low_memory=False.\n",
      "  interactivity=interactivity, compiler=compiler, result=result)\n"
     ]
    },
    {
     "name": "stdout",
     "output_type": "stream",
     "text": [
      "chunk 16 processed\n",
      "chunk 17 processed\n",
      "chunk 18 processed\n",
      "chunk 19 processed\n",
      "chunk 20 processed\n",
      "chunk 21 processed\n",
      "chunk 22 processed\n",
      "chunk 23 processed\n"
     ]
    },
    {
     "name": "stderr",
     "output_type": "stream",
     "text": [
      "/Users/brandonryu/opt/anaconda3/lib/python3.7/site-packages/IPython/core/interactiveshell.py:3063: DtypeWarning: Columns (7,9) have mixed types.Specify dtype option on import or set low_memory=False.\n",
      "  interactivity=interactivity, compiler=compiler, result=result)\n"
     ]
    },
    {
     "name": "stdout",
     "output_type": "stream",
     "text": [
      "chunk 24 processed\n",
      "chunk 25 processed\n",
      "chunk 26 processed\n",
      "chunk 27 processed\n",
      "chunk 28 processed\n",
      "chunk 29 processed\n",
      "chunk 30 processed\n",
      "chunk 31 processed\n",
      "chunk 32 processed\n",
      "chunk 33 processed\n",
      "chunk 34 processed\n",
      "chunk 35 processed\n",
      "chunk 36 processed\n",
      "chunk 37 processed\n",
      "chunk 38 processed\n",
      "chunk 39 processed\n",
      "chunk 40 processed\n",
      "chunk 41 processed\n"
     ]
    }
   ],
   "source": [
    "# %%time\n",
    "\n",
    "# chunksize = 3*(10 ** 6)\n",
    "# counter=0\n",
    "# lab_events_sample = []\n",
    "# for chunk in pd.read_csv('data/mimic-iv-0.4/hosp/labevents.csv.gz', compression='gzip', chunksize=chunksize):\n",
    "#     lab_events_sample.append(chunk[chunk['subject_id'].isin(list(admissions_sample.subject_id))])\n",
    "#     counter+=1\n",
    "#     print(f'chunk {counter} processed')\n",
    "\n",
    "# lab_events_final = pd.concat(lab_events_sample)\n",
    "# # 5k patients\n",
    "# # 3min 52s\n",
    "\n",
    "# # 10k patients\n",
    "# # 4min 6s\n",
    "\n",
    "# # 15k patients\n",
    "# # 4min 27s\n",
    "\n"
   ]
  },
  {
   "cell_type": "code",
   "execution_count": 11,
   "metadata": {},
   "outputs": [],
   "source": [
    "# lab_events_final.to_pickle(\"./data/lab_events_final.pkl\")"
   ]
  },
  {
   "cell_type": "code",
   "execution_count": 12,
   "metadata": {},
   "outputs": [],
   "source": [
    "lab_events_final = pd.read_pickle(\"./data/lab_events_final.pkl\")"
   ]
  },
  {
   "cell_type": "code",
   "execution_count": 13,
   "metadata": {},
   "outputs": [
    {
     "data": {
      "text/plain": [
       "(6765210, 15)"
      ]
     },
     "execution_count": 13,
     "metadata": {},
     "output_type": "execute_result"
    }
   ],
   "source": [
    "lab_events_final.shape"
   ]
  },
  {
   "cell_type": "markdown",
   "metadata": {},
   "source": [
    "## Manipulating the Data"
   ]
  },
  {
   "cell_type": "markdown",
   "metadata": {},
   "source": [
    "Take only records related to our sample patients"
   ]
  },
  {
   "cell_type": "markdown",
   "metadata": {},
   "source": [
    "Filter lab events based on first hospital visit of our sample population"
   ]
  },
  {
   "cell_type": "code",
   "execution_count": 14,
   "metadata": {},
   "outputs": [
    {
     "name": "stdout",
     "output_type": "stream",
     "text": [
      "CPU times: user 2.34 s, sys: 1.74 s, total: 4.08 s\n",
      "Wall time: 5.25 s\n"
     ]
    }
   ],
   "source": [
    "# Can we do this filtering when generating lab data?\n",
    "# For now let's not as we're discussing using different hospitalizations from the same subjects\n",
    "\n",
    "%time lab_events_sampled = lab_events_final[lab_events_final['hadm_id'].isin(admissions_sample.hadm_id)]\n"
   ]
  },
  {
   "cell_type": "markdown",
   "metadata": {},
   "source": [
    "Check how many patients have had each test done"
   ]
  },
  {
   "cell_type": "code",
   "execution_count": 15,
   "metadata": {},
   "outputs": [
    {
     "data": {
      "text/plain": [
       "itemid\n",
       "51221    8433\n",
       "51265    8297\n",
       "51222    8236\n",
       "51301    8235\n",
       "51248    8229\n",
       "51279    8229\n",
       "51277    8229\n",
       "51250    8229\n",
       "51249    8229\n",
       "50912    7985\n",
       "Name: subject_id, dtype: int64"
      ]
     },
     "execution_count": 15,
     "metadata": {},
     "output_type": "execute_result"
    }
   ],
   "source": [
    "lab_events_sampled.groupby('itemid')['subject_id'].nunique().sort_values(ascending = False).head(10)"
   ]
  },
  {
   "cell_type": "markdown",
   "metadata": {},
   "source": [
    "Most common tests performed on patients with pos diagnosis"
   ]
  },
  {
   "cell_type": "code",
   "execution_count": 16,
   "metadata": {},
   "outputs": [
    {
     "data": {
      "text/plain": [
       "itemid\n",
       "50971    1196\n",
       "50983    1193\n",
       "50912    1192\n",
       "50902    1191\n",
       "51006    1191\n",
       "51221    1181\n",
       "51265    1181\n",
       "50868    1180\n",
       "50882    1180\n",
       "50931    1174\n",
       "Name: subject_id, dtype: int64"
      ]
     },
     "execution_count": 16,
     "metadata": {},
     "output_type": "execute_result"
    }
   ],
   "source": [
    "lab_events_sampled[lab_events_sampled['subject_id'].isin(list(admissions_sample[admissions_sample['pos'] == 1].subject_id))].groupby('itemid')['subject_id'].nunique().sort_values(ascending = False).head(10)\n"
   ]
  },
  {
   "cell_type": "markdown",
   "metadata": {},
   "source": [
    "Item Black List"
   ]
  },
  {
   "cell_type": "code",
   "execution_count": 17,
   "metadata": {},
   "outputs": [],
   "source": [
    "item_black_list = [50920]\n",
    "# 50920 - test results are text in comments - need to come back and figure out how to handle this\n"
   ]
  },
  {
   "cell_type": "markdown",
   "metadata": {},
   "source": [
    "Take only the X most commonly performed tests"
   ]
  },
  {
   "cell_type": "code",
   "execution_count": 18,
   "metadata": {},
   "outputs": [],
   "source": [
    "top_test_num = 17\n",
    "\n",
    "lab_events_valid = lab_events_sampled[~lab_events_sampled['itemid'].isin(item_black_list)]\n",
    "\n",
    "# On patients with pos diagnosis\n",
    "itemid_sub_sample = lab_events_valid[lab_events_valid['subject_id'].isin(list(admissions_sample[admissions_sample['pos'] == 1].subject_id))].groupby('itemid')['subject_id'].nunique().sort_values(ascending = False).head(top_test_num).reset_index().rename(columns = {'index' : 'itemid'}).itemid.to_list()\n",
    "# On all sample patients\n",
    "# itemid_sub_sample = lab_events_sampled.groupby('itemid')['subject_id'].nunique().sort_values(ascending = False).head(top_test_num).reset_index().rename(columns = {'index' : 'itemid'}).itemid.to_list()\n",
    "\n",
    "lab_events_sampled_sub = lab_events_sampled[lab_events_sampled['itemid'].isin(itemid_sub_sample)]\n"
   ]
  },
  {
   "cell_type": "code",
   "execution_count": 19,
   "metadata": {},
   "outputs": [],
   "source": [
    "# print(lab_events_valid[lab_events_valid['subject_id'].isin(list(admissions_sample[admissions_sample['pos'] == 1].subject_id))].groupby('itemid')['subject_id'].nunique().sort_values(ascending = False).head(20).reset_index().rename(columns = {'index' : 'itemid'}))\n",
    "\n",
    "# print(1191 / admissions_sample[admissions_sample['pos'] == 1].subject_id.nunique())\n",
    "# print(1192 / admissions_sample[admissions_sample['pos'] == 1].subject_id.nunique())\n"
   ]
  },
  {
   "cell_type": "code",
   "execution_count": 20,
   "metadata": {
    "scrolled": false
   },
   "outputs": [],
   "source": [
    "# print(lab_events_valid[lab_events_valid['subject_id'].isin(list(admissions_sample[admissions_sample['pos'] == 0].subject_id))].groupby('itemid')['subject_id'].nunique().sort_values(ascending = False).head(20).reset_index().rename(columns = {'index' : 'itemid'}))\n",
    "\n",
    "# print(6726 / admissions_sample[admissions_sample['pos'] == 0].subject_id.nunique())\n",
    "# print(6793 / admissions_sample[admissions_sample['pos'] == 0].subject_id.nunique())\n"
   ]
  },
  {
   "cell_type": "markdown",
   "metadata": {},
   "source": [
    "## Data Cleaning"
   ]
  },
  {
   "cell_type": "markdown",
   "metadata": {},
   "source": [
    "Make a separate table where we run some of the forest models on the Text data?"
   ]
  },
  {
   "cell_type": "markdown",
   "metadata": {},
   "source": [
    "Special updates for Urine sample tests"
   ]
  },
  {
   "cell_type": "code",
   "execution_count": 21,
   "metadata": {},
   "outputs": [
    {
     "name": "stderr",
     "output_type": "stream",
     "text": [
      "/Users/brandonryu/opt/anaconda3/lib/python3.7/site-packages/pandas/core/indexing.py:965: SettingWithCopyWarning: \n",
      "A value is trying to be set on a copy of a slice from a DataFrame.\n",
      "Try using .loc[row_indexer,col_indexer] = value instead\n",
      "\n",
      "See the caveats in the documentation: https://pandas.pydata.org/pandas-docs/stable/user_guide/indexing.html#returning-a-view-versus-a-copy\n",
      "  self.obj[item] = s\n"
     ]
    }
   ],
   "source": [
    "# Other invalid value imputation\n",
    "# For now set them all to normal/most common value\n",
    "lab_events_sampled_sub.loc[(lab_events_sampled_sub['itemid'] == 51237) & (lab_events_sampled_sub['value'].isin([np.nan, 'ERROR', 'UNABLE TO REPORT'])), ['value', 'valuenum']] = 1.1\n",
    "lab_events_sampled_sub.loc[(lab_events_sampled_sub['itemid'] == 51237) & (lab_events_sampled_sub['value'].isin(['>21.8'])), ['value', 'valuenum']] = 22\n",
    "lab_events_sampled_sub.loc[(lab_events_sampled_sub['itemid'] == 51237) & (lab_events_sampled_sub['value'].isin(['>19.2'])), ['value', 'valuenum']] = 20\n",
    "\n",
    "lab_events_sampled_sub.loc[(lab_events_sampled_sub['itemid'] == 51275) &  (lab_events_sampled_sub['value'].isin(['>150', '>150.0'])), ['value', 'valuenum']] = 175\n",
    "\n",
    "# Should we just delete these?\n",
    "# For 5k patients there are 6 records here\n",
    "lab_events_sampled_sub.loc[(lab_events_sampled_sub['itemid'] == 51274) &  (lab_events_sampled_sub['value'].isin(['ERROR'])), ['value', 'valuenum']] = 11\n",
    "\n",
    "# Should we just delete these?\n",
    "# For 5k patients there are 1 records here\n",
    "lab_events_sampled_sub.loc[(lab_events_sampled_sub['itemid'] == 51275) &  (lab_events_sampled_sub['value'].isin(['UNABLE TO REPORT'])), ['value', 'valuenum']] = 31\n",
    "\n",
    "# Clumsy..\n",
    "lab_events_sampled_sub.loc[(lab_events_sampled_sub['itemid'] == 51275) &  (lab_events_sampled_sub['value'].isin(['34..3'])), ['value', 'valuenum']] = 34.3\n"
   ]
  },
  {
   "cell_type": "markdown",
   "metadata": {},
   "source": [
    "More Data Cleaning"
   ]
  },
  {
   "cell_type": "code",
   "execution_count": 22,
   "metadata": {},
   "outputs": [
    {
     "name": "stdout",
     "output_type": "stream",
     "text": [
      "CPU times: user 4.59 s, sys: 218 ms, total: 4.81 s\n",
      "Wall time: 5.71 s\n"
     ]
    }
   ],
   "source": [
    "%%time\n",
    "\n",
    "# Can probably make a helper function combining some of the below mapping\n",
    "\n",
    "# 51466\n",
    "lab_events_sampled_sub.loc[(lab_events_sampled_sub['itemid'] == 51466) & (lab_events_sampled_sub['value'].isin([np.nan])), ['value']] = lab_events_sampled_sub['comments']\n",
    "lab_events_sampled_sub.loc[(lab_events_sampled_sub['itemid'] == 51466) & (lab_events_sampled_sub['value'].isin(['NEG.  ', 'NEG', ' '])), ['value', 'valuenum']] = 0\n",
    "lab_events_sampled_sub.loc[(lab_events_sampled_sub['itemid'] == 51466) & (lab_events_sampled_sub['value'].isin(['TR', 'TR.  ', 'TR*.  '])), ['value', 'valuenum']] = 1\n",
    "lab_events_sampled_sub.loc[(lab_events_sampled_sub['itemid'] == 51466) & (lab_events_sampled_sub['value'].isin(['SM', 'SM .  ', 'SM*.  '])), ['value', 'valuenum']] = 2\n",
    "lab_events_sampled_sub.loc[(lab_events_sampled_sub['itemid'] == 51466) & (lab_events_sampled_sub['value'].isin(['MOD', 'MOD.  ', 'MOD*.  '])), ['value', 'valuenum']] = 3\n",
    "lab_events_sampled_sub.loc[(lab_events_sampled_sub['itemid'] == 51466) & (lab_events_sampled_sub['value'].isin(['LG', 'LG.  ', 'LG*.  ', 'LGE', 'LRG'])), ['value', 'valuenum']] = 4\n",
    "\n",
    "lab_events_sampled_sub.loc[(lab_events_sampled_sub['itemid'] == 51466) & (lab_events_sampled_sub['ref_range_lower'].isnull()), 'ref_range_lower'] = 0\n",
    "lab_events_sampled_sub.loc[(lab_events_sampled_sub['itemid'] == 51466) & (lab_events_sampled_sub['ref_range_upper'].isnull()), 'ref_range_upper'] = 0\n",
    "\n",
    "# 51514\n",
    "lab_events_sampled_sub.loc[(lab_events_sampled_sub['itemid'] == 51514) & (lab_events_sampled_sub['value'].isin([np.nan])), ['value']] = lab_events_sampled_sub['comments']\n",
    "lab_events_sampled_sub.loc[(lab_events_sampled_sub['itemid'] == 51514) & (lab_events_sampled_sub['value'].isin(['NEG.  ', 'NEG', 'NORMAL.  ', ' '])), ['value', 'valuenum']] = 0\n",
    "lab_events_sampled_sub.loc[(lab_events_sampled_sub['itemid'] == 51514) & (lab_events_sampled_sub['value'].isin(['>8'])), ['value', 'valuenum']] = 10\n",
    "lab_events_sampled_sub.loc[(lab_events_sampled_sub['itemid'] == 51514) & (lab_events_sampled_sub['value'].isin(['>12.  ', '>12*.  '])), ['value', 'valuenum']] = 15\n",
    "\n",
    "# 51464\n",
    "lab_events_sampled_sub.loc[(lab_events_sampled_sub['itemid'] == 51464) & (lab_events_sampled_sub['value'].isin([np.nan])), ['value']] = lab_events_sampled_sub['comments']\n",
    "lab_events_sampled_sub.loc[(lab_events_sampled_sub['itemid'] == 51464) & (lab_events_sampled_sub['value'].isin(['NEG.  ', 'NEG', ' '])), ['value', 'valuenum']] = 0\n",
    "lab_events_sampled_sub.loc[(lab_events_sampled_sub['itemid'] == 51464) & (lab_events_sampled_sub['value'].isin(['SM', 'SM .  ', 'SM*.  '])), ['value', 'valuenum']] = 1\n",
    "lab_events_sampled_sub.loc[(lab_events_sampled_sub['itemid'] == 51464) & (lab_events_sampled_sub['value'].isin(['MOD', 'MOD.  ', 'MOD*.  '])), ['value', 'valuenum']] = 2\n",
    "lab_events_sampled_sub.loc[(lab_events_sampled_sub['itemid'] == 51464) & (lab_events_sampled_sub['value'].isin(['LG', 'LG.  ', 'LG*.  ', 'LGE'])), ['value', 'valuenum']] = 3\n",
    "\n",
    "lab_events_sampled_sub.loc[(lab_events_sampled_sub['itemid'] == 51464) & (lab_events_sampled_sub['ref_range_lower'].isnull()), 'ref_range_lower'] = 0\n",
    "lab_events_sampled_sub.loc[(lab_events_sampled_sub['itemid'] == 51464) & (lab_events_sampled_sub['ref_range_upper'].isnull()), 'ref_range_upper'] = 0\n",
    "\n",
    "# 51487\n",
    "# Should Pos be marked abnormal?\n",
    "lab_events_sampled_sub.loc[(lab_events_sampled_sub['itemid'] == 51487) & (lab_events_sampled_sub['value'].isin([np.nan])), ['value']] = lab_events_sampled_sub['comments']\n",
    "lab_events_sampled_sub.loc[(lab_events_sampled_sub['itemid'] == 51487) & (lab_events_sampled_sub['value'].isin(['NEG.  ', 'NEG', ' '])), ['value', 'valuenum']] = 0\n",
    "lab_events_sampled_sub.loc[(lab_events_sampled_sub['itemid'] == 51487) & (lab_events_sampled_sub['value'].isin(['POS.  ', 'POS', 'POS*.  '])), ['value', 'valuenum']] = 1\n",
    "\n",
    "lab_events_sampled_sub.loc[(lab_events_sampled_sub['itemid'] == 51487) & (lab_events_sampled_sub['ref_range_lower'].isnull()), 'ref_range_lower'] = 0\n",
    "lab_events_sampled_sub.loc[(lab_events_sampled_sub['itemid'] == 51487) & (lab_events_sampled_sub['ref_range_upper'].isnull()), 'ref_range_upper'] = 0\n",
    "\n",
    "# 51492\n",
    "# Should Pos be marked abnormal?\n",
    "lab_events_sampled_sub.loc[(lab_events_sampled_sub['itemid'] == 51492) & (lab_events_sampled_sub['value'].isin([np.nan])), ['value']] = lab_events_sampled_sub['comments']\n",
    "lab_events_sampled_sub.loc[(lab_events_sampled_sub['itemid'] == 51492) & (lab_events_sampled_sub['value'].isin(['___'])), ['value', 'valuenum']] = np.nan\n",
    "lab_events_sampled_sub.loc[(lab_events_sampled_sub['itemid'] == 51492) & (lab_events_sampled_sub['value'].isin(['NEG.  ', 'NEG', ' '])), ['value', 'valuenum']] = 0\n",
    "lab_events_sampled_sub.loc[(lab_events_sampled_sub['itemid'] == 51492) & (lab_events_sampled_sub['value'].isin(['TR', 'TR.  ', 'TR*.  '])), ['value', 'valuenum']] = 10\n",
    "lab_events_sampled_sub.loc[(lab_events_sampled_sub['itemid'] == 51492) & (lab_events_sampled_sub['value'].str.contains('TR.')), ['value', 'valuenum']] = 10\n",
    "lab_events_sampled_sub.loc[(lab_events_sampled_sub['itemid'] == 51492) & (lab_events_sampled_sub['value'].isin(['>300'])), ['value', 'valuenum']] = 350\n",
    "lab_events_sampled_sub.loc[(lab_events_sampled_sub['itemid'] == 51492) & (lab_events_sampled_sub['value'].isin(['>600.  ', '>600*.  '])), ['value', 'valuenum']] = 700\n",
    "\n",
    "lab_events_sampled_sub.loc[(lab_events_sampled_sub['itemid'] == 51492) & (lab_events_sampled_sub['ref_range_lower'].isnull()), 'ref_range_lower'] = 0\n",
    "lab_events_sampled_sub.loc[(lab_events_sampled_sub['itemid'] == 51492) & (lab_events_sampled_sub['ref_range_upper'].isnull()), 'ref_range_upper'] = 0\n",
    "\n",
    "# 51486\n",
    "lab_events_sampled_sub.loc[(lab_events_sampled_sub['itemid'] == 51486) & (lab_events_sampled_sub['value'].isin([np.nan])), ['value']] = lab_events_sampled_sub['comments']\n",
    "lab_events_sampled_sub.loc[(lab_events_sampled_sub['itemid'] == 51486) & (lab_events_sampled_sub['value'].isin(['NEG.  ', 'NEG', ' ', 'N'])), ['value', 'valuenum']] = 0\n",
    "lab_events_sampled_sub.loc[(lab_events_sampled_sub['itemid'] == 51486) & (lab_events_sampled_sub['value'].isin(['TR', 'TR.  ', 'TR*.  '])), ['value', 'valuenum']] = 1\n",
    "lab_events_sampled_sub.loc[(lab_events_sampled_sub['itemid'] == 51486) & (lab_events_sampled_sub['value'].isin(['SM', 'SM .  ', 'SM*.  '])), ['value', 'valuenum']] = 2\n",
    "lab_events_sampled_sub.loc[(lab_events_sampled_sub['itemid'] == 51486) & (lab_events_sampled_sub['value'].isin(['MOD', 'MOD.  ', 'MOD*.  '])), ['value', 'valuenum']] = 3\n",
    "lab_events_sampled_sub.loc[(lab_events_sampled_sub['itemid'] == 51486) & (lab_events_sampled_sub['value'].isin(['LG', 'LG.  ', 'LG*.  ', 'LGE'])), ['value', 'valuenum']] = 4\n",
    "\n",
    "lab_events_sampled_sub.loc[(lab_events_sampled_sub['itemid'] == 51486) & (lab_events_sampled_sub['ref_range_lower'].isnull()), 'ref_range_lower'] = 0\n",
    "lab_events_sampled_sub.loc[(lab_events_sampled_sub['itemid'] == 51486) & (lab_events_sampled_sub['ref_range_upper'].isnull()), 'ref_range_upper'] = 0\n",
    "\n",
    "# 51506\n",
    "lab_events_sampled_sub.loc[(lab_events_sampled_sub['itemid'] == 51506) & (lab_events_sampled_sub['value'].isin([np.nan])), ['value']] = lab_events_sampled_sub['comments']\n",
    "lab_events_sampled_sub.loc[(lab_events_sampled_sub['itemid'] == 51506) & (lab_events_sampled_sub['value'].isin(['Clear.  ', 'CLEAR.  ', 'Clear', ' ', 'CLEAR'])), ['value', 'valuenum']] = 0\n",
    "lab_events_sampled_sub.loc[(lab_events_sampled_sub['itemid'] == 51506) & (lab_events_sampled_sub['value'].isin(['SlHazy'])), ['value', 'valuenum']] = 0.5\n",
    "lab_events_sampled_sub.loc[(lab_events_sampled_sub['itemid'] == 51506) & (lab_events_sampled_sub['value'].isin(['Hazy.  ', 'Hazy*.  ', 'Hazy', 'HAZY', 'HAZY*.  ', 'Slcldy', 'SLCLOUDY'])), ['value', 'valuenum']] = 1\n",
    "lab_events_sampled_sub.loc[(lab_events_sampled_sub['itemid'] == 51506) & (lab_events_sampled_sub['value'].isin(['Cloudy*.  ', 'Cloudy.  ', 'Cloudy', 'CLO', 'CLOUDY', 'CLOU', 'CLOUDY*.  '])), ['value', 'valuenum']] = 2\n",
    "\n",
    "lab_events_sampled_sub.loc[(lab_events_sampled_sub['itemid'] == 51506) & (lab_events_sampled_sub['ref_range_lower'].isnull()), 'ref_range_lower'] = 0\n",
    "lab_events_sampled_sub.loc[(lab_events_sampled_sub['itemid'] == 51506) & (lab_events_sampled_sub['ref_range_upper'].isnull()), 'ref_range_upper'] = 0\n"
   ]
  },
  {
   "cell_type": "markdown",
   "metadata": {},
   "source": [
    "Additional Data Cleaning"
   ]
  },
  {
   "cell_type": "code",
   "execution_count": 23,
   "metadata": {},
   "outputs": [],
   "source": [
    "lab_events_sampled_sub.loc[(lab_events_sampled_sub['itemid'] == 51484) & (lab_events_sampled_sub['value'].isin([np.nan, ' ', 'TR', 'NEG'])), ['value', 'valuenum']] = 0\n",
    "lab_events_sampled_sub.loc[(lab_events_sampled_sub['itemid'] == 51478) & (lab_events_sampled_sub['value'].isin([np.nan, ' ', 'TR', 'NEG'])), ['value', 'valuenum']] = 0\n",
    "\n",
    "lab_events_sampled_sub.loc[(lab_events_sampled_sub['itemid'] == 51484) & (lab_events_sampled_sub['ref_range_lower'].isnull()), 'ref_range_lower'] = 0\n",
    "lab_events_sampled_sub.loc[(lab_events_sampled_sub['itemid'] == 51478) & (lab_events_sampled_sub['ref_range_lower'].isnull()), 'ref_range_lower'] = 0\n",
    "\n",
    "lab_events_sampled_sub.loc[(lab_events_sampled_sub['itemid'] == 51484) & (lab_events_sampled_sub['ref_range_upper'].isnull()), 'ref_range_upper'] = 0\n",
    "lab_events_sampled_sub.loc[(lab_events_sampled_sub['itemid'] == 51478) & (lab_events_sampled_sub['ref_range_upper'].isnull()), 'ref_range_upper'] = 0\n",
    "\n",
    "# What are good replacement values for these?\n",
    "lab_events_sampled_sub.loc[(lab_events_sampled_sub['itemid'] == 51484) & (lab_events_sampled_sub['value'].isin(['>80'])), ['value', 'valuenum']] = 120\n",
    "lab_events_sampled_sub.loc[(lab_events_sampled_sub['itemid'] == 51478) & (lab_events_sampled_sub['value'].isin(['>1000'])), ['value', 'valuenum']] = 1250\n",
    "\n",
    "lab_events_sampled_sub.loc[(lab_events_sampled_sub['itemid'] == 51498) & (lab_events_sampled_sub['value'].isin(['<1.005'])), ['value', 'valuenum']] = 1.000\n",
    "lab_events_sampled_sub.loc[(lab_events_sampled_sub['itemid'] == 51498) & (lab_events_sampled_sub['value'].isin(['<=1.005'])), ['value', 'valuenum']] = 1.000\n",
    "lab_events_sampled_sub.loc[(lab_events_sampled_sub['itemid'] == 51498) & (lab_events_sampled_sub['value'].isin(['>1.030', '.1.030'])), ['value', 'valuenum']] = 1.035\n",
    "lab_events_sampled_sub.loc[(lab_events_sampled_sub['itemid'] == 51498) & (lab_events_sampled_sub['value'].isin(['>1.035'])), ['value', 'valuenum']] = 1.040\n",
    "lab_events_sampled_sub.loc[(lab_events_sampled_sub['itemid'] == 51498) & (lab_events_sampled_sub['value'].isin(['>1.050'])), ['value', 'valuenum']] = 1.055\n",
    "lab_events_sampled_sub.loc[(lab_events_sampled_sub['itemid'] == 51498) & (lab_events_sampled_sub['comments'].isin(['>1.050*.'])), ['value', 'valuenum']] = 1.055\n",
    "lab_events_sampled_sub.loc[(lab_events_sampled_sub['itemid'] == 51498) & (lab_events_sampled_sub['value'].isin(['>=1.035'])), ['value', 'valuenum']] = 1.040\n",
    "lab_events_sampled_sub.loc[(lab_events_sampled_sub['itemid'] == 51498) & (lab_events_sampled_sub['value'].isin([' '])), ['value', 'valuenum']] = 1.015\n",
    "\n",
    "lab_events_sampled_sub.loc[(lab_events_sampled_sub['itemid'] == 51237) & (lab_events_sampled_sub['value'].isin(['>13.4'])), ['value', 'valuenum']] = 15\n",
    "\n",
    "lab_events_sampled_sub.loc[(lab_events_sampled_sub['itemid'] == 51491) & (lab_events_sampled_sub['value'].isin([' '])), ['value', 'valuenum']] = 6.0\n",
    "\n",
    "lab_events_sampled_sub.loc[(lab_events_sampled_sub['itemid'] == 51498) & (lab_events_sampled_sub['value'].isin(['>1.070'])), ['value', 'valuenum']] = 1.080\n",
    "\n",
    "lab_events_sampled_sub.loc[(lab_events_sampled_sub['itemid'] == 51275) & (lab_events_sampled_sub['value'].isin(['ERROR'])), ['value', 'valuenum']] = np.nan\n",
    "\n",
    "lab_events_sampled_sub.loc[(lab_events_sampled_sub['itemid'] == 51484) & (lab_events_sampled_sub['value'].astype(float) > 0), 'flag'] = 'abnormal'\n",
    "lab_events_sampled_sub.loc[(lab_events_sampled_sub['itemid'] == 51478) & (lab_events_sampled_sub['value'].astype(float) > 0), 'flag'] = 'abnormal'\n",
    "\n",
    "lab_events_sampled_sub.loc[(lab_events_sampled_sub['itemid'] == 51466) & (lab_events_sampled_sub['value'].astype(float) > 0), 'flag'] = 'abnormal'\n"
   ]
  },
  {
   "cell_type": "code",
   "execution_count": 24,
   "metadata": {},
   "outputs": [
    {
     "data": {
      "text/html": [
       "<div>\n",
       "<style scoped>\n",
       "    .dataframe tbody tr th:only-of-type {\n",
       "        vertical-align: middle;\n",
       "    }\n",
       "\n",
       "    .dataframe tbody tr th {\n",
       "        vertical-align: top;\n",
       "    }\n",
       "\n",
       "    .dataframe thead th {\n",
       "        text-align: right;\n",
       "    }\n",
       "</style>\n",
       "<table border=\"1\" class=\"dataframe\">\n",
       "  <thead>\n",
       "    <tr style=\"text-align: right;\">\n",
       "      <th></th>\n",
       "      <th>labevent_id</th>\n",
       "      <th>subject_id</th>\n",
       "      <th>hadm_id</th>\n",
       "      <th>specimen_id</th>\n",
       "      <th>itemid</th>\n",
       "      <th>charttime</th>\n",
       "      <th>storetime</th>\n",
       "      <th>value</th>\n",
       "      <th>valuenum</th>\n",
       "      <th>valueuom</th>\n",
       "      <th>ref_range_lower</th>\n",
       "      <th>ref_range_upper</th>\n",
       "      <th>flag</th>\n",
       "      <th>priority</th>\n",
       "      <th>comments</th>\n",
       "    </tr>\n",
       "  </thead>\n",
       "  <tbody>\n",
       "  </tbody>\n",
       "</table>\n",
       "</div>"
      ],
      "text/plain": [
       "Empty DataFrame\n",
       "Columns: [labevent_id, subject_id, hadm_id, specimen_id, itemid, charttime, storetime, value, valuenum, valueuom, ref_range_lower, ref_range_upper, flag, priority, comments]\n",
       "Index: []"
      ]
     },
     "execution_count": 24,
     "metadata": {},
     "output_type": "execute_result"
    }
   ],
   "source": [
    "# Check on differences between value and valuenum columns\n",
    "\n",
    "lab_events_sampled_sub.loc[((lab_events_sampled_sub['value'].astype(str) + str('.0')) != lab_events_sampled_sub['valuenum'].astype(str)) \n",
    "                           & ((lab_events_sampled_sub['value'].astype(str) + str('0')) != lab_events_sampled_sub['valuenum'].astype(str)) \n",
    "                           & ((lab_events_sampled_sub['value'].astype(str)) != lab_events_sampled_sub['valuenum'].astype(str)) \n",
    "                           & ((lab_events_sampled_sub['value'].astype(str)) != lab_events_sampled_sub['valuenum'].astype(str) + str('0')) \n",
    "                           & ((str('0') + lab_events_sampled_sub['value'].astype(str)) != lab_events_sampled_sub['valuenum'].astype(str))\n",
    "                           & ((lab_events_sampled_sub['value'].astype(str)) != round(lab_events_sampled_sub['valuenum'], 10).astype(str)), ]\n"
   ]
  },
  {
   "cell_type": "markdown",
   "metadata": {},
   "source": [
    "## Code to look into specific test values for cleaning"
   ]
  },
  {
   "cell_type": "code",
   "execution_count": null,
   "metadata": {},
   "outputs": [],
   "source": [
    "# lab_events_sampled_sub[lab_events_sampled_sub['value'] == 'N']"
   ]
  },
  {
   "cell_type": "code",
   "execution_count": null,
   "metadata": {},
   "outputs": [],
   "source": [
    "# # Used to investigate bad data\n",
    "# pd.set_option('display.max_rows', 200)\n",
    "\n",
    "# bad_id = 51486\n",
    "\n",
    "# # lab_events_sampled_sub[lab_events_sampled_sub['itemid'] == bad_id].value.value_counts().reset_index().sort_values(by = 'index')\n",
    "# # lab_events_sampled_sub[lab_events_sampled_sub['itemid'] == bad_id][['value', 'comments']].drop_duplicates()\n",
    "# lab_events_sampled_sub[lab_events_sampled_sub['itemid'] == bad_id][['flag', 'comments', 'value', 'valuenum', 'ref_range_lower', 'ref_range_upper']].drop_duplicates()\n",
    "# # lab_events_sampled_sub.loc[(lab_events_sampled_sub['itemid'] == bad_id) & (lab_events_sampled_sub['value'].isnull()), ][['value', 'valuenum', 'comments']].drop_duplicates()\n"
   ]
  },
  {
   "cell_type": "code",
   "execution_count": null,
   "metadata": {},
   "outputs": [],
   "source": [
    "# pd.set_option('display.max_rows', 20)"
   ]
  },
  {
   "cell_type": "markdown",
   "metadata": {},
   "source": [
    "## Get Aggregate Test Values"
   ]
  },
  {
   "cell_type": "code",
   "execution_count": 25,
   "metadata": {},
   "outputs": [
    {
     "name": "stdout",
     "output_type": "stream",
     "text": [
      "CPU times: user 318 ms, sys: 77.2 ms, total: 395 ms\n",
      "Wall time: 444 ms\n"
     ]
    }
   ],
   "source": [
    "%time lab_events_sampled_sub_grouped = lab_events_sampled_sub.groupby(['subject_id', 'hadm_id', 'itemid']).agg({'itemid' : ['count'], 'valuenum' : ['min', 'max', 'mean'], 'flag' : ['count'], 'ref_range_lower' : ['min'], 'ref_range_upper' : ['min']})\n",
    "# 'comments' : ['unique'], \n"
   ]
  },
  {
   "cell_type": "code",
   "execution_count": 26,
   "metadata": {},
   "outputs": [],
   "source": [
    "lab_events_sampled_sub_grouped.reset_index(inplace = True)\n",
    "lab_events_sampled_sub_grouped.columns = ['subject_id', 'hadm_id', 'itemid', 'count', 'min', 'max', 'mean', 'abn_percent', 'range_min', 'range_max']\n",
    "# 'comments', \n"
   ]
  },
  {
   "cell_type": "code",
   "execution_count": 27,
   "metadata": {},
   "outputs": [
    {
     "data": {
      "text/plain": [
       "min     3\n",
       "max     3\n",
       "mean    3\n",
       "dtype: int64"
      ]
     },
     "execution_count": 27,
     "metadata": {},
     "output_type": "execute_result"
    }
   ],
   "source": [
    "missing_vals = lab_events_sampled_sub_grouped.isnull().sum(axis = 0) \n",
    "missing_vals[missing_vals > 0].sort_values()"
   ]
  },
  {
   "cell_type": "code",
   "execution_count": 28,
   "metadata": {},
   "outputs": [
    {
     "data": {
      "text/plain": [
       "51265    1\n",
       "51006    1\n",
       "51277    1\n",
       "Name: itemid, dtype: int64"
      ]
     },
     "execution_count": 28,
     "metadata": {},
     "output_type": "execute_result"
    }
   ],
   "source": [
    "lab_events_sampled_sub_grouped.loc[lab_events_sampled_sub_grouped['min'].isnull(), ].itemid.value_counts()\n",
    "\n",
    "# lab_events_sampled_sub_grouped.loc[(lab_events_sampled_sub_grouped['min'].isnull()) & (lab_events_sampled_sub_grouped['itemid'] == 51003), ]#.subject_id.nunique()\n",
    "# # lab_events_sampled_sub_grouped.subject_id.nunique()\n",
    "\n",
    "# lab_events_sampled_sub_grouped.loc[lab_events_sampled_sub_grouped['subject_id'] == 10002264, ]\n"
   ]
  },
  {
   "cell_type": "code",
   "execution_count": 29,
   "metadata": {},
   "outputs": [],
   "source": [
    "lab_events_sampled_sub_grouped['below_min'] = np.where(lab_events_sampled_sub_grouped['min'] < lab_events_sampled_sub_grouped['range_min'], lab_events_sampled_sub_grouped['range_min'] - lab_events_sampled_sub_grouped['min'], 0)\n",
    "lab_events_sampled_sub_grouped['above_max'] = np.where(lab_events_sampled_sub_grouped['max'] > lab_events_sampled_sub_grouped['range_max'], lab_events_sampled_sub_grouped['max'] - lab_events_sampled_sub_grouped['range_max'], 0)\n",
    "lab_events_sampled_sub_grouped['abn_percent'] = lab_events_sampled_sub_grouped['abn_percent'] / lab_events_sampled_sub_grouped['count']\n"
   ]
  },
  {
   "cell_type": "markdown",
   "metadata": {},
   "source": [
    "## Merge Admissions data so we can group by ethnicity/gender to grab average range min and max"
   ]
  },
  {
   "cell_type": "code",
   "execution_count": 30,
   "metadata": {},
   "outputs": [
    {
     "data": {
      "text/plain": [
       "{(50868, 'AMERICAN INDIAN/ALASKA NATIVE', 'F'): (8.6, 19.4),\n",
       " (50868, 'AMERICAN INDIAN/ALASKA NATIVE', 'M'): (8.5, 19.5),\n",
       " (50868, 'ASIAN', 'F'): (8.352941176470589, 19.58823529411765),\n",
       " (50868, 'ASIAN', 'M'): (8.439024390243903, 19.528455284552845),\n",
       " (50868, 'BLACK/AFRICAN AMERICAN', 'F'): (8.36036036036036, 19.55855855855856),\n",
       " (50868, 'BLACK/AFRICAN AMERICAN', 'M'): (8.349869451697128,\n",
       "  19.514360313315926),\n",
       " (50868, 'HISPANIC/LATINO', 'F'): (8.340909090909092, 19.613636363636363),\n",
       " (50868, 'HISPANIC/LATINO', 'M'): (8.331550802139038, 19.647058823529413),\n",
       " (50868, 'OTHER', 'F'): (8.414141414141413, 19.484848484848484),\n",
       " (50868, 'OTHER', 'M'): (8.288288288288289, 19.63963963963964),\n",
       " (50868, 'UNKNOWN', 'F'): (8.40552995391705, 19.52073732718894),\n",
       " (50868, 'UNKNOWN', 'M'): (8.519572953736654, 19.423487544483987),\n",
       " (50868, 'WHITE', 'F'): (8.352985074626865, 19.573880597014924),\n",
       " (50868, 'WHITE', 'M'): (8.332845647403072, 19.596927578639356),\n",
       " (50882, 'AMERICAN INDIAN/ALASKA NATIVE', 'F'): (22.0, 32.0),\n",
       " (50882, 'AMERICAN INDIAN/ALASKA NATIVE', 'M'): (22.0, 32.0),\n",
       " (50882, 'ASIAN', 'F'): (22.0, 32.0),\n",
       " (50882, 'ASIAN', 'M'): (22.0, 32.0),\n",
       " (50882, 'BLACK/AFRICAN AMERICAN', 'F'): (22.0, 32.0),\n",
       " (50882, 'BLACK/AFRICAN AMERICAN', 'M'): (22.0, 32.0),\n",
       " (50882, 'HISPANIC/LATINO', 'F'): (22.0, 32.0),\n",
       " (50882, 'HISPANIC/LATINO', 'M'): (22.0, 32.0),\n",
       " (50882, 'OTHER', 'F'): (22.0, 32.0),\n",
       " (50882, 'OTHER', 'M'): (22.0, 32.0),\n",
       " (50882, 'UNKNOWN', 'F'): (22.0, 32.0),\n",
       " (50882, 'UNKNOWN', 'M'): (22.0, 32.0),\n",
       " (50882, 'WHITE', 'F'): (22.0, 32.0),\n",
       " (50882, 'WHITE', 'M'): (22.0, 32.0),\n",
       " (50902, 'AMERICAN INDIAN/ALASKA NATIVE', 'F'): (96.0, 108.0),\n",
       " (50902, 'AMERICAN INDIAN/ALASKA NATIVE', 'M'): (96.0, 108.0),\n",
       " (50902, 'ASIAN', 'F'): (96.0, 108.0),\n",
       " (50902, 'ASIAN', 'M'): (96.0, 108.0),\n",
       " (50902, 'BLACK/AFRICAN AMERICAN', 'F'): (96.0, 108.0),\n",
       " (50902, 'BLACK/AFRICAN AMERICAN', 'M'): (96.0, 108.0),\n",
       " (50902, 'HISPANIC/LATINO', 'F'): (96.0, 108.0),\n",
       " (50902, 'HISPANIC/LATINO', 'M'): (96.0, 108.0),\n",
       " (50902, 'OTHER', 'F'): (96.0, 108.0),\n",
       " (50902, 'OTHER', 'M'): (96.0, 108.0),\n",
       " (50902, 'UNKNOWN', 'F'): (96.0, 108.0),\n",
       " (50902, 'UNKNOWN', 'M'): (96.0, 108.0),\n",
       " (50902, 'WHITE', 'F'): (96.0, 108.0),\n",
       " (50902, 'WHITE', 'M'): (96.0, 108.0),\n",
       " (50912, 'AMERICAN INDIAN/ALASKA NATIVE', 'F'): (0.39999999999999997,\n",
       "  1.0999999999999999),\n",
       " (50912, 'AMERICAN INDIAN/ALASKA NATIVE', 'M'): (0.5, 1.2),\n",
       " (50912, 'ASIAN', 'F'): (0.399999999999999, 1.0999999999999972),\n",
       " (50912, 'ASIAN', 'M'): (0.5, 1.2),\n",
       " (50912, 'BLACK/AFRICAN AMERICAN', 'F'): (0.4000000000000034,\n",
       "  1.1000000000000094),\n",
       " (50912, 'BLACK/AFRICAN AMERICAN', 'M'): (0.5, 1.1999999999999924),\n",
       " (50912, 'HISPANIC/LATINO', 'F'): (0.39999999999999974, 1.0999999999999965),\n",
       " (50912, 'HISPANIC/LATINO', 'M'): (0.5, 1.1999999999999962),\n",
       " (50912, 'OTHER', 'F'): (0.40000000000000036, 1.0999999999999963),\n",
       " (50912, 'OTHER', 'M'): (0.5, 1.1999999999999948),\n",
       " (50912, 'UNKNOWN', 'F'): (0.4000000000000008, 1.099999999999996),\n",
       " (50912, 'UNKNOWN', 'M'): (0.5, 1.1999999999999937),\n",
       " (50912, 'WHITE', 'F'): (0.3999999999999918, 1.099999999999945),\n",
       " (50912, 'WHITE', 'M'): (0.4999641062455133, 1.1999641062454625),\n",
       " (50931, 'AMERICAN INDIAN/ALASKA NATIVE', 'F'): (70.0, 100.5),\n",
       " (50931, 'AMERICAN INDIAN/ALASKA NATIVE', 'M'): (70.0, 100.0),\n",
       " (50931, 'ASIAN', 'F'): (69.92647058823529, 100.7720588235294),\n",
       " (50931, 'ASIAN', 'M'): (70.0, 100.77235772357723),\n",
       " (50931, 'BLACK/AFRICAN AMERICAN', 'F'): (70.0, 100.88169642857143),\n",
       " (50931, 'BLACK/AFRICAN AMERICAN', 'M'): (70.0, 101.0443864229765),\n",
       " (50931, 'HISPANIC/LATINO', 'F'): (69.94252873563218, 101.0632183908046),\n",
       " (50931, 'HISPANIC/LATINO', 'M'): (69.94594594594595, 100.97297297297297),\n",
       " (50931, 'OTHER', 'F'): (70.0, 100.68181818181819),\n",
       " (50931, 'OTHER', 'M'): (69.95475113122171, 100.76923076923077),\n",
       " (50931, 'UNKNOWN', 'F'): (70.0, 100.4147465437788),\n",
       " (50931, 'UNKNOWN', 'M'): (70.0, 100.37366548042705),\n",
       " (50931, 'WHITE', 'F'): (69.9925456578457, 101.05665300037272),\n",
       " (50931, 'WHITE', 'M'): (69.99633162142334, 101.06199559794571),\n",
       " (50971, 'AMERICAN INDIAN/ALASKA NATIVE', 'F'): (3.34, 5.16),\n",
       " (50971, 'AMERICAN INDIAN/ALASKA NATIVE', 'M'): (3.3, 5.1),\n",
       " (50971, 'ASIAN', 'F'): (3.3294117647058887, 5.144117647058833),\n",
       " (50971, 'ASIAN', 'M'): (3.331746031746038, 5.147619047619056),\n",
       " (50971, 'BLACK/AFRICAN AMERICAN', 'F'): (3.3290178571428335,\n",
       "  5.143526785714253),\n",
       " (50971, 'BLACK/AFRICAN AMERICAN', 'M'): (3.329242819843321,\n",
       "  5.143864229764988),\n",
       " (50971, 'HISPANIC/LATINO', 'F'): (3.3284090909090924, 5.142613636363648),\n",
       " (50971, 'HISPANIC/LATINO', 'M'): (3.3245989304812817, 5.1368983957219365),\n",
       " (50971, 'OTHER', 'F'): (3.332160804020097, 5.148241206030162),\n",
       " (50971, 'OTHER', 'M'): (3.323893805309726, 5.135840707964604),\n",
       " (50971, 'UNKNOWN', 'F'): (3.333027522935774, 5.149541284403678),\n",
       " (50971, 'UNKNOWN', 'M'): (3.340569395017781, 5.160854092526684),\n",
       " (50971, 'WHITE', 'F'): (3.3274466519500048, 5.141169977925111),\n",
       " (50971, 'WHITE', 'M'): (3.3263214670981944, 5.139482200647429),\n",
       " (50983, 'AMERICAN INDIAN/ALASKA NATIVE', 'F'): (133.6, 145.6),\n",
       " (50983, 'AMERICAN INDIAN/ALASKA NATIVE', 'M'): (133.5, 145.5),\n",
       " (50983, 'ASIAN', 'F'): (133.35294117647058, 145.35294117647058),\n",
       " (50983, 'ASIAN', 'M'): (133.432, 145.432),\n",
       " (50983, 'BLACK/AFRICAN AMERICAN', 'F'): (133.3579418344519,\n",
       "  145.3579418344519),\n",
       " (50983, 'BLACK/AFRICAN AMERICAN', 'M'): (133.34986945169712,\n",
       "  145.34986945169712),\n",
       " (50983, 'HISPANIC/LATINO', 'F'): (133.3409090909091, 145.3409090909091),\n",
       " (50983, 'HISPANIC/LATINO', 'M'): (133.33155080213905, 145.33155080213905),\n",
       " (50983, 'OTHER', 'F'): (133.41206030150755, 145.41206030150755),\n",
       " (50983, 'OTHER', 'M'): (133.28444444444443, 145.28444444444443),\n",
       " (50983, 'UNKNOWN', 'F'): (133.40552995391704, 145.40552995391704),\n",
       " (50983, 'UNKNOWN', 'M'): (133.51957295373666, 145.51957295373666),\n",
       " (50983, 'WHITE', 'F'): (133.35111111111112, 145.35111111111112),\n",
       " (50983, 'WHITE', 'M'): (133.33055454874955, 145.33055454874955),\n",
       " (51006, 'AMERICAN INDIAN/ALASKA NATIVE', 'F'): (6.0, 20.0),\n",
       " (51006, 'AMERICAN INDIAN/ALASKA NATIVE', 'M'): (6.0, 20.0),\n",
       " (51006, 'ASIAN', 'F'): (6.0, 20.0),\n",
       " (51006, 'ASIAN', 'M'): (6.0, 20.0),\n",
       " (51006, 'BLACK/AFRICAN AMERICAN', 'F'): (6.0, 20.0),\n",
       " (51006, 'BLACK/AFRICAN AMERICAN', 'M'): (6.0, 20.0),\n",
       " (51006, 'HISPANIC/LATINO', 'F'): (6.0, 20.0),\n",
       " (51006, 'HISPANIC/LATINO', 'M'): (6.0, 20.0),\n",
       " (51006, 'OTHER', 'F'): (6.0, 20.0),\n",
       " (51006, 'OTHER', 'M'): (6.0, 20.0),\n",
       " (51006, 'UNKNOWN', 'F'): (6.0, 20.0),\n",
       " (51006, 'UNKNOWN', 'M'): (6.0, 20.0),\n",
       " (51006, 'WHITE', 'F'): (6.0, 20.0),\n",
       " (51006, 'WHITE', 'M'): (6.0, 20.0),\n",
       " (51221, 'AMERICAN INDIAN/ALASKA NATIVE', 'F'): (35.23076923076923,\n",
       "  46.84615384615385),\n",
       " (51221, 'AMERICAN INDIAN/ALASKA NATIVE', 'M'): (40.0, 51.4),\n",
       " (51221, 'ASIAN', 'F'): (35.29608938547486, 46.944134078212294),\n",
       " (51221, 'ASIAN', 'M'): (40.0, 51.56),\n",
       " (51221, 'BLACK/AFRICAN AMERICAN', 'F'): (35.332179930795846,\n",
       "  46.99826989619377),\n",
       " (51221, 'BLACK/AFRICAN AMERICAN', 'M'): (40.0, 51.677083333333336),\n",
       " (51221, 'HISPANIC/LATINO', 'F'): (35.40092165898618, 47.10138248847926),\n",
       " (51221, 'HISPANIC/LATINO', 'M'): (40.0, 51.68648648648649),\n",
       " (51221, 'OTHER', 'F'): (35.33609958506224, 47.004149377593365),\n",
       " (51221, 'OTHER', 'M'): (40.0, 51.663716814159294),\n",
       " (51221, 'UNKNOWN', 'F'): (35.059322033898304, 46.58898305084746),\n",
       " (51221, 'UNKNOWN', 'M'): (40.0, 51.46503496503497),\n",
       " (51221, 'WHITE', 'F'): (35.30094466936572, 46.95141700404859),\n",
       " (51221, 'WHITE', 'M'): (39.998568360773085, 51.656764495347176),\n",
       " (51222, 'AMERICAN INDIAN/ALASKA NATIVE', 'F'): (11.666666666666666, 15.875),\n",
       " (51222, 'AMERICAN INDIAN/ALASKA NATIVE', 'M'): (13.819999999999999, 17.7),\n",
       " (51222, 'ASIAN', 'F'): (11.709090909090921, 15.89090909090909),\n",
       " (51222, 'ASIAN', 'M'): (13.868595041322326, 17.78099173553719),\n",
       " (51222, 'BLACK/AFRICAN AMERICAN', 'F'): (11.72161172161168,\n",
       "  15.89560439560437),\n",
       " (51222, 'BLACK/AFRICAN AMERICAN', 'M'): (13.903124999999973,\n",
       "  17.838541666666668),\n",
       " (51222, 'HISPANIC/LATINO', 'F'): (11.757213930348257, 15.908955223880582),\n",
       " (51222, 'HISPANIC/LATINO', 'M'): (13.905434782608692, 17.842391304347824),\n",
       " (51222, 'OTHER', 'F'): (11.733333333333324, 15.899999999999979),\n",
       " (51222, 'OTHER', 'M'): (13.896832579185512, 17.828054298642535),\n",
       " (51222, 'UNKNOWN', 'F'): (11.61739130434781, 15.8565217391304),\n",
       " (51222, 'UNKNOWN', 'M'): (13.838947368421016, 17.731578947368423),\n",
       " (51222, 'WHITE', 'F'): (11.717728055077586, 15.894148020653867),\n",
       " (51222, 'WHITE', 'M'): (13.89514598540147, 17.8257299270073),\n",
       " (51248, 'AMERICAN INDIAN/ALASKA NATIVE', 'F'): (26.583333333333332, 32.0),\n",
       " (51248, 'AMERICAN INDIAN/ALASKA NATIVE', 'M'): (26.4, 32.0),\n",
       " (51248, 'ASIAN', 'F'): (26.636363636363637, 32.0),\n",
       " (51248, 'ASIAN', 'M'): (26.56198347107438, 32.0),\n",
       " (51248, 'BLACK/AFRICAN AMERICAN', 'F'): (26.652014652014653, 32.0),\n",
       " (51248, 'BLACK/AFRICAN AMERICAN', 'M'): (26.677083333333332, 32.0),\n",
       " (51248, 'HISPANIC/LATINO', 'F'): (26.696517412935325, 32.0),\n",
       " (51248, 'HISPANIC/LATINO', 'M'): (26.684782608695652, 32.0),\n",
       " (51248, 'OTHER', 'F'): (26.66949152542373, 32.0),\n",
       " (51248, 'OTHER', 'M'): (26.65610859728507, 32.0),\n",
       " (51248, 'UNKNOWN', 'F'): (26.52173913043478, 32.0),\n",
       " (51248, 'UNKNOWN', 'M'): (26.461267605633804, 32.0),\n",
       " (51248, 'WHITE', 'F'): (26.64760592490527, 32.0),\n",
       " (51248, 'WHITE', 'M'): (26.652904640116915, 32.0),\n",
       " (51249, 'AMERICAN INDIAN/ALASKA NATIVE', 'F'): (31.416666666666668,\n",
       "  35.833333333333336),\n",
       " (51249, 'AMERICAN INDIAN/ALASKA NATIVE', 'M'): (31.6, 36.2),\n",
       " (51249, 'ASIAN', 'F'): (31.35757575757576, 35.71515151515152),\n",
       " (51249, 'ASIAN', 'M'): (31.43801652892562, 35.87603305785124),\n",
       " (51249, 'BLACK/AFRICAN AMERICAN', 'F'): (31.347985347985347,\n",
       "  35.69597069597069),\n",
       " (51249, 'BLACK/AFRICAN AMERICAN', 'M'): (31.322916666666668,\n",
       "  35.645833333333336),\n",
       " (51249, 'HISPANIC/LATINO', 'F'): (31.303482587064675, 35.60696517412935),\n",
       " (51249, 'HISPANIC/LATINO', 'M'): (31.315217391304348, 35.630434782608695),\n",
       " (51249, 'OTHER', 'F'): (31.33050847457627, 35.66101694915254),\n",
       " (51249, 'OTHER', 'M'): (31.34389140271493, 35.68778280542986),\n",
       " (51249, 'UNKNOWN', 'F'): (31.469565217391306, 35.93913043478261),\n",
       " (51249, 'UNKNOWN', 'M'): (31.535211267605632, 36.070422535211264),\n",
       " (51249, 'WHITE', 'F'): (31.35032724767482, 35.70065449534964),\n",
       " (51249, 'WHITE', 'M'): (31.345268542199488, 35.690537084398976),\n",
       " (51250, 'AMERICAN INDIAN/ALASKA NATIVE', 'F'): (82.0, 98.0),\n",
       " (51250, 'AMERICAN INDIAN/ALASKA NATIVE', 'M'): (82.0, 98.0),\n",
       " (51250, 'ASIAN', 'F'): (82.0, 98.0),\n",
       " (51250, 'ASIAN', 'M'): (82.0, 98.0),\n",
       " (51250, 'BLACK/AFRICAN AMERICAN', 'F'): (82.0, 98.0),\n",
       " (51250, 'BLACK/AFRICAN AMERICAN', 'M'): (82.0, 98.0),\n",
       " (51250, 'HISPANIC/LATINO', 'F'): (82.0, 98.0),\n",
       " (51250, 'HISPANIC/LATINO', 'M'): (82.0, 98.0),\n",
       " (51250, 'OTHER', 'F'): (82.0, 98.0),\n",
       " (51250, 'OTHER', 'M'): (82.0, 98.0),\n",
       " (51250, 'UNKNOWN', 'F'): (82.0, 98.0),\n",
       " (51250, 'UNKNOWN', 'M'): (82.0, 98.0),\n",
       " (51250, 'WHITE', 'F'): (82.0, 98.0),\n",
       " (51250, 'WHITE', 'M'): (82.0, 98.0),\n",
       " (51265, 'AMERICAN INDIAN/ALASKA NATIVE', 'F'): (150.0, 423.3333333333333),\n",
       " (51265, 'AMERICAN INDIAN/ALASKA NATIVE', 'M'): (150.0, 416.0),\n",
       " (51265, 'ASIAN', 'F'): (150.0, 425.45454545454544),\n",
       " (51265, 'ASIAN', 'M'): (150.0, 422.4390243902439),\n",
       " (51265, 'BLACK/AFRICAN AMERICAN', 'F'): (150.0, 426.13138686131384),\n",
       " (51265, 'BLACK/AFRICAN AMERICAN', 'M'): (150.0, 427.0833333333333),\n",
       " (51265, 'HISPANIC/LATINO', 'F'): (150.0, 427.8606965174129),\n",
       " (51265, 'HISPANIC/LATINO', 'M'): (150.0, 427.39130434782606),\n",
       " (51265, 'OTHER', 'F'): (150.0, 426.77966101694915),\n",
       " (51265, 'OTHER', 'M'): (150.0, 426.42857142857144),\n",
       " (51265, 'UNKNOWN', 'F'): (150.0, 420.95238095238096),\n",
       " (51265, 'UNKNOWN', 'M'): (150.0, 418.4507042253521),\n",
       " (51265, 'WHITE', 'F'): (150.0, 425.94594594594594),\n",
       " (51265, 'WHITE', 'M'): (150.0, 426.3017644940583),\n",
       " (51277, 'AMERICAN INDIAN/ALASKA NATIVE', 'F'): (10.5, 15.5),\n",
       " (51277, 'AMERICAN INDIAN/ALASKA NATIVE', 'M'): (10.5, 15.5),\n",
       " (51277, 'ASIAN', 'F'): (10.5, 15.5),\n",
       " (51277, 'ASIAN', 'M'): (10.5, 15.5),\n",
       " (51277, 'BLACK/AFRICAN AMERICAN', 'F'): (10.5, 15.5),\n",
       " (51277, 'BLACK/AFRICAN AMERICAN', 'M'): (10.5, 15.5),\n",
       " (51277, 'HISPANIC/LATINO', 'F'): (10.5, 15.5),\n",
       " (51277, 'HISPANIC/LATINO', 'M'): (10.5, 15.5),\n",
       " (51277, 'OTHER', 'F'): (10.5, 15.5),\n",
       " (51277, 'OTHER', 'M'): (10.5, 15.5),\n",
       " (51277, 'UNKNOWN', 'F'): (10.5, 15.5),\n",
       " (51277, 'UNKNOWN', 'M'): (10.5, 15.5),\n",
       " (51277, 'WHITE', 'F'): (10.5, 15.5),\n",
       " (51277, 'WHITE', 'M'): (10.5, 15.5),\n",
       " (51279, 'AMERICAN INDIAN/ALASKA NATIVE', 'F'): (4.075, 5.316666666666666),\n",
       " (51279, 'AMERICAN INDIAN/ALASKA NATIVE', 'M'): (4.6, 6.139999999999999),\n",
       " (51279, 'ASIAN', 'F'): (4.090909090909089, 5.327272727272724),\n",
       " (51279, 'ASIAN', 'M'): (4.60000000000001, 6.156198347107448),\n",
       " (51279, 'BLACK/AFRICAN AMERICAN', 'F'): (4.09560439560442, 5.330402930402953),\n",
       " (51279, 'BLACK/AFRICAN AMERICAN', 'M'): (4.599999999999971, 6.16770833333332),\n",
       " (51279, 'HISPANIC/LATINO', 'F'): (4.108955223880601, 5.339303482587064),\n",
       " (51279, 'HISPANIC/LATINO', 'M'): (4.600000000000015, 6.168478260869581),\n",
       " (51279, 'OTHER', 'F'): (4.100847457627125, 5.333898305084755),\n",
       " (51279, 'OTHER', 'M'): (4.600000000000016, 6.165610859728524),\n",
       " (51279, 'UNKNOWN', 'F'): (4.056521739130435, 5.304347826086965),\n",
       " (51279, 'UNKNOWN', 'M'): (4.599999999999993, 6.146126760563379),\n",
       " (51279, 'WHITE', 'F'): (4.0942817774715925, 5.329521184980989),\n",
       " (51279, 'WHITE', 'M'): (4.599853854585537, 6.16499817318259),\n",
       " (51301, 'AMERICAN INDIAN/ALASKA NATIVE', 'F'): (4.0, 10.583333333333334),\n",
       " (51301, 'AMERICAN INDIAN/ALASKA NATIVE', 'M'): (4.0, 10.4),\n",
       " (51301, 'ASIAN', 'F'): (4.0, 10.636363636363637),\n",
       " (51301, 'ASIAN', 'M'): (4.0, 10.561983471074381),\n",
       " (51301, 'BLACK/AFRICAN AMERICAN', 'F'): (4.0, 10.652014652014651),\n",
       " (51301, 'BLACK/AFRICAN AMERICAN', 'M'): (4.0, 10.677083333333334),\n",
       " (51301, 'HISPANIC/LATINO', 'F'): (4.0, 10.696517412935323),\n",
       " (51301, 'HISPANIC/LATINO', 'M'): (4.0, 10.684782608695652),\n",
       " (51301, 'OTHER', 'F'): (4.0, 10.669491525423728),\n",
       " (51301, 'OTHER', 'M'): (4.0, 10.656108597285067),\n",
       " (51301, 'UNKNOWN', 'F'): (4.0, 10.521739130434783),\n",
       " (51301, 'UNKNOWN', 'M'): (4.0, 10.461267605633802),\n",
       " (51301, 'WHITE', 'F'): (4.0, 10.647727272727273),\n",
       " (51301, 'WHITE', 'M'): (4.0, 10.653537563822027)}"
      ]
     },
     "execution_count": 30,
     "metadata": {},
     "output_type": "execute_result"
    }
   ],
   "source": [
    "lab_adm = lab_events_sampled_sub_grouped.merge(admissions_sample, left_on = 'hadm_id', right_on = 'hadm_id')\n",
    "\n",
    "lab_range_min_max_eg = lab_adm.groupby(['itemid', 'ethnicity', 'gender']).agg({'range_min' : 'mean', 'range_max' : 'mean'})\n",
    "lab_range_min_max_eg.reset_index(inplace = True)\n",
    "\n",
    "lab_range_eg_dic = dict(zip(zip(lab_range_min_max_eg['itemid'], lab_range_min_max_eg['ethnicity'], lab_range_min_max_eg['gender']), zip(lab_range_min_max_eg['range_min'], lab_range_min_max_eg['range_max'])))\n",
    "\n",
    "# # Labs don't exist in top 11\n",
    "# lab_range_eg_dic[(50911, 'AMERICAN INDIAN/ALASKA NATIVE', 'M')] = (0.0, 10.0)\n",
    "# lab_range_eg_dic[(51003, 'AMERICAN INDIAN/ALASKA NATIVE', 'M')] = (0.0, 0.01)\n",
    "\n",
    "lab_range_eg_dic\n"
   ]
  },
  {
   "cell_type": "code",
   "execution_count": null,
   "metadata": {
    "scrolled": true
   },
   "outputs": [],
   "source": [
    "# # Aggregate without splitting by Ethnicity/Gender\n",
    "\n",
    "# lab_range_min_max = lab_events_sampled_sub_grouped.groupby('itemid').agg({'range_min' : 'mean', 'range_max' : 'mean'})\n",
    "# lab_range_min_max.reset_index(inplace = True)\n",
    "\n",
    "# lab_range_dic = dict(zip(lab_range_min_max['itemid'], zip(lab_range_min_max['range_min'], lab_range_min_max['range_max'])))\n",
    "# lab_range_dic\n"
   ]
  },
  {
   "cell_type": "markdown",
   "metadata": {},
   "source": [
    "Pivot the table so we have feature columns related to test results"
   ]
  },
  {
   "cell_type": "code",
   "execution_count": 31,
   "metadata": {},
   "outputs": [],
   "source": [
    "lab_events_sampled_sub_grouped['new_index'] = list(zip(lab_events_sampled_sub_grouped['subject_id'], lab_events_sampled_sub_grouped['hadm_id']))\n"
   ]
  },
  {
   "cell_type": "code",
   "execution_count": 32,
   "metadata": {},
   "outputs": [
    {
     "name": "stdout",
     "output_type": "stream",
     "text": [
      "CPU times: user 111 ms, sys: 25.6 ms, total: 136 ms\n",
      "Wall time: 151 ms\n"
     ]
    }
   ],
   "source": [
    "%time lab_events_sampled_pivot = lab_events_sampled_sub_grouped.pivot(index = 'new_index', columns = 'itemid', values = ['min', 'max', 'mean', 'abn_percent', 'below_min', 'above_max'])\n",
    "# 'comments', \n"
   ]
  },
  {
   "cell_type": "code",
   "execution_count": 33,
   "metadata": {},
   "outputs": [
    {
     "name": "stderr",
     "output_type": "stream",
     "text": [
      "/Users/brandonryu/opt/anaconda3/lib/python3.7/site-packages/pandas/core/generic.py:3936: PerformanceWarning: dropping on a non-lexsorted multi-index without a level parameter may impact performance.\n",
      "  obj = obj._drop_axis(labels, axis, level=level, errors=errors)\n"
     ]
    }
   ],
   "source": [
    "lab_events_sampled_pivot = lab_events_sampled_pivot.reset_index()\n",
    "lab_events_sampled_pivot['subject_id'], lab_events_sampled_pivot['hadm_id'] = zip(*lab_events_sampled_pivot['new_index'])\n",
    "lab_events_sampled_pivot.drop(['new_index'], axis = 1, inplace = True)\n"
   ]
  },
  {
   "cell_type": "code",
   "execution_count": 34,
   "metadata": {},
   "outputs": [
    {
     "data": {
      "text/plain": [
       "             itemid\n",
       "max          51221     127\n",
       "abn_percent  51221     127\n",
       "below_min    51221     127\n",
       "min          51221     127\n",
       "above_max    51221     127\n",
       "                      ... \n",
       "min          50931     771\n",
       "abn_percent  50931     771\n",
       "max          50931     771\n",
       "above_max    50931     771\n",
       "below_min    50931     771\n",
       "Length: 102, dtype: int64"
      ]
     },
     "execution_count": 34,
     "metadata": {},
     "output_type": "execute_result"
    }
   ],
   "source": [
    "missing_vals = lab_events_sampled_pivot.isnull().sum(axis = 0) \n",
    "missing_vals[missing_vals > 0].sort_values()#.head(40)"
   ]
  },
  {
   "cell_type": "markdown",
   "metadata": {},
   "source": [
    "## Start Data Imputation"
   ]
  },
  {
   "cell_type": "markdown",
   "metadata": {},
   "source": [
    "Copy table, retain original for Random Forest"
   ]
  },
  {
   "cell_type": "code",
   "execution_count": 35,
   "metadata": {},
   "outputs": [],
   "source": [
    "lab_events_impute = lab_events_sampled_pivot.copy()"
   ]
  },
  {
   "cell_type": "code",
   "execution_count": 36,
   "metadata": {
    "scrolled": true
   },
   "outputs": [
    {
     "data": {
      "text/html": [
       "<div>\n",
       "<style scoped>\n",
       "    .dataframe tbody tr th:only-of-type {\n",
       "        vertical-align: middle;\n",
       "    }\n",
       "\n",
       "    .dataframe tbody tr th {\n",
       "        vertical-align: top;\n",
       "    }\n",
       "\n",
       "    .dataframe thead th {\n",
       "        text-align: right;\n",
       "    }\n",
       "</style>\n",
       "<table border=\"1\" class=\"dataframe\">\n",
       "  <thead>\n",
       "    <tr style=\"text-align: right;\">\n",
       "      <th></th>\n",
       "      <th>itemid</th>\n",
       "      <th>label</th>\n",
       "      <th>fluid</th>\n",
       "      <th>category</th>\n",
       "      <th>loinc_code</th>\n",
       "    </tr>\n",
       "  </thead>\n",
       "  <tbody>\n",
       "    <tr>\n",
       "      <th>115</th>\n",
       "      <td>50868</td>\n",
       "      <td>Anion Gap</td>\n",
       "      <td>Blood</td>\n",
       "      <td>Chemistry</td>\n",
       "      <td>1863-0</td>\n",
       "    </tr>\n",
       "    <tr>\n",
       "      <th>212</th>\n",
       "      <td>50882</td>\n",
       "      <td>Bicarbonate</td>\n",
       "      <td>Blood</td>\n",
       "      <td>Chemistry</td>\n",
       "      <td>1963-8</td>\n",
       "    </tr>\n",
       "    <tr>\n",
       "      <th>442</th>\n",
       "      <td>50902</td>\n",
       "      <td>Chloride</td>\n",
       "      <td>Blood</td>\n",
       "      <td>Chemistry</td>\n",
       "      <td>2075-0</td>\n",
       "    </tr>\n",
       "    <tr>\n",
       "      <th>512</th>\n",
       "      <td>50912</td>\n",
       "      <td>Creatinine</td>\n",
       "      <td>Blood</td>\n",
       "      <td>Chemistry</td>\n",
       "      <td>2160-0</td>\n",
       "    </tr>\n",
       "    <tr>\n",
       "      <th>723</th>\n",
       "      <td>50931</td>\n",
       "      <td>Glucose</td>\n",
       "      <td>Blood</td>\n",
       "      <td>Chemistry</td>\n",
       "      <td>6777-7</td>\n",
       "    </tr>\n",
       "    <tr>\n",
       "      <th>761</th>\n",
       "      <td>51221</td>\n",
       "      <td>Hematocrit</td>\n",
       "      <td>Blood</td>\n",
       "      <td>Hematology</td>\n",
       "      <td>4544-3</td>\n",
       "    </tr>\n",
       "    <tr>\n",
       "      <th>771</th>\n",
       "      <td>51222</td>\n",
       "      <td>Hemoglobin</td>\n",
       "      <td>Blood</td>\n",
       "      <td>Hematology</td>\n",
       "      <td>718-7</td>\n",
       "    </tr>\n",
       "    <tr>\n",
       "      <th>1013</th>\n",
       "      <td>51248</td>\n",
       "      <td>MCH</td>\n",
       "      <td>Blood</td>\n",
       "      <td>Hematology</td>\n",
       "      <td>785-6</td>\n",
       "    </tr>\n",
       "    <tr>\n",
       "      <th>1014</th>\n",
       "      <td>51249</td>\n",
       "      <td>MCHC</td>\n",
       "      <td>Blood</td>\n",
       "      <td>Hematology</td>\n",
       "      <td>786-4</td>\n",
       "    </tr>\n",
       "    <tr>\n",
       "      <th>1016</th>\n",
       "      <td>51250</td>\n",
       "      <td>MCV</td>\n",
       "      <td>Blood</td>\n",
       "      <td>Hematology</td>\n",
       "      <td>787-2</td>\n",
       "    </tr>\n",
       "    <tr>\n",
       "      <th>1211</th>\n",
       "      <td>51265</td>\n",
       "      <td>Platelet Count</td>\n",
       "      <td>Blood</td>\n",
       "      <td>Hematology</td>\n",
       "      <td>777-3</td>\n",
       "    </tr>\n",
       "    <tr>\n",
       "      <th>1233</th>\n",
       "      <td>50971</td>\n",
       "      <td>Potassium</td>\n",
       "      <td>Blood</td>\n",
       "      <td>Chemistry</td>\n",
       "      <td>2823-3</td>\n",
       "    </tr>\n",
       "    <tr>\n",
       "      <th>1307</th>\n",
       "      <td>51277</td>\n",
       "      <td>RDW</td>\n",
       "      <td>Blood</td>\n",
       "      <td>Hematology</td>\n",
       "      <td>788-0</td>\n",
       "    </tr>\n",
       "    <tr>\n",
       "      <th>1312</th>\n",
       "      <td>51279</td>\n",
       "      <td>Red Blood Cells</td>\n",
       "      <td>Blood</td>\n",
       "      <td>Hematology</td>\n",
       "      <td>789-8</td>\n",
       "    </tr>\n",
       "    <tr>\n",
       "      <th>1373</th>\n",
       "      <td>50983</td>\n",
       "      <td>Sodium</td>\n",
       "      <td>Blood</td>\n",
       "      <td>Chemistry</td>\n",
       "      <td>2951-2</td>\n",
       "    </tr>\n",
       "    <tr>\n",
       "      <th>1506</th>\n",
       "      <td>51006</td>\n",
       "      <td>Urea Nitrogen</td>\n",
       "      <td>Blood</td>\n",
       "      <td>Chemistry</td>\n",
       "      <td>3094-0</td>\n",
       "    </tr>\n",
       "    <tr>\n",
       "      <th>1598</th>\n",
       "      <td>51301</td>\n",
       "      <td>White Blood Cells</td>\n",
       "      <td>Blood</td>\n",
       "      <td>Hematology</td>\n",
       "      <td>804-5</td>\n",
       "    </tr>\n",
       "  </tbody>\n",
       "</table>\n",
       "</div>"
      ],
      "text/plain": [
       "      itemid              label  fluid    category loinc_code\n",
       "115    50868          Anion Gap  Blood   Chemistry     1863-0\n",
       "212    50882        Bicarbonate  Blood   Chemistry     1963-8\n",
       "442    50902           Chloride  Blood   Chemistry     2075-0\n",
       "512    50912         Creatinine  Blood   Chemistry     2160-0\n",
       "723    50931            Glucose  Blood   Chemistry     6777-7\n",
       "761    51221         Hematocrit  Blood  Hematology     4544-3\n",
       "771    51222         Hemoglobin  Blood  Hematology      718-7\n",
       "1013   51248                MCH  Blood  Hematology      785-6\n",
       "1014   51249               MCHC  Blood  Hematology      786-4\n",
       "1016   51250                MCV  Blood  Hematology      787-2\n",
       "1211   51265     Platelet Count  Blood  Hematology      777-3\n",
       "1233   50971          Potassium  Blood   Chemistry     2823-3\n",
       "1307   51277                RDW  Blood  Hematology      788-0\n",
       "1312   51279    Red Blood Cells  Blood  Hematology      789-8\n",
       "1373   50983             Sodium  Blood   Chemistry     2951-2\n",
       "1506   51006      Urea Nitrogen  Blood   Chemistry     3094-0\n",
       "1598   51301  White Blood Cells  Blood  Hematology      804-5"
      ]
     },
     "execution_count": 36,
     "metadata": {},
     "output_type": "execute_result"
    }
   ],
   "source": [
    "d_labitems[d_labitems['itemid'].isin(itemid_sub_sample)]"
   ]
  },
  {
   "cell_type": "code",
   "execution_count": null,
   "metadata": {},
   "outputs": [],
   "source": []
  },
  {
   "cell_type": "code",
   "execution_count": 37,
   "metadata": {},
   "outputs": [
    {
     "name": "stderr",
     "output_type": "stream",
     "text": [
      "/Users/brandonryu/opt/anaconda3/lib/python3.7/site-packages/pandas/core/reshape/merge.py:618: UserWarning: merging between different levels can give an unintended result (2 levels on the left, 1 on the right)\n",
      "  warnings.warn(msg, UserWarning)\n"
     ]
    }
   ],
   "source": [
    "lab_events_impute = lab_events_impute.merge(admissions_sample, left_on = 'hadm_id', right_on = 'hadm_id')"
   ]
  },
  {
   "cell_type": "code",
   "execution_count": 38,
   "metadata": {},
   "outputs": [
    {
     "name": "stderr",
     "output_type": "stream",
     "text": [
      "/Users/brandonryu/opt/anaconda3/lib/python3.7/site-packages/ipykernel_launcher.py:20: SettingWithCopyWarning: \n",
      "A value is trying to be set on a copy of a slice from a DataFrame\n",
      "\n",
      "See the caveats in the documentation: https://pandas.pydata.org/pandas-docs/stable/user_guide/indexing.html#returning-a-view-versus-a-copy\n",
      "/Users/brandonryu/opt/anaconda3/lib/python3.7/site-packages/ipykernel_launcher.py:21: SettingWithCopyWarning: \n",
      "A value is trying to be set on a copy of a slice from a DataFrame\n",
      "\n",
      "See the caveats in the documentation: https://pandas.pydata.org/pandas-docs/stable/user_guide/indexing.html#returning-a-view-versus-a-copy\n",
      "/Users/brandonryu/opt/anaconda3/lib/python3.7/site-packages/ipykernel_launcher.py:22: SettingWithCopyWarning: \n",
      "A value is trying to be set on a copy of a slice from a DataFrame\n",
      "\n",
      "See the caveats in the documentation: https://pandas.pydata.org/pandas-docs/stable/user_guide/indexing.html#returning-a-view-versus-a-copy\n"
     ]
    },
    {
     "name": "stdout",
     "output_type": "stream",
     "text": [
      "CPU times: user 4.9 s, sys: 88.5 ms, total: 4.99 s\n",
      "Wall time: 5.35 s\n"
     ]
    }
   ],
   "source": [
    "%%time\n",
    "\n",
    "np.random.seed(0)\n",
    "\n",
    "for labitem in lab_range_eg_dic:\n",
    "    for ind in lab_events_impute.loc[(lab_events_impute[('mean', labitem[0])].isnull()) & (lab_events_impute['ethnicity'] == labitem[1]) & (lab_events_impute['gender'] == labitem[2])].index:\n",
    "        val_max = lab_range_eg_dic[labitem][1]\n",
    "        val_min = lab_range_eg_dic[labitem][0]\n",
    "\n",
    "        val_ave = (val_max + val_min) / 2\n",
    "        val_std = (val_max - val_ave) * .333\n",
    "\n",
    "        ran_vals = np.random.normal(val_ave, val_std, 50)\n",
    "        impute_min = min(ran_vals)\n",
    "        impute_max = max(ran_vals)\n",
    "        impute_mean = np.mean(ran_vals)\n",
    "        \n",
    "        val_min = lab_events_impute[('min', labitem[0])][ind]\n",
    "        val_max = lab_events_impute[('max', labitem[0])][ind]\n",
    "        val_mean = lab_events_impute[('mean', labitem[0])][ind]\n",
    "        \n",
    "        lab_events_impute[('min', labitem[0])][ind] = np.where(np.isnan(val_min), impute_min, val_min)\n",
    "        lab_events_impute[('max', labitem[0])][ind] = np.where(np.isnan(val_max), impute_max, val_max)\n",
    "        lab_events_impute[('mean', labitem[0])][ind] = np.where(np.isnan(val_mean), impute_mean, val_mean)\n",
    "#         patient[('mean', labitem)].replace(np.nan, impute_mean)\n",
    "#         patient[('abn_count', labitem)].replace(np.nan, 0)\n",
    "# 5k patients\n",
    "# 10 items - 2.5s\n",
    "# 20 items - 6s\n",
    "# 30 items - 28.6s\n",
    "\n",
    "# 10k patients\n",
    "# 40 items - 1m 34s"
   ]
  },
  {
   "cell_type": "code",
   "execution_count": 39,
   "metadata": {},
   "outputs": [],
   "source": [
    "for lab_itemid in lab_range_eg_dic:\n",
    "    lab_events_impute[( 'above_max', lab_itemid[0])] = lab_events_impute[( 'above_max', lab_itemid[0])].replace(np.nan, 0)\n",
    "    lab_events_impute[( 'below_min', lab_itemid[0])] = lab_events_impute[( 'below_min', lab_itemid[0])].replace(np.nan, 0)\n",
    "    lab_events_impute[( 'abn_percent', lab_itemid[0])] = lab_events_impute[( 'abn_percent', lab_itemid[0])].replace(np.nan, 0)\n",
    "#     lab_events_sampled_pivot[( 'comments', lab_itemid)] = lab_events_sampled_pivot[( 'comments', lab_itemid)].replace(np.nan, np.array(np.nan))\n"
   ]
  },
  {
   "cell_type": "code",
   "execution_count": 40,
   "metadata": {},
   "outputs": [
    {
     "data": {
      "text/plain": [
       "Series([], dtype: int64)"
      ]
     },
     "execution_count": 40,
     "metadata": {},
     "output_type": "execute_result"
    }
   ],
   "source": [
    "missing_vals = lab_events_impute.isnull().sum(axis = 0) \n",
    "missing_vals[missing_vals > 0].sort_values()"
   ]
  },
  {
   "cell_type": "code",
   "execution_count": 41,
   "metadata": {},
   "outputs": [],
   "source": [
    "lab_events_impute_KNN = lab_events_sampled_pivot.copy()"
   ]
  },
  {
   "cell_type": "code",
   "execution_count": 42,
   "metadata": {},
   "outputs": [],
   "source": [
    "lab_events_impute_KNN = lab_events_impute_KNN.merge(admissions_sample, left_on = 'hadm_id', right_on = 'hadm_id')\n",
    "\n",
    "dummy = pd.get_dummies(lab_events_impute_KNN['ethnicity'], prefix='ethnicity')\n",
    "dummy.drop('ethnicity_WHITE', axis=1, inplace=True)\n",
    "lab_events_impute_KNN = lab_events_impute_KNN.drop('ethnicity', axis=1)\n",
    "lab_events_impute_KNN = pd.concat([lab_events_impute_KNN, dummy], axis=1)\n",
    "\n",
    "lab_events_impute_KNN['gender'] = lab_events_impute_KNN['gender'].map({'M' : 0.0, 'F' : 1.0})\n",
    "lab_events_impute_KNN['gender'] = pd.to_numeric(lab_events_impute_KNN['gender'])\n"
   ]
  },
  {
   "cell_type": "code",
   "execution_count": 43,
   "metadata": {},
   "outputs": [
    {
     "name": "stdout",
     "output_type": "stream",
     "text": [
      "CPU times: user 13.3 s, sys: 2.24 s, total: 15.6 s\n",
      "Wall time: 16.5 s\n"
     ]
    }
   ],
   "source": [
    "%%time\n",
    "\n",
    "from sklearn.impute import KNNImputer\n",
    "imputer = KNNImputer(n_neighbors=math.trunc((lab_events_impute_KNN.shape[0] ** 0.5)))\n",
    "lab_events_impute_KNN_imputed = imputer.fit_transform(lab_events_impute_KNN)\n",
    "\n",
    "# 3min 8s"
   ]
  },
  {
   "cell_type": "code",
   "execution_count": 44,
   "metadata": {
    "scrolled": true
   },
   "outputs": [],
   "source": [
    "lab_events_impute_KNN_imputed = pd.DataFrame(lab_events_impute_KNN_imputed)\n",
    "lab_events_impute_KNN_imputed.columns = lab_events_impute_KNN.columns"
   ]
  },
  {
   "cell_type": "code",
   "execution_count": 45,
   "metadata": {},
   "outputs": [],
   "source": [
    "for lab_itemid in lab_range_eg_dic:\n",
    "    lab_events_impute_KNN_imputed[( 'above_max', lab_itemid[0])] = lab_events_impute_KNN_imputed[( 'above_max', lab_itemid[0])].replace(np.nan, 0)\n",
    "    lab_events_impute_KNN_imputed[( 'below_min', lab_itemid[0])] = lab_events_impute_KNN_imputed[( 'below_min', lab_itemid[0])].replace(np.nan, 0)\n",
    "    lab_events_impute_KNN_imputed[( 'abn_percent', lab_itemid[0])] = lab_events_impute_KNN_imputed[( 'abn_percent', lab_itemid[0])].replace(np.nan, 0)\n",
    "#     lab_events_sampled_pivot[( 'comments', lab_itemid)] = lab_events_sampled_pivot[( 'comments', lab_itemid)].replace(np.nan, np.array(np.nan))\n"
   ]
  },
  {
   "cell_type": "markdown",
   "metadata": {},
   "source": [
    "## Standardize the Data for use in Models"
   ]
  },
  {
   "cell_type": "code",
   "execution_count": 46,
   "metadata": {},
   "outputs": [],
   "source": [
    "from sklearn.preprocessing import StandardScaler\n",
    "\n",
    "scaler = StandardScaler()"
   ]
  },
  {
   "cell_type": "code",
   "execution_count": 47,
   "metadata": {},
   "outputs": [],
   "source": [
    "labs_scaled = lab_events_impute.copy()\n",
    "labs_scaled_KNN = lab_events_impute_KNN_imputed.copy()\n",
    "labs_scaled_missing_data = lab_events_sampled_pivot.copy()"
   ]
  },
  {
   "cell_type": "code",
   "execution_count": 48,
   "metadata": {},
   "outputs": [
    {
     "name": "stderr",
     "output_type": "stream",
     "text": [
      "/Users/brandonryu/opt/anaconda3/lib/python3.7/site-packages/pandas/core/reshape/merge.py:618: UserWarning: merging between different levels can give an unintended result (2 levels on the left, 1 on the right)\n",
      "  warnings.warn(msg, UserWarning)\n"
     ]
    }
   ],
   "source": [
    "labs_scaled_missing_data = labs_scaled_missing_data.merge(admissions_sample, how='left', left_on='hadm_id', right_on='hadm_id')"
   ]
  },
  {
   "cell_type": "code",
   "execution_count": 49,
   "metadata": {},
   "outputs": [],
   "source": [
    "scale_cols = ~labs_scaled.columns.isin([('subject_id', ''), ('hadm_id', ''), 'subject_id', 'hadm_id', 'pos', 'ethnicity', 'gender'])\n",
    "\n",
    "scaler.fit(labs_scaled.loc[:, scale_cols])\n",
    "labs_scaled.loc[:, scale_cols] = scaler.transform(labs_scaled.loc[:, scale_cols])\n",
    "\n",
    "scale_cols = ~labs_scaled_KNN.columns.isin([('subject_id', ''), ('hadm_id', ''), 'subject_id', 'hadm_id', 'pos', 'gender', 'ethnicity_AMERICAN INDIAN/ALASKA NATIVE', 'ethnicity_ASIAN', 'ethnicity_BLACK/AFRICAN AMERICAN', 'ethnicity_HISPANIC/LATINO', 'ethnicity_OTHER', 'ethnicity_UNKNOWN'])\n",
    "\n",
    "scaler.fit(labs_scaled_KNN.loc[:, scale_cols])\n",
    "labs_scaled_KNN.loc[:, scale_cols] = scaler.transform(labs_scaled_KNN.loc[:, scale_cols])\n",
    "\n",
    "scale_cols = ~labs_scaled_missing_data.columns.isin([('subject_id', ''), ('hadm_id', ''), 'subject_id', 'hadm_id', 'pos', 'ethnicity', 'gender'])\n",
    "\n",
    "scaler.fit(labs_scaled_missing_data.loc[:, scale_cols])\n",
    "labs_scaled_missing_data.loc[:, scale_cols] = scaler.transform(labs_scaled_missing_data.loc[:, scale_cols])\n"
   ]
  },
  {
   "cell_type": "markdown",
   "metadata": {},
   "source": [
    "## Save Lab Results for Models"
   ]
  },
  {
   "cell_type": "code",
   "execution_count": 50,
   "metadata": {},
   "outputs": [],
   "source": [
    "# Save non-imputed file as well for forest models\n",
    "\n",
    "pos_final_test = labs_scaled.copy()\n",
    "pos_KNN_final_test = labs_scaled_KNN.copy()\n",
    "pos_final_missing_data_test = labs_scaled_missing_data.copy()\n"
   ]
  },
  {
   "cell_type": "code",
   "execution_count": 51,
   "metadata": {},
   "outputs": [],
   "source": [
    "dummy = pd.get_dummies(pos_final_test['ethnicity'], prefix='ethnicity')\n",
    "dummy.drop('ethnicity_WHITE', axis=1, inplace=True)\n",
    "pos_final_test = pos_final_test.drop('ethnicity', axis=1)\n",
    "pos_final_test = pd.concat([pos_final_test, dummy], axis=1)\n",
    "\n",
    "pos_final_test['gender'] = pos_final_test['gender'].map({'M' : 0.0, 'F' : 1.0})\n",
    "pos_final_test['gender'] = pd.to_numeric(pos_final_test['gender'])\n",
    "\n",
    "\n",
    "\n",
    "dummy = pd.get_dummies(pos_final_missing_data_test['ethnicity'], prefix='ethnicity')\n",
    "dummy.drop('ethnicity_WHITE', axis=1, inplace=True)\n",
    "pos_final_missing_data_test = pos_final_missing_data_test.drop('ethnicity', axis=1)\n",
    "pos_final_missing_data_test = pd.concat([pos_final_missing_data_test, dummy], axis=1)\n",
    "\n",
    "pos_final_missing_data_test['gender'] = pos_final_missing_data_test['gender'].map({'M' : 0.0, 'F' : 1.0})\n",
    "pos_final_missing_data_test['gender'] = pd.to_numeric(pos_final_missing_data_test['gender'])"
   ]
  },
  {
   "cell_type": "code",
   "execution_count": 53,
   "metadata": {},
   "outputs": [],
   "source": [
    "pos_final_test.to_csv('./data/pos_final_test.csv.gz', compression=\"gzip\")\n",
    "pos_KNN_final_test.to_csv('./data/pos_KNN_final_test.csv.gz', compression=\"gzip\")\n",
    "pos_final_missing_data_test.to_csv('./data/pos_final_missing_data_test.csv.gz', compression=\"gzip\")\n"
   ]
  },
  {
   "cell_type": "markdown",
   "metadata": {},
   "source": [
    "## Check for Multicollinearity"
   ]
  },
  {
   "cell_type": "code",
   "execution_count": null,
   "metadata": {},
   "outputs": [],
   "source": [
    "from statsmodels.stats.outliers_influence import variance_inflation_factor\n",
    "from statsmodels.tools.tools import add_constant"
   ]
  },
  {
   "cell_type": "code",
   "execution_count": null,
   "metadata": {},
   "outputs": [],
   "source": [
    "%%time\n",
    "\n",
    "num_cols = ~labs_scaled.columns.isin([('subject_id', ''), ('hadm_id', ''), 'subject_id', 'hadm_id', 'pos', 'gender', 'ethnicity', 'age'])\n",
    "\n",
    "labs_scaled_features = labs_scaled.loc[:, num_cols]\n",
    "add_constant(labs_scaled_features)\n",
    "\n",
    "high_vif = pd.Series([variance_inflation_factor(labs_scaled_features.values, i) \n",
    "               for i in range(labs_scaled_features.shape[1])], \n",
    "              index=labs_scaled_features.columns).sort_values(ascending = False)\n",
    "\n",
    "high_vif.head(20)\n"
   ]
  },
  {
   "cell_type": "code",
   "execution_count": null,
   "metadata": {},
   "outputs": [],
   "source": [
    "labs_scaled_features_limited = labs_scaled_features.copy()\n",
    "\n",
    "labs_scaled_features_limited.drop([('max', 50931),\n",
    "                                   ('mean', 51222),\n",
    "                                   ('max', 50912),\n",
    "                                   ('min', 51221),\n",
    "                                   ('mean', 50912),\n",
    "                                   ('mean', 51265),\n",
    "                                   ('max', 51006),\n",
    "                                   ('mean', 51221)], axis = 1, inplace = True)\n",
    "\n",
    "# # Top 40 labs\n",
    "# labs_scaled_features_limited.drop([('above_max', 51484),\n",
    "#                                   ('above_max', 51478),\n",
    "#                                   ('above_max', 51466),\n",
    "#                                   ('above_max', 51464),\n",
    "#                                   ('max', 51003),\n",
    "#                                   ('max', 50878),\n",
    "#                                   ('max', 50861),\n",
    "#                                   ('max', 51237),\n",
    "#                                   ('mean', 51248),\n",
    "#                                   ('max', 50931),\n",
    "#                                   ('mean', 51222),\n",
    "#                                   ('max', 51274),\n",
    "#                                   ('mean', 51279),\n",
    "#                                   ('mean', 51274),\n",
    "#                                   ('mean', 51478),\n",
    "#                                   ('mean', 50885),\n",
    "#                                   ('mean', 51250),\n",
    "#                                   ('max', 50911),\n",
    "#                                   ('mean', 51003),\n",
    "#                                   ('mean', 51466),\n",
    "#                                   ('mean', 51484),\n",
    "#                                   ('mean', 51486),\n",
    "#                                   ('mean', 51277),\n",
    "#                                   ('mean', 51221),\n",
    "#                                   ('max', 50912),\n",
    "#                                   ('max', 51275),\n",
    "#                                   ('mean', 51492),\n",
    "#                                   ('mean', 51514),\n",
    "#                                   ('mean', 51006),\n",
    "#                                   ('min', 51222),\n",
    "#                                   ('max', 50960),\n",
    "#                                   ('mean', 51249),\n",
    "#                                   ('max', 50885),\n",
    "#                                   ('mean', 51506),\n",
    "#                                   ('max', 51248),\n",
    "#                                   ('min', 51279),\n",
    "#                                   ('mean', 50912),\n",
    "#                                   ('mean', 51265),\n",
    "#                                   ('mean', 51464),\n",
    "#                                   ('min', 51248),\n",
    "#                                   ('max', 51222),\n",
    "#                                   ('max', 51301),\n",
    "#                                   ('mean', 51487),\n",
    "#                                   ('below_min', 51222),\n",
    "#                                   ('max', 51006),\n",
    "#                                   ('mean', 50902),\n",
    "#                                   ('mean', 50911),\n",
    "#                                   ('above_max', 50861),\n",
    "#                                   ('mean', 50882),\n",
    "#                                   ('below_min', 51279),\n",
    "#                                   ('abn_percent', 51274),\n",
    "#                                   ('mean', 51301),\n",
    "#                                   ('mean', 50893),\n",
    "#                                   ('max', 50863),\n",
    "#                                   ('min', 51250),\n",
    "#                                   ('mean', 50983),\n",
    "#                                   ('mean', 50868),\n",
    "#                                   ('mean', 50970),\n",
    "#                                   ('mean', 51237),\n",
    "#                                   ('mean', 50971),\n",
    "#                                   ('mean', 51498),\n",
    "#                                   ('mean', 51491),\n",
    "#                                   ('max', 51277),\n",
    "#                                   ('mean', 50878),\n",
    "#                                   ('above_max', 51237),\n",
    "#                                   ('mean', 51275),\n",
    "#                                   ('min', 51221),\n",
    "#                                   ('max', 51279),\n",
    "#                                   ('below_min', 51248),\n",
    "#                                   ('min', 50902),\n",
    "#                                   ('mean', 50863),\n",
    "#                                   ('mean', 50931),\n",
    "#                                   ('max', 50902),\n",
    "#                                   ('below_min', 51514),\n",
    "#                                   ('max', 51466),\n",
    "#                                   ('min', 50893),\n",
    "#                                   ('above_max', 50912),\n",
    "#                                   ('max', 51265),\n",
    "#                                   ('min', 50882),\n",
    "#                                   ('max', 50970),\n",
    "#                                   ('mean', 50960),\n",
    "#                                   ('min', 51249),\n",
    "#                                   ('min', 50983),\n",
    "#                                   ('min', 51237),\n",
    "#                                   ('above_max', 51003),\n",
    "#                                   ('above_max', 50885),\n",
    "#                                   ('abn_percent', 51466),\n",
    "#                                   ('max', 51486)], axis = 1, inplace = True)\n"
   ]
  },
  {
   "cell_type": "code",
   "execution_count": null,
   "metadata": {},
   "outputs": [],
   "source": [
    "%%time\n",
    "\n",
    "high_vif = pd.Series([variance_inflation_factor(labs_scaled_features_limited.values, i) \n",
    "               for i in range(labs_scaled_features_limited.shape[1])], \n",
    "              index=labs_scaled_features_limited.columns).sort_values(ascending = False)\n",
    "\n",
    "high_vif.head(20)\n"
   ]
  },
  {
   "cell_type": "code",
   "execution_count": null,
   "metadata": {},
   "outputs": [],
   "source": [
    "num_cols = ~pos_final_test.columns.isin([('subject_id', ''), ('hadm_id', ''), 'subject_id', 'hadm_id', 'pos', 'gender', 'ethnicity_AMERICAN INDIAN/ALASKA NATIVE', 'ethnicity_ASIAN', 'ethnicity_BLACK/AFRICAN AMERICAN', 'ethnicity_HISPANIC/LATINO', 'ethnicity_OTHER', 'ethnicity_UNKNOWN', 'age'])\n",
    "\n",
    "col_names = []\n",
    "col_names = list(pos_final_test.loc[:, num_cols].columns)\n",
    "\n",
    "x, y = zip(*col_names)\n",
    "col_names = list(zip(x, list(map(labitem_dict.get, y))))\n",
    "# pos_final_test.loc[:, num_cols].columns = col_names\n",
    "type(pos_final_test.loc[:, num_cols].columns)\n",
    "\n",
    "# col_names\n"
   ]
  },
  {
   "cell_type": "code",
   "execution_count": null,
   "metadata": {},
   "outputs": [],
   "source": [
    "labitem_names = d_labitems.loc[d_labitems['itemid'].isin(itemid_sub_sample)].copy()\n",
    "labitem_names['Short Name'] = labitem_names['label'] + ' - ' + labitem_names['fluid'] + ' - ' + labitem_names['category']\n",
    "\n",
    "labitem_names = labitem_names[['itemid', 'Short Name']]\n",
    "labitem_names.set_index('itemid', inplace = True)\n",
    "labitem_dict = labitem_names.to_dict()['Short Name']\n",
    "labitem_dict\n"
   ]
  },
  {
   "cell_type": "code",
   "execution_count": null,
   "metadata": {},
   "outputs": [],
   "source": []
  },
  {
   "cell_type": "code",
   "execution_count": null,
   "metadata": {},
   "outputs": [],
   "source": []
  },
  {
   "cell_type": "code",
   "execution_count": null,
   "metadata": {},
   "outputs": [],
   "source": []
  }
 ],
 "metadata": {
  "kernelspec": {
   "display_name": "Python 3",
   "language": "python",
   "name": "python3"
  },
  "language_info": {
   "codemirror_mode": {
    "name": "ipython",
    "version": 3
   },
   "file_extension": ".py",
   "mimetype": "text/x-python",
   "name": "python",
   "nbconvert_exporter": "python",
   "pygments_lexer": "ipython3",
   "version": "3.7.6"
  }
 },
 "nbformat": 4,
 "nbformat_minor": 4
}
