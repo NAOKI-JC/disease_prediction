{
 "cells": [
  {
   "cell_type": "code",
   "execution_count": 1,
   "metadata": {},
   "outputs": [],
   "source": [
    "import pandas as pd\n",
    "import numpy as np\n",
    "from sklearn.utils import resample\n",
    "import math"
   ]
  },
  {
   "cell_type": "code",
   "execution_count": 2,
   "metadata": {},
   "outputs": [],
   "source": [
    "d_labitems = pd.read_csv('data/mimic-iv-0.4/hosp/d_labitems.csv.gz', compression='gzip')"
   ]
  },
  {
   "cell_type": "code",
   "execution_count": 3,
   "metadata": {},
   "outputs": [],
   "source": [
    "admissions_sample = pd.read_pickle(\"admissions_sample.pkl\")"
   ]
  },
  {
   "cell_type": "markdown",
   "metadata": {},
   "source": [
    "## Pull Chart and Lab data only where it matches our sample patient list"
   ]
  },
  {
   "cell_type": "code",
   "execution_count": 4,
   "metadata": {},
   "outputs": [],
   "source": [
    "# # We have Decided not to use Chart data after exploring it further\n",
    "# # However, it still comes up in our discussions, so keeping this for now\n",
    "# # Will need to update this code based on other updates we've made\n",
    "\n",
    "# %%time #run this for next time\n",
    "\n",
    "# chunksize = 3*(10 ** 6)\n",
    "# counter=0\n",
    "# chartevents_sample = []\n",
    "# for chunk in pd.read_csv('data/mimic-iv-0.4/icu/chartevents.csv.gz', compression='gzip', chunksize=chunksize):\n",
    "#     chartevents_sample.append(chunk[chunk['subject_id'].isin(list(admissions_sample.subject_id))])\n",
    "#     counter+=1\n",
    "#     print(f'chunk {counter} processed')\n",
    "\n",
    "# chartevents_final = pd.concat(chartevents_sample)\n",
    "\n"
   ]
  },
  {
   "cell_type": "code",
   "execution_count": 5,
   "metadata": {},
   "outputs": [],
   "source": [
    "# chartevents_final.to_pickle(\"chartevents_final.pkl\")"
   ]
  },
  {
   "cell_type": "code",
   "execution_count": 6,
   "metadata": {},
   "outputs": [],
   "source": [
    "# chartevents_final = pd.read_pickle(\"chartevents_final.pkl\")"
   ]
  },
  {
   "cell_type": "code",
   "execution_count": 7,
   "metadata": {},
   "outputs": [],
   "source": [
    "# chartevents_final.shape"
   ]
  },
  {
   "cell_type": "markdown",
   "metadata": {},
   "source": [
    "Load Lab Events table"
   ]
  },
  {
   "cell_type": "code",
   "execution_count": 8,
   "metadata": {
    "scrolled": true
   },
   "outputs": [
    {
     "name": "stdout",
     "output_type": "stream",
     "text": [
      "chunk 1 processed\n",
      "chunk 2 processed\n",
      "chunk 3 processed\n"
     ]
    },
    {
     "name": "stderr",
     "output_type": "stream",
     "text": [
      "<string>:2: DtypeWarning: Columns (7,9,12) have mixed types.Specify dtype option on import or set low_memory=False.\n"
     ]
    },
    {
     "name": "stdout",
     "output_type": "stream",
     "text": [
      "chunk 4 processed\n",
      "chunk 5 processed\n",
      "chunk 6 processed\n",
      "chunk 7 processed\n",
      "chunk 8 processed\n",
      "chunk 9 processed\n"
     ]
    },
    {
     "name": "stderr",
     "output_type": "stream",
     "text": [
      "<string>:2: DtypeWarning: Columns (9,12) have mixed types.Specify dtype option on import or set low_memory=False.\n"
     ]
    },
    {
     "name": "stdout",
     "output_type": "stream",
     "text": [
      "chunk 10 processed\n"
     ]
    },
    {
     "name": "stderr",
     "output_type": "stream",
     "text": [
      "<string>:2: DtypeWarning: Columns (12) have mixed types.Specify dtype option on import or set low_memory=False.\n"
     ]
    },
    {
     "name": "stdout",
     "output_type": "stream",
     "text": [
      "chunk 11 processed\n",
      "chunk 12 processed\n",
      "chunk 13 processed\n",
      "chunk 14 processed\n",
      "chunk 15 processed\n"
     ]
    },
    {
     "name": "stderr",
     "output_type": "stream",
     "text": [
      "<string>:2: DtypeWarning: Columns (7) have mixed types.Specify dtype option on import or set low_memory=False.\n"
     ]
    },
    {
     "name": "stdout",
     "output_type": "stream",
     "text": [
      "chunk 16 processed\n",
      "chunk 17 processed\n",
      "chunk 18 processed\n",
      "chunk 19 processed\n",
      "chunk 20 processed\n",
      "chunk 21 processed\n",
      "chunk 22 processed\n",
      "chunk 23 processed\n"
     ]
    },
    {
     "name": "stderr",
     "output_type": "stream",
     "text": [
      "<string>:2: DtypeWarning: Columns (7,9) have mixed types.Specify dtype option on import or set low_memory=False.\n"
     ]
    },
    {
     "name": "stdout",
     "output_type": "stream",
     "text": [
      "chunk 24 processed\n",
      "chunk 25 processed\n",
      "chunk 26 processed\n",
      "chunk 27 processed\n",
      "chunk 28 processed\n",
      "chunk 29 processed\n",
      "chunk 30 processed\n",
      "chunk 31 processed\n",
      "chunk 32 processed\n",
      "chunk 33 processed\n",
      "chunk 34 processed\n",
      "chunk 35 processed\n",
      "chunk 36 processed\n",
      "chunk 37 processed\n",
      "chunk 38 processed\n",
      "chunk 39 processed\n",
      "chunk 40 processed\n",
      "chunk 41 processed\n",
      "CPU times: user 4min 3s, sys: 21.6 s, total: 4min 24s\n",
      "Wall time: 4min 27s\n"
     ]
    }
   ],
   "source": [
    "%%time\n",
    "\n",
    "chunksize = 3*(10 ** 6)\n",
    "counter=0\n",
    "lab_events_sample = []\n",
    "for chunk in pd.read_csv('data/mimic-iv-0.4/hosp/labevents.csv.gz', compression='gzip', chunksize=chunksize):\n",
    "    lab_events_sample.append(chunk[chunk['subject_id'].isin(list(admissions_sample.subject_id))])\n",
    "    counter+=1\n",
    "    print(f'chunk {counter} processed')\n",
    "\n",
    "lab_events_final = pd.concat(lab_events_sample)\n",
    "# 5k patients\n",
    "# 3min 52s\n",
    "\n",
    "# 10k patients\n",
    "# 4min 6s\n",
    "\n",
    "# 15k patients\n",
    "# 4min 27s\n",
    "\n"
   ]
  },
  {
   "cell_type": "code",
   "execution_count": 9,
   "metadata": {},
   "outputs": [],
   "source": [
    "lab_events_final.to_pickle(\"lab_events_final.pkl\")"
   ]
  },
  {
   "cell_type": "code",
   "execution_count": 10,
   "metadata": {},
   "outputs": [],
   "source": [
    "# lab_events_final = pd.read_pickle(\"lab_events_final.pkl\")"
   ]
  },
  {
   "cell_type": "code",
   "execution_count": 11,
   "metadata": {},
   "outputs": [
    {
     "data": {
      "text/plain": [
       "(6765210, 15)"
      ]
     },
     "execution_count": 11,
     "metadata": {},
     "output_type": "execute_result"
    }
   ],
   "source": [
    "lab_events_final.shape"
   ]
  },
  {
   "cell_type": "markdown",
   "metadata": {},
   "source": [
    "## Manipulating the Data"
   ]
  },
  {
   "cell_type": "markdown",
   "metadata": {},
   "source": [
    "Take only records related to our sample patients"
   ]
  },
  {
   "cell_type": "markdown",
   "metadata": {},
   "source": [
    "Filter lab events based on first hospital visit of our sample population"
   ]
  },
  {
   "cell_type": "code",
   "execution_count": 12,
   "metadata": {},
   "outputs": [
    {
     "name": "stdout",
     "output_type": "stream",
     "text": [
      "CPU times: user 1.83 s, sys: 707 ms, total: 2.54 s\n",
      "Wall time: 2.59 s\n"
     ]
    }
   ],
   "source": [
    "# Can we do this filtering when generating lab data?\n",
    "# For now let's not as we're discussing using different hospitalizations from the same subjects\n",
    "\n",
    "%time lab_events_sampled = lab_events_final[lab_events_final['hadm_id'].isin(admissions_sample.hadm_id)]\n"
   ]
  },
  {
   "cell_type": "markdown",
   "metadata": {},
   "source": [
    "Check how many patients have had each test done"
   ]
  },
  {
   "cell_type": "code",
   "execution_count": 13,
   "metadata": {},
   "outputs": [
    {
     "data": {
      "text/plain": [
       "itemid\n",
       "51221    8433\n",
       "51265    8297\n",
       "51222    8236\n",
       "51301    8235\n",
       "51248    8229\n",
       "51279    8229\n",
       "51277    8229\n",
       "51250    8229\n",
       "51249    8229\n",
       "50912    7985\n",
       "Name: subject_id, dtype: int64"
      ]
     },
     "execution_count": 13,
     "metadata": {},
     "output_type": "execute_result"
    }
   ],
   "source": [
    "lab_events_sampled.groupby('itemid')['subject_id'].nunique().sort_values(ascending = False).head(10)"
   ]
  },
  {
   "cell_type": "markdown",
   "metadata": {},
   "source": [
    "Most common tests performed on patients with pos diagnosis"
   ]
  },
  {
   "cell_type": "code",
   "execution_count": 14,
   "metadata": {},
   "outputs": [
    {
     "data": {
      "text/plain": [
       "itemid\n",
       "50971    1196\n",
       "50983    1193\n",
       "50912    1192\n",
       "50902    1191\n",
       "51006    1191\n",
       "51221    1181\n",
       "51265    1181\n",
       "50868    1180\n",
       "50882    1180\n",
       "50931    1174\n",
       "Name: subject_id, dtype: int64"
      ]
     },
     "execution_count": 14,
     "metadata": {},
     "output_type": "execute_result"
    }
   ],
   "source": [
    "lab_events_sampled[lab_events_sampled['subject_id'].isin(list(admissions_sample[admissions_sample['pos'] == 1].subject_id))].groupby('itemid')['subject_id'].nunique().sort_values(ascending = False).head(10)\n"
   ]
  },
  {
   "cell_type": "markdown",
   "metadata": {},
   "source": [
    "Item Black List"
   ]
  },
  {
   "cell_type": "code",
   "execution_count": 15,
   "metadata": {},
   "outputs": [],
   "source": [
    "item_black_list = [50920]\n",
    "# 50920 - test results are text in comments - need to come back and figure out how to handle this\n"
   ]
  },
  {
   "cell_type": "markdown",
   "metadata": {},
   "source": [
    "Take only the X most commonly performed tests"
   ]
  },
  {
   "cell_type": "code",
   "execution_count": 16,
   "metadata": {},
   "outputs": [],
   "source": [
    "top_test_num = 40\n",
    "\n",
    "lab_events_valid = lab_events_sampled[~lab_events_sampled['itemid'].isin(item_black_list)]\n",
    "\n",
    "# On patients with pos diagnosis\n",
    "itemid_sub_sample = lab_events_valid[lab_events_valid['subject_id'].isin(list(admissions_sample[admissions_sample['pos'] == 1].subject_id))].groupby('itemid')['subject_id'].nunique().sort_values(ascending = False).head(top_test_num).reset_index().rename(columns = {'index' : 'itemid'}).itemid.to_list()\n",
    "# On all sample patients\n",
    "# itemid_sub_sample = lab_events_sampled.groupby('itemid')['subject_id'].nunique().sort_values(ascending = False).head(top_test_num).reset_index().rename(columns = {'index' : 'itemid'}).itemid.to_list()\n",
    "\n",
    "lab_events_sampled_sub = lab_events_sampled[lab_events_sampled['itemid'].isin(itemid_sub_sample)]\n"
   ]
  },
  {
   "cell_type": "markdown",
   "metadata": {},
   "source": [
    "## Data Cleaning"
   ]
  },
  {
   "cell_type": "markdown",
   "metadata": {},
   "source": [
    "Make a separate table where we run some of the forest models on the Text data?"
   ]
  },
  {
   "cell_type": "markdown",
   "metadata": {},
   "source": [
    "Special updates for Urine sample tests"
   ]
  },
  {
   "cell_type": "code",
   "execution_count": 17,
   "metadata": {},
   "outputs": [
    {
     "name": "stderr",
     "output_type": "stream",
     "text": [
      "/opt/anaconda3/lib/python3.7/site-packages/pandas/core/indexing.py:965: SettingWithCopyWarning: \n",
      "A value is trying to be set on a copy of a slice from a DataFrame.\n",
      "Try using .loc[row_indexer,col_indexer] = value instead\n",
      "\n",
      "See the caveats in the documentation: https://pandas.pydata.org/pandas-docs/stable/user_guide/indexing.html#returning-a-view-versus-a-copy\n",
      "  self.obj[item] = s\n"
     ]
    }
   ],
   "source": [
    "# Other invalid value imputation\n",
    "# For now set them all to normal/most common value\n",
    "lab_events_sampled_sub.loc[(lab_events_sampled_sub['itemid'] == 51237) & (lab_events_sampled_sub['value'].isin([np.nan, 'ERROR', 'UNABLE TO REPORT'])), ['value', 'valuenum']] = 1.1\n",
    "lab_events_sampled_sub.loc[(lab_events_sampled_sub['itemid'] == 51237) & (lab_events_sampled_sub['value'].isin(['>21.8'])), ['value', 'valuenum']] = 22\n",
    "lab_events_sampled_sub.loc[(lab_events_sampled_sub['itemid'] == 51237) & (lab_events_sampled_sub['value'].isin(['>19.2'])), ['value', 'valuenum']] = 20\n",
    "\n",
    "lab_events_sampled_sub.loc[(lab_events_sampled_sub['itemid'] == 51275) &  (lab_events_sampled_sub['value'].isin(['>150', '>150.0'])), ['value', 'valuenum']] = 175\n",
    "\n",
    "# Should we just delete these?\n",
    "# For 5k patients there are 6 records here\n",
    "lab_events_sampled_sub.loc[(lab_events_sampled_sub['itemid'] == 51274) &  (lab_events_sampled_sub['value'].isin(['ERROR'])), ['value', 'valuenum']] = 11\n",
    "\n",
    "# Should we just delete these?\n",
    "# For 5k patients there are 1 records here\n",
    "lab_events_sampled_sub.loc[(lab_events_sampled_sub['itemid'] == 51275) &  (lab_events_sampled_sub['value'].isin(['UNABLE TO REPORT'])), ['value', 'valuenum']] = 31\n",
    "\n",
    "# Clumsy..\n",
    "lab_events_sampled_sub.loc[(lab_events_sampled_sub['itemid'] == 51275) &  (lab_events_sampled_sub['value'].isin(['34..3'])), ['value', 'valuenum']] = 34.3\n"
   ]
  },
  {
   "cell_type": "markdown",
   "metadata": {},
   "source": [
    "More Data Cleaning"
   ]
  },
  {
   "cell_type": "code",
   "execution_count": 32,
   "metadata": {},
   "outputs": [
    {
     "name": "stderr",
     "output_type": "stream",
     "text": [
      "/opt/anaconda3/lib/python3.7/site-packages/pandas/core/indexing.py:965: SettingWithCopyWarning: \n",
      "A value is trying to be set on a copy of a slice from a DataFrame.\n",
      "Try using .loc[row_indexer,col_indexer] = value instead\n",
      "\n",
      "See the caveats in the documentation: https://pandas.pydata.org/pandas-docs/stable/user_guide/indexing.html#returning-a-view-versus-a-copy\n",
      "  self.obj[item] = s\n"
     ]
    },
    {
     "name": "stdout",
     "output_type": "stream",
     "text": [
      "CPU times: user 5.04 s, sys: 132 ms, total: 5.17 s\n",
      "Wall time: 5.2 s\n"
     ]
    }
   ],
   "source": [
    "%%time\n",
    "\n",
    "# Can probably make a helper function combining some of the below mapping\n",
    "\n",
    "# 51466\n",
    "lab_events_sampled_sub.loc[(lab_events_sampled_sub['itemid'] == 51466) & (lab_events_sampled_sub['value'].isin([np.nan])), ['value']] = lab_events_sampled_sub['comments']\n",
    "lab_events_sampled_sub.loc[(lab_events_sampled_sub['itemid'] == 51466) & (lab_events_sampled_sub['value'].isin(['NEG.  ', 'NEG', ' '])), ['value', 'valuenum']] = 0\n",
    "lab_events_sampled_sub.loc[(lab_events_sampled_sub['itemid'] == 51466) & (lab_events_sampled_sub['value'].isin(['TR', 'TR.  ', 'TR*.  '])), ['value', 'valuenum']] = 1\n",
    "lab_events_sampled_sub.loc[(lab_events_sampled_sub['itemid'] == 51466) & (lab_events_sampled_sub['value'].isin(['SM', 'SM .  ', 'SM*.  '])), ['value', 'valuenum']] = 2\n",
    "lab_events_sampled_sub.loc[(lab_events_sampled_sub['itemid'] == 51466) & (lab_events_sampled_sub['value'].isin(['MOD', 'MOD.  ', 'MOD*.  '])), ['value', 'valuenum']] = 3\n",
    "lab_events_sampled_sub.loc[(lab_events_sampled_sub['itemid'] == 51466) & (lab_events_sampled_sub['value'].isin(['LG', 'LG.  ', 'LG*.  ', 'LGE', 'LRG'])), ['value', 'valuenum']] = 4\n",
    "\n",
    "lab_events_sampled_sub.loc[(lab_events_sampled_sub['itemid'] == 51466) & (lab_events_sampled_sub['ref_range_lower'].isnull()), 'ref_range_lower'] = 0\n",
    "lab_events_sampled_sub.loc[(lab_events_sampled_sub['itemid'] == 51466) & (lab_events_sampled_sub['ref_range_upper'].isnull()), 'ref_range_upper'] = 0\n",
    "\n",
    "# 51514\n",
    "lab_events_sampled_sub.loc[(lab_events_sampled_sub['itemid'] == 51514) & (lab_events_sampled_sub['value'].isin([np.nan])), ['value']] = lab_events_sampled_sub['comments']\n",
    "lab_events_sampled_sub.loc[(lab_events_sampled_sub['itemid'] == 51514) & (lab_events_sampled_sub['value'].isin(['NEG.  ', 'NEG', 'NORMAL.  ', ' '])), ['value', 'valuenum']] = 0\n",
    "lab_events_sampled_sub.loc[(lab_events_sampled_sub['itemid'] == 51514) & (lab_events_sampled_sub['value'].isin(['>8'])), ['value', 'valuenum']] = 10\n",
    "lab_events_sampled_sub.loc[(lab_events_sampled_sub['itemid'] == 51514) & (lab_events_sampled_sub['value'].isin(['>12.  ', '>12*.  '])), ['value', 'valuenum']] = 15\n",
    "\n",
    "# 51464\n",
    "lab_events_sampled_sub.loc[(lab_events_sampled_sub['itemid'] == 51464) & (lab_events_sampled_sub['value'].isin([np.nan])), ['value']] = lab_events_sampled_sub['comments']\n",
    "lab_events_sampled_sub.loc[(lab_events_sampled_sub['itemid'] == 51464) & (lab_events_sampled_sub['value'].isin(['NEG.  ', 'NEG', ' '])), ['value', 'valuenum']] = 0\n",
    "lab_events_sampled_sub.loc[(lab_events_sampled_sub['itemid'] == 51464) & (lab_events_sampled_sub['value'].isin(['SM', 'SM .  ', 'SM*.  '])), ['value', 'valuenum']] = 1\n",
    "lab_events_sampled_sub.loc[(lab_events_sampled_sub['itemid'] == 51464) & (lab_events_sampled_sub['value'].isin(['MOD', 'MOD.  ', 'MOD*.  '])), ['value', 'valuenum']] = 2\n",
    "lab_events_sampled_sub.loc[(lab_events_sampled_sub['itemid'] == 51464) & (lab_events_sampled_sub['value'].isin(['LG', 'LG.  ', 'LG*.  ', 'LGE'])), ['value', 'valuenum']] = 3\n",
    "\n",
    "lab_events_sampled_sub.loc[(lab_events_sampled_sub['itemid'] == 51464) & (lab_events_sampled_sub['ref_range_lower'].isnull()), 'ref_range_lower'] = 0\n",
    "lab_events_sampled_sub.loc[(lab_events_sampled_sub['itemid'] == 51464) & (lab_events_sampled_sub['ref_range_upper'].isnull()), 'ref_range_upper'] = 0\n",
    "\n",
    "# 51487\n",
    "# Should Pos be marked abnormal?\n",
    "lab_events_sampled_sub.loc[(lab_events_sampled_sub['itemid'] == 51487) & (lab_events_sampled_sub['value'].isin([np.nan])), ['value']] = lab_events_sampled_sub['comments']\n",
    "lab_events_sampled_sub.loc[(lab_events_sampled_sub['itemid'] == 51487) & (lab_events_sampled_sub['value'].isin(['NEG.  ', 'NEG', ' '])), ['value', 'valuenum']] = 0\n",
    "lab_events_sampled_sub.loc[(lab_events_sampled_sub['itemid'] == 51487) & (lab_events_sampled_sub['value'].isin(['POS.  ', 'POS', 'POS*.  '])), ['value', 'valuenum']] = 1\n",
    "\n",
    "lab_events_sampled_sub.loc[(lab_events_sampled_sub['itemid'] == 51487) & (lab_events_sampled_sub['ref_range_lower'].isnull()), 'ref_range_lower'] = 0\n",
    "lab_events_sampled_sub.loc[(lab_events_sampled_sub['itemid'] == 51487) & (lab_events_sampled_sub['ref_range_upper'].isnull()), 'ref_range_upper'] = 0\n",
    "\n",
    "# 51492\n",
    "# Should Pos be marked abnormal?\n",
    "lab_events_sampled_sub.loc[(lab_events_sampled_sub['itemid'] == 51492) & (lab_events_sampled_sub['value'].isin([np.nan])), ['value']] = lab_events_sampled_sub['comments']\n",
    "lab_events_sampled_sub.loc[(lab_events_sampled_sub['itemid'] == 51492) & (lab_events_sampled_sub['value'].isin(['___'])), ['value', 'valuenum']] = np.nan\n",
    "lab_events_sampled_sub.loc[(lab_events_sampled_sub['itemid'] == 51492) & (lab_events_sampled_sub['value'].isin(['NEG.  ', 'NEG', ' '])), ['value', 'valuenum']] = 0\n",
    "lab_events_sampled_sub.loc[(lab_events_sampled_sub['itemid'] == 51492) & (lab_events_sampled_sub['value'].isin(['TR', 'TR.  ', 'TR*.  '])), ['value', 'valuenum']] = 10\n",
    "lab_events_sampled_sub.loc[(lab_events_sampled_sub['itemid'] == 51492) & (lab_events_sampled_sub['value'].str.contains('TR.')), ['value', 'valuenum']] = 10\n",
    "lab_events_sampled_sub.loc[(lab_events_sampled_sub['itemid'] == 51492) & (lab_events_sampled_sub['value'].isin(['>300'])), ['value', 'valuenum']] = 350\n",
    "lab_events_sampled_sub.loc[(lab_events_sampled_sub['itemid'] == 51492) & (lab_events_sampled_sub['value'].isin(['>600.  ', '>600*.  '])), ['value', 'valuenum']] = 700\n",
    "\n",
    "lab_events_sampled_sub.loc[(lab_events_sampled_sub['itemid'] == 51492) & (lab_events_sampled_sub['ref_range_lower'].isnull()), 'ref_range_lower'] = 0\n",
    "lab_events_sampled_sub.loc[(lab_events_sampled_sub['itemid'] == 51492) & (lab_events_sampled_sub['ref_range_upper'].isnull()), 'ref_range_upper'] = 0\n",
    "\n",
    "# 51486\n",
    "lab_events_sampled_sub.loc[(lab_events_sampled_sub['itemid'] == 51486) & (lab_events_sampled_sub['value'].isin([np.nan])), ['value']] = lab_events_sampled_sub['comments']\n",
    "lab_events_sampled_sub.loc[(lab_events_sampled_sub['itemid'] == 51486) & (lab_events_sampled_sub['value'].isin(['NEG.  ', 'NEG', ' ', 'N'])), ['value', 'valuenum']] = 0\n",
    "lab_events_sampled_sub.loc[(lab_events_sampled_sub['itemid'] == 51486) & (lab_events_sampled_sub['value'].isin(['TR', 'TR.  ', 'TR*.  '])), ['value', 'valuenum']] = 1\n",
    "lab_events_sampled_sub.loc[(lab_events_sampled_sub['itemid'] == 51486) & (lab_events_sampled_sub['value'].isin(['SM', 'SM .  ', 'SM*.  '])), ['value', 'valuenum']] = 2\n",
    "lab_events_sampled_sub.loc[(lab_events_sampled_sub['itemid'] == 51486) & (lab_events_sampled_sub['value'].isin(['MOD', 'MOD.  ', 'MOD*.  '])), ['value', 'valuenum']] = 3\n",
    "lab_events_sampled_sub.loc[(lab_events_sampled_sub['itemid'] == 51486) & (lab_events_sampled_sub['value'].isin(['LG', 'LG.  ', 'LG*.  ', 'LGE'])), ['value', 'valuenum']] = 4\n",
    "\n",
    "lab_events_sampled_sub.loc[(lab_events_sampled_sub['itemid'] == 51486) & (lab_events_sampled_sub['ref_range_lower'].isnull()), 'ref_range_lower'] = 0\n",
    "lab_events_sampled_sub.loc[(lab_events_sampled_sub['itemid'] == 51486) & (lab_events_sampled_sub['ref_range_upper'].isnull()), 'ref_range_upper'] = 0\n",
    "\n",
    "# 51506\n",
    "lab_events_sampled_sub.loc[(lab_events_sampled_sub['itemid'] == 51506) & (lab_events_sampled_sub['value'].isin([np.nan])), ['value']] = lab_events_sampled_sub['comments']\n",
    "lab_events_sampled_sub.loc[(lab_events_sampled_sub['itemid'] == 51506) & (lab_events_sampled_sub['value'].isin(['Clear.  ', 'CLEAR.  ', 'Clear', ' ', 'CLEAR'])), ['value', 'valuenum']] = 0\n",
    "lab_events_sampled_sub.loc[(lab_events_sampled_sub['itemid'] == 51506) & (lab_events_sampled_sub['value'].isin(['SlHazy'])), ['value', 'valuenum']] = 0.5\n",
    "lab_events_sampled_sub.loc[(lab_events_sampled_sub['itemid'] == 51506) & (lab_events_sampled_sub['value'].isin(['Hazy.  ', 'Hazy*.  ', 'Hazy', 'HAZY', 'HAZY*.  ', 'Slcldy', 'SLCLOUDY'])), ['value', 'valuenum']] = 1\n",
    "lab_events_sampled_sub.loc[(lab_events_sampled_sub['itemid'] == 51506) & (lab_events_sampled_sub['value'].isin(['Cloudy*.  ', 'Cloudy.  ', 'Cloudy', 'CLO', 'CLOUDY', 'CLOU', 'CLOUDY*.  '])), ['value', 'valuenum']] = 2\n",
    "\n",
    "lab_events_sampled_sub.loc[(lab_events_sampled_sub['itemid'] == 51506) & (lab_events_sampled_sub['ref_range_lower'].isnull()), 'ref_range_lower'] = 0\n",
    "lab_events_sampled_sub.loc[(lab_events_sampled_sub['itemid'] == 51506) & (lab_events_sampled_sub['ref_range_upper'].isnull()), 'ref_range_upper'] = 0\n"
   ]
  },
  {
   "cell_type": "markdown",
   "metadata": {},
   "source": [
    "Additional Data Cleaning"
   ]
  },
  {
   "cell_type": "code",
   "execution_count": 33,
   "metadata": {},
   "outputs": [],
   "source": [
    "lab_events_sampled_sub.loc[(lab_events_sampled_sub['itemid'] == 51484) & (lab_events_sampled_sub['value'].isin([np.nan, ' ', 'TR', 'NEG'])), ['value', 'valuenum']] = 0\n",
    "lab_events_sampled_sub.loc[(lab_events_sampled_sub['itemid'] == 51478) & (lab_events_sampled_sub['value'].isin([np.nan, ' ', 'TR', 'NEG'])), ['value', 'valuenum']] = 0\n",
    "\n",
    "lab_events_sampled_sub.loc[(lab_events_sampled_sub['itemid'] == 51484) & (lab_events_sampled_sub['ref_range_lower'].isnull()), 'ref_range_lower'] = 0\n",
    "lab_events_sampled_sub.loc[(lab_events_sampled_sub['itemid'] == 51478) & (lab_events_sampled_sub['ref_range_lower'].isnull()), 'ref_range_lower'] = 0\n",
    "\n",
    "lab_events_sampled_sub.loc[(lab_events_sampled_sub['itemid'] == 51484) & (lab_events_sampled_sub['ref_range_upper'].isnull()), 'ref_range_upper'] = 0\n",
    "lab_events_sampled_sub.loc[(lab_events_sampled_sub['itemid'] == 51478) & (lab_events_sampled_sub['ref_range_upper'].isnull()), 'ref_range_upper'] = 0\n",
    "\n",
    "# What are good replacement values for these?\n",
    "lab_events_sampled_sub.loc[(lab_events_sampled_sub['itemid'] == 51484) & (lab_events_sampled_sub['value'].isin(['>80'])), ['value', 'valuenum']] = 120\n",
    "lab_events_sampled_sub.loc[(lab_events_sampled_sub['itemid'] == 51478) & (lab_events_sampled_sub['value'].isin(['>1000'])), ['value', 'valuenum']] = 1250\n",
    "\n",
    "lab_events_sampled_sub.loc[(lab_events_sampled_sub['itemid'] == 51498) & (lab_events_sampled_sub['value'].isin(['<1.005'])), ['value', 'valuenum']] = 1.000\n",
    "lab_events_sampled_sub.loc[(lab_events_sampled_sub['itemid'] == 51498) & (lab_events_sampled_sub['value'].isin(['<=1.005'])), ['value', 'valuenum']] = 1.000\n",
    "lab_events_sampled_sub.loc[(lab_events_sampled_sub['itemid'] == 51498) & (lab_events_sampled_sub['value'].isin(['>1.030', '.1.030'])), ['value', 'valuenum']] = 1.035\n",
    "lab_events_sampled_sub.loc[(lab_events_sampled_sub['itemid'] == 51498) & (lab_events_sampled_sub['value'].isin(['>1.035'])), ['value', 'valuenum']] = 1.040\n",
    "lab_events_sampled_sub.loc[(lab_events_sampled_sub['itemid'] == 51498) & (lab_events_sampled_sub['value'].isin(['>1.050'])), ['value', 'valuenum']] = 1.055\n",
    "lab_events_sampled_sub.loc[(lab_events_sampled_sub['itemid'] == 51498) & (lab_events_sampled_sub['comments'].isin(['>1.050*.'])), ['value', 'valuenum']] = 1.055\n",
    "lab_events_sampled_sub.loc[(lab_events_sampled_sub['itemid'] == 51498) & (lab_events_sampled_sub['value'].isin(['>=1.035'])), ['value', 'valuenum']] = 1.040\n",
    "lab_events_sampled_sub.loc[(lab_events_sampled_sub['itemid'] == 51498) & (lab_events_sampled_sub['value'].isin([' '])), ['value', 'valuenum']] = 1.015\n",
    "\n",
    "lab_events_sampled_sub.loc[(lab_events_sampled_sub['itemid'] == 51237) & (lab_events_sampled_sub['value'].isin(['>13.4'])), ['value', 'valuenum']] = 15\n",
    "\n",
    "lab_events_sampled_sub.loc[(lab_events_sampled_sub['itemid'] == 51491) & (lab_events_sampled_sub['value'].isin([' '])), ['value', 'valuenum']] = 6.0\n",
    "\n",
    "lab_events_sampled_sub.loc[(lab_events_sampled_sub['itemid'] == 51498) & (lab_events_sampled_sub['value'].isin(['>1.070'])), ['value', 'valuenum']] = 1.080\n",
    "\n",
    "lab_events_sampled_sub.loc[(lab_events_sampled_sub['itemid'] == 51275) & (lab_events_sampled_sub['value'].isin(['ERROR'])), ['value', 'valuenum']] = np.nan\n",
    "\n",
    "lab_events_sampled_sub.loc[(lab_events_sampled_sub['itemid'] == 51484) & (lab_events_sampled_sub['value'].astype(float) > 0), 'flag'] = 'abnormal'\n",
    "lab_events_sampled_sub.loc[(lab_events_sampled_sub['itemid'] == 51478) & (lab_events_sampled_sub['value'].astype(float) > 0), 'flag'] = 'abnormal'\n",
    "\n",
    "lab_events_sampled_sub.loc[(lab_events_sampled_sub['itemid'] == 51466) & (lab_events_sampled_sub['value'].astype(float) > 0), 'flag'] = 'abnormal'\n"
   ]
  },
  {
   "cell_type": "code",
   "execution_count": 34,
   "metadata": {},
   "outputs": [
    {
     "data": {
      "text/html": [
       "<div>\n",
       "<style scoped>\n",
       "    .dataframe tbody tr th:only-of-type {\n",
       "        vertical-align: middle;\n",
       "    }\n",
       "\n",
       "    .dataframe tbody tr th {\n",
       "        vertical-align: top;\n",
       "    }\n",
       "\n",
       "    .dataframe thead th {\n",
       "        text-align: right;\n",
       "    }\n",
       "</style>\n",
       "<table border=\"1\" class=\"dataframe\">\n",
       "  <thead>\n",
       "    <tr style=\"text-align: right;\">\n",
       "      <th></th>\n",
       "      <th>labevent_id</th>\n",
       "      <th>subject_id</th>\n",
       "      <th>hadm_id</th>\n",
       "      <th>specimen_id</th>\n",
       "      <th>itemid</th>\n",
       "      <th>charttime</th>\n",
       "      <th>storetime</th>\n",
       "      <th>value</th>\n",
       "      <th>valuenum</th>\n",
       "      <th>valueuom</th>\n",
       "      <th>ref_range_lower</th>\n",
       "      <th>ref_range_upper</th>\n",
       "      <th>flag</th>\n",
       "      <th>priority</th>\n",
       "      <th>comments</th>\n",
       "    </tr>\n",
       "  </thead>\n",
       "  <tbody>\n",
       "    <tr>\n",
       "      <th>67219781</th>\n",
       "      <td>77231095</td>\n",
       "      <td>16195081</td>\n",
       "      <td>21878501.0</td>\n",
       "      <td>38616318</td>\n",
       "      <td>51498</td>\n",
       "      <td>2119-04-06 01:08:00</td>\n",
       "      <td>2119-04-06 01:14:00</td>\n",
       "      <td>1.000</td>\n",
       "      <td>1.0</td>\n",
       "      <td></td>\n",
       "      <td>1.001</td>\n",
       "      <td>1.035</td>\n",
       "      <td>abnormal</td>\n",
       "      <td>STAT</td>\n",
       "      <td>NaN</td>\n",
       "    </tr>\n",
       "  </tbody>\n",
       "</table>\n",
       "</div>"
      ],
      "text/plain": [
       "          labevent_id  subject_id     hadm_id  specimen_id  itemid  \\\n",
       "67219781     77231095    16195081  21878501.0     38616318   51498   \n",
       "\n",
       "                    charttime            storetime  value  valuenum valueuom  \\\n",
       "67219781  2119-04-06 01:08:00  2119-04-06 01:14:00  1.000       1.0            \n",
       "\n",
       "          ref_range_lower  ref_range_upper      flag priority comments  \n",
       "67219781            1.001            1.035  abnormal     STAT      NaN  "
      ]
     },
     "execution_count": 34,
     "metadata": {},
     "output_type": "execute_result"
    }
   ],
   "source": [
    "# Check on differences between value and valuenum columns\n",
    "\n",
    "lab_events_sampled_sub.loc[((lab_events_sampled_sub['value'].astype(str) + str('.0')) != lab_events_sampled_sub['valuenum'].astype(str)) \n",
    "                           & ((lab_events_sampled_sub['value'].astype(str) + str('0')) != lab_events_sampled_sub['valuenum'].astype(str)) \n",
    "                           & ((lab_events_sampled_sub['value'].astype(str)) != lab_events_sampled_sub['valuenum'].astype(str)) \n",
    "                           & ((lab_events_sampled_sub['value'].astype(str)) != lab_events_sampled_sub['valuenum'].astype(str) + str('0')) \n",
    "                           & ((str('0') + lab_events_sampled_sub['value'].astype(str)) != lab_events_sampled_sub['valuenum'].astype(str))\n",
    "                           & ((lab_events_sampled_sub['value'].astype(str)) != round(lab_events_sampled_sub['valuenum'], 10).astype(str)), ]\n"
   ]
  },
  {
   "cell_type": "markdown",
   "metadata": {},
   "source": [
    "## Code to look into specific test values for cleaning"
   ]
  },
  {
   "cell_type": "code",
   "execution_count": 35,
   "metadata": {},
   "outputs": [],
   "source": [
    "# lab_events_sampled_sub[lab_events_sampled_sub['value'] == 'N']"
   ]
  },
  {
   "cell_type": "code",
   "execution_count": 36,
   "metadata": {},
   "outputs": [],
   "source": [
    "# # Used to investigate bad data\n",
    "# pd.set_option('display.max_rows', 200)\n",
    "\n",
    "# bad_id = 51486\n",
    "\n",
    "# # lab_events_sampled_sub[lab_events_sampled_sub['itemid'] == bad_id].value.value_counts().reset_index().sort_values(by = 'index')\n",
    "# # lab_events_sampled_sub[lab_events_sampled_sub['itemid'] == bad_id][['value', 'comments']].drop_duplicates()\n",
    "# lab_events_sampled_sub[lab_events_sampled_sub['itemid'] == bad_id][['flag', 'comments', 'value', 'valuenum', 'ref_range_lower', 'ref_range_upper']].drop_duplicates()\n",
    "# # lab_events_sampled_sub.loc[(lab_events_sampled_sub['itemid'] == bad_id) & (lab_events_sampled_sub['value'].isnull()), ][['value', 'valuenum', 'comments']].drop_duplicates()\n"
   ]
  },
  {
   "cell_type": "code",
   "execution_count": 37,
   "metadata": {},
   "outputs": [],
   "source": [
    "# pd.set_option('display.max_rows', 20)"
   ]
  },
  {
   "cell_type": "markdown",
   "metadata": {},
   "source": [
    "## Get Aggregate Test Values"
   ]
  },
  {
   "cell_type": "code",
   "execution_count": 38,
   "metadata": {},
   "outputs": [
    {
     "name": "stdout",
     "output_type": "stream",
     "text": [
      "CPU times: user 413 ms, sys: 59.3 ms, total: 472 ms\n",
      "Wall time: 477 ms\n"
     ]
    }
   ],
   "source": [
    "%time lab_events_sampled_sub_grouped = lab_events_sampled_sub.groupby(['subject_id', 'hadm_id', 'itemid']).agg({'itemid' : ['count'], 'valuenum' : ['min', 'max', 'mean'], 'flag' : ['count'], 'ref_range_lower' : ['min'], 'ref_range_upper' : ['min']})\n",
    "# 'comments' : ['unique'], \n"
   ]
  },
  {
   "cell_type": "code",
   "execution_count": 39,
   "metadata": {},
   "outputs": [],
   "source": [
    "lab_events_sampled_sub_grouped.reset_index(inplace = True)\n",
    "lab_events_sampled_sub_grouped.columns = ['subject_id', 'hadm_id', 'itemid', 'count', 'min', 'max', 'mean', 'abn_percent', 'range_min', 'range_max']\n",
    "# 'comments', \n"
   ]
  },
  {
   "cell_type": "code",
   "execution_count": 40,
   "metadata": {},
   "outputs": [
    {
     "data": {
      "text/plain": [
       "min     1925\n",
       "max     1925\n",
       "mean    1925\n",
       "dtype: int64"
      ]
     },
     "execution_count": 40,
     "metadata": {},
     "output_type": "execute_result"
    }
   ],
   "source": [
    "missing_vals = lab_events_sampled_sub_grouped.isnull().sum(axis = 0) \n",
    "missing_vals[missing_vals > 0].sort_values()"
   ]
  },
  {
   "cell_type": "code",
   "execution_count": 41,
   "metadata": {},
   "outputs": [
    {
     "data": {
      "text/plain": [
       "51003    1494\n",
       "50911     318\n",
       "51498      51\n",
       "50885      26\n",
       "51275      12\n",
       "50861      11\n",
       "51274      10\n",
       "51006       1\n",
       "51277       1\n",
       "51265       1\n",
       "Name: itemid, dtype: int64"
      ]
     },
     "execution_count": 41,
     "metadata": {},
     "output_type": "execute_result"
    }
   ],
   "source": [
    "lab_events_sampled_sub_grouped.loc[lab_events_sampled_sub_grouped['min'].isnull(), ].itemid.value_counts()\n",
    "\n",
    "# lab_events_sampled_sub_grouped.loc[(lab_events_sampled_sub_grouped['min'].isnull()) & (lab_events_sampled_sub_grouped['itemid'] == 51003), ]#.subject_id.nunique()\n",
    "# # lab_events_sampled_sub_grouped.subject_id.nunique()\n",
    "\n",
    "# lab_events_sampled_sub_grouped.loc[lab_events_sampled_sub_grouped['subject_id'] == 10002264, ]\n"
   ]
  },
  {
   "cell_type": "code",
   "execution_count": 42,
   "metadata": {},
   "outputs": [],
   "source": [
    "lab_events_sampled_sub_grouped['below_min'] = np.where(lab_events_sampled_sub_grouped['min'] < lab_events_sampled_sub_grouped['range_min'], lab_events_sampled_sub_grouped['range_min'] - lab_events_sampled_sub_grouped['min'], 0)\n",
    "lab_events_sampled_sub_grouped['above_max'] = np.where(lab_events_sampled_sub_grouped['max'] > lab_events_sampled_sub_grouped['range_max'], lab_events_sampled_sub_grouped['max'] - lab_events_sampled_sub_grouped['range_max'], 0)\n",
    "lab_events_sampled_sub_grouped['abn_percent'] = lab_events_sampled_sub_grouped['abn_percent'] / lab_events_sampled_sub_grouped['count']\n"
   ]
  },
  {
   "cell_type": "markdown",
   "metadata": {},
   "source": [
    "## Merge Admissions data so we can group by ethnicity/gender to grab average range min and max"
   ]
  },
  {
   "cell_type": "code",
   "execution_count": 43,
   "metadata": {},
   "outputs": [],
   "source": [
    "# Here is where we merge Admissions\n",
    "\n",
    "# lab_events_sampled_sub_grouped.merge(d_icd_diagnoses, left_index = True, left_on = \"index\", right_on = 'icd_code', how = 'left')\n"
   ]
  },
  {
   "cell_type": "code",
   "execution_count": 44,
   "metadata": {
    "scrolled": true
   },
   "outputs": [
    {
     "data": {
      "text/plain": [
       "{50861: (0.0, 40.0),\n",
       " 50863: (37.88879432624113, 118.05503546099291),\n",
       " 50868: (8.354329698524696, 19.57280307889673),\n",
       " 50878: (0.0, 40.0),\n",
       " 50882: (22.0, 32.0),\n",
       " 50885: (0.0, 1.5),\n",
       " 50893: (8.400287894055962, 10.281963437455888),\n",
       " 50902: (96.0, 108.0),\n",
       " 50911: (0.0, 10.0),\n",
       " 50912: (0.45000626174079394, 1.1500062617408338),\n",
       " 50931: (69.99101296700475, 100.97509307998459),\n",
       " 50960: (1.599097701959886, 2.5963908078387847),\n",
       " 50970: (2.70000000000035, 4.5),\n",
       " 50971: (3.3279234764977663, 5.141885214746697),\n",
       " 50983: (133.3524015798191, 145.3524015798191),\n",
       " 51003: (0.0, 0.010000000000000462),\n",
       " 51006: (6.0, 20.0),\n",
       " 51221: (37.53089054903356, 49.17787264318748),\n",
       " 51222: (12.756265177269867, 16.814715881495616),\n",
       " 51237: (0.9000000000000004, 1.100000000000066),\n",
       " 51248: (26.642240855510998, 32.0),\n",
       " 51249: (31.355936322760968, 35.711872645521936),\n",
       " 51250: (82.0, 98.0),\n",
       " 51265: (150.0, 425.7779920453176),\n",
       " 51274: (9.744737334082053, 12.810263600673284),\n",
       " 51275: (23.964203233256352, 35.98210161662818),\n",
       " 51277: (10.5, 15.5),\n",
       " 51279: (4.335605784420842, 5.7282172803498534),\n",
       " 51301: (4.0, 10.642501517911354),\n",
       " 51464: (0.0, 0.0),\n",
       " 51466: (0.0, 0.0),\n",
       " 51478: (0.0, 0.0),\n",
       " 51484: (0.0, 0.0),\n",
       " 51486: (0.0, 0.0),\n",
       " 51487: (0.0, 0.0),\n",
       " 51491: (5.0, 8.0),\n",
       " 51492: (0.0, 0.0),\n",
       " 51498: (1.001000000000066, 1.0349999999999622),\n",
       " 51506: (0.0, 0.0),\n",
       " 51514: (0.2000000000000043, 1.0)}"
      ]
     },
     "execution_count": 44,
     "metadata": {},
     "output_type": "execute_result"
    }
   ],
   "source": [
    "# For now aggregate all patients together\n",
    "\n",
    "lab_range_min_max = lab_events_sampled_sub_grouped.groupby('itemid').agg({'range_min' : 'mean', 'range_max' : 'mean'})\n",
    "lab_range_min_max.reset_index(inplace = True)\n",
    "\n",
    "lab_range_dic = dict(zip(lab_range_min_max['itemid'], zip(lab_range_min_max['range_min'], lab_range_min_max['range_max'])))\n",
    "lab_range_dic\n"
   ]
  },
  {
   "cell_type": "markdown",
   "metadata": {},
   "source": [
    "Pivot the table so we have feature columns related to test results"
   ]
  },
  {
   "cell_type": "code",
   "execution_count": 45,
   "metadata": {},
   "outputs": [],
   "source": [
    "lab_events_sampled_sub_grouped['new_index'] = list(zip(lab_events_sampled_sub_grouped['subject_id'], lab_events_sampled_sub_grouped['hadm_id']))\n"
   ]
  },
  {
   "cell_type": "code",
   "execution_count": 46,
   "metadata": {},
   "outputs": [
    {
     "name": "stdout",
     "output_type": "stream",
     "text": [
      "CPU times: user 106 ms, sys: 22.7 ms, total: 128 ms\n",
      "Wall time: 128 ms\n"
     ]
    }
   ],
   "source": [
    "%time lab_events_sampled_pivot = lab_events_sampled_sub_grouped.pivot(index = 'new_index', columns = 'itemid', values = ['min', 'max', 'mean', 'abn_percent', 'below_min', 'above_max'])\n",
    "# 'comments', \n"
   ]
  },
  {
   "cell_type": "code",
   "execution_count": 47,
   "metadata": {},
   "outputs": [
    {
     "name": "stderr",
     "output_type": "stream",
     "text": [
      "/opt/anaconda3/lib/python3.7/site-packages/pandas/core/generic.py:3936: PerformanceWarning: dropping on a non-lexsorted multi-index without a level parameter may impact performance.\n",
      "  obj = obj._drop_axis(labels, axis, level=level, errors=errors)\n"
     ]
    }
   ],
   "source": [
    "lab_events_sampled_pivot = lab_events_sampled_pivot.reset_index()\n",
    "lab_events_sampled_pivot['subject_id'], lab_events_sampled_pivot['hadm_id'] = zip(*lab_events_sampled_pivot['new_index'])\n",
    "lab_events_sampled_pivot.drop(['new_index'], axis = 1, inplace = True)\n"
   ]
  },
  {
   "cell_type": "code",
   "execution_count": 48,
   "metadata": {},
   "outputs": [
    {
     "data": {
      "text/plain": [
       "             itemid\n",
       "mean         51221      305\n",
       "min          51221      305\n",
       "max          51221      305\n",
       "above_max    51221      305\n",
       "abn_percent  51221      305\n",
       "                       ... \n",
       "min          50911     6879\n",
       "mean         50911     6879\n",
       "             51003     7691\n",
       "max          51003     7691\n",
       "min          51003     7691\n",
       "Length: 240, dtype: int64"
      ]
     },
     "execution_count": 48,
     "metadata": {},
     "output_type": "execute_result"
    }
   ],
   "source": [
    "missing_vals = lab_events_sampled_pivot.isnull().sum(axis = 0) \n",
    "missing_vals[missing_vals > 0].sort_values()"
   ]
  },
  {
   "cell_type": "markdown",
   "metadata": {},
   "source": [
    "## Start Data Imputation"
   ]
  },
  {
   "cell_type": "markdown",
   "metadata": {},
   "source": [
    "Copy table, retain original for Random Forest"
   ]
  },
  {
   "cell_type": "code",
   "execution_count": 49,
   "metadata": {},
   "outputs": [],
   "source": [
    "lab_events_impute = lab_events_sampled_pivot.copy()"
   ]
  },
  {
   "cell_type": "code",
   "execution_count": 50,
   "metadata": {
    "scrolled": true
   },
   "outputs": [
    {
     "data": {
      "text/html": [
       "<div>\n",
       "<style scoped>\n",
       "    .dataframe tbody tr th:only-of-type {\n",
       "        vertical-align: middle;\n",
       "    }\n",
       "\n",
       "    .dataframe tbody tr th {\n",
       "        vertical-align: top;\n",
       "    }\n",
       "\n",
       "    .dataframe thead th {\n",
       "        text-align: right;\n",
       "    }\n",
       "</style>\n",
       "<table border=\"1\" class=\"dataframe\">\n",
       "  <thead>\n",
       "    <tr style=\"text-align: right;\">\n",
       "      <th></th>\n",
       "      <th>itemid</th>\n",
       "      <th>label</th>\n",
       "      <th>fluid</th>\n",
       "      <th>category</th>\n",
       "      <th>loinc_code</th>\n",
       "    </tr>\n",
       "  </thead>\n",
       "  <tbody>\n",
       "    <tr>\n",
       "      <th>52</th>\n",
       "      <td>50861</td>\n",
       "      <td>Alanine Aminotransferase (ALT)</td>\n",
       "      <td>Blood</td>\n",
       "      <td>Chemistry</td>\n",
       "      <td>1742-6</td>\n",
       "    </tr>\n",
       "    <tr>\n",
       "      <th>76</th>\n",
       "      <td>50863</td>\n",
       "      <td>Alkaline Phosphatase</td>\n",
       "      <td>Blood</td>\n",
       "      <td>Chemistry</td>\n",
       "      <td>6768-6</td>\n",
       "    </tr>\n",
       "    <tr>\n",
       "      <th>115</th>\n",
       "      <td>50868</td>\n",
       "      <td>Anion Gap</td>\n",
       "      <td>Blood</td>\n",
       "      <td>Chemistry</td>\n",
       "      <td>1863-0</td>\n",
       "    </tr>\n",
       "    <tr>\n",
       "      <th>153</th>\n",
       "      <td>50878</td>\n",
       "      <td>Asparate Aminotransferase (AST)</td>\n",
       "      <td>Blood</td>\n",
       "      <td>Chemistry</td>\n",
       "      <td>1920-8</td>\n",
       "    </tr>\n",
       "    <tr>\n",
       "      <th>212</th>\n",
       "      <td>50882</td>\n",
       "      <td>Bicarbonate</td>\n",
       "      <td>Blood</td>\n",
       "      <td>Chemistry</td>\n",
       "      <td>1963-8</td>\n",
       "    </tr>\n",
       "    <tr>\n",
       "      <th>222</th>\n",
       "      <td>51464</td>\n",
       "      <td>Bilirubin</td>\n",
       "      <td>Urine</td>\n",
       "      <td>Hematology</td>\n",
       "      <td>5770-3</td>\n",
       "    </tr>\n",
       "    <tr>\n",
       "      <th>229</th>\n",
       "      <td>50885</td>\n",
       "      <td>Bilirubin, Total</td>\n",
       "      <td>Blood</td>\n",
       "      <td>Chemistry</td>\n",
       "      <td>1975-2</td>\n",
       "    </tr>\n",
       "    <tr>\n",
       "      <th>258</th>\n",
       "      <td>51466</td>\n",
       "      <td>Blood</td>\n",
       "      <td>Urine</td>\n",
       "      <td>Hematology</td>\n",
       "      <td>NaN</td>\n",
       "    </tr>\n",
       "    <tr>\n",
       "      <th>282</th>\n",
       "      <td>50893</td>\n",
       "      <td>Calcium, Total</td>\n",
       "      <td>Blood</td>\n",
       "      <td>Chemistry</td>\n",
       "      <td>2000-8</td>\n",
       "    </tr>\n",
       "    <tr>\n",
       "      <th>442</th>\n",
       "      <td>50902</td>\n",
       "      <td>Chloride</td>\n",
       "      <td>Blood</td>\n",
       "      <td>Chemistry</td>\n",
       "      <td>2075-0</td>\n",
       "    </tr>\n",
       "    <tr>\n",
       "      <th>511</th>\n",
       "      <td>50911</td>\n",
       "      <td>Creatine Kinase, MB Isoenzyme</td>\n",
       "      <td>Blood</td>\n",
       "      <td>Chemistry</td>\n",
       "      <td>6773-6</td>\n",
       "    </tr>\n",
       "    <tr>\n",
       "      <th>512</th>\n",
       "      <td>50912</td>\n",
       "      <td>Creatinine</td>\n",
       "      <td>Blood</td>\n",
       "      <td>Chemistry</td>\n",
       "      <td>2160-0</td>\n",
       "    </tr>\n",
       "    <tr>\n",
       "      <th>723</th>\n",
       "      <td>50931</td>\n",
       "      <td>Glucose</td>\n",
       "      <td>Blood</td>\n",
       "      <td>Chemistry</td>\n",
       "      <td>6777-7</td>\n",
       "    </tr>\n",
       "    <tr>\n",
       "      <th>726</th>\n",
       "      <td>51478</td>\n",
       "      <td>Glucose</td>\n",
       "      <td>Urine</td>\n",
       "      <td>Hematology</td>\n",
       "      <td>5792-7</td>\n",
       "    </tr>\n",
       "    <tr>\n",
       "      <th>761</th>\n",
       "      <td>51221</td>\n",
       "      <td>Hematocrit</td>\n",
       "      <td>Blood</td>\n",
       "      <td>Hematology</td>\n",
       "      <td>4544-3</td>\n",
       "    </tr>\n",
       "    <tr>\n",
       "      <th>771</th>\n",
       "      <td>51222</td>\n",
       "      <td>Hemoglobin</td>\n",
       "      <td>Blood</td>\n",
       "      <td>Hematology</td>\n",
       "      <td>718-7</td>\n",
       "    </tr>\n",
       "    <tr>\n",
       "      <th>912</th>\n",
       "      <td>51237</td>\n",
       "      <td>INR(PT)</td>\n",
       "      <td>Blood</td>\n",
       "      <td>Hematology</td>\n",
       "      <td>5895-7</td>\n",
       "    </tr>\n",
       "    <tr>\n",
       "      <th>932</th>\n",
       "      <td>51484</td>\n",
       "      <td>Ketone</td>\n",
       "      <td>Urine</td>\n",
       "      <td>Hematology</td>\n",
       "      <td>5797-6</td>\n",
       "    </tr>\n",
       "    <tr>\n",
       "      <th>960</th>\n",
       "      <td>51486</td>\n",
       "      <td>Leukocytes</td>\n",
       "      <td>Urine</td>\n",
       "      <td>Hematology</td>\n",
       "      <td>5799-2</td>\n",
       "    </tr>\n",
       "    <tr>\n",
       "      <th>1008</th>\n",
       "      <td>50960</td>\n",
       "      <td>Magnesium</td>\n",
       "      <td>Blood</td>\n",
       "      <td>Chemistry</td>\n",
       "      <td>2601-3</td>\n",
       "    </tr>\n",
       "    <tr>\n",
       "      <th>1013</th>\n",
       "      <td>51248</td>\n",
       "      <td>MCH</td>\n",
       "      <td>Blood</td>\n",
       "      <td>Hematology</td>\n",
       "      <td>785-6</td>\n",
       "    </tr>\n",
       "    <tr>\n",
       "      <th>1014</th>\n",
       "      <td>51249</td>\n",
       "      <td>MCHC</td>\n",
       "      <td>Blood</td>\n",
       "      <td>Hematology</td>\n",
       "      <td>786-4</td>\n",
       "    </tr>\n",
       "    <tr>\n",
       "      <th>1016</th>\n",
       "      <td>51250</td>\n",
       "      <td>MCV</td>\n",
       "      <td>Blood</td>\n",
       "      <td>Hematology</td>\n",
       "      <td>787-2</td>\n",
       "    </tr>\n",
       "    <tr>\n",
       "      <th>1092</th>\n",
       "      <td>51487</td>\n",
       "      <td>Nitrite</td>\n",
       "      <td>Urine</td>\n",
       "      <td>Hematology</td>\n",
       "      <td>5802-4</td>\n",
       "    </tr>\n",
       "    <tr>\n",
       "      <th>1183</th>\n",
       "      <td>51491</td>\n",
       "      <td>pH</td>\n",
       "      <td>Urine</td>\n",
       "      <td>Hematology</td>\n",
       "      <td>5803-2</td>\n",
       "    </tr>\n",
       "    <tr>\n",
       "      <th>1189</th>\n",
       "      <td>50970</td>\n",
       "      <td>Phosphate</td>\n",
       "      <td>Blood</td>\n",
       "      <td>Chemistry</td>\n",
       "      <td>2777-1</td>\n",
       "    </tr>\n",
       "    <tr>\n",
       "      <th>1211</th>\n",
       "      <td>51265</td>\n",
       "      <td>Platelet Count</td>\n",
       "      <td>Blood</td>\n",
       "      <td>Hematology</td>\n",
       "      <td>777-3</td>\n",
       "    </tr>\n",
       "    <tr>\n",
       "      <th>1233</th>\n",
       "      <td>50971</td>\n",
       "      <td>Potassium</td>\n",
       "      <td>Blood</td>\n",
       "      <td>Chemistry</td>\n",
       "      <td>2823-3</td>\n",
       "    </tr>\n",
       "    <tr>\n",
       "      <th>1269</th>\n",
       "      <td>51492</td>\n",
       "      <td>Protein</td>\n",
       "      <td>Urine</td>\n",
       "      <td>Hematology</td>\n",
       "      <td>5804-0</td>\n",
       "    </tr>\n",
       "    <tr>\n",
       "      <th>1279</th>\n",
       "      <td>51274</td>\n",
       "      <td>PT</td>\n",
       "      <td>Blood</td>\n",
       "      <td>Hematology</td>\n",
       "      <td>5902-2</td>\n",
       "    </tr>\n",
       "    <tr>\n",
       "      <th>1283</th>\n",
       "      <td>51275</td>\n",
       "      <td>PTT</td>\n",
       "      <td>Blood</td>\n",
       "      <td>Hematology</td>\n",
       "      <td>5898-2</td>\n",
       "    </tr>\n",
       "    <tr>\n",
       "      <th>1307</th>\n",
       "      <td>51277</td>\n",
       "      <td>RDW</td>\n",
       "      <td>Blood</td>\n",
       "      <td>Hematology</td>\n",
       "      <td>788-0</td>\n",
       "    </tr>\n",
       "    <tr>\n",
       "      <th>1312</th>\n",
       "      <td>51279</td>\n",
       "      <td>Red Blood Cells</td>\n",
       "      <td>Blood</td>\n",
       "      <td>Hematology</td>\n",
       "      <td>789-8</td>\n",
       "    </tr>\n",
       "    <tr>\n",
       "      <th>1373</th>\n",
       "      <td>50983</td>\n",
       "      <td>Sodium</td>\n",
       "      <td>Blood</td>\n",
       "      <td>Chemistry</td>\n",
       "      <td>2951-2</td>\n",
       "    </tr>\n",
       "    <tr>\n",
       "      <th>1387</th>\n",
       "      <td>51498</td>\n",
       "      <td>Specific Gravity</td>\n",
       "      <td>Urine</td>\n",
       "      <td>Hematology</td>\n",
       "      <td>5811-5</td>\n",
       "    </tr>\n",
       "    <tr>\n",
       "      <th>1494</th>\n",
       "      <td>51003</td>\n",
       "      <td>Troponin T</td>\n",
       "      <td>Blood</td>\n",
       "      <td>Chemistry</td>\n",
       "      <td>6598-7</td>\n",
       "    </tr>\n",
       "    <tr>\n",
       "      <th>1506</th>\n",
       "      <td>51006</td>\n",
       "      <td>Urea Nitrogen</td>\n",
       "      <td>Blood</td>\n",
       "      <td>Chemistry</td>\n",
       "      <td>3094-0</td>\n",
       "    </tr>\n",
       "    <tr>\n",
       "      <th>1525</th>\n",
       "      <td>51506</td>\n",
       "      <td>Urine Appearance</td>\n",
       "      <td>Urine</td>\n",
       "      <td>Hematology</td>\n",
       "      <td>5767-9</td>\n",
       "    </tr>\n",
       "    <tr>\n",
       "      <th>1540</th>\n",
       "      <td>51514</td>\n",
       "      <td>Urobilinogen</td>\n",
       "      <td>Urine</td>\n",
       "      <td>Hematology</td>\n",
       "      <td>5818-0</td>\n",
       "    </tr>\n",
       "    <tr>\n",
       "      <th>1598</th>\n",
       "      <td>51301</td>\n",
       "      <td>White Blood Cells</td>\n",
       "      <td>Blood</td>\n",
       "      <td>Hematology</td>\n",
       "      <td>804-5</td>\n",
       "    </tr>\n",
       "  </tbody>\n",
       "</table>\n",
       "</div>"
      ],
      "text/plain": [
       "      itemid                            label  fluid    category loinc_code\n",
       "52     50861   Alanine Aminotransferase (ALT)  Blood   Chemistry     1742-6\n",
       "76     50863             Alkaline Phosphatase  Blood   Chemistry     6768-6\n",
       "115    50868                        Anion Gap  Blood   Chemistry     1863-0\n",
       "153    50878  Asparate Aminotransferase (AST)  Blood   Chemistry     1920-8\n",
       "212    50882                      Bicarbonate  Blood   Chemistry     1963-8\n",
       "222    51464                        Bilirubin  Urine  Hematology     5770-3\n",
       "229    50885                 Bilirubin, Total  Blood   Chemistry     1975-2\n",
       "258    51466                            Blood  Urine  Hematology        NaN\n",
       "282    50893                   Calcium, Total  Blood   Chemistry     2000-8\n",
       "442    50902                         Chloride  Blood   Chemistry     2075-0\n",
       "511    50911    Creatine Kinase, MB Isoenzyme  Blood   Chemistry     6773-6\n",
       "512    50912                       Creatinine  Blood   Chemistry     2160-0\n",
       "723    50931                          Glucose  Blood   Chemistry     6777-7\n",
       "726    51478                          Glucose  Urine  Hematology     5792-7\n",
       "761    51221                       Hematocrit  Blood  Hematology     4544-3\n",
       "771    51222                       Hemoglobin  Blood  Hematology      718-7\n",
       "912    51237                          INR(PT)  Blood  Hematology     5895-7\n",
       "932    51484                           Ketone  Urine  Hematology     5797-6\n",
       "960    51486                       Leukocytes  Urine  Hematology     5799-2\n",
       "1008   50960                        Magnesium  Blood   Chemistry     2601-3\n",
       "1013   51248                              MCH  Blood  Hematology      785-6\n",
       "1014   51249                             MCHC  Blood  Hematology      786-4\n",
       "1016   51250                              MCV  Blood  Hematology      787-2\n",
       "1092   51487                          Nitrite  Urine  Hematology     5802-4\n",
       "1183   51491                               pH  Urine  Hematology     5803-2\n",
       "1189   50970                        Phosphate  Blood   Chemistry     2777-1\n",
       "1211   51265                   Platelet Count  Blood  Hematology      777-3\n",
       "1233   50971                        Potassium  Blood   Chemistry     2823-3\n",
       "1269   51492                          Protein  Urine  Hematology     5804-0\n",
       "1279   51274                               PT  Blood  Hematology     5902-2\n",
       "1283   51275                              PTT  Blood  Hematology     5898-2\n",
       "1307   51277                              RDW  Blood  Hematology      788-0\n",
       "1312   51279                  Red Blood Cells  Blood  Hematology      789-8\n",
       "1373   50983                           Sodium  Blood   Chemistry     2951-2\n",
       "1387   51498                 Specific Gravity  Urine  Hematology     5811-5\n",
       "1494   51003                       Troponin T  Blood   Chemistry     6598-7\n",
       "1506   51006                    Urea Nitrogen  Blood   Chemistry     3094-0\n",
       "1525   51506                 Urine Appearance  Urine  Hematology     5767-9\n",
       "1540   51514                     Urobilinogen  Urine  Hematology     5818-0\n",
       "1598   51301                White Blood Cells  Blood  Hematology      804-5"
      ]
     },
     "execution_count": 50,
     "metadata": {},
     "output_type": "execute_result"
    }
   ],
   "source": [
    "d_labitems[d_labitems['itemid'].isin(itemid_sub_sample)]"
   ]
  },
  {
   "cell_type": "code",
   "execution_count": 51,
   "metadata": {},
   "outputs": [
    {
     "name": "stderr",
     "output_type": "stream",
     "text": [
      "/opt/anaconda3/lib/python3.7/site-packages/ipykernel_launcher.py:20: SettingWithCopyWarning: \n",
      "A value is trying to be set on a copy of a slice from a DataFrame\n",
      "\n",
      "See the caveats in the documentation: https://pandas.pydata.org/pandas-docs/stable/user_guide/indexing.html#returning-a-view-versus-a-copy\n",
      "/opt/anaconda3/lib/python3.7/site-packages/ipykernel_launcher.py:21: SettingWithCopyWarning: \n",
      "A value is trying to be set on a copy of a slice from a DataFrame\n",
      "\n",
      "See the caveats in the documentation: https://pandas.pydata.org/pandas-docs/stable/user_guide/indexing.html#returning-a-view-versus-a-copy\n",
      "/opt/anaconda3/lib/python3.7/site-packages/ipykernel_launcher.py:22: SettingWithCopyWarning: \n",
      "A value is trying to be set on a copy of a slice from a DataFrame\n",
      "\n",
      "See the caveats in the documentation: https://pandas.pydata.org/pandas-docs/stable/user_guide/indexing.html#returning-a-view-versus-a-copy\n"
     ]
    },
    {
     "name": "stdout",
     "output_type": "stream",
     "text": [
      "CPU times: user 1min 4s, sys: 387 ms, total: 1min 4s\n",
      "Wall time: 1min 5s\n"
     ]
    }
   ],
   "source": [
    "%%time\n",
    "\n",
    "np.random.seed(0)\n",
    "\n",
    "for labitem in lab_range_dic:\n",
    "    for ind in lab_events_impute[lab_events_impute[('mean', labitem)].isnull()].index:\n",
    "        val_max = lab_range_dic[labitem][1]\n",
    "        val_min = lab_range_dic[labitem][0]\n",
    "\n",
    "        val_ave = (val_max + val_min) / 2\n",
    "        val_std = (val_max - val_ave) * .333\n",
    "\n",
    "        ran_vals = np.random.normal(val_ave, val_std, 50)\n",
    "        impute_min = min(ran_vals)\n",
    "        impute_max = max(ran_vals)\n",
    "        impute_mean = np.mean(ran_vals)\n",
    "        \n",
    "        val_min = lab_events_impute[('min', labitem)][ind]\n",
    "        val_max = lab_events_impute[('max', labitem)][ind]\n",
    "        val_mean = lab_events_impute[('mean', labitem)][ind]\n",
    "        \n",
    "        lab_events_impute[('min', labitem)][ind] = np.where(np.isnan(val_min), impute_min, val_min)\n",
    "        lab_events_impute[('max', labitem)][ind] = np.where(np.isnan(val_max), impute_max, val_max)\n",
    "        lab_events_impute[('mean', labitem)][ind] = np.where(np.isnan(val_mean), impute_mean, val_mean)\n",
    "#         patient[('mean', labitem)].replace(np.nan, impute_mean)\n",
    "#         patient[('abn_count', labitem)].replace(np.nan, 0)\n",
    "# 5k patients\n",
    "# 10 items - 2.5s\n",
    "# 20 items - 6s\n",
    "# 30 items - 28.6s\n",
    "\n",
    "# 10k patients\n",
    "# 40 items - 1m 34s"
   ]
  },
  {
   "cell_type": "code",
   "execution_count": 52,
   "metadata": {},
   "outputs": [],
   "source": [
    "for lab_itemid in lab_range_dic:\n",
    "    lab_events_impute[( 'above_max', lab_itemid)] = lab_events_impute[( 'above_max', lab_itemid)].replace(np.nan, 0)\n",
    "    lab_events_impute[( 'below_min', lab_itemid)] = lab_events_impute[( 'below_min', lab_itemid)].replace(np.nan, 0)\n",
    "    lab_events_impute[( 'abn_percent', lab_itemid)] = lab_events_impute[( 'abn_percent', lab_itemid)].replace(np.nan, 0)\n",
    "#     lab_events_sampled_pivot[( 'comments', lab_itemid)] = lab_events_sampled_pivot[( 'comments', lab_itemid)].replace(np.nan, np.array(np.nan))\n"
   ]
  },
  {
   "cell_type": "code",
   "execution_count": 53,
   "metadata": {},
   "outputs": [
    {
     "data": {
      "text/plain": [
       "Series([], dtype: int64)"
      ]
     },
     "execution_count": 53,
     "metadata": {},
     "output_type": "execute_result"
    }
   ],
   "source": [
    "missing_vals = lab_events_impute.isnull().sum(axis = 0) \n",
    "missing_vals[missing_vals > 0].sort_values()"
   ]
  },
  {
   "cell_type": "code",
   "execution_count": 54,
   "metadata": {},
   "outputs": [
    {
     "data": {
      "text/html": [
       "<div>\n",
       "<style scoped>\n",
       "    .dataframe tbody tr th:only-of-type {\n",
       "        vertical-align: middle;\n",
       "    }\n",
       "\n",
       "    .dataframe tbody tr th {\n",
       "        vertical-align: top;\n",
       "    }\n",
       "\n",
       "    .dataframe thead tr th {\n",
       "        text-align: left;\n",
       "    }\n",
       "</style>\n",
       "<table border=\"1\" class=\"dataframe\">\n",
       "  <thead>\n",
       "    <tr>\n",
       "      <th></th>\n",
       "      <th colspan=\"10\" halign=\"left\">min</th>\n",
       "      <th>...</th>\n",
       "      <th colspan=\"8\" halign=\"left\">above_max</th>\n",
       "      <th>subject_id</th>\n",
       "      <th>hadm_id</th>\n",
       "    </tr>\n",
       "    <tr>\n",
       "      <th>itemid</th>\n",
       "      <th>50861</th>\n",
       "      <th>50863</th>\n",
       "      <th>50868</th>\n",
       "      <th>50878</th>\n",
       "      <th>50882</th>\n",
       "      <th>50885</th>\n",
       "      <th>50893</th>\n",
       "      <th>50902</th>\n",
       "      <th>50911</th>\n",
       "      <th>50912</th>\n",
       "      <th>...</th>\n",
       "      <th>51484</th>\n",
       "      <th>51486</th>\n",
       "      <th>51487</th>\n",
       "      <th>51491</th>\n",
       "      <th>51492</th>\n",
       "      <th>51498</th>\n",
       "      <th>51506</th>\n",
       "      <th>51514</th>\n",
       "      <th></th>\n",
       "      <th></th>\n",
       "    </tr>\n",
       "  </thead>\n",
       "  <tbody>\n",
       "    <tr>\n",
       "      <th>0</th>\n",
       "      <td>36.000000</td>\n",
       "      <td>75.000000</td>\n",
       "      <td>15.0</td>\n",
       "      <td>32.000000</td>\n",
       "      <td>14.0</td>\n",
       "      <td>0.400000</td>\n",
       "      <td>7.700000</td>\n",
       "      <td>95.0</td>\n",
       "      <td>44.000000</td>\n",
       "      <td>1.1</td>\n",
       "      <td>...</td>\n",
       "      <td>0.0</td>\n",
       "      <td>4.0</td>\n",
       "      <td>0.0</td>\n",
       "      <td>0.0</td>\n",
       "      <td>30.0</td>\n",
       "      <td>0.0</td>\n",
       "      <td>1.0</td>\n",
       "      <td>0.0</td>\n",
       "      <td>10002495</td>\n",
       "      <td>24982426.0</td>\n",
       "    </tr>\n",
       "    <tr>\n",
       "      <th>1</th>\n",
       "      <td>2.997088</td>\n",
       "      <td>48.554022</td>\n",
       "      <td>9.0</td>\n",
       "      <td>0.284447</td>\n",
       "      <td>23.0</td>\n",
       "      <td>0.336883</td>\n",
       "      <td>8.699078</td>\n",
       "      <td>103.0</td>\n",
       "      <td>1.899695</td>\n",
       "      <td>1.0</td>\n",
       "      <td>...</td>\n",
       "      <td>0.0</td>\n",
       "      <td>0.0</td>\n",
       "      <td>0.0</td>\n",
       "      <td>0.0</td>\n",
       "      <td>0.0</td>\n",
       "      <td>0.0</td>\n",
       "      <td>0.0</td>\n",
       "      <td>0.0</td>\n",
       "      <td>10002527</td>\n",
       "      <td>29112696.0</td>\n",
       "    </tr>\n",
       "    <tr>\n",
       "      <th>2</th>\n",
       "      <td>9.000000</td>\n",
       "      <td>104.000000</td>\n",
       "      <td>12.0</td>\n",
       "      <td>20.000000</td>\n",
       "      <td>25.0</td>\n",
       "      <td>0.400000</td>\n",
       "      <td>8.500000</td>\n",
       "      <td>91.0</td>\n",
       "      <td>3.000000</td>\n",
       "      <td>1.1</td>\n",
       "      <td>...</td>\n",
       "      <td>0.0</td>\n",
       "      <td>1.0</td>\n",
       "      <td>0.0</td>\n",
       "      <td>0.0</td>\n",
       "      <td>0.0</td>\n",
       "      <td>0.0</td>\n",
       "      <td>0.0</td>\n",
       "      <td>0.0</td>\n",
       "      <td>10005012</td>\n",
       "      <td>28371912.0</td>\n",
       "    </tr>\n",
       "    <tr>\n",
       "      <th>3</th>\n",
       "      <td>8.502958</td>\n",
       "      <td>44.818079</td>\n",
       "      <td>13.0</td>\n",
       "      <td>1.581965</td>\n",
       "      <td>24.0</td>\n",
       "      <td>0.319633</td>\n",
       "      <td>8.700000</td>\n",
       "      <td>108.0</td>\n",
       "      <td>1.538229</td>\n",
       "      <td>0.6</td>\n",
       "      <td>...</td>\n",
       "      <td>0.0</td>\n",
       "      <td>0.0</td>\n",
       "      <td>0.0</td>\n",
       "      <td>0.0</td>\n",
       "      <td>0.0</td>\n",
       "      <td>0.0</td>\n",
       "      <td>0.0</td>\n",
       "      <td>0.0</td>\n",
       "      <td>10010264</td>\n",
       "      <td>26641707.0</td>\n",
       "    </tr>\n",
       "    <tr>\n",
       "      <th>4</th>\n",
       "      <td>108.000000</td>\n",
       "      <td>96.000000</td>\n",
       "      <td>11.0</td>\n",
       "      <td>72.000000</td>\n",
       "      <td>29.0</td>\n",
       "      <td>0.400000</td>\n",
       "      <td>8.800000</td>\n",
       "      <td>101.0</td>\n",
       "      <td>1.270150</td>\n",
       "      <td>0.8</td>\n",
       "      <td>...</td>\n",
       "      <td>0.0</td>\n",
       "      <td>0.0</td>\n",
       "      <td>0.0</td>\n",
       "      <td>0.0</td>\n",
       "      <td>0.0</td>\n",
       "      <td>0.0</td>\n",
       "      <td>0.0</td>\n",
       "      <td>0.0</td>\n",
       "      <td>10010920</td>\n",
       "      <td>24676144.0</td>\n",
       "    </tr>\n",
       "    <tr>\n",
       "      <th>...</th>\n",
       "      <td>...</td>\n",
       "      <td>...</td>\n",
       "      <td>...</td>\n",
       "      <td>...</td>\n",
       "      <td>...</td>\n",
       "      <td>...</td>\n",
       "      <td>...</td>\n",
       "      <td>...</td>\n",
       "      <td>...</td>\n",
       "      <td>...</td>\n",
       "      <td>...</td>\n",
       "      <td>...</td>\n",
       "      <td>...</td>\n",
       "      <td>...</td>\n",
       "      <td>...</td>\n",
       "      <td>...</td>\n",
       "      <td>...</td>\n",
       "      <td>...</td>\n",
       "      <td>...</td>\n",
       "      <td>...</td>\n",
       "      <td>...</td>\n",
       "    </tr>\n",
       "    <tr>\n",
       "      <th>8733</th>\n",
       "      <td>4.598330</td>\n",
       "      <td>34.104847</td>\n",
       "      <td>12.0</td>\n",
       "      <td>5.275434</td>\n",
       "      <td>26.0</td>\n",
       "      <td>0.106361</td>\n",
       "      <td>8.714469</td>\n",
       "      <td>105.0</td>\n",
       "      <td>3.000000</td>\n",
       "      <td>1.1</td>\n",
       "      <td>...</td>\n",
       "      <td>0.0</td>\n",
       "      <td>0.0</td>\n",
       "      <td>0.0</td>\n",
       "      <td>0.0</td>\n",
       "      <td>0.0</td>\n",
       "      <td>0.0</td>\n",
       "      <td>0.0</td>\n",
       "      <td>0.0</td>\n",
       "      <td>19993069</td>\n",
       "      <td>25459716.0</td>\n",
       "    </tr>\n",
       "    <tr>\n",
       "      <th>8734</th>\n",
       "      <td>-1.510000</td>\n",
       "      <td>41.428115</td>\n",
       "      <td>12.0</td>\n",
       "      <td>6.511988</td>\n",
       "      <td>26.0</td>\n",
       "      <td>0.174611</td>\n",
       "      <td>9.100000</td>\n",
       "      <td>104.0</td>\n",
       "      <td>0.318628</td>\n",
       "      <td>1.5</td>\n",
       "      <td>...</td>\n",
       "      <td>0.0</td>\n",
       "      <td>0.0</td>\n",
       "      <td>0.0</td>\n",
       "      <td>0.0</td>\n",
       "      <td>0.0</td>\n",
       "      <td>0.0</td>\n",
       "      <td>0.0</td>\n",
       "      <td>0.0</td>\n",
       "      <td>19995478</td>\n",
       "      <td>24108472.0</td>\n",
       "    </tr>\n",
       "    <tr>\n",
       "      <th>8735</th>\n",
       "      <td>9.000000</td>\n",
       "      <td>64.000000</td>\n",
       "      <td>10.0</td>\n",
       "      <td>11.000000</td>\n",
       "      <td>16.0</td>\n",
       "      <td>0.300000</td>\n",
       "      <td>7.500000</td>\n",
       "      <td>86.0</td>\n",
       "      <td>1.510547</td>\n",
       "      <td>0.8</td>\n",
       "      <td>...</td>\n",
       "      <td>0.0</td>\n",
       "      <td>0.0</td>\n",
       "      <td>0.0</td>\n",
       "      <td>0.0</td>\n",
       "      <td>0.0</td>\n",
       "      <td>0.0</td>\n",
       "      <td>0.0</td>\n",
       "      <td>0.0</td>\n",
       "      <td>19996783</td>\n",
       "      <td>25894657.0</td>\n",
       "    </tr>\n",
       "    <tr>\n",
       "      <th>8736</th>\n",
       "      <td>15.000000</td>\n",
       "      <td>57.000000</td>\n",
       "      <td>5.0</td>\n",
       "      <td>25.000000</td>\n",
       "      <td>22.0</td>\n",
       "      <td>0.800000</td>\n",
       "      <td>7.800000</td>\n",
       "      <td>92.0</td>\n",
       "      <td>1.398758</td>\n",
       "      <td>0.5</td>\n",
       "      <td>...</td>\n",
       "      <td>0.0</td>\n",
       "      <td>4.0</td>\n",
       "      <td>0.0</td>\n",
       "      <td>0.0</td>\n",
       "      <td>30.0</td>\n",
       "      <td>0.0</td>\n",
       "      <td>1.0</td>\n",
       "      <td>1.0</td>\n",
       "      <td>19997886</td>\n",
       "      <td>20793010.0</td>\n",
       "    </tr>\n",
       "    <tr>\n",
       "      <th>8737</th>\n",
       "      <td>28.000000</td>\n",
       "      <td>112.000000</td>\n",
       "      <td>7.0</td>\n",
       "      <td>51.000000</td>\n",
       "      <td>27.0</td>\n",
       "      <td>1.000000</td>\n",
       "      <td>8.100000</td>\n",
       "      <td>90.0</td>\n",
       "      <td>1.885755</td>\n",
       "      <td>0.8</td>\n",
       "      <td>...</td>\n",
       "      <td>0.0</td>\n",
       "      <td>0.0</td>\n",
       "      <td>0.0</td>\n",
       "      <td>0.0</td>\n",
       "      <td>0.0</td>\n",
       "      <td>0.0</td>\n",
       "      <td>0.0</td>\n",
       "      <td>1.0</td>\n",
       "      <td>19999204</td>\n",
       "      <td>29046609.0</td>\n",
       "    </tr>\n",
       "  </tbody>\n",
       "</table>\n",
       "<p>8738 rows × 242 columns</p>\n",
       "</div>"
      ],
      "text/plain": [
       "               min                                                         \\\n",
       "itemid       50861       50863 50868      50878 50882     50885     50893   \n",
       "0        36.000000   75.000000  15.0  32.000000  14.0  0.400000  7.700000   \n",
       "1         2.997088   48.554022   9.0   0.284447  23.0  0.336883  8.699078   \n",
       "2         9.000000  104.000000  12.0  20.000000  25.0  0.400000  8.500000   \n",
       "3         8.502958   44.818079  13.0   1.581965  24.0  0.319633  8.700000   \n",
       "4       108.000000   96.000000  11.0  72.000000  29.0  0.400000  8.800000   \n",
       "...            ...         ...   ...        ...   ...       ...       ...   \n",
       "8733      4.598330   34.104847  12.0   5.275434  26.0  0.106361  8.714469   \n",
       "8734     -1.510000   41.428115  12.0   6.511988  26.0  0.174611  9.100000   \n",
       "8735      9.000000   64.000000  10.0  11.000000  16.0  0.300000  7.500000   \n",
       "8736     15.000000   57.000000   5.0  25.000000  22.0  0.800000  7.800000   \n",
       "8737     28.000000  112.000000   7.0  51.000000  27.0  1.000000  8.100000   \n",
       "\n",
       "                                ... above_max                                \\\n",
       "itemid  50902      50911 50912  ...     51484 51486 51487 51491 51492 51498   \n",
       "0        95.0  44.000000   1.1  ...       0.0   4.0   0.0   0.0  30.0   0.0   \n",
       "1       103.0   1.899695   1.0  ...       0.0   0.0   0.0   0.0   0.0   0.0   \n",
       "2        91.0   3.000000   1.1  ...       0.0   1.0   0.0   0.0   0.0   0.0   \n",
       "3       108.0   1.538229   0.6  ...       0.0   0.0   0.0   0.0   0.0   0.0   \n",
       "4       101.0   1.270150   0.8  ...       0.0   0.0   0.0   0.0   0.0   0.0   \n",
       "...       ...        ...   ...  ...       ...   ...   ...   ...   ...   ...   \n",
       "8733    105.0   3.000000   1.1  ...       0.0   0.0   0.0   0.0   0.0   0.0   \n",
       "8734    104.0   0.318628   1.5  ...       0.0   0.0   0.0   0.0   0.0   0.0   \n",
       "8735     86.0   1.510547   0.8  ...       0.0   0.0   0.0   0.0   0.0   0.0   \n",
       "8736     92.0   1.398758   0.5  ...       0.0   4.0   0.0   0.0  30.0   0.0   \n",
       "8737     90.0   1.885755   0.8  ...       0.0   0.0   0.0   0.0   0.0   0.0   \n",
       "\n",
       "                   subject_id     hadm_id  \n",
       "itemid 51506 51514                         \n",
       "0        1.0   0.0   10002495  24982426.0  \n",
       "1        0.0   0.0   10002527  29112696.0  \n",
       "2        0.0   0.0   10005012  28371912.0  \n",
       "3        0.0   0.0   10010264  26641707.0  \n",
       "4        0.0   0.0   10010920  24676144.0  \n",
       "...      ...   ...        ...         ...  \n",
       "8733     0.0   0.0   19993069  25459716.0  \n",
       "8734     0.0   0.0   19995478  24108472.0  \n",
       "8735     0.0   0.0   19996783  25894657.0  \n",
       "8736     1.0   1.0   19997886  20793010.0  \n",
       "8737     0.0   1.0   19999204  29046609.0  \n",
       "\n",
       "[8738 rows x 242 columns]"
      ]
     },
     "execution_count": 54,
     "metadata": {},
     "output_type": "execute_result"
    }
   ],
   "source": [
    "lab_events_impute"
   ]
  },
  {
   "cell_type": "code",
   "execution_count": 55,
   "metadata": {},
   "outputs": [],
   "source": [
    "lab_events_impute_KNN = lab_events_sampled_pivot.copy()"
   ]
  },
  {
   "cell_type": "code",
   "execution_count": 56,
   "metadata": {},
   "outputs": [
    {
     "name": "stdout",
     "output_type": "stream",
     "text": [
      "CPU times: user 2min 22s, sys: 32.6 s, total: 2min 55s\n",
      "Wall time: 2min 50s\n"
     ]
    }
   ],
   "source": [
    "%%time\n",
    "\n",
    "from sklearn.impute import KNNImputer\n",
    "imputer = KNNImputer(n_neighbors=math.trunc((lab_events_impute_KNN.shape[0] ** 0.5)))\n",
    "lab_events_impute_KNN_imputed = imputer.fit_transform(lab_events_impute_KNN)\n",
    "\n",
    "# 3min 8s"
   ]
  },
  {
   "cell_type": "code",
   "execution_count": 57,
   "metadata": {
    "scrolled": true
   },
   "outputs": [
    {
     "data": {
      "text/html": [
       "<div>\n",
       "<style scoped>\n",
       "    .dataframe tbody tr th:only-of-type {\n",
       "        vertical-align: middle;\n",
       "    }\n",
       "\n",
       "    .dataframe tbody tr th {\n",
       "        vertical-align: top;\n",
       "    }\n",
       "\n",
       "    .dataframe thead tr th {\n",
       "        text-align: left;\n",
       "    }\n",
       "</style>\n",
       "<table border=\"1\" class=\"dataframe\">\n",
       "  <thead>\n",
       "    <tr>\n",
       "      <th></th>\n",
       "      <th colspan=\"10\" halign=\"left\">min</th>\n",
       "      <th>...</th>\n",
       "      <th colspan=\"8\" halign=\"left\">above_max</th>\n",
       "      <th>subject_id</th>\n",
       "      <th>hadm_id</th>\n",
       "    </tr>\n",
       "    <tr>\n",
       "      <th>itemid</th>\n",
       "      <th>50861</th>\n",
       "      <th>50863</th>\n",
       "      <th>50868</th>\n",
       "      <th>50878</th>\n",
       "      <th>50882</th>\n",
       "      <th>50885</th>\n",
       "      <th>50893</th>\n",
       "      <th>50902</th>\n",
       "      <th>50911</th>\n",
       "      <th>50912</th>\n",
       "      <th>...</th>\n",
       "      <th>51484</th>\n",
       "      <th>51486</th>\n",
       "      <th>51487</th>\n",
       "      <th>51491</th>\n",
       "      <th>51492</th>\n",
       "      <th>51498</th>\n",
       "      <th>51506</th>\n",
       "      <th>51514</th>\n",
       "      <th></th>\n",
       "      <th></th>\n",
       "    </tr>\n",
       "  </thead>\n",
       "  <tbody>\n",
       "    <tr>\n",
       "      <th>0</th>\n",
       "      <td>36.000000</td>\n",
       "      <td>75.000000</td>\n",
       "      <td>15.0</td>\n",
       "      <td>32.000000</td>\n",
       "      <td>14.0</td>\n",
       "      <td>0.400000</td>\n",
       "      <td>7.700000</td>\n",
       "      <td>95.0</td>\n",
       "      <td>44.000000</td>\n",
       "      <td>1.1</td>\n",
       "      <td>...</td>\n",
       "      <td>0.000000</td>\n",
       "      <td>4.000000</td>\n",
       "      <td>0.000000</td>\n",
       "      <td>0.000000</td>\n",
       "      <td>30.000000</td>\n",
       "      <td>0.000000</td>\n",
       "      <td>1.000000</td>\n",
       "      <td>0.000000</td>\n",
       "      <td>10002495.0</td>\n",
       "      <td>24982426.0</td>\n",
       "    </tr>\n",
       "    <tr>\n",
       "      <th>1</th>\n",
       "      <td>63.720430</td>\n",
       "      <td>97.752688</td>\n",
       "      <td>9.0</td>\n",
       "      <td>73.204301</td>\n",
       "      <td>23.0</td>\n",
       "      <td>1.187097</td>\n",
       "      <td>8.347312</td>\n",
       "      <td>103.0</td>\n",
       "      <td>5.161290</td>\n",
       "      <td>1.0</td>\n",
       "      <td>...</td>\n",
       "      <td>8.870968</td>\n",
       "      <td>1.182796</td>\n",
       "      <td>0.086022</td>\n",
       "      <td>0.010753</td>\n",
       "      <td>43.440860</td>\n",
       "      <td>0.000495</td>\n",
       "      <td>0.419355</td>\n",
       "      <td>0.612903</td>\n",
       "      <td>10002527.0</td>\n",
       "      <td>29112696.0</td>\n",
       "    </tr>\n",
       "    <tr>\n",
       "      <th>2</th>\n",
       "      <td>9.000000</td>\n",
       "      <td>104.000000</td>\n",
       "      <td>12.0</td>\n",
       "      <td>20.000000</td>\n",
       "      <td>25.0</td>\n",
       "      <td>0.400000</td>\n",
       "      <td>8.500000</td>\n",
       "      <td>91.0</td>\n",
       "      <td>3.000000</td>\n",
       "      <td>1.1</td>\n",
       "      <td>...</td>\n",
       "      <td>0.000000</td>\n",
       "      <td>1.000000</td>\n",
       "      <td>0.000000</td>\n",
       "      <td>0.000000</td>\n",
       "      <td>0.000000</td>\n",
       "      <td>0.000000</td>\n",
       "      <td>0.000000</td>\n",
       "      <td>0.000000</td>\n",
       "      <td>10005012.0</td>\n",
       "      <td>28371912.0</td>\n",
       "    </tr>\n",
       "    <tr>\n",
       "      <th>3</th>\n",
       "      <td>46.021505</td>\n",
       "      <td>97.301075</td>\n",
       "      <td>13.0</td>\n",
       "      <td>52.795699</td>\n",
       "      <td>24.0</td>\n",
       "      <td>0.913978</td>\n",
       "      <td>8.700000</td>\n",
       "      <td>108.0</td>\n",
       "      <td>5.860215</td>\n",
       "      <td>0.6</td>\n",
       "      <td>...</td>\n",
       "      <td>3.817204</td>\n",
       "      <td>1.086022</td>\n",
       "      <td>0.075269</td>\n",
       "      <td>0.010753</td>\n",
       "      <td>28.010753</td>\n",
       "      <td>0.000452</td>\n",
       "      <td>0.376344</td>\n",
       "      <td>0.483871</td>\n",
       "      <td>10010264.0</td>\n",
       "      <td>26641707.0</td>\n",
       "    </tr>\n",
       "    <tr>\n",
       "      <th>4</th>\n",
       "      <td>108.000000</td>\n",
       "      <td>96.000000</td>\n",
       "      <td>11.0</td>\n",
       "      <td>72.000000</td>\n",
       "      <td>29.0</td>\n",
       "      <td>0.400000</td>\n",
       "      <td>8.800000</td>\n",
       "      <td>101.0</td>\n",
       "      <td>7.086022</td>\n",
       "      <td>0.8</td>\n",
       "      <td>...</td>\n",
       "      <td>10.376344</td>\n",
       "      <td>0.817204</td>\n",
       "      <td>0.021505</td>\n",
       "      <td>0.016129</td>\n",
       "      <td>25.161290</td>\n",
       "      <td>0.000538</td>\n",
       "      <td>0.290323</td>\n",
       "      <td>0.666667</td>\n",
       "      <td>10010920.0</td>\n",
       "      <td>24676144.0</td>\n",
       "    </tr>\n",
       "    <tr>\n",
       "      <th>...</th>\n",
       "      <td>...</td>\n",
       "      <td>...</td>\n",
       "      <td>...</td>\n",
       "      <td>...</td>\n",
       "      <td>...</td>\n",
       "      <td>...</td>\n",
       "      <td>...</td>\n",
       "      <td>...</td>\n",
       "      <td>...</td>\n",
       "      <td>...</td>\n",
       "      <td>...</td>\n",
       "      <td>...</td>\n",
       "      <td>...</td>\n",
       "      <td>...</td>\n",
       "      <td>...</td>\n",
       "      <td>...</td>\n",
       "      <td>...</td>\n",
       "      <td>...</td>\n",
       "      <td>...</td>\n",
       "      <td>...</td>\n",
       "      <td>...</td>\n",
       "    </tr>\n",
       "    <tr>\n",
       "      <th>8733</th>\n",
       "      <td>33.903226</td>\n",
       "      <td>95.591398</td>\n",
       "      <td>12.0</td>\n",
       "      <td>40.161290</td>\n",
       "      <td>26.0</td>\n",
       "      <td>1.144086</td>\n",
       "      <td>8.295699</td>\n",
       "      <td>105.0</td>\n",
       "      <td>3.000000</td>\n",
       "      <td>1.1</td>\n",
       "      <td>...</td>\n",
       "      <td>11.612903</td>\n",
       "      <td>0.903226</td>\n",
       "      <td>0.043011</td>\n",
       "      <td>0.000000</td>\n",
       "      <td>29.032258</td>\n",
       "      <td>0.000430</td>\n",
       "      <td>0.333333</td>\n",
       "      <td>0.677419</td>\n",
       "      <td>19993069.0</td>\n",
       "      <td>25459716.0</td>\n",
       "    </tr>\n",
       "    <tr>\n",
       "      <th>8734</th>\n",
       "      <td>37.720430</td>\n",
       "      <td>96.430108</td>\n",
       "      <td>12.0</td>\n",
       "      <td>40.032258</td>\n",
       "      <td>26.0</td>\n",
       "      <td>0.964516</td>\n",
       "      <td>9.100000</td>\n",
       "      <td>104.0</td>\n",
       "      <td>5.322581</td>\n",
       "      <td>1.5</td>\n",
       "      <td>...</td>\n",
       "      <td>7.688172</td>\n",
       "      <td>1.172043</td>\n",
       "      <td>0.043011</td>\n",
       "      <td>0.000000</td>\n",
       "      <td>38.978495</td>\n",
       "      <td>0.000140</td>\n",
       "      <td>0.489247</td>\n",
       "      <td>0.483871</td>\n",
       "      <td>19995478.0</td>\n",
       "      <td>24108472.0</td>\n",
       "    </tr>\n",
       "    <tr>\n",
       "      <th>8735</th>\n",
       "      <td>9.000000</td>\n",
       "      <td>64.000000</td>\n",
       "      <td>10.0</td>\n",
       "      <td>11.000000</td>\n",
       "      <td>16.0</td>\n",
       "      <td>0.300000</td>\n",
       "      <td>7.500000</td>\n",
       "      <td>86.0</td>\n",
       "      <td>6.440860</td>\n",
       "      <td>0.8</td>\n",
       "      <td>...</td>\n",
       "      <td>0.000000</td>\n",
       "      <td>0.000000</td>\n",
       "      <td>0.000000</td>\n",
       "      <td>0.000000</td>\n",
       "      <td>0.000000</td>\n",
       "      <td>0.000000</td>\n",
       "      <td>0.000000</td>\n",
       "      <td>0.000000</td>\n",
       "      <td>19996783.0</td>\n",
       "      <td>25894657.0</td>\n",
       "    </tr>\n",
       "    <tr>\n",
       "      <th>8736</th>\n",
       "      <td>15.000000</td>\n",
       "      <td>57.000000</td>\n",
       "      <td>5.0</td>\n",
       "      <td>25.000000</td>\n",
       "      <td>22.0</td>\n",
       "      <td>0.800000</td>\n",
       "      <td>7.800000</td>\n",
       "      <td>92.0</td>\n",
       "      <td>5.623656</td>\n",
       "      <td>0.5</td>\n",
       "      <td>...</td>\n",
       "      <td>0.000000</td>\n",
       "      <td>4.000000</td>\n",
       "      <td>0.000000</td>\n",
       "      <td>0.000000</td>\n",
       "      <td>30.000000</td>\n",
       "      <td>0.000000</td>\n",
       "      <td>1.000000</td>\n",
       "      <td>1.000000</td>\n",
       "      <td>19997886.0</td>\n",
       "      <td>20793010.0</td>\n",
       "    </tr>\n",
       "    <tr>\n",
       "      <th>8737</th>\n",
       "      <td>28.000000</td>\n",
       "      <td>112.000000</td>\n",
       "      <td>7.0</td>\n",
       "      <td>51.000000</td>\n",
       "      <td>27.0</td>\n",
       "      <td>1.000000</td>\n",
       "      <td>8.100000</td>\n",
       "      <td>90.0</td>\n",
       "      <td>5.526882</td>\n",
       "      <td>0.8</td>\n",
       "      <td>...</td>\n",
       "      <td>0.000000</td>\n",
       "      <td>0.000000</td>\n",
       "      <td>0.000000</td>\n",
       "      <td>0.000000</td>\n",
       "      <td>0.000000</td>\n",
       "      <td>0.000000</td>\n",
       "      <td>0.000000</td>\n",
       "      <td>1.000000</td>\n",
       "      <td>19999204.0</td>\n",
       "      <td>29046609.0</td>\n",
       "    </tr>\n",
       "  </tbody>\n",
       "</table>\n",
       "<p>8738 rows × 242 columns</p>\n",
       "</div>"
      ],
      "text/plain": [
       "               min                                                         \\\n",
       "itemid       50861       50863 50868      50878 50882     50885     50893   \n",
       "0        36.000000   75.000000  15.0  32.000000  14.0  0.400000  7.700000   \n",
       "1        63.720430   97.752688   9.0  73.204301  23.0  1.187097  8.347312   \n",
       "2         9.000000  104.000000  12.0  20.000000  25.0  0.400000  8.500000   \n",
       "3        46.021505   97.301075  13.0  52.795699  24.0  0.913978  8.700000   \n",
       "4       108.000000   96.000000  11.0  72.000000  29.0  0.400000  8.800000   \n",
       "...            ...         ...   ...        ...   ...       ...       ...   \n",
       "8733     33.903226   95.591398  12.0  40.161290  26.0  1.144086  8.295699   \n",
       "8734     37.720430   96.430108  12.0  40.032258  26.0  0.964516  9.100000   \n",
       "8735      9.000000   64.000000  10.0  11.000000  16.0  0.300000  7.500000   \n",
       "8736     15.000000   57.000000   5.0  25.000000  22.0  0.800000  7.800000   \n",
       "8737     28.000000  112.000000   7.0  51.000000  27.0  1.000000  8.100000   \n",
       "\n",
       "                                ...  above_max                                \\\n",
       "itemid  50902      50911 50912  ...      51484     51486     51487     51491   \n",
       "0        95.0  44.000000   1.1  ...   0.000000  4.000000  0.000000  0.000000   \n",
       "1       103.0   5.161290   1.0  ...   8.870968  1.182796  0.086022  0.010753   \n",
       "2        91.0   3.000000   1.1  ...   0.000000  1.000000  0.000000  0.000000   \n",
       "3       108.0   5.860215   0.6  ...   3.817204  1.086022  0.075269  0.010753   \n",
       "4       101.0   7.086022   0.8  ...  10.376344  0.817204  0.021505  0.016129   \n",
       "...       ...        ...   ...  ...        ...       ...       ...       ...   \n",
       "8733    105.0   3.000000   1.1  ...  11.612903  0.903226  0.043011  0.000000   \n",
       "8734    104.0   5.322581   1.5  ...   7.688172  1.172043  0.043011  0.000000   \n",
       "8735     86.0   6.440860   0.8  ...   0.000000  0.000000  0.000000  0.000000   \n",
       "8736     92.0   5.623656   0.5  ...   0.000000  4.000000  0.000000  0.000000   \n",
       "8737     90.0   5.526882   0.8  ...   0.000000  0.000000  0.000000  0.000000   \n",
       "\n",
       "                                                 subject_id     hadm_id  \n",
       "itemid      51492     51498     51506     51514                          \n",
       "0       30.000000  0.000000  1.000000  0.000000  10002495.0  24982426.0  \n",
       "1       43.440860  0.000495  0.419355  0.612903  10002527.0  29112696.0  \n",
       "2        0.000000  0.000000  0.000000  0.000000  10005012.0  28371912.0  \n",
       "3       28.010753  0.000452  0.376344  0.483871  10010264.0  26641707.0  \n",
       "4       25.161290  0.000538  0.290323  0.666667  10010920.0  24676144.0  \n",
       "...           ...       ...       ...       ...         ...         ...  \n",
       "8733    29.032258  0.000430  0.333333  0.677419  19993069.0  25459716.0  \n",
       "8734    38.978495  0.000140  0.489247  0.483871  19995478.0  24108472.0  \n",
       "8735     0.000000  0.000000  0.000000  0.000000  19996783.0  25894657.0  \n",
       "8736    30.000000  0.000000  1.000000  1.000000  19997886.0  20793010.0  \n",
       "8737     0.000000  0.000000  0.000000  1.000000  19999204.0  29046609.0  \n",
       "\n",
       "[8738 rows x 242 columns]"
      ]
     },
     "execution_count": 57,
     "metadata": {},
     "output_type": "execute_result"
    }
   ],
   "source": [
    "lab_events_impute_KNN_imputed = pd.DataFrame(lab_events_impute_KNN_imputed)\n",
    "lab_events_impute_KNN_imputed.columns = lab_events_impute_KNN.columns\n",
    "lab_events_impute_KNN_imputed"
   ]
  },
  {
   "cell_type": "code",
   "execution_count": 58,
   "metadata": {},
   "outputs": [],
   "source": [
    "for lab_itemid in lab_range_dic:\n",
    "    lab_events_impute_KNN_imputed[( 'above_max', lab_itemid)] = lab_events_impute_KNN_imputed[( 'above_max', lab_itemid)].replace(np.nan, 0)\n",
    "    lab_events_impute_KNN_imputed[( 'below_min', lab_itemid)] = lab_events_impute_KNN_imputed[( 'below_min', lab_itemid)].replace(np.nan, 0)\n",
    "    lab_events_impute_KNN_imputed[( 'abn_percent', lab_itemid)] = lab_events_impute_KNN_imputed[( 'abn_percent', lab_itemid)].replace(np.nan, 0)\n",
    "#     lab_events_sampled_pivot[( 'comments', lab_itemid)] = lab_events_sampled_pivot[( 'comments', lab_itemid)].replace(np.nan, np.array(np.nan))\n",
    "\n"
   ]
  },
  {
   "cell_type": "markdown",
   "metadata": {},
   "source": [
    "## Standardize the Data for use in Models"
   ]
  },
  {
   "cell_type": "code",
   "execution_count": 59,
   "metadata": {},
   "outputs": [],
   "source": [
    "from sklearn.preprocessing import StandardScaler\n",
    "\n",
    "scaler = StandardScaler()"
   ]
  },
  {
   "cell_type": "code",
   "execution_count": 60,
   "metadata": {},
   "outputs": [],
   "source": [
    "labs_scaled = lab_events_impute\n",
    "labs_scaled_KNN = lab_events_impute_KNN_imputed\n",
    "labs_scaled_missing_data = lab_events_sampled_pivot"
   ]
  },
  {
   "cell_type": "code",
   "execution_count": 61,
   "metadata": {},
   "outputs": [],
   "source": [
    "scale_cols = ~labs_scaled.columns.isin([('subject_id', ''), ('hadm_id', '')])\n",
    "\n",
    "scaler.fit(labs_scaled.loc[:, scale_cols])\n",
    "labs_scaled.loc[:, scale_cols] = scaler.transform(labs_scaled.loc[:, scale_cols])\n",
    "\n",
    "scaler.fit(labs_scaled_KNN.loc[:, scale_cols])\n",
    "labs_scaled_KNN.loc[:, scale_cols] = scaler.transform(labs_scaled_KNN.loc[:, scale_cols])\n",
    "\n",
    "scaler.fit(labs_scaled_missing_data.loc[:, scale_cols])\n",
    "labs_scaled_missing_data.loc[:, scale_cols] = scaler.transform(labs_scaled_missing_data.loc[:, scale_cols])\n"
   ]
  },
  {
   "cell_type": "markdown",
   "metadata": {},
   "source": [
    "## Save Lab Results for Models"
   ]
  },
  {
   "cell_type": "code",
   "execution_count": 62,
   "metadata": {},
   "outputs": [
    {
     "name": "stderr",
     "output_type": "stream",
     "text": [
      "/opt/anaconda3/lib/python3.7/site-packages/pandas/core/reshape/merge.py:618: UserWarning: merging between different levels can give an unintended result (2 levels on the left, 1 on the right)\n",
      "  warnings.warn(msg, UserWarning)\n"
     ]
    }
   ],
   "source": [
    "# Save non-imputed file as well for forest models\n",
    "\n",
    "pos_final_test = labs_scaled.merge(admissions_sample, how='left', left_on='hadm_id', right_on='hadm_id')\n",
    "pos_KNN_final_test = labs_scaled_KNN.merge(admissions_sample, how='left', left_on='hadm_id', right_on='hadm_id')\n",
    "pos_final_missing_data_test = labs_scaled_missing_data.merge(admissions_sample, how='left', left_on='hadm_id', right_on='hadm_id')\n"
   ]
  },
  {
   "cell_type": "code",
   "execution_count": 63,
   "metadata": {},
   "outputs": [],
   "source": [
    "pos_final_test.to_csv('pos_final_test.csv.gz', compression=\"gzip\")\n",
    "pos_KNN_final_test.to_csv('pos_KNN_final_test.csv.gz', compression=\"gzip\")\n",
    "pos_final_missing_data_test.to_csv('pos_final_missing_data_test.csv.gz', compression=\"gzip\")\n"
   ]
  },
  {
   "cell_type": "markdown",
   "metadata": {},
   "source": [
    "## Check for Multicollinearity"
   ]
  },
  {
   "cell_type": "code",
   "execution_count": 64,
   "metadata": {},
   "outputs": [],
   "source": [
    "from statsmodels.stats.outliers_influence import variance_inflation_factor\n",
    "from statsmodels.tools.tools import add_constant"
   ]
  },
  {
   "cell_type": "code",
   "execution_count": 65,
   "metadata": {},
   "outputs": [
    {
     "name": "stderr",
     "output_type": "stream",
     "text": [
      "/opt/anaconda3/lib/python3.7/site-packages/statsmodels/stats/outliers_influence.py:193: RuntimeWarning: divide by zero encountered in double_scalars\n",
      "  vif = 1. / (1. - r_squared_i)\n",
      "/opt/anaconda3/lib/python3.7/site-packages/statsmodels/regression/linear_model.py:1687: RuntimeWarning: invalid value encountered in double_scalars\n",
      "  return 1 - self.ssr/self.uncentered_tss\n"
     ]
    },
    {
     "name": "stdout",
     "output_type": "stream",
     "text": [
      "CPU times: user 4min 7s, sys: 33.7 s, total: 4min 41s\n",
      "Wall time: 48.3 s\n"
     ]
    },
    {
     "data": {
      "text/plain": [
       "           itemid\n",
       "above_max  51484              inf\n",
       "           51478              inf\n",
       "max        51466              inf\n",
       "           51464              inf\n",
       "           51484              inf\n",
       "           51478              inf\n",
       "above_max  51466              inf\n",
       "           51464              inf\n",
       "max        51003     1.232585e+06\n",
       "above_max  51003     1.232257e+06\n",
       "max        50878     1.433569e+04\n",
       "above_max  50878     1.426917e+04\n",
       "max        50861     4.545681e+03\n",
       "above_max  50861     4.497713e+03\n",
       "max        51237     1.230869e+03\n",
       "above_max  51237     1.168241e+03\n",
       "mean       51248     8.554668e+02\n",
       "           51279     6.547015e+02\n",
       "max        50931     6.054340e+02\n",
       "mean       51222     6.054204e+02\n",
       "dtype: float64"
      ]
     },
     "execution_count": 65,
     "metadata": {},
     "output_type": "execute_result"
    }
   ],
   "source": [
    "%%time\n",
    "\n",
    "labs_scaled_features = labs_scaled.loc[:, ('min', 50868) : ('above_max', 51484)]\n",
    "add_constant(labs_scaled_features)\n",
    "\n",
    "high_vif = pd.Series([variance_inflation_factor(labs_scaled_features.values, i) \n",
    "               for i in range(labs_scaled_features.shape[1])], \n",
    "              index=labs_scaled_features.columns).sort_values(ascending = False)\n",
    "\n",
    "high_vif.head(20)\n"
   ]
  },
  {
   "cell_type": "code",
   "execution_count": 68,
   "metadata": {},
   "outputs": [],
   "source": [
    "labs_scaled_features_limited = labs_scaled_features.copy()\n",
    "labs_scaled_features_limited.drop([('above_max', 51484),\n",
    "                                  ('above_max', 51478),\n",
    "                                  ('above_max', 51466),\n",
    "                                  ('above_max', 51464),\n",
    "                                  ('max', 51003),\n",
    "                                  ('max', 50878),\n",
    "                                  ('max', 50861),\n",
    "                                  ('max', 51237),\n",
    "                                  ('mean', 51248),\n",
    "                                  ('max', 50931),\n",
    "                                  ('mean', 51222),\n",
    "                                  ('max', 51274),\n",
    "                                  ('mean', 51279),\n",
    "                                  ('mean', 51274),\n",
    "                                  ('mean', 51478),\n",
    "                                  ('mean', 50885),\n",
    "                                  ('mean', 51250),\n",
    "                                  ('max', 50911),\n",
    "                                  ('mean', 51003),\n",
    "                                  ('mean', 51466),\n",
    "                                  ('mean', 51484),\n",
    "                                  ('mean', 51486),\n",
    "                                  ('mean', 51277),\n",
    "                                  ('mean', 51221),\n",
    "                                  ('max', 50912),\n",
    "                                  ('max', 51275),\n",
    "                                  ('mean', 51492),\n",
    "                                  ('mean', 51514),\n",
    "                                  ('mean', 51006),\n",
    "                                  ('min', 51222),\n",
    "                                  ('max', 50960)], axis = 1, inplace = True)\n"
   ]
  },
  {
   "cell_type": "code",
   "execution_count": 69,
   "metadata": {},
   "outputs": [
    {
     "name": "stdout",
     "output_type": "stream",
     "text": [
      "CPU times: user 2min 59s, sys: 25.9 s, total: 3min 24s\n",
      "Wall time: 35.2 s\n"
     ]
    },
    {
     "data": {
      "text/plain": [
       "           itemid\n",
       "mean       51249     96.204266\n",
       "max        51248     87.709068\n",
       "           50885     87.649260\n",
       "above_max  50885     85.470891\n",
       "mean       51506     84.879426\n",
       "min        51279     70.651643\n",
       "mean       50912     70.345144\n",
       "max        51279     70.196776\n",
       "min        51221     68.809948\n",
       "below_min  51221     68.510761\n",
       "min        51248     67.763923\n",
       "mean       51265     67.695795\n",
       "           51464     64.278777\n",
       "min        51250     62.715902\n",
       "max        51222     60.686303\n",
       "below_min  51279     58.371683\n",
       "mean       51487     57.477935\n",
       "below_min  51222     57.049252\n",
       "max        51301     57.014977\n",
       "           51250     50.106411\n",
       "dtype: float64"
      ]
     },
     "execution_count": 69,
     "metadata": {},
     "output_type": "execute_result"
    }
   ],
   "source": [
    "%%time\n",
    "\n",
    "high_vif = pd.Series([variance_inflation_factor(labs_scaled_features_limited.values, i) \n",
    "               for i in range(labs_scaled_features_limited.shape[1])], \n",
    "              index=labs_scaled_features_limited.columns).sort_values(ascending = False)\n",
    "\n",
    "high_vif.head(20)\n"
   ]
  },
  {
   "cell_type": "code",
   "execution_count": null,
   "metadata": {},
   "outputs": [],
   "source": []
  }
 ],
 "metadata": {
  "kernelspec": {
   "display_name": "Python 3",
   "language": "python",
   "name": "python3"
  },
  "language_info": {
   "codemirror_mode": {
    "name": "ipython",
    "version": 3
   },
   "file_extension": ".py",
   "mimetype": "text/x-python",
   "name": "python",
   "nbconvert_exporter": "python",
   "pygments_lexer": "ipython3",
   "version": "3.7.6"
  }
 },
 "nbformat": 4,
 "nbformat_minor": 4
}
