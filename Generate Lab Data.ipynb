{
 "cells": [
  {
   "cell_type": "code",
   "execution_count": 1,
   "metadata": {},
   "outputs": [],
   "source": [
    "import pandas as pd\n",
    "import numpy as np\n",
    "from sklearn.utils import resample\n",
    "import math"
   ]
  },
  {
   "cell_type": "code",
   "execution_count": 2,
   "metadata": {},
   "outputs": [],
   "source": [
    "d_labitems = pd.read_csv('data/mimic-iv-0.4/hosp/d_labitems.csv.gz', compression='gzip')"
   ]
  },
  {
   "cell_type": "code",
   "execution_count": 3,
   "metadata": {},
   "outputs": [],
   "source": [
    "admissions_sample = pd.read_pickle(\"admissions_sample.pkl\")"
   ]
  },
  {
   "cell_type": "markdown",
   "metadata": {},
   "source": [
    "## Pull Chart and Lab data only where it matches our sample patient list"
   ]
  },
  {
   "cell_type": "code",
   "execution_count": 4,
   "metadata": {},
   "outputs": [],
   "source": [
    "# # We have Decided not to use Chart data after exploring it further\n",
    "# # However, it still comes up in our discussions, so keeping this for now\n",
    "# # Will need to update this code based on other updates we've made\n",
    "\n",
    "# %%time #run this for next time\n",
    "\n",
    "# chunksize = 3*(10 ** 6)\n",
    "# counter=0\n",
    "# chartevents_sample = []\n",
    "# for chunk in pd.read_csv('data/mimic-iv-0.4/icu/chartevents.csv.gz', compression='gzip', chunksize=chunksize):\n",
    "#     chartevents_sample.append(chunk[chunk['subject_id'].isin(list(admissions_sample.subject_id))])\n",
    "#     counter+=1\n",
    "#     print(f'chunk {counter} processed')\n",
    "\n",
    "# chartevents_final = pd.concat(chartevents_sample)\n",
    "\n"
   ]
  },
  {
   "cell_type": "code",
   "execution_count": 5,
   "metadata": {},
   "outputs": [],
   "source": [
    "# chartevents_final.to_pickle(\"chartevents_final.pkl\")"
   ]
  },
  {
   "cell_type": "code",
   "execution_count": 6,
   "metadata": {},
   "outputs": [],
   "source": [
    "# chartevents_final = pd.read_pickle(\"chartevents_final.pkl\")"
   ]
  },
  {
   "cell_type": "code",
   "execution_count": 7,
   "metadata": {},
   "outputs": [],
   "source": [
    "# chartevents_final.shape"
   ]
  },
  {
   "cell_type": "markdown",
   "metadata": {},
   "source": [
    "Load Lab Events table"
   ]
  },
  {
   "cell_type": "code",
   "execution_count": 8,
   "metadata": {
    "scrolled": true
   },
   "outputs": [
    {
     "name": "stdout",
     "output_type": "stream",
     "text": [
      "chunk 1 processed\n",
      "chunk 2 processed\n",
      "chunk 3 processed\n"
     ]
    },
    {
     "name": "stderr",
     "output_type": "stream",
     "text": [
      "<string>:2: DtypeWarning: Columns (7,9,12) have mixed types.Specify dtype option on import or set low_memory=False.\n"
     ]
    },
    {
     "name": "stdout",
     "output_type": "stream",
     "text": [
      "chunk 4 processed\n",
      "chunk 5 processed\n",
      "chunk 6 processed\n",
      "chunk 7 processed\n",
      "chunk 8 processed\n",
      "chunk 9 processed\n"
     ]
    },
    {
     "name": "stderr",
     "output_type": "stream",
     "text": [
      "<string>:2: DtypeWarning: Columns (9,12) have mixed types.Specify dtype option on import or set low_memory=False.\n"
     ]
    },
    {
     "name": "stdout",
     "output_type": "stream",
     "text": [
      "chunk 10 processed\n"
     ]
    },
    {
     "name": "stderr",
     "output_type": "stream",
     "text": [
      "<string>:2: DtypeWarning: Columns (12) have mixed types.Specify dtype option on import or set low_memory=False.\n"
     ]
    },
    {
     "name": "stdout",
     "output_type": "stream",
     "text": [
      "chunk 11 processed\n",
      "chunk 12 processed\n",
      "chunk 13 processed\n",
      "chunk 14 processed\n",
      "chunk 15 processed\n"
     ]
    },
    {
     "name": "stderr",
     "output_type": "stream",
     "text": [
      "<string>:2: DtypeWarning: Columns (7) have mixed types.Specify dtype option on import or set low_memory=False.\n"
     ]
    },
    {
     "name": "stdout",
     "output_type": "stream",
     "text": [
      "chunk 16 processed\n",
      "chunk 17 processed\n",
      "chunk 18 processed\n",
      "chunk 19 processed\n",
      "chunk 20 processed\n",
      "chunk 21 processed\n",
      "chunk 22 processed\n",
      "chunk 23 processed\n"
     ]
    },
    {
     "name": "stderr",
     "output_type": "stream",
     "text": [
      "<string>:2: DtypeWarning: Columns (7,9) have mixed types.Specify dtype option on import or set low_memory=False.\n"
     ]
    },
    {
     "name": "stdout",
     "output_type": "stream",
     "text": [
      "chunk 24 processed\n",
      "chunk 25 processed\n",
      "chunk 26 processed\n",
      "chunk 27 processed\n",
      "chunk 28 processed\n",
      "chunk 29 processed\n",
      "chunk 30 processed\n",
      "chunk 31 processed\n",
      "chunk 32 processed\n",
      "chunk 33 processed\n",
      "chunk 34 processed\n",
      "chunk 35 processed\n",
      "chunk 36 processed\n",
      "chunk 37 processed\n",
      "chunk 38 processed\n",
      "chunk 39 processed\n",
      "chunk 40 processed\n",
      "chunk 41 processed\n",
      "CPU times: user 3min 58s, sys: 19.7 s, total: 4min 17s\n",
      "Wall time: 4min 19s\n"
     ]
    }
   ],
   "source": [
    "# %%time\n",
    "\n",
    "# chunksize = 3*(10 ** 6)\n",
    "# counter=0\n",
    "# lab_events_sample = []\n",
    "# for chunk in pd.read_csv('data/mimic-iv-0.4/hosp/labevents.csv.gz', compression='gzip', chunksize=chunksize):\n",
    "#     lab_events_sample.append(chunk[chunk['subject_id'].isin(list(admissions_sample.subject_id))])\n",
    "#     counter+=1\n",
    "#     print(f'chunk {counter} processed')\n",
    "\n",
    "# lab_events_final = pd.concat(lab_events_sample)\n",
    "# # 5k patients\n",
    "# # 3min 52s\n",
    "\n",
    "# # 10k patients\n",
    "# # 4min 6s\n",
    "\n",
    "# # 15k patients\n",
    "# # 4min 27s\n",
    "\n"
   ]
  },
  {
   "cell_type": "code",
   "execution_count": 9,
   "metadata": {},
   "outputs": [],
   "source": [
    "# lab_events_final.to_pickle(\"lab_events_final.pkl\")"
   ]
  },
  {
   "cell_type": "code",
   "execution_count": 10,
   "metadata": {},
   "outputs": [],
   "source": [
    "lab_events_final = pd.read_pickle(\"lab_events_final.pkl\")"
   ]
  },
  {
   "cell_type": "code",
   "execution_count": 11,
   "metadata": {},
   "outputs": [
    {
     "data": {
      "text/plain": [
       "(6765210, 15)"
      ]
     },
     "execution_count": 11,
     "metadata": {},
     "output_type": "execute_result"
    }
   ],
   "source": [
    "lab_events_final.shape"
   ]
  },
  {
   "cell_type": "markdown",
   "metadata": {},
   "source": [
    "## Manipulating the Data"
   ]
  },
  {
   "cell_type": "markdown",
   "metadata": {},
   "source": [
    "Take only records related to our sample patients"
   ]
  },
  {
   "cell_type": "markdown",
   "metadata": {},
   "source": [
    "Filter lab events based on first hospital visit of our sample population"
   ]
  },
  {
   "cell_type": "code",
   "execution_count": 12,
   "metadata": {},
   "outputs": [
    {
     "name": "stdout",
     "output_type": "stream",
     "text": [
      "CPU times: user 1.73 s, sys: 660 ms, total: 2.39 s\n",
      "Wall time: 2.4 s\n"
     ]
    }
   ],
   "source": [
    "# Can we do this filtering when generating lab data?\n",
    "# For now let's not as we're discussing using different hospitalizations from the same subjects\n",
    "\n",
    "%time lab_events_sampled = lab_events_final[lab_events_final['hadm_id'].isin(admissions_sample.hadm_id)]\n"
   ]
  },
  {
   "cell_type": "markdown",
   "metadata": {},
   "source": [
    "Check how many patients have had each test done"
   ]
  },
  {
   "cell_type": "code",
   "execution_count": 13,
   "metadata": {},
   "outputs": [
    {
     "data": {
      "text/plain": [
       "itemid\n",
       "51221    8433\n",
       "51265    8297\n",
       "51222    8236\n",
       "51301    8235\n",
       "51248    8229\n",
       "51279    8229\n",
       "51277    8229\n",
       "51250    8229\n",
       "51249    8229\n",
       "50912    7985\n",
       "Name: subject_id, dtype: int64"
      ]
     },
     "execution_count": 13,
     "metadata": {},
     "output_type": "execute_result"
    }
   ],
   "source": [
    "lab_events_sampled.groupby('itemid')['subject_id'].nunique().sort_values(ascending = False).head(10)"
   ]
  },
  {
   "cell_type": "markdown",
   "metadata": {},
   "source": [
    "Most common tests performed on patients with pos diagnosis"
   ]
  },
  {
   "cell_type": "code",
   "execution_count": 14,
   "metadata": {},
   "outputs": [
    {
     "data": {
      "text/plain": [
       "itemid\n",
       "50971    1196\n",
       "50983    1193\n",
       "50912    1192\n",
       "50902    1191\n",
       "51006    1191\n",
       "51221    1181\n",
       "51265    1181\n",
       "50868    1180\n",
       "50882    1180\n",
       "50931    1174\n",
       "Name: subject_id, dtype: int64"
      ]
     },
     "execution_count": 14,
     "metadata": {},
     "output_type": "execute_result"
    }
   ],
   "source": [
    "lab_events_sampled[lab_events_sampled['subject_id'].isin(list(admissions_sample[admissions_sample['pos'] == 1].subject_id))].groupby('itemid')['subject_id'].nunique().sort_values(ascending = False).head(10)\n"
   ]
  },
  {
   "cell_type": "markdown",
   "metadata": {},
   "source": [
    "Item Black List"
   ]
  },
  {
   "cell_type": "code",
   "execution_count": 15,
   "metadata": {},
   "outputs": [],
   "source": [
    "item_black_list = [50920]\n",
    "# 50920 - test results are text in comments - need to come back and figure out how to handle this\n"
   ]
  },
  {
   "cell_type": "markdown",
   "metadata": {},
   "source": [
    "Take only the X most commonly performed tests"
   ]
  },
  {
   "cell_type": "code",
   "execution_count": 16,
   "metadata": {},
   "outputs": [],
   "source": [
    "top_test_num = 40\n",
    "\n",
    "lab_events_valid = lab_events_sampled[~lab_events_sampled['itemid'].isin(item_black_list)]\n",
    "\n",
    "# On patients with pos diagnosis\n",
    "itemid_sub_sample = lab_events_valid[lab_events_valid['subject_id'].isin(list(admissions_sample[admissions_sample['pos'] == 1].subject_id))].groupby('itemid')['subject_id'].nunique().sort_values(ascending = False).head(top_test_num).reset_index().rename(columns = {'index' : 'itemid'}).itemid.to_list()\n",
    "# On all sample patients\n",
    "# itemid_sub_sample = lab_events_sampled.groupby('itemid')['subject_id'].nunique().sort_values(ascending = False).head(top_test_num).reset_index().rename(columns = {'index' : 'itemid'}).itemid.to_list()\n",
    "\n",
    "lab_events_sampled_sub = lab_events_sampled[lab_events_sampled['itemid'].isin(itemid_sub_sample)]\n"
   ]
  },
  {
   "cell_type": "markdown",
   "metadata": {},
   "source": [
    "## Data Cleaning"
   ]
  },
  {
   "cell_type": "markdown",
   "metadata": {},
   "source": [
    "Make a separate table where we run some of the forest models on the Text data?"
   ]
  },
  {
   "cell_type": "markdown",
   "metadata": {},
   "source": [
    "Special updates for Urine sample tests"
   ]
  },
  {
   "cell_type": "code",
   "execution_count": 17,
   "metadata": {},
   "outputs": [
    {
     "name": "stderr",
     "output_type": "stream",
     "text": [
      "/opt/anaconda3/lib/python3.7/site-packages/pandas/core/indexing.py:965: SettingWithCopyWarning: \n",
      "A value is trying to be set on a copy of a slice from a DataFrame.\n",
      "Try using .loc[row_indexer,col_indexer] = value instead\n",
      "\n",
      "See the caveats in the documentation: https://pandas.pydata.org/pandas-docs/stable/user_guide/indexing.html#returning-a-view-versus-a-copy\n",
      "  self.obj[item] = s\n"
     ]
    }
   ],
   "source": [
    "# Other invalid value imputation\n",
    "# For now set them all to normal/most common value\n",
    "lab_events_sampled_sub.loc[(lab_events_sampled_sub['itemid'] == 51237) & (lab_events_sampled_sub['value'].isin([np.nan, 'ERROR', 'UNABLE TO REPORT'])), ['value', 'valuenum']] = 1.1\n",
    "lab_events_sampled_sub.loc[(lab_events_sampled_sub['itemid'] == 51237) & (lab_events_sampled_sub['value'].isin(['>21.8'])), ['value', 'valuenum']] = 22\n",
    "lab_events_sampled_sub.loc[(lab_events_sampled_sub['itemid'] == 51237) & (lab_events_sampled_sub['value'].isin(['>19.2'])), ['value', 'valuenum']] = 20\n",
    "\n",
    "lab_events_sampled_sub.loc[(lab_events_sampled_sub['itemid'] == 51275) &  (lab_events_sampled_sub['value'].isin(['>150', '>150.0'])), ['value', 'valuenum']] = 175\n",
    "\n",
    "# Should we just delete these?\n",
    "# For 5k patients there are 6 records here\n",
    "lab_events_sampled_sub.loc[(lab_events_sampled_sub['itemid'] == 51274) &  (lab_events_sampled_sub['value'].isin(['ERROR'])), ['value', 'valuenum']] = 11\n",
    "\n",
    "# Should we just delete these?\n",
    "# For 5k patients there are 1 records here\n",
    "lab_events_sampled_sub.loc[(lab_events_sampled_sub['itemid'] == 51275) &  (lab_events_sampled_sub['value'].isin(['UNABLE TO REPORT'])), ['value', 'valuenum']] = 31\n",
    "\n",
    "# Clumsy..\n",
    "lab_events_sampled_sub.loc[(lab_events_sampled_sub['itemid'] == 51275) &  (lab_events_sampled_sub['value'].isin(['34..3'])), ['value', 'valuenum']] = 34.3\n"
   ]
  },
  {
   "cell_type": "markdown",
   "metadata": {},
   "source": [
    "More Data Cleaning"
   ]
  },
  {
   "cell_type": "code",
   "execution_count": 18,
   "metadata": {},
   "outputs": [
    {
     "name": "stdout",
     "output_type": "stream",
     "text": [
      "CPU times: user 5.18 s, sys: 171 ms, total: 5.35 s\n",
      "Wall time: 5.38 s\n"
     ]
    }
   ],
   "source": [
    "%%time\n",
    "\n",
    "# Can probably make a helper function combining some of the below mapping\n",
    "\n",
    "# 51466\n",
    "lab_events_sampled_sub.loc[(lab_events_sampled_sub['itemid'] == 51466) & (lab_events_sampled_sub['value'].isin([np.nan])), ['value']] = lab_events_sampled_sub['comments']\n",
    "lab_events_sampled_sub.loc[(lab_events_sampled_sub['itemid'] == 51466) & (lab_events_sampled_sub['value'].isin(['NEG.  ', 'NEG', ' '])), ['value', 'valuenum']] = 0\n",
    "lab_events_sampled_sub.loc[(lab_events_sampled_sub['itemid'] == 51466) & (lab_events_sampled_sub['value'].isin(['TR', 'TR.  ', 'TR*.  '])), ['value', 'valuenum']] = 1\n",
    "lab_events_sampled_sub.loc[(lab_events_sampled_sub['itemid'] == 51466) & (lab_events_sampled_sub['value'].isin(['SM', 'SM .  ', 'SM*.  '])), ['value', 'valuenum']] = 2\n",
    "lab_events_sampled_sub.loc[(lab_events_sampled_sub['itemid'] == 51466) & (lab_events_sampled_sub['value'].isin(['MOD', 'MOD.  ', 'MOD*.  '])), ['value', 'valuenum']] = 3\n",
    "lab_events_sampled_sub.loc[(lab_events_sampled_sub['itemid'] == 51466) & (lab_events_sampled_sub['value'].isin(['LG', 'LG.  ', 'LG*.  ', 'LGE', 'LRG'])), ['value', 'valuenum']] = 4\n",
    "\n",
    "lab_events_sampled_sub.loc[(lab_events_sampled_sub['itemid'] == 51466) & (lab_events_sampled_sub['ref_range_lower'].isnull()), 'ref_range_lower'] = 0\n",
    "lab_events_sampled_sub.loc[(lab_events_sampled_sub['itemid'] == 51466) & (lab_events_sampled_sub['ref_range_upper'].isnull()), 'ref_range_upper'] = 0\n",
    "\n",
    "# 51514\n",
    "lab_events_sampled_sub.loc[(lab_events_sampled_sub['itemid'] == 51514) & (lab_events_sampled_sub['value'].isin([np.nan])), ['value']] = lab_events_sampled_sub['comments']\n",
    "lab_events_sampled_sub.loc[(lab_events_sampled_sub['itemid'] == 51514) & (lab_events_sampled_sub['value'].isin(['NEG.  ', 'NEG', 'NORMAL.  ', ' '])), ['value', 'valuenum']] = 0\n",
    "lab_events_sampled_sub.loc[(lab_events_sampled_sub['itemid'] == 51514) & (lab_events_sampled_sub['value'].isin(['>8'])), ['value', 'valuenum']] = 10\n",
    "lab_events_sampled_sub.loc[(lab_events_sampled_sub['itemid'] == 51514) & (lab_events_sampled_sub['value'].isin(['>12.  ', '>12*.  '])), ['value', 'valuenum']] = 15\n",
    "\n",
    "# 51464\n",
    "lab_events_sampled_sub.loc[(lab_events_sampled_sub['itemid'] == 51464) & (lab_events_sampled_sub['value'].isin([np.nan])), ['value']] = lab_events_sampled_sub['comments']\n",
    "lab_events_sampled_sub.loc[(lab_events_sampled_sub['itemid'] == 51464) & (lab_events_sampled_sub['value'].isin(['NEG.  ', 'NEG', ' '])), ['value', 'valuenum']] = 0\n",
    "lab_events_sampled_sub.loc[(lab_events_sampled_sub['itemid'] == 51464) & (lab_events_sampled_sub['value'].isin(['SM', 'SM .  ', 'SM*.  '])), ['value', 'valuenum']] = 1\n",
    "lab_events_sampled_sub.loc[(lab_events_sampled_sub['itemid'] == 51464) & (lab_events_sampled_sub['value'].isin(['MOD', 'MOD.  ', 'MOD*.  '])), ['value', 'valuenum']] = 2\n",
    "lab_events_sampled_sub.loc[(lab_events_sampled_sub['itemid'] == 51464) & (lab_events_sampled_sub['value'].isin(['LG', 'LG.  ', 'LG*.  ', 'LGE'])), ['value', 'valuenum']] = 3\n",
    "\n",
    "lab_events_sampled_sub.loc[(lab_events_sampled_sub['itemid'] == 51464) & (lab_events_sampled_sub['ref_range_lower'].isnull()), 'ref_range_lower'] = 0\n",
    "lab_events_sampled_sub.loc[(lab_events_sampled_sub['itemid'] == 51464) & (lab_events_sampled_sub['ref_range_upper'].isnull()), 'ref_range_upper'] = 0\n",
    "\n",
    "# 51487\n",
    "# Should Pos be marked abnormal?\n",
    "lab_events_sampled_sub.loc[(lab_events_sampled_sub['itemid'] == 51487) & (lab_events_sampled_sub['value'].isin([np.nan])), ['value']] = lab_events_sampled_sub['comments']\n",
    "lab_events_sampled_sub.loc[(lab_events_sampled_sub['itemid'] == 51487) & (lab_events_sampled_sub['value'].isin(['NEG.  ', 'NEG', ' '])), ['value', 'valuenum']] = 0\n",
    "lab_events_sampled_sub.loc[(lab_events_sampled_sub['itemid'] == 51487) & (lab_events_sampled_sub['value'].isin(['POS.  ', 'POS', 'POS*.  '])), ['value', 'valuenum']] = 1\n",
    "\n",
    "lab_events_sampled_sub.loc[(lab_events_sampled_sub['itemid'] == 51487) & (lab_events_sampled_sub['ref_range_lower'].isnull()), 'ref_range_lower'] = 0\n",
    "lab_events_sampled_sub.loc[(lab_events_sampled_sub['itemid'] == 51487) & (lab_events_sampled_sub['ref_range_upper'].isnull()), 'ref_range_upper'] = 0\n",
    "\n",
    "# 51492\n",
    "# Should Pos be marked abnormal?\n",
    "lab_events_sampled_sub.loc[(lab_events_sampled_sub['itemid'] == 51492) & (lab_events_sampled_sub['value'].isin([np.nan])), ['value']] = lab_events_sampled_sub['comments']\n",
    "lab_events_sampled_sub.loc[(lab_events_sampled_sub['itemid'] == 51492) & (lab_events_sampled_sub['value'].isin(['___'])), ['value', 'valuenum']] = np.nan\n",
    "lab_events_sampled_sub.loc[(lab_events_sampled_sub['itemid'] == 51492) & (lab_events_sampled_sub['value'].isin(['NEG.  ', 'NEG', ' '])), ['value', 'valuenum']] = 0\n",
    "lab_events_sampled_sub.loc[(lab_events_sampled_sub['itemid'] == 51492) & (lab_events_sampled_sub['value'].isin(['TR', 'TR.  ', 'TR*.  '])), ['value', 'valuenum']] = 10\n",
    "lab_events_sampled_sub.loc[(lab_events_sampled_sub['itemid'] == 51492) & (lab_events_sampled_sub['value'].str.contains('TR.')), ['value', 'valuenum']] = 10\n",
    "lab_events_sampled_sub.loc[(lab_events_sampled_sub['itemid'] == 51492) & (lab_events_sampled_sub['value'].isin(['>300'])), ['value', 'valuenum']] = 350\n",
    "lab_events_sampled_sub.loc[(lab_events_sampled_sub['itemid'] == 51492) & (lab_events_sampled_sub['value'].isin(['>600.  ', '>600*.  '])), ['value', 'valuenum']] = 700\n",
    "\n",
    "lab_events_sampled_sub.loc[(lab_events_sampled_sub['itemid'] == 51492) & (lab_events_sampled_sub['ref_range_lower'].isnull()), 'ref_range_lower'] = 0\n",
    "lab_events_sampled_sub.loc[(lab_events_sampled_sub['itemid'] == 51492) & (lab_events_sampled_sub['ref_range_upper'].isnull()), 'ref_range_upper'] = 0\n",
    "\n",
    "# 51486\n",
    "lab_events_sampled_sub.loc[(lab_events_sampled_sub['itemid'] == 51486) & (lab_events_sampled_sub['value'].isin([np.nan])), ['value']] = lab_events_sampled_sub['comments']\n",
    "lab_events_sampled_sub.loc[(lab_events_sampled_sub['itemid'] == 51486) & (lab_events_sampled_sub['value'].isin(['NEG.  ', 'NEG', ' ', 'N'])), ['value', 'valuenum']] = 0\n",
    "lab_events_sampled_sub.loc[(lab_events_sampled_sub['itemid'] == 51486) & (lab_events_sampled_sub['value'].isin(['TR', 'TR.  ', 'TR*.  '])), ['value', 'valuenum']] = 1\n",
    "lab_events_sampled_sub.loc[(lab_events_sampled_sub['itemid'] == 51486) & (lab_events_sampled_sub['value'].isin(['SM', 'SM .  ', 'SM*.  '])), ['value', 'valuenum']] = 2\n",
    "lab_events_sampled_sub.loc[(lab_events_sampled_sub['itemid'] == 51486) & (lab_events_sampled_sub['value'].isin(['MOD', 'MOD.  ', 'MOD*.  '])), ['value', 'valuenum']] = 3\n",
    "lab_events_sampled_sub.loc[(lab_events_sampled_sub['itemid'] == 51486) & (lab_events_sampled_sub['value'].isin(['LG', 'LG.  ', 'LG*.  ', 'LGE'])), ['value', 'valuenum']] = 4\n",
    "\n",
    "lab_events_sampled_sub.loc[(lab_events_sampled_sub['itemid'] == 51486) & (lab_events_sampled_sub['ref_range_lower'].isnull()), 'ref_range_lower'] = 0\n",
    "lab_events_sampled_sub.loc[(lab_events_sampled_sub['itemid'] == 51486) & (lab_events_sampled_sub['ref_range_upper'].isnull()), 'ref_range_upper'] = 0\n",
    "\n",
    "# 51506\n",
    "lab_events_sampled_sub.loc[(lab_events_sampled_sub['itemid'] == 51506) & (lab_events_sampled_sub['value'].isin([np.nan])), ['value']] = lab_events_sampled_sub['comments']\n",
    "lab_events_sampled_sub.loc[(lab_events_sampled_sub['itemid'] == 51506) & (lab_events_sampled_sub['value'].isin(['Clear.  ', 'CLEAR.  ', 'Clear', ' ', 'CLEAR'])), ['value', 'valuenum']] = 0\n",
    "lab_events_sampled_sub.loc[(lab_events_sampled_sub['itemid'] == 51506) & (lab_events_sampled_sub['value'].isin(['SlHazy'])), ['value', 'valuenum']] = 0.5\n",
    "lab_events_sampled_sub.loc[(lab_events_sampled_sub['itemid'] == 51506) & (lab_events_sampled_sub['value'].isin(['Hazy.  ', 'Hazy*.  ', 'Hazy', 'HAZY', 'HAZY*.  ', 'Slcldy', 'SLCLOUDY'])), ['value', 'valuenum']] = 1\n",
    "lab_events_sampled_sub.loc[(lab_events_sampled_sub['itemid'] == 51506) & (lab_events_sampled_sub['value'].isin(['Cloudy*.  ', 'Cloudy.  ', 'Cloudy', 'CLO', 'CLOUDY', 'CLOU', 'CLOUDY*.  '])), ['value', 'valuenum']] = 2\n",
    "\n",
    "lab_events_sampled_sub.loc[(lab_events_sampled_sub['itemid'] == 51506) & (lab_events_sampled_sub['ref_range_lower'].isnull()), 'ref_range_lower'] = 0\n",
    "lab_events_sampled_sub.loc[(lab_events_sampled_sub['itemid'] == 51506) & (lab_events_sampled_sub['ref_range_upper'].isnull()), 'ref_range_upper'] = 0\n"
   ]
  },
  {
   "cell_type": "markdown",
   "metadata": {},
   "source": [
    "Additional Data Cleaning"
   ]
  },
  {
   "cell_type": "code",
   "execution_count": 19,
   "metadata": {},
   "outputs": [],
   "source": [
    "lab_events_sampled_sub.loc[(lab_events_sampled_sub['itemid'] == 51484) & (lab_events_sampled_sub['value'].isin([np.nan, ' ', 'TR', 'NEG'])), ['value', 'valuenum']] = 0\n",
    "lab_events_sampled_sub.loc[(lab_events_sampled_sub['itemid'] == 51478) & (lab_events_sampled_sub['value'].isin([np.nan, ' ', 'TR', 'NEG'])), ['value', 'valuenum']] = 0\n",
    "\n",
    "lab_events_sampled_sub.loc[(lab_events_sampled_sub['itemid'] == 51484) & (lab_events_sampled_sub['ref_range_lower'].isnull()), 'ref_range_lower'] = 0\n",
    "lab_events_sampled_sub.loc[(lab_events_sampled_sub['itemid'] == 51478) & (lab_events_sampled_sub['ref_range_lower'].isnull()), 'ref_range_lower'] = 0\n",
    "\n",
    "lab_events_sampled_sub.loc[(lab_events_sampled_sub['itemid'] == 51484) & (lab_events_sampled_sub['ref_range_upper'].isnull()), 'ref_range_upper'] = 0\n",
    "lab_events_sampled_sub.loc[(lab_events_sampled_sub['itemid'] == 51478) & (lab_events_sampled_sub['ref_range_upper'].isnull()), 'ref_range_upper'] = 0\n",
    "\n",
    "# What are good replacement values for these?\n",
    "lab_events_sampled_sub.loc[(lab_events_sampled_sub['itemid'] == 51484) & (lab_events_sampled_sub['value'].isin(['>80'])), ['value', 'valuenum']] = 120\n",
    "lab_events_sampled_sub.loc[(lab_events_sampled_sub['itemid'] == 51478) & (lab_events_sampled_sub['value'].isin(['>1000'])), ['value', 'valuenum']] = 1250\n",
    "\n",
    "lab_events_sampled_sub.loc[(lab_events_sampled_sub['itemid'] == 51498) & (lab_events_sampled_sub['value'].isin(['<1.005'])), ['value', 'valuenum']] = 1.000\n",
    "lab_events_sampled_sub.loc[(lab_events_sampled_sub['itemid'] == 51498) & (lab_events_sampled_sub['value'].isin(['<=1.005'])), ['value', 'valuenum']] = 1.000\n",
    "lab_events_sampled_sub.loc[(lab_events_sampled_sub['itemid'] == 51498) & (lab_events_sampled_sub['value'].isin(['>1.030', '.1.030'])), ['value', 'valuenum']] = 1.035\n",
    "lab_events_sampled_sub.loc[(lab_events_sampled_sub['itemid'] == 51498) & (lab_events_sampled_sub['value'].isin(['>1.035'])), ['value', 'valuenum']] = 1.040\n",
    "lab_events_sampled_sub.loc[(lab_events_sampled_sub['itemid'] == 51498) & (lab_events_sampled_sub['value'].isin(['>1.050'])), ['value', 'valuenum']] = 1.055\n",
    "lab_events_sampled_sub.loc[(lab_events_sampled_sub['itemid'] == 51498) & (lab_events_sampled_sub['comments'].isin(['>1.050*.'])), ['value', 'valuenum']] = 1.055\n",
    "lab_events_sampled_sub.loc[(lab_events_sampled_sub['itemid'] == 51498) & (lab_events_sampled_sub['value'].isin(['>=1.035'])), ['value', 'valuenum']] = 1.040\n",
    "lab_events_sampled_sub.loc[(lab_events_sampled_sub['itemid'] == 51498) & (lab_events_sampled_sub['value'].isin([' '])), ['value', 'valuenum']] = 1.015\n",
    "\n",
    "lab_events_sampled_sub.loc[(lab_events_sampled_sub['itemid'] == 51237) & (lab_events_sampled_sub['value'].isin(['>13.4'])), ['value', 'valuenum']] = 15\n",
    "\n",
    "lab_events_sampled_sub.loc[(lab_events_sampled_sub['itemid'] == 51491) & (lab_events_sampled_sub['value'].isin([' '])), ['value', 'valuenum']] = 6.0\n",
    "\n",
    "lab_events_sampled_sub.loc[(lab_events_sampled_sub['itemid'] == 51498) & (lab_events_sampled_sub['value'].isin(['>1.070'])), ['value', 'valuenum']] = 1.080\n",
    "\n",
    "lab_events_sampled_sub.loc[(lab_events_sampled_sub['itemid'] == 51275) & (lab_events_sampled_sub['value'].isin(['ERROR'])), ['value', 'valuenum']] = np.nan\n",
    "\n",
    "lab_events_sampled_sub.loc[(lab_events_sampled_sub['itemid'] == 51484) & (lab_events_sampled_sub['value'].astype(float) > 0), 'flag'] = 'abnormal'\n",
    "lab_events_sampled_sub.loc[(lab_events_sampled_sub['itemid'] == 51478) & (lab_events_sampled_sub['value'].astype(float) > 0), 'flag'] = 'abnormal'\n",
    "\n",
    "lab_events_sampled_sub.loc[(lab_events_sampled_sub['itemid'] == 51466) & (lab_events_sampled_sub['value'].astype(float) > 0), 'flag'] = 'abnormal'\n"
   ]
  },
  {
   "cell_type": "code",
   "execution_count": 20,
   "metadata": {},
   "outputs": [
    {
     "data": {
      "text/html": [
       "<div>\n",
       "<style scoped>\n",
       "    .dataframe tbody tr th:only-of-type {\n",
       "        vertical-align: middle;\n",
       "    }\n",
       "\n",
       "    .dataframe tbody tr th {\n",
       "        vertical-align: top;\n",
       "    }\n",
       "\n",
       "    .dataframe thead th {\n",
       "        text-align: right;\n",
       "    }\n",
       "</style>\n",
       "<table border=\"1\" class=\"dataframe\">\n",
       "  <thead>\n",
       "    <tr style=\"text-align: right;\">\n",
       "      <th></th>\n",
       "      <th>labevent_id</th>\n",
       "      <th>subject_id</th>\n",
       "      <th>hadm_id</th>\n",
       "      <th>specimen_id</th>\n",
       "      <th>itemid</th>\n",
       "      <th>charttime</th>\n",
       "      <th>storetime</th>\n",
       "      <th>value</th>\n",
       "      <th>valuenum</th>\n",
       "      <th>valueuom</th>\n",
       "      <th>ref_range_lower</th>\n",
       "      <th>ref_range_upper</th>\n",
       "      <th>flag</th>\n",
       "      <th>priority</th>\n",
       "      <th>comments</th>\n",
       "    </tr>\n",
       "  </thead>\n",
       "  <tbody>\n",
       "    <tr>\n",
       "      <th>67219781</th>\n",
       "      <td>77231095</td>\n",
       "      <td>16195081</td>\n",
       "      <td>21878501.0</td>\n",
       "      <td>38616318</td>\n",
       "      <td>51498</td>\n",
       "      <td>2119-04-06 01:08:00</td>\n",
       "      <td>2119-04-06 01:14:00</td>\n",
       "      <td>1.000</td>\n",
       "      <td>1.0</td>\n",
       "      <td></td>\n",
       "      <td>1.001</td>\n",
       "      <td>1.035</td>\n",
       "      <td>abnormal</td>\n",
       "      <td>STAT</td>\n",
       "      <td>NaN</td>\n",
       "    </tr>\n",
       "  </tbody>\n",
       "</table>\n",
       "</div>"
      ],
      "text/plain": [
       "          labevent_id  subject_id     hadm_id  specimen_id  itemid  \\\n",
       "67219781     77231095    16195081  21878501.0     38616318   51498   \n",
       "\n",
       "                    charttime            storetime  value  valuenum valueuom  \\\n",
       "67219781  2119-04-06 01:08:00  2119-04-06 01:14:00  1.000       1.0            \n",
       "\n",
       "          ref_range_lower  ref_range_upper      flag priority comments  \n",
       "67219781            1.001            1.035  abnormal     STAT      NaN  "
      ]
     },
     "execution_count": 20,
     "metadata": {},
     "output_type": "execute_result"
    }
   ],
   "source": [
    "# Check on differences between value and valuenum columns\n",
    "\n",
    "lab_events_sampled_sub.loc[((lab_events_sampled_sub['value'].astype(str) + str('.0')) != lab_events_sampled_sub['valuenum'].astype(str)) \n",
    "                           & ((lab_events_sampled_sub['value'].astype(str) + str('0')) != lab_events_sampled_sub['valuenum'].astype(str)) \n",
    "                           & ((lab_events_sampled_sub['value'].astype(str)) != lab_events_sampled_sub['valuenum'].astype(str)) \n",
    "                           & ((lab_events_sampled_sub['value'].astype(str)) != lab_events_sampled_sub['valuenum'].astype(str) + str('0')) \n",
    "                           & ((str('0') + lab_events_sampled_sub['value'].astype(str)) != lab_events_sampled_sub['valuenum'].astype(str))\n",
    "                           & ((lab_events_sampled_sub['value'].astype(str)) != round(lab_events_sampled_sub['valuenum'], 10).astype(str)), ]\n"
   ]
  },
  {
   "cell_type": "markdown",
   "metadata": {},
   "source": [
    "## Code to look into specific test values for cleaning"
   ]
  },
  {
   "cell_type": "code",
   "execution_count": 21,
   "metadata": {},
   "outputs": [],
   "source": [
    "# lab_events_sampled_sub[lab_events_sampled_sub['value'] == 'N']"
   ]
  },
  {
   "cell_type": "code",
   "execution_count": 22,
   "metadata": {},
   "outputs": [],
   "source": [
    "# # Used to investigate bad data\n",
    "# pd.set_option('display.max_rows', 200)\n",
    "\n",
    "# bad_id = 51486\n",
    "\n",
    "# # lab_events_sampled_sub[lab_events_sampled_sub['itemid'] == bad_id].value.value_counts().reset_index().sort_values(by = 'index')\n",
    "# # lab_events_sampled_sub[lab_events_sampled_sub['itemid'] == bad_id][['value', 'comments']].drop_duplicates()\n",
    "# lab_events_sampled_sub[lab_events_sampled_sub['itemid'] == bad_id][['flag', 'comments', 'value', 'valuenum', 'ref_range_lower', 'ref_range_upper']].drop_duplicates()\n",
    "# # lab_events_sampled_sub.loc[(lab_events_sampled_sub['itemid'] == bad_id) & (lab_events_sampled_sub['value'].isnull()), ][['value', 'valuenum', 'comments']].drop_duplicates()\n"
   ]
  },
  {
   "cell_type": "code",
   "execution_count": 23,
   "metadata": {},
   "outputs": [],
   "source": [
    "# pd.set_option('display.max_rows', 20)"
   ]
  },
  {
   "cell_type": "markdown",
   "metadata": {},
   "source": [
    "## Get Aggregate Test Values"
   ]
  },
  {
   "cell_type": "code",
   "execution_count": 24,
   "metadata": {},
   "outputs": [
    {
     "name": "stdout",
     "output_type": "stream",
     "text": [
      "CPU times: user 422 ms, sys: 66.9 ms, total: 489 ms\n",
      "Wall time: 491 ms\n"
     ]
    }
   ],
   "source": [
    "%time lab_events_sampled_sub_grouped = lab_events_sampled_sub.groupby(['subject_id', 'hadm_id', 'itemid']).agg({'itemid' : ['count'], 'valuenum' : ['min', 'max', 'mean'], 'flag' : ['count'], 'ref_range_lower' : ['min'], 'ref_range_upper' : ['min']})\n",
    "# 'comments' : ['unique'], \n"
   ]
  },
  {
   "cell_type": "code",
   "execution_count": 25,
   "metadata": {},
   "outputs": [],
   "source": [
    "lab_events_sampled_sub_grouped.reset_index(inplace = True)\n",
    "lab_events_sampled_sub_grouped.columns = ['subject_id', 'hadm_id', 'itemid', 'count', 'min', 'max', 'mean', 'abn_percent', 'range_min', 'range_max']\n",
    "# 'comments', \n"
   ]
  },
  {
   "cell_type": "code",
   "execution_count": 26,
   "metadata": {},
   "outputs": [
    {
     "data": {
      "text/plain": [
       "min     1925\n",
       "max     1925\n",
       "mean    1925\n",
       "dtype: int64"
      ]
     },
     "execution_count": 26,
     "metadata": {},
     "output_type": "execute_result"
    }
   ],
   "source": [
    "missing_vals = lab_events_sampled_sub_grouped.isnull().sum(axis = 0) \n",
    "missing_vals[missing_vals > 0].sort_values()"
   ]
  },
  {
   "cell_type": "code",
   "execution_count": 27,
   "metadata": {},
   "outputs": [
    {
     "data": {
      "text/plain": [
       "51003    1494\n",
       "50911     318\n",
       "51498      51\n",
       "50885      26\n",
       "51275      12\n",
       "50861      11\n",
       "51274      10\n",
       "51006       1\n",
       "51277       1\n",
       "51265       1\n",
       "Name: itemid, dtype: int64"
      ]
     },
     "execution_count": 27,
     "metadata": {},
     "output_type": "execute_result"
    }
   ],
   "source": [
    "lab_events_sampled_sub_grouped.loc[lab_events_sampled_sub_grouped['min'].isnull(), ].itemid.value_counts()\n",
    "\n",
    "# lab_events_sampled_sub_grouped.loc[(lab_events_sampled_sub_grouped['min'].isnull()) & (lab_events_sampled_sub_grouped['itemid'] == 51003), ]#.subject_id.nunique()\n",
    "# # lab_events_sampled_sub_grouped.subject_id.nunique()\n",
    "\n",
    "# lab_events_sampled_sub_grouped.loc[lab_events_sampled_sub_grouped['subject_id'] == 10002264, ]\n"
   ]
  },
  {
   "cell_type": "code",
   "execution_count": 28,
   "metadata": {},
   "outputs": [],
   "source": [
    "lab_events_sampled_sub_grouped['below_min'] = np.where(lab_events_sampled_sub_grouped['min'] < lab_events_sampled_sub_grouped['range_min'], lab_events_sampled_sub_grouped['range_min'] - lab_events_sampled_sub_grouped['min'], 0)\n",
    "lab_events_sampled_sub_grouped['above_max'] = np.where(lab_events_sampled_sub_grouped['max'] > lab_events_sampled_sub_grouped['range_max'], lab_events_sampled_sub_grouped['max'] - lab_events_sampled_sub_grouped['range_max'], 0)\n",
    "lab_events_sampled_sub_grouped['abn_percent'] = lab_events_sampled_sub_grouped['abn_percent'] / lab_events_sampled_sub_grouped['count']\n"
   ]
  },
  {
   "cell_type": "markdown",
   "metadata": {},
   "source": [
    "## Merge Admissions data so we can group by ethnicity/gender to grab average range min and max"
   ]
  },
  {
   "cell_type": "code",
   "execution_count": 29,
   "metadata": {},
   "outputs": [
    {
     "data": {
      "text/plain": [
       "{(50861, 'AMERICAN INDIAN/ALASKA NATIVE', 'F'): (0.0, 40.0),\n",
       " (50861, 'AMERICAN INDIAN/ALASKA NATIVE', 'M'): (0.0, 40.0),\n",
       " (50861, 'ASIAN', 'F'): (0.0, 40.0),\n",
       " (50861, 'ASIAN', 'M'): (0.0, 40.0),\n",
       " (50861, 'BLACK/AFRICAN AMERICAN', 'F'): (0.0, 40.0),\n",
       " (50861, 'BLACK/AFRICAN AMERICAN', 'M'): (0.0, 40.0),\n",
       " (50861, 'HISPANIC/LATINO', 'F'): (0.0, 40.0),\n",
       " (50861, 'HISPANIC/LATINO', 'M'): (0.0, 40.0),\n",
       " (50861, 'OTHER', 'F'): (0.0, 40.0),\n",
       " (50861, 'OTHER', 'M'): (0.0, 40.0),\n",
       " (50861, 'UNKNOWN', 'F'): (0.0, 40.0),\n",
       " (50861, 'UNKNOWN', 'M'): (0.0, 40.0),\n",
       " (50861, 'WHITE', 'F'): (0.0, 40.0),\n",
       " (50861, 'WHITE', 'M'): (0.0, 40.0),\n",
       " (50863, 'AMERICAN INDIAN/ALASKA NATIVE', 'F'): (35.8, 107.4),\n",
       " (50863, 'AMERICAN INDIAN/ALASKA NATIVE', 'M'): (40.0, 130.0),\n",
       " (50863, 'ASIAN', 'F'): (35.4, 106.2),\n",
       " (50863, 'ASIAN', 'M'): (39.80882352941177, 127.51470588235294),\n",
       " (50863, 'BLACK/AFRICAN AMERICAN', 'F'): (35.58426966292135,\n",
       "  106.75280898876404),\n",
       " (50863, 'BLACK/AFRICAN AMERICAN', 'M'): (39.82608695652174,\n",
       "  127.73913043478261),\n",
       " (50863, 'HISPANIC/LATINO', 'F'): (35.74074074074074, 107.22222222222223),\n",
       " (50863, 'HISPANIC/LATINO', 'M'): (39.80487804878049, 127.46341463414635),\n",
       " (50863, 'OTHER', 'F'): (35.65, 106.95),\n",
       " (50863, 'OTHER', 'M'): (39.88235294117647, 128.47058823529412),\n",
       " (50863, 'UNKNOWN', 'F'): (35.32835820895522, 105.98507462686567),\n",
       " (50863, 'UNKNOWN', 'M'): (39.925714285714285, 129.03428571428572),\n",
       " (50863, 'WHITE', 'F'): (35.774193548387096, 107.3225806451613),\n",
       " (50863, 'WHITE', 'M'): (39.8116169544741, 127.55102040816327),\n",
       " (50868, 'AMERICAN INDIAN/ALASKA NATIVE', 'F'): (8.6, 19.4),\n",
       " (50868, 'AMERICAN INDIAN/ALASKA NATIVE', 'M'): (8.5, 19.5),\n",
       " (50868, 'ASIAN', 'F'): (8.352941176470589, 19.58823529411765),\n",
       " (50868, 'ASIAN', 'M'): (8.439024390243903, 19.528455284552845),\n",
       " (50868, 'BLACK/AFRICAN AMERICAN', 'F'): (8.36036036036036, 19.55855855855856),\n",
       " (50868, 'BLACK/AFRICAN AMERICAN', 'M'): (8.349869451697128,\n",
       "  19.514360313315926),\n",
       " (50868, 'HISPANIC/LATINO', 'F'): (8.340909090909092, 19.613636363636363),\n",
       " (50868, 'HISPANIC/LATINO', 'M'): (8.331550802139038, 19.647058823529413),\n",
       " (50868, 'OTHER', 'F'): (8.414141414141413, 19.484848484848484),\n",
       " (50868, 'OTHER', 'M'): (8.288288288288289, 19.63963963963964),\n",
       " (50868, 'UNKNOWN', 'F'): (8.40552995391705, 19.52073732718894),\n",
       " (50868, 'UNKNOWN', 'M'): (8.519572953736654, 19.423487544483987),\n",
       " (50868, 'WHITE', 'F'): (8.352985074626865, 19.573880597014924),\n",
       " (50868, 'WHITE', 'M'): (8.332845647403072, 19.596927578639356),\n",
       " (50878, 'AMERICAN INDIAN/ALASKA NATIVE', 'F'): (0.0, 40.0),\n",
       " (50878, 'AMERICAN INDIAN/ALASKA NATIVE', 'M'): (0.0, 40.0),\n",
       " (50878, 'ASIAN', 'F'): (0.0, 40.0),\n",
       " (50878, 'ASIAN', 'M'): (0.0, 40.0),\n",
       " (50878, 'BLACK/AFRICAN AMERICAN', 'F'): (0.0, 40.0),\n",
       " (50878, 'BLACK/AFRICAN AMERICAN', 'M'): (0.0, 40.0),\n",
       " (50878, 'HISPANIC/LATINO', 'F'): (0.0, 40.0),\n",
       " (50878, 'HISPANIC/LATINO', 'M'): (0.0, 40.0),\n",
       " (50878, 'OTHER', 'F'): (0.0, 40.0),\n",
       " (50878, 'OTHER', 'M'): (0.0, 40.0),\n",
       " (50878, 'UNKNOWN', 'F'): (0.0, 40.0),\n",
       " (50878, 'UNKNOWN', 'M'): (0.0, 40.0),\n",
       " (50878, 'WHITE', 'F'): (0.0, 40.0),\n",
       " (50878, 'WHITE', 'M'): (0.0, 40.0),\n",
       " (50882, 'AMERICAN INDIAN/ALASKA NATIVE', 'F'): (22.0, 32.0),\n",
       " (50882, 'AMERICAN INDIAN/ALASKA NATIVE', 'M'): (22.0, 32.0),\n",
       " (50882, 'ASIAN', 'F'): (22.0, 32.0),\n",
       " (50882, 'ASIAN', 'M'): (22.0, 32.0),\n",
       " (50882, 'BLACK/AFRICAN AMERICAN', 'F'): (22.0, 32.0),\n",
       " (50882, 'BLACK/AFRICAN AMERICAN', 'M'): (22.0, 32.0),\n",
       " (50882, 'HISPANIC/LATINO', 'F'): (22.0, 32.0),\n",
       " (50882, 'HISPANIC/LATINO', 'M'): (22.0, 32.0),\n",
       " (50882, 'OTHER', 'F'): (22.0, 32.0),\n",
       " (50882, 'OTHER', 'M'): (22.0, 32.0),\n",
       " (50882, 'UNKNOWN', 'F'): (22.0, 32.0),\n",
       " (50882, 'UNKNOWN', 'M'): (22.0, 32.0),\n",
       " (50882, 'WHITE', 'F'): (22.0, 32.0),\n",
       " (50882, 'WHITE', 'M'): (22.0, 32.0),\n",
       " (50885, 'AMERICAN INDIAN/ALASKA NATIVE', 'F'): (0.0, 1.5),\n",
       " (50885, 'AMERICAN INDIAN/ALASKA NATIVE', 'M'): (0.0, 1.5),\n",
       " (50885, 'ASIAN', 'F'): (0.0, 1.5),\n",
       " (50885, 'ASIAN', 'M'): (0.0, 1.5),\n",
       " (50885, 'BLACK/AFRICAN AMERICAN', 'F'): (0.0, 1.5),\n",
       " (50885, 'BLACK/AFRICAN AMERICAN', 'M'): (0.0, 1.5),\n",
       " (50885, 'HISPANIC/LATINO', 'F'): (0.0, 1.5),\n",
       " (50885, 'HISPANIC/LATINO', 'M'): (0.0, 1.5),\n",
       " (50885, 'OTHER', 'F'): (0.0, 1.5),\n",
       " (50885, 'OTHER', 'M'): (0.0, 1.5),\n",
       " (50885, 'UNKNOWN', 'F'): (0.0, 1.5),\n",
       " (50885, 'UNKNOWN', 'M'): (0.0, 1.5),\n",
       " (50885, 'WHITE', 'F'): (0.0, 1.5),\n",
       " (50885, 'WHITE', 'M'): (0.0, 1.5),\n",
       " (50893, 'AMERICAN INDIAN/ALASKA NATIVE', 'F'): (8.400000000000002, 10.29),\n",
       " (50893, 'AMERICAN INDIAN/ALASKA NATIVE', 'M'): (8.4, 10.3),\n",
       " (50893, 'ASIAN', 'F'): (8.4033613445378, 10.28739495798318),\n",
       " (50893, 'ASIAN', 'M'): (8.399999999999984, 10.286238532110076),\n",
       " (50893, 'BLACK/AFRICAN AMERICAN', 'F'): (8.400000000000057,\n",
       "  10.284251968503986),\n",
       " (50893, 'BLACK/AFRICAN AMERICAN', 'M'): (8.400000000000052,\n",
       "  10.280480480480511),\n",
       " (50893, 'HISPANIC/LATINO', 'F'): (8.400000000000004, 10.278666666666652),\n",
       " (50893, 'HISPANIC/LATINO', 'M'): (8.400000000000006, 10.282236842105243),\n",
       " (50893, 'OTHER', 'F'): (8.400000000000015, 10.28596491228068),\n",
       " (50893, 'OTHER', 'M'): (8.40209424083772, 10.289528795811497),\n",
       " (50893, 'UNKNOWN', 'F'): (8.400000000000029, 10.292307692307675),\n",
       " (50893, 'UNKNOWN', 'M'): (8.400000000000043, 10.29259259259261),\n",
       " (50893, 'WHITE', 'F'): (8.40016659725121, 10.28017492711343),\n",
       " (50893, 'WHITE', 'M'): (8.400326797385713, 10.280310457516071),\n",
       " (50902, 'AMERICAN INDIAN/ALASKA NATIVE', 'F'): (96.0, 108.0),\n",
       " (50902, 'AMERICAN INDIAN/ALASKA NATIVE', 'M'): (96.0, 108.0),\n",
       " (50902, 'ASIAN', 'F'): (96.0, 108.0),\n",
       " (50902, 'ASIAN', 'M'): (96.0, 108.0),\n",
       " (50902, 'BLACK/AFRICAN AMERICAN', 'F'): (96.0, 108.0),\n",
       " (50902, 'BLACK/AFRICAN AMERICAN', 'M'): (96.0, 108.0),\n",
       " (50902, 'HISPANIC/LATINO', 'F'): (96.0, 108.0),\n",
       " (50902, 'HISPANIC/LATINO', 'M'): (96.0, 108.0),\n",
       " (50902, 'OTHER', 'F'): (96.0, 108.0),\n",
       " (50902, 'OTHER', 'M'): (96.0, 108.0),\n",
       " (50902, 'UNKNOWN', 'F'): (96.0, 108.0),\n",
       " (50902, 'UNKNOWN', 'M'): (96.0, 108.0),\n",
       " (50902, 'WHITE', 'F'): (96.0, 108.0),\n",
       " (50902, 'WHITE', 'M'): (96.0, 108.0),\n",
       " (50911, 'AMERICAN INDIAN/ALASKA NATIVE', 'F'): (0.0, 10.0),\n",
       " (50911, 'ASIAN', 'F'): (0.0, 10.0),\n",
       " (50911, 'ASIAN', 'M'): (0.0, 10.0),\n",
       " (50911, 'BLACK/AFRICAN AMERICAN', 'F'): (0.0, 10.0),\n",
       " (50911, 'BLACK/AFRICAN AMERICAN', 'M'): (0.0, 10.0),\n",
       " (50911, 'HISPANIC/LATINO', 'F'): (0.0, 10.0),\n",
       " (50911, 'HISPANIC/LATINO', 'M'): (0.0, 10.0),\n",
       " (50911, 'OTHER', 'F'): (0.0, 10.0),\n",
       " (50911, 'OTHER', 'M'): (0.0, 10.0),\n",
       " (50911, 'UNKNOWN', 'F'): (0.0, 10.0),\n",
       " (50911, 'UNKNOWN', 'M'): (0.0, 10.0),\n",
       " (50911, 'WHITE', 'F'): (0.0, 10.0),\n",
       " (50911, 'WHITE', 'M'): (0.0, 10.0),\n",
       " (50912, 'AMERICAN INDIAN/ALASKA NATIVE', 'F'): (0.39999999999999997,\n",
       "  1.0999999999999999),\n",
       " (50912, 'AMERICAN INDIAN/ALASKA NATIVE', 'M'): (0.5, 1.2),\n",
       " (50912, 'ASIAN', 'F'): (0.399999999999999, 1.0999999999999972),\n",
       " (50912, 'ASIAN', 'M'): (0.5, 1.2),\n",
       " (50912, 'BLACK/AFRICAN AMERICAN', 'F'): (0.4000000000000034,\n",
       "  1.1000000000000094),\n",
       " (50912, 'BLACK/AFRICAN AMERICAN', 'M'): (0.5, 1.1999999999999924),\n",
       " (50912, 'HISPANIC/LATINO', 'F'): (0.39999999999999974, 1.0999999999999965),\n",
       " (50912, 'HISPANIC/LATINO', 'M'): (0.5, 1.1999999999999962),\n",
       " (50912, 'OTHER', 'F'): (0.40000000000000036, 1.0999999999999963),\n",
       " (50912, 'OTHER', 'M'): (0.5, 1.1999999999999948),\n",
       " (50912, 'UNKNOWN', 'F'): (0.4000000000000008, 1.099999999999996),\n",
       " (50912, 'UNKNOWN', 'M'): (0.5, 1.1999999999999937),\n",
       " (50912, 'WHITE', 'F'): (0.3999999999999918, 1.099999999999945),\n",
       " (50912, 'WHITE', 'M'): (0.4999641062455133, 1.1999641062454625),\n",
       " (50931, 'AMERICAN INDIAN/ALASKA NATIVE', 'F'): (70.0, 100.5),\n",
       " (50931, 'AMERICAN INDIAN/ALASKA NATIVE', 'M'): (70.0, 100.0),\n",
       " (50931, 'ASIAN', 'F'): (69.92647058823529, 100.7720588235294),\n",
       " (50931, 'ASIAN', 'M'): (70.0, 100.77235772357723),\n",
       " (50931, 'BLACK/AFRICAN AMERICAN', 'F'): (70.0, 100.88169642857143),\n",
       " (50931, 'BLACK/AFRICAN AMERICAN', 'M'): (70.0, 101.0443864229765),\n",
       " (50931, 'HISPANIC/LATINO', 'F'): (69.94252873563218, 101.0632183908046),\n",
       " (50931, 'HISPANIC/LATINO', 'M'): (69.94594594594595, 100.97297297297297),\n",
       " (50931, 'OTHER', 'F'): (70.0, 100.68181818181819),\n",
       " (50931, 'OTHER', 'M'): (69.95475113122171, 100.76923076923077),\n",
       " (50931, 'UNKNOWN', 'F'): (70.0, 100.4147465437788),\n",
       " (50931, 'UNKNOWN', 'M'): (70.0, 100.37366548042705),\n",
       " (50931, 'WHITE', 'F'): (69.9925456578457, 101.05665300037272),\n",
       " (50931, 'WHITE', 'M'): (69.99633162142334, 101.06199559794571),\n",
       " (50960, 'AMERICAN INDIAN/ALASKA NATIVE', 'F'): (1.5999999999999999,\n",
       "  2.6000000000000005),\n",
       " (50960, 'AMERICAN INDIAN/ALASKA NATIVE', 'M'): (1.6, 2.6),\n",
       " (50960, 'ASIAN', 'F'): (1.5983050847457594, 2.593220338983051),\n",
       " (50960, 'ASIAN', 'M'): (1.5973684210526282, 2.589473684210526),\n",
       " (50960, 'BLACK/AFRICAN AMERICAN', 'F'): (1.5984455958549335,\n",
       "  2.593782383419705),\n",
       " (50960, 'BLACK/AFRICAN AMERICAN', 'M'): (1.5988023952095907,\n",
       "  2.5952095808383384),\n",
       " (50960, 'HISPANIC/LATINO', 'F'): (1.598684210526312, 2.5947368421052683),\n",
       " (50960, 'HISPANIC/LATINO', 'M'): (1.5987096774193508, 2.5948387096774246),\n",
       " (50960, 'OTHER', 'F'): (1.59942528735632, 2.597701149425295),\n",
       " (50960, 'OTHER', 'M'): (1.5990099009901004, 2.5960396039604055),\n",
       " (50960, 'UNKNOWN', 'F'): (1.5995169082125624, 2.598067632850251),\n",
       " (50960, 'UNKNOWN', 'M'): (1.5992700729927078, 2.597080291970816),\n",
       " (50960, 'WHITE', 'F'): (1.5991361579596253, 2.5965446318388343),\n",
       " (50960, 'WHITE', 'M'): (1.599289099526003, 2.5971563981043615),\n",
       " (50970, 'AMERICAN INDIAN/ALASKA NATIVE', 'F'): (2.6999999999999997, 4.5),\n",
       " (50970, 'AMERICAN INDIAN/ALASKA NATIVE', 'M'): (2.7, 4.5),\n",
       " (50970, 'ASIAN', 'F'): (2.699999999999994, 4.5),\n",
       " (50970, 'ASIAN', 'M'): (2.6999999999999944, 4.5),\n",
       " (50970, 'BLACK/AFRICAN AMERICAN', 'F'): (2.7000000000000184, 4.5),\n",
       " (50970, 'BLACK/AFRICAN AMERICAN', 'M'): (2.700000000000015, 4.5),\n",
       " (50970, 'HISPANIC/LATINO', 'F'): (2.699999999999993, 4.5),\n",
       " (50970, 'HISPANIC/LATINO', 'M'): (2.6999999999999926, 4.5),\n",
       " (50970, 'OTHER', 'F'): (2.699999999999992, 4.5),\n",
       " (50970, 'OTHER', 'M'): (2.6999999999999917, 4.5),\n",
       " (50970, 'UNKNOWN', 'F'): (2.6999999999999966, 4.5),\n",
       " (50970, 'UNKNOWN', 'M'): (2.7000000000000077, 4.5),\n",
       " (50970, 'WHITE', 'F'): (2.6999999999998865, 4.5),\n",
       " (50970, 'WHITE', 'M'): (2.699999999999885, 4.5),\n",
       " (50971, 'AMERICAN INDIAN/ALASKA NATIVE', 'F'): (3.34, 5.16),\n",
       " (50971, 'AMERICAN INDIAN/ALASKA NATIVE', 'M'): (3.3, 5.1),\n",
       " (50971, 'ASIAN', 'F'): (3.3294117647058887, 5.144117647058833),\n",
       " (50971, 'ASIAN', 'M'): (3.331746031746038, 5.147619047619056),\n",
       " (50971, 'BLACK/AFRICAN AMERICAN', 'F'): (3.3290178571428335,\n",
       "  5.143526785714253),\n",
       " (50971, 'BLACK/AFRICAN AMERICAN', 'M'): (3.329242819843321,\n",
       "  5.143864229764988),\n",
       " (50971, 'HISPANIC/LATINO', 'F'): (3.3284090909090924, 5.142613636363648),\n",
       " (50971, 'HISPANIC/LATINO', 'M'): (3.3245989304812817, 5.1368983957219365),\n",
       " (50971, 'OTHER', 'F'): (3.332160804020097, 5.148241206030162),\n",
       " (50971, 'OTHER', 'M'): (3.323893805309726, 5.135840707964604),\n",
       " (50971, 'UNKNOWN', 'F'): (3.333027522935774, 5.149541284403678),\n",
       " (50971, 'UNKNOWN', 'M'): (3.340569395017781, 5.160854092526684),\n",
       " (50971, 'WHITE', 'F'): (3.3274466519500048, 5.141169977925111),\n",
       " (50971, 'WHITE', 'M'): (3.3263214670981944, 5.139482200647429),\n",
       " (50983, 'AMERICAN INDIAN/ALASKA NATIVE', 'F'): (133.6, 145.6),\n",
       " (50983, 'AMERICAN INDIAN/ALASKA NATIVE', 'M'): (133.5, 145.5),\n",
       " (50983, 'ASIAN', 'F'): (133.35294117647058, 145.35294117647058),\n",
       " (50983, 'ASIAN', 'M'): (133.432, 145.432),\n",
       " (50983, 'BLACK/AFRICAN AMERICAN', 'F'): (133.3579418344519,\n",
       "  145.3579418344519),\n",
       " (50983, 'BLACK/AFRICAN AMERICAN', 'M'): (133.34986945169712,\n",
       "  145.34986945169712),\n",
       " (50983, 'HISPANIC/LATINO', 'F'): (133.3409090909091, 145.3409090909091),\n",
       " (50983, 'HISPANIC/LATINO', 'M'): (133.33155080213905, 145.33155080213905),\n",
       " (50983, 'OTHER', 'F'): (133.41206030150755, 145.41206030150755),\n",
       " (50983, 'OTHER', 'M'): (133.28444444444443, 145.28444444444443),\n",
       " (50983, 'UNKNOWN', 'F'): (133.40552995391704, 145.40552995391704),\n",
       " (50983, 'UNKNOWN', 'M'): (133.51957295373666, 145.51957295373666),\n",
       " (50983, 'WHITE', 'F'): (133.35111111111112, 145.35111111111112),\n",
       " (50983, 'WHITE', 'M'): (133.33055454874955, 145.33055454874955),\n",
       " (51003, 'AMERICAN INDIAN/ALASKA NATIVE', 'F'): (0.0, 0.01),\n",
       " (51003, 'ASIAN', 'F'): (0.0, 0.010000000000000004),\n",
       " (51003, 'ASIAN', 'M'): (0.0, 0.010000000000000005),\n",
       " (51003, 'BLACK/AFRICAN AMERICAN', 'F'): (0.0, 0.010000000000000007),\n",
       " (51003, 'BLACK/AFRICAN AMERICAN', 'M'): (0.0, 0.010000000000000007),\n",
       " (51003, 'HISPANIC/LATINO', 'F'): (0.0, 0.010000000000000005),\n",
       " (51003, 'HISPANIC/LATINO', 'M'): (0.0, 0.010000000000000005),\n",
       " (51003, 'OTHER', 'F'): (0.0, 0.010000000000000005),\n",
       " (51003, 'OTHER', 'M'): (0.0, 0.010000000000000005),\n",
       " (51003, 'UNKNOWN', 'F'): (0.0, 0.010000000000000007),\n",
       " (51003, 'UNKNOWN', 'M'): (0.0, 0.010000000000000007),\n",
       " (51003, 'WHITE', 'F'): (0.0, 0.009999999999999842),\n",
       " (51003, 'WHITE', 'M'): (0.0, 0.009999999999999835),\n",
       " (51006, 'AMERICAN INDIAN/ALASKA NATIVE', 'F'): (6.0, 20.0),\n",
       " (51006, 'AMERICAN INDIAN/ALASKA NATIVE', 'M'): (6.0, 20.0),\n",
       " (51006, 'ASIAN', 'F'): (6.0, 20.0),\n",
       " (51006, 'ASIAN', 'M'): (6.0, 20.0),\n",
       " (51006, 'BLACK/AFRICAN AMERICAN', 'F'): (6.0, 20.0),\n",
       " (51006, 'BLACK/AFRICAN AMERICAN', 'M'): (6.0, 20.0),\n",
       " (51006, 'HISPANIC/LATINO', 'F'): (6.0, 20.0),\n",
       " (51006, 'HISPANIC/LATINO', 'M'): (6.0, 20.0),\n",
       " (51006, 'OTHER', 'F'): (6.0, 20.0),\n",
       " (51006, 'OTHER', 'M'): (6.0, 20.0),\n",
       " (51006, 'UNKNOWN', 'F'): (6.0, 20.0),\n",
       " (51006, 'UNKNOWN', 'M'): (6.0, 20.0),\n",
       " (51006, 'WHITE', 'F'): (6.0, 20.0),\n",
       " (51006, 'WHITE', 'M'): (6.0, 20.0),\n",
       " (51221, 'AMERICAN INDIAN/ALASKA NATIVE', 'F'): (35.23076923076923,\n",
       "  46.84615384615385),\n",
       " (51221, 'AMERICAN INDIAN/ALASKA NATIVE', 'M'): (40.0, 51.4),\n",
       " (51221, 'ASIAN', 'F'): (35.29608938547486, 46.944134078212294),\n",
       " (51221, 'ASIAN', 'M'): (40.0, 51.56),\n",
       " (51221, 'BLACK/AFRICAN AMERICAN', 'F'): (35.332179930795846,\n",
       "  46.99826989619377),\n",
       " (51221, 'BLACK/AFRICAN AMERICAN', 'M'): (40.0, 51.677083333333336),\n",
       " (51221, 'HISPANIC/LATINO', 'F'): (35.40092165898618, 47.10138248847926),\n",
       " (51221, 'HISPANIC/LATINO', 'M'): (40.0, 51.68648648648649),\n",
       " (51221, 'OTHER', 'F'): (35.33609958506224, 47.004149377593365),\n",
       " (51221, 'OTHER', 'M'): (40.0, 51.663716814159294),\n",
       " (51221, 'UNKNOWN', 'F'): (35.059322033898304, 46.58898305084746),\n",
       " (51221, 'UNKNOWN', 'M'): (40.0, 51.46503496503497),\n",
       " (51221, 'WHITE', 'F'): (35.30094466936572, 46.95141700404859),\n",
       " (51221, 'WHITE', 'M'): (39.998568360773085, 51.656764495347176),\n",
       " (51222, 'AMERICAN INDIAN/ALASKA NATIVE', 'F'): (11.666666666666666, 15.875),\n",
       " (51222, 'AMERICAN INDIAN/ALASKA NATIVE', 'M'): (13.819999999999999, 17.7),\n",
       " (51222, 'ASIAN', 'F'): (11.709090909090921, 15.89090909090909),\n",
       " (51222, 'ASIAN', 'M'): (13.868595041322326, 17.78099173553719),\n",
       " (51222, 'BLACK/AFRICAN AMERICAN', 'F'): (11.72161172161168,\n",
       "  15.89560439560437),\n",
       " (51222, 'BLACK/AFRICAN AMERICAN', 'M'): (13.903124999999973,\n",
       "  17.838541666666668),\n",
       " (51222, 'HISPANIC/LATINO', 'F'): (11.757213930348257, 15.908955223880582),\n",
       " (51222, 'HISPANIC/LATINO', 'M'): (13.905434782608692, 17.842391304347824),\n",
       " (51222, 'OTHER', 'F'): (11.733333333333324, 15.899999999999979),\n",
       " (51222, 'OTHER', 'M'): (13.896832579185512, 17.828054298642535),\n",
       " (51222, 'UNKNOWN', 'F'): (11.61739130434781, 15.8565217391304),\n",
       " (51222, 'UNKNOWN', 'M'): (13.838947368421016, 17.731578947368423),\n",
       " (51222, 'WHITE', 'F'): (11.717728055077586, 15.894148020653867),\n",
       " (51222, 'WHITE', 'M'): (13.89514598540147, 17.8257299270073),\n",
       " (51237, 'AMERICAN INDIAN/ALASKA NATIVE', 'F'): (0.9000000000000001,\n",
       "  1.0999999999999999),\n",
       " (51237, 'AMERICAN INDIAN/ALASKA NATIVE', 'M'): (0.9, 1.1),\n",
       " (51237, 'ASIAN', 'F'): (0.9000000000000008, 1.099999999999998),\n",
       " (51237, 'ASIAN', 'M'): (0.8999999999999996, 1.0999999999999992),\n",
       " (51237, 'BLACK/AFRICAN AMERICAN', 'F'): (0.9000000000000038,\n",
       "  1.0999999999999985),\n",
       " (51237, 'BLACK/AFRICAN AMERICAN', 'M'): (0.9000000000000037,\n",
       "  1.099999999999997),\n",
       " (51237, 'HISPANIC/LATINO', 'F'): (0.9000000000000012, 1.0999999999999979),\n",
       " (51237, 'HISPANIC/LATINO', 'M'): (0.9000000000000017, 1.0999999999999976),\n",
       " (51237, 'OTHER', 'F'): (0.9000000000000018, 1.0999999999999976),\n",
       " (51237, 'OTHER', 'M'): (0.9000000000000024, 1.099999999999997),\n",
       " (51237, 'UNKNOWN', 'F'): (0.9000000000000031, 1.0999999999999963),\n",
       " (51237, 'UNKNOWN', 'M'): (0.9000000000000037, 1.0999999999999972),\n",
       " (51237, 'WHITE', 'F'): (0.9000000000000219, 1.0999999999999657),\n",
       " (51237, 'WHITE', 'M'): (0.9000000000000294, 1.0999999999999595),\n",
       " (51248, 'AMERICAN INDIAN/ALASKA NATIVE', 'F'): (26.583333333333332, 32.0),\n",
       " (51248, 'AMERICAN INDIAN/ALASKA NATIVE', 'M'): (26.4, 32.0),\n",
       " (51248, 'ASIAN', 'F'): (26.636363636363637, 32.0),\n",
       " (51248, 'ASIAN', 'M'): (26.56198347107438, 32.0),\n",
       " (51248, 'BLACK/AFRICAN AMERICAN', 'F'): (26.652014652014653, 32.0),\n",
       " (51248, 'BLACK/AFRICAN AMERICAN', 'M'): (26.677083333333332, 32.0),\n",
       " (51248, 'HISPANIC/LATINO', 'F'): (26.696517412935325, 32.0),\n",
       " (51248, 'HISPANIC/LATINO', 'M'): (26.684782608695652, 32.0),\n",
       " (51248, 'OTHER', 'F'): (26.66949152542373, 32.0),\n",
       " (51248, 'OTHER', 'M'): (26.65610859728507, 32.0),\n",
       " (51248, 'UNKNOWN', 'F'): (26.52173913043478, 32.0),\n",
       " (51248, 'UNKNOWN', 'M'): (26.461267605633804, 32.0),\n",
       " (51248, 'WHITE', 'F'): (26.64760592490527, 32.0),\n",
       " (51248, 'WHITE', 'M'): (26.652904640116915, 32.0),\n",
       " (51249, 'AMERICAN INDIAN/ALASKA NATIVE', 'F'): (31.416666666666668,\n",
       "  35.833333333333336),\n",
       " (51249, 'AMERICAN INDIAN/ALASKA NATIVE', 'M'): (31.6, 36.2),\n",
       " (51249, 'ASIAN', 'F'): (31.35757575757576, 35.71515151515152),\n",
       " (51249, 'ASIAN', 'M'): (31.43801652892562, 35.87603305785124),\n",
       " (51249, 'BLACK/AFRICAN AMERICAN', 'F'): (31.347985347985347,\n",
       "  35.69597069597069),\n",
       " (51249, 'BLACK/AFRICAN AMERICAN', 'M'): (31.322916666666668,\n",
       "  35.645833333333336),\n",
       " (51249, 'HISPANIC/LATINO', 'F'): (31.303482587064675, 35.60696517412935),\n",
       " (51249, 'HISPANIC/LATINO', 'M'): (31.315217391304348, 35.630434782608695),\n",
       " (51249, 'OTHER', 'F'): (31.33050847457627, 35.66101694915254),\n",
       " (51249, 'OTHER', 'M'): (31.34389140271493, 35.68778280542986),\n",
       " (51249, 'UNKNOWN', 'F'): (31.469565217391306, 35.93913043478261),\n",
       " (51249, 'UNKNOWN', 'M'): (31.535211267605632, 36.070422535211264),\n",
       " (51249, 'WHITE', 'F'): (31.35032724767482, 35.70065449534964),\n",
       " (51249, 'WHITE', 'M'): (31.345268542199488, 35.690537084398976),\n",
       " (51250, 'AMERICAN INDIAN/ALASKA NATIVE', 'F'): (82.0, 98.0),\n",
       " (51250, 'AMERICAN INDIAN/ALASKA NATIVE', 'M'): (82.0, 98.0),\n",
       " (51250, 'ASIAN', 'F'): (82.0, 98.0),\n",
       " (51250, 'ASIAN', 'M'): (82.0, 98.0),\n",
       " (51250, 'BLACK/AFRICAN AMERICAN', 'F'): (82.0, 98.0),\n",
       " (51250, 'BLACK/AFRICAN AMERICAN', 'M'): (82.0, 98.0),\n",
       " (51250, 'HISPANIC/LATINO', 'F'): (82.0, 98.0),\n",
       " (51250, 'HISPANIC/LATINO', 'M'): (82.0, 98.0),\n",
       " (51250, 'OTHER', 'F'): (82.0, 98.0),\n",
       " (51250, 'OTHER', 'M'): (82.0, 98.0),\n",
       " (51250, 'UNKNOWN', 'F'): (82.0, 98.0),\n",
       " (51250, 'UNKNOWN', 'M'): (82.0, 98.0),\n",
       " (51250, 'WHITE', 'F'): (82.0, 98.0),\n",
       " (51250, 'WHITE', 'M'): (82.0, 98.0),\n",
       " (51265, 'AMERICAN INDIAN/ALASKA NATIVE', 'F'): (150.0, 423.3333333333333),\n",
       " (51265, 'AMERICAN INDIAN/ALASKA NATIVE', 'M'): (150.0, 416.0),\n",
       " (51265, 'ASIAN', 'F'): (150.0, 425.45454545454544),\n",
       " (51265, 'ASIAN', 'M'): (150.0, 422.4390243902439),\n",
       " (51265, 'BLACK/AFRICAN AMERICAN', 'F'): (150.0, 426.13138686131384),\n",
       " (51265, 'BLACK/AFRICAN AMERICAN', 'M'): (150.0, 427.0833333333333),\n",
       " (51265, 'HISPANIC/LATINO', 'F'): (150.0, 427.8606965174129),\n",
       " (51265, 'HISPANIC/LATINO', 'M'): (150.0, 427.39130434782606),\n",
       " (51265, 'OTHER', 'F'): (150.0, 426.77966101694915),\n",
       " (51265, 'OTHER', 'M'): (150.0, 426.42857142857144),\n",
       " (51265, 'UNKNOWN', 'F'): (150.0, 420.95238095238096),\n",
       " (51265, 'UNKNOWN', 'M'): (150.0, 418.4507042253521),\n",
       " (51265, 'WHITE', 'F'): (150.0, 425.94594594594594),\n",
       " (51265, 'WHITE', 'M'): (150.0, 426.3017644940583),\n",
       " (51274, 'AMERICAN INDIAN/ALASKA NATIVE', 'F'): (9.685714285714285,\n",
       "  12.757142857142858),\n",
       " (51274, 'AMERICAN INDIAN/ALASKA NATIVE', 'M'): (9.4, 12.5),\n",
       " (51274, 'ASIAN', 'F'): (9.763636363636348, 12.827272727272728),\n",
       " (51274, 'ASIAN', 'M'): (9.716455696202518, 12.784810126582272),\n",
       " (51274, 'BLACK/AFRICAN AMERICAN', 'F'): (9.764705882352988,\n",
       "  12.828235294117668),\n",
       " (51274, 'BLACK/AFRICAN AMERICAN', 'M'): (9.733333333333377,\n",
       "  12.800000000000018),\n",
       " (51274, 'HISPANIC/LATINO', 'F'): (9.79090909090908, 12.851818181818189),\n",
       " (51274, 'HISPANIC/LATINO', 'M'): (9.730578512396692, 12.797520661157032),\n",
       " (51274, 'OTHER', 'F'): (9.668292682926827, 12.741463414634154),\n",
       " (51274, 'OTHER', 'M'): (9.629166666666679, 12.706250000000011),\n",
       " (51274, 'UNKNOWN', 'F'): (9.585185185185216, 12.666666666666677),\n",
       " (51274, 'UNKNOWN', 'M'): (9.589300411522675, 12.670370370370382),\n",
       " (51274, 'WHITE', 'F'): (9.766269165246843, 12.829642248722383),\n",
       " (51274, 'WHITE', 'M'): (9.770951417004051, 12.833856275303782),\n",
       " (51275, 'AMERICAN INDIAN/ALASKA NATIVE', 'F'): (24.142857142857142,\n",
       "  36.07142857142857),\n",
       " (51275, 'AMERICAN INDIAN/ALASKA NATIVE', 'M'): (25.0, 36.5),\n",
       " (51275, 'ASIAN', 'F'): (23.894736842105264, 35.94736842105263),\n",
       " (51275, 'ASIAN', 'M'): (24.05263157894737, 36.026315789473685),\n",
       " (51275, 'BLACK/AFRICAN AMERICAN', 'F'): (23.90573770491803,\n",
       "  35.95286885245902),\n",
       " (51275, 'BLACK/AFRICAN AMERICAN', 'M'): (23.99137931034483,\n",
       "  35.99568965517241),\n",
       " (51275, 'HISPANIC/LATINO', 'F'): (23.81081081081081, 35.9054054054054),\n",
       " (51275, 'HISPANIC/LATINO', 'M'): (23.991596638655462, 35.99579831932773),\n",
       " (51275, 'OTHER', 'F'): (24.188524590163933, 36.09426229508197),\n",
       " (51275, 'OTHER', 'M'): (24.307692307692307, 36.15384615384615),\n",
       " (51275, 'UNKNOWN', 'F'): (24.444444444444443, 36.22222222222222),\n",
       " (51275, 'UNKNOWN', 'M'): (24.435146443514643, 36.21757322175732),\n",
       " (51275, 'WHITE', 'F'): (23.89917936694021, 35.94958968347011),\n",
       " (51275, 'WHITE', 'M'): (23.885400313971743, 35.94270015698587),\n",
       " (51277, 'AMERICAN INDIAN/ALASKA NATIVE', 'F'): (10.5, 15.5),\n",
       " (51277, 'AMERICAN INDIAN/ALASKA NATIVE', 'M'): (10.5, 15.5),\n",
       " (51277, 'ASIAN', 'F'): (10.5, 15.5),\n",
       " (51277, 'ASIAN', 'M'): (10.5, 15.5),\n",
       " (51277, 'BLACK/AFRICAN AMERICAN', 'F'): (10.5, 15.5),\n",
       " (51277, 'BLACK/AFRICAN AMERICAN', 'M'): (10.5, 15.5),\n",
       " (51277, 'HISPANIC/LATINO', 'F'): (10.5, 15.5),\n",
       " (51277, 'HISPANIC/LATINO', 'M'): (10.5, 15.5),\n",
       " (51277, 'OTHER', 'F'): (10.5, 15.5),\n",
       " (51277, 'OTHER', 'M'): (10.5, 15.5),\n",
       " (51277, 'UNKNOWN', 'F'): (10.5, 15.5),\n",
       " (51277, 'UNKNOWN', 'M'): (10.5, 15.5),\n",
       " (51277, 'WHITE', 'F'): (10.5, 15.5),\n",
       " (51277, 'WHITE', 'M'): (10.5, 15.5),\n",
       " (51279, 'AMERICAN INDIAN/ALASKA NATIVE', 'F'): (4.075, 5.316666666666666),\n",
       " (51279, 'AMERICAN INDIAN/ALASKA NATIVE', 'M'): (4.6, 6.139999999999999),\n",
       " (51279, 'ASIAN', 'F'): (4.090909090909089, 5.327272727272724),\n",
       " (51279, 'ASIAN', 'M'): (4.60000000000001, 6.156198347107448),\n",
       " (51279, 'BLACK/AFRICAN AMERICAN', 'F'): (4.09560439560442, 5.330402930402953),\n",
       " (51279, 'BLACK/AFRICAN AMERICAN', 'M'): (4.599999999999971, 6.16770833333332),\n",
       " (51279, 'HISPANIC/LATINO', 'F'): (4.108955223880601, 5.339303482587064),\n",
       " (51279, 'HISPANIC/LATINO', 'M'): (4.600000000000015, 6.168478260869581),\n",
       " (51279, 'OTHER', 'F'): (4.100847457627125, 5.333898305084755),\n",
       " (51279, 'OTHER', 'M'): (4.600000000000016, 6.165610859728524),\n",
       " (51279, 'UNKNOWN', 'F'): (4.056521739130435, 5.304347826086965),\n",
       " (51279, 'UNKNOWN', 'M'): (4.599999999999993, 6.146126760563379),\n",
       " (51279, 'WHITE', 'F'): (4.0942817774715925, 5.329521184980989),\n",
       " (51279, 'WHITE', 'M'): (4.599853854585537, 6.16499817318259),\n",
       " (51301, 'AMERICAN INDIAN/ALASKA NATIVE', 'F'): (4.0, 10.583333333333334),\n",
       " (51301, 'AMERICAN INDIAN/ALASKA NATIVE', 'M'): (4.0, 10.4),\n",
       " (51301, 'ASIAN', 'F'): (4.0, 10.636363636363637),\n",
       " (51301, 'ASIAN', 'M'): (4.0, 10.561983471074381),\n",
       " (51301, 'BLACK/AFRICAN AMERICAN', 'F'): (4.0, 10.652014652014651),\n",
       " (51301, 'BLACK/AFRICAN AMERICAN', 'M'): (4.0, 10.677083333333334),\n",
       " (51301, 'HISPANIC/LATINO', 'F'): (4.0, 10.696517412935323),\n",
       " (51301, 'HISPANIC/LATINO', 'M'): (4.0, 10.684782608695652),\n",
       " (51301, 'OTHER', 'F'): (4.0, 10.669491525423728),\n",
       " (51301, 'OTHER', 'M'): (4.0, 10.656108597285067),\n",
       " (51301, 'UNKNOWN', 'F'): (4.0, 10.521739130434783),\n",
       " (51301, 'UNKNOWN', 'M'): (4.0, 10.461267605633802),\n",
       " (51301, 'WHITE', 'F'): (4.0, 10.647727272727273),\n",
       " (51301, 'WHITE', 'M'): (4.0, 10.653537563822027),\n",
       " (51464, 'AMERICAN INDIAN/ALASKA NATIVE', 'F'): (0.0, 0.0),\n",
       " (51464, 'AMERICAN INDIAN/ALASKA NATIVE', 'M'): (0.0, 0.0),\n",
       " (51464, 'ASIAN', 'F'): (0.0, 0.0),\n",
       " (51464, 'ASIAN', 'M'): (0.0, 0.0),\n",
       " (51464, 'BLACK/AFRICAN AMERICAN', 'F'): (0.0, 0.0),\n",
       " (51464, 'BLACK/AFRICAN AMERICAN', 'M'): (0.0, 0.0),\n",
       " (51464, 'HISPANIC/LATINO', 'F'): (0.0, 0.0),\n",
       " (51464, 'HISPANIC/LATINO', 'M'): (0.0, 0.0),\n",
       " (51464, 'OTHER', 'F'): (0.0, 0.0),\n",
       " (51464, 'OTHER', 'M'): (0.0, 0.0),\n",
       " (51464, 'UNKNOWN', 'F'): (0.0, 0.0),\n",
       " (51464, 'UNKNOWN', 'M'): (0.0, 0.0),\n",
       " (51464, 'WHITE', 'F'): (0.0, 0.0),\n",
       " (51464, 'WHITE', 'M'): (0.0, 0.0),\n",
       " (51466, 'AMERICAN INDIAN/ALASKA NATIVE', 'F'): (0.0, 0.0),\n",
       " (51466, 'AMERICAN INDIAN/ALASKA NATIVE', 'M'): (0.0, 0.0),\n",
       " (51466, 'ASIAN', 'F'): (0.0, 0.0),\n",
       " (51466, 'ASIAN', 'M'): (0.0, 0.0),\n",
       " (51466, 'BLACK/AFRICAN AMERICAN', 'F'): (0.0, 0.0),\n",
       " (51466, 'BLACK/AFRICAN AMERICAN', 'M'): (0.0, 0.0),\n",
       " (51466, 'HISPANIC/LATINO', 'F'): (0.0, 0.0),\n",
       " (51466, 'HISPANIC/LATINO', 'M'): (0.0, 0.0),\n",
       " (51466, 'OTHER', 'F'): (0.0, 0.0),\n",
       " (51466, 'OTHER', 'M'): (0.0, 0.0),\n",
       " (51466, 'UNKNOWN', 'F'): (0.0, 0.0),\n",
       " (51466, 'UNKNOWN', 'M'): (0.0, 0.0),\n",
       " (51466, 'WHITE', 'F'): (0.0, 0.0),\n",
       " (51466, 'WHITE', 'M'): (0.0, 0.0),\n",
       " (51478, 'AMERICAN INDIAN/ALASKA NATIVE', 'F'): (0.0, 0.0),\n",
       " (51478, 'AMERICAN INDIAN/ALASKA NATIVE', 'M'): (0.0, 0.0),\n",
       " (51478, 'ASIAN', 'F'): (0.0, 0.0),\n",
       " (51478, 'ASIAN', 'M'): (0.0, 0.0),\n",
       " (51478, 'BLACK/AFRICAN AMERICAN', 'F'): (0.0, 0.0),\n",
       " (51478, 'BLACK/AFRICAN AMERICAN', 'M'): (0.0, 0.0),\n",
       " (51478, 'HISPANIC/LATINO', 'F'): (0.0, 0.0),\n",
       " (51478, 'HISPANIC/LATINO', 'M'): (0.0, 0.0),\n",
       " (51478, 'OTHER', 'F'): (0.0, 0.0),\n",
       " (51478, 'OTHER', 'M'): (0.0, 0.0),\n",
       " (51478, 'UNKNOWN', 'F'): (0.0, 0.0),\n",
       " (51478, 'UNKNOWN', 'M'): (0.0, 0.0),\n",
       " (51478, 'WHITE', 'F'): (0.0, 0.0),\n",
       " (51478, 'WHITE', 'M'): (0.0, 0.0),\n",
       " (51484, 'AMERICAN INDIAN/ALASKA NATIVE', 'F'): (0.0, 0.0),\n",
       " (51484, 'AMERICAN INDIAN/ALASKA NATIVE', 'M'): (0.0, 0.0),\n",
       " (51484, 'ASIAN', 'F'): (0.0, 0.0),\n",
       " (51484, 'ASIAN', 'M'): (0.0, 0.0),\n",
       " (51484, 'BLACK/AFRICAN AMERICAN', 'F'): (0.0, 0.0),\n",
       " (51484, 'BLACK/AFRICAN AMERICAN', 'M'): (0.0, 0.0),\n",
       " (51484, 'HISPANIC/LATINO', 'F'): (0.0, 0.0),\n",
       " (51484, 'HISPANIC/LATINO', 'M'): (0.0, 0.0),\n",
       " (51484, 'OTHER', 'F'): (0.0, 0.0),\n",
       " (51484, 'OTHER', 'M'): (0.0, 0.0),\n",
       " (51484, 'UNKNOWN', 'F'): (0.0, 0.0),\n",
       " (51484, 'UNKNOWN', 'M'): (0.0, 0.0),\n",
       " (51484, 'WHITE', 'F'): (0.0, 0.0),\n",
       " (51484, 'WHITE', 'M'): (0.0, 0.0),\n",
       " (51486, 'AMERICAN INDIAN/ALASKA NATIVE', 'F'): (0.0, 0.0),\n",
       " (51486, 'AMERICAN INDIAN/ALASKA NATIVE', 'M'): (0.0, 0.0),\n",
       " (51486, 'ASIAN', 'F'): (0.0, 0.0),\n",
       " (51486, 'ASIAN', 'M'): (0.0, 0.0),\n",
       " (51486, 'BLACK/AFRICAN AMERICAN', 'F'): (0.0, 0.0),\n",
       " (51486, 'BLACK/AFRICAN AMERICAN', 'M'): (0.0, 0.0),\n",
       " (51486, 'HISPANIC/LATINO', 'F'): (0.0, 0.0),\n",
       " (51486, 'HISPANIC/LATINO', 'M'): (0.0, 0.0),\n",
       " (51486, 'OTHER', 'F'): (0.0, 0.0),\n",
       " (51486, 'OTHER', 'M'): (0.0, 0.0),\n",
       " (51486, 'UNKNOWN', 'F'): (0.0, 0.0),\n",
       " (51486, 'UNKNOWN', 'M'): (0.0, 0.0),\n",
       " (51486, 'WHITE', 'F'): (0.0, 0.0),\n",
       " (51486, 'WHITE', 'M'): (0.0, 0.0),\n",
       " (51487, 'AMERICAN INDIAN/ALASKA NATIVE', 'F'): (0.0, 0.0),\n",
       " (51487, 'AMERICAN INDIAN/ALASKA NATIVE', 'M'): (0.0, 0.0),\n",
       " (51487, 'ASIAN', 'F'): (0.0, 0.0),\n",
       " (51487, 'ASIAN', 'M'): (0.0, 0.0),\n",
       " (51487, 'BLACK/AFRICAN AMERICAN', 'F'): (0.0, 0.0),\n",
       " (51487, 'BLACK/AFRICAN AMERICAN', 'M'): (0.0, 0.0),\n",
       " (51487, 'HISPANIC/LATINO', 'F'): (0.0, 0.0),\n",
       " (51487, 'HISPANIC/LATINO', 'M'): (0.0, 0.0),\n",
       " (51487, 'OTHER', 'F'): (0.0, 0.0),\n",
       " (51487, 'OTHER', 'M'): (0.0, 0.0),\n",
       " (51487, 'UNKNOWN', 'F'): (0.0, 0.0),\n",
       " (51487, 'UNKNOWN', 'M'): (0.0, 0.0),\n",
       " (51487, 'WHITE', 'F'): (0.0, 0.0),\n",
       " (51487, 'WHITE', 'M'): (0.0, 0.0),\n",
       " (51491, 'AMERICAN INDIAN/ALASKA NATIVE', 'F'): (5.0, 8.0),\n",
       " (51491, 'AMERICAN INDIAN/ALASKA NATIVE', 'M'): (5.0, 8.0),\n",
       " (51491, 'ASIAN', 'F'): (5.0, 8.0),\n",
       " (51491, 'ASIAN', 'M'): (5.0, 8.0),\n",
       " (51491, 'BLACK/AFRICAN AMERICAN', 'F'): (5.0, 8.0),\n",
       " (51491, 'BLACK/AFRICAN AMERICAN', 'M'): (5.0, 8.0),\n",
       " (51491, 'HISPANIC/LATINO', 'F'): (5.0, 8.0),\n",
       " (51491, 'HISPANIC/LATINO', 'M'): (5.0, 8.0),\n",
       " (51491, 'OTHER', 'F'): (5.0, 8.0),\n",
       " (51491, 'OTHER', 'M'): (5.0, 8.0),\n",
       " (51491, 'UNKNOWN', 'F'): (5.0, 8.0),\n",
       " (51491, 'UNKNOWN', 'M'): (5.0, 8.0),\n",
       " (51491, 'WHITE', 'F'): (5.0, 8.0),\n",
       " (51491, 'WHITE', 'M'): (5.0, 8.0),\n",
       " (51492, 'AMERICAN INDIAN/ALASKA NATIVE', 'F'): (0.0, 0.0),\n",
       " (51492, 'AMERICAN INDIAN/ALASKA NATIVE', 'M'): (0.0, 0.0),\n",
       " (51492, 'ASIAN', 'F'): (0.0, 0.0),\n",
       " (51492, 'ASIAN', 'M'): (0.0, 0.0),\n",
       " (51492, 'BLACK/AFRICAN AMERICAN', 'F'): (0.0, 0.0),\n",
       " (51492, 'BLACK/AFRICAN AMERICAN', 'M'): (0.0, 0.0),\n",
       " (51492, 'HISPANIC/LATINO', 'F'): (0.0, 0.0),\n",
       " (51492, 'HISPANIC/LATINO', 'M'): (0.0, 0.0),\n",
       " (51492, 'OTHER', 'F'): (0.0, 0.0),\n",
       " (51492, 'OTHER', 'M'): (0.0, 0.0),\n",
       " (51492, 'UNKNOWN', 'F'): (0.0, 0.0),\n",
       " (51492, 'UNKNOWN', 'M'): (0.0, 0.0),\n",
       " (51492, 'WHITE', 'F'): (0.0, 0.0),\n",
       " (51492, 'WHITE', 'M'): (0.0, 0.0),\n",
       " (51498, 'AMERICAN INDIAN/ALASKA NATIVE', 'F'): (1.0009999999999997, 1.035),\n",
       " (51498, 'AMERICAN INDIAN/ALASKA NATIVE', 'M'): (1.001, 1.035),\n",
       " (51498, 'ASIAN', 'F'): (1.0009999999999992, 1.0349999999999984),\n",
       " (51498, 'ASIAN', 'M'): (1.0009999999999994, 1.0349999999999988),\n",
       " (51498, 'BLACK/AFRICAN AMERICAN', 'F'): (1.001000000000003,\n",
       "  1.0349999999999973),\n",
       " (51498, 'BLACK/AFRICAN AMERICAN', 'M'): (1.0010000000000023,\n",
       "  1.0349999999999973),\n",
       " (51498, 'HISPANIC/LATINO', 'F'): (1.001000000000001, 1.0349999999999977),\n",
       " (51498, 'HISPANIC/LATINO', 'M'): (1.0009999999999992, 1.0349999999999984),\n",
       " (51498, 'OTHER', 'F'): (1.001000000000001, 1.0349999999999977),\n",
       " (51498, 'OTHER', 'M'): (1.0010000000000006, 1.034999999999998),\n",
       " (51498, 'UNKNOWN', 'F'): (1.0010000000000017, 1.0349999999999975),\n",
       " (51498, 'UNKNOWN', 'M'): (1.0010000000000023, 1.0349999999999973),\n",
       " (51498, 'WHITE', 'F'): (1.0009999999999826, 1.0350000000000013),\n",
       " (51498, 'WHITE', 'M'): (1.0009999999999828, 1.0349999999999988),\n",
       " (51506, 'AMERICAN INDIAN/ALASKA NATIVE', 'F'): (0.0, 0.0),\n",
       " (51506, 'AMERICAN INDIAN/ALASKA NATIVE', 'M'): (0.0, 0.0),\n",
       " (51506, 'ASIAN', 'F'): (0.0, 0.0),\n",
       " (51506, 'ASIAN', 'M'): (0.0, 0.0),\n",
       " (51506, 'BLACK/AFRICAN AMERICAN', 'F'): (0.0, 0.0),\n",
       " (51506, 'BLACK/AFRICAN AMERICAN', 'M'): (0.0, 0.0),\n",
       " (51506, 'HISPANIC/LATINO', 'F'): (0.0, 0.0),\n",
       " (51506, 'HISPANIC/LATINO', 'M'): (0.0, 0.0),\n",
       " (51506, 'OTHER', 'F'): (0.0, 0.0),\n",
       " (51506, 'OTHER', 'M'): (0.0, 0.0),\n",
       " (51506, 'UNKNOWN', 'F'): (0.0, 0.0),\n",
       " (51506, 'UNKNOWN', 'M'): (0.0, 0.0),\n",
       " (51506, 'WHITE', 'F'): (0.0, 0.0),\n",
       " (51506, 'WHITE', 'M'): (0.0, 0.0),\n",
       " (51514, 'AMERICAN INDIAN/ALASKA NATIVE', 'F'): (0.19999999999999998, 1.0),\n",
       " (51514, 'AMERICAN INDIAN/ALASKA NATIVE', 'M'): (0.2, 1.0),\n",
       " (51514, 'ASIAN', 'F'): (0.19999999999999984, 1.0),\n",
       " (51514, 'ASIAN', 'M'): (0.19999999999999996, 1.0),\n",
       " (51514, 'BLACK/AFRICAN AMERICAN', 'F'): (0.20000000000000015, 1.0),\n",
       " (51514, 'BLACK/AFRICAN AMERICAN', 'M'): (0.1999999999999995, 1.0),\n",
       " (51514, 'HISPANIC/LATINO', 'F'): (0.19999999999999962, 1.0),\n",
       " (51514, 'HISPANIC/LATINO', 'M'): (0.19999999999999976, 1.0),\n",
       " (51514, 'OTHER', 'F'): (0.19999999999999962, 1.0),\n",
       " (51514, 'OTHER', 'M'): (0.19999999999999965, 1.0),\n",
       " (51514, 'UNKNOWN', 'F'): (0.19999999999999957, 1.0),\n",
       " (51514, 'UNKNOWN', 'M'): (0.19999999999999948, 1.0),\n",
       " (51514, 'WHITE', 'F'): (0.19999999999999618, 1.0),\n",
       " (51514, 'WHITE', 'M'): (0.1999999999999964, 1.0),\n",
       " (50911, 'AMERICAN INDIAN/ALASKA NATIVE', 'M'): (0.0, 10.0),\n",
       " (51003, 'AMERICAN INDIAN/ALASKA NATIVE', 'M'): (0.0, 0.01)}"
      ]
     },
     "execution_count": 29,
     "metadata": {},
     "output_type": "execute_result"
    }
   ],
   "source": [
    "lab_adm = lab_events_sampled_sub_grouped.merge(admissions_sample, left_on = 'hadm_id', right_on = 'hadm_id')\n",
    "\n",
    "lab_range_min_max_eg = lab_adm.groupby(['itemid', 'ethnicity', 'gender']).agg({'range_min' : 'mean', 'range_max' : 'mean'})\n",
    "lab_range_min_max_eg.reset_index(inplace = True)\n",
    "\n",
    "lab_range_eg_dic = dict(zip(zip(lab_range_min_max_eg['itemid'], lab_range_min_max_eg['ethnicity'], lab_range_min_max_eg['gender']), zip(lab_range_min_max_eg['range_min'], lab_range_min_max_eg['range_max'])))\n",
    "\n",
    "lab_range_eg_dic[(50911, 'AMERICAN INDIAN/ALASKA NATIVE', 'M')] = (0.0, 10.0)\n",
    "lab_range_eg_dic[(51003, 'AMERICAN INDIAN/ALASKA NATIVE', 'M')] = (0.0, 0.01)\n",
    "\n",
    "lab_range_eg_dic\n"
   ]
  },
  {
   "cell_type": "code",
   "execution_count": 30,
   "metadata": {
    "scrolled": true
   },
   "outputs": [],
   "source": [
    "# # Aggregate without splitting by Ethnicity/Gender\n",
    "\n",
    "# lab_range_min_max = lab_events_sampled_sub_grouped.groupby('itemid').agg({'range_min' : 'mean', 'range_max' : 'mean'})\n",
    "# lab_range_min_max.reset_index(inplace = True)\n",
    "\n",
    "# lab_range_dic = dict(zip(lab_range_min_max['itemid'], zip(lab_range_min_max['range_min'], lab_range_min_max['range_max'])))\n",
    "# lab_range_dic\n"
   ]
  },
  {
   "cell_type": "markdown",
   "metadata": {},
   "source": [
    "Pivot the table so we have feature columns related to test results"
   ]
  },
  {
   "cell_type": "code",
   "execution_count": 31,
   "metadata": {},
   "outputs": [],
   "source": [
    "lab_events_sampled_sub_grouped['new_index'] = list(zip(lab_events_sampled_sub_grouped['subject_id'], lab_events_sampled_sub_grouped['hadm_id']))\n"
   ]
  },
  {
   "cell_type": "code",
   "execution_count": 32,
   "metadata": {},
   "outputs": [
    {
     "name": "stdout",
     "output_type": "stream",
     "text": [
      "CPU times: user 111 ms, sys: 28.7 ms, total: 139 ms\n",
      "Wall time: 139 ms\n"
     ]
    }
   ],
   "source": [
    "%time lab_events_sampled_pivot = lab_events_sampled_sub_grouped.pivot(index = 'new_index', columns = 'itemid', values = ['min', 'max', 'mean', 'abn_percent', 'below_min', 'above_max'])\n",
    "# 'comments', \n"
   ]
  },
  {
   "cell_type": "code",
   "execution_count": 33,
   "metadata": {},
   "outputs": [
    {
     "name": "stderr",
     "output_type": "stream",
     "text": [
      "/opt/anaconda3/lib/python3.7/site-packages/pandas/core/generic.py:3936: PerformanceWarning: dropping on a non-lexsorted multi-index without a level parameter may impact performance.\n",
      "  obj = obj._drop_axis(labels, axis, level=level, errors=errors)\n"
     ]
    }
   ],
   "source": [
    "lab_events_sampled_pivot = lab_events_sampled_pivot.reset_index()\n",
    "lab_events_sampled_pivot['subject_id'], lab_events_sampled_pivot['hadm_id'] = zip(*lab_events_sampled_pivot['new_index'])\n",
    "lab_events_sampled_pivot.drop(['new_index'], axis = 1, inplace = True)\n"
   ]
  },
  {
   "cell_type": "code",
   "execution_count": 86,
   "metadata": {},
   "outputs": [
    {
     "data": {
      "text/plain": [
       "             itemid\n",
       "mean         51221      305\n",
       "min          51221      305\n",
       "max          51221      305\n",
       "above_max    51221      305\n",
       "abn_percent  51221      305\n",
       "                       ... \n",
       "min          50911     6879\n",
       "mean         50911     6879\n",
       "             51003     7691\n",
       "max          51003     7691\n",
       "min          51003     7691\n",
       "Length: 240, dtype: int64"
      ]
     },
     "execution_count": 86,
     "metadata": {},
     "output_type": "execute_result"
    }
   ],
   "source": [
    "missing_vals = lab_events_sampled_pivot.isnull().sum(axis = 0) \n",
    "missing_vals[missing_vals > 0].sort_values()"
   ]
  },
  {
   "cell_type": "markdown",
   "metadata": {},
   "source": [
    "## Start Data Imputation"
   ]
  },
  {
   "cell_type": "markdown",
   "metadata": {},
   "source": [
    "Copy table, retain original for Random Forest"
   ]
  },
  {
   "cell_type": "code",
   "execution_count": 35,
   "metadata": {},
   "outputs": [],
   "source": [
    "lab_events_impute = lab_events_sampled_pivot.copy()"
   ]
  },
  {
   "cell_type": "code",
   "execution_count": 36,
   "metadata": {
    "scrolled": true
   },
   "outputs": [
    {
     "data": {
      "text/html": [
       "<div>\n",
       "<style scoped>\n",
       "    .dataframe tbody tr th:only-of-type {\n",
       "        vertical-align: middle;\n",
       "    }\n",
       "\n",
       "    .dataframe tbody tr th {\n",
       "        vertical-align: top;\n",
       "    }\n",
       "\n",
       "    .dataframe thead th {\n",
       "        text-align: right;\n",
       "    }\n",
       "</style>\n",
       "<table border=\"1\" class=\"dataframe\">\n",
       "  <thead>\n",
       "    <tr style=\"text-align: right;\">\n",
       "      <th></th>\n",
       "      <th>itemid</th>\n",
       "      <th>label</th>\n",
       "      <th>fluid</th>\n",
       "      <th>category</th>\n",
       "      <th>loinc_code</th>\n",
       "    </tr>\n",
       "  </thead>\n",
       "  <tbody>\n",
       "    <tr>\n",
       "      <th>52</th>\n",
       "      <td>50861</td>\n",
       "      <td>Alanine Aminotransferase (ALT)</td>\n",
       "      <td>Blood</td>\n",
       "      <td>Chemistry</td>\n",
       "      <td>1742-6</td>\n",
       "    </tr>\n",
       "    <tr>\n",
       "      <th>76</th>\n",
       "      <td>50863</td>\n",
       "      <td>Alkaline Phosphatase</td>\n",
       "      <td>Blood</td>\n",
       "      <td>Chemistry</td>\n",
       "      <td>6768-6</td>\n",
       "    </tr>\n",
       "    <tr>\n",
       "      <th>115</th>\n",
       "      <td>50868</td>\n",
       "      <td>Anion Gap</td>\n",
       "      <td>Blood</td>\n",
       "      <td>Chemistry</td>\n",
       "      <td>1863-0</td>\n",
       "    </tr>\n",
       "    <tr>\n",
       "      <th>153</th>\n",
       "      <td>50878</td>\n",
       "      <td>Asparate Aminotransferase (AST)</td>\n",
       "      <td>Blood</td>\n",
       "      <td>Chemistry</td>\n",
       "      <td>1920-8</td>\n",
       "    </tr>\n",
       "    <tr>\n",
       "      <th>212</th>\n",
       "      <td>50882</td>\n",
       "      <td>Bicarbonate</td>\n",
       "      <td>Blood</td>\n",
       "      <td>Chemistry</td>\n",
       "      <td>1963-8</td>\n",
       "    </tr>\n",
       "    <tr>\n",
       "      <th>222</th>\n",
       "      <td>51464</td>\n",
       "      <td>Bilirubin</td>\n",
       "      <td>Urine</td>\n",
       "      <td>Hematology</td>\n",
       "      <td>5770-3</td>\n",
       "    </tr>\n",
       "    <tr>\n",
       "      <th>229</th>\n",
       "      <td>50885</td>\n",
       "      <td>Bilirubin, Total</td>\n",
       "      <td>Blood</td>\n",
       "      <td>Chemistry</td>\n",
       "      <td>1975-2</td>\n",
       "    </tr>\n",
       "    <tr>\n",
       "      <th>258</th>\n",
       "      <td>51466</td>\n",
       "      <td>Blood</td>\n",
       "      <td>Urine</td>\n",
       "      <td>Hematology</td>\n",
       "      <td>NaN</td>\n",
       "    </tr>\n",
       "    <tr>\n",
       "      <th>282</th>\n",
       "      <td>50893</td>\n",
       "      <td>Calcium, Total</td>\n",
       "      <td>Blood</td>\n",
       "      <td>Chemistry</td>\n",
       "      <td>2000-8</td>\n",
       "    </tr>\n",
       "    <tr>\n",
       "      <th>442</th>\n",
       "      <td>50902</td>\n",
       "      <td>Chloride</td>\n",
       "      <td>Blood</td>\n",
       "      <td>Chemistry</td>\n",
       "      <td>2075-0</td>\n",
       "    </tr>\n",
       "    <tr>\n",
       "      <th>511</th>\n",
       "      <td>50911</td>\n",
       "      <td>Creatine Kinase, MB Isoenzyme</td>\n",
       "      <td>Blood</td>\n",
       "      <td>Chemistry</td>\n",
       "      <td>6773-6</td>\n",
       "    </tr>\n",
       "    <tr>\n",
       "      <th>512</th>\n",
       "      <td>50912</td>\n",
       "      <td>Creatinine</td>\n",
       "      <td>Blood</td>\n",
       "      <td>Chemistry</td>\n",
       "      <td>2160-0</td>\n",
       "    </tr>\n",
       "    <tr>\n",
       "      <th>723</th>\n",
       "      <td>50931</td>\n",
       "      <td>Glucose</td>\n",
       "      <td>Blood</td>\n",
       "      <td>Chemistry</td>\n",
       "      <td>6777-7</td>\n",
       "    </tr>\n",
       "    <tr>\n",
       "      <th>726</th>\n",
       "      <td>51478</td>\n",
       "      <td>Glucose</td>\n",
       "      <td>Urine</td>\n",
       "      <td>Hematology</td>\n",
       "      <td>5792-7</td>\n",
       "    </tr>\n",
       "    <tr>\n",
       "      <th>761</th>\n",
       "      <td>51221</td>\n",
       "      <td>Hematocrit</td>\n",
       "      <td>Blood</td>\n",
       "      <td>Hematology</td>\n",
       "      <td>4544-3</td>\n",
       "    </tr>\n",
       "    <tr>\n",
       "      <th>771</th>\n",
       "      <td>51222</td>\n",
       "      <td>Hemoglobin</td>\n",
       "      <td>Blood</td>\n",
       "      <td>Hematology</td>\n",
       "      <td>718-7</td>\n",
       "    </tr>\n",
       "    <tr>\n",
       "      <th>912</th>\n",
       "      <td>51237</td>\n",
       "      <td>INR(PT)</td>\n",
       "      <td>Blood</td>\n",
       "      <td>Hematology</td>\n",
       "      <td>5895-7</td>\n",
       "    </tr>\n",
       "    <tr>\n",
       "      <th>932</th>\n",
       "      <td>51484</td>\n",
       "      <td>Ketone</td>\n",
       "      <td>Urine</td>\n",
       "      <td>Hematology</td>\n",
       "      <td>5797-6</td>\n",
       "    </tr>\n",
       "    <tr>\n",
       "      <th>960</th>\n",
       "      <td>51486</td>\n",
       "      <td>Leukocytes</td>\n",
       "      <td>Urine</td>\n",
       "      <td>Hematology</td>\n",
       "      <td>5799-2</td>\n",
       "    </tr>\n",
       "    <tr>\n",
       "      <th>1008</th>\n",
       "      <td>50960</td>\n",
       "      <td>Magnesium</td>\n",
       "      <td>Blood</td>\n",
       "      <td>Chemistry</td>\n",
       "      <td>2601-3</td>\n",
       "    </tr>\n",
       "    <tr>\n",
       "      <th>1013</th>\n",
       "      <td>51248</td>\n",
       "      <td>MCH</td>\n",
       "      <td>Blood</td>\n",
       "      <td>Hematology</td>\n",
       "      <td>785-6</td>\n",
       "    </tr>\n",
       "    <tr>\n",
       "      <th>1014</th>\n",
       "      <td>51249</td>\n",
       "      <td>MCHC</td>\n",
       "      <td>Blood</td>\n",
       "      <td>Hematology</td>\n",
       "      <td>786-4</td>\n",
       "    </tr>\n",
       "    <tr>\n",
       "      <th>1016</th>\n",
       "      <td>51250</td>\n",
       "      <td>MCV</td>\n",
       "      <td>Blood</td>\n",
       "      <td>Hematology</td>\n",
       "      <td>787-2</td>\n",
       "    </tr>\n",
       "    <tr>\n",
       "      <th>1092</th>\n",
       "      <td>51487</td>\n",
       "      <td>Nitrite</td>\n",
       "      <td>Urine</td>\n",
       "      <td>Hematology</td>\n",
       "      <td>5802-4</td>\n",
       "    </tr>\n",
       "    <tr>\n",
       "      <th>1183</th>\n",
       "      <td>51491</td>\n",
       "      <td>pH</td>\n",
       "      <td>Urine</td>\n",
       "      <td>Hematology</td>\n",
       "      <td>5803-2</td>\n",
       "    </tr>\n",
       "    <tr>\n",
       "      <th>1189</th>\n",
       "      <td>50970</td>\n",
       "      <td>Phosphate</td>\n",
       "      <td>Blood</td>\n",
       "      <td>Chemistry</td>\n",
       "      <td>2777-1</td>\n",
       "    </tr>\n",
       "    <tr>\n",
       "      <th>1211</th>\n",
       "      <td>51265</td>\n",
       "      <td>Platelet Count</td>\n",
       "      <td>Blood</td>\n",
       "      <td>Hematology</td>\n",
       "      <td>777-3</td>\n",
       "    </tr>\n",
       "    <tr>\n",
       "      <th>1233</th>\n",
       "      <td>50971</td>\n",
       "      <td>Potassium</td>\n",
       "      <td>Blood</td>\n",
       "      <td>Chemistry</td>\n",
       "      <td>2823-3</td>\n",
       "    </tr>\n",
       "    <tr>\n",
       "      <th>1269</th>\n",
       "      <td>51492</td>\n",
       "      <td>Protein</td>\n",
       "      <td>Urine</td>\n",
       "      <td>Hematology</td>\n",
       "      <td>5804-0</td>\n",
       "    </tr>\n",
       "    <tr>\n",
       "      <th>1279</th>\n",
       "      <td>51274</td>\n",
       "      <td>PT</td>\n",
       "      <td>Blood</td>\n",
       "      <td>Hematology</td>\n",
       "      <td>5902-2</td>\n",
       "    </tr>\n",
       "    <tr>\n",
       "      <th>1283</th>\n",
       "      <td>51275</td>\n",
       "      <td>PTT</td>\n",
       "      <td>Blood</td>\n",
       "      <td>Hematology</td>\n",
       "      <td>5898-2</td>\n",
       "    </tr>\n",
       "    <tr>\n",
       "      <th>1307</th>\n",
       "      <td>51277</td>\n",
       "      <td>RDW</td>\n",
       "      <td>Blood</td>\n",
       "      <td>Hematology</td>\n",
       "      <td>788-0</td>\n",
       "    </tr>\n",
       "    <tr>\n",
       "      <th>1312</th>\n",
       "      <td>51279</td>\n",
       "      <td>Red Blood Cells</td>\n",
       "      <td>Blood</td>\n",
       "      <td>Hematology</td>\n",
       "      <td>789-8</td>\n",
       "    </tr>\n",
       "    <tr>\n",
       "      <th>1373</th>\n",
       "      <td>50983</td>\n",
       "      <td>Sodium</td>\n",
       "      <td>Blood</td>\n",
       "      <td>Chemistry</td>\n",
       "      <td>2951-2</td>\n",
       "    </tr>\n",
       "    <tr>\n",
       "      <th>1387</th>\n",
       "      <td>51498</td>\n",
       "      <td>Specific Gravity</td>\n",
       "      <td>Urine</td>\n",
       "      <td>Hematology</td>\n",
       "      <td>5811-5</td>\n",
       "    </tr>\n",
       "    <tr>\n",
       "      <th>1494</th>\n",
       "      <td>51003</td>\n",
       "      <td>Troponin T</td>\n",
       "      <td>Blood</td>\n",
       "      <td>Chemistry</td>\n",
       "      <td>6598-7</td>\n",
       "    </tr>\n",
       "    <tr>\n",
       "      <th>1506</th>\n",
       "      <td>51006</td>\n",
       "      <td>Urea Nitrogen</td>\n",
       "      <td>Blood</td>\n",
       "      <td>Chemistry</td>\n",
       "      <td>3094-0</td>\n",
       "    </tr>\n",
       "    <tr>\n",
       "      <th>1525</th>\n",
       "      <td>51506</td>\n",
       "      <td>Urine Appearance</td>\n",
       "      <td>Urine</td>\n",
       "      <td>Hematology</td>\n",
       "      <td>5767-9</td>\n",
       "    </tr>\n",
       "    <tr>\n",
       "      <th>1540</th>\n",
       "      <td>51514</td>\n",
       "      <td>Urobilinogen</td>\n",
       "      <td>Urine</td>\n",
       "      <td>Hematology</td>\n",
       "      <td>5818-0</td>\n",
       "    </tr>\n",
       "    <tr>\n",
       "      <th>1598</th>\n",
       "      <td>51301</td>\n",
       "      <td>White Blood Cells</td>\n",
       "      <td>Blood</td>\n",
       "      <td>Hematology</td>\n",
       "      <td>804-5</td>\n",
       "    </tr>\n",
       "  </tbody>\n",
       "</table>\n",
       "</div>"
      ],
      "text/plain": [
       "      itemid                            label  fluid    category loinc_code\n",
       "52     50861   Alanine Aminotransferase (ALT)  Blood   Chemistry     1742-6\n",
       "76     50863             Alkaline Phosphatase  Blood   Chemistry     6768-6\n",
       "115    50868                        Anion Gap  Blood   Chemistry     1863-0\n",
       "153    50878  Asparate Aminotransferase (AST)  Blood   Chemistry     1920-8\n",
       "212    50882                      Bicarbonate  Blood   Chemistry     1963-8\n",
       "222    51464                        Bilirubin  Urine  Hematology     5770-3\n",
       "229    50885                 Bilirubin, Total  Blood   Chemistry     1975-2\n",
       "258    51466                            Blood  Urine  Hematology        NaN\n",
       "282    50893                   Calcium, Total  Blood   Chemistry     2000-8\n",
       "442    50902                         Chloride  Blood   Chemistry     2075-0\n",
       "511    50911    Creatine Kinase, MB Isoenzyme  Blood   Chemistry     6773-6\n",
       "512    50912                       Creatinine  Blood   Chemistry     2160-0\n",
       "723    50931                          Glucose  Blood   Chemistry     6777-7\n",
       "726    51478                          Glucose  Urine  Hematology     5792-7\n",
       "761    51221                       Hematocrit  Blood  Hematology     4544-3\n",
       "771    51222                       Hemoglobin  Blood  Hematology      718-7\n",
       "912    51237                          INR(PT)  Blood  Hematology     5895-7\n",
       "932    51484                           Ketone  Urine  Hematology     5797-6\n",
       "960    51486                       Leukocytes  Urine  Hematology     5799-2\n",
       "1008   50960                        Magnesium  Blood   Chemistry     2601-3\n",
       "1013   51248                              MCH  Blood  Hematology      785-6\n",
       "1014   51249                             MCHC  Blood  Hematology      786-4\n",
       "1016   51250                              MCV  Blood  Hematology      787-2\n",
       "1092   51487                          Nitrite  Urine  Hematology     5802-4\n",
       "1183   51491                               pH  Urine  Hematology     5803-2\n",
       "1189   50970                        Phosphate  Blood   Chemistry     2777-1\n",
       "1211   51265                   Platelet Count  Blood  Hematology      777-3\n",
       "1233   50971                        Potassium  Blood   Chemistry     2823-3\n",
       "1269   51492                          Protein  Urine  Hematology     5804-0\n",
       "1279   51274                               PT  Blood  Hematology     5902-2\n",
       "1283   51275                              PTT  Blood  Hematology     5898-2\n",
       "1307   51277                              RDW  Blood  Hematology      788-0\n",
       "1312   51279                  Red Blood Cells  Blood  Hematology      789-8\n",
       "1373   50983                           Sodium  Blood   Chemistry     2951-2\n",
       "1387   51498                 Specific Gravity  Urine  Hematology     5811-5\n",
       "1494   51003                       Troponin T  Blood   Chemistry     6598-7\n",
       "1506   51006                    Urea Nitrogen  Blood   Chemistry     3094-0\n",
       "1525   51506                 Urine Appearance  Urine  Hematology     5767-9\n",
       "1540   51514                     Urobilinogen  Urine  Hematology     5818-0\n",
       "1598   51301                White Blood Cells  Blood  Hematology      804-5"
      ]
     },
     "execution_count": 36,
     "metadata": {},
     "output_type": "execute_result"
    }
   ],
   "source": [
    "d_labitems[d_labitems['itemid'].isin(itemid_sub_sample)]"
   ]
  },
  {
   "cell_type": "code",
   "execution_count": null,
   "metadata": {},
   "outputs": [],
   "source": []
  },
  {
   "cell_type": "code",
   "execution_count": 37,
   "metadata": {},
   "outputs": [
    {
     "name": "stderr",
     "output_type": "stream",
     "text": [
      "/opt/anaconda3/lib/python3.7/site-packages/pandas/core/reshape/merge.py:618: UserWarning: merging between different levels can give an unintended result (2 levels on the left, 1 on the right)\n",
      "  warnings.warn(msg, UserWarning)\n"
     ]
    }
   ],
   "source": [
    "lab_events_impute = lab_events_impute.merge(admissions_sample, left_on = 'hadm_id', right_on = 'hadm_id')"
   ]
  },
  {
   "cell_type": "code",
   "execution_count": 38,
   "metadata": {},
   "outputs": [
    {
     "name": "stderr",
     "output_type": "stream",
     "text": [
      "/opt/anaconda3/lib/python3.7/site-packages/ipykernel_launcher.py:20: SettingWithCopyWarning: \n",
      "A value is trying to be set on a copy of a slice from a DataFrame\n",
      "\n",
      "See the caveats in the documentation: https://pandas.pydata.org/pandas-docs/stable/user_guide/indexing.html#returning-a-view-versus-a-copy\n",
      "/opt/anaconda3/lib/python3.7/site-packages/ipykernel_launcher.py:21: SettingWithCopyWarning: \n",
      "A value is trying to be set on a copy of a slice from a DataFrame\n",
      "\n",
      "See the caveats in the documentation: https://pandas.pydata.org/pandas-docs/stable/user_guide/indexing.html#returning-a-view-versus-a-copy\n",
      "/opt/anaconda3/lib/python3.7/site-packages/ipykernel_launcher.py:22: SettingWithCopyWarning: \n",
      "A value is trying to be set on a copy of a slice from a DataFrame\n",
      "\n",
      "See the caveats in the documentation: https://pandas.pydata.org/pandas-docs/stable/user_guide/indexing.html#returning-a-view-versus-a-copy\n"
     ]
    },
    {
     "name": "stdout",
     "output_type": "stream",
     "text": [
      "CPU times: user 39.4 s, sys: 313 ms, total: 39.7 s\n",
      "Wall time: 40 s\n"
     ]
    }
   ],
   "source": [
    "%%time\n",
    "\n",
    "np.random.seed(0)\n",
    "\n",
    "for labitem in lab_range_eg_dic:\n",
    "    for ind in lab_events_impute.loc[(lab_events_impute[('mean', labitem[0])].isnull()) & (lab_events_impute['ethnicity'] == labitem[1]) & (lab_events_impute['gender'] == labitem[2])].index:\n",
    "        val_max = lab_range_eg_dic[labitem][1]\n",
    "        val_min = lab_range_eg_dic[labitem][0]\n",
    "\n",
    "        val_ave = (val_max + val_min) / 2\n",
    "        val_std = (val_max - val_ave) * .333\n",
    "\n",
    "        ran_vals = np.random.normal(val_ave, val_std, 50)\n",
    "        impute_min = min(ran_vals)\n",
    "        impute_max = max(ran_vals)\n",
    "        impute_mean = np.mean(ran_vals)\n",
    "        \n",
    "        val_min = lab_events_impute[('min', labitem[0])][ind]\n",
    "        val_max = lab_events_impute[('max', labitem[0])][ind]\n",
    "        val_mean = lab_events_impute[('mean', labitem[0])][ind]\n",
    "        \n",
    "        lab_events_impute[('min', labitem[0])][ind] = np.where(np.isnan(val_min), impute_min, val_min)\n",
    "        lab_events_impute[('max', labitem[0])][ind] = np.where(np.isnan(val_max), impute_max, val_max)\n",
    "        lab_events_impute[('mean', labitem[0])][ind] = np.where(np.isnan(val_mean), impute_mean, val_mean)\n",
    "#         patient[('mean', labitem)].replace(np.nan, impute_mean)\n",
    "#         patient[('abn_count', labitem)].replace(np.nan, 0)\n",
    "# 5k patients\n",
    "# 10 items - 2.5s\n",
    "# 20 items - 6s\n",
    "# 30 items - 28.6s\n",
    "\n",
    "# 10k patients\n",
    "# 40 items - 1m 34s"
   ]
  },
  {
   "cell_type": "code",
   "execution_count": 39,
   "metadata": {},
   "outputs": [],
   "source": [
    "for lab_itemid in lab_range_eg_dic:\n",
    "    lab_events_impute[( 'above_max', lab_itemid[0])] = lab_events_impute[( 'above_max', lab_itemid[0])].replace(np.nan, 0)\n",
    "    lab_events_impute[( 'below_min', lab_itemid[0])] = lab_events_impute[( 'below_min', lab_itemid[0])].replace(np.nan, 0)\n",
    "    lab_events_impute[( 'abn_percent', lab_itemid[0])] = lab_events_impute[( 'abn_percent', lab_itemid[0])].replace(np.nan, 0)\n",
    "#     lab_events_sampled_pivot[( 'comments', lab_itemid)] = lab_events_sampled_pivot[( 'comments', lab_itemid)].replace(np.nan, np.array(np.nan))\n"
   ]
  },
  {
   "cell_type": "code",
   "execution_count": 40,
   "metadata": {},
   "outputs": [
    {
     "data": {
      "text/plain": [
       "Series([], dtype: int64)"
      ]
     },
     "execution_count": 40,
     "metadata": {},
     "output_type": "execute_result"
    }
   ],
   "source": [
    "missing_vals = lab_events_impute.isnull().sum(axis = 0) \n",
    "missing_vals[missing_vals > 0].sort_values()"
   ]
  },
  {
   "cell_type": "code",
   "execution_count": 41,
   "metadata": {},
   "outputs": [],
   "source": [
    "lab_events_impute_KNN = lab_events_sampled_pivot.copy()"
   ]
  },
  {
   "cell_type": "code",
   "execution_count": 42,
   "metadata": {},
   "outputs": [],
   "source": [
    "lab_events_impute_KNN = lab_events_impute_KNN.merge(admissions_sample, left_on = 'hadm_id', right_on = 'hadm_id')\n",
    "\n",
    "dummy = pd.get_dummies(lab_events_impute_KNN['ethnicity'], prefix='ethnicity')\n",
    "dummy.drop('ethnicity_WHITE', axis=1, inplace=True)\n",
    "lab_events_impute_KNN = lab_events_impute_KNN.drop('ethnicity', axis=1)\n",
    "lab_events_impute_KNN = pd.concat([lab_events_impute_KNN, dummy], axis=1)\n",
    "\n",
    "lab_events_impute_KNN['gender'] = lab_events_impute_KNN['gender'].map({'M' : 0.0, 'F' : 1.0})\n",
    "lab_events_impute_KNN['gender'] = pd.to_numeric(lab_events_impute_KNN['gender'])\n"
   ]
  },
  {
   "cell_type": "code",
   "execution_count": 43,
   "metadata": {},
   "outputs": [
    {
     "name": "stdout",
     "output_type": "stream",
     "text": [
      "CPU times: user 2min 25s, sys: 32.4 s, total: 2min 58s\n",
      "Wall time: 2min 53s\n"
     ]
    }
   ],
   "source": [
    "%%time\n",
    "\n",
    "from sklearn.impute import KNNImputer\n",
    "imputer = KNNImputer(n_neighbors=math.trunc((lab_events_impute_KNN.shape[0] ** 0.5)))\n",
    "lab_events_impute_KNN_imputed = imputer.fit_transform(lab_events_impute_KNN)\n",
    "\n",
    "# 3min 8s"
   ]
  },
  {
   "cell_type": "code",
   "execution_count": 44,
   "metadata": {
    "scrolled": true
   },
   "outputs": [],
   "source": [
    "lab_events_impute_KNN_imputed = pd.DataFrame(lab_events_impute_KNN_imputed)\n",
    "lab_events_impute_KNN_imputed.columns = lab_events_impute_KNN.columns"
   ]
  },
  {
   "cell_type": "code",
   "execution_count": 45,
   "metadata": {},
   "outputs": [],
   "source": [
    "for lab_itemid in lab_range_eg_dic:\n",
    "    lab_events_impute_KNN_imputed[( 'above_max', lab_itemid[0])] = lab_events_impute_KNN_imputed[( 'above_max', lab_itemid[0])].replace(np.nan, 0)\n",
    "    lab_events_impute_KNN_imputed[( 'below_min', lab_itemid[0])] = lab_events_impute_KNN_imputed[( 'below_min', lab_itemid[0])].replace(np.nan, 0)\n",
    "    lab_events_impute_KNN_imputed[( 'abn_percent', lab_itemid[0])] = lab_events_impute_KNN_imputed[( 'abn_percent', lab_itemid[0])].replace(np.nan, 0)\n",
    "#     lab_events_sampled_pivot[( 'comments', lab_itemid)] = lab_events_sampled_pivot[( 'comments', lab_itemid)].replace(np.nan, np.array(np.nan))\n"
   ]
  },
  {
   "cell_type": "markdown",
   "metadata": {},
   "source": [
    "## Standardize the Data for use in Models"
   ]
  },
  {
   "cell_type": "code",
   "execution_count": 46,
   "metadata": {},
   "outputs": [],
   "source": [
    "from sklearn.preprocessing import StandardScaler\n",
    "\n",
    "scaler = StandardScaler()"
   ]
  },
  {
   "cell_type": "code",
   "execution_count": 47,
   "metadata": {},
   "outputs": [],
   "source": [
    "labs_scaled = lab_events_impute.copy()\n",
    "labs_scaled_KNN = lab_events_impute_KNN_imputed.copy()\n",
    "labs_scaled_missing_data = lab_events_sampled_pivot.copy()"
   ]
  },
  {
   "cell_type": "code",
   "execution_count": 48,
   "metadata": {},
   "outputs": [
    {
     "name": "stderr",
     "output_type": "stream",
     "text": [
      "/opt/anaconda3/lib/python3.7/site-packages/pandas/core/reshape/merge.py:618: UserWarning: merging between different levels can give an unintended result (2 levels on the left, 1 on the right)\n",
      "  warnings.warn(msg, UserWarning)\n"
     ]
    }
   ],
   "source": [
    "labs_scaled_missing_data = labs_scaled_missing_data.merge(admissions_sample, how='left', left_on='hadm_id', right_on='hadm_id')"
   ]
  },
  {
   "cell_type": "code",
   "execution_count": 49,
   "metadata": {},
   "outputs": [],
   "source": [
    "scale_cols = ~labs_scaled.columns.isin([('subject_id', ''), ('hadm_id', ''), 'subject_id', 'hadm_id', 'pos', 'ethnicity', 'gender'])\n",
    "\n",
    "scaler.fit(labs_scaled.loc[:, scale_cols])\n",
    "labs_scaled.loc[:, scale_cols] = scaler.transform(labs_scaled.loc[:, scale_cols])\n",
    "\n",
    "scale_cols = ~labs_scaled_KNN.columns.isin([('subject_id', ''), ('hadm_id', ''), 'subject_id', 'hadm_id', 'pos', 'gender', 'ethnicity_AMERICAN INDIAN/ALASKA NATIVE', 'ethnicity_ASIAN', 'ethnicity_BLACK/AFRICAN AMERICAN', 'ethnicity_HISPANIC/LATINO', 'ethnicity_OTHER', 'ethnicity_UNKNOWN'])\n",
    "\n",
    "scaler.fit(labs_scaled_KNN.loc[:, scale_cols])\n",
    "labs_scaled_KNN.loc[:, scale_cols] = scaler.transform(labs_scaled_KNN.loc[:, scale_cols])\n",
    "\n",
    "scale_cols = ~labs_scaled_missing_data.columns.isin([('subject_id', ''), ('hadm_id', ''), 'subject_id', 'hadm_id', 'pos', 'ethnicity', 'gender'])\n",
    "\n",
    "scaler.fit(labs_scaled_missing_data.loc[:, scale_cols])\n",
    "labs_scaled_missing_data.loc[:, scale_cols] = scaler.transform(labs_scaled_missing_data.loc[:, scale_cols])\n"
   ]
  },
  {
   "cell_type": "markdown",
   "metadata": {},
   "source": [
    "## Save Lab Results for Models"
   ]
  },
  {
   "cell_type": "code",
   "execution_count": 50,
   "metadata": {},
   "outputs": [],
   "source": [
    "# Save non-imputed file as well for forest models\n",
    "\n",
    "pos_final_test = labs_scaled.copy()\n",
    "pos_KNN_final_test = labs_scaled_KNN.copy()\n",
    "pos_final_missing_data_test = labs_scaled_missing_data.copy()\n"
   ]
  },
  {
   "cell_type": "code",
   "execution_count": 51,
   "metadata": {},
   "outputs": [],
   "source": [
    "dummy = pd.get_dummies(pos_final_test['ethnicity'], prefix='ethnicity')\n",
    "dummy.drop('ethnicity_WHITE', axis=1, inplace=True)\n",
    "pos_final_test = pos_final_test.drop('ethnicity', axis=1)\n",
    "pos_final_test = pd.concat([pos_final_test, dummy], axis=1)\n",
    "\n",
    "pos_final_test['gender'] = pos_final_test['gender'].map({'M' : 0.0, 'F' : 1.0})\n",
    "pos_final_test['gender'] = pd.to_numeric(pos_final_test['gender'])\n",
    "\n",
    "\n",
    "\n",
    "dummy = pd.get_dummies(pos_final_missing_data_test['ethnicity'], prefix='ethnicity')\n",
    "dummy.drop('ethnicity_WHITE', axis=1, inplace=True)\n",
    "pos_final_missing_data_test = pos_final_missing_data_test.drop('ethnicity', axis=1)\n",
    "pos_final_missing_data_test = pd.concat([pos_final_missing_data_test, dummy], axis=1)\n",
    "\n",
    "pos_final_missing_data_test['gender'] = pos_final_missing_data_test['gender'].map({'M' : 0.0, 'F' : 1.0})\n",
    "pos_final_missing_data_test['gender'] = pd.to_numeric(pos_final_missing_data_test['gender'])"
   ]
  },
  {
   "cell_type": "code",
   "execution_count": 52,
   "metadata": {},
   "outputs": [],
   "source": [
    "pos_final_test.to_csv('pos_final_test.csv.gz', compression=\"gzip\")\n",
    "pos_KNN_final_test.to_csv('pos_KNN_final_test.csv.gz', compression=\"gzip\")\n",
    "pos_final_missing_data_test.to_csv('pos_final_missing_data_test.csv.gz', compression=\"gzip\")\n"
   ]
  },
  {
   "cell_type": "markdown",
   "metadata": {},
   "source": [
    "## Check for Multicollinearity"
   ]
  },
  {
   "cell_type": "code",
   "execution_count": 53,
   "metadata": {},
   "outputs": [],
   "source": [
    "from statsmodels.stats.outliers_influence import variance_inflation_factor\n",
    "from statsmodels.tools.tools import add_constant"
   ]
  },
  {
   "cell_type": "code",
   "execution_count": 54,
   "metadata": {},
   "outputs": [
    {
     "name": "stderr",
     "output_type": "stream",
     "text": [
      "/opt/anaconda3/lib/python3.7/site-packages/statsmodels/stats/outliers_influence.py:193: RuntimeWarning: divide by zero encountered in double_scalars\n",
      "  vif = 1. / (1. - r_squared_i)\n",
      "/opt/anaconda3/lib/python3.7/site-packages/statsmodels/regression/linear_model.py:1687: RuntimeWarning: invalid value encountered in double_scalars\n",
      "  return 1 - self.ssr/self.uncentered_tss\n"
     ]
    },
    {
     "name": "stdout",
     "output_type": "stream",
     "text": [
      "CPU times: user 4min 20s, sys: 38.4 s, total: 4min 59s\n",
      "Wall time: 51.8 s\n"
     ]
    },
    {
     "data": {
      "text/plain": [
       "(above_max, 51484)             inf\n",
       "(above_max, 51466)             inf\n",
       "(above_max, 51464)             inf\n",
       "(above_max, 51478)             inf\n",
       "(max, 51484)                   inf\n",
       "(max, 51478)                   inf\n",
       "(max, 51466)                   inf\n",
       "(max, 51464)                   inf\n",
       "(max, 51003)          1.234056e+06\n",
       "(above_max, 51003)    1.233688e+06\n",
       "(max, 50878)          1.424565e+04\n",
       "(above_max, 50878)    1.417692e+04\n",
       "(max, 50861)          4.507898e+03\n",
       "(above_max, 50861)    4.458724e+03\n",
       "(max, 51237)          1.220977e+03\n",
       "(above_max, 51237)    1.161864e+03\n",
       "(mean, 51248)         8.554035e+02\n",
       "(mean, 51279)         6.318872e+02\n",
       "(max, 50931)          6.077891e+02\n",
       "(above_max, 50931)    5.891606e+02\n",
       "dtype: float64"
      ]
     },
     "execution_count": 54,
     "metadata": {},
     "output_type": "execute_result"
    }
   ],
   "source": [
    "%%time\n",
    "\n",
    "labs_scaled_features = labs_scaled.loc[:, ('min', 50868) : ('above_max', 51484)]\n",
    "add_constant(labs_scaled_features)\n",
    "\n",
    "high_vif = pd.Series([variance_inflation_factor(labs_scaled_features.values, i) \n",
    "               for i in range(labs_scaled_features.shape[1])], \n",
    "              index=labs_scaled_features.columns).sort_values(ascending = False)\n",
    "\n",
    "high_vif.head(20)\n"
   ]
  },
  {
   "cell_type": "code",
   "execution_count": 95,
   "metadata": {},
   "outputs": [],
   "source": [
    "labs_scaled_features_limited = labs_scaled_features.copy()\n",
    "labs_scaled_features_limited.drop([('above_max', 51484),\n",
    "                                  ('above_max', 51478),\n",
    "                                  ('above_max', 51466),\n",
    "                                  ('above_max', 51464),\n",
    "                                  ('max', 51003),\n",
    "                                  ('max', 50878),\n",
    "                                  ('max', 50861),\n",
    "                                  ('max', 51237),\n",
    "                                  ('mean', 51248),\n",
    "                                  ('max', 50931),\n",
    "                                  ('mean', 51222),\n",
    "                                  ('max', 51274),\n",
    "                                  ('mean', 51279),\n",
    "                                  ('mean', 51274),\n",
    "                                  ('mean', 51478),\n",
    "                                  ('mean', 50885),\n",
    "                                  ('mean', 51250),\n",
    "                                  ('max', 50911),\n",
    "                                  ('mean', 51003),\n",
    "                                  ('mean', 51466),\n",
    "                                  ('mean', 51484),\n",
    "                                  ('mean', 51486),\n",
    "                                  ('mean', 51277),\n",
    "                                  ('mean', 51221),\n",
    "                                  ('max', 50912),\n",
    "                                  ('max', 51275),\n",
    "                                  ('mean', 51492),\n",
    "                                  ('mean', 51514),\n",
    "                                  ('mean', 51006),\n",
    "                                  ('min', 51222),\n",
    "                                  ('max', 50960),\n",
    "                                  ('mean', 51249),\n",
    "                                  ('max', 50885),\n",
    "                                  ('mean', 51506),\n",
    "                                  ('max', 51248),\n",
    "                                  ('min', 51279),\n",
    "                                  ('mean', 50912),\n",
    "                                  ('mean', 51265),\n",
    "                                  ('mean', 51464),\n",
    "                                  ('min', 51248)], axis = 1, inplace = True)\n"
   ]
  },
  {
   "cell_type": "code",
   "execution_count": 96,
   "metadata": {},
   "outputs": [
    {
     "name": "stdout",
     "output_type": "stream",
     "text": [
      "CPU times: user 2min 57s, sys: 27.8 s, total: 3min 24s\n",
      "Wall time: 35.5 s\n"
     ]
    },
    {
     "data": {
      "text/plain": [
       "(max, 51222)            57.020964\n",
       "(max, 51301)            56.570343\n",
       "(mean, 51487)           55.529126\n",
       "(max, 51279)            53.981586\n",
       "(below_min, 51222)      52.488602\n",
       "(below_min, 51221)      50.821117\n",
       "(below_min, 51279)      48.709108\n",
       "(max, 51006)            46.148218\n",
       "(above_max, 51301)      44.975367\n",
       "(mean, 50902)           44.628379\n",
       "(mean, 50882)           41.375474\n",
       "(mean, 50911)           37.663212\n",
       "(above_max, 50861)      37.256435\n",
       "(above_max, 51006)      36.417805\n",
       "(mean, 50983)           35.811685\n",
       "(mean, 51301)           35.723737\n",
       "(abn_percent, 51274)    33.016661\n",
       "(abn_percent, 51237)    32.920199\n",
       "(mean, 50893)           32.284072\n",
       "(max, 50863)            29.647333\n",
       "dtype: float64"
      ]
     },
     "execution_count": 96,
     "metadata": {},
     "output_type": "execute_result"
    }
   ],
   "source": [
    "%%time\n",
    "\n",
    "high_vif = pd.Series([variance_inflation_factor(labs_scaled_features_limited.values, i) \n",
    "               for i in range(labs_scaled_features_limited.shape[1])], \n",
    "              index=labs_scaled_features_limited.columns).sort_values(ascending = False)\n",
    "\n",
    "high_vif.head(20)\n"
   ]
  },
  {
   "cell_type": "code",
   "execution_count": null,
   "metadata": {},
   "outputs": [],
   "source": []
  }
 ],
 "metadata": {
  "kernelspec": {
   "display_name": "Python 3",
   "language": "python",
   "name": "python3"
  },
  "language_info": {
   "codemirror_mode": {
    "name": "ipython",
    "version": 3
   },
   "file_extension": ".py",
   "mimetype": "text/x-python",
   "name": "python",
   "nbconvert_exporter": "python",
   "pygments_lexer": "ipython3",
   "version": "3.7.6"
  }
 },
 "nbformat": 4,
 "nbformat_minor": 4
}
