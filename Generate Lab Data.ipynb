{
 "cells": [
  {
   "cell_type": "code",
   "execution_count": 4,
   "metadata": {},
   "outputs": [],
   "source": [
    "import pandas as pd\n",
    "import numpy as np\n",
    "from sklearn.utils import resample\n",
    "import math"
   ]
  },
  {
   "cell_type": "code",
   "execution_count": 5,
   "metadata": {},
   "outputs": [],
   "source": [
    "d_labitems = pd.read_csv('./data/mimic-iv-0.4/hosp/d_labitems.csv.gz', compression='gzip')"
   ]
  },
  {
   "cell_type": "code",
   "execution_count": 6,
   "metadata": {},
   "outputs": [],
   "source": [
    "admissions_sample = pd.read_pickle(\"./data/admissions_sample.pkl\")"
   ]
  },
  {
   "cell_type": "markdown",
   "metadata": {},
   "source": [
    "## Pull Chart and Lab data only where it matches our sample patient list"
   ]
  },
  {
   "cell_type": "code",
   "execution_count": null,
   "metadata": {},
   "outputs": [],
   "source": [
    "# # We have Decided not to use Chart data after exploring it further\n",
    "# # However, it still comes up in our discussions, so keeping this for now\n",
    "# # Will need to update this code based on other updates we've made\n",
    "\n",
    "# %%time #run this for next time\n",
    "\n",
    "# chunksize = 3*(10 ** 6)\n",
    "# counter=0\n",
    "# chartevents_sample = []\n",
    "# for chunk in pd.read_csv('data/mimic-iv-0.4/icu/chartevents.csv.gz', compression='gzip', chunksize=chunksize):\n",
    "#     chartevents_sample.append(chunk[chunk['subject_id'].isin(list(admissions_sample.subject_id))])\n",
    "#     counter+=1\n",
    "#     print(f'chunk {counter} processed')\n",
    "\n",
    "# chartevents_final = pd.concat(chartevents_sample)\n",
    "\n"
   ]
  },
  {
   "cell_type": "code",
   "execution_count": null,
   "metadata": {},
   "outputs": [],
   "source": [
    "# chartevents_final.to_pickle(\"./data/chartevents_final.pkl\")"
   ]
  },
  {
   "cell_type": "code",
   "execution_count": null,
   "metadata": {},
   "outputs": [],
   "source": [
    "# chartevents_final = pd.read_pickle(\"./data/chartevents_final.pkl\")"
   ]
  },
  {
   "cell_type": "code",
   "execution_count": null,
   "metadata": {},
   "outputs": [],
   "source": [
    "# chartevents_final.shape"
   ]
  },
  {
   "cell_type": "markdown",
   "metadata": {},
   "source": [
    "Load Lab Events table"
   ]
  },
  {
   "cell_type": "code",
   "execution_count": 8,
   "metadata": {
    "collapsed": true
   },
   "outputs": [
    {
     "name": "stdout",
     "output_type": "stream",
     "text": [
      "chunk 1 processed\n",
      "chunk 2 processed\n",
      "chunk 3 processed\n"
     ]
    },
    {
     "name": "stderr",
     "output_type": "stream",
     "text": [
      "/Users/brandonryu/opt/anaconda3/lib/python3.7/site-packages/IPython/core/interactiveshell.py:3063: DtypeWarning: Columns (7,9,12) have mixed types.Specify dtype option on import or set low_memory=False.\n",
      "  interactivity=interactivity, compiler=compiler, result=result)\n"
     ]
    },
    {
     "name": "stdout",
     "output_type": "stream",
     "text": [
      "chunk 4 processed\n",
      "chunk 5 processed\n",
      "chunk 6 processed\n",
      "chunk 7 processed\n",
      "chunk 8 processed\n",
      "chunk 9 processed\n"
     ]
    },
    {
     "name": "stderr",
     "output_type": "stream",
     "text": [
      "/Users/brandonryu/opt/anaconda3/lib/python3.7/site-packages/IPython/core/interactiveshell.py:3063: DtypeWarning: Columns (9,12) have mixed types.Specify dtype option on import or set low_memory=False.\n",
      "  interactivity=interactivity, compiler=compiler, result=result)\n"
     ]
    },
    {
     "name": "stdout",
     "output_type": "stream",
     "text": [
      "chunk 10 processed\n"
     ]
    },
    {
     "name": "stderr",
     "output_type": "stream",
     "text": [
      "/Users/brandonryu/opt/anaconda3/lib/python3.7/site-packages/IPython/core/interactiveshell.py:3063: DtypeWarning: Columns (12) have mixed types.Specify dtype option on import or set low_memory=False.\n",
      "  interactivity=interactivity, compiler=compiler, result=result)\n"
     ]
    },
    {
     "name": "stdout",
     "output_type": "stream",
     "text": [
      "chunk 11 processed\n",
      "chunk 12 processed\n",
      "chunk 13 processed\n",
      "chunk 14 processed\n",
      "chunk 15 processed\n"
     ]
    },
    {
     "name": "stderr",
     "output_type": "stream",
     "text": [
      "/Users/brandonryu/opt/anaconda3/lib/python3.7/site-packages/IPython/core/interactiveshell.py:3063: DtypeWarning: Columns (7) have mixed types.Specify dtype option on import or set low_memory=False.\n",
      "  interactivity=interactivity, compiler=compiler, result=result)\n"
     ]
    },
    {
     "name": "stdout",
     "output_type": "stream",
     "text": [
      "chunk 16 processed\n",
      "chunk 17 processed\n",
      "chunk 18 processed\n",
      "chunk 19 processed\n",
      "chunk 20 processed\n",
      "chunk 21 processed\n",
      "chunk 22 processed\n",
      "chunk 23 processed\n"
     ]
    },
    {
     "name": "stderr",
     "output_type": "stream",
     "text": [
      "/Users/brandonryu/opt/anaconda3/lib/python3.7/site-packages/IPython/core/interactiveshell.py:3063: DtypeWarning: Columns (7,9) have mixed types.Specify dtype option on import or set low_memory=False.\n",
      "  interactivity=interactivity, compiler=compiler, result=result)\n"
     ]
    },
    {
     "name": "stdout",
     "output_type": "stream",
     "text": [
      "chunk 24 processed\n",
      "chunk 25 processed\n",
      "chunk 26 processed\n",
      "chunk 27 processed\n",
      "chunk 28 processed\n",
      "chunk 29 processed\n",
      "chunk 30 processed\n",
      "chunk 31 processed\n",
      "chunk 32 processed\n",
      "chunk 33 processed\n",
      "chunk 34 processed\n",
      "chunk 35 processed\n",
      "chunk 36 processed\n",
      "chunk 37 processed\n",
      "chunk 38 processed\n",
      "chunk 39 processed\n",
      "chunk 40 processed\n",
      "chunk 41 processed\n"
     ]
    }
   ],
   "source": [
    "# %%time\n",
    "\n",
    "# chunksize = 3*(10 ** 6)\n",
    "# counter=0\n",
    "# lab_events_sample = []\n",
    "# for chunk in pd.read_csv('data/mimic-iv-0.4/hosp/labevents.csv.gz', compression='gzip', chunksize=chunksize):\n",
    "#     lab_events_sample.append(chunk[chunk['subject_id'].isin(list(admissions_sample.subject_id))])\n",
    "#     counter+=1\n",
    "#     print(f'chunk {counter} processed')\n",
    "\n",
    "# lab_events_final = pd.concat(lab_events_sample)\n",
    "# # 5k patients\n",
    "# # 3min 52s\n",
    "\n",
    "# # 10k patients\n",
    "# # 4min 6s\n",
    "\n",
    "# # 15k patients\n",
    "# # 4min 27s\n",
    "\n"
   ]
  },
  {
   "cell_type": "code",
   "execution_count": 11,
   "metadata": {},
   "outputs": [],
   "source": [
    "# lab_events_final.to_pickle(\"./data/lab_events_final.pkl\")"
   ]
  },
  {
   "cell_type": "code",
   "execution_count": 12,
   "metadata": {},
   "outputs": [],
   "source": [
    "lab_events_final = pd.read_pickle(\"./data/lab_events_final.pkl\")"
   ]
  },
  {
   "cell_type": "code",
   "execution_count": 13,
   "metadata": {},
   "outputs": [
    {
     "data": {
      "text/plain": [
       "(6765210, 15)"
      ]
     },
     "execution_count": 13,
     "metadata": {},
     "output_type": "execute_result"
    }
   ],
   "source": [
    "lab_events_final.shape"
   ]
  },
  {
   "cell_type": "markdown",
   "metadata": {},
   "source": [
    "## Manipulating the Data"
   ]
  },
  {
   "cell_type": "markdown",
   "metadata": {},
   "source": [
    "Take only records related to our sample patients"
   ]
  },
  {
   "cell_type": "markdown",
   "metadata": {},
   "source": [
    "Filter lab events based on first hospital visit of our sample population"
   ]
  },
  {
   "cell_type": "code",
<<<<<<< HEAD
   "execution_count": 283,
=======
   "execution_count": 14,
>>>>>>> upstream/master
   "metadata": {},
   "outputs": [
    {
     "name": "stdout",
     "output_type": "stream",
     "text": [
<<<<<<< HEAD
      "CPU times: user 800 ms, sys: 1.28 s, total: 2.08 s\n",
      "Wall time: 3.31 s\n"
=======
      "CPU times: user 2.34 s, sys: 1.74 s, total: 4.08 s\n",
      "Wall time: 5.25 s\n"
>>>>>>> upstream/master
     ]
    }
   ],
   "source": [
    "# Can we do this filtering when generating lab data?\n",
    "# For now let's not as we're discussing using different hospitalizations from the same subjects\n",
    "\n",
    "%time lab_events_sampled = lab_events_final[lab_events_final['hadm_id'].isin(admissions_sample.hadm_id)]\n"
   ]
  },
  {
   "cell_type": "markdown",
   "metadata": {},
   "source": [
    "Check how many patients have had each test done"
   ]
  },
  {
   "cell_type": "code",
<<<<<<< HEAD
   "execution_count": 284,
=======
   "execution_count": 15,
>>>>>>> upstream/master
   "metadata": {},
   "outputs": [
    {
     "data": {
      "text/plain": [
       "itemid\n",
       "51221    8433\n",
       "51265    8297\n",
       "51222    8236\n",
       "51301    8235\n",
       "51248    8229\n",
       "51279    8229\n",
       "51277    8229\n",
       "51250    8229\n",
       "51249    8229\n",
       "50912    7985\n",
       "Name: subject_id, dtype: int64"
      ]
     },
<<<<<<< HEAD
     "execution_count": 284,
=======
     "execution_count": 15,
>>>>>>> upstream/master
     "metadata": {},
     "output_type": "execute_result"
    }
   ],
   "source": [
    "lab_events_sampled.groupby('itemid')['subject_id'].nunique().sort_values(ascending = False).head(10)"
   ]
  },
  {
   "cell_type": "markdown",
   "metadata": {},
   "source": [
    "Most common tests performed on patients with pos diagnosis"
   ]
  },
  {
   "cell_type": "code",
<<<<<<< HEAD
   "execution_count": 285,
=======
   "execution_count": 16,
>>>>>>> upstream/master
   "metadata": {},
   "outputs": [
    {
     "data": {
      "text/plain": [
       "itemid\n",
       "50971    1196\n",
       "50983    1193\n",
       "50912    1192\n",
       "50902    1191\n",
       "51006    1191\n",
       "51221    1181\n",
       "51265    1181\n",
       "50868    1180\n",
       "50882    1180\n",
       "50931    1174\n",
       "Name: subject_id, dtype: int64"
      ]
     },
<<<<<<< HEAD
     "execution_count": 285,
=======
     "execution_count": 16,
>>>>>>> upstream/master
     "metadata": {},
     "output_type": "execute_result"
    }
   ],
   "source": [
    "lab_events_sampled[lab_events_sampled['subject_id'].isin(list(admissions_sample[admissions_sample['pos'] == 1].subject_id))].groupby('itemid')['subject_id'].nunique().sort_values(ascending = False).head(10)\n"
   ]
  },
  {
   "cell_type": "markdown",
   "metadata": {},
   "source": [
    "Item Black List"
   ]
  },
  {
   "cell_type": "code",
<<<<<<< HEAD
   "execution_count": 347,
=======
   "execution_count": 17,
>>>>>>> upstream/master
   "metadata": {},
   "outputs": [],
   "source": [
    "item_black_list = [50920]\n",
    "# 50920 - test results are text in comments - need to come back and figure out how to handle this\n"
   ]
  },
  {
   "cell_type": "markdown",
   "metadata": {},
   "source": [
    "Bonus Items To Add"
   ]
  },
  {
   "cell_type": "code",
   "execution_count": 348,
   "metadata": {},
   "outputs": [],
   "source": [
    "# These test, although they have much missingness, are known to be good indicators of congestive heart failure\n",
    "\n",
    "item_bonus_list = [51274, 51003, 50911, 51464]\n",
    "# 51274 PT\n",
    "# # 50920 Estimated GFR (MDRD equation)\n",
    "# 51003 Troponin T\n",
    "# 50911 Creatine Kinase, MB Isoenzyme\n",
    "# 51464 Specific Gravity\n"
   ]
  },
  {
   "cell_type": "markdown",
   "metadata": {},
   "source": [
    "Take only the X most commonly performed tests"
   ]
  },
  {
   "cell_type": "code",
<<<<<<< HEAD
   "execution_count": 349,
=======
   "execution_count": 18,
>>>>>>> upstream/master
   "metadata": {},
   "outputs": [],
   "source": [
    "top_test_num = 20\n",
    "\n",
    "lab_events_valid = lab_events_sampled[~lab_events_sampled['itemid'].isin(item_black_list)]\n",
    "\n",
    "# On patients with pos diagnosis\n",
    "itemid_sub_sample = lab_events_valid[lab_events_valid['subject_id'].isin(list(admissions_sample[admissions_sample['pos'] == 1].subject_id))].groupby('itemid')['subject_id'].nunique().sort_values(ascending = False).head(top_test_num).reset_index().rename(columns = {'index' : 'itemid'}).itemid.to_list()\n",
    "# On all sample patients\n",
    "# itemid_sub_sample = lab_events_sampled.groupby('itemid')['subject_id'].nunique().sort_values(ascending = False).head(top_test_num).reset_index().rename(columns = {'index' : 'itemid'}).itemid.to_list()\n",
    "\n",
    "itemid_sub_sample = itemid_sub_sample + item_bonus_list\n",
    "\n",
    "lab_events_sampled_sub = lab_events_sampled[lab_events_sampled['itemid'].isin(itemid_sub_sample)]\n"
   ]
  },
  {
   "cell_type": "code",
<<<<<<< HEAD
   "execution_count": 350,
   "metadata": {},
   "outputs": [],
   "source": [
    "# # lab_events_valid['subject_id'].isin(list(admissions_sample[admissions_sample['pos'] == 1].subject_id))\n",
    "\n",
    "# top_labs = lab_events_sampled.groupby(['itemid']).agg(freq=('subject_id', lambda x: len(np.unique(x))))\\\n",
    "# .reset_index().sort_values('freq', ascending=False).head(60)\n",
    "\n",
    "# top_labs\n"
   ]
  },
  {
   "cell_type": "code",
   "execution_count": 351,
   "metadata": {},
   "outputs": [
    {
     "data": {
      "text/plain": [
       "<matplotlib.axes._subplots.AxesSubplot at 0x1a34955750>"
      ]
     },
     "execution_count": 351,
     "metadata": {},
     "output_type": "execute_result"
    },
    {
     "data": {
      "image/png": "iVBORw0KGgoAAAANSUhEUgAAAX0AAAD4CAYAAAAAczaOAAAABHNCSVQICAgIfAhkiAAAAAlwSFlzAAALEgAACxIB0t1+/AAAADh0RVh0U29mdHdhcmUAbWF0cGxvdGxpYiB2ZXJzaW9uMy4xLjMsIGh0dHA6Ly9tYXRwbG90bGliLm9yZy+AADFEAAAeA0lEQVR4nO3de5hcdZ3n8fe37/ekO6lOOumEEGkhnSgY2hhE0SEigeExjAMzZNYlKs9kdkTFdV2FdWZ1dJ3FcWZc8HGYJ8olOEoAb0SXBTOgg6AhdIRALoR0bqSTkHTSuXenr9/9o05DEfqWquo+p6o+r+epp8751a+qvnUInz71O+f8ytwdERHJDXlhFyAiIuNHoS8ikkMU+iIiOUShLyKSQxT6IiI5pCDsAoYzefJknzVrVthliIhklPXr1x9y99hgj0U69GfNmkVzc3PYZYiIZBQz2z3UYxreERHJIQp9EZEcotAXEckhCn0RkRwyYuib2T1mdtDMNia0fcvMXjazF83sZ2Y2MeGx28ysxcy2mtmVCe2Lg7YWM7s1/R9FRERGMpo9/fuAxWe0rQHmufs7gVeA2wDMrBG4AZgbPOdfzCzfzPKB7wJXAY3A0qCviIiMoxFD392fAtrPaPuVu/cGq2uB+mB5CbDK3bvcfSfQAiwIbi3uvsPdu4FVQV8RERlH6ThP/5PAg8HydOJ/BAa0Bm0Ae85of89gL2Zmy4HlADNnzkyqoN6+fr71q63UTyxlenUp0yeWMb26lIriSF+WICIy5lJKQTP7MtAL/HCgaZBuzuDfKAadyN/dVwArAJqampKa7P/QyW7ufXoX3X39b2qfUFrItImlTJ9YyrSJJZQXF1BWmE9pUT4lhfmUFuZTVpRPSdEby6WFwWNFwWMF+eTlDfYxRUSiL+nQN7NlwDXAIn/jl1hagRkJ3eqBfcHyUO1pN3VCCS9/fTGHTnbRerSTvUc62Ztwv6e9g3U7D9PZ00dP39n/XSkuyKMoP2/wP3GBudOqWLpgJovnTaW4ID+FTyMikj5Jhb6ZLQa+BHzA3TsSHloN/MjM/hmYBjQA64jHY4OZnQvsJX6w9y9SKXwkeXlGbVUJtVUlzJ9ZPWS/nr5+Onv6ON3dR2dPHx3BfWd3H6cT1k8HbR1B+5nfIhL19Tu/2drGLateoLqskOsurmfpgpnMjlWMxUcVERm1EUPfzB4APghMNrNW4CvEz9YpBtaYGcBad/8v7r7JzB4CNhMf9rnZ3fuC1/k08DiQD9zj7pvG4POctcL8PArz86gqKUzr6/b3O89sP8SPnn2Ve5/Zxfd+u5NLZk/iL94zkyvnTqWoQJdIiMj4syj/Rm5TU5Nnw4RrB0+c5uHmVh5Y9yqtRzqpKS9i2sSSIfsbRklh3puOM5QW5VNaWEBpUR7FBfnDjSwxsbyIBbNqaKit0PEHkRxkZuvdvWnQxxT646e/3/ltyyF+/vxejnf2DN3Pna7e/teHkgaGnU5399HR00df/+j+m00sK+Tds2pYMKuGBefWMHdaFQX5+oYhku2GC32dwziO8vKMD7w9xgfePug016Pi7iOG/r6jp1m3q511Ow+zbmc7azYfAKC8KJ/551RzWUOMK+dOZeaksqTrEJHMpD39HHDw+MAfgXae3dHO1gMnAGisq2LxvKlcNW8q59VWEByfEZEMp+EdeZM97R08vuk1Htv4GutfPYI7zI6Vs3juVK6cO5VZk8opKYqflqo/BCKZR6EvQzp4/DSPbz7AYxv3s3ZH+5uGjvLz7PWL0964UC26fwgK8ox50yew4Nwa3j2rhlhlcdgliYRCoS+jcuRUN09ta+PQye43XZeQeJ1CZ0/f4JdSR8Dp7j5e2nuMzp4+AGZPLmfBuTWv3+qrdQxDcoMO5MqoVJcXseSi6SN3jLCevn427j3Gc8ExjEdf2s+q5+LTPs2eXM7ff/QdLJw9KeQqRcKjPX3Jav39ztYDJ1i3s537freL3YdP8ek/Oo/PLmrQ6auStYbb09e/eslqeXnGnLoqlr13Fr/8zPv40/n13PlkC3++Yi172jtGfgGRLKPQl5xRXlzAt66/kDuXvotXXjvB1Xf+ll9sGLN5/0QiSaEvOecjF07j0Vvez3m1FXzmgef57w9v4FRX78hPFMkCOpArOWlGTRkP/dUl3PHv2/jub1pYv/sIt109Z9gf2plTV8nEsqJxrFIk/XQgV3Le77Yf4vMPbuC146eH7ffhximsuHHQY2MikaJTNkWG8d63TeZXn7+MTXuPD9lnxVPb2dB6dByrEhkbCn0RoKqkkEveNvT5+5v2HePXW9s4dLKLyRW60lcylw7kioxCY10VAFv2D/1tQCQTKPRFRmFOEPqb9yn0JbMp9EVGobq8iGkTStisPX3JcAp9kVFqnFal4R3JeAp9kVFqrKtie9spTgezeIpkIoW+yCg1Tquir995JfjlMZFMpNAXGSUdzJVsMGLom9k9ZnbQzDYmtF1vZpvMrN/Mms7of5uZtZjZVjO7MqF9cdDWYma3pvdjiIy9GdVlVBQX6GCuZLTR7OnfByw+o20j8FHgqcRGM2sEbgDmBs/5FzPLN7N84LvAVUAjsDToK5Ix4tM0V2pPXzLaiKHv7k8B7We0bXH3rYN0XwKscvcud98JtAALgluLu+9w925gVdBXJKM01sXP4Onvj+6cVSLDSfeY/nRgT8J6a9A2VPtbmNlyM2s2s+a2trY0lyeSmsZpVZzq7uNV/QCLZKh0h74N0ubDtL+10X2Fuze5e1MsFktrcSKpaqybAKBxfclY6Q79VmBGwno9sG+YdpGM0jClgvw800VakrHSHfqrgRvMrNjMzgUagHXAc0CDmZ1rZkXED/auTvN7i4y5ksJ8zotV6GCuZKwRp1Y2sweADwKTzawV+ArxA7vfAWLA/zWzF9z9SnffZGYPAZuBXuBmd+8LXufTwONAPnCPu28aiw8kMtYap1WxdsfhsMsQScqIoe/uS4d46GdD9P8G8I1B2h8FHj2r6kQiaE5dJT97fi/tp7qpKdfPJ0pm0RW5Imdp4GCuxvUlEyn0Rc7SnLpKQNMxSGZS6IucpUkVxUyt0tz6kpkU+iJJaJxWpT19yUgKfZEkNNZV0dJ2UnPrS8ZR6IskYWBu/ZaDJ8MuReSsKPRFktCoufUlQyn0RZIws6aM8qJ8HcyVjKPQF0lCXp5xQZ0O5krmUeiLJKmxrorNmltfMoxCXyRJjdOqONnVS+uRzrBLERk1hb5Ikl4/mLv/WMiViIyeQl8kSedPrSTPdAaPZBaFvkiSSgrzeVusQmfwSEZR6IukoHFaFVv2nwi7DJFRU+iLpKCxroq9Rzs52tEddikio6LQF0nBnNcP5mqIRzKDQl8kBXM0HYNkGIW+SApilcXUVhZrT18yhkJfJEWaW18yiUJfJEWNdVW0HDxJV6/m1pfoU+iLpKhxWhW9/c62A5pbX6KvIOwCRDLdwHQM33lyG+fVVgzap6yogI8tPIcJpYXjWZrIW4wY+mZ2D3ANcNDd5wVtNcCDwCxgF/Bn7n7EzAy4A7ga6AA+7u5/CJ6zDPib4GX/l7uvTO9HEQnHrEnlNNRW8MSWgzyx5eCgfXr7nd9tP8R9n1hAYb6+YEt4zH34aWHN7DLgJHB/Quj/A9Du7reb2a1Atbt/ycyuBj5DPPTfA9zh7u8J/kg0A02AA+uBi939yHDv3dTU5M3Nzal9QpEI+PH6Vr7w8AZuvOQcvrZkXtjlSJYzs/Xu3jTYYyPucrj7U0D7Gc1LgIE99ZXAtQnt93vcWmCimdUBVwJr3L09CPo1wOKz/ygimem6i+v5q8tmc//vd/ODtbvDLkdyWLLfM6e4+36A4L42aJ8O7Eno1xq0DdX+Fma23Myazay5ra0tyfJEoueLiy/g8gtq+erqTfyu5VDY5UiOSvfgog3S5sO0v7XRfYW7N7l7UywWS2txImHKzzPuuOEi3hYr569/+Ad2HToVdkmSg5IN/QPBsA3B/cDRq1ZgRkK/emDfMO0iOaWypJDv3/hu8gxuWvkcxzp7wi5Jckyyob8aWBYsLwMeSWi/0eIWAseC4Z/HgQ+bWbWZVQMfDtpEcs7MSWXc9bGL2X24g8888Dy9ff1hlyQ5ZMTQN7MHgN8D55tZq5ndBNwOXGFm24ArgnWAR4EdQAvwPeBTAO7eDnwdeC64fS1oE8lJC2dP4uvXzuOpV9r43//v5bDLkRwy4nn67r50iIcWDdLXgZuHeJ17gHvOqjqRLLZ0wUxeOXCCu5/eydunVPDn754ZdkmSA3SViEiIvnz1HN7fMJm/+flG/RCLjAuFvkiICvLz+NjCc+jpc1qPdIZdjuQAhb5IyGKVxQC0newKuRLJBQp9kZDFKoLQP6HQl7Gn0BcJ2et7+gp9GQcKfZGQlRTmU1lSoNCXcaHQF4mAWGWxQl/GhUJfJAJqFfoyThT6IhEQqyzR2TsyLhT6IhEQq9CevowPhb5IBMQqiznZ1UtHd2/YpUiWU+iLRMDAaZuHTmgqBhlbCn2RCHjjqtzTIVci2U6hLxIBuipXxotCXyQCBvb0Dyr0ZYwp9EUioKa8iDzTnr6MPYW+SATk5xmTddqmjAOFvkhEaCoGGQ8KfZGIiFUW66pcGXMKfZGI0FW5Mh4U+iIREass5tDJLvr7PexSJIsp9EUiIlZZTE+fc6yzJ+xSJIulFPpmdouZbTSzTWb2uaCtxszWmNm24L46aDczu9PMWszsRTObn44PIJItdK6+jIekQ9/M5gF/CSwALgSuMbMG4FbgCXdvAJ4I1gGuAhqC23LgrhTqFsk6uipXxkMqe/pzgLXu3uHuvcB/AH8CLAFWBn1WAtcGy0uA+z1uLTDRzOpSeH+RrKL5d2Q8pBL6G4HLzGySmZUBVwMzgCnuvh8guK8N+k8H9iQ8vzVoexMzW25mzWbW3NbWlkJ5IpmltqoE0J6+jK2kQ9/dtwDfBNYAjwEbgOEmA7fBXmaQ113h7k3u3hSLxZItTyTjlBflU1qYr9CXMZXSgVx3v9vd57v7ZUA7sA04MDBsE9wfDLq3Ev8mMKAe2JfK+4tkEzPTVbky5lI9e6c2uJ8JfBR4AFgNLAu6LAMeCZZXAzcGZ/EsBI4NDAOJSJyuypWxVpDi839iZpOAHuBmdz9iZrcDD5nZTcCrwPVB30eJj/u3AB3AJ1J8b5GsE6soZsehk2GXIVkspdB39/cP0nYYWDRIuwM3p/J+ItkuVlnM2p2Hwy5DspiuyBWJkFhlMUc7eujq7Qu7FMlSCn2RCBk4V//wSf1AuowNhb5IhOiqXBlrCn2RCKmtUujL2FLoi0TIG1MxKPRlbCj0RSJkUrn29GVsKfRFIqSoII/qskKFvowZhb5IxMQqizl4QjNtythQ6ItEjObfkbGk0BeJmFiF5t+RsaPQF4mYgT39+MwlIuml0BeJmNrKEk739HOya7ifpxBJjkJfJGJeP1df4/oyBhT6IhGj0JexpNAXiRhdlStjSaEvEjEDk64dPK7Ql/RT6ItEzITSQgrzTXv6MiYU+iIRk5dnTK7QBVoyNhT6IhGkq3JlrCj0RSIopj19GSMKfZEIqq3SVAwyNhT6IhEUqyjm8Mku+vo1FYOkV0qhb2b/1cw2mdlGM3vAzErM7Fwze9bMtpnZg2ZWFPQtDtZbgsdnpeMDiGSjWGUx/Q7tp/QD6ZJeSYe+mU0HPgs0ufs8IB+4Afgm8G13bwCOADcFT7kJOOLu5wHfDvqJyCAGLtDSvPqSbqkO7xQApWZWAJQB+4HLgR8Hj68Erg2WlwTrBI8vMjNL8f1FspKmYpCxknTou/te4B+BV4mH/TFgPXDU3QemB2wFpgfL04E9wXN7g/6TznxdM1tuZs1m1tzW1pZseSIZLVZRAij0Jf1SGd6pJr73fi4wDSgHrhqk68CRqMH26t9ylMrdV7h7k7s3xWKxZMsTyWiTK4sAzb8j6ZfK8M6HgJ3u3ubuPcBPgfcCE4PhHoB6YF+w3ArMAAgenwC0p/D+IlmrrKiAiuIC7elL2qUS+q8CC82sLBibXwRsBn4NXBf0WQY8EiyvDtYJHn/S9dNAIkPSVbkyFlIZ03+W+AHZPwAvBa+1AvgS8HkzayE+Zn938JS7gUlB++eBW1OoWyTrKfRlLBSM3GVo7v4V4CtnNO8AFgzS9zRwfSrvJ5JLYpXFbNl/POwyJMvoilyRiIpVFNOmOfUlzRT6IhEVqyzmRFcvnd19YZciWUShLxJRAxdoHdJpm5JGCn2RiHpjKgaFvqSPQl8kogZ+K1dn8Eg6KfRFIqp2YP4dDe9IGin0RSKqprwIM+3pS3op9EUiqiA/j0nlukBL0kuhLxJh8atyNae+pI9CXyTCNBWDpJtCXyTCYhUKfUkvhb5IhMUqi2k72YUmpJV0UeiLRFisspiePudYZ0/YpUiWUOiLRJh+K1fSTaEvEmG6KlfSTaEvEmG1VboqV9JLoS8SYRrekXRT6ItEWGVxAcUFeZppU9JGoS8SYWamC7QkrRT6IhGn0Jd0UuiLRJyuypV0UuiLRNy0iaXsbj/F0Y7usEuRLKDQF4m4GxbM4HRPP3c/vTPsUiQLJB36Zna+mb2QcDtuZp8zsxozW2Nm24L76qC/mdmdZtZiZi+a2fz0fQyR7HXB1CqumjeV+57ZxbEOTccgqUk69N19q7tf5O4XARcDHcDPgFuBJ9y9AXgiWAe4CmgIbsuBu1IpXCSXfHZRAye6ern7Ge3tS2rSNbyzCNju7ruBJcDKoH0lcG2wvAS43+PWAhPNrC5N7y+S1ebUVbF47lTufXqn9vYlJekK/RuAB4LlKe6+HyC4rw3apwN7Ep7TGrS9iZktN7NmM2tua2tLU3kimW9gb/8e7e1LClIOfTMrAj4CPDxS10Ha3jJJuLuvcPcmd2+KxWKplieSNRqnVXHl3Cnc88xOTbUsSUvHnv5VwB/c/UCwfmBg2Ca4Pxi0twIzEp5XD+xLw/uL5IzPLmrgxOle7tXeviQpHaG/lDeGdgBWA8uC5WXAIwntNwZn8SwEjg0MA4nI6MydNoErGqdwz9M7OX5ae/ty9lIKfTMrA64AfprQfDtwhZltCx67PWh/FNgBtADfAz6VynuL5KpbFjVw/HQv9z2zK+xSJAMVpPJkd+8AJp3Rdpj42Txn9nXg5lTeT0Rg3vQJfGjOFL7/2x18/NJZVJUUhl2SZBBdkSuSgQb29ldqb1/OkkJfJAO9o34CH5pTy/ef3skJje3LWVDoi2SoWxa9nWOdPaz83a6wS5EMotAXyVDvqJ/A5RfE9/ZPdvWGXY5kCIW+SAa7ZVEDRzt6+MJDG/i3tbv59daDbDtwgo5u/RGQwaV09o6IhOvCGRP52MKZPPjcHh7b9NqbHqsuK2R6dSnTJpRSVpQ/5GuYGRNKC6kuK6KmooiasiJqyt+4VZcVUpCv/cNsYfEzKaOpqanJm5ubwy5DJPL6+p22E13sPdpB65FO9h7tZO+RTvYdjS939fYP+9zjnT0cPz34t4Oa8iIe+MuFnD+1cqzKlzQzs/Xu3jTYY9rTF8kC+XnG1AklTJ1QwsXnJPcaPX39HDnVTXtHN+0ng/tT3dz5xDZuWfU8P7/5UkoKh/7GIJlBoS8iABTm51FbVUJtVcmb2uurS/nkfc186/Gt/O01jSFVJ+migToRGdblF0zhxkvO4e6nd/LbbZruPNMp9EVkRP/j6jmcV1vBf3toA+2n9APtmUyhLyIjKinM544bLuJoRw9f+smLRPkEEBmeQl9ERmXutAl8cfH5rNl8gFXP7Rn5CRJJCn0RGbVPXnou7ztvMl/7xWa2t50MuxxJgkJfREYtL8/4pz+7kOLCPD636gW6hzn/X6JJoS8iZ2VKVQm3f/SdvLT3GN/+91fCLkfOkkJfRM7a4nlTWbpgBv/6H9v5/fbDYZcjZ0GhLyJJ+dtrGjl3UjlfeHgDPX0a5skUCn0RSUpZUQFf/uM57D3ayeNnTPYm0aXQF5Gk/dH5tZwzqUw/0p5BFPoikrS8POM/LzyH5t1H2Lj3WNjlyCgo9EUkJdc3zaCsKJ/79LONGSGl0DeziWb2YzN72cy2mNklZlZjZmvMbFtwXx30NTO708xazOxFM5ufno8gImGaUFrIn86vZ/UL+zh0sivscmQEqe7p3wE85u4XABcCW4BbgSfcvQF4IlgHuApoCG7LgbtSfG8RiYhl7z2H7r5+Vq17NexSZARJh76ZVQGXAXcDuHu3ux8FlgArg24rgWuD5SXA/R63FphoZnVJVy4ikXFebSXvb5jMD9bu1umbEZfKnv5soA2418yeN7Pvm1k5MMXd9wME97VB/+lA4ixNrUHbm5jZcjNrNrPmtjbN3S2SKT7+3lkcON6l0zcjLpXQLwDmA3e5+7uAU7wxlDMYG6TtLfOzuvsKd29y96ZYLJZCeSIynnT6ZmZIJfRbgVZ3fzZY/zHxPwIHBoZtgvuDCf1nJDy/HtiXwvuLSITk5Rk3XjKL5t1HeKlVp29GVdKh7+6vAXvM7PygaRGwGVgNLAvalgGPBMurgRuDs3gWAscGhoFEJDtc31Sv0zcjLtWzdz4D/NDMXgQuAv4euB24wsy2AVcE6wCPAjuAFuB7wKdSfG8RiZiqkkKuu7ieX2zQ6ZtRVZDKk939BaBpkIcWDdLXgZtTeT8Rib4bL5nF/b/fzap1r/LpyxvCLkfOoCtyRSStzqut0OmbEabQF5G0+8Sl8dM3H9uo0zejRqEvImn3wbcHp2/qgG7kKPRFJO3y8oxll8xivU7fjJyUDuSKiAzluqZ6/vFXW/nEfeuoLisKu5yMc0FdFd9Z+q60v65CX0TGRFVJIV9bMo8nXz4QdikZaUZ16Zi8rkJfRMbMdRfXc93F9WGXIQk0pi8ikkMU+iIiOUShLyKSQxT6IiI5RKEvIpJDFPoiIjlEoS8ikkMU+iIiOcTi09xHk5m1AbtTeInJwKE0lZNuqi05qi05qi05mVrbOe4+6I+MRzr0U2Vmze4+2I+8hE61JUe1JUe1JScba9PwjohIDlHoi4jkkGwP/RVhFzAM1ZYc1ZYc1ZacrKstq8f0RUTkzbJ9T19ERBIo9EVEckhWhr6ZLTazrWbWYma3hl1PIjPbZWYvmdkLZtYcgXruMbODZrYxoa3GzNaY2bbgvjoidX3VzPYG2+4FM7t6vOsK6phhZr82sy1mtsnMbgnao7Ddhqot9G1nZiVmts7MNgS1/V3Qfq6ZPRtstwfNbNx/W3GY2u4zs50J2+2i8a4tocZ8M3vezH4ZrCe33dw9q25APrAdmA0UARuAxrDrSqhvFzA57DoS6rkMmA9sTGj7B+DWYPlW4JsRqeurwBcisM3qgPnBciXwCtAYke02VG2hbzvAgIpguRB4FlgIPATcELT/K/DXEartPuC6sP/NBXV9HvgR8MtgPantlo17+guAFnff4e7dwCpgScg1RZa7PwW0n9G8BFgZLK8Erh3Xohiyrkhw9/3u/odg+QSwBZhONLbbULWFzuNOBquFwc2By4EfB+1hbbehaosEM6sH/hj4frBuJLndsjH0pwN7EtZbicg/+oADvzKz9Wa2POxihjDF3fdDPESA2pDrSfRpM3sxGP4Z9+GTM5nZLOBdxPcMI7XdzqgNIrDtgiGKF4CDwBri38qPuntv0CW0/1/PrM3dB7bbN4Lt9m0zKw6jNuD/AF8E+oP1SSS53bIx9G2Qtsj8xQYudff5wFXAzWZ2WdgFZZC7gLcBFwH7gX8KsxgzqwB+AnzO3Y+HWcuZBqktEtvO3fvc/SKgnvi38jmDdRvfqoI3PaM2M5sH3AZcALwbqAG+NN51mdk1wEF3X5/YPEjXUW23bAz9VmBGwno9sC+kWt7C3fcF9weBnxH/hx81B8ysDiC4PxhyPQC4+4Hgf8x+4HuEuO3MrJB4qP7Q3X8aNEdiuw1WW5S2XVDPUeA3xMfNJ5pZQfBQ6P+/JtS2OBguc3fvAu4lnO12KfARM9tFfLj6cuJ7/kltt2wM/eeAhuDIdhFwA7A65JoAMLNyM6scWAY+DGwc/lmhWA0sC5aXAY+EWMvrBgI18CeEtO2C8dS7gS3u/s8JD4W+3YaqLQrbzsxiZjYxWC4FPkT8mMOvgeuCbmFtt8Fqeznhj7gRHzMf9+3m7re5e727zyKeZ0+6+38i2e0W9hHpMTrKfTXxsxa2A18Ou56EumYTP5toA7ApCrUBDxD/ut9D/FvSTcTHC58AtgX3NRGp6wfAS8CLxAO2LqRt9j7iX6VfBF4IbldHZLsNVVvo2w54J/B8UMNG4H8G7bOBdUAL8DBQHKHangy220bg3wjO8AnrBnyQN87eSWq7aRoGEZEcko3DOyIiMgSFvohIDlHoi4jkEIW+iEgOUeiLiOQQhb6ISA5R6IuI5JD/D8gLmK+TVM9YAAAAAElFTkSuQmCC\n",
      "text/plain": [
       "<Figure size 432x288 with 1 Axes>"
      ]
     },
     "metadata": {
      "needs_background": "light"
     },
     "output_type": "display_data"
    }
   ],
   "source": [
    "subset_labs['subject_id'].reset_index(drop=True).plot(kind='line')"
   ]
  },
  {
   "cell_type": "code",
   "execution_count": 352,
=======
   "execution_count": 19,
>>>>>>> upstream/master
   "metadata": {},
   "outputs": [],
   "source": [
    "# print(lab_events_valid[lab_events_valid['subject_id'].isin(list(admissions_sample[admissions_sample['pos'] == 1].subject_id))].groupby('itemid')['subject_id'].nunique().sort_values(ascending = False).head(20).reset_index().rename(columns = {'index' : 'itemid'}))\n",
    "\n",
    "# # print(1191 / admissions_sample[admissions_sample['pos'] == 1].subject_id.nunique())\n",
    "# # print(1192 / admissions_sample[admissions_sample['pos'] == 1].subject_id.nunique())\n"
   ]
  },
  {
   "cell_type": "code",
<<<<<<< HEAD
   "execution_count": 353,
=======
   "execution_count": 20,
>>>>>>> upstream/master
   "metadata": {
    "scrolled": false
   },
   "outputs": [],
   "source": [
    "# print(lab_events_valid[lab_events_valid['subject_id'].isin(list(admissions_sample[admissions_sample['pos'] == 0].subject_id))].groupby('itemid')['subject_id'].nunique().sort_values(ascending = False).head(20).reset_index().rename(columns = {'index' : 'itemid'}))\n",
    "\n",
    "# # print(6726 / admissions_sample[admissions_sample['pos'] == 0].subject_id.nunique())\n",
    "# # print(6793 / admissions_sample[admissions_sample['pos'] == 0].subject_id.nunique())\n"
   ]
  },
  {
   "cell_type": "markdown",
   "metadata": {},
   "source": [
    "## Data Cleaning"
   ]
  },
  {
   "cell_type": "markdown",
   "metadata": {},
   "source": [
    "Make a separate table where we run some of the forest models on the Text data?"
   ]
  },
  {
   "cell_type": "markdown",
   "metadata": {},
   "source": [
    "Special updates for Urine sample tests"
   ]
  },
  {
   "cell_type": "code",
<<<<<<< HEAD
   "execution_count": 354,
=======
   "execution_count": 21,
>>>>>>> upstream/master
   "metadata": {},
   "outputs": [
    {
     "name": "stderr",
     "output_type": "stream",
     "text": [
      "/Users/brandonryu/opt/anaconda3/lib/python3.7/site-packages/pandas/core/indexing.py:965: SettingWithCopyWarning: \n",
      "A value is trying to be set on a copy of a slice from a DataFrame.\n",
      "Try using .loc[row_indexer,col_indexer] = value instead\n",
      "\n",
      "See the caveats in the documentation: https://pandas.pydata.org/pandas-docs/stable/user_guide/indexing.html#returning-a-view-versus-a-copy\n",
      "  self.obj[item] = s\n"
     ]
    }
   ],
   "source": [
    "# Other invalid value imputation\n",
    "# For now set them all to normal/most common value\n",
    "lab_events_sampled_sub.loc[(lab_events_sampled_sub['itemid'] == 51237) & (lab_events_sampled_sub['value'].isin([np.nan, 'ERROR', 'UNABLE TO REPORT'])), ['value', 'valuenum']] = 1.1\n",
    "lab_events_sampled_sub.loc[(lab_events_sampled_sub['itemid'] == 51237) & (lab_events_sampled_sub['value'].isin(['>21.8'])), ['value', 'valuenum']] = 22\n",
    "lab_events_sampled_sub.loc[(lab_events_sampled_sub['itemid'] == 51237) & (lab_events_sampled_sub['value'].isin(['>19.2'])), ['value', 'valuenum']] = 20\n",
    "\n",
    "lab_events_sampled_sub.loc[(lab_events_sampled_sub['itemid'] == 51275) &  (lab_events_sampled_sub['value'].isin(['>150', '>150.0'])), ['value', 'valuenum']] = 175\n",
    "\n",
    "# Should we just delete these?\n",
    "# For 5k patients there are 6 records here\n",
    "lab_events_sampled_sub.loc[(lab_events_sampled_sub['itemid'] == 51274) &  (lab_events_sampled_sub['value'].isin(['ERROR'])), ['value', 'valuenum']] = 11\n",
    "\n",
    "# Should we just delete these?\n",
    "# For 5k patients there are 1 records here\n",
    "lab_events_sampled_sub.loc[(lab_events_sampled_sub['itemid'] == 51275) &  (lab_events_sampled_sub['value'].isin(['UNABLE TO REPORT'])), ['value', 'valuenum']] = 31\n",
    "\n",
    "# Clumsy..\n",
    "lab_events_sampled_sub.loc[(lab_events_sampled_sub['itemid'] == 51275) &  (lab_events_sampled_sub['value'].isin(['34..3'])), ['value', 'valuenum']] = 34.3\n"
   ]
  },
  {
   "cell_type": "markdown",
   "metadata": {},
   "source": [
    "More Data Cleaning"
   ]
  },
  {
   "cell_type": "code",
<<<<<<< HEAD
   "execution_count": 355,
=======
   "execution_count": 22,
>>>>>>> upstream/master
   "metadata": {},
   "outputs": [
    {
     "name": "stdout",
     "output_type": "stream",
     "text": [
<<<<<<< HEAD
      "CPU times: user 3.84 s, sys: 116 ms, total: 3.96 s\n",
      "Wall time: 3.98 s\n"
=======
      "CPU times: user 4.59 s, sys: 218 ms, total: 4.81 s\n",
      "Wall time: 5.71 s\n"
>>>>>>> upstream/master
     ]
    }
   ],
   "source": [
    "%%time\n",
    "\n",
    "# Can probably make a helper function combining some of the below mapping\n",
    "\n",
    "# 51466\n",
    "lab_events_sampled_sub.loc[(lab_events_sampled_sub['itemid'] == 51466) & (lab_events_sampled_sub['value'].isin([np.nan])), ['value']] = lab_events_sampled_sub['comments']\n",
    "lab_events_sampled_sub.loc[(lab_events_sampled_sub['itemid'] == 51466) & (lab_events_sampled_sub['value'].isin(['NEG.  ', 'NEG', ' '])), ['value', 'valuenum']] = 0\n",
    "lab_events_sampled_sub.loc[(lab_events_sampled_sub['itemid'] == 51466) & (lab_events_sampled_sub['value'].isin(['TR', 'TR.  ', 'TR*.  '])), ['value', 'valuenum']] = 1\n",
    "lab_events_sampled_sub.loc[(lab_events_sampled_sub['itemid'] == 51466) & (lab_events_sampled_sub['value'].isin(['SM', 'SM .  ', 'SM*.  '])), ['value', 'valuenum']] = 2\n",
    "lab_events_sampled_sub.loc[(lab_events_sampled_sub['itemid'] == 51466) & (lab_events_sampled_sub['value'].isin(['MOD', 'MOD.  ', 'MOD*.  '])), ['value', 'valuenum']] = 3\n",
    "lab_events_sampled_sub.loc[(lab_events_sampled_sub['itemid'] == 51466) & (lab_events_sampled_sub['value'].isin(['LG', 'LG.  ', 'LG*.  ', 'LGE', 'LRG'])), ['value', 'valuenum']] = 4\n",
    "\n",
    "lab_events_sampled_sub.loc[(lab_events_sampled_sub['itemid'] == 51466) & (lab_events_sampled_sub['ref_range_lower'].isnull()), 'ref_range_lower'] = 0\n",
    "lab_events_sampled_sub.loc[(lab_events_sampled_sub['itemid'] == 51466) & (lab_events_sampled_sub['ref_range_upper'].isnull()), 'ref_range_upper'] = 0\n",
    "\n",
    "# 51514\n",
    "lab_events_sampled_sub.loc[(lab_events_sampled_sub['itemid'] == 51514) & (lab_events_sampled_sub['value'].isin([np.nan])), ['value']] = lab_events_sampled_sub['comments']\n",
    "lab_events_sampled_sub.loc[(lab_events_sampled_sub['itemid'] == 51514) & (lab_events_sampled_sub['value'].isin(['NEG.  ', 'NEG', 'NORMAL.  ', ' '])), ['value', 'valuenum']] = 0\n",
    "lab_events_sampled_sub.loc[(lab_events_sampled_sub['itemid'] == 51514) & (lab_events_sampled_sub['value'].isin(['>8'])), ['value', 'valuenum']] = 10\n",
    "lab_events_sampled_sub.loc[(lab_events_sampled_sub['itemid'] == 51514) & (lab_events_sampled_sub['value'].isin(['>12.  ', '>12*.  '])), ['value', 'valuenum']] = 15\n",
    "\n",
    "# 51464\n",
    "lab_events_sampled_sub.loc[(lab_events_sampled_sub['itemid'] == 51464) & (lab_events_sampled_sub['value'].isin([np.nan])), ['value']] = lab_events_sampled_sub['comments']\n",
    "lab_events_sampled_sub.loc[(lab_events_sampled_sub['itemid'] == 51464) & (lab_events_sampled_sub['value'].isin(['NEG.  ', 'NEG', ' '])), ['value', 'valuenum']] = 0\n",
    "lab_events_sampled_sub.loc[(lab_events_sampled_sub['itemid'] == 51464) & (lab_events_sampled_sub['value'].isin(['SM', 'SM .  ', 'SM*.  '])), ['value', 'valuenum']] = 1\n",
    "lab_events_sampled_sub.loc[(lab_events_sampled_sub['itemid'] == 51464) & (lab_events_sampled_sub['value'].isin(['MOD', 'MOD.  ', 'MOD*.  '])), ['value', 'valuenum']] = 2\n",
    "lab_events_sampled_sub.loc[(lab_events_sampled_sub['itemid'] == 51464) & (lab_events_sampled_sub['value'].isin(['LG', 'LG.  ', 'LG*.  ', 'LGE'])), ['value', 'valuenum']] = 3\n",
    "\n",
    "lab_events_sampled_sub.loc[(lab_events_sampled_sub['itemid'] == 51464) & (lab_events_sampled_sub['ref_range_lower'].isnull()), 'ref_range_lower'] = 0\n",
    "lab_events_sampled_sub.loc[(lab_events_sampled_sub['itemid'] == 51464) & (lab_events_sampled_sub['ref_range_upper'].isnull()), 'ref_range_upper'] = 0\n",
    "\n",
    "# 51487\n",
    "# Should Pos be marked abnormal?\n",
    "lab_events_sampled_sub.loc[(lab_events_sampled_sub['itemid'] == 51487) & (lab_events_sampled_sub['value'].isin([np.nan])), ['value']] = lab_events_sampled_sub['comments']\n",
    "lab_events_sampled_sub.loc[(lab_events_sampled_sub['itemid'] == 51487) & (lab_events_sampled_sub['value'].isin(['NEG.  ', 'NEG', ' '])), ['value', 'valuenum']] = 0\n",
    "lab_events_sampled_sub.loc[(lab_events_sampled_sub['itemid'] == 51487) & (lab_events_sampled_sub['value'].isin(['POS.  ', 'POS', 'POS*.  '])), ['value', 'valuenum']] = 1\n",
    "\n",
    "lab_events_sampled_sub.loc[(lab_events_sampled_sub['itemid'] == 51487) & (lab_events_sampled_sub['ref_range_lower'].isnull()), 'ref_range_lower'] = 0\n",
    "lab_events_sampled_sub.loc[(lab_events_sampled_sub['itemid'] == 51487) & (lab_events_sampled_sub['ref_range_upper'].isnull()), 'ref_range_upper'] = 0\n",
    "\n",
    "# 51492\n",
    "# Should Pos be marked abnormal?\n",
    "lab_events_sampled_sub.loc[(lab_events_sampled_sub['itemid'] == 51492) & (lab_events_sampled_sub['value'].isin([np.nan])), ['value']] = lab_events_sampled_sub['comments']\n",
    "lab_events_sampled_sub.loc[(lab_events_sampled_sub['itemid'] == 51492) & (lab_events_sampled_sub['value'].isin(['___'])), ['value', 'valuenum']] = np.nan\n",
    "lab_events_sampled_sub.loc[(lab_events_sampled_sub['itemid'] == 51492) & (lab_events_sampled_sub['value'].isin(['NEG.  ', 'NEG', ' '])), ['value', 'valuenum']] = 0\n",
    "lab_events_sampled_sub.loc[(lab_events_sampled_sub['itemid'] == 51492) & (lab_events_sampled_sub['value'].isin(['TR', 'TR.  ', 'TR*.  '])), ['value', 'valuenum']] = 10\n",
    "lab_events_sampled_sub.loc[(lab_events_sampled_sub['itemid'] == 51492) & (lab_events_sampled_sub['value'].str.contains('TR.')), ['value', 'valuenum']] = 10\n",
    "lab_events_sampled_sub.loc[(lab_events_sampled_sub['itemid'] == 51492) & (lab_events_sampled_sub['value'].isin(['>300'])), ['value', 'valuenum']] = 350\n",
    "lab_events_sampled_sub.loc[(lab_events_sampled_sub['itemid'] == 51492) & (lab_events_sampled_sub['value'].isin(['>600.  ', '>600*.  '])), ['value', 'valuenum']] = 700\n",
    "\n",
    "lab_events_sampled_sub.loc[(lab_events_sampled_sub['itemid'] == 51492) & (lab_events_sampled_sub['ref_range_lower'].isnull()), 'ref_range_lower'] = 0\n",
    "lab_events_sampled_sub.loc[(lab_events_sampled_sub['itemid'] == 51492) & (lab_events_sampled_sub['ref_range_upper'].isnull()), 'ref_range_upper'] = 0\n",
    "\n",
    "# 51486\n",
    "lab_events_sampled_sub.loc[(lab_events_sampled_sub['itemid'] == 51486) & (lab_events_sampled_sub['value'].isin([np.nan])), ['value']] = lab_events_sampled_sub['comments']\n",
    "lab_events_sampled_sub.loc[(lab_events_sampled_sub['itemid'] == 51486) & (lab_events_sampled_sub['value'].isin(['NEG.  ', 'NEG', ' ', 'N'])), ['value', 'valuenum']] = 0\n",
    "lab_events_sampled_sub.loc[(lab_events_sampled_sub['itemid'] == 51486) & (lab_events_sampled_sub['value'].isin(['TR', 'TR.  ', 'TR*.  '])), ['value', 'valuenum']] = 1\n",
    "lab_events_sampled_sub.loc[(lab_events_sampled_sub['itemid'] == 51486) & (lab_events_sampled_sub['value'].isin(['SM', 'SM .  ', 'SM*.  '])), ['value', 'valuenum']] = 2\n",
    "lab_events_sampled_sub.loc[(lab_events_sampled_sub['itemid'] == 51486) & (lab_events_sampled_sub['value'].isin(['MOD', 'MOD.  ', 'MOD*.  '])), ['value', 'valuenum']] = 3\n",
    "lab_events_sampled_sub.loc[(lab_events_sampled_sub['itemid'] == 51486) & (lab_events_sampled_sub['value'].isin(['LG', 'LG.  ', 'LG*.  ', 'LGE'])), ['value', 'valuenum']] = 4\n",
    "\n",
    "lab_events_sampled_sub.loc[(lab_events_sampled_sub['itemid'] == 51486) & (lab_events_sampled_sub['ref_range_lower'].isnull()), 'ref_range_lower'] = 0\n",
    "lab_events_sampled_sub.loc[(lab_events_sampled_sub['itemid'] == 51486) & (lab_events_sampled_sub['ref_range_upper'].isnull()), 'ref_range_upper'] = 0\n",
    "\n",
    "# 51506\n",
    "lab_events_sampled_sub.loc[(lab_events_sampled_sub['itemid'] == 51506) & (lab_events_sampled_sub['value'].isin([np.nan])), ['value']] = lab_events_sampled_sub['comments']\n",
    "lab_events_sampled_sub.loc[(lab_events_sampled_sub['itemid'] == 51506) & (lab_events_sampled_sub['value'].isin(['Clear.  ', 'CLEAR.  ', 'Clear', ' ', 'CLEAR'])), ['value', 'valuenum']] = 0\n",
    "lab_events_sampled_sub.loc[(lab_events_sampled_sub['itemid'] == 51506) & (lab_events_sampled_sub['value'].isin(['SlHazy'])), ['value', 'valuenum']] = 0.5\n",
    "lab_events_sampled_sub.loc[(lab_events_sampled_sub['itemid'] == 51506) & (lab_events_sampled_sub['value'].isin(['Hazy.  ', 'Hazy*.  ', 'Hazy', 'HAZY', 'HAZY*.  ', 'Slcldy', 'SLCLOUDY'])), ['value', 'valuenum']] = 1\n",
    "lab_events_sampled_sub.loc[(lab_events_sampled_sub['itemid'] == 51506) & (lab_events_sampled_sub['value'].isin(['Cloudy*.  ', 'Cloudy.  ', 'Cloudy', 'CLO', 'CLOUDY', 'CLOU', 'CLOUDY*.  '])), ['value', 'valuenum']] = 2\n",
    "\n",
    "lab_events_sampled_sub.loc[(lab_events_sampled_sub['itemid'] == 51506) & (lab_events_sampled_sub['ref_range_lower'].isnull()), 'ref_range_lower'] = 0\n",
    "lab_events_sampled_sub.loc[(lab_events_sampled_sub['itemid'] == 51506) & (lab_events_sampled_sub['ref_range_upper'].isnull()), 'ref_range_upper'] = 0\n"
   ]
  },
  {
   "cell_type": "markdown",
   "metadata": {},
   "source": [
    "Additional Data Cleaning"
   ]
  },
  {
   "cell_type": "code",
<<<<<<< HEAD
   "execution_count": 356,
=======
   "execution_count": 23,
>>>>>>> upstream/master
   "metadata": {},
   "outputs": [],
   "source": [
    "lab_events_sampled_sub.loc[(lab_events_sampled_sub['itemid'] == 51484) & (lab_events_sampled_sub['value'].isin([np.nan, ' ', 'TR', 'NEG'])), ['value', 'valuenum']] = 0\n",
    "lab_events_sampled_sub.loc[(lab_events_sampled_sub['itemid'] == 51478) & (lab_events_sampled_sub['value'].isin([np.nan, ' ', 'TR', 'NEG'])), ['value', 'valuenum']] = 0\n",
    "\n",
    "lab_events_sampled_sub.loc[(lab_events_sampled_sub['itemid'] == 51484) & (lab_events_sampled_sub['ref_range_lower'].isnull()), 'ref_range_lower'] = 0\n",
    "lab_events_sampled_sub.loc[(lab_events_sampled_sub['itemid'] == 51478) & (lab_events_sampled_sub['ref_range_lower'].isnull()), 'ref_range_lower'] = 0\n",
    "\n",
    "lab_events_sampled_sub.loc[(lab_events_sampled_sub['itemid'] == 51484) & (lab_events_sampled_sub['ref_range_upper'].isnull()), 'ref_range_upper'] = 0\n",
    "lab_events_sampled_sub.loc[(lab_events_sampled_sub['itemid'] == 51478) & (lab_events_sampled_sub['ref_range_upper'].isnull()), 'ref_range_upper'] = 0\n",
    "\n",
    "# What are good replacement values for these?\n",
    "lab_events_sampled_sub.loc[(lab_events_sampled_sub['itemid'] == 51484) & (lab_events_sampled_sub['value'].isin(['>80'])), ['value', 'valuenum']] = 120\n",
    "lab_events_sampled_sub.loc[(lab_events_sampled_sub['itemid'] == 51478) & (lab_events_sampled_sub['value'].isin(['>1000'])), ['value', 'valuenum']] = 1250\n",
    "\n",
    "lab_events_sampled_sub.loc[(lab_events_sampled_sub['itemid'] == 51498) & (lab_events_sampled_sub['value'].isin(['<1.005'])), ['value', 'valuenum']] = 1.000\n",
    "lab_events_sampled_sub.loc[(lab_events_sampled_sub['itemid'] == 51498) & (lab_events_sampled_sub['value'].isin(['<=1.005'])), ['value', 'valuenum']] = 1.000\n",
    "lab_events_sampled_sub.loc[(lab_events_sampled_sub['itemid'] == 51498) & (lab_events_sampled_sub['value'].isin(['>1.030', '.1.030'])), ['value', 'valuenum']] = 1.035\n",
    "lab_events_sampled_sub.loc[(lab_events_sampled_sub['itemid'] == 51498) & (lab_events_sampled_sub['value'].isin(['>1.035'])), ['value', 'valuenum']] = 1.040\n",
    "lab_events_sampled_sub.loc[(lab_events_sampled_sub['itemid'] == 51498) & (lab_events_sampled_sub['value'].isin(['>1.050'])), ['value', 'valuenum']] = 1.055\n",
    "lab_events_sampled_sub.loc[(lab_events_sampled_sub['itemid'] == 51498) & (lab_events_sampled_sub['comments'].isin(['>1.050*.'])), ['value', 'valuenum']] = 1.055\n",
    "lab_events_sampled_sub.loc[(lab_events_sampled_sub['itemid'] == 51498) & (lab_events_sampled_sub['value'].isin(['>=1.035'])), ['value', 'valuenum']] = 1.040\n",
    "lab_events_sampled_sub.loc[(lab_events_sampled_sub['itemid'] == 51498) & (lab_events_sampled_sub['value'].isin([' '])), ['value', 'valuenum']] = 1.015\n",
    "\n",
    "lab_events_sampled_sub.loc[(lab_events_sampled_sub['itemid'] == 51237) & (lab_events_sampled_sub['value'].isin(['>13.4'])), ['value', 'valuenum']] = 15\n",
    "\n",
    "lab_events_sampled_sub.loc[(lab_events_sampled_sub['itemid'] == 51491) & (lab_events_sampled_sub['value'].isin([' '])), ['value', 'valuenum']] = 6.0\n",
    "\n",
    "lab_events_sampled_sub.loc[(lab_events_sampled_sub['itemid'] == 51498) & (lab_events_sampled_sub['value'].isin(['>1.070'])), ['value', 'valuenum']] = 1.080\n",
    "\n",
    "lab_events_sampled_sub.loc[(lab_events_sampled_sub['itemid'] == 51275) & (lab_events_sampled_sub['value'].isin(['ERROR'])), ['value', 'valuenum']] = np.nan\n",
    "\n",
    "lab_events_sampled_sub.loc[(lab_events_sampled_sub['itemid'] == 51484) & (lab_events_sampled_sub['value'].astype(float) > 0), 'flag'] = 'abnormal'\n",
    "lab_events_sampled_sub.loc[(lab_events_sampled_sub['itemid'] == 51478) & (lab_events_sampled_sub['value'].astype(float) > 0), 'flag'] = 'abnormal'\n",
    "\n",
    "lab_events_sampled_sub.loc[(lab_events_sampled_sub['itemid'] == 51466) & (lab_events_sampled_sub['value'].astype(float) > 0), 'flag'] = 'abnormal'\n"
   ]
  },
  {
   "cell_type": "code",
<<<<<<< HEAD
   "execution_count": 357,
=======
   "execution_count": 24,
>>>>>>> upstream/master
   "metadata": {},
   "outputs": [
    {
     "data": {
      "text/html": [
       "<div>\n",
       "<style scoped>\n",
       "    .dataframe tbody tr th:only-of-type {\n",
       "        vertical-align: middle;\n",
       "    }\n",
       "\n",
       "    .dataframe tbody tr th {\n",
       "        vertical-align: top;\n",
       "    }\n",
       "\n",
       "    .dataframe thead th {\n",
       "        text-align: right;\n",
       "    }\n",
       "</style>\n",
       "<table border=\"1\" class=\"dataframe\">\n",
       "  <thead>\n",
       "    <tr style=\"text-align: right;\">\n",
       "      <th></th>\n",
       "      <th>labevent_id</th>\n",
       "      <th>subject_id</th>\n",
       "      <th>hadm_id</th>\n",
       "      <th>specimen_id</th>\n",
       "      <th>itemid</th>\n",
       "      <th>charttime</th>\n",
       "      <th>storetime</th>\n",
       "      <th>value</th>\n",
       "      <th>valuenum</th>\n",
       "      <th>valueuom</th>\n",
       "      <th>ref_range_lower</th>\n",
       "      <th>ref_range_upper</th>\n",
       "      <th>flag</th>\n",
       "      <th>priority</th>\n",
       "      <th>comments</th>\n",
       "    </tr>\n",
       "  </thead>\n",
       "  <tbody>\n",
       "  </tbody>\n",
       "</table>\n",
       "</div>"
      ],
      "text/plain": [
       "Empty DataFrame\n",
       "Columns: [labevent_id, subject_id, hadm_id, specimen_id, itemid, charttime, storetime, value, valuenum, valueuom, ref_range_lower, ref_range_upper, flag, priority, comments]\n",
       "Index: []"
      ]
     },
<<<<<<< HEAD
     "execution_count": 357,
=======
     "execution_count": 24,
>>>>>>> upstream/master
     "metadata": {},
     "output_type": "execute_result"
    }
   ],
   "source": [
    "# Check on differences between value and valuenum columns\n",
    "\n",
    "lab_events_sampled_sub.loc[((lab_events_sampled_sub['value'].astype(str) + str('.0')) != lab_events_sampled_sub['valuenum'].astype(str)) \n",
    "                           & ((lab_events_sampled_sub['value'].astype(str) + str('0')) != lab_events_sampled_sub['valuenum'].astype(str)) \n",
    "                           & ((lab_events_sampled_sub['value'].astype(str)) != lab_events_sampled_sub['valuenum'].astype(str)) \n",
    "                           & ((lab_events_sampled_sub['value'].astype(str)) != lab_events_sampled_sub['valuenum'].astype(str) + str('0')) \n",
    "                           & ((str('0') + lab_events_sampled_sub['value'].astype(str)) != lab_events_sampled_sub['valuenum'].astype(str))\n",
    "                           & ((lab_events_sampled_sub['value'].astype(str)) != round(lab_events_sampled_sub['valuenum'], 10).astype(str)), ]\n"
   ]
  },
  {
   "cell_type": "markdown",
   "metadata": {},
   "source": [
    "## Code to look into specific test values for cleaning"
   ]
  },
  {
   "cell_type": "code",
<<<<<<< HEAD
   "execution_count": 358,
=======
   "execution_count": null,
>>>>>>> upstream/master
   "metadata": {},
   "outputs": [],
   "source": [
    "# lab_events_sampled_sub[lab_events_sampled_sub['value'] == 'N']"
   ]
  },
  {
   "cell_type": "code",
<<<<<<< HEAD
   "execution_count": 359,
=======
   "execution_count": null,
>>>>>>> upstream/master
   "metadata": {},
   "outputs": [],
   "source": [
    "# # Used to investigate bad data\n",
    "# pd.set_option('display.max_colwidth', -1)\n",
    "# pd.set_option('display.max_rows', 200)\n",
    "\n",
    "# bad_id = 50920\n",
    "\n",
    "# # lab_events_sampled_sub[lab_events_sampled_sub['itemid'] == bad_id].value.value_counts().reset_index().sort_values(by = 'index')\n",
    "# # lab_events_sampled_sub[lab_events_sampled_sub['itemid'] == bad_id][['value', 'comments']].drop_duplicates()\n",
    "# lab_events_sampled_sub[lab_events_sampled_sub['itemid'] == bad_id][['flag', 'comments', 'value', 'valuenum', 'ref_range_lower', 'ref_range_upper']].drop_duplicates()\n",
    "# # lab_events_sampled_sub.loc[(lab_events_sampled_sub['itemid'] == bad_id) & (lab_events_sampled_sub['value'].isnull()), ][['value', 'valuenum', 'comments']].drop_duplicates()\n"
   ]
  },
  {
   "cell_type": "code",
<<<<<<< HEAD
   "execution_count": 360,
=======
   "execution_count": null,
>>>>>>> upstream/master
   "metadata": {},
   "outputs": [],
   "source": [
    "# pd.set_option('display.max_rows', 20)"
   ]
  },
  {
   "cell_type": "markdown",
   "metadata": {},
   "source": [
    "## Get Aggregate Test Values"
   ]
  },
  {
   "cell_type": "code",
<<<<<<< HEAD
   "execution_count": 361,
=======
   "execution_count": 25,
>>>>>>> upstream/master
   "metadata": {},
   "outputs": [
    {
     "name": "stdout",
     "output_type": "stream",
     "text": [
<<<<<<< HEAD
      "CPU times: user 340 ms, sys: 45.6 ms, total: 386 ms\n",
      "Wall time: 386 ms\n"
=======
      "CPU times: user 318 ms, sys: 77.2 ms, total: 395 ms\n",
      "Wall time: 444 ms\n"
>>>>>>> upstream/master
     ]
    }
   ],
   "source": [
    "%time lab_events_sampled_sub_grouped = lab_events_sampled_sub.groupby(['subject_id', 'hadm_id', 'itemid']).agg({'itemid' : ['count'], 'valuenum' : ['min', 'max', 'mean'], 'flag' : ['count'], 'ref_range_lower' : ['min'], 'ref_range_upper' : ['min']})\n",
    "# 'comments' : ['unique'], \n"
   ]
  },
  {
   "cell_type": "code",
<<<<<<< HEAD
   "execution_count": 362,
=======
   "execution_count": 26,
>>>>>>> upstream/master
   "metadata": {},
   "outputs": [],
   "source": [
    "lab_events_sampled_sub_grouped.reset_index(inplace = True)\n",
    "lab_events_sampled_sub_grouped.columns = ['subject_id', 'hadm_id', 'itemid', 'count', 'min', 'max', 'mean', 'abn_percent', 'range_min', 'range_max']\n",
    "# 'comments', \n"
   ]
  },
  {
   "cell_type": "code",
<<<<<<< HEAD
   "execution_count": 363,
=======
   "execution_count": 27,
>>>>>>> upstream/master
   "metadata": {},
   "outputs": [
    {
     "data": {
      "text/plain": [
       "min     1825\n",
       "max     1825\n",
       "mean    1825\n",
       "dtype: int64"
      ]
     },
<<<<<<< HEAD
     "execution_count": 363,
=======
     "execution_count": 27,
>>>>>>> upstream/master
     "metadata": {},
     "output_type": "execute_result"
    }
   ],
   "source": [
    "missing_vals = lab_events_sampled_sub_grouped.isnull().sum(axis = 0) \n",
    "missing_vals[missing_vals > 0].sort_values()"
   ]
  },
  {
   "cell_type": "code",
<<<<<<< HEAD
   "execution_count": 364,
=======
   "execution_count": 28,
>>>>>>> upstream/master
   "metadata": {},
   "outputs": [
    {
     "data": {
      "text/plain": [
       "51003    1494\n",
       "50911    318 \n",
       "51274    10  \n",
       "51006    1   \n",
       "51277    1   \n",
       "51265    1   \n",
       "Name: itemid, dtype: int64"
      ]
     },
<<<<<<< HEAD
     "execution_count": 364,
=======
     "execution_count": 28,
>>>>>>> upstream/master
     "metadata": {},
     "output_type": "execute_result"
    }
   ],
   "source": [
    "lab_events_sampled_sub_grouped.loc[lab_events_sampled_sub_grouped['min'].isnull(), ].itemid.value_counts()\n",
    "\n",
    "# lab_events_sampled_sub_grouped.loc[(lab_events_sampled_sub_grouped['min'].isnull()) & (lab_events_sampled_sub_grouped['itemid'] == 51003), ]#.subject_id.nunique()\n",
    "# # lab_events_sampled_sub_grouped.subject_id.nunique()\n",
    "\n",
    "# lab_events_sampled_sub_grouped.loc[lab_events_sampled_sub_grouped['subject_id'] == 10002264, ]\n"
   ]
  },
  {
   "cell_type": "code",
<<<<<<< HEAD
   "execution_count": 365,
=======
   "execution_count": 29,
>>>>>>> upstream/master
   "metadata": {},
   "outputs": [],
   "source": [
    "lab_events_sampled_sub_grouped['below_min'] = np.where(lab_events_sampled_sub_grouped['min'] < lab_events_sampled_sub_grouped['range_min'], lab_events_sampled_sub_grouped['range_min'] - lab_events_sampled_sub_grouped['min'], 0)\n",
    "lab_events_sampled_sub_grouped['above_max'] = np.where(lab_events_sampled_sub_grouped['max'] > lab_events_sampled_sub_grouped['range_max'], lab_events_sampled_sub_grouped['max'] - lab_events_sampled_sub_grouped['range_max'], 0)\n",
    "lab_events_sampled_sub_grouped['abn_percent'] = lab_events_sampled_sub_grouped['abn_percent'] / lab_events_sampled_sub_grouped['count']\n"
   ]
  },
  {
   "cell_type": "markdown",
   "metadata": {},
   "source": [
    "## Merge Admissions data so we can group by ethnicity/gender to grab average range min and max"
   ]
  },
  {
   "cell_type": "code",
<<<<<<< HEAD
   "execution_count": 366,
=======
   "execution_count": 30,
>>>>>>> upstream/master
   "metadata": {},
   "outputs": [
    {
     "data": {
      "text/plain": [
       "{(50868, 'AMERICAN INDIAN/ALASKA NATIVE', 'F'): (8.6, 19.4),\n",
       " (50868, 'AMERICAN INDIAN/ALASKA NATIVE', 'M'): (8.5, 19.5),\n",
       " (50868, 'ASIAN', 'F'): (8.352941176470589, 19.58823529411765),\n",
       " (50868, 'ASIAN', 'M'): (8.439024390243903, 19.528455284552845),\n",
       " (50868, 'BLACK/AFRICAN AMERICAN', 'F'): (8.36036036036036, 19.55855855855856),\n",
       " (50868, 'BLACK/AFRICAN AMERICAN', 'M'): (8.349869451697128,\n",
       "  19.514360313315926),\n",
       " (50868, 'HISPANIC/LATINO', 'F'): (8.340909090909092, 19.613636363636363),\n",
       " (50868, 'HISPANIC/LATINO', 'M'): (8.331550802139038, 19.647058823529413),\n",
       " (50868, 'OTHER', 'F'): (8.414141414141413, 19.484848484848484),\n",
       " (50868, 'OTHER', 'M'): (8.288288288288289, 19.63963963963964),\n",
       " (50868, 'UNKNOWN', 'F'): (8.40552995391705, 19.52073732718894),\n",
       " (50868, 'UNKNOWN', 'M'): (8.519572953736654, 19.423487544483987),\n",
       " (50868, 'WHITE', 'F'): (8.352985074626865, 19.573880597014924),\n",
       " (50868, 'WHITE', 'M'): (8.332845647403072, 19.596927578639356),\n",
       " (50882, 'AMERICAN INDIAN/ALASKA NATIVE', 'F'): (22.0, 32.0),\n",
       " (50882, 'AMERICAN INDIAN/ALASKA NATIVE', 'M'): (22.0, 32.0),\n",
       " (50882, 'ASIAN', 'F'): (22.0, 32.0),\n",
       " (50882, 'ASIAN', 'M'): (22.0, 32.0),\n",
       " (50882, 'BLACK/AFRICAN AMERICAN', 'F'): (22.0, 32.0),\n",
       " (50882, 'BLACK/AFRICAN AMERICAN', 'M'): (22.0, 32.0),\n",
       " (50882, 'HISPANIC/LATINO', 'F'): (22.0, 32.0),\n",
       " (50882, 'HISPANIC/LATINO', 'M'): (22.0, 32.0),\n",
       " (50882, 'OTHER', 'F'): (22.0, 32.0),\n",
       " (50882, 'OTHER', 'M'): (22.0, 32.0),\n",
       " (50882, 'UNKNOWN', 'F'): (22.0, 32.0),\n",
       " (50882, 'UNKNOWN', 'M'): (22.0, 32.0),\n",
       " (50882, 'WHITE', 'F'): (22.0, 32.0),\n",
       " (50882, 'WHITE', 'M'): (22.0, 32.0),\n",
       " (50893, 'AMERICAN INDIAN/ALASKA NATIVE', 'F'): (8.400000000000002, 10.29),\n",
       " (50893, 'AMERICAN INDIAN/ALASKA NATIVE', 'M'): (8.4, 10.3),\n",
       " (50893, 'ASIAN', 'F'): (8.4033613445378, 10.28739495798318),\n",
       " (50893, 'ASIAN', 'M'): (8.399999999999984, 10.286238532110076),\n",
       " (50893, 'BLACK/AFRICAN AMERICAN', 'F'): (8.400000000000057,\n",
       "  10.284251968503986),\n",
       " (50893, 'BLACK/AFRICAN AMERICAN', 'M'): (8.400000000000052,\n",
       "  10.280480480480511),\n",
       " (50893, 'HISPANIC/LATINO', 'F'): (8.400000000000004, 10.278666666666652),\n",
       " (50893, 'HISPANIC/LATINO', 'M'): (8.400000000000006, 10.282236842105243),\n",
       " (50893, 'OTHER', 'F'): (8.400000000000015, 10.28596491228068),\n",
       " (50893, 'OTHER', 'M'): (8.40209424083772, 10.289528795811497),\n",
       " (50893, 'UNKNOWN', 'F'): (8.400000000000029, 10.292307692307675),\n",
       " (50893, 'UNKNOWN', 'M'): (8.400000000000043, 10.29259259259261),\n",
       " (50893, 'WHITE', 'F'): (8.40016659725121, 10.28017492711343),\n",
       " (50893, 'WHITE', 'M'): (8.400326797385713, 10.280310457516071),\n",
       " (50902, 'AMERICAN INDIAN/ALASKA NATIVE', 'F'): (96.0, 108.0),\n",
       " (50902, 'AMERICAN INDIAN/ALASKA NATIVE', 'M'): (96.0, 108.0),\n",
       " (50902, 'ASIAN', 'F'): (96.0, 108.0),\n",
       " (50902, 'ASIAN', 'M'): (96.0, 108.0),\n",
       " (50902, 'BLACK/AFRICAN AMERICAN', 'F'): (96.0, 108.0),\n",
       " (50902, 'BLACK/AFRICAN AMERICAN', 'M'): (96.0, 108.0),\n",
       " (50902, 'HISPANIC/LATINO', 'F'): (96.0, 108.0),\n",
       " (50902, 'HISPANIC/LATINO', 'M'): (96.0, 108.0),\n",
       " (50902, 'OTHER', 'F'): (96.0, 108.0),\n",
       " (50902, 'OTHER', 'M'): (96.0, 108.0),\n",
       " (50902, 'UNKNOWN', 'F'): (96.0, 108.0),\n",
       " (50902, 'UNKNOWN', 'M'): (96.0, 108.0),\n",
       " (50902, 'WHITE', 'F'): (96.0, 108.0),\n",
       " (50902, 'WHITE', 'M'): (96.0, 108.0),\n",
       " (50911, 'AMERICAN INDIAN/ALASKA NATIVE', 'F'): (0.0, 10.0),\n",
       " (50911, 'ASIAN', 'F'): (0.0, 10.0),\n",
       " (50911, 'ASIAN', 'M'): (0.0, 10.0),\n",
       " (50911, 'BLACK/AFRICAN AMERICAN', 'F'): (0.0, 10.0),\n",
       " (50911, 'BLACK/AFRICAN AMERICAN', 'M'): (0.0, 10.0),\n",
       " (50911, 'HISPANIC/LATINO', 'F'): (0.0, 10.0),\n",
       " (50911, 'HISPANIC/LATINO', 'M'): (0.0, 10.0),\n",
       " (50911, 'OTHER', 'F'): (0.0, 10.0),\n",
       " (50911, 'OTHER', 'M'): (0.0, 10.0),\n",
       " (50911, 'UNKNOWN', 'F'): (0.0, 10.0),\n",
       " (50911, 'UNKNOWN', 'M'): (0.0, 10.0),\n",
       " (50911, 'WHITE', 'F'): (0.0, 10.0),\n",
       " (50911, 'WHITE', 'M'): (0.0, 10.0),\n",
       " (50912, 'AMERICAN INDIAN/ALASKA NATIVE', 'F'): (0.39999999999999997,\n",
       "  1.0999999999999999),\n",
       " (50912, 'AMERICAN INDIAN/ALASKA NATIVE', 'M'): (0.5, 1.2),\n",
       " (50912, 'ASIAN', 'F'): (0.399999999999999, 1.0999999999999972),\n",
       " (50912, 'ASIAN', 'M'): (0.5, 1.2),\n",
       " (50912, 'BLACK/AFRICAN AMERICAN', 'F'): (0.4000000000000034,\n",
       "  1.1000000000000094),\n",
       " (50912, 'BLACK/AFRICAN AMERICAN', 'M'): (0.5, 1.1999999999999924),\n",
       " (50912, 'HISPANIC/LATINO', 'F'): (0.39999999999999974, 1.0999999999999965),\n",
       " (50912, 'HISPANIC/LATINO', 'M'): (0.5, 1.1999999999999962),\n",
       " (50912, 'OTHER', 'F'): (0.40000000000000036, 1.0999999999999963),\n",
       " (50912, 'OTHER', 'M'): (0.5, 1.1999999999999948),\n",
       " (50912, 'UNKNOWN', 'F'): (0.4000000000000008, 1.099999999999996),\n",
       " (50912, 'UNKNOWN', 'M'): (0.5, 1.1999999999999937),\n",
       " (50912, 'WHITE', 'F'): (0.3999999999999918, 1.099999999999945),\n",
       " (50912, 'WHITE', 'M'): (0.4999641062455133, 1.1999641062454625),\n",
       " (50931, 'AMERICAN INDIAN/ALASKA NATIVE', 'F'): (70.0, 100.5),\n",
       " (50931, 'AMERICAN INDIAN/ALASKA NATIVE', 'M'): (70.0, 100.0),\n",
       " (50931, 'ASIAN', 'F'): (69.92647058823529, 100.7720588235294),\n",
       " (50931, 'ASIAN', 'M'): (70.0, 100.77235772357723),\n",
       " (50931, 'BLACK/AFRICAN AMERICAN', 'F'): (70.0, 100.88169642857143),\n",
       " (50931, 'BLACK/AFRICAN AMERICAN', 'M'): (70.0, 101.0443864229765),\n",
       " (50931, 'HISPANIC/LATINO', 'F'): (69.94252873563218, 101.0632183908046),\n",
       " (50931, 'HISPANIC/LATINO', 'M'): (69.94594594594595, 100.97297297297297),\n",
       " (50931, 'OTHER', 'F'): (70.0, 100.68181818181819),\n",
       " (50931, 'OTHER', 'M'): (69.95475113122171, 100.76923076923077),\n",
       " (50931, 'UNKNOWN', 'F'): (70.0, 100.4147465437788),\n",
       " (50931, 'UNKNOWN', 'M'): (70.0, 100.37366548042705),\n",
       " (50931, 'WHITE', 'F'): (69.9925456578457, 101.05665300037272),\n",
       " (50931, 'WHITE', 'M'): (69.99633162142334, 101.06199559794571),\n",
       " (50960, 'AMERICAN INDIAN/ALASKA NATIVE', 'F'): (1.5999999999999999,\n",
       "  2.6000000000000005),\n",
       " (50960, 'AMERICAN INDIAN/ALASKA NATIVE', 'M'): (1.6, 2.6),\n",
       " (50960, 'ASIAN', 'F'): (1.5983050847457594, 2.593220338983051),\n",
       " (50960, 'ASIAN', 'M'): (1.5973684210526282, 2.589473684210526),\n",
       " (50960, 'BLACK/AFRICAN AMERICAN', 'F'): (1.5984455958549335,\n",
       "  2.593782383419705),\n",
       " (50960, 'BLACK/AFRICAN AMERICAN', 'M'): (1.5988023952095907,\n",
       "  2.5952095808383384),\n",
       " (50960, 'HISPANIC/LATINO', 'F'): (1.598684210526312, 2.5947368421052683),\n",
       " (50960, 'HISPANIC/LATINO', 'M'): (1.5987096774193508, 2.5948387096774246),\n",
       " (50960, 'OTHER', 'F'): (1.59942528735632, 2.597701149425295),\n",
       " (50960, 'OTHER', 'M'): (1.5990099009901004, 2.5960396039604055),\n",
       " (50960, 'UNKNOWN', 'F'): (1.5995169082125624, 2.598067632850251),\n",
       " (50960, 'UNKNOWN', 'M'): (1.5992700729927078, 2.597080291970816),\n",
       " (50960, 'WHITE', 'F'): (1.5991361579596253, 2.5965446318388343),\n",
       " (50960, 'WHITE', 'M'): (1.599289099526003, 2.5971563981043615),\n",
       " (50970, 'AMERICAN INDIAN/ALASKA NATIVE', 'F'): (2.6999999999999997, 4.5),\n",
       " (50970, 'AMERICAN INDIAN/ALASKA NATIVE', 'M'): (2.7, 4.5),\n",
       " (50970, 'ASIAN', 'F'): (2.699999999999994, 4.5),\n",
       " (50970, 'ASIAN', 'M'): (2.6999999999999944, 4.5),\n",
       " (50970, 'BLACK/AFRICAN AMERICAN', 'F'): (2.7000000000000184, 4.5),\n",
       " (50970, 'BLACK/AFRICAN AMERICAN', 'M'): (2.700000000000015, 4.5),\n",
       " (50970, 'HISPANIC/LATINO', 'F'): (2.699999999999993, 4.5),\n",
       " (50970, 'HISPANIC/LATINO', 'M'): (2.6999999999999926, 4.5),\n",
       " (50970, 'OTHER', 'F'): (2.699999999999992, 4.5),\n",
       " (50970, 'OTHER', 'M'): (2.6999999999999917, 4.5),\n",
       " (50970, 'UNKNOWN', 'F'): (2.6999999999999966, 4.5),\n",
       " (50970, 'UNKNOWN', 'M'): (2.7000000000000077, 4.5),\n",
       " (50970, 'WHITE', 'F'): (2.6999999999998865, 4.5),\n",
       " (50970, 'WHITE', 'M'): (2.699999999999885, 4.5),\n",
       " (50971, 'AMERICAN INDIAN/ALASKA NATIVE', 'F'): (3.34, 5.16),\n",
       " (50971, 'AMERICAN INDIAN/ALASKA NATIVE', 'M'): (3.3, 5.1),\n",
       " (50971, 'ASIAN', 'F'): (3.3294117647058887, 5.144117647058833),\n",
       " (50971, 'ASIAN', 'M'): (3.331746031746038, 5.147619047619056),\n",
       " (50971, 'BLACK/AFRICAN AMERICAN', 'F'): (3.3290178571428335,\n",
       "  5.143526785714253),\n",
       " (50971, 'BLACK/AFRICAN AMERICAN', 'M'): (3.329242819843321,\n",
       "  5.143864229764988),\n",
       " (50971, 'HISPANIC/LATINO', 'F'): (3.3284090909090924, 5.142613636363648),\n",
       " (50971, 'HISPANIC/LATINO', 'M'): (3.3245989304812817, 5.1368983957219365),\n",
       " (50971, 'OTHER', 'F'): (3.332160804020097, 5.148241206030162),\n",
       " (50971, 'OTHER', 'M'): (3.323893805309726, 5.135840707964604),\n",
       " (50971, 'UNKNOWN', 'F'): (3.333027522935774, 5.149541284403678),\n",
       " (50971, 'UNKNOWN', 'M'): (3.340569395017781, 5.160854092526684),\n",
       " (50971, 'WHITE', 'F'): (3.3274466519500048, 5.141169977925111),\n",
       " (50971, 'WHITE', 'M'): (3.3263214670981944, 5.139482200647429),\n",
       " (50983, 'AMERICAN INDIAN/ALASKA NATIVE', 'F'): (133.6, 145.6),\n",
       " (50983, 'AMERICAN INDIAN/ALASKA NATIVE', 'M'): (133.5, 145.5),\n",
       " (50983, 'ASIAN', 'F'): (133.35294117647058, 145.35294117647058),\n",
       " (50983, 'ASIAN', 'M'): (133.432, 145.432),\n",
       " (50983, 'BLACK/AFRICAN AMERICAN', 'F'): (133.3579418344519,\n",
       "  145.3579418344519),\n",
       " (50983, 'BLACK/AFRICAN AMERICAN', 'M'): (133.34986945169712,\n",
       "  145.34986945169712),\n",
       " (50983, 'HISPANIC/LATINO', 'F'): (133.3409090909091, 145.3409090909091),\n",
       " (50983, 'HISPANIC/LATINO', 'M'): (133.33155080213905, 145.33155080213905),\n",
       " (50983, 'OTHER', 'F'): (133.41206030150755, 145.41206030150755),\n",
       " (50983, 'OTHER', 'M'): (133.28444444444443, 145.28444444444443),\n",
       " (50983, 'UNKNOWN', 'F'): (133.40552995391704, 145.40552995391704),\n",
       " (50983, 'UNKNOWN', 'M'): (133.51957295373666, 145.51957295373666),\n",
       " (50983, 'WHITE', 'F'): (133.35111111111112, 145.35111111111112),\n",
       " (50983, 'WHITE', 'M'): (133.33055454874955, 145.33055454874955),\n",
       " (51003, 'AMERICAN INDIAN/ALASKA NATIVE', 'F'): (0.0, 0.01),\n",
       " (51003, 'ASIAN', 'F'): (0.0, 0.010000000000000004),\n",
       " (51003, 'ASIAN', 'M'): (0.0, 0.010000000000000005),\n",
       " (51003, 'BLACK/AFRICAN AMERICAN', 'F'): (0.0, 0.010000000000000007),\n",
       " (51003, 'BLACK/AFRICAN AMERICAN', 'M'): (0.0, 0.010000000000000007),\n",
       " (51003, 'HISPANIC/LATINO', 'F'): (0.0, 0.010000000000000005),\n",
       " (51003, 'HISPANIC/LATINO', 'M'): (0.0, 0.010000000000000005),\n",
       " (51003, 'OTHER', 'F'): (0.0, 0.010000000000000005),\n",
       " (51003, 'OTHER', 'M'): (0.0, 0.010000000000000005),\n",
       " (51003, 'UNKNOWN', 'F'): (0.0, 0.010000000000000007),\n",
       " (51003, 'UNKNOWN', 'M'): (0.0, 0.010000000000000007),\n",
       " (51003, 'WHITE', 'F'): (0.0, 0.009999999999999842),\n",
       " (51003, 'WHITE', 'M'): (0.0, 0.009999999999999835),\n",
       " (51006, 'AMERICAN INDIAN/ALASKA NATIVE', 'F'): (6.0, 20.0),\n",
       " (51006, 'AMERICAN INDIAN/ALASKA NATIVE', 'M'): (6.0, 20.0),\n",
       " (51006, 'ASIAN', 'F'): (6.0, 20.0),\n",
       " (51006, 'ASIAN', 'M'): (6.0, 20.0),\n",
       " (51006, 'BLACK/AFRICAN AMERICAN', 'F'): (6.0, 20.0),\n",
       " (51006, 'BLACK/AFRICAN AMERICAN', 'M'): (6.0, 20.0),\n",
       " (51006, 'HISPANIC/LATINO', 'F'): (6.0, 20.0),\n",
       " (51006, 'HISPANIC/LATINO', 'M'): (6.0, 20.0),\n",
       " (51006, 'OTHER', 'F'): (6.0, 20.0),\n",
       " (51006, 'OTHER', 'M'): (6.0, 20.0),\n",
       " (51006, 'UNKNOWN', 'F'): (6.0, 20.0),\n",
       " (51006, 'UNKNOWN', 'M'): (6.0, 20.0),\n",
       " (51006, 'WHITE', 'F'): (6.0, 20.0),\n",
       " (51006, 'WHITE', 'M'): (6.0, 20.0),\n",
       " (51221, 'AMERICAN INDIAN/ALASKA NATIVE', 'F'): (35.23076923076923,\n",
       "  46.84615384615385),\n",
       " (51221, 'AMERICAN INDIAN/ALASKA NATIVE', 'M'): (40.0, 51.4),\n",
       " (51221, 'ASIAN', 'F'): (35.29608938547486, 46.944134078212294),\n",
       " (51221, 'ASIAN', 'M'): (40.0, 51.56),\n",
       " (51221, 'BLACK/AFRICAN AMERICAN', 'F'): (35.332179930795846,\n",
       "  46.99826989619377),\n",
       " (51221, 'BLACK/AFRICAN AMERICAN', 'M'): (40.0, 51.677083333333336),\n",
       " (51221, 'HISPANIC/LATINO', 'F'): (35.40092165898618, 47.10138248847926),\n",
       " (51221, 'HISPANIC/LATINO', 'M'): (40.0, 51.68648648648649),\n",
       " (51221, 'OTHER', 'F'): (35.33609958506224, 47.004149377593365),\n",
       " (51221, 'OTHER', 'M'): (40.0, 51.663716814159294),\n",
       " (51221, 'UNKNOWN', 'F'): (35.059322033898304, 46.58898305084746),\n",
       " (51221, 'UNKNOWN', 'M'): (40.0, 51.46503496503497),\n",
       " (51221, 'WHITE', 'F'): (35.30094466936572, 46.95141700404859),\n",
       " (51221, 'WHITE', 'M'): (39.998568360773085, 51.656764495347176),\n",
       " (51222, 'AMERICAN INDIAN/ALASKA NATIVE', 'F'): (11.666666666666666, 15.875),\n",
       " (51222, 'AMERICAN INDIAN/ALASKA NATIVE', 'M'): (13.819999999999999, 17.7),\n",
       " (51222, 'ASIAN', 'F'): (11.709090909090921, 15.89090909090909),\n",
       " (51222, 'ASIAN', 'M'): (13.868595041322326, 17.78099173553719),\n",
       " (51222, 'BLACK/AFRICAN AMERICAN', 'F'): (11.72161172161168,\n",
       "  15.89560439560437),\n",
       " (51222, 'BLACK/AFRICAN AMERICAN', 'M'): (13.903124999999973,\n",
       "  17.838541666666668),\n",
       " (51222, 'HISPANIC/LATINO', 'F'): (11.757213930348257, 15.908955223880582),\n",
       " (51222, 'HISPANIC/LATINO', 'M'): (13.905434782608692, 17.842391304347824),\n",
       " (51222, 'OTHER', 'F'): (11.733333333333324, 15.899999999999979),\n",
       " (51222, 'OTHER', 'M'): (13.896832579185512, 17.828054298642535),\n",
       " (51222, 'UNKNOWN', 'F'): (11.61739130434781, 15.8565217391304),\n",
       " (51222, 'UNKNOWN', 'M'): (13.838947368421016, 17.731578947368423),\n",
       " (51222, 'WHITE', 'F'): (11.717728055077586, 15.894148020653867),\n",
       " (51222, 'WHITE', 'M'): (13.89514598540147, 17.8257299270073),\n",
       " (51248, 'AMERICAN INDIAN/ALASKA NATIVE', 'F'): (26.583333333333332, 32.0),\n",
       " (51248, 'AMERICAN INDIAN/ALASKA NATIVE', 'M'): (26.4, 32.0),\n",
       " (51248, 'ASIAN', 'F'): (26.636363636363637, 32.0),\n",
       " (51248, 'ASIAN', 'M'): (26.56198347107438, 32.0),\n",
       " (51248, 'BLACK/AFRICAN AMERICAN', 'F'): (26.652014652014653, 32.0),\n",
       " (51248, 'BLACK/AFRICAN AMERICAN', 'M'): (26.677083333333332, 32.0),\n",
       " (51248, 'HISPANIC/LATINO', 'F'): (26.696517412935325, 32.0),\n",
       " (51248, 'HISPANIC/LATINO', 'M'): (26.684782608695652, 32.0),\n",
       " (51248, 'OTHER', 'F'): (26.66949152542373, 32.0),\n",
       " (51248, 'OTHER', 'M'): (26.65610859728507, 32.0),\n",
       " (51248, 'UNKNOWN', 'F'): (26.52173913043478, 32.0),\n",
       " (51248, 'UNKNOWN', 'M'): (26.461267605633804, 32.0),\n",
       " (51248, 'WHITE', 'F'): (26.64760592490527, 32.0),\n",
       " (51248, 'WHITE', 'M'): (26.652904640116915, 32.0),\n",
       " (51249, 'AMERICAN INDIAN/ALASKA NATIVE', 'F'): (31.416666666666668,\n",
       "  35.833333333333336),\n",
       " (51249, 'AMERICAN INDIAN/ALASKA NATIVE', 'M'): (31.6, 36.2),\n",
       " (51249, 'ASIAN', 'F'): (31.35757575757576, 35.71515151515152),\n",
       " (51249, 'ASIAN', 'M'): (31.43801652892562, 35.87603305785124),\n",
       " (51249, 'BLACK/AFRICAN AMERICAN', 'F'): (31.347985347985347,\n",
       "  35.69597069597069),\n",
       " (51249, 'BLACK/AFRICAN AMERICAN', 'M'): (31.322916666666668,\n",
       "  35.645833333333336),\n",
       " (51249, 'HISPANIC/LATINO', 'F'): (31.303482587064675, 35.60696517412935),\n",
       " (51249, 'HISPANIC/LATINO', 'M'): (31.315217391304348, 35.630434782608695),\n",
       " (51249, 'OTHER', 'F'): (31.33050847457627, 35.66101694915254),\n",
       " (51249, 'OTHER', 'M'): (31.34389140271493, 35.68778280542986),\n",
       " (51249, 'UNKNOWN', 'F'): (31.469565217391306, 35.93913043478261),\n",
       " (51249, 'UNKNOWN', 'M'): (31.535211267605632, 36.070422535211264),\n",
       " (51249, 'WHITE', 'F'): (31.35032724767482, 35.70065449534964),\n",
       " (51249, 'WHITE', 'M'): (31.345268542199488, 35.690537084398976),\n",
       " (51250, 'AMERICAN INDIAN/ALASKA NATIVE', 'F'): (82.0, 98.0),\n",
       " (51250, 'AMERICAN INDIAN/ALASKA NATIVE', 'M'): (82.0, 98.0),\n",
       " (51250, 'ASIAN', 'F'): (82.0, 98.0),\n",
       " (51250, 'ASIAN', 'M'): (82.0, 98.0),\n",
       " (51250, 'BLACK/AFRICAN AMERICAN', 'F'): (82.0, 98.0),\n",
       " (51250, 'BLACK/AFRICAN AMERICAN', 'M'): (82.0, 98.0),\n",
       " (51250, 'HISPANIC/LATINO', 'F'): (82.0, 98.0),\n",
       " (51250, 'HISPANIC/LATINO', 'M'): (82.0, 98.0),\n",
       " (51250, 'OTHER', 'F'): (82.0, 98.0),\n",
       " (51250, 'OTHER', 'M'): (82.0, 98.0),\n",
       " (51250, 'UNKNOWN', 'F'): (82.0, 98.0),\n",
       " (51250, 'UNKNOWN', 'M'): (82.0, 98.0),\n",
       " (51250, 'WHITE', 'F'): (82.0, 98.0),\n",
       " (51250, 'WHITE', 'M'): (82.0, 98.0),\n",
       " (51265, 'AMERICAN INDIAN/ALASKA NATIVE', 'F'): (150.0, 423.3333333333333),\n",
       " (51265, 'AMERICAN INDIAN/ALASKA NATIVE', 'M'): (150.0, 416.0),\n",
       " (51265, 'ASIAN', 'F'): (150.0, 425.45454545454544),\n",
       " (51265, 'ASIAN', 'M'): (150.0, 422.4390243902439),\n",
       " (51265, 'BLACK/AFRICAN AMERICAN', 'F'): (150.0, 426.13138686131384),\n",
       " (51265, 'BLACK/AFRICAN AMERICAN', 'M'): (150.0, 427.0833333333333),\n",
       " (51265, 'HISPANIC/LATINO', 'F'): (150.0, 427.8606965174129),\n",
       " (51265, 'HISPANIC/LATINO', 'M'): (150.0, 427.39130434782606),\n",
       " (51265, 'OTHER', 'F'): (150.0, 426.77966101694915),\n",
       " (51265, 'OTHER', 'M'): (150.0, 426.42857142857144),\n",
       " (51265, 'UNKNOWN', 'F'): (150.0, 420.95238095238096),\n",
       " (51265, 'UNKNOWN', 'M'): (150.0, 418.4507042253521),\n",
       " (51265, 'WHITE', 'F'): (150.0, 425.94594594594594),\n",
       " (51265, 'WHITE', 'M'): (150.0, 426.3017644940583),\n",
       " (51274, 'AMERICAN INDIAN/ALASKA NATIVE', 'F'): (9.685714285714285,\n",
       "  12.757142857142858),\n",
       " (51274, 'AMERICAN INDIAN/ALASKA NATIVE', 'M'): (9.4, 12.5),\n",
       " (51274, 'ASIAN', 'F'): (9.763636363636348, 12.827272727272728),\n",
       " (51274, 'ASIAN', 'M'): (9.716455696202518, 12.784810126582272),\n",
       " (51274, 'BLACK/AFRICAN AMERICAN', 'F'): (9.764705882352988,\n",
       "  12.828235294117668),\n",
       " (51274, 'BLACK/AFRICAN AMERICAN', 'M'): (9.733333333333377,\n",
       "  12.800000000000018),\n",
       " (51274, 'HISPANIC/LATINO', 'F'): (9.79090909090908, 12.851818181818189),\n",
       " (51274, 'HISPANIC/LATINO', 'M'): (9.730578512396692, 12.797520661157032),\n",
       " (51274, 'OTHER', 'F'): (9.668292682926827, 12.741463414634154),\n",
       " (51274, 'OTHER', 'M'): (9.629166666666679, 12.706250000000011),\n",
       " (51274, 'UNKNOWN', 'F'): (9.585185185185216, 12.666666666666677),\n",
       " (51274, 'UNKNOWN', 'M'): (9.589300411522675, 12.670370370370382),\n",
       " (51274, 'WHITE', 'F'): (9.766269165246843, 12.829642248722383),\n",
       " (51274, 'WHITE', 'M'): (9.770951417004051, 12.833856275303782),\n",
       " (51277, 'AMERICAN INDIAN/ALASKA NATIVE', 'F'): (10.5, 15.5),\n",
       " (51277, 'AMERICAN INDIAN/ALASKA NATIVE', 'M'): (10.5, 15.5),\n",
       " (51277, 'ASIAN', 'F'): (10.5, 15.5),\n",
       " (51277, 'ASIAN', 'M'): (10.5, 15.5),\n",
       " (51277, 'BLACK/AFRICAN AMERICAN', 'F'): (10.5, 15.5),\n",
       " (51277, 'BLACK/AFRICAN AMERICAN', 'M'): (10.5, 15.5),\n",
       " (51277, 'HISPANIC/LATINO', 'F'): (10.5, 15.5),\n",
       " (51277, 'HISPANIC/LATINO', 'M'): (10.5, 15.5),\n",
       " (51277, 'OTHER', 'F'): (10.5, 15.5),\n",
       " (51277, 'OTHER', 'M'): (10.5, 15.5),\n",
       " (51277, 'UNKNOWN', 'F'): (10.5, 15.5),\n",
       " (51277, 'UNKNOWN', 'M'): (10.5, 15.5),\n",
       " (51277, 'WHITE', 'F'): (10.5, 15.5),\n",
       " (51277, 'WHITE', 'M'): (10.5, 15.5),\n",
       " (51279, 'AMERICAN INDIAN/ALASKA NATIVE', 'F'): (4.075, 5.316666666666666),\n",
       " (51279, 'AMERICAN INDIAN/ALASKA NATIVE', 'M'): (4.6, 6.139999999999999),\n",
       " (51279, 'ASIAN', 'F'): (4.090909090909089, 5.327272727272724),\n",
       " (51279, 'ASIAN', 'M'): (4.60000000000001, 6.156198347107448),\n",
       " (51279, 'BLACK/AFRICAN AMERICAN', 'F'): (4.09560439560442, 5.330402930402953),\n",
       " (51279, 'BLACK/AFRICAN AMERICAN', 'M'): (4.599999999999971, 6.16770833333332),\n",
       " (51279, 'HISPANIC/LATINO', 'F'): (4.108955223880601, 5.339303482587064),\n",
       " (51279, 'HISPANIC/LATINO', 'M'): (4.600000000000015, 6.168478260869581),\n",
       " (51279, 'OTHER', 'F'): (4.100847457627125, 5.333898305084755),\n",
       " (51279, 'OTHER', 'M'): (4.600000000000016, 6.165610859728524),\n",
       " (51279, 'UNKNOWN', 'F'): (4.056521739130435, 5.304347826086965),\n",
       " (51279, 'UNKNOWN', 'M'): (4.599999999999993, 6.146126760563379),\n",
       " (51279, 'WHITE', 'F'): (4.0942817774715925, 5.329521184980989),\n",
       " (51279, 'WHITE', 'M'): (4.599853854585537, 6.16499817318259),\n",
       " (51301, 'AMERICAN INDIAN/ALASKA NATIVE', 'F'): (4.0, 10.583333333333334),\n",
       " (51301, 'AMERICAN INDIAN/ALASKA NATIVE', 'M'): (4.0, 10.4),\n",
       " (51301, 'ASIAN', 'F'): (4.0, 10.636363636363637),\n",
       " (51301, 'ASIAN', 'M'): (4.0, 10.561983471074381),\n",
       " (51301, 'BLACK/AFRICAN AMERICAN', 'F'): (4.0, 10.652014652014651),\n",
       " (51301, 'BLACK/AFRICAN AMERICAN', 'M'): (4.0, 10.677083333333334),\n",
       " (51301, 'HISPANIC/LATINO', 'F'): (4.0, 10.696517412935323),\n",
       " (51301, 'HISPANIC/LATINO', 'M'): (4.0, 10.684782608695652),\n",
       " (51301, 'OTHER', 'F'): (4.0, 10.669491525423728),\n",
       " (51301, 'OTHER', 'M'): (4.0, 10.656108597285067),\n",
       " (51301, 'UNKNOWN', 'F'): (4.0, 10.521739130434783),\n",
       " (51301, 'UNKNOWN', 'M'): (4.0, 10.461267605633802),\n",
       " (51301, 'WHITE', 'F'): (4.0, 10.647727272727273),\n",
       " (51301, 'WHITE', 'M'): (4.0, 10.653537563822027),\n",
       " (51464, 'AMERICAN INDIAN/ALASKA NATIVE', 'F'): (0.0, 0.0),\n",
       " (51464, 'AMERICAN INDIAN/ALASKA NATIVE', 'M'): (0.0, 0.0),\n",
       " (51464, 'ASIAN', 'F'): (0.0, 0.0),\n",
       " (51464, 'ASIAN', 'M'): (0.0, 0.0),\n",
       " (51464, 'BLACK/AFRICAN AMERICAN', 'F'): (0.0, 0.0),\n",
       " (51464, 'BLACK/AFRICAN AMERICAN', 'M'): (0.0, 0.0),\n",
       " (51464, 'HISPANIC/LATINO', 'F'): (0.0, 0.0),\n",
       " (51464, 'HISPANIC/LATINO', 'M'): (0.0, 0.0),\n",
       " (51464, 'OTHER', 'F'): (0.0, 0.0),\n",
       " (51464, 'OTHER', 'M'): (0.0, 0.0),\n",
       " (51464, 'UNKNOWN', 'F'): (0.0, 0.0),\n",
       " (51464, 'UNKNOWN', 'M'): (0.0, 0.0),\n",
       " (51464, 'WHITE', 'F'): (0.0, 0.0),\n",
       " (51464, 'WHITE', 'M'): (0.0, 0.0),\n",
       " (50911, 'AMERICAN INDIAN/ALASKA NATIVE', 'M'): (0.0, 10.0),\n",
       " (51003, 'AMERICAN INDIAN/ALASKA NATIVE', 'M'): (0.0, 0.01)}"
      ]
     },
<<<<<<< HEAD
     "execution_count": 366,
=======
     "execution_count": 30,
>>>>>>> upstream/master
     "metadata": {},
     "output_type": "execute_result"
    }
   ],
   "source": [
    "lab_adm = lab_events_sampled_sub_grouped.merge(admissions_sample, left_on = 'hadm_id', right_on = 'hadm_id')\n",
    "\n",
    "lab_range_min_max_eg = lab_adm.groupby(['itemid', 'ethnicity', 'gender']).agg({'range_min' : 'mean', 'range_max' : 'mean'})\n",
    "lab_range_min_max_eg.reset_index(inplace = True)\n",
    "\n",
    "lab_range_eg_dic = dict(zip(zip(lab_range_min_max_eg['itemid'], lab_range_min_max_eg['ethnicity'], lab_range_min_max_eg['gender']), zip(lab_range_min_max_eg['range_min'], lab_range_min_max_eg['range_max'])))\n",
    "\n",
    "# # These labs have missing data for the entire ethnicity/gender combo\n",
    "lab_range_eg_dic[(50911, 'AMERICAN INDIAN/ALASKA NATIVE', 'M')] = (0.0, 10.0)\n",
    "lab_range_eg_dic[(51003, 'AMERICAN INDIAN/ALASKA NATIVE', 'M')] = (0.0, 0.01)\n",
    "\n",
    "lab_range_eg_dic\n"
   ]
  },
  {
   "cell_type": "code",
<<<<<<< HEAD
   "execution_count": 367,
=======
   "execution_count": null,
>>>>>>> upstream/master
   "metadata": {
    "scrolled": true
   },
   "outputs": [],
   "source": [
    "# # Aggregate without splitting by Ethnicity/Gender\n",
    "\n",
    "# lab_range_min_max = lab_events_sampled_sub_grouped.groupby('itemid').agg({'range_min' : 'mean', 'range_max' : 'mean'})\n",
    "# lab_range_min_max.reset_index(inplace = True)\n",
    "\n",
    "# lab_range_dic = dict(zip(lab_range_min_max['itemid'], zip(lab_range_min_max['range_min'], lab_range_min_max['range_max'])))\n",
    "# lab_range_dic\n"
   ]
  },
  {
   "cell_type": "markdown",
   "metadata": {},
   "source": [
    "Pivot the table so we have feature columns related to test results"
   ]
  },
  {
   "cell_type": "code",
<<<<<<< HEAD
   "execution_count": 368,
=======
   "execution_count": 31,
>>>>>>> upstream/master
   "metadata": {},
   "outputs": [],
   "source": [
    "lab_events_sampled_sub_grouped['new_index'] = list(zip(lab_events_sampled_sub_grouped['subject_id'], lab_events_sampled_sub_grouped['hadm_id']))\n"
   ]
  },
  {
   "cell_type": "code",
<<<<<<< HEAD
   "execution_count": 369,
=======
   "execution_count": 32,
>>>>>>> upstream/master
   "metadata": {},
   "outputs": [
    {
     "name": "stdout",
     "output_type": "stream",
     "text": [
<<<<<<< HEAD
      "CPU times: user 83.5 ms, sys: 19 ms, total: 103 ms\n",
      "Wall time: 104 ms\n"
=======
      "CPU times: user 111 ms, sys: 25.6 ms, total: 136 ms\n",
      "Wall time: 151 ms\n"
>>>>>>> upstream/master
     ]
    }
   ],
   "source": [
    "%time lab_events_sampled_pivot = lab_events_sampled_sub_grouped.pivot(index = 'new_index', columns = 'itemid', values = ['min', 'max', 'mean', 'abn_percent', 'below_min', 'above_max'])\n",
    "# 'comments', \n"
   ]
  },
  {
   "cell_type": "code",
<<<<<<< HEAD
   "execution_count": 370,
=======
   "execution_count": 33,
>>>>>>> upstream/master
   "metadata": {},
   "outputs": [
    {
     "name": "stderr",
     "output_type": "stream",
     "text": [
      "/Users/brandonryu/opt/anaconda3/lib/python3.7/site-packages/pandas/core/generic.py:3936: PerformanceWarning: dropping on a non-lexsorted multi-index without a level parameter may impact performance.\n",
      "  obj = obj._drop_axis(labels, axis, level=level, errors=errors)\n"
     ]
    }
   ],
   "source": [
    "lab_events_sampled_pivot = lab_events_sampled_pivot.reset_index()\n",
    "lab_events_sampled_pivot['subject_id'], lab_events_sampled_pivot['hadm_id'] = zip(*lab_events_sampled_pivot['new_index'])\n",
    "lab_events_sampled_pivot.drop(['new_index'], axis = 1, inplace = True)\n"
   ]
  },
  {
   "cell_type": "code",
<<<<<<< HEAD
   "execution_count": 371,
=======
   "execution_count": 34,
>>>>>>> upstream/master
   "metadata": {},
   "outputs": [
    {
     "data": {
      "text/plain": [
       "             itemid\n",
       "max          51221     299 \n",
       "above_max    51221     299 \n",
       "abn_percent  51221     299 \n",
       "below_min    51221     299 \n",
       "mean         51221     299 \n",
       "min          51221     299 \n",
       "below_min    51265     435 \n",
       "above_max    51265     435 \n",
       "abn_percent  51265     435 \n",
       "mean         51265     436 \n",
       "max          51265     436 \n",
       "min          51265     436 \n",
       "mean         51222     496 \n",
       "max          51222     496 \n",
       "abn_percent  51222     496 \n",
       "above_max    51222     496 \n",
       "min          51222     496 \n",
       "below_min    51222     496 \n",
       "max          51301     497 \n",
       "above_max    51301     497 \n",
       "below_min    51301     497 \n",
       "min          51301     497 \n",
       "mean         51301     497 \n",
       "abn_percent  51301     497 \n",
       "mean         51250     503 \n",
       "above_max    51248     503 \n",
       "             51249     503 \n",
       "below_min    51277     503 \n",
       "max          51279     503 \n",
       "mean         51279     503 \n",
       "below_min    51279     503 \n",
       "max          51250     503 \n",
       "             51249     503 \n",
       "             51248     503 \n",
       "mean         51248     503 \n",
       "             51249     503 \n",
       "min          51249     503 \n",
       "above_max    51250     503 \n",
       "min          51248     503 \n",
       "             51250     503 \n",
       "             51279     503 \n",
       "abn_percent  51279     503 \n",
       "             51277     503 \n",
       "above_max    51279     503 \n",
       "             51277     503 \n",
       "abn_percent  51250     503 \n",
       "             51248     503 \n",
       "below_min    51248     503 \n",
       "             51249     503 \n",
       "             51250     503 \n",
       "abn_percent  51249     503 \n",
       "mean         51277     504 \n",
       "min          51277     504 \n",
       "max          51277     504 \n",
       "below_min    50912     747 \n",
       "abn_percent  50912     747 \n",
       "above_max    50912     747 \n",
       "max          50912     747 \n",
       "mean         50912     747 \n",
       "min          50912     747 \n",
       "abn_percent  51006     815 \n",
       "above_max    51006     815 \n",
       "below_min    51006     815 \n",
       "mean         51006     816 \n",
       "max          51006     816 \n",
       "min          51006     816 \n",
       "mean         50971     839 \n",
       "max          50971     839 \n",
       "abn_percent  50971     839 \n",
       "above_max    50971     839 \n",
       "min          50971     839 \n",
       "below_min    50971     839 \n",
       "abn_percent  50983     883 \n",
       "above_max    50983     883 \n",
       "below_min    50983     883 \n",
       "max          50983     883 \n",
       "min          50983     883 \n",
       "mean         50983     883 \n",
       "abn_percent  50902     887 \n",
       "min          50902     887 \n",
       "below_min    50902     887 \n",
       "mean         50902     887 \n",
       "above_max    50902     887 \n",
       "max          50902     887 \n",
       "below_min    50882     937 \n",
       "min          50882     937 \n",
       "above_max    50868     937 \n",
       "             50882     937 \n",
       "below_min    50868     937 \n",
       "max          50868     937 \n",
       "min          50868     937 \n",
       "abn_percent  50868     937 \n",
       "mean         50882     937 \n",
       "             50868     937 \n",
       "max          50882     937 \n",
       "abn_percent  50882     937 \n",
       "above_max    50931     943 \n",
       "abn_percent  50931     943 \n",
       "below_min    50931     943 \n",
       "mean         50931     943 \n",
       "max          50931     943 \n",
       "min          50931     943 \n",
       "abn_percent  50960     1639\n",
       "max          50960     1639\n",
       "min          50960     1639\n",
       "below_min    50960     1639\n",
       "above_max    50960     1639\n",
       "mean         50960     1639\n",
       "abn_percent  50893     1785\n",
       "mean         50893     1785\n",
       "above_max    50893     1785\n",
       "min          50893     1785\n",
       "max          50893     1785\n",
       "below_min    50893     1785\n",
       "mean         50970     1854\n",
       "min          50970     1854\n",
       "above_max    50970     1854\n",
       "below_min    50970     1854\n",
       "max          50970     1854\n",
       "abn_percent  50970     1854\n",
       "below_min    51274     3383\n",
       "above_max    51274     3383\n",
       "abn_percent  51274     3383\n",
       "max          51274     3393\n",
       "min          51274     3393\n",
       "mean         51274     3393\n",
       "             51464     5403\n",
       "below_min    51464     5403\n",
       "min          51464     5403\n",
       "max          51464     5403\n",
       "above_max    51464     5403\n",
       "abn_percent  51464     5403\n",
       "above_max    51003     6191\n",
       "abn_percent  51003     6191\n",
       "below_min    51003     6191\n",
       "abn_percent  50911     6555\n",
       "above_max    50911     6555\n",
       "below_min    50911     6555\n",
       "max          50911     6873\n",
       "min          50911     6873\n",
       "mean         50911     6873\n",
       "             51003     7685\n",
       "max          51003     7685\n",
       "min          51003     7685\n",
       "dtype: int64"
      ]
     },
<<<<<<< HEAD
     "execution_count": 371,
=======
     "execution_count": 34,
>>>>>>> upstream/master
     "metadata": {},
     "output_type": "execute_result"
    }
   ],
   "source": [
    "missing_vals = lab_events_sampled_pivot.isnull().sum(axis = 0) \n",
    "missing_vals[missing_vals > 0].sort_values()#.head(40)"
   ]
  },
  {
   "cell_type": "markdown",
   "metadata": {},
   "source": [
    "## Start Data Imputation"
   ]
  },
  {
   "cell_type": "markdown",
   "metadata": {},
   "source": [
    "Copy table, retain original for Random Forest"
   ]
  },
  {
   "cell_type": "code",
<<<<<<< HEAD
   "execution_count": 372,
=======
   "execution_count": 35,
>>>>>>> upstream/master
   "metadata": {},
   "outputs": [],
   "source": [
    "lab_events_impute = lab_events_sampled_pivot.copy()"
   ]
  },
  {
   "cell_type": "code",
<<<<<<< HEAD
   "execution_count": 373,
=======
   "execution_count": 36,
>>>>>>> upstream/master
   "metadata": {
    "scrolled": true
   },
   "outputs": [
    {
     "data": {
      "text/html": [
       "<div>\n",
       "<style scoped>\n",
       "    .dataframe tbody tr th:only-of-type {\n",
       "        vertical-align: middle;\n",
       "    }\n",
       "\n",
       "    .dataframe tbody tr th {\n",
       "        vertical-align: top;\n",
       "    }\n",
       "\n",
       "    .dataframe thead th {\n",
       "        text-align: right;\n",
       "    }\n",
       "</style>\n",
       "<table border=\"1\" class=\"dataframe\">\n",
       "  <thead>\n",
       "    <tr style=\"text-align: right;\">\n",
       "      <th></th>\n",
       "      <th>itemid</th>\n",
       "      <th>label</th>\n",
       "      <th>fluid</th>\n",
       "      <th>category</th>\n",
       "      <th>loinc_code</th>\n",
       "    </tr>\n",
       "  </thead>\n",
       "  <tbody>\n",
       "    <tr>\n",
       "      <th>115</th>\n",
       "      <td>50868</td>\n",
       "      <td>Anion Gap</td>\n",
       "      <td>Blood</td>\n",
       "      <td>Chemistry</td>\n",
       "      <td>1863-0</td>\n",
       "    </tr>\n",
       "    <tr>\n",
       "      <th>212</th>\n",
       "      <td>50882</td>\n",
       "      <td>Bicarbonate</td>\n",
       "      <td>Blood</td>\n",
       "      <td>Chemistry</td>\n",
       "      <td>1963-8</td>\n",
       "    </tr>\n",
       "    <tr>\n",
       "      <th>222</th>\n",
       "      <td>51464</td>\n",
       "      <td>Bilirubin</td>\n",
       "      <td>Urine</td>\n",
       "      <td>Hematology</td>\n",
       "      <td>5770-3</td>\n",
       "    </tr>\n",
       "    <tr>\n",
       "      <th>282</th>\n",
       "      <td>50893</td>\n",
       "      <td>Calcium, Total</td>\n",
       "      <td>Blood</td>\n",
       "      <td>Chemistry</td>\n",
       "      <td>2000-8</td>\n",
       "    </tr>\n",
       "    <tr>\n",
       "      <th>442</th>\n",
       "      <td>50902</td>\n",
       "      <td>Chloride</td>\n",
       "      <td>Blood</td>\n",
       "      <td>Chemistry</td>\n",
       "      <td>2075-0</td>\n",
       "    </tr>\n",
       "    <tr>\n",
       "      <th>511</th>\n",
       "      <td>50911</td>\n",
       "      <td>Creatine Kinase, MB Isoenzyme</td>\n",
       "      <td>Blood</td>\n",
       "      <td>Chemistry</td>\n",
       "      <td>6773-6</td>\n",
       "    </tr>\n",
       "    <tr>\n",
       "      <th>512</th>\n",
       "      <td>50912</td>\n",
       "      <td>Creatinine</td>\n",
       "      <td>Blood</td>\n",
       "      <td>Chemistry</td>\n",
       "      <td>2160-0</td>\n",
       "    </tr>\n",
       "    <tr>\n",
       "      <th>723</th>\n",
       "      <td>50931</td>\n",
       "      <td>Glucose</td>\n",
       "      <td>Blood</td>\n",
       "      <td>Chemistry</td>\n",
       "      <td>6777-7</td>\n",
       "    </tr>\n",
       "    <tr>\n",
       "      <th>761</th>\n",
       "      <td>51221</td>\n",
       "      <td>Hematocrit</td>\n",
       "      <td>Blood</td>\n",
       "      <td>Hematology</td>\n",
       "      <td>4544-3</td>\n",
       "    </tr>\n",
       "    <tr>\n",
       "      <th>771</th>\n",
       "      <td>51222</td>\n",
       "      <td>Hemoglobin</td>\n",
       "      <td>Blood</td>\n",
       "      <td>Hematology</td>\n",
       "      <td>718-7</td>\n",
       "    </tr>\n",
       "    <tr>\n",
       "      <th>1008</th>\n",
       "      <td>50960</td>\n",
       "      <td>Magnesium</td>\n",
       "      <td>Blood</td>\n",
       "      <td>Chemistry</td>\n",
       "      <td>2601-3</td>\n",
       "    </tr>\n",
       "    <tr>\n",
       "      <th>1013</th>\n",
       "      <td>51248</td>\n",
       "      <td>MCH</td>\n",
       "      <td>Blood</td>\n",
       "      <td>Hematology</td>\n",
       "      <td>785-6</td>\n",
       "    </tr>\n",
       "    <tr>\n",
       "      <th>1014</th>\n",
       "      <td>51249</td>\n",
       "      <td>MCHC</td>\n",
       "      <td>Blood</td>\n",
       "      <td>Hematology</td>\n",
       "      <td>786-4</td>\n",
       "    </tr>\n",
       "    <tr>\n",
       "      <th>1016</th>\n",
       "      <td>51250</td>\n",
       "      <td>MCV</td>\n",
       "      <td>Blood</td>\n",
       "      <td>Hematology</td>\n",
       "      <td>787-2</td>\n",
       "    </tr>\n",
       "    <tr>\n",
       "      <th>1189</th>\n",
       "      <td>50970</td>\n",
       "      <td>Phosphate</td>\n",
       "      <td>Blood</td>\n",
       "      <td>Chemistry</td>\n",
       "      <td>2777-1</td>\n",
       "    </tr>\n",
       "    <tr>\n",
       "      <th>1211</th>\n",
       "      <td>51265</td>\n",
       "      <td>Platelet Count</td>\n",
       "      <td>Blood</td>\n",
       "      <td>Hematology</td>\n",
       "      <td>777-3</td>\n",
       "    </tr>\n",
       "    <tr>\n",
       "      <th>1233</th>\n",
       "      <td>50971</td>\n",
       "      <td>Potassium</td>\n",
       "      <td>Blood</td>\n",
       "      <td>Chemistry</td>\n",
       "      <td>2823-3</td>\n",
       "    </tr>\n",
       "    <tr>\n",
       "      <th>1279</th>\n",
       "      <td>51274</td>\n",
       "      <td>PT</td>\n",
       "      <td>Blood</td>\n",
       "      <td>Hematology</td>\n",
       "      <td>5902-2</td>\n",
       "    </tr>\n",
       "    <tr>\n",
       "      <th>1307</th>\n",
       "      <td>51277</td>\n",
       "      <td>RDW</td>\n",
       "      <td>Blood</td>\n",
       "      <td>Hematology</td>\n",
       "      <td>788-0</td>\n",
       "    </tr>\n",
       "    <tr>\n",
       "      <th>1312</th>\n",
       "      <td>51279</td>\n",
       "      <td>Red Blood Cells</td>\n",
       "      <td>Blood</td>\n",
       "      <td>Hematology</td>\n",
       "      <td>789-8</td>\n",
       "    </tr>\n",
       "    <tr>\n",
       "      <th>1373</th>\n",
       "      <td>50983</td>\n",
       "      <td>Sodium</td>\n",
       "      <td>Blood</td>\n",
       "      <td>Chemistry</td>\n",
       "      <td>2951-2</td>\n",
       "    </tr>\n",
       "    <tr>\n",
       "      <th>1494</th>\n",
       "      <td>51003</td>\n",
       "      <td>Troponin T</td>\n",
       "      <td>Blood</td>\n",
       "      <td>Chemistry</td>\n",
       "      <td>6598-7</td>\n",
       "    </tr>\n",
       "    <tr>\n",
       "      <th>1506</th>\n",
       "      <td>51006</td>\n",
       "      <td>Urea Nitrogen</td>\n",
       "      <td>Blood</td>\n",
       "      <td>Chemistry</td>\n",
       "      <td>3094-0</td>\n",
       "    </tr>\n",
       "    <tr>\n",
       "      <th>1598</th>\n",
       "      <td>51301</td>\n",
       "      <td>White Blood Cells</td>\n",
       "      <td>Blood</td>\n",
       "      <td>Hematology</td>\n",
       "      <td>804-5</td>\n",
       "    </tr>\n",
       "  </tbody>\n",
       "</table>\n",
       "</div>"
      ],
      "text/plain": [
       "      itemid                          label  fluid    category loinc_code\n",
       "115   50868   Anion Gap                      Blood  Chemistry   1863-0   \n",
       "212   50882   Bicarbonate                    Blood  Chemistry   1963-8   \n",
       "222   51464   Bilirubin                      Urine  Hematology  5770-3   \n",
       "282   50893   Calcium, Total                 Blood  Chemistry   2000-8   \n",
       "442   50902   Chloride                       Blood  Chemistry   2075-0   \n",
       "511   50911   Creatine Kinase, MB Isoenzyme  Blood  Chemistry   6773-6   \n",
       "512   50912   Creatinine                     Blood  Chemistry   2160-0   \n",
       "723   50931   Glucose                        Blood  Chemistry   6777-7   \n",
       "761   51221   Hematocrit                     Blood  Hematology  4544-3   \n",
       "771   51222   Hemoglobin                     Blood  Hematology  718-7    \n",
       "1008  50960   Magnesium                      Blood  Chemistry   2601-3   \n",
       "1013  51248   MCH                            Blood  Hematology  785-6    \n",
       "1014  51249   MCHC                           Blood  Hematology  786-4    \n",
       "1016  51250   MCV                            Blood  Hematology  787-2    \n",
       "1189  50970   Phosphate                      Blood  Chemistry   2777-1   \n",
       "1211  51265   Platelet Count                 Blood  Hematology  777-3    \n",
       "1233  50971   Potassium                      Blood  Chemistry   2823-3   \n",
       "1279  51274   PT                             Blood  Hematology  5902-2   \n",
       "1307  51277   RDW                            Blood  Hematology  788-0    \n",
       "1312  51279   Red Blood Cells                Blood  Hematology  789-8    \n",
       "1373  50983   Sodium                         Blood  Chemistry   2951-2   \n",
       "1494  51003   Troponin T                     Blood  Chemistry   6598-7   \n",
       "1506  51006   Urea Nitrogen                  Blood  Chemistry   3094-0   \n",
       "1598  51301   White Blood Cells              Blood  Hematology  804-5    "
      ]
     },
<<<<<<< HEAD
     "execution_count": 373,
=======
     "execution_count": 36,
>>>>>>> upstream/master
     "metadata": {},
     "output_type": "execute_result"
    }
   ],
   "source": [
    "d_labitems[d_labitems['itemid'].isin(itemid_sub_sample)]"
   ]
  },
  {
   "cell_type": "code",
   "execution_count": null,
   "metadata": {},
   "outputs": [],
   "source": []
  },
  {
   "cell_type": "code",
<<<<<<< HEAD
   "execution_count": 374,
=======
   "execution_count": 37,
>>>>>>> upstream/master
   "metadata": {},
   "outputs": [
    {
     "name": "stderr",
     "output_type": "stream",
     "text": [
      "/Users/brandonryu/opt/anaconda3/lib/python3.7/site-packages/pandas/core/reshape/merge.py:618: UserWarning: merging between different levels can give an unintended result (2 levels on the left, 1 on the right)\n",
      "  warnings.warn(msg, UserWarning)\n"
     ]
    }
   ],
   "source": [
    "lab_events_impute = lab_events_impute.merge(admissions_sample, left_on = 'hadm_id', right_on = 'hadm_id')"
   ]
  },
  {
   "cell_type": "code",
<<<<<<< HEAD
   "execution_count": 375,
=======
   "execution_count": 38,
>>>>>>> upstream/master
   "metadata": {},
   "outputs": [
    {
     "name": "stderr",
     "output_type": "stream",
     "text": [
      "/Users/brandonryu/opt/anaconda3/lib/python3.7/site-packages/ipykernel_launcher.py:20: SettingWithCopyWarning: \n",
      "A value is trying to be set on a copy of a slice from a DataFrame\n",
      "\n",
      "See the caveats in the documentation: https://pandas.pydata.org/pandas-docs/stable/user_guide/indexing.html#returning-a-view-versus-a-copy\n",
      "/Users/brandonryu/opt/anaconda3/lib/python3.7/site-packages/ipykernel_launcher.py:21: SettingWithCopyWarning: \n",
      "A value is trying to be set on a copy of a slice from a DataFrame\n",
      "\n",
      "See the caveats in the documentation: https://pandas.pydata.org/pandas-docs/stable/user_guide/indexing.html#returning-a-view-versus-a-copy\n",
      "/Users/brandonryu/opt/anaconda3/lib/python3.7/site-packages/ipykernel_launcher.py:22: SettingWithCopyWarning: \n",
      "A value is trying to be set on a copy of a slice from a DataFrame\n",
      "\n",
      "See the caveats in the documentation: https://pandas.pydata.org/pandas-docs/stable/user_guide/indexing.html#returning-a-view-versus-a-copy\n"
     ]
    },
    {
     "name": "stdout",
     "output_type": "stream",
     "text": [
<<<<<<< HEAD
      "CPU times: user 14.6 s, sys: 122 ms, total: 14.8 s\n",
      "Wall time: 14.9 s\n"
=======
      "CPU times: user 4.9 s, sys: 88.5 ms, total: 4.99 s\n",
      "Wall time: 5.35 s\n"
>>>>>>> upstream/master
     ]
    }
   ],
   "source": [
    "%%time\n",
    "\n",
    "np.random.seed(0)\n",
    "\n",
    "for labitem in lab_range_eg_dic:\n",
    "    for ind in lab_events_impute.loc[(lab_events_impute[('mean', labitem[0])].isnull()) & (lab_events_impute['ethnicity'] == labitem[1]) & (lab_events_impute['gender'] == labitem[2])].index:\n",
    "        val_max = lab_range_eg_dic[labitem][1]\n",
    "        val_min = lab_range_eg_dic[labitem][0]\n",
    "\n",
    "        val_ave = (val_max + val_min) / 2\n",
    "        val_std = (val_max - val_ave) * .333\n",
    "\n",
    "        ran_vals = np.random.normal(val_ave, val_std, 50)\n",
    "        impute_min = min(ran_vals)\n",
    "        impute_max = max(ran_vals)\n",
    "        impute_mean = np.mean(ran_vals)\n",
    "        \n",
    "        val_min = lab_events_impute[('min', labitem[0])][ind]\n",
    "        val_max = lab_events_impute[('max', labitem[0])][ind]\n",
    "        val_mean = lab_events_impute[('mean', labitem[0])][ind]\n",
    "        \n",
    "        lab_events_impute[('min', labitem[0])][ind] = np.where(np.isnan(val_min), impute_min, val_min)\n",
    "        lab_events_impute[('max', labitem[0])][ind] = np.where(np.isnan(val_max), impute_max, val_max)\n",
    "        lab_events_impute[('mean', labitem[0])][ind] = np.where(np.isnan(val_mean), impute_mean, val_mean)\n",
    "#         patient[('mean', labitem)].replace(np.nan, impute_mean)\n",
    "#         patient[('abn_count', labitem)].replace(np.nan, 0)\n",
    "# 5k patients\n",
    "# 10 items - 2.5s\n",
    "# 20 items - 6s\n",
    "# 30 items - 28.6s\n",
    "\n",
    "# 10k patients\n",
    "# 40 items - 1m 34s"
   ]
  },
  {
   "cell_type": "code",
<<<<<<< HEAD
   "execution_count": 376,
=======
   "execution_count": 39,
>>>>>>> upstream/master
   "metadata": {},
   "outputs": [],
   "source": [
    "for lab_itemid in lab_range_eg_dic:\n",
    "    lab_events_impute[( 'above_max', lab_itemid[0])] = lab_events_impute[( 'above_max', lab_itemid[0])].replace(np.nan, 0)\n",
    "    lab_events_impute[( 'below_min', lab_itemid[0])] = lab_events_impute[( 'below_min', lab_itemid[0])].replace(np.nan, 0)\n",
    "    lab_events_impute[( 'abn_percent', lab_itemid[0])] = lab_events_impute[( 'abn_percent', lab_itemid[0])].replace(np.nan, 0)\n",
    "#     lab_events_sampled_pivot[( 'comments', lab_itemid)] = lab_events_sampled_pivot[( 'comments', lab_itemid)].replace(np.nan, np.array(np.nan))\n"
   ]
  },
  {
   "cell_type": "code",
<<<<<<< HEAD
   "execution_count": 377,
=======
   "execution_count": 40,
>>>>>>> upstream/master
   "metadata": {},
   "outputs": [
    {
     "data": {
      "text/plain": [
       "Series([], dtype: int64)"
      ]
     },
<<<<<<< HEAD
     "execution_count": 377,
=======
     "execution_count": 40,
>>>>>>> upstream/master
     "metadata": {},
     "output_type": "execute_result"
    }
   ],
   "source": [
    "missing_vals = lab_events_impute.isnull().sum(axis = 0) \n",
    "missing_vals[missing_vals > 0].sort_values()"
   ]
  },
  {
   "cell_type": "code",
<<<<<<< HEAD
   "execution_count": 378,
=======
   "execution_count": 41,
>>>>>>> upstream/master
   "metadata": {},
   "outputs": [],
   "source": [
    "lab_events_impute_KNN = lab_events_sampled_pivot.copy()"
   ]
  },
  {
   "cell_type": "code",
<<<<<<< HEAD
   "execution_count": 379,
=======
   "execution_count": 42,
>>>>>>> upstream/master
   "metadata": {},
   "outputs": [],
   "source": [
    "lab_events_impute_KNN = lab_events_impute_KNN.merge(admissions_sample, left_on = 'hadm_id', right_on = 'hadm_id')\n",
    "\n",
    "dummy = pd.get_dummies(lab_events_impute_KNN['ethnicity'], prefix='ethnicity')\n",
    "dummy.drop('ethnicity_WHITE', axis=1, inplace=True)\n",
    "lab_events_impute_KNN = lab_events_impute_KNN.drop('ethnicity', axis=1)\n",
    "lab_events_impute_KNN = pd.concat([lab_events_impute_KNN, dummy], axis=1)\n",
    "\n",
    "lab_events_impute_KNN['gender'] = lab_events_impute_KNN['gender'].map({'M' : 0.0, 'F' : 1.0})\n",
    "lab_events_impute_KNN['gender'] = pd.to_numeric(lab_events_impute_KNN['gender'])\n"
   ]
  },
  {
   "cell_type": "code",
<<<<<<< HEAD
   "execution_count": null,
   "metadata": {},
   "outputs": [],
=======
   "execution_count": 43,
   "metadata": {},
   "outputs": [
    {
     "name": "stdout",
     "output_type": "stream",
     "text": [
      "CPU times: user 13.3 s, sys: 2.24 s, total: 15.6 s\n",
      "Wall time: 16.5 s\n"
     ]
    }
   ],
>>>>>>> upstream/master
   "source": [
    "%%time\n",
    "\n",
    "from sklearn.impute import KNNImputer\n",
    "imputer = KNNImputer(n_neighbors=math.trunc((lab_events_impute_KNN.shape[0] ** 0.5)))\n",
    "lab_events_impute_KNN_imputed = imputer.fit_transform(lab_events_impute_KNN)\n",
    "\n",
    "# 3min 8s"
   ]
  },
  {
   "cell_type": "code",
<<<<<<< HEAD
   "execution_count": null,
=======
   "execution_count": 44,
>>>>>>> upstream/master
   "metadata": {
    "scrolled": true
   },
   "outputs": [],
   "source": [
    "lab_events_impute_KNN_imputed = pd.DataFrame(lab_events_impute_KNN_imputed)\n",
    "lab_events_impute_KNN_imputed.columns = lab_events_impute_KNN.columns"
   ]
  },
  {
   "cell_type": "code",
<<<<<<< HEAD
   "execution_count": null,
=======
   "execution_count": 45,
>>>>>>> upstream/master
   "metadata": {},
   "outputs": [],
   "source": [
    "for lab_itemid in lab_range_eg_dic:\n",
    "    lab_events_impute_KNN_imputed[( 'above_max', lab_itemid[0])] = lab_events_impute_KNN_imputed[( 'above_max', lab_itemid[0])].replace(np.nan, 0)\n",
    "    lab_events_impute_KNN_imputed[( 'below_min', lab_itemid[0])] = lab_events_impute_KNN_imputed[( 'below_min', lab_itemid[0])].replace(np.nan, 0)\n",
    "    lab_events_impute_KNN_imputed[( 'abn_percent', lab_itemid[0])] = lab_events_impute_KNN_imputed[( 'abn_percent', lab_itemid[0])].replace(np.nan, 0)\n",
    "#     lab_events_sampled_pivot[( 'comments', lab_itemid)] = lab_events_sampled_pivot[( 'comments', lab_itemid)].replace(np.nan, np.array(np.nan))\n"
   ]
  },
  {
   "cell_type": "markdown",
   "metadata": {},
   "source": [
    "## Standardize the Data for use in Models"
   ]
  },
  {
   "cell_type": "code",
<<<<<<< HEAD
   "execution_count": null,
=======
   "execution_count": 46,
>>>>>>> upstream/master
   "metadata": {},
   "outputs": [],
   "source": [
    "from sklearn.preprocessing import StandardScaler\n",
    "\n",
    "scaler = StandardScaler()"
   ]
  },
  {
   "cell_type": "code",
<<<<<<< HEAD
   "execution_count": null,
=======
   "execution_count": 47,
>>>>>>> upstream/master
   "metadata": {},
   "outputs": [],
   "source": [
    "labs_scaled = lab_events_impute.copy()\n",
    "labs_scaled_KNN = lab_events_impute_KNN_imputed.copy()\n",
    "labs_scaled_missing_data = lab_events_sampled_pivot.copy()"
   ]
  },
  {
   "cell_type": "code",
<<<<<<< HEAD
   "execution_count": null,
   "metadata": {},
   "outputs": [],
=======
   "execution_count": 48,
   "metadata": {},
   "outputs": [
    {
     "name": "stderr",
     "output_type": "stream",
     "text": [
      "/Users/brandonryu/opt/anaconda3/lib/python3.7/site-packages/pandas/core/reshape/merge.py:618: UserWarning: merging between different levels can give an unintended result (2 levels on the left, 1 on the right)\n",
      "  warnings.warn(msg, UserWarning)\n"
     ]
    }
   ],
>>>>>>> upstream/master
   "source": [
    "labs_scaled_missing_data = labs_scaled_missing_data.merge(admissions_sample, how='left', left_on='hadm_id', right_on='hadm_id')"
   ]
  },
  {
   "cell_type": "code",
<<<<<<< HEAD
   "execution_count": null,
=======
   "execution_count": 49,
>>>>>>> upstream/master
   "metadata": {},
   "outputs": [],
   "source": [
    "scale_cols = ~labs_scaled.columns.isin([('subject_id', ''), ('hadm_id', ''), 'subject_id', 'hadm_id', 'pos', 'ethnicity', 'gender'])\n",
    "\n",
    "scaler.fit(labs_scaled.loc[:, scale_cols])\n",
    "labs_scaled.loc[:, scale_cols] = scaler.transform(labs_scaled.loc[:, scale_cols])\n",
    "\n",
    "scale_cols = ~labs_scaled_KNN.columns.isin([('subject_id', ''), ('hadm_id', ''), 'subject_id', 'hadm_id', 'pos', 'gender', 'ethnicity_AMERICAN INDIAN/ALASKA NATIVE', 'ethnicity_ASIAN', 'ethnicity_BLACK/AFRICAN AMERICAN', 'ethnicity_HISPANIC/LATINO', 'ethnicity_OTHER', 'ethnicity_UNKNOWN'])\n",
    "\n",
    "scaler.fit(labs_scaled_KNN.loc[:, scale_cols])\n",
    "labs_scaled_KNN.loc[:, scale_cols] = scaler.transform(labs_scaled_KNN.loc[:, scale_cols])\n",
    "\n",
    "scale_cols = ~labs_scaled_missing_data.columns.isin([('subject_id', ''), ('hadm_id', ''), 'subject_id', 'hadm_id', 'pos', 'ethnicity', 'gender'])\n",
    "\n",
    "scaler.fit(labs_scaled_missing_data.loc[:, scale_cols])\n",
    "labs_scaled_missing_data.loc[:, scale_cols] = scaler.transform(labs_scaled_missing_data.loc[:, scale_cols])\n"
   ]
  },
  {
   "cell_type": "markdown",
   "metadata": {},
   "source": [
    "## Save Lab Results for Models"
   ]
  },
  {
   "cell_type": "code",
<<<<<<< HEAD
   "execution_count": null,
=======
   "execution_count": 50,
>>>>>>> upstream/master
   "metadata": {},
   "outputs": [],
   "source": [
    "# Save non-imputed file as well for forest models\n",
    "\n",
    "pos_final_test = labs_scaled.copy()\n",
    "pos_KNN_final_test = labs_scaled_KNN.copy()\n",
    "pos_final_missing_data_test = labs_scaled_missing_data.copy()\n"
   ]
  },
  {
   "cell_type": "code",
<<<<<<< HEAD
   "execution_count": null,
=======
   "execution_count": 51,
>>>>>>> upstream/master
   "metadata": {},
   "outputs": [],
   "source": [
    "dummy = pd.get_dummies(pos_final_test['ethnicity'], prefix='ethnicity')\n",
    "dummy.drop('ethnicity_WHITE', axis=1, inplace=True)\n",
    "pos_final_test = pos_final_test.drop('ethnicity', axis=1)\n",
    "pos_final_test = pd.concat([pos_final_test, dummy], axis=1)\n",
    "\n",
    "pos_final_test['gender'] = pos_final_test['gender'].map({'M' : 0.0, 'F' : 1.0})\n",
    "pos_final_test['gender'] = pd.to_numeric(pos_final_test['gender'])\n",
    "\n",
    "\n",
    "\n",
    "dummy = pd.get_dummies(pos_final_missing_data_test['ethnicity'], prefix='ethnicity')\n",
    "dummy.drop('ethnicity_WHITE', axis=1, inplace=True)\n",
    "pos_final_missing_data_test = pos_final_missing_data_test.drop('ethnicity', axis=1)\n",
    "pos_final_missing_data_test = pd.concat([pos_final_missing_data_test, dummy], axis=1)\n",
    "\n",
    "pos_final_missing_data_test['gender'] = pos_final_missing_data_test['gender'].map({'M' : 0.0, 'F' : 1.0})\n",
    "pos_final_missing_data_test['gender'] = pd.to_numeric(pos_final_missing_data_test['gender'])"
   ]
  },
  {
   "cell_type": "code",
<<<<<<< HEAD
   "execution_count": null,
   "metadata": {},
   "outputs": [],
   "source": [
    "labitem_names = d_labitems.loc[d_labitems['itemid'].isin(itemid_sub_sample)].copy()\n",
    "labitem_names['Short Name'] = labitem_names['label'] + ' - ' + labitem_names['fluid'] + ' - ' + labitem_names['category']\n",
    "\n",
    "labitem_names = labitem_names[['itemid', 'Short Name']]\n",
    "labitem_names.set_index('itemid', inplace = True)\n",
    "labitem_dict = labitem_names.to_dict()['Short Name']\n"
   ]
  },
  {
   "cell_type": "code",
   "execution_count": null,
   "metadata": {},
   "outputs": [],
   "source": [
    "def rename_lab_col(table_name):\n",
    "    num_cols = ~table_name.columns.isin([('subject_id', ''), ('hadm_id', ''), 'subject_id', 'hadm_id', 'pos', 'gender', 'ethnicity_AMERICAN INDIAN/ALASKA NATIVE', 'ethnicity_ASIAN', 'ethnicity_BLACK/AFRICAN AMERICAN', 'ethnicity_HISPANIC/LATINO', 'ethnicity_OTHER', 'ethnicity_UNKNOWN', 'age'])\n",
    "\n",
    "    col_names = []\n",
    "    col_names = list(table_name.loc[:, num_cols].columns)\n",
    "\n",
    "    x, y = zip(*col_names)\n",
    "    col_names = list(zip(x, list(map(labitem_dict.get, y))))\n",
    "\n",
    "    rename_dict = dict(zip(table_name.loc[:, num_cols].columns, col_names))\n",
    "\n",
    "    table_name.rename(columns = rename_dict, inplace = True)\n"
   ]
  },
  {
   "cell_type": "code",
   "execution_count": null,
   "metadata": {},
   "outputs": [],
   "source": [
    "rename_lab_col(pos_final_test)\n",
    "rename_lab_col(pos_KNN_final_test)\n",
    "rename_lab_col(pos_final_missing_data_test)"
   ]
  },
  {
   "cell_type": "code",
   "execution_count": null,
=======
   "execution_count": 53,
>>>>>>> upstream/master
   "metadata": {},
   "outputs": [],
   "source": [
    "pos_final_test.to_csv('./data/pos_final_test.csv.gz', compression=\"gzip\")\n",
    "pos_KNN_final_test.to_csv('./data/pos_KNN_final_test.csv.gz', compression=\"gzip\")\n",
    "pos_final_missing_data_test.to_csv('./data/pos_final_missing_data_test.csv.gz', compression=\"gzip\")\n"
   ]
  },
  {
   "cell_type": "markdown",
   "metadata": {},
   "source": [
    "## Check for Multicollinearity"
   ]
  },
  {
   "cell_type": "code",
   "execution_count": null,
   "metadata": {},
   "outputs": [],
   "source": [
    "from statsmodels.stats.outliers_influence import variance_inflation_factor\n",
    "from statsmodels.tools.tools import add_constant"
   ]
  },
  {
   "cell_type": "code",
   "execution_count": null,
   "metadata": {},
   "outputs": [],
   "source": [
    "%%time\n",
    "\n",
    "num_cols = ~labs_scaled.columns.isin([('subject_id', ''), ('hadm_id', ''), 'subject_id', 'hadm_id', 'pos', 'gender', 'ethnicity', 'age'])\n",
    "\n",
    "labs_scaled_features = labs_scaled.loc[:, num_cols]\n",
    "add_constant(labs_scaled_features)\n",
    "\n",
    "high_vif = pd.Series([variance_inflation_factor(labs_scaled_features.values, i) \n",
    "               for i in range(labs_scaled_features.shape[1])], \n",
    "              index=labs_scaled_features.columns).sort_values(ascending = False)\n",
    "\n",
    "high_vif.head(20)\n"
   ]
  },
  {
   "cell_type": "code",
   "execution_count": null,
   "metadata": {},
   "outputs": [],
   "source": [
    "labs_scaled_features_limited = labs_scaled_features.copy()\n",
    "\n",
    "labs_scaled_features_limited.drop([('max', 50931),\n",
    "                                   ('mean', 51222),\n",
    "                                   ('max', 50912),\n",
    "                                   ('min', 51221),\n",
    "                                   ('mean', 50912),\n",
    "                                   ('mean', 51265),\n",
    "                                   ('max', 51006),\n",
    "                                   ('mean', 51221)], axis = 1, inplace = True)\n",
    "\n",
    "# # Top 40 labs\n",
    "# labs_scaled_features_limited.drop([('above_max', 51484),\n",
    "#                                   ('above_max', 51478),\n",
    "#                                   ('above_max', 51466),\n",
    "#                                   ('above_max', 51464),\n",
    "#                                   ('max', 51003),\n",
    "#                                   ('max', 50878),\n",
    "#                                   ('max', 50861),\n",
    "#                                   ('max', 51237),\n",
    "#                                   ('mean', 51248),\n",
    "#                                   ('max', 50931),\n",
    "#                                   ('mean', 51222),\n",
    "#                                   ('max', 51274),\n",
    "#                                   ('mean', 51279),\n",
    "#                                   ('mean', 51274),\n",
    "#                                   ('mean', 51478),\n",
    "#                                   ('mean', 50885),\n",
    "#                                   ('mean', 51250),\n",
    "#                                   ('max', 50911),\n",
    "#                                   ('mean', 51003),\n",
    "#                                   ('mean', 51466),\n",
    "#                                   ('mean', 51484),\n",
    "#                                   ('mean', 51486),\n",
    "#                                   ('mean', 51277),\n",
    "#                                   ('mean', 51221),\n",
    "#                                   ('max', 50912),\n",
    "#                                   ('max', 51275),\n",
    "#                                   ('mean', 51492),\n",
    "#                                   ('mean', 51514),\n",
    "#                                   ('mean', 51006),\n",
    "#                                   ('min', 51222),\n",
    "#                                   ('max', 50960),\n",
    "#                                   ('mean', 51249),\n",
    "#                                   ('max', 50885),\n",
    "#                                   ('mean', 51506),\n",
    "#                                   ('max', 51248),\n",
    "#                                   ('min', 51279),\n",
    "#                                   ('mean', 50912),\n",
    "#                                   ('mean', 51265),\n",
    "#                                   ('mean', 51464),\n",
    "#                                   ('min', 51248),\n",
    "#                                   ('max', 51222),\n",
    "#                                   ('max', 51301),\n",
    "#                                   ('mean', 51487),\n",
    "#                                   ('below_min', 51222),\n",
    "#                                   ('max', 51006),\n",
    "#                                   ('mean', 50902),\n",
    "#                                   ('mean', 50911),\n",
    "#                                   ('above_max', 50861),\n",
    "#                                   ('mean', 50882),\n",
    "#                                   ('below_min', 51279),\n",
    "#                                   ('abn_percent', 51274),\n",
    "#                                   ('mean', 51301),\n",
    "#                                   ('mean', 50893),\n",
    "#                                   ('max', 50863),\n",
    "#                                   ('min', 51250),\n",
    "#                                   ('mean', 50983),\n",
    "#                                   ('mean', 50868),\n",
    "#                                   ('mean', 50970),\n",
    "#                                   ('mean', 51237),\n",
    "#                                   ('mean', 50971),\n",
    "#                                   ('mean', 51498),\n",
    "#                                   ('mean', 51491),\n",
    "#                                   ('max', 51277),\n",
    "#                                   ('mean', 50878),\n",
    "#                                   ('above_max', 51237),\n",
    "#                                   ('mean', 51275),\n",
    "#                                   ('min', 51221),\n",
    "#                                   ('max', 51279),\n",
    "#                                   ('below_min', 51248),\n",
    "#                                   ('min', 50902),\n",
    "#                                   ('mean', 50863),\n",
    "#                                   ('mean', 50931),\n",
    "#                                   ('max', 50902),\n",
    "#                                   ('below_min', 51514),\n",
    "#                                   ('max', 51466),\n",
    "#                                   ('min', 50893),\n",
    "#                                   ('above_max', 50912),\n",
    "#                                   ('max', 51265),\n",
    "#                                   ('min', 50882),\n",
    "#                                   ('max', 50970),\n",
    "#                                   ('mean', 50960),\n",
    "#                                   ('min', 51249),\n",
    "#                                   ('min', 50983),\n",
    "#                                   ('min', 51237),\n",
    "#                                   ('above_max', 51003),\n",
    "#                                   ('above_max', 50885),\n",
    "#                                   ('abn_percent', 51466),\n",
    "#                                   ('max', 51486)], axis = 1, inplace = True)\n"
   ]
  },
  {
   "cell_type": "code",
   "execution_count": null,
   "metadata": {},
   "outputs": [],
   "source": [
    "%%time\n",
    "\n",
    "high_vif = pd.Series([variance_inflation_factor(labs_scaled_features_limited.values, i) \n",
    "               for i in range(labs_scaled_features_limited.shape[1])], \n",
    "              index=labs_scaled_features_limited.columns).sort_values(ascending = False)\n",
    "\n",
    "high_vif.head(20)\n"
   ]
  },
  {
   "cell_type": "code",
<<<<<<< HEAD
=======
   "execution_count": null,
   "metadata": {},
   "outputs": [],
   "source": [
    "num_cols = ~pos_final_test.columns.isin([('subject_id', ''), ('hadm_id', ''), 'subject_id', 'hadm_id', 'pos', 'gender', 'ethnicity_AMERICAN INDIAN/ALASKA NATIVE', 'ethnicity_ASIAN', 'ethnicity_BLACK/AFRICAN AMERICAN', 'ethnicity_HISPANIC/LATINO', 'ethnicity_OTHER', 'ethnicity_UNKNOWN', 'age'])\n",
    "\n",
    "col_names = []\n",
    "col_names = list(pos_final_test.loc[:, num_cols].columns)\n",
    "\n",
    "x, y = zip(*col_names)\n",
    "col_names = list(zip(x, list(map(labitem_dict.get, y))))\n",
    "# pos_final_test.loc[:, num_cols].columns = col_names\n",
    "type(pos_final_test.loc[:, num_cols].columns)\n",
    "\n",
    "# col_names\n"
   ]
  },
  {
   "cell_type": "code",
   "execution_count": null,
   "metadata": {},
   "outputs": [],
   "source": [
    "labitem_names = d_labitems.loc[d_labitems['itemid'].isin(itemid_sub_sample)].copy()\n",
    "labitem_names['Short Name'] = labitem_names['label'] + ' - ' + labitem_names['fluid'] + ' - ' + labitem_names['category']\n",
    "\n",
    "labitem_names = labitem_names[['itemid', 'Short Name']]\n",
    "labitem_names.set_index('itemid', inplace = True)\n",
    "labitem_dict = labitem_names.to_dict()['Short Name']\n",
    "labitem_dict\n"
   ]
  },
  {
   "cell_type": "code",
   "execution_count": null,
   "metadata": {},
   "outputs": [],
   "source": []
  },
  {
   "cell_type": "code",
   "execution_count": null,
   "metadata": {},
   "outputs": [],
   "source": []
  },
  {
   "cell_type": "code",
>>>>>>> upstream/master
   "execution_count": null,
   "metadata": {},
   "outputs": [],
   "source": []
  }
 ],
 "metadata": {
  "kernelspec": {
   "display_name": "Python 3",
   "language": "python",
   "name": "python3"
  },
  "language_info": {
   "codemirror_mode": {
    "name": "ipython",
    "version": 3
   },
   "file_extension": ".py",
   "mimetype": "text/x-python",
   "name": "python",
   "nbconvert_exporter": "python",
   "pygments_lexer": "ipython3",
   "version": "3.7.6"
  }
 },
 "nbformat": 4,
 "nbformat_minor": 4
}
